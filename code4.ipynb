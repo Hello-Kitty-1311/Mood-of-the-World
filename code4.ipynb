{
  "nbformat": 4,
  "nbformat_minor": 0,
  "metadata": {
    "colab": {
      "provenance": [],
      "collapsed_sections": [
        "NwbnEPFwdbDO"
      ]
    },
    "kernelspec": {
      "name": "python3",
      "display_name": "Python 3"
    },
    "language_info": {
      "name": "python"
    }
  },
  "cells": [
    {
      "cell_type": "markdown",
      "source": [
        "# Global Tweet Sentiment Analysis - Mood of the World { HTML Report }"
      ],
      "metadata": {
        "id": "pCtiLheWdLTS"
      }
    },
    {
      "cell_type": "markdown",
      "source": [
        "# Install Required Packages"
      ],
      "metadata": {
        "id": "Jl2PbgOKdUia"
      }
    },
    {
      "cell_type": "code",
      "execution_count": 1,
      "metadata": {
        "id": "qsXufA_7XySO",
        "colab": {
          "base_uri": "https://localhost:8080/"
        },
        "outputId": "120b3f39-ab72-4996-bc5b-4ae685666bf4"
      },
      "outputs": [
        {
          "output_type": "stream",
          "name": "stdout",
          "text": [
            "[nltk_data] Downloading package brown to /root/nltk_data...\n",
            "[nltk_data]   Unzipping corpora/brown.zip.\n",
            "[nltk_data] Downloading package punkt_tab to /root/nltk_data...\n",
            "[nltk_data]   Unzipping tokenizers/punkt_tab.zip.\n",
            "[nltk_data] Downloading package wordnet to /root/nltk_data...\n",
            "[nltk_data] Downloading package averaged_perceptron_tagger_eng to\n",
            "[nltk_data]     /root/nltk_data...\n",
            "[nltk_data]   Unzipping taggers/averaged_perceptron_tagger_eng.zip.\n",
            "[nltk_data] Downloading package conll2000 to /root/nltk_data...\n",
            "[nltk_data]   Unzipping corpora/conll2000.zip.\n",
            "[nltk_data] Downloading package movie_reviews to /root/nltk_data...\n",
            "[nltk_data]   Unzipping corpora/movie_reviews.zip.\n",
            "Finished.\n"
          ]
        }
      ],
      "source": [
        "!pip install tweepy textblob plotly pandas numpy wordcloud matplotlib seaborn python-dotenv scikit-learn --quiet\n",
        "!python -m textblob.download_corpora"
      ]
    },
    {
      "cell_type": "markdown",
      "source": [
        "# Import Libraries"
      ],
      "metadata": {
        "id": "NwbnEPFwdbDO"
      }
    },
    {
      "cell_type": "code",
      "source": [
        "import tweepy\n",
        "import pandas as pd\n",
        "import numpy as np\n",
        "from textblob import TextBlob\n",
        "import plotly.express as px\n",
        "import plotly.graph_objects as go\n",
        "from plotly.subplots import make_subplots\n",
        "import plotly.offline as pyo\n",
        "from datetime import datetime, timedelta\n",
        "import re\n",
        "import random\n",
        "import json\n",
        "from collections import Counter\n",
        "import warnings\n",
        "warnings.filterwarnings('ignore')\n",
        "import matplotlib.pyplot as plt\n",
        "import seaborn as sns\n",
        "from wordcloud import WordCloud\n",
        "from sklearn.feature_extraction.text import TfidfVectorizer\n",
        "from sklearn.cluster import KMeans\n",
        "plt.style.use('seaborn-v0_8')\n",
        "sns.set_palette(\"husl\")\n",
        "pyo.init_notebook_mode(connected=True)\n",
        "import plotly.io as pio\n",
        "pio.renderers.default = \"colab\"\n",
        "from plotly.offline import init_notebook_mode\n",
        "init_notebook_mode(connected=True)\n",
        "\n"
      ],
      "metadata": {
        "id": "ZtEaBILWX8nv",
        "colab": {
          "base_uri": "https://localhost:8080/",
          "height": 17
        },
        "outputId": "904ba1e0-e593-4ef3-9e2e-e47c9015ec66"
      },
      "execution_count": 2,
      "outputs": [
        {
          "output_type": "display_data",
          "data": {
            "text/html": [
              "        <script type=\"text/javascript\">\n",
              "        window.PlotlyConfig = {MathJaxConfig: 'local'};\n",
              "        if (window.MathJax && window.MathJax.Hub && window.MathJax.Hub.Config) {window.MathJax.Hub.Config({SVG: {font: \"STIX-Web\"}});}\n",
              "        if (typeof require !== 'undefined') {\n",
              "        require.undef(\"plotly\");\n",
              "        requirejs.config({\n",
              "            paths: {\n",
              "                'plotly': ['https://cdn.plot.ly/plotly-2.35.2.min']\n",
              "            }\n",
              "        });\n",
              "        require(['plotly'], function(Plotly) {\n",
              "            window._Plotly = Plotly;\n",
              "        });\n",
              "        }\n",
              "        </script>\n",
              "        "
            ]
          },
          "metadata": {}
        },
        {
          "output_type": "display_data",
          "data": {
            "text/html": [
              "        <script type=\"text/javascript\">\n",
              "        window.PlotlyConfig = {MathJaxConfig: 'local'};\n",
              "        if (window.MathJax && window.MathJax.Hub && window.MathJax.Hub.Config) {window.MathJax.Hub.Config({SVG: {font: \"STIX-Web\"}});}\n",
              "        if (typeof require !== 'undefined') {\n",
              "        require.undef(\"plotly\");\n",
              "        requirejs.config({\n",
              "            paths: {\n",
              "                'plotly': ['https://cdn.plot.ly/plotly-2.35.2.min']\n",
              "            }\n",
              "        });\n",
              "        require(['plotly'], function(Plotly) {\n",
              "            window._Plotly = Plotly;\n",
              "        });\n",
              "        }\n",
              "        </script>\n",
              "        "
            ]
          },
          "metadata": {}
        }
      ]
    },
    {
      "cell_type": "markdown",
      "source": [
        "# Twitter API Configuration\n",
        "## Note : get API from https://developer.twitter.com/\n"
      ],
      "metadata": {
        "id": "IOq4Gvjydn4g"
      }
    },
    {
      "cell_type": "code",
      "source": [
        "class TwitterConfig:\n",
        "    def __init__(self):\n",
        "        # Replace with your actual API credentials\n",
        "        self.API_KEY = \"YOUR_API_KEY\"\n",
        "        self.API_SECRET = \"YOUR_API_SECRET\"\n",
        "        self.ACCESS_TOKEN = \"YOUR_ACCESS_TOKEN\"\n",
        "        self.ACCESS_TOKEN_SECRET = \"YOUR_ACCESS_TOKEN_SECRET\"\n",
        "        self.BEARER_TOKEN = \"YOUR_BEARER_TOKEN\"\n",
        "\n",
        "        # Rate limit settings\n",
        "        self.FREE_TIER_MONTHLY_LIMIT = 100\n",
        "        self.DAILY_BUDGET = 10\n",
        "        self.BATCH_SIZE = 25\n",
        "        self.REQUEST_DELAY = 1.5\n",
        "\n",
        "    def get_api_v1(self):\n",
        "        \"\"\"Get Twitter API v1.1 client\"\"\"\n",
        "        auth = tweepy.OAuthHandler(self.API_KEY, self.API_SECRET)\n",
        "        auth.set_access_token(self.ACCESS_TOKEN, self.ACCESS_TOKEN_SECRET)\n",
        "        return tweepy.API(auth, wait_on_rate_limit=True)\n",
        "\n",
        "    def get_api_v2(self):\n",
        "        \"\"\"Get Twitter API v2 client\"\"\"\n",
        "        return tweepy.Client(\n",
        "            bearer_token=self.BEARER_TOKEN,\n",
        "            consumer_key=self.API_KEY,\n",
        "            consumer_secret=self.API_SECRET,\n",
        "            access_token=self.ACCESS_TOKEN,\n",
        "            access_token_secret=self.ACCESS_TOKEN_SECRET,\n",
        "            wait_on_rate_limit=True\n",
        "        )\n",
        "config = TwitterConfig()"
      ],
      "metadata": {
        "id": "zfCHLwrwd_Mn"
      },
      "execution_count": 3,
      "outputs": []
    },
    {
      "cell_type": "markdown",
      "source": [
        "# Data Collection Via API or Sample Data for Demonstration"
      ],
      "metadata": {
        "id": "MkgYKLtdeLNj"
      }
    },
    {
      "cell_type": "code",
      "source": [
        "class GlobalTweetCollector:\n",
        "    def __init__(self, api_v1=None, api_v2=None):\n",
        "        self.api_v1 = api_v1\n",
        "        self.api_v2 = api_v2\n",
        "        self.tweets_data = []\n",
        "\n",
        "    def clean_tweet(self, text):\n",
        "        \"\"\"tweet cleaning\"\"\"\n",
        "        text = re.sub(r'http\\S+|www\\S+|https\\S+', '', text, flags=re.MULTILINE)\n",
        "        text = re.sub(r'@\\w+|#\\w+', '', text)\n",
        "        text = re.sub(r'\\s+', ' ', text)\n",
        "        text = re.sub(r'[^\\w\\s\\U0001F600-\\U0001F64F\\U0001F300-\\U0001F5FF\\U0001F680-\\U0001F6FF\\U0001F1E0-\\U0001F1FF]', '', text)\n",
        "        return text.strip()\n",
        "\n",
        "    def get_enhanced_sentiment(self, text):\n",
        "        \"\"\"sentiment analysis with confidence scores\"\"\"\n",
        "        try:\n",
        "            blob = TextBlob(text)\n",
        "            polarity = blob.sentiment.polarity\n",
        "            subjectivity = blob.sentiment.subjectivity\n",
        "            if polarity > 0.2:\n",
        "                sentiment = 'Positive'\n",
        "                confidence = abs(polarity)\n",
        "            elif polarity < -0.2:\n",
        "                sentiment = 'Negative'\n",
        "                confidence = abs(polarity)\n",
        "            else:\n",
        "                sentiment = 'Neutral'\n",
        "                confidence = 1 - abs(polarity)\n",
        "            emotion = self.detect_emotion(text.lower())\n",
        "\n",
        "            return {\n",
        "                'sentiment': sentiment,\n",
        "                'polarity': polarity,\n",
        "                'subjectivity': subjectivity,\n",
        "                'confidence': confidence,\n",
        "                'emotion': emotion,\n",
        "                'word_count': len(text.split())\n",
        "            }\n",
        "        except Exception as e:\n",
        "            return {\n",
        "                'sentiment': 'Neutral',\n",
        "                'polarity': 0.0,\n",
        "                'subjectivity': 0.0,\n",
        "                'confidence': 0.0,\n",
        "                'emotion': 'neutral',\n",
        "                'word_count': 0\n",
        "            }\n",
        "\n",
        "    def detect_emotion(self, text):\n",
        "        \"\"\"Detect basic emotions from text\"\"\"\n",
        "        emotion_keywords = {\n",
        "            'joy': ['happy', 'excited', 'great', 'wonderful', 'amazing', 'love', 'perfect'],\n",
        "            'sadness': ['sad', 'depressed', 'down', 'upset', 'disappointed', 'lonely'],\n",
        "            'anger': ['angry', 'mad', 'furious', 'annoyed', 'frustrated', 'hate'],\n",
        "            'fear': ['scared', 'afraid', 'worried', 'anxious', 'nervous', 'panic'],\n",
        "            'surprise': ['surprised', 'shocked', 'unexpected', 'wow', 'omg'],\n",
        "            'gratitude': ['grateful', 'thankful', 'blessed', 'appreciate', 'lucky']\n",
        "        }\n",
        "\n",
        "        emotion_scores = {}\n",
        "        for emotion, keywords in emotion_keywords.items():\n",
        "            score = sum(1 for keyword in keywords if keyword in text)\n",
        "            if score > 0:\n",
        "                emotion_scores[emotion] = score\n",
        "\n",
        "        if emotion_scores:\n",
        "            return max(emotion_scores, key=emotion_scores.get)\n",
        "        return 'neutral'\n",
        "\n",
        "    def collect_tweets_with_api(self, keywords=None, count=50):\n",
        "        \"\"\"Collect tweets using Twitter API\"\"\"\n",
        "        if not self.api_v2:\n",
        "            print(\"Twitter API not configured\")\n",
        "            return pd.DataFrame()\n",
        "\n",
        "        if keywords is None:\n",
        "            keywords = [\"feeling good\", \"having a great day\", \"feeling down\", \"stressed out\", \"grateful today\"]\n",
        "\n",
        "        print(f\"Collecting tweets using Twitter API...\")\n",
        "        print(f\"Target: {count} tweets across {len(keywords)} keywords\")\n",
        "\n",
        "        tweets_per_keyword = max(1, count // len(keywords))\n",
        "\n",
        "        for i, keyword in enumerate(keywords):\n",
        "            if len(self.tweets_data) >= count:\n",
        "                break\n",
        "\n",
        "            try:\n",
        "                print(f\"Searching: '{keyword}' ({i+1}/{len(keywords)})\")\n",
        "\n",
        "                tweets = self.api_v2.search_recent_tweets(\n",
        "                    query=f'\"{keyword}\" -is:retweet lang:en',\n",
        "                    tweet_fields=['created_at', 'author_id', 'public_metrics', 'context_annotations'],\n",
        "                    max_results=min(tweets_per_keyword, 100)\n",
        "                )\n",
        "\n",
        "                if tweets.data:\n",
        "                    for tweet in tweets.data:\n",
        "                        if len(self.tweets_data) >= count:\n",
        "                            break\n",
        "\n",
        "                        cleaned_text = self.clean_tweet(tweet.text)\n",
        "                        if len(cleaned_text) > 15:\n",
        "                            sentiment_data = self.get_enhanced_sentiment(cleaned_text)\n",
        "\n",
        "                            tweet_data = {\n",
        "                                'id': tweet.id,\n",
        "                                'text': cleaned_text,\n",
        "                                'original_text': tweet.text,\n",
        "                                'created_at': tweet.created_at,\n",
        "                                'author_id': tweet.author_id,\n",
        "                                'keyword': keyword,\n",
        "                                'source': 'twitter_api',\n",
        "                                **sentiment_data,\n",
        "                                'retweet_count': tweet.public_metrics.get('retweet_count', 0) if tweet.public_metrics else 0,\n",
        "                                'like_count': tweet.public_metrics.get('like_count', 0) if tweet.public_metrics else 0,\n",
        "                            }\n",
        "\n",
        "                            self.tweets_data.append(tweet_data)\n",
        "\n",
        "                import time\n",
        "                time.sleep(config.REQUEST_DELAY)\n",
        "\n",
        "            except Exception as e:\n",
        "                print(f\"Error with '{keyword}': {str(e)}\")\n",
        "                if \"rate limit\" in str(e).lower():\n",
        "                    print(\"Rate limit reached - switching to sample data\")\n",
        "                    break\n",
        "\n",
        "        print(f\"Collected {len(self.tweets_data)} real tweets\")\n",
        "        return pd.DataFrame(self.tweets_data)\n",
        "\n",
        "    def generate_realistic_sample_data(self, size=1000):\n",
        "        \"\"\"Generate realistic sample data with patterns\"\"\"\n",
        "        print(f\" Generating {size} realistic sample tweets...\")\n",
        "\n",
        "        tweet_templates = {\n",
        "            'positive': [\n",
        "                \"Just had the most amazing coffee this morning! ☀️\",\n",
        "                \"Feeling incredibly grateful for my family today 💕\",\n",
        "                \"Beautiful sunset tonight, life is good! 🌅\",\n",
        "                \"Finally finished that project I've been working on! 🎉\",\n",
        "                \"Met up with old friends today, such a perfect day! 😊\",\n",
        "                \"Got some great news today, feeling so blessed! ✨\",\n",
        "                \"Nothing beats a good workout to start the day! 💪\",\n",
        "                \"Weekend vibes are hitting different today! 🌟\",\n",
        "                \"Sometimes the little things make me the happiest 💝\",\n",
        "                \"Accomplished so much today, feeling proud! 🏆\"\n",
        "            ],\n",
        "            'negative': [\n",
        "                \"Having one of those days where nothing goes right 😔\",\n",
        "                \"Really struggling to find motivation lately\",\n",
        "                \"Work has been incredibly stressful this week\",\n",
        "                \"Feeling overwhelmed with everything going on\",\n",
        "                \"Just need a break from all this chaos\",\n",
        "                \"When will things start looking up? 😞\",\n",
        "                \"Another sleepless night ahead of me\",\n",
        "                \"Can't seem to catch a break these days\",\n",
        "                \"Feeling disconnected from everyone lately\",\n",
        "                \"This weather is really getting me down\"\n",
        "            ],\n",
        "            'neutral': [\n",
        "                \"Just another typical Monday morning\",\n",
        "                \"Regular day at the office, nothing special\",\n",
        "                \"Weather looks okay for the weekend\",\n",
        "                \"Going through my usual routine today\",\n",
        "                \"Standard Tuesday, same as always\",\n",
        "                \"Just checking in, hope everyone's well\",\n",
        "                \"Another day, another dollar as they say\",\n",
        "                \"Normal evening at home tonight\",\n",
        "                \"Regular coffee meeting this afternoon\",\n",
        "                \"Just going with the flow today\"\n",
        "            ]\n",
        "        }\n",
        "\n",
        "        emotions_dist = {'positive': 0.45, 'negative': 0.25, 'neutral': 0.30}\n",
        "        sample_data = []\n",
        "        end_date = datetime.now()\n",
        "        start_date = end_date - timedelta(days=7)\n",
        "        timestamps = pd.date_range(start=start_date, end=end_date, periods=size)\n",
        "\n",
        "        for i, timestamp in enumerate(timestamps):\n",
        "            hour = timestamp.hour\n",
        "            day_of_week = timestamp.weekday()\n",
        "\n",
        "            if 7 <= hour <= 10:\n",
        "                pos_boost = 0.15\n",
        "            elif 18 <= hour <= 21:\n",
        "                pos_boost = 0.10\n",
        "            elif 23 <= hour <= 2:\n",
        "                pos_boost = -0.20\n",
        "            elif day_of_week >= 5:\n",
        "                pos_boost = 0.12\n",
        "            else:\n",
        "                pos_boost = 0\n",
        "\n",
        "            adjusted_pos = min(0.7, emotions_dist['positive'] + pos_boost)\n",
        "            adjusted_neg = max(0.1, emotions_dist['negative'] - pos_boost/2)\n",
        "            adjusted_neu = 1 - adjusted_pos - adjusted_neg\n",
        "\n",
        "            sentiment_choice = np.random.choice(\n",
        "                ['positive', 'negative', 'neutral'],\n",
        "                p=[adjusted_pos, adjusted_neg, adjusted_neu]\n",
        "            )\n",
        "\n",
        "            template = np.random.choice(tweet_templates[sentiment_choice])\n",
        "\n",
        "            variations = {\n",
        "                'positive': ['!', ' 🙂', ' Today was good.', ' Feeling blessed.'],\n",
        "                'negative': ['...', ' 😕', ' Not my best day.', ' Hope tomorrow is better.'],\n",
        "                'neutral': ['.', ' Just saying.', ' That\\'s life.', ' Moving on.']\n",
        "            }\n",
        "\n",
        "            text = template + np.random.choice(variations[sentiment_choice])\n",
        "\n",
        "            sentiment_data = self.get_enhanced_sentiment(text)\n",
        "\n",
        "            if sentiment_choice == 'positive':\n",
        "                likes = np.random.poisson(8)\n",
        "                retweets = np.random.poisson(2)\n",
        "            elif sentiment_choice == 'negative':\n",
        "                likes = np.random.poisson(3)\n",
        "                retweets = np.random.poisson(1)\n",
        "            else:\n",
        "                likes = np.random.poisson(4)\n",
        "                retweets = np.random.poisson(1)\n",
        "\n",
        "            sample_data.append({\n",
        "                'id': f'sample_{i}',\n",
        "                'text': text,\n",
        "                'original_text': text,\n",
        "                'created_at': timestamp,\n",
        "                'author_id': f'user_{i % 100}',\n",
        "                'keyword': np.random.choice(['mood', 'feeling', 'day', 'life', 'today']),\n",
        "                'source': 'sample_data',\n",
        "                **sentiment_data,\n",
        "                'like_count': likes,\n",
        "                'retweet_count': retweets,\n",
        "            })\n",
        "\n",
        "        print(f\"Generated {len(sample_data)} realistic sample tweets\")\n",
        "        return pd.DataFrame(sample_data)"
      ],
      "metadata": {
        "id": "HZa1gmgheKoL"
      },
      "execution_count": 4,
      "outputs": []
    },
    {
      "cell_type": "markdown",
      "source": [
        "# Initialize APIs and Collect Data"
      ],
      "metadata": {
        "id": "aI1zPxCvfL4a"
      }
    },
    {
      "cell_type": "code",
      "source": [
        "def initialize_data_collection():\n",
        "    \"\"\"Initialize data collection with fallback options\"\"\"\n",
        "    collector = GlobalTweetCollector()\n",
        "    df_final = pd.DataFrame()\n",
        "\n",
        "    try:\n",
        "        print(\"Attempting Twitter API connection...\")\n",
        "        api_v1 = config.get_api_v1()\n",
        "        api_v2 = config.get_api_v2()\n",
        "\n",
        "        me = api_v1.verify_credentials()\n",
        "        if me:\n",
        "            print(f\"Connected as: @{me.screen_name}\")\n",
        "            collector.api_v1 = api_v1\n",
        "            collector.api_v2 = api_v2\n",
        "\n",
        "            df_real = collector.collect_tweets_with_api(count=config.DAILY_BUDGET)\n",
        "            if len(df_real) > 0:\n",
        "                df_final = pd.concat([df_final, df_real], ignore_index=True)\n",
        "                print(f\"Added {len(df_real)} real tweets\")\n",
        "\n",
        "    except Exception as e:\n",
        "        print(f\"Twitter API issue: {str(e)[:100]}...\")\n",
        "        print(\"Continuing with sample data only\")\n",
        "\n",
        "    print(\"\\nGenerating comprehensive sample dataset...\")\n",
        "    df_sample = collector.generate_realistic_sample_data(1200)\n",
        "    df_final = pd.concat([df_final, df_sample], ignore_index=True)\n",
        "\n",
        "    df_final['created_at'] = pd.to_datetime(df_final['created_at'])\n",
        "    df_final['hour'] = df_final['created_at'].dt.hour\n",
        "    df_final['day_of_week'] = df_final['created_at'].dt.day_name()\n",
        "    df_final['date'] = df_final['created_at'].dt.date\n",
        "    df_final['is_weekend'] = df_final['created_at'].dt.weekday >= 5\n",
        "\n",
        "    print(f\"\\n Final dataset ready!\")\n",
        "    print(f\"Total tweets: {len(df_final):,}\")\n",
        "    print(f\"Real tweets: {len(df_final[df_final['source'] == 'twitter_api']):,}\")\n",
        "    print(f\"Sample tweets: {len(df_final[df_final['source'] == 'sample_data']):,}\")\n",
        "    print(f\"Date range: {df_final['created_at'].min().date()} to {df_final['created_at'].max().date()}\")\n",
        "\n",
        "    return df_final, collector\n",
        "\n",
        "df_tweets, collector = initialize_data_collection()"
      ],
      "metadata": {
        "id": "yNBAgeuWfMAq",
        "colab": {
          "base_uri": "https://localhost:8080/"
        },
        "outputId": "b5b1f7fc-36f5-4f7b-8ec0-eadc52a5bdda"
      },
      "execution_count": 5,
      "outputs": [
        {
          "output_type": "stream",
          "name": "stdout",
          "text": [
            "Attempting Twitter API connection...\n",
            "Twitter API issue: 401 Unauthorized\n",
            "89 - Invalid or expired token....\n",
            "Continuing with sample data only\n",
            "\n",
            "Generating comprehensive sample dataset...\n",
            " Generating 1200 realistic sample tweets...\n",
            "Generated 1200 realistic sample tweets\n",
            "\n",
            " Final dataset ready!\n",
            "Total tweets: 1,200\n",
            "Real tweets: 0\n",
            "Sample tweets: 1,200\n",
            "Date range: 2025-06-29 to 2025-07-06\n"
          ]
        }
      ]
    },
    {
      "cell_type": "markdown",
      "source": [
        "# Data Analysis"
      ],
      "metadata": {
        "id": "-6Hh1nSsgG0j"
      }
    },
    {
      "cell_type": "code",
      "source": [
        "class EnhancedSentimentAnalyzer:\n",
        "    def __init__(self, df):\n",
        "        self.df = df.copy()\n",
        "        self.summary_stats = self.calculate_summary_stats()\n",
        "\n",
        "    def calculate_summary_stats(self):\n",
        "        \"\"\"Calculate comprehensive summary statistics\"\"\"\n",
        "        total_tweets = len(self.df)\n",
        "        sentiment_counts = self.df['sentiment'].value_counts()\n",
        "\n",
        "        return {\n",
        "            'total_tweets': total_tweets,\n",
        "            'unique_users': self.df['author_id'].nunique(),\n",
        "            'date_range': (self.df['created_at'].min(), self.df['created_at'].max()),\n",
        "            'positive_pct': (sentiment_counts.get('Positive', 0) / total_tweets) * 100,\n",
        "            'negative_pct': (sentiment_counts.get('Negative', 0) / total_tweets) * 100,\n",
        "            'neutral_pct': (sentiment_counts.get('Neutral', 0) / total_tweets) * 100,\n",
        "            'avg_polarity': self.df['polarity'].mean(),\n",
        "            'avg_subjectivity': self.df['subjectivity'].mean(),\n",
        "            'avg_confidence': self.df['confidence'].mean(),\n",
        "            'avg_word_count': self.df['word_count'].mean(),\n",
        "            'total_engagement': self.df['like_count'].sum() + self.df['retweet_count'].sum(),\n",
        "            'top_emotions': self.df['emotion'].value_counts().head().to_dict()\n",
        "        }\n",
        "\n",
        "    def get_time_analysis(self):\n",
        "        \"\"\"Comprehensive time-based analysis\"\"\"\n",
        "        hourly = self.df.groupby('hour').agg({\n",
        "            'polarity': ['mean', 'std', 'count'],\n",
        "            'subjectivity': 'mean',\n",
        "            'confidence': 'mean',\n",
        "            'like_count': 'sum'\n",
        "        }).round(3)\n",
        "\n",
        "        daily = self.df.groupby('day_of_week').agg({\n",
        "            'polarity': ['mean', 'std', 'count'],\n",
        "            'subjectivity': 'mean',\n",
        "            'confidence': 'mean'\n",
        "        }).round(3)\n",
        "\n",
        "        return hourly, daily\n",
        "\n",
        "    def get_emotion_analysis(self):\n",
        "        \"\"\"Analyze emotional patterns\"\"\"\n",
        "        emotion_sentiment = pd.crosstab(self.df['emotion'], self.df['sentiment'], normalize='index') * 100\n",
        "        emotion_by_hour = self.df.groupby(['hour', 'emotion']).size().unstack(fill_value=0)\n",
        "\n",
        "        return emotion_sentiment, emotion_by_hour\n",
        "\n",
        "    def get_engagement_analysis(self):\n",
        "        \"\"\"Analyze engagement patterns\"\"\"\n",
        "        engagement_by_sentiment = self.df.groupby('sentiment').agg({\n",
        "            'like_count': ['mean', 'sum'],\n",
        "            'retweet_count': ['mean', 'sum'],\n",
        "            'confidence': 'mean'\n",
        "        }).round(2)\n",
        "\n",
        "        return engagement_by_sentiment\n",
        "\n",
        "analyzer = EnhancedSentimentAnalyzer(df_tweets)\n",
        "summary = analyzer.summary_stats\n",
        "\n",
        "print(\"\\n MOOD of the World Analysis\")\n",
        "print(\"=\" * 50)\n",
        "print(f\"Dataset Overview:\")\n",
        "print(f\"   • Total Tweets: {summary['total_tweets']:,}\")\n",
        "print(f\"   • Unique Users: {summary['unique_users']:,}\")\n",
        "print(f\"   • Date Range: {summary['date_range'][0].date()} to {summary['date_range'][1].date()}\")\n",
        "print(f\"\\n Sentiment Distribution:\")\n",
        "print(f\"   • Positive: {summary['positive_pct']:.1f}%\")\n",
        "print(f\"   • Negative: {summary['negative_pct']:.1f}%\")\n",
        "print(f\"   • Neutral: {summary['neutral_pct']:.1f}%\")\n",
        "print(f\"\\n Quality Metrics:\")\n",
        "print(f\"   • Average Polarity: {summary['avg_polarity']:.3f}\")\n",
        "print(f\"   • Average Confidence: {summary['avg_confidence']:.3f}\")\n",
        "print(f\"   • Average Word Count: {summary['avg_word_count']:.1f}\")\n",
        "print(f\"\\n Engagement:\")\n",
        "print(f\"   • Total Likes + Retweets: {summary['total_engagement']:,}\")\n",
        "print(f\"\\n Top Emotions:\")\n",
        "for emotion, count in summary['top_emotions'].items():\n",
        "    print(f\"   • {emotion.title()}: {count:,}\")"
      ],
      "metadata": {
        "id": "jfAEAFcbgG73",
        "colab": {
          "base_uri": "https://localhost:8080/"
        },
        "outputId": "2d223e66-c6a9-4224-9a97-702afc2310ef"
      },
      "execution_count": 6,
      "outputs": [
        {
          "output_type": "stream",
          "name": "stdout",
          "text": [
            "\n",
            " MOOD of the World Analysis\n",
            "==================================================\n",
            "Dataset Overview:\n",
            "   • Total Tweets: 1,200\n",
            "   • Unique Users: 100\n",
            "   • Date Range: 2025-06-29 to 2025-07-06\n",
            "\n",
            " Sentiment Distribution:\n",
            "   • Positive: 53.8%\n",
            "   • Negative: 4.9%\n",
            "   • Neutral: 41.3%\n",
            "\n",
            " Quality Metrics:\n",
            "   • Average Polarity: 0.354\n",
            "   • Average Confidence: 0.775\n",
            "   • Average Word Count: 9.2\n",
            "\n",
            " Engagement:\n",
            "   • Total Likes + Retweets: 8,955\n",
            "\n",
            " Top Emotions:\n",
            "   • Neutral: 820\n",
            "   • Joy: 177\n",
            "   • Gratitude: 175\n",
            "   • Sadness: 28\n"
          ]
        }
      ]
    },
    {
      "cell_type": "markdown",
      "source": [
        "# Standard Plotting Functions and Time Series"
      ],
      "metadata": {
        "id": "J-NNAAQegqqE"
      }
    },
    {
      "cell_type": "code",
      "source": [
        "class StandardPlotter:\n",
        "    def __init__(self, df, analyzer):\n",
        "        self.df = df\n",
        "        self.analyzer = analyzer\n",
        "        # plt.style.use('default')  # Changed from 'seaborn-v0_8' which might not be available\n",
        "        plt.rcParams['figure.facecolor'] = 'white'\n",
        "        plt.rcParams['axes.facecolor'] = 'white'\n",
        "\n",
        "    def plot_sentiment_overview(self, figsize=(15, 10)):\n",
        "        \"\"\"Create comprehensive standard plots overview\"\"\"\n",
        "        fig, axes = plt.subplots(2, 3, figsize=figsize)\n",
        "        fig.suptitle('Sentiment Analysis - Standard Plots', fontsize=16, fontweight='bold')\n",
        "\n",
        "        sentiment_counts = self.df['sentiment'].value_counts()\n",
        "        colors = ['#2E86AB', '#A23B72', '#F18F01']\n",
        "        wedges, texts, autotexts = axes[0, 0].pie(\n",
        "            sentiment_counts.values,\n",
        "            labels=sentiment_counts.index,\n",
        "            autopct='%1.1f%%',\n",
        "            colors=colors,\n",
        "            startangle=90,\n",
        "            textprops={'fontsize': 10}\n",
        "        )\n",
        "        axes[0, 0].set_title('Sentiment Distribution', fontweight='bold')\n",
        "\n",
        "        axes[0, 1].hist(self.df['polarity'], bins=30, color='#2E86AB', alpha=0.7, edgecolor='black')\n",
        "        mean_polarity = self.df['polarity'].mean()\n",
        "        axes[0, 1].axvline(mean_polarity, color='red', linestyle='--', linewidth=2,\n",
        "                          label=f'Mean: {mean_polarity:.3f}')\n",
        "        axes[0, 1].set_title('Polarity Distribution', fontweight='bold')\n",
        "        axes[0, 1].set_xlabel('Polarity Score')\n",
        "        axes[0, 1].set_ylabel('Frequency')\n",
        "        axes[0, 1].legend()\n",
        "        axes[0, 1].grid(True, alpha=0.3)\n",
        "\n",
        "        hourly_sentiment = self.df.groupby(['hour', 'sentiment']).size().unstack(fill_value=0)\n",
        "        hourly_sentiment.plot(kind='bar', ax=axes[0, 2], color=colors, width=0.8)\n",
        "        axes[0, 2].set_title('Sentiment by Hour of Day', fontweight='bold')\n",
        "        axes[0, 2].set_xlabel('Hour')\n",
        "        axes[0, 2].set_ylabel('Tweet Count')\n",
        "        axes[0, 2].legend(title='Sentiment', loc='upper right')\n",
        "        axes[0, 2].tick_params(axis='x', rotation=45)\n",
        "        axes[0, 2].grid(True, alpha=0.3)\n",
        "\n",
        "        scatter = axes[1, 0].scatter(\n",
        "            self.df['subjectivity'],\n",
        "            self.df['polarity'],\n",
        "            c=self.df['confidence'],\n",
        "            cmap='viridis',\n",
        "            alpha=0.6,\n",
        "            s=30\n",
        "        )\n",
        "        axes[1, 0].set_title('Polarity vs Subjectivity', fontweight='bold')\n",
        "        axes[1, 0].set_xlabel('Subjectivity')\n",
        "        axes[1, 0].set_ylabel('Polarity')\n",
        "        axes[1, 0].grid(True, alpha=0.3)\n",
        "        cbar = plt.colorbar(scatter, ax=axes[1, 0])\n",
        "        cbar.set_label('Confidence', rotation=270, labelpad=15)\n",
        "\n",
        "        emotion_counts = self.df['emotion'].value_counts().head(8)\n",
        "        bars = axes[1, 1].bar(\n",
        "            range(len(emotion_counts)),\n",
        "            emotion_counts.values,\n",
        "            color=plt.cm.Set3(np.linspace(0, 1, len(emotion_counts)))\n",
        "        )\n",
        "        axes[1, 1].set_title('Top Emotions', fontweight='bold')\n",
        "        axes[1, 1].set_xlabel('Emotion')\n",
        "        axes[1, 1].set_ylabel('Count')\n",
        "        axes[1, 1].set_xticks(range(len(emotion_counts)))\n",
        "        axes[1, 1].set_xticklabels(emotion_counts.index, rotation=45, ha='right')\n",
        "        axes[1, 1].grid(True, alpha=0.3)\n",
        "\n",
        "        for bar, value in zip(bars, emotion_counts.values):\n",
        "            axes[1, 1].text(bar.get_x() + bar.get_width()/2, bar.get_height() + max(emotion_counts.values)*0.01,\n",
        "                           str(value), ha='center', va='bottom', fontweight='bold')\n",
        "\n",
        "        daily_polarity = self.df.groupby(self.df['created_at'].dt.date)['polarity'].mean()\n",
        "        axes[1, 2].plot(\n",
        "            daily_polarity.index,\n",
        "            daily_polarity.values,\n",
        "            marker='o',\n",
        "            linewidth=2,\n",
        "            markersize=4,\n",
        "            color='#2E86AB'\n",
        "        )\n",
        "        axes[1, 2].set_title('Daily Sentiment Trend', fontweight='bold')\n",
        "        axes[1, 2].set_xlabel('Date')\n",
        "        axes[1, 2].set_ylabel('Average Polarity')\n",
        "        axes[1, 2].tick_params(axis='x', rotation=45)\n",
        "        axes[1, 2].grid(True, alpha=0.3)\n",
        "\n",
        "        if len(daily_polarity) > 1:\n",
        "            z = np.polyfit(range(len(daily_polarity)), daily_polarity.values, 1)\n",
        "            p = np.poly1d(z)\n",
        "            axes[1, 2].plot(daily_polarity.index, p(range(len(daily_polarity))),\n",
        "                           \"r--\", alpha=0.8, linewidth=1, label='Trend')\n",
        "            axes[1, 2].legend()\n",
        "\n",
        "        plt.tight_layout()\n",
        "        plt.subplots_adjust(top=0.93)\n",
        "        plt.show()\n",
        "        plt.draw()\n",
        "\n",
        "        return fig\n",
        "\n",
        "    def plot_time_analysis(self, figsize=(14, 10)):\n",
        "        \"\"\"Time-based analysis plots\"\"\"\n",
        "        fig, axes = plt.subplots(2, 2, figsize=figsize)\n",
        "        fig.suptitle('Time-Based Sentiment Analysis', fontsize=16, fontweight='bold')\n",
        "\n",
        "        hourly_sentiment = self.df.groupby(['hour', 'sentiment']).size().unstack(fill_value=0)\n",
        "        hourly_pct = hourly_sentiment.div(hourly_sentiment.sum(axis=1), axis=0) * 100\n",
        "\n",
        "        im = axes[0, 0].imshow(hourly_pct.T.values, cmap='RdYlBu_r', aspect='auto', interpolation='nearest')\n",
        "        axes[0, 0].set_title('Hourly Sentiment Distribution (%)', fontweight='bold')\n",
        "        axes[0, 0].set_xlabel('Hour of Day')\n",
        "        axes[0, 0].set_ylabel('Sentiment')\n",
        "        axes[0, 0].set_xticks(range(0, 24, 2))\n",
        "        axes[0, 0].set_xticklabels(range(0, 24, 2))\n",
        "        axes[0, 0].set_yticks(range(len(hourly_pct.columns)))\n",
        "        axes[0, 0].set_yticklabels(hourly_pct.columns)\n",
        "\n",
        "        cbar = plt.colorbar(im, ax=axes[0, 0])\n",
        "        cbar.set_label('Percentage', rotation=270, labelpad=15)\n",
        "\n",
        "        for i in range(len(hourly_pct.columns)):\n",
        "            for j in range(len(hourly_pct.index)):\n",
        "                if hourly_pct.T.iloc[i, j] > 0:\n",
        "                    text = axes[0, 0].text(j, i, f'{hourly_pct.T.iloc[i, j]:.0f}%',\n",
        "                                         ha=\"center\", va=\"center\", color=\"black\", fontsize=8)\n",
        "\n",
        "        weekend_sentiment = self.df.groupby(['is_weekend', 'sentiment']).size().unstack(fill_value=0)\n",
        "        weekend_sentiment.plot(kind='bar', ax=axes[0, 1],\n",
        "                             color=['#2E86AB', '#A23B72', '#F18F01'],\n",
        "                             width=0.7)\n",
        "        axes[0, 1].set_title('Weekend vs Weekday Sentiment', fontweight='bold')\n",
        "        axes[0, 1].set_xlabel('Day Type')\n",
        "        axes[0, 1].set_xticklabels(['Weekday', 'Weekend'], rotation=0)\n",
        "        axes[0, 1].legend(title='Sentiment', loc='upper right')\n",
        "        axes[0, 1].grid(True, alpha=0.3)\n",
        "\n",
        "        for container in axes[0, 1].containers:\n",
        "            axes[0, 1].bar_label(container, label_type='edge', fontsize=9)\n",
        "\n",
        "        hourly_activity = self.df.groupby('hour').size()\n",
        "        bars = axes[1, 0].bar(hourly_activity.index, hourly_activity.values,\n",
        "                             color='#2E86AB', alpha=0.7, edgecolor='black')\n",
        "        axes[1, 0].set_title('Tweet Activity by Hour', fontweight='bold')\n",
        "        axes[1, 0].set_xlabel('Hour of Day')\n",
        "        axes[1, 0].set_ylabel('Tweet Count')\n",
        "        axes[1, 0].grid(axis='y', alpha=0.3)\n",
        "\n",
        "        peak_hour = hourly_activity.idxmax()\n",
        "        axes[1, 0].bar(peak_hour, hourly_activity[peak_hour],\n",
        "                      color='#F18F01', alpha=0.9, edgecolor='black')\n",
        "        axes[1, 0].text(peak_hour, hourly_activity[peak_hour] + max(hourly_activity)*0.02,\n",
        "                       'Peak', ha='center', va='bottom', fontweight='bold')\n",
        "\n",
        "        daily_emotions = self.df.groupby([self.df['created_at'].dt.date, 'emotion']).size().unstack(fill_value=0)\n",
        "        top_emotions = self.df['emotion'].value_counts().head(5).index\n",
        "\n",
        "        colors_emotion = plt.cm.Set1(np.linspace(0, 1, len(top_emotions)))\n",
        "\n",
        "        for i, emotion in enumerate(top_emotions):\n",
        "            if emotion in daily_emotions.columns:\n",
        "                axes[1, 1].plot(daily_emotions.index, daily_emotions[emotion],\n",
        "                               marker='o', label=emotion.title(), linewidth=2,\n",
        "                               markersize=4, color=colors_emotion[i])\n",
        "\n",
        "        axes[1, 1].set_title('Daily Emotion Trends', fontweight='bold')\n",
        "        axes[1, 1].set_xlabel('Date')\n",
        "        axes[1, 1].set_ylabel('Count')\n",
        "        axes[1, 1].legend(loc='upper right')\n",
        "        axes[1, 1].tick_params(axis='x', rotation=45)\n",
        "        axes[1, 1].grid(True, alpha=0.3)\n",
        "\n",
        "        plt.tight_layout()\n",
        "        plt.subplots_adjust(top=0.93)\n",
        "\n",
        "        plt.show()\n",
        "        plt.draw()\n",
        "\n",
        "        return fig\n",
        "\n",
        "standard_plotter = StandardPlotter(df_tweets, analyzer)\n",
        "\n",
        "print(\"Standard Visualizations...\")\n",
        "print(\"=\" * 50)\n",
        "\n",
        "print(\"\\n Sentiment Overview... \\n\")\n",
        "overview_fig = standard_plotter.plot_sentiment_overview()\n",
        "\n",
        "print(\"\\n Time Analysis...\\n\")\n",
        "time_fig = standard_plotter.plot_time_analysis()\n",
        "\n",
        "print(f\"\\n Quick Stats:\\n\")\n",
        "print(f\"   • Most active hour: {df_tweets.groupby('hour').size().idxmax()}:00\")\n",
        "print(f\"   • Most positive hour: {df_tweets.groupby('hour')['polarity'].mean().idxmax()}:00\")\n",
        "print(f\"   • Weekend mood: {df_tweets[df_tweets['is_weekend']]['polarity'].mean():.3f}\")\n",
        "print(f\"   • Weekday mood: {df_tweets[~df_tweets['is_weekend']]['polarity'].mean():.3f}\")\n",
        "print(f\"   • Top emotion: {df_tweets['emotion'].mode().iloc[0].title()}\")"
      ],
      "metadata": {
        "id": "iRY4TI6pgqyC",
        "colab": {
          "base_uri": "https://localhost:8080/",
          "height": 1000
        },
        "outputId": "9087464e-13b8-488b-a267-5f979e1682a5"
      },
      "execution_count": 7,
      "outputs": [
        {
          "output_type": "stream",
          "name": "stdout",
          "text": [
            "Standard Visualizations...\n",
            "==================================================\n",
            "\n",
            " Sentiment Overview... \n",
            "\n"
          ]
        },
        {
          "output_type": "display_data",
          "data": {
            "text/plain": [
              "<Figure size 1500x1000 with 7 Axes>"
            ],
            "image/png": "[encoded data removed]"
          },
          "metadata": {}
        },
        {
          "output_type": "stream",
          "name": "stdout",
          "text": [
            "\n",
            " Time Analysis...\n",
            "\n"
          ]
        },
        {
          "output_type": "display_data",
          "data": {
            "text/plain": [
              "<Figure size 800x550 with 0 Axes>"
            ]
          },
          "metadata": {}
        },
        {
          "output_type": "display_data",
          "data": {
            "text/plain": [
              "<Figure size 1400x1000 with 5 Axes>"
            ],
            "image/png": "[encoded data removed]"
          },
          "metadata": {}
        },
        {
          "output_type": "stream",
          "name": "stdout",
          "text": [
            "\n",
            " Quick Stats:\n",
            "\n",
            "   • Most active hour: 1:00\n",
            "   • Most positive hour: 15:00\n",
            "   • Weekend mood: 0.349\n",
            "   • Weekday mood: 0.356\n",
            "   • Top emotion: Neutral\n"
          ]
        },
        {
          "output_type": "display_data",
          "data": {
            "text/plain": [
              "<Figure size 800x550 with 0 Axes>"
            ]
          },
          "metadata": {}
        }
      ]
    },
    {
      "cell_type": "markdown",
      "source": [
        "# in this version the application uses free API with rate limit to retrive the data also a sample data of 1200 is used for demonstration. So the program runs without Online API also\n",
        "\n",
        "## Expectation on upcoming version continuation\n",
        "* More Detailed and interactive Graph\n",
        "* Advanced Analytics and Insights\n",
        "* And Many more in future"
      ],
      "metadata": {
        "id": "i0yC--fzc4QZ"
      }
    },
    {
      "cell_type": "markdown",
      "source": [
        "# Html Report"
      ],
      "metadata": {
        "id": "p6VOTi4R31VD"
      }
    },
    {
      "cell_type": "code",
      "source": [
        "def generate_sample_data(n_samples=1000):\n",
        "    emotions = ['joy', 'sadness', 'anger', 'fear', 'surprise', 'disgust', 'trust', 'anticipation']\n",
        "    sentiments = ['Positive', 'Negative', 'Neutral']\n",
        "    data = []\n",
        "    base_date = datetime.now() - timedelta(days=7)\n",
        "\n",
        "    for i in range(n_samples):\n",
        "        random_date = base_date + timedelta(\n",
        "            days=random.randint(0, 6),\n",
        "            hours=random.randint(0, 23),\n",
        "            minutes=random.randint(0, 59)\n",
        "        )\n",
        "\n",
        "        polarity = random.uniform(-1, 1)\n",
        "        subjectivity = random.uniform(0, 1)\n",
        "        confidence = random.uniform(0.5, 1.0)\n",
        "        if polarity > 0.1:\n",
        "            sentiment = 'Positive'\n",
        "        elif polarity < -0.1:\n",
        "            sentiment = 'Negative'\n",
        "        else:\n",
        "            sentiment = 'Neutral'\n",
        "\n",
        "        sample_texts = [\n",
        "            \"Having a great day today! #happy #blessed\",\n",
        "            \"Feeling frustrated with the current situation\",\n",
        "            \"Just another ordinary day at work\",\n",
        "            \"Excited about the upcoming weekend plans\",\n",
        "            \"Weather is perfect for a walk in the park\",\n",
        "            \"Technology is amazing these days\",\n",
        "            \"Missing the good old times\",\n",
        "            \"Looking forward to new opportunities\"\n",
        "        ]\n",
        "\n",
        "        data.append({\n",
        "            'text': random.choice(sample_texts),\n",
        "            'created_at': random_date,\n",
        "            'hour': random_date.hour,\n",
        "            'sentiment': sentiment,\n",
        "            'emotion': random.choice(emotions),\n",
        "            'polarity': polarity,\n",
        "            'subjectivity': subjectivity,\n",
        "            'confidence': confidence,\n",
        "            'like_count': random.randint(0, 100),\n",
        "            'retweet_count': random.randint(0, 50)\n",
        "        })\n",
        "\n",
        "    return pd.DataFrame(data)\n",
        "\n",
        "print(\"Generating data...\")\n",
        "df_tweets = generate_sample_data(1000)\n",
        "print(f\"Generated {len(df_tweets)} tweets\")\n",
        "\n",
        "class InteractivePlotter:\n",
        "    def __init__(self, df):\n",
        "        self.df = df\n",
        "\n",
        "    def create_sentiment_dashboard(self):\n",
        "        \"\"\"Interactive Dashboard\"\"\"\n",
        "        print(\"Sentiment Dashboard...\")\n",
        "\n",
        "        fig = make_subplots(\n",
        "            rows=3, cols=2,\n",
        "            subplot_titles=('Sentiment Distribution', 'Hourly Sentiment Patterns',\n",
        "                          'Emotion Analysis', 'Engagement vs Sentiment',\n",
        "                          'Polarity vs Subjectivity', 'Daily Trend'),\n",
        "            specs=[[{\"type\": \"pie\"}, {\"type\": \"bar\"}],\n",
        "                   [{\"type\": \"bar\"}, {\"type\": \"scatter\"}],\n",
        "                   [{\"type\": \"scatter\"}, {\"type\": \"scatter\"}]]\n",
        "        )\n",
        "        sentiment_counts = self.df['sentiment'].value_counts()\n",
        "        fig.add_trace(go.Pie(\n",
        "            labels=sentiment_counts.index,\n",
        "            values=sentiment_counts.values,\n",
        "            marker_colors=['#2E86AB', '#A23B72', '#F18F01'],\n",
        "            hole=0.3,\n",
        "            name=\"Sentiment\"\n",
        "        ), row=1, col=1)\n",
        "\n",
        "        hourly_sentiment = self.df.groupby(['hour', 'sentiment']).size().unstack(fill_value=0)\n",
        "        colors_sentiment = {'Positive': '#2E86AB', 'Negative': '#A23B72', 'Neutral': '#F18F01'}\n",
        "        for sentiment in hourly_sentiment.columns:\n",
        "            color = colors_sentiment.get(sentiment, '#666666')\n",
        "            fig.add_trace(go.Bar(\n",
        "                x=hourly_sentiment.index,\n",
        "                y=hourly_sentiment[sentiment],\n",
        "                name=f'Hourly {sentiment}',\n",
        "                marker_color=color,\n",
        "                showlegend=False\n",
        "            ), row=1, col=2)\n",
        "\n",
        "        emotion_counts = self.df['emotion'].value_counts().head(8)\n",
        "        fig.add_trace(go.Bar(\n",
        "            x=emotion_counts.index,\n",
        "            y=emotion_counts.values,\n",
        "            marker_color=px.colors.qualitative.Set3[:len(emotion_counts)],\n",
        "            name=\"Emotions\",\n",
        "            showlegend=False\n",
        "        ), row=2, col=1)\n",
        "\n",
        "        engagement_sentiment = self.df.groupby('sentiment').agg({\n",
        "            'like_count': 'mean',\n",
        "            'retweet_count': 'mean'\n",
        "        }).reset_index()\n",
        "\n",
        "        fig.add_trace(go.Scatter(\n",
        "            x=engagement_sentiment['like_count'],\n",
        "            y=engagement_sentiment['retweet_count'],\n",
        "            mode='markers+text',\n",
        "            text=engagement_sentiment['sentiment'],\n",
        "            textposition='top center',\n",
        "            marker=dict(\n",
        "                size=20,\n",
        "                color=['#2E86AB', '#A23B72', '#F18F01'][:len(engagement_sentiment)]\n",
        "            ),\n",
        "            name=\"Engagement\",\n",
        "            showlegend=False\n",
        "        ), row=2, col=2)\n",
        "\n",
        "        fig.add_trace(go.Scatter(\n",
        "            x=self.df['subjectivity'],\n",
        "            y=self.df['polarity'],\n",
        "            mode='markers',\n",
        "            marker=dict(\n",
        "                color=self.df['confidence'],\n",
        "                colorscale='viridis',\n",
        "                size=4,\n",
        "                opacity=0.6,\n",
        "                showscale=True,\n",
        "                colorbar=dict(\n",
        "                    title=\"Confidence\",\n",
        "                    x=0.45,\n",
        "                    len=0.3\n",
        "                )\n",
        "            ),\n",
        "            name=\"Polarity vs Subjectivity\",\n",
        "            showlegend=False\n",
        "        ), row=3, col=1)\n",
        "\n",
        "        daily_polarity = self.df.groupby(self.df['created_at'].dt.date)['polarity'].mean()\n",
        "        fig.add_trace(go.Scatter(\n",
        "            x=daily_polarity.index,\n",
        "            y=daily_polarity.values,\n",
        "            mode='lines+markers',\n",
        "            line=dict(color='#2E86AB', width=3),\n",
        "            marker=dict(size=8),\n",
        "            name=\"Daily Trend\",\n",
        "            showlegend=False\n",
        "        ), row=3, col=2)\n",
        "\n",
        "        fig.update_layout(\n",
        "            height=1200,\n",
        "            title_text=\"Mood of the World Analysis Dashboard\",\n",
        "            title_font_size=20,\n",
        "            title_x=0.5,\n",
        "            showlegend=False\n",
        "        )\n",
        "\n",
        "        return fig\n",
        "\n",
        "    def create_emotion_heatmap(self):\n",
        "        \"\"\"emotion-time heatmap\"\"\"\n",
        "        print(\"Emotion Heatmap...\")\n",
        "\n",
        "        emotion_hour = self.df.groupby(['hour', 'emotion']).size().unstack(fill_value=0)\n",
        "\n",
        "        top_emotions = self.df['emotion'].value_counts().head(8).index\n",
        "        emotion_hour_filtered = emotion_hour[top_emotions]\n",
        "\n",
        "        fig = go.Figure(data=go.Heatmap(\n",
        "            z=emotion_hour_filtered.T.values,\n",
        "            x=emotion_hour_filtered.index,\n",
        "            y=emotion_hour_filtered.columns,\n",
        "            colorscale='viridis',\n",
        "            hoverongaps=False,\n",
        "            hovertemplate='Hour: %{x}<br>Emotion: %{y}<br>Count: %{z}<extra></extra>'\n",
        "        ))\n",
        "\n",
        "        fig.update_layout(\n",
        "            title='Emotion Patterns Throughout the Day',\n",
        "            title_font_size=16,\n",
        "            title_x=0.5,\n",
        "            xaxis_title='Hour of Day',\n",
        "            yaxis_title='Emotion',\n",
        "            height=600,\n",
        "            width=800\n",
        "        )\n",
        "\n",
        "        return fig\n",
        "\n",
        "    def create_word_frequency_chart(self):\n",
        "        \"\"\"Create word frequency visualization\"\"\"\n",
        "        print(\"word frequency chart...\")\n",
        "\n",
        "        all_text = ' '.join(self.df['text'].astype(str))\n",
        "\n",
        "        words = re.findall(r'\\b[a-zA-Z]{3,}\\b', all_text.lower())\n",
        "        stop_words = {\n",
        "            'the', 'a', 'an', 'and', 'or', 'but', 'in', 'on', 'at', 'to', 'for', 'of', 'with', 'by',\n",
        "            'i', 'you', 'he', 'she', 'it', 'we', 'they', 'this', 'that', 'is', 'are', 'was', 'were',\n",
        "            'be', 'been', 'have', 'has', 'had', 'do', 'does', 'did', 'will', 'would', 'could', 'should',\n",
        "            'may', 'might', 'can', 'cant', 'dont', 'wont', 'im', 'youre', 'hes', 'shes', 'its', 'were',\n",
        "            'theyre', 'today', 'just', 'get', 'got', 'going', 'go', 'like', 'really', 'know', 'time',\n",
        "            'day', 'way', 'think', 'feel', 'feeling', 'good', 'great', 'bad', 'new', 'one', 'two'\n",
        "        }\n",
        "\n",
        "        filtered_words = [word for word in words if word not in stop_words and len(word) > 3]\n",
        "        word_freq = Counter(filtered_words).most_common(25)\n",
        "\n",
        "        if word_freq:\n",
        "            words_list, counts_list = zip(*word_freq)\n",
        "        else:\n",
        "            words_list, counts_list = ['sample', 'words', 'example'], [10, 8, 5]\n",
        "\n",
        "        fig = go.Figure(data=go.Bar(\n",
        "            x=list(words_list),\n",
        "            y=list(counts_list),\n",
        "            marker_color=px.colors.sequential.Viridis,\n",
        "            hovertemplate='Word: %{x}<br>Frequency: %{y}<extra></extra>'\n",
        "        ))\n",
        "\n",
        "        fig.update_layout(\n",
        "            title='Most Frequent Words in Tweets',\n",
        "            title_font_size=16,\n",
        "            title_x=0.5,\n",
        "            xaxis_title='Words',\n",
        "            yaxis_title='Frequency',\n",
        "            height=500,\n",
        "            width=800,\n",
        "            xaxis_tickangle=-45\n",
        "        )\n",
        "\n",
        "        return fig\n",
        "\n",
        "    def create_time_series_analysis(self):\n",
        "        \"\"\"Create detailed time series analysis\"\"\"\n",
        "        print(\"time series analysis...\")\n",
        "\n",
        "        # Hourly sentiment trends\n",
        "        hourly_data = self.df.groupby('hour').agg({\n",
        "            'polarity': 'mean',\n",
        "            'subjectivity': 'mean',\n",
        "            'confidence': 'mean'\n",
        "        }).reset_index()\n",
        "\n",
        "        fig = go.Figure()\n",
        "\n",
        "        fig.add_trace(go.Scatter(\n",
        "            x=hourly_data['hour'],\n",
        "            y=hourly_data['polarity'],\n",
        "            mode='lines+markers',\n",
        "            name='Polarity',\n",
        "            line=dict(color='#2E86AB', width=3),\n",
        "            marker=dict(size=8)\n",
        "        ))\n",
        "\n",
        "        fig.add_trace(go.Scatter(\n",
        "            x=hourly_data['hour'],\n",
        "            y=hourly_data['subjectivity'],\n",
        "            mode='lines+markers',\n",
        "            name='Subjectivity',\n",
        "            line=dict(color='#A23B72', width=3),\n",
        "            marker=dict(size=8),\n",
        "            yaxis='y2'\n",
        "        ))\n",
        "\n",
        "        fig.update_layout(\n",
        "            title='Hourly Sentiment Patterns',\n",
        "            title_font_size=16,\n",
        "            title_x=0.5,\n",
        "            xaxis_title='Hour of Day',\n",
        "            yaxis_title='Polarity Score',\n",
        "            yaxis2=dict(\n",
        "                title='Subjectivity Score',\n",
        "                overlaying='y',\n",
        "                side='right'\n",
        "            ),\n",
        "            height=500,\n",
        "            width=800,\n",
        "            hovermode='x unified'\n",
        "        )\n",
        "\n",
        "        return fig\n",
        "\n",
        "interactive_plotter = InteractivePlotter(df_tweets)\n",
        "\n",
        "print(\"Interactive Visualizations...\")\n",
        "print(\"=\" * 50)\n",
        "\n",
        "# Display data info\n",
        "print(f\"\\n Dataset Info:\")\n",
        "print(f\"Total tweets: {len(df_tweets)}\")\n",
        "print(f\"Date range: {df_tweets['created_at'].min()} to {df_tweets['created_at'].max()}\")\n",
        "print(f\"Sentiment distribution:\\n{df_tweets['sentiment'].value_counts()}\")\n",
        "\n",
        "print(\"\\n1.Sentiment Dashboard...\")\n",
        "dashboard_fig = interactive_plotter.create_sentiment_dashboard()\n",
        "dashboard_fig.show()\n",
        "\n",
        "print(\"\\n2. Emotion Heatmap...\")\n",
        "emotion_heatmap = interactive_plotter.create_emotion_heatmap()\n",
        "emotion_heatmap.show()\n",
        "\n",
        "print(\"\\n3. Word Frequency Analysis...\")\n",
        "word_freq_fig = interactive_plotter.create_word_frequency_chart()\n",
        "word_freq_fig.show()\n",
        "\n",
        "print(\"\\n4. Time Series Analysis...\")\n",
        "time_series_fig = interactive_plotter.create_time_series_analysis()\n",
        "time_series_fig.show()\n",
        "dashboard_fig.write_html(\"sentiment_dashboard.html\")\n",
        "emotion_heatmap.write_html(\"emotion_heatmap.html\")\n",
        "word_freq_fig.write_html(\"word_frequency.html\")\n",
        "time_series_fig.write_html(\"time_series.html\")\n",
        "print(\"HTML files saved successfully!\")"
      ],
      "metadata": {
        "id": "RgmBA15i31gC",
        "colab": {
          "base_uri": "https://localhost:8080/",
          "height": 1000
        },
        "outputId": "2cd94629-a179-455b-ff5d-2d0392b7ad2b"
      },
      "execution_count": 8,
      "outputs": [
        {
          "output_type": "stream",
          "name": "stdout",
          "text": [
            "Generating data...\n",
            "Generated 1000 tweets\n",
            "Interactive Visualizations...\n",
            "==================================================\n",
            "\n",
            " Dataset Info:\n",
            "Total tweets: 1000\n",
            "Date range: 2025-06-29 01:52:50.864465 to 2025-07-06 01:31:50.864465\n",
            "Sentiment distribution:\n",
            "sentiment\n",
            "Negative    448\n",
            "Positive    442\n",
            "Neutral     110\n",
            "Name: count, dtype: int64\n",
            "\n",
            "1.Sentiment Dashboard...\n",
            "Sentiment Dashboard...\n"
          ]
        },
        {
          "output_type": "display_data",
          "data": {
            "application/vnd.plotly.v1+json": {
              "data": [
                {
                  "hole": 0.3,
                  "labels": [
                    "Negative",
                    "Positive",
                    "Neutral"
                  ],
                  "marker": {
                    "colors": [
                      "#2E86AB",
                      "#A23B72",
                      "#F18F01"
                    ]
                  },
                  "name": "Sentiment",
                  "values": [
                    448,
                    442,
                    110
                  ],
                  "type": "pie",
                  "domain": {
                    "x": [
                      0,
                      0.45
                    ],
                    "y": [
                      0.7777777777777778,
                      1
                    ]
                  }
                },
                {
                  "marker": {
                    "color": "#A23B72"
                  },
                  "name": "Hourly Negative",
                  "showlegend": false,
                  "x": [
                    0,
                    1,
                    2,
                    3,
                    4,
                    5,
                    6,
                    7,
                    8,
                    9,
                    10,
                    11,
                    12,
                    13,
                    14,
                    15,
                    16,
                    17,
                    18,
                    19,
                    20,
                    21,
                    22,
                    23
                  ],
                  "y": [
                    22,
                    11,
                    20,
                    21,
                    22,
                    19,
                    23,
                    15,
                    25,
                    21,
                    18,
                    14,
                    15,
                    19,
                    21,
                    16,
                    20,
                    29,
                    13,
                    17,
                    21,
                    14,
                    14,
                    18
                  ],
                  "type": "bar",
                  "xaxis": "x",
                  "yaxis": "y"
                },
                {
                  "marker": {
                    "color": "#F18F01"
                  },
                  "name": "Hourly Neutral",
                  "showlegend": false,
                  "x": [
                    0,
                    1,
                    2,
                    3,
                    4,
                    5,
                    6,
                    7,
                    8,
                    9,
                    10,
                    11,
                    12,
                    13,
                    14,
                    15,
                    16,
                    17,
                    18,
                    19,
                    20,
                    21,
                    22,
                    23
                  ],
                  "y": [
                    3,
                    6,
                    6,
                    1,
                    3,
                    5,
                    6,
                    7,
                    4,
                    4,
                    5,
                    3,
                    3,
                    6,
                    5,
                    5,
                    7,
                    2,
                    7,
                    3,
                    8,
                    5,
                    3,
                    3
                  ],
                  "type": "bar",
                  "xaxis": "x",
                  "yaxis": "y"
                },
                {
                  "marker": {
                    "color": "#2E86AB"
                  },
                  "name": "Hourly Positive",
                  "showlegend": false,
                  "x": [
                    0,
                    1,
                    2,
                    3,
                    4,
                    5,
                    6,
                    7,
                    8,
                    9,
                    10,
                    11,
                    12,
                    13,
                    14,
                    15,
                    16,
                    17,
                    18,
                    19,
                    20,
                    21,
                    22,
                    23
                  ],
                  "y": [
                    25,
                    16,
                    17,
                    24,
                    21,
                    23,
                    24,
                    17,
                    18,
                    20,
                    16,
                    19,
                    22,
                    10,
                    15,
                    17,
                    12,
                    20,
                    18,
                    17,
                    17,
                    19,
                    14,
                    21
                  ],
                  "type": "bar",
                  "xaxis": "x",
                  "yaxis": "y"
                },
                {
                  "marker": {
                    "color": [
                      "rgb(141,211,199)",
                      "rgb(255,255,179)",
                      "rgb(190,186,218)",
                      "rgb(251,128,114)",
                      "rgb(128,177,211)",
                      "rgb(253,180,98)",
                      "rgb(179,222,105)",
                      "rgb(252,205,229)"
                    ]
                  },
                  "name": "Emotions",
                  "showlegend": false,
                  "x": [
                    "joy",
                    "anger",
                    "anticipation",
                    "trust",
                    "sadness",
                    "disgust",
                    "fear",
                    "surprise"
                  ],
                  "y": [
                    134,
                    132,
                    128,
                    126,
                    126,
                    121,
                    121,
                    112
                  ],
                  "type": "bar",
                  "xaxis": "x2",
                  "yaxis": "y2"
                },
                {
                  "marker": {
                    "color": [
                      "#2E86AB",
                      "#A23B72",
                      "#F18F01"
                    ],
                    "size": 20
                  },
                  "mode": "markers+text",
                  "name": "Engagement",
                  "showlegend": false,
                  "text": [
                    "Negative",
                    "Neutral",
                    "Positive"
                  ],
                  "textposition": "top center",
                  "x": [
                    49.53794642857143,
                    53.981818181818184,
                    48.751131221719454
                  ],
                  "y": [
                    23.689732142857142,
                    26.39090909090909,
                    25.228506787330318
                  ],
                  "type": "scatter",
                  "xaxis": "x3",
                  "yaxis": "y3"
                },
                {
                  "marker": {
                    "color": [
                      0.6620284468014409,
                      0.9624571568247023,
                      0.5940890734340655,
                      0.9568918078909217,
                      0.5618148379372025,
                      0.6195644506363815,
                      0.967005948754719,
                      0.9993509344543949,
                      0.6841493798541844,
                      0.7546485193878154,
                      0.7326384123594537,
                      0.8515335192170388,
                      0.7532955563603296,
                      0.8377981346563397,
                      0.6613591954552758,
                      0.5421767274036229,
                      0.8164642413126963,
                      0.7664246041577186,
                      0.9398069900955334,
                      0.6489880354730934,
                      0.9566524791646466,
                      0.9634919556586898,
                      0.9071766914939079,
                      0.6708281307418691,
                      0.9733100978910538,
                      0.5688664469688816,
                      0.7181541056862208,
                      0.6300039706754907,
                      0.6046875920090269,
                      0.9656923894392098,
                      0.704578209826233,
                      0.9049663725226857,
                      0.7083738554305545,
                      0.8640288264676139,
                      0.7930714473948648,
                      0.8980175126886221,
                      0.7626824135676424,
                      0.6822078784864303,
                      0.616779048711261,
                      0.8690707976977852,
                      0.8844755709715382,
                      0.9784707523469242,
                      0.8054501280600803,
                      0.5656475671698682,
                      0.9706851163247601,
                      0.8759378095765491,
                      0.7585130146792952,
                      0.6424008908225038,
                      0.6002561388391259,
                      0.8317098739437259,
                      0.799815920598219,
                      0.5277097693229265,
                      0.9177579370310989,
                      0.7183814355222062,
                      0.8127514257902195,
                      0.5964037917059417,
                      0.9015976929161763,
                      0.8853453211988325,
                      0.5022178845160448,
                      0.6977914171335078,
                      0.5078096103251561,
                      0.8247869482906447,
                      0.5641617689844034,
                      0.9527698614980529,
                      0.855982115946923,
                      0.7794759735458592,
                      0.6203760719405047,
                      0.7968391669299224,
                      0.9714255416539794,
                      0.7169057264895983,
                      0.7039206867772647,
                      0.8539782026467426,
                      0.525146883377192,
                      0.5439705525890985,
                      0.7446702448021485,
                      0.7595650440214996,
                      0.6133787969824014,
                      0.9235563092725626,
                      0.6211126596408901,
                      0.62635813795641,
                      0.7776414190324925,
                      0.8388634625015179,
                      0.5740094190752651,
                      0.5020175496115638,
                      0.567202741119081,
                      0.9066039368357991,
                      0.8651643982457793,
                      0.9025511833123969,
                      0.6266008405745581,
                      0.7591924428776928,
                      0.6930783157464954,
                      0.8030609337357018,
                      0.8399659928687215,
                      0.8132057893454605,
                      0.7519272675559611,
                      0.9359320831511959,
                      0.9687667712606665,
                      0.8360886282954565,
                      0.9055399719799859,
                      0.8960700819534461,
                      0.6540579353298044,
                      0.8606987227336191,
                      0.778768240217788,
                      0.9640043129785263,
                      0.5477795494319819,
                      0.6914785407087318,
                      0.8829889167822733,
                      0.8260509849213864,
                      0.9274353517751225,
                      0.5647597374615592,
                      0.6862615515235826,
                      0.7198137565539888,
                      0.872350652030065,
                      0.7030325821401694,
                      0.518591533405597,
                      0.62512394611632,
                      0.7113092970005718,
                      0.9313164741629393,
                      0.5320972600907912,
                      0.8005298928959106,
                      0.9708524099195888,
                      0.9450896927107106,
                      0.8292903576956363,
                      0.9626052944239726,
                      0.5959042413883666,
                      0.7532324836437407,
                      0.9992488467286935,
                      0.8781973639945675,
                      0.9424560437513307,
                      0.6498219466060655,
                      0.5430140246658953,
                      0.8838798052275061,
                      0.7601616949231107,
                      0.7692649469714463,
                      0.6377909071193083,
                      0.9072724157629457,
                      0.8726125720964499,
                      0.5028543015987583,
                      0.9815637087525964,
                      0.8862993250031124,
                      0.8949814753182104,
                      0.6618346845556476,
                      0.6138919686507125,
                      0.6378885737394324,
                      0.8067103762889545,
                      0.989051892471024,
                      0.5315738626665969,
                      0.9593194172400934,
                      0.5627668624843876,
                      0.9446383243533092,
                      0.6107494313699986,
                      0.8399503221911631,
                      0.9748835217003181,
                      0.7938243686249415,
                      0.733903682166416,
                      0.5265423736220695,
                      0.6554649639373544,
                      0.6012104907440028,
                      0.8160118565429907,
                      0.7299095977331365,
                      0.7577095121124542,
                      0.8997682864592602,
                      0.866000020418124,
                      0.9151429393000032,
                      0.8358543281269606,
                      0.7760098036028507,
                      0.8538499311190976,
                      0.7653593179617988,
                      0.6268912279334693,
                      0.9538970042056689,
                      0.579474784012235,
                      0.8072352173132702,
                      0.9848597623280072,
                      0.5793280923568621,
                      0.7930976486669965,
                      0.6129098285584802,
                      0.9041252558978645,
                      0.5980366991369082,
                      0.8674343774634832,
                      0.6400524017805173,
                      0.5326820975053631,
                      0.7413101490727106,
                      0.6746954307875446,
                      0.573842184974849,
                      0.9359958105995443,
                      0.6101560421022365,
                      0.672254957059137,
                      0.7230226983123373,
                      0.5334515565771574,
                      0.6394239057940354,
                      0.5234721715056752,
                      0.9045718836995655,
                      0.8845892909533792,
                      0.5466096283059734,
                      0.8594055430701899,
                      0.5794488245575112,
                      0.6704657934416227,
                      0.6411646837511493,
                      0.6016007802247239,
                      0.586845554256734,
                      0.9459538882911629,
                      0.7103595151972377,
                      0.9668777645832758,
                      0.7135666627114491,
                      0.6661790359098148,
                      0.5480947739248188,
                      0.765066386286632,
                      0.7053292151903546,
                      0.8232861733186649,
                      0.6747247492654812,
                      0.5591944071840043,
                      0.95735421125959,
                      0.5696280714900327,
                      0.6516011890236069,
                      0.6229036638534636,
                      0.6399196566514471,
                      0.6563826321694859,
                      0.9843464173060161,
                      0.8543456518800144,
                      0.7242998092820625,
                      0.6351167341986621,
                      0.6228778292998596,
                      0.576035410472967,
                      0.9996993724384271,
                      0.5551912260714887,
                      0.5640888773583475,
                      0.5417464085800914,
                      0.7025307626674413,
                      0.9816949655131058,
                      0.6444138159277173,
                      0.7449231286155369,
                      0.7860708927192381,
                      0.7784241805369443,
                      0.8677494653702598,
                      0.784591314518363,
                      0.9297604200739913,
                      0.5264270085503354,
                      0.5397858111327996,
                      0.5161576825287709,
                      0.6912040088503852,
                      0.6515806724160987,
                      0.7230375027541832,
                      0.9828493346619791,
                      0.8298194297362826,
                      0.6540311128594145,
                      0.5143117136889064,
                      0.5842449854138945,
                      0.7634219591221165,
                      0.7724187067771845,
                      0.8895528553801337,
                      0.9878872404876555,
                      0.9123536467010903,
                      0.8517410697967747,
                      0.6834984120651387,
                      0.5532410416866897,
                      0.8024127619698437,
                      0.526518218194912,
                      0.5260682673123938,
                      0.6379035104720864,
                      0.9912599142661842,
                      0.511923673779487,
                      0.5978257997719618,
                      0.7402746600334194,
                      0.9815158959003415,
                      0.5168481849906787,
                      0.5355373358755345,
                      0.9841617241094567,
                      0.6167724251192154,
                      0.9268105917898317,
                      0.5426012441763925,
                      0.6309217287898934,
                      0.5246581321909882,
                      0.5319628170074482,
                      0.9324103896464149,
                      0.8828948637810197,
                      0.9540185118562297,
                      0.7812623181956184,
                      0.9028208083865039,
                      0.6038888782285299,
                      0.9870470845585397,
                      0.5684358212194538,
                      0.7703131477219098,
                      0.7194019709074504,
                      0.674358752228789,
                      0.9707996299906353,
                      0.7822667892710329,
                      0.6480950621787542,
                      0.7370190649341557,
                      0.5146310699366282,
                      0.6917597848014947,
                      0.551887399408389,
                      0.5058498089339709,
                      0.5630638996922217,
                      0.5870058390984109,
                      0.5765534645110046,
                      0.7110557037406084,
                      0.93725568371549,
                      0.79011537932277,
                      0.7818781463845637,
                      0.9712494222683326,
                      0.5255488625225107,
                      0.7102626642973218,
                      0.6872105458313005,
                      0.8868730689992754,
                      0.948512008365651,
                      0.5001333658706293,
                      0.6343110023714816,
                      0.5672361441948086,
                      0.6196858438942396,
                      0.7765781351844219,
                      0.7776030413351236,
                      0.6293340272166841,
                      0.6282703344718981,
                      0.5332753949885143,
                      0.7620718005559473,
                      0.5840245820464021,
                      0.7891654925492162,
                      0.5427880133855754,
                      0.6512801705560984,
                      0.567390398788034,
                      0.6103305182087463,
                      0.71316476539029,
                      0.8257599964070702,
                      0.7421741671649273,
                      0.9234860469492117,
                      0.8746442530189585,
                      0.8909415737192823,
                      0.7489646727732654,
                      0.5940754768894234,
                      0.8501073435501245,
                      0.787171589090161,
                      0.9864815107194123,
                      0.9282929020060182,
                      0.6131507152014346,
                      0.7478963846813711,
                      0.5914855043165043,
                      0.5771424667593371,
                      0.75737371309704,
                      0.9108213795605355,
                      0.8890453288661834,
                      0.8657057148005418,
                      0.6334866143246967,
                      0.7132393575364244,
                      0.6603323948869915,
                      0.8974821680953085,
                      0.82155939098517,
                      0.939023948355594,
                      0.8254945693016675,
                      0.6122601020064891,
                      0.7472602185692434,
                      0.8239595207065227,
                      0.7823848178456576,
                      0.9473267586975287,
                      0.5194461583299147,
                      0.6646150762162721,
                      0.6990886604554718,
                      0.6699178265579189,
                      0.7869938586578582,
                      0.7891410437431279,
                      0.5055328082345553,
                      0.5773909777189352,
                      0.9931659777174644,
                      0.8836856504744635,
                      0.8072305169403018,
                      0.9740877489343698,
                      0.9833775481868096,
                      0.6972088044749458,
                      0.8329789721883113,
                      0.7616389774080247,
                      0.6862430985048344,
                      0.5296954974890609,
                      0.5718106797746394,
                      0.8921647530739387,
                      0.6040847775484588,
                      0.5879377788921539,
                      0.9016844522643428,
                      0.7363510850643518,
                      0.6813795741057014,
                      0.6850220742497601,
                      0.5905881379411675,
                      0.7490469850126541,
                      0.7408593242444491,
                      0.501250139138725,
                      0.5204468953476974,
                      0.8488301805410217,
                      0.5567112534849523,
                      0.5294744577495394,
                      0.6510007851043232,
                      0.721326479316519,
                      0.7714019830926626,
                      0.7306219316614674,
                      0.5860460103781633,
                      0.6343643714882259,
                      0.8480508933650981,
                      0.8164236560047721,
                      0.6453228814180392,
                      0.971412759508679,
                      0.5072462131087001,
                      0.8901843654087438,
                      0.9569573127966482,
                      0.5754503441929089,
                      0.9516865473226369,
                      0.7437012504489541,
                      0.895801569914153,
                      0.8389691764905742,
                      0.8894573048962902,
                      0.9911455113334924,
                      0.6200518661499372,
                      0.6001874740231287,
                      0.6508455100106247,
                      0.8158890526645773,
                      0.9947688784862183,
                      0.5071229548772203,
                      0.518006430451284,
                      0.5108121194905271,
                      0.9592791579298907,
                      0.6723849762013776,
                      0.9525406630091033,
                      0.8586572553384915,
                      0.7212712709869369,
                      0.7784473493043507,
                      0.8914288016662859,
                      0.9232414344627529,
                      0.6473145291721776,
                      0.7253698782737992,
                      0.7712582195118058,
                      0.8128096878700671,
                      0.7028528468382902,
                      0.7883038143771709,
                      0.965357786409808,
                      0.8653215646201997,
                      0.8176887908117344,
                      0.9751649126284626,
                      0.7066888180898458,
                      0.7134626965009663,
                      0.8318635666187917,
                      0.96166724478995,
                      0.7766542447571951,
                      0.5337391403571139,
                      0.7405836525798766,
                      0.5683206944124808,
                      0.8834227262724342,
                      0.7012492676701627,
                      0.839029466062267,
                      0.6251359877372751,
                      0.5146865623365615,
                      0.836574019055754,
                      0.6710339539630419,
                      0.6053045926713359,
                      0.5037994989761425,
                      0.6085385673623342,
                      0.6353522558582501,
                      0.8270698586206551,
                      0.7913357928130371,
                      0.9091459962405625,
                      0.500148998007403,
                      0.5789593474566213,
                      0.7777798618593948,
                      0.6216333611123321,
                      0.6245331113998451,
                      0.5326290591485261,
                      0.7794919723847195,
                      0.6837467987769681,
                      0.6833960663090377,
                      0.7665614718873395,
                      0.941047921344411,
                      0.6275160662536448,
                      0.5605739234494824,
                      0.6077051237495069,
                      0.6828742251871951,
                      0.9759294792381682,
                      0.9297634258331355,
                      0.9172135246786215,
                      0.648827113423038,
                      0.7093186794922868,
                      0.8647119549866176,
                      0.5070110843316464,
                      0.6376811651372996,
                      0.7473660835577904,
                      0.8461071107476899,
                      0.8733848125097846,
                      0.9741279231060505,
                      0.675581049542237,
                      0.7192502285960958,
                      0.5532167355924003,
                      0.8993169541021249,
                      0.695290424785261,
                      0.8216963420520139,
                      0.9831100658668889,
                      0.6836589984997006,
                      0.5059840656441007,
                      0.8409187545815289,
                      0.6577810048176236,
                      0.8855455429949461,
                      0.5006134987775531,
                      0.799647381766855,
                      0.601145759887345,
                      0.7082677070464178,
                      0.5653818645326931,
                      0.5491494644222521,
                      0.7424580067640676,
                      0.5697631306254827,
                      0.9787363134708699,
                      0.7171930522088534,
                      0.5649867798036217,
                      0.5948083041646852,
                      0.8150025153075208,
                      0.6930663370508093,
                      0.9823407529785932,
                      0.9985690188746605,
                      0.586413433420699,
                      0.9628165579401776,
                      0.6487820303796381,
                      0.7848689948798063,
                      0.8512622319031675,
                      0.6872460869712569,
                      0.5998557549105766,
                      0.5281881720268687,
                      0.6456982885860352,
                      0.6517688191346811,
                      0.5824284465959675,
                      0.9932796902964345,
                      0.5629663844110815,
                      0.6921572294360079,
                      0.8821087786998016,
                      0.5219017066210803,
                      0.6274220951379936,
                      0.7505641747253783,
                      0.7840479568753089,
                      0.8800504198549257,
                      0.6605009507255151,
                      0.5021763278117087,
                      0.8049997838234024,
                      0.5151730953722757,
                      0.7000682438712298,
                      0.5134224988103928,
                      0.9185124974935505,
                      0.7274576948918781,
                      0.6368606756101998,
                      0.9310718010627521,
                      0.6767324630352745,
                      0.9821682999075472,
                      0.5520855382056153,
                      0.9001375287181088,
                      0.885746340107308,
                      0.8462787224122579,
                      0.5430301087103712,
                      0.9306075192826455,
                      0.5214710304024937,
                      0.6885416776389424,
                      0.904246945930984,
                      0.8789990321378779,
                      0.7146629124335915,
                      0.617733805871396,
                      0.8056326325908334,
                      0.8209783214240379,
                      0.8219342077600945,
                      0.9683629038453505,
                      0.5468250441589847,
                      0.9410220989288252,
                      0.6116415153056971,
                      0.8613396384029044,
                      0.7542867831607427,
                      0.5304856025732059,
                      0.7711937211849842,
                      0.8412503565960884,
                      0.9424486089971745,
                      0.518454354099666,
                      0.5880714444508661,
                      0.7379962204056301,
                      0.925557091680697,
                      0.5246161481361478,
                      0.6443781932613646,
                      0.9294764427342415,
                      0.9974761190319317,
                      0.5904588993883926,
                      0.7025029468784054,
                      0.7698085341473362,
                      0.8975321973448562,
                      0.6596439820629586,
                      0.9842588108291175,
                      0.5337875835116861,
                      0.6325458674332891,
                      0.533810602742908,
                      0.8173042612118551,
                      0.5863284641312372,
                      0.5892144472241898,
                      0.6089872569656234,
                      0.856893612620707,
                      0.5872149590808574,
                      0.8002095699429104,
                      0.8740128424923863,
                      0.8475644141062757,
                      0.5410937484161567,
                      0.6577395845342151,
                      0.5383156521908667,
                      0.7735298305032043,
                      0.7186774780083471,
                      0.7760317503981449,
                      0.6892201122337263,
                      0.5897325717047804,
                      0.8205997748863698,
                      0.9037942458128012,
                      0.8269949612624632,
                      0.7689785511809574,
                      0.838485490741973,
                      0.6048839633619265,
                      0.8539617728880315,
                      0.9538078574720779,
                      0.9863072296281831,
                      0.8076145667714754,
                      0.9104060433702836,
                      0.8538459759803141,
                      0.6926003931885867,
                      0.6840102184921711,
                      0.5763848243067157,
                      0.6831100178642255,
                      0.7180803850345248,
                      0.9386363307299719,
                      0.8785595921805147,
                      0.7419131909115791,
                      0.9976814185595864,
                      0.8387746123579187,
                      0.653033679923431,
                      0.9409616367760032,
                      0.572037712868327,
                      0.8368066041476349,
                      0.6914607080244798,
                      0.8821864138381144,
                      0.858770525688789,
                      0.9391235751187994,
                      0.607397398066502,
                      0.8432419406039842,
                      0.807636241438006,
                      0.5406582687181262,
                      0.5191747235048974,
                      0.6929509566724426,
                      0.7091691405478959,
                      0.9417938314379106,
                      0.9986496981784851,
                      0.7539195446292918,
                      0.6297503012770612,
                      0.6251768360054868,
                      0.7195085535016733,
                      0.9274576315002978,
                      0.5023486834012769,
                      0.5111376353833444,
                      0.975793306741693,
                      0.9487307779998722,
                      0.6974029083877851,
                      0.5242020856564412,
                      0.9939679119907658,
                      0.6643436467581532,
                      0.8235006065492908,
                      0.7244774821193469,
                      0.5810751386834287,
                      0.973774695093392,
                      0.5602386750444559,
                      0.7537154311923384,
                      0.5407057325276016,
                      0.7184522831111946,
                      0.5966173032501099,
                      0.684065029024377,
                      0.8162162054217132,
                      0.5228616252055078,
                      0.7474420998228001,
                      0.7229953927084002,
                      0.8143558978247741,
                      0.7042924655544756,
                      0.6843788355446201,
                      0.599660867303046,
                      0.8977185120977846,
                      0.9768329178613473,
                      0.5419844188821032,
                      0.8505292556624218,
                      0.5458932867970854,
                      0.8707349906775557,
                      0.5276430934479515,
                      0.6756530513701172,
                      0.9009471740251467,
                      0.9615622013287557,
                      0.8404486113704948,
                      0.6337635580813241,
                      0.7954063955205588,
                      0.5515906671626395,
                      0.9114592083966748,
                      0.7492983143035743,
                      0.6384490896332452,
                      0.8822659860837767,
                      0.5945101501663157,
                      0.8704070146684508,
                      0.6506960443089427,
                      0.699614932087585,
                      0.5304447784005878,
                      0.7957452737446354,
                      0.9333065908169469,
                      0.5121305523404723,
                      0.6773227619023856,
                      0.7742043558019955,
                      0.9973059989332249,
                      0.7987017595131274,
                      0.6898224915740254,
                      0.6897290082487068,
                      0.7381468774566415,
                      0.6554957547503908,
                      0.9399570439296627,
                      0.8054795799606114,
                      0.7242625105536658,
                      0.7727596940220224,
                      0.9984852657241445,
                      0.6257880353233679,
                      0.8655029398162681,
                      0.5304334671256903,
                      0.7624062818464703,
                      0.5679122210605654,
                      0.7418472440455257,
                      0.537960433427594,
                      0.5930678167868795,
                      0.5032167503057883,
                      0.7272105335951767,
                      0.7867794229783079,
                      0.7493927498529488,
                      0.5290281786615334,
                      0.9597366545149224,
                      0.7014038551902797,
                      0.7716825829520796,
                      0.8521455060483928,
                      0.7343259480584452,
                      0.6126091058198226,
                      0.9391838794374654,
                      0.7838780636808742,
                      0.817830135145576,
                      0.7572194214793362,
                      0.5700724698504932,
                      0.5136057263966762,
                      0.7606913976968082,
                      0.8345194762016503,
                      0.6446566942413187,
                      0.8745625673370155,
                      0.8341328905291122,
                      0.9266910479781587,
                      0.6248766574251838,
                      0.7974389674096332,
                      0.5271092828560746,
                      0.7435191106669379,
                      0.9202318506479316,
                      0.9727880750627781,
                      0.6681739249099885,
                      0.7866053344989834,
                      0.9675731348597829,
                      0.716016694985524,
                      0.9998631923570357,
                      0.881771963004889,
                      0.5147003855919156,
                      0.5929957926677332,
                      0.8448145508848897,
                      0.6855307930518971,
                      0.6535999392066613,
                      0.8946711861305521,
                      0.7721881053906879,
                      0.9765160225702749,
                      0.5381113329760691,
                      0.8286144968955491,
                      0.825025655715502,
                      0.6862418854536667,
                      0.951850496887715,
                      0.6674063350109013,
                      0.9656610419860208,
                      0.701958747378937,
                      0.6912385212330127,
                      0.6911858690287017,
                      0.5753185702475907,
                      0.7688047473677542,
                      0.9047144976330439,
                      0.8797673829451503,
                      0.8728126331349253,
                      0.6892298877841623,
                      0.6093151411382536,
                      0.7056531098799292,
                      0.8725787918493427,
                      0.8209811856892731,
                      0.7288726194598472,
                      0.5838750466718396,
                      0.6007361208825772,
                      0.7512914237026374,
                      0.9804105544724165,
                      0.7425987540469976,
                      0.5320619990211146,
                      0.904601362772889,
                      0.9766097726132192,
                      0.945839815345247,
                      0.8426260539750527,
                      0.6743138625520011,
                      0.6025154320912641,
                      0.9703167700265938,
                      0.7218221597093826,
                      0.7097404351440488,
                      0.6027172126290636,
                      0.5744530487982701,
                      0.6213210653291155,
                      0.8069852710260446,
                      0.6351802104853885,
                      0.8167651149667289,
                      0.6290052367134722,
                      0.9986495872341357,
                      0.5512566983309984,
                      0.6201544702545647,
                      0.6572785064159644,
                      0.8363622592662987,
                      0.8761817519133448,
                      0.5947063469411353,
                      0.8623869644255464,
                      0.5809745250860955,
                      0.942435926116957,
                      0.9706745681472687,
                      0.5522597276908745,
                      0.7113008181608481,
                      0.6637958038939678,
                      0.5727010598473286,
                      0.9852161725041262,
                      0.7052357986057176,
                      0.5909365100473634,
                      0.6333455728719347,
                      0.6616812564546772,
                      0.7794371795680753,
                      0.6564771307812189,
                      0.9415632226741735,
                      0.8900853527283941,
                      0.8659216590186085,
                      0.9096672440974995,
                      0.8555555998029601,
                      0.8547603150556329,
                      0.6608918918537837,
                      0.9746003753750906,
                      0.7873996198609801,
                      0.6288044147958272,
                      0.5556579263776712,
                      0.7002745503276666,
                      0.8853495630509778,
                      0.8149162412504445,
                      0.7346574212397132,
                      0.8098398343989698,
                      0.5113342984055367,
                      0.7430152622264439,
                      0.9707423640086881,
                      0.5121078587381382,
                      0.8626374319072438,
                      0.9831085396051378,
                      0.5294857966552621,
                      0.5116255982149616,
                      0.7375256424477119,
                      0.9487222335379414,
                      0.6466539964358127,
                      0.9635187682793375,
                      0.810764772741295,
                      0.526276193841205,
                      0.7701528543324456,
                      0.9112360317773778,
                      0.604453782931311,
                      0.9183059346647862,
                      0.7405485853605586,
                      0.7161669925057612,
                      0.593039547399774,
                      0.7071751944326223,
                      0.8485256139889596,
                      0.7510138117464535,
                      0.7113847268446147,
                      0.5926216370430353,
                      0.9475335384841619,
                      0.7680505579813746,
                      0.5589556770376785,
                      0.876000295576802,
                      0.6769532374927631,
                      0.9163773353766118,
                      0.9435767973191894,
                      0.9955439945147002,
                      0.8402319976145316,
                      0.5769295308283311,
                      0.8617914835985344,
                      0.7932606354894717,
                      0.8581064982018751,
                      0.7737053891977044,
                      0.6671237826272811,
                      0.7803791304161629,
                      0.7786301650654688,
                      0.7452563622162529,
                      0.9471397260402546,
                      0.8667351390468951,
                      0.8231749928058287,
                      0.8389927515955846,
                      0.7528627980487852,
                      0.949787284490841,
                      0.7822347025592812,
                      0.6882981382392612,
                      0.7478259562568549,
                      0.6430199250275722,
                      0.9702496094709583,
                      0.5732281918764659,
                      0.627171129054898,
                      0.5331699032522069,
                      0.6898521671842129,
                      0.9523035161100646,
                      0.9069592969528453,
                      0.5741011125392652,
                      0.932884567209618,
                      0.6689860852262983,
                      0.5852322687404616,
                      0.5474715517350381,
                      0.828098120316966,
                      0.7564640088172656,
                      0.9564087855600163,
                      0.5269334379215143,
                      0.9697407281758508,
                      0.6939441268925911,
                      0.6885970322460818,
                      0.5243696641791074,
                      0.5502737499910989,
                      0.9997658912973696,
                      0.8549130008115917,
                      0.6753636803099858,
                      0.5294368412781807,
                      0.8241942806946185,
                      0.8831288829129393,
                      0.9321788412944894,
                      0.6137384036826112,
                      0.9941183612394573,
                      0.9009745507539604,
                      0.6615572010134779,
                      0.9193468036728126,
                      0.5468249492620869,
                      0.5369338344238659,
                      0.7520899555000657,
                      0.9058584133300205,
                      0.5255056231509281,
                      0.9367090346367244,
                      0.5883069666515626,
                      0.5508769474276933,
                      0.7909813273205649,
                      0.5793748793991969,
                      0.7348582245776751,
                      0.5391875405734838,
                      0.9002086886866653,
                      0.9151700993078549,
                      0.7558410466204994,
                      0.6962734868989264,
                      0.7041953525898199,
                      0.8463812703787696,
                      0.7305111725545361,
                      0.9355054989861937,
                      0.6034639593707005,
                      0.6483379761185388,
                      0.7184415152066423,
                      0.5690867251383114,
                      0.7623986647094512,
                      0.991115084293347,
                      0.8635759611697085,
                      0.8410910577397139,
                      0.5885332746209713,
                      0.7098265051589168,
                      0.5259697226249294,
                      0.6066799884070282,
                      0.9741964593208989,
                      0.951939888851228,
                      0.5372886642217345,
                      0.9044105179883096,
                      0.793785813391926,
                      0.5193510202915652,
                      0.8190641653201252,
                      0.7911301859450416,
                      0.7542181274510447,
                      0.9320887517723082,
                      0.5967409846951658,
                      0.6718491737082632,
                      0.7023418308110847,
                      0.9152073997516754,
                      0.8397180495360312,
                      0.5065894877069154,
                      0.6237162837366441,
                      0.93640341556755,
                      0.972709654854006,
                      0.7010025613666792,
                      0.5513293119551823,
                      0.549105167937892,
                      0.5265841924738968,
                      0.8584789292492636,
                      0.8649548087818772,
                      0.9371567251407539,
                      0.8816803894788436,
                      0.6789485690377207,
                      0.688650054727352,
                      0.59824154775145,
                      0.7453062815832507,
                      0.6003133761737398,
                      0.7529048259772799,
                      0.8224677969090641,
                      0.7286727088252111,
                      0.6009896451396002,
                      0.6599718347429494,
                      0.8643615307364723,
                      0.7973588020046578
                    ],
                    "colorbar": {
                      "len": 0.3,
                      "title": {
                        "text": "Confidence"
                      },
                      "x": 0.45
                    },
                    "colorscale": [
                      [
                        0,
                        "#440154"
                      ],
                      [
                        0.1111111111111111,
                        "#482878"
                      ],
                      [
                        0.2222222222222222,
                        "#3e4989"
                      ],
                      [
                        0.3333333333333333,
                        "#31688e"
                      ],
                      [
                        0.4444444444444444,
                        "#26828e"
                      ],
                      [
                        0.5555555555555556,
                        "#1f9e89"
                      ],
                      [
                        0.6666666666666666,
                        "#35b779"
                      ],
                      [
                        0.7777777777777778,
                        "#6ece58"
                      ],
                      [
                        0.8888888888888888,
                        "#b5de2b"
                      ],
                      [
                        1,
                        "#fde725"
                      ]
                    ],
                    "opacity": 0.6,
                    "showscale": true,
                    "size": 4
                  },
                  "mode": "markers",
                  "name": "Polarity vs Subjectivity",
                  "showlegend": false,
                  "x": [
                    0.06791302814903988,
                    0.8424775321747585,
                    0.9127651132510518,
                    0.006544031660540739,
                    0.9626541351266817,
                    0.35773784524399155,
                    0.17119727324202672,
                    0.0911864622338937,
                    0.7665939680715715,
                    0.3584119258162355,
                    0.9457374627648887,
                    0.9588582664319576,
                    0.48028836935382824,
                    0.32625026526630285,
                    0.4002032591884044,
                    0.8614111670055263,
                    0.2309056410103888,
                    0.21318447717924216,
                    0.3731455802946573,
                    0.7284024206191766,
                    0.6133079492786455,
                    0.7746003293695447,
                    0.6366841391840249,
                    0.10930466788650861,
                    0.9880127288425973,
                    0.3806720814227844,
                    0.07145466459961014,
                    0.7245543627892277,
                    0.9839888567055391,
                    0.11099138012777021,
                    0.24242548229120153,
                    0.3393237870680883,
                    0.23436695765248594,
                    0.5740701292932692,
                    0.1165412867860467,
                    0.18154041623577122,
                    0.03549394354765889,
                    0.18224894024568916,
                    0.34485362228519645,
                    0.5693624168551567,
                    0.38982408069378893,
                    0.562418651703385,
                    0.023766345924578935,
                    0.4465021824593868,
                    0.4492739740375785,
                    0.21918523823857938,
                    0.757415313288905,
                    0.7431426522288095,
                    0.7299067386219231,
                    0.3484976084498945,
                    0.7699695916991128,
                    0.1670282362900184,
                    0.9812411465808973,
                    0.7897449076561105,
                    0.8445543181503328,
                    0.5897303395439965,
                    0.5004510462292397,
                    0.033887224156009976,
                    0.6624981076902212,
                    0.03312216783214739,
                    0.3220146833604097,
                    0.10902613125063798,
                    0.6526296115252658,
                    0.48405262890798095,
                    0.22121994391579702,
                    0.23235370335181127,
                    0.34137722768619483,
                    0.8584446643834389,
                    0.8493132335415832,
                    0.7368618441871491,
                    0.16471124622787114,
                    0.008642165514805455,
                    0.7413057356882955,
                    0.22630026875113674,
                    0.6301279550293558,
                    0.7592141487439861,
                    0.047077821505680406,
                    0.5508164488051523,
                    0.6068008103087299,
                    0.030696382845405212,
                    0.5687363227030785,
                    0.5087835920123996,
                    0.8907183563885752,
                    0.5055512562230198,
                    0.5912493990239525,
                    0.09843029385530477,
                    0.05500713359269649,
                    0.5545717274306128,
                    0.6574706273571661,
                    0.277870681206312,
                    0.0059616380342270014,
                    0.6768967424825998,
                    0.6566758043631716,
                    0.561062051985091,
                    0.523432401461463,
                    0.5308411972655893,
                    0.3997553554590796,
                    0.04363193913499441,
                    0.6482908606745819,
                    0.6786383118930641,
                    0.7587733581501366,
                    0.6173481310553802,
                    0.855414471215384,
                    0.26634494847460155,
                    0.2168773238829601,
                    0.16609825519488708,
                    0.9195058504325695,
                    0.5763715303341929,
                    0.8701145803168748,
                    0.2953768222186396,
                    0.7477570203714079,
                    0.28118246060083374,
                    0.015594431248194263,
                    0.44897027357943486,
                    0.609446860149828,
                    0.1339270093552909,
                    0.8738348791647363,
                    0.4134983835691777,
                    0.5990168795615006,
                    0.4096787246517426,
                    0.28473466914792556,
                    0.5226404725325462,
                    0.11965016734030454,
                    0.580780188989633,
                    0.6872204350913274,
                    0.661899130362446,
                    0.25231846040114925,
                    0.7569671634080871,
                    0.3362358178344055,
                    0.6013725382894403,
                    0.82557900238846,
                    0.1930503547602901,
                    0.3404182763254664,
                    0.5979675381891917,
                    0.9839749261918415,
                    0.1592764227287491,
                    0.531779254096693,
                    0.19684743296368068,
                    0.8664445261381487,
                    0.28172844277873366,
                    0.7326144091960511,
                    0.11269969049664041,
                    0.09097825542227822,
                    0.24410224106818101,
                    0.43001995281687533,
                    0.6591329009573748,
                    0.08443808698575617,
                    0.904808000813168,
                    0.02849847329173183,
                    0.408543471219757,
                    0.07797091629239383,
                    0.07173088865359833,
                    0.03425477110862807,
                    0.8256730726469099,
                    0.17801226621942734,
                    0.18018053560169445,
                    0.4827186300745929,
                    0.3267920540816839,
                    0.4667739664840641,
                    0.3029387869194049,
                    0.7579008519892,
                    0.9498061942887467,
                    0.49084386522389833,
                    0.769832289482511,
                    0.6513012850074344,
                    0.097167836597287,
                    0.8523557404181674,
                    0.1246786414900346,
                    0.6360523534128217,
                    0.9534532663138904,
                    0.6824526195267173,
                    0.21408879049952356,
                    0.22338479953863166,
                    0.11405719039967521,
                    0.4574577191362861,
                    0.5142124700741602,
                    0.3088435335638464,
                    0.652138729049605,
                    0.05760710421844051,
                    0.05548689255510941,
                    0.7662663017643655,
                    0.9149722744354112,
                    0.77768157546031,
                    0.9085452388574953,
                    0.95780851673131,
                    0.1790356779958754,
                    0.25535222945227587,
                    0.42202495475079493,
                    0.9090196009504982,
                    0.41384234583141655,
                    0.4259311969331975,
                    0.057912482191358805,
                    0.6554967481250629,
                    0.31325418894548385,
                    0.654454304063344,
                    0.8793299941115018,
                    0.6241218047146647,
                    0.7141831301189977,
                    0.055239436107346274,
                    0.6486686333225832,
                    0.3657599027685543,
                    0.780830832684177,
                    0.21447718037590702,
                    0.7831440190687525,
                    0.8235960280164167,
                    0.577572226457137,
                    0.31615454775812313,
                    0.7589070335559525,
                    0.2004831830245417,
                    0.09932534871803567,
                    0.9101341073134288,
                    0.9327340294345644,
                    0.237997900919651,
                    0.606387353794365,
                    0.8995937957608392,
                    0.6373597831227289,
                    0.08656014474568774,
                    0.7249955008429052,
                    0.812720664450713,
                    0.055500350236129536,
                    0.8333529890975859,
                    0.9674966381516564,
                    0.7013898790721198,
                    0.2213531799151497,
                    0.9082999856434408,
                    0.04846673961354886,
                    0.2816297327723022,
                    0.9776599135850123,
                    0.8354388449723608,
                    0.7464833091706499,
                    0.7852469532047123,
                    0.3622657674323222,
                    0.23623349943945893,
                    0.33120056882760307,
                    0.058443282601898794,
                    0.31242117656246127,
                    0.9496989091768964,
                    0.004327924003779238,
                    0.7483667454807419,
                    0.5471901187727277,
                    0.15322842069292908,
                    0.5894125763576842,
                    0.7243010155997555,
                    0.5554952222055279,
                    0.2938726191167079,
                    0.41691412149905516,
                    0.36254415948199237,
                    0.5670153333173882,
                    0.944965262916307,
                    0.8614062535175778,
                    0.8260591980095684,
                    0.8693014023688447,
                    0.3393592319664668,
                    0.7837085181166378,
                    0.6030903207746346,
                    0.8977453792023433,
                    0.2712930166760209,
                    0.7023816932231339,
                    0.582599168569537,
                    0.7849443833366095,
                    0.7406813402886534,
                    0.5213154720275848,
                    0.8830523789990787,
                    0.092868560011515,
                    0.6159572695816925,
                    0.9767048591461776,
                    0.4824500804751972,
                    0.1472885635505864,
                    0.1597935880308482,
                    0.44100925742954045,
                    0.7892872994649748,
                    0.34719661154487413,
                    0.5331231259990744,
                    0.06050386643418304,
                    0.44744334226555627,
                    0.9884939344915785,
                    0.24827601732267202,
                    0.8531217713320003,
                    0.8759091555250945,
                    0.7960591362697397,
                    0.20577120280046335,
                    0.6414532547128501,
                    0.2080438897220086,
                    0.6495948617119444,
                    0.05652392501997028,
                    0.14294364275435145,
                    0.6811758701717294,
                    0.19838235979921293,
                    0.09625197381488892,
                    0.3493829001581771,
                    0.424108643427064,
                    0.5954688914452603,
                    0.41821934435181374,
                    0.4873925843426705,
                    0.03774645073963023,
                    0.7284998540964701,
                    0.9301542441460395,
                    0.7317035970176412,
                    0.345544179087827,
                    0.7198651780519806,
                    0.119817576892981,
                    0.04930137846724558,
                    0.9611653300961487,
                    0.6032223979637171,
                    0.6017783531973222,
                    0.9301014479544255,
                    0.934039506173146,
                    0.30758659923189646,
                    0.7073416440321056,
                    0.8176066303769619,
                    0.47369413440755626,
                    0.22326387413075843,
                    0.7328223846522853,
                    0.9377793306670154,
                    0.7759700616445605,
                    0.5422264551433496,
                    0.24848681339023548,
                    0.19616093792611855,
                    0.033242756472266266,
                    0.8332119472166916,
                    0.027263838662289985,
                    0.9111422839458596,
                    0.27234683819091454,
                    0.21754742634188295,
                    0.49885453595697493,
                    0.6260215036329139,
                    0.7753319775197105,
                    0.04790440261463247,
                    0.21333296868816498,
                    0.9414173167034079,
                    0.06825360241448297,
                    0.4510933199211583,
                    0.10952938023595349,
                    0.2811997758560649,
                    0.9111291408743163,
                    0.6413704907927807,
                    0.2059174001355496,
                    0.4193638599982178,
                    0.8537637487978688,
                    0.8304109762956557,
                    0.14820433361186836,
                    0.5550897583259671,
                    0.5529586798660371,
                    0.9722739474678554,
                    0.48870506168849037,
                    0.8983539183988027,
                    0.8861090748776866,
                    0.13551801955806397,
                    0.20640608584320552,
                    0.667528846411595,
                    0.11129671686172615,
                    0.7780688343614375,
                    0.6728589210770882,
                    0.021655178380533213,
                    0.2925947319649066,
                    0.9086611135381001,
                    0.3942696250442025,
                    0.33549127667204437,
                    0.7439530258676573,
                    0.617784311532242,
                    0.42335839231532146,
                    0.9111129630753947,
                    0.08123385068523281,
                    0.3427587741305582,
                    0.7951821534637107,
                    0.24657753726203246,
                    0.722632802574679,
                    0.30709952509864014,
                    0.8110996870473919,
                    0.20340058342542378,
                    0.0438979462484993,
                    0.5639011327568203,
                    0.6263477032315425,
                    0.6517159985927143,
                    0.48083540913286815,
                    0.38808239196763494,
                    0.6990300549855292,
                    0.3311290413078263,
                    0.2500643174879349,
                    0.7517379547034403,
                    0.40754651471507186,
                    0.4235969516912059,
                    0.818957290926487,
                    0.36534006927185103,
                    0.022655443447513468,
                    0.9357025027620336,
                    0.5616422379048032,
                    0.6721291722336836,
                    0.4675252553210365,
                    0.8776700496947992,
                    0.9229491518353348,
                    0.7641166809184917,
                    0.6482668875880201,
                    0.10276590593182344,
                    0.195727465426898,
                    0.7762277781876946,
                    0.9261142780903657,
                    0.8865271515840415,
                    0.2772679675739287,
                    0.7505016823794474,
                    0.3677545074583207,
                    0.12042318922437012,
                    0.47429568469279526,
                    0.18564709846203153,
                    0.26617389854015616,
                    0.45752318181779816,
                    0.5054909294295412,
                    0.7973571198117594,
                    0.7893186993570709,
                    0.08408169507705132,
                    0.09793512283069306,
                    0.8628626532237476,
                    0.48512669134220665,
                    0.07100074162635228,
                    0.3904687146540591,
                    0.657583962080263,
                    0.6869837749128436,
                    0.9687572643495802,
                    0.9524756462044682,
                    0.7893007583728792,
                    0.23824008113263428,
                    0.696979050020294,
                    0.1581475961225921,
                    0.1869399195623781,
                    0.5444061741870724,
                    0.9579619267352559,
                    0.13168259285461392,
                    0.5546172774191053,
                    0.37865118714786294,
                    0.3847815936640745,
                    0.2506309686261674,
                    0.913074902765225,
                    0.9859637350306839,
                    0.5199143633713977,
                    0.7044907055867908,
                    0.04360842803450293,
                    0.4631129603230194,
                    0.9930138051355242,
                    0.39069813829838806,
                    0.37153827419954,
                    0.8229409858589577,
                    0.434140425928923,
                    0.06451556758095955,
                    0.6325068622684835,
                    0.0016978680969857995,
                    0.3049739200684247,
                    0.144148968915646,
                    0.6577470325691189,
                    0.7812813172385503,
                    0.7633072681936572,
                    0.7827128344138081,
                    0.319661925829528,
                    0.7777657797798837,
                    0.06776294835402685,
                    0.05991057687434875,
                    0.25705304153652087,
                    0.15225888136882548,
                    0.28654813393653733,
                    0.8327048284027333,
                    0.46538356923489665,
                    0.833553150171231,
                    0.6684226256204094,
                    0.4082005873617106,
                    0.9216759397999932,
                    0.4621073924517686,
                    0.3021687767299044,
                    0.41043852975139805,
                    0.9718054207783883,
                    0.08853641749564867,
                    0.2209133555124818,
                    0.3279879717875237,
                    0.2983952505536335,
                    0.7922110399641108,
                    0.9401524458498824,
                    0.8922640417753789,
                    0.9546609416935737,
                    0.8756630519919412,
                    0.41916340411277797,
                    0.002477163467225374,
                    0.01877963930812898,
                    0.42474203610181327,
                    0.9507345596253948,
                    0.688128819192857,
                    0.3881449253388115,
                    0.6027944033645788,
                    0.3216791900837318,
                    0.2738060561147009,
                    0.3239155397357958,
                    0.07177958380496396,
                    0.37205183071572734,
                    0.24068039532681318,
                    0.49847628335318894,
                    0.5281570760893317,
                    0.4622604898432854,
                    0.4902492099895547,
                    0.818470351461814,
                    0.2287417205410407,
                    0.38413756394060194,
                    0.3901927220518149,
                    0.6309718970473462,
                    0.2519109204282378,
                    0.6996684661449498,
                    0.9571456462119164,
                    0.8166730912728736,
                    0.8109855968548959,
                    0.801975634900589,
                    0.5973695582542445,
                    0.40030166068267947,
                    0.9649936106405654,
                    0.12874910022559816,
                    0.12293510759242221,
                    0.9752693499982749,
                    0.36704473910860436,
                    0.016174837019895305,
                    0.18712622029564807,
                    0.7847378149169144,
                    0.7667687555906729,
                    0.7452460451524396,
                    0.39625624745186117,
                    0.43065020393385256,
                    0.25290866046232907,
                    0.23153670542338833,
                    0.4139777165547548,
                    0.7267982946096567,
                    0.14073499832729697,
                    0.7811430179361935,
                    0.6488246154672679,
                    0.6158220503663133,
                    0.8308039738073818,
                    0.7163254458833523,
                    0.6144335964859813,
                    0.005445794737058751,
                    0.23394534180609328,
                    0.8929627748361164,
                    0.1478847644233231,
                    0.1709701282466186,
                    0.28660327683646414,
                    0.21263513938532785,
                    0.15106795809523377,
                    0.5151618553337277,
                    0.3097316848513778,
                    0.30381595614130863,
                    0.7095379280944754,
                    0.07031460872890893,
                    0.47433573142878394,
                    0.6308532380700587,
                    0.5362563369374321,
                    0.2885965232456644,
                    0.5603000837171453,
                    0.06408243764168964,
                    0.03810570057014717,
                    0.49694004127425995,
                    0.10667720417787474,
                    0.4926027525531421,
                    0.3190011190083655,
                    0.5389389118109623,
                    0.30025580871108704,
                    0.4206676486282669,
                    0.6185857177250951,
                    0.7516601127064534,
                    0.5736881250018602,
                    0.4497144891674425,
                    0.995534277774848,
                    0.885724004097839,
                    0.1932359006843779,
                    0.461739708789645,
                    0.1055332231661793,
                    0.0220016878805942,
                    0.7610708225790991,
                    0.6516282820423471,
                    0.5067828457292033,
                    0.7620767713060781,
                    0.28363206834039256,
                    0.9952391915619954,
                    0.5163371459648096,
                    0.4361088640836044,
                    0.040502371183613994,
                    0.6832266451624361,
                    0.3282753701350475,
                    0.7416632570859799,
                    0.5869364502676049,
                    0.5458761145227173,
                    0.43654381529922626,
                    0.4246909441968767,
                    0.7529277336573419,
                    0.8002719287834541,
                    0.15417295499783135,
                    0.5384748790295947,
                    0.3852266238286679,
                    0.6487102220834219,
                    0.9030800802806879,
                    0.2365638894988238,
                    0.8679903944414008,
                    0.5799419625856198,
                    0.1643178948000824,
                    0.14645810938360093,
                    0.7244691188514949,
                    0.10332455430576715,
                    0.6014632829758418,
                    0.01748582255024167,
                    0.838067459732462,
                    0.42102023442995695,
                    0.5819096343556912,
                    0.2938242661004231,
                    0.7662697429536589,
                    0.4582090646801481,
                    0.4097799794934791,
                    0.7164386821974467,
                    0.7948790481155157,
                    0.7845441684689471,
                    0.32646024469555934,
                    0.06516803030574292,
                    0.000967246015281642,
                    0.9308486884706056,
                    0.2985568209754964,
                    0.15313846500582173,
                    0.23533712536403484,
                    0.3631828815129927,
                    0.061087824608889396,
                    0.5986966846000809,
                    0.22875325057231577,
                    0.3887161299231148,
                    0.32192879665651875,
                    0.38567031355911674,
                    0.3023547879203018,
                    0.6176511163004578,
                    0.737559098394381,
                    0.22376224338526607,
                    0.24603190137114472,
                    0.1257151678128,
                    0.6690788846667701,
                    0.3504138627063953,
                    0.9692341842523149,
                    0.6215789002301289,
                    0.07375297476024678,
                    0.8492071749508194,
                    0.4031624878122231,
                    0.2309433274318956,
                    0.08401682576743008,
                    0.9666171271240129,
                    0.7583906418894311,
                    0.9478224672855741,
                    0.2605206482745662,
                    0.657329609387713,
                    0.25964658628736026,
                    0.013275235807485353,
                    0.6861139977713399,
                    0.28338084693453247,
                    0.7449505615327037,
                    0.6281572472146418,
                    0.38941929390649,
                    0.18868156119782487,
                    0.1776249710063631,
                    0.7306677176554638,
                    0.028642267934411603,
                    0.8097924220184084,
                    0.9984481386737613,
                    0.1396491147390625,
                    0.012470087253756867,
                    0.5017326256648772,
                    0.9778736311288275,
                    0.2534889275411517,
                    0.9211086657075654,
                    0.6151248239121845,
                    0.7732039975051986,
                    0.9155449557039858,
                    0.7225555871938232,
                    0.32041802846843226,
                    0.6687073920998112,
                    0.141499640306614,
                    0.44829197193553494,
                    0.9008825344726293,
                    0.08089158604701718,
                    0.8963193753107306,
                    0.32339341676632094,
                    0.9757009361400164,
                    0.3068485695002532,
                    0.8653062852129743,
                    0.7548168927434532,
                    0.5009756271496112,
                    0.6723792281806689,
                    0.6246983186519669,
                    0.9561636867816479,
                    0.8559299996045541,
                    0.5195419072625573,
                    0.27471314533944113,
                    0.6839718967728515,
                    0.263147669808136,
                    0.056484832029024656,
                    0.4170408112573487,
                    0.8359378327422554,
                    0.005413981142482149,
                    0.38465582762233974,
                    0.10977684063334048,
                    0.3424605827910654,
                    0.20574215006086938,
                    0.7649282488247192,
                    0.5661358509918973,
                    0.7474828018258326,
                    0.3193642903878432,
                    0.159165716096211,
                    0.0921866858954381,
                    0.0883455329083429,
                    0.6940944775552915,
                    0.7132635936237536,
                    0.27955875266182195,
                    0.3170956653861805,
                    0.2033318681973988,
                    0.024614029848903707,
                    0.8457566608635972,
                    0.13706944572923585,
                    0.48883299365213184,
                    0.2494473730518615,
                    0.4260720916424602,
                    0.6458861410139539,
                    0.5698048747948339,
                    0.785850980286421,
                    0.44191290988248233,
                    0.867084870825831,
                    0.6550416755508879,
                    0.7124761600024687,
                    0.28725397247061524,
                    0.5435149907640239,
                    0.23920172271700857,
                    0.18397669609383105,
                    0.07409907503744129,
                    0.45937946515120276,
                    0.733015918107267,
                    0.7835053608595064,
                    0.4289327539731831,
                    0.7666827923749983,
                    0.5295780166702254,
                    0.6547263297920664,
                    0.2401640969123523,
                    0.11240747929971784,
                    0.904603699637957,
                    0.04427358352429178,
                    0.46777136313392265,
                    0.5186355714010238,
                    0.7460619062718015,
                    0.9545321229481597,
                    0.8101307966214574,
                    0.36727975104089794,
                    0.35571484258969643,
                    0.8110105390670495,
                    0.10595599390750543,
                    0.2296885878311199,
                    0.5568859719374362,
                    0.1880917031831637,
                    0.7814717275314009,
                    0.2695292229970545,
                    0.047720250494515004,
                    0.17536462432217625,
                    0.736705644045753,
                    0.4390524485008718,
                    0.3149091345892153,
                    0.22280599674679913,
                    0.9960278302555079,
                    0.7617326127079639,
                    0.4528271896961422,
                    0.7742641883332074,
                    0.33672531213636736,
                    0.5011424986570334,
                    0.5201755056754045,
                    0.046908864966818564,
                    0.938801781667172,
                    0.5614499826107363,
                    0.23798297781530264,
                    0.29368249425723403,
                    0.894940742401027,
                    0.2360741162843536,
                    0.7760814516678739,
                    0.49229500066191123,
                    0.16304269951959527,
                    0.8274062949720353,
                    0.2579564174691811,
                    0.8608975085659824,
                    0.7512386845771679,
                    0.7263130299221685,
                    0.3798046564005405,
                    0.0616137680219393,
                    0.07625495278976313,
                    0.8282044641671672,
                    0.5286194547778557,
                    0.40709708394284116,
                    0.0905527911367876,
                    0.6019903214947203,
                    0.3294573387901065,
                    0.11699258468594909,
                    0.3346340365764394,
                    0.3075195037923265,
                    0.8777919273645786,
                    0.31790978502212,
                    0.9377897061410054,
                    0.2200776417199607,
                    0.5135227074499275,
                    0.4621949961704893,
                    0.8725081529619969,
                    0.710869438379462,
                    0.8293979323978186,
                    0.6130674681452132,
                    0.7710642601312409,
                    0.3165975481961637,
                    0.5690430969176685,
                    0.28257839660025175,
                    0.007288503397477664,
                    0.3934617675598798,
                    0.3371134270469702,
                    0.6505510183768456,
                    0.16085643992703902,
                    0.9880176589326953,
                    0.5245321053707579,
                    0.7525206483375259,
                    0.12367585343072307,
                    0.4326142975730859,
                    0.19347374869568645,
                    0.23093114756510658,
                    0.9233930462777629,
                    0.6415116491951033,
                    0.8656730837355787,
                    0.674647993773248,
                    0.5680233258861926,
                    0.12193171364074407,
                    0.7832258064432294,
                    0.2609046058379286,
                    0.4362876808058239,
                    0.7331689664239959,
                    0.31288771469669774,
                    0.7896967502056406,
                    0.9609696851456543,
                    0.2641921172142756,
                    0.6240915894965862,
                    0.648994329980729,
                    0.386901192563048,
                    0.06273403340544015,
                    0.13001357241876166,
                    0.1421745358026777,
                    0.003288921286808466,
                    0.47115487101802034,
                    0.8463823602582371,
                    0.660326495078144,
                    0.9106363041101663,
                    0.7856136659947245,
                    0.7978353617557997,
                    0.9930029810118134,
                    0.652406292996713,
                    0.2582629762209099,
                    0.6919692106381602,
                    0.3414844196105933,
                    0.45901840296080243,
                    0.133690659251124,
                    0.07473596576744335,
                    0.2602348378966668,
                    0.8726137272462651,
                    0.771374965557437,
                    0.7549574652121454,
                    0.09960175925290493,
                    0.2095840682145319,
                    0.003190587341040718,
                    0.6848138218661662,
                    0.7418118927079179,
                    0.6362738859476548,
                    0.4997088442912643,
                    0.6857802769165589,
                    0.3355291768128703,
                    0.809270867433907,
                    0.6964170865665233,
                    0.15648610703561983,
                    0.34270078696744344,
                    0.39029718383366296,
                    0.06327997248481754,
                    0.38866879187234826,
                    0.5893135252537212,
                    0.795003144656609,
                    0.770209526790338,
                    0.21351233570690664,
                    0.8159919225258891,
                    0.08610950183427013,
                    0.9086181052567291,
                    0.16678542493000492,
                    0.4135765623250387,
                    0.6160495078540207,
                    0.32585433987726764,
                    0.12810593122187852,
                    0.5409147862761452,
                    0.7682117111643813,
                    0.8397583357476671,
                    0.34727123515633296,
                    0.38955558374150057,
                    0.6465819896842439,
                    0.665255561378124,
                    0.9872998527047133,
                    0.395550616896991,
                    0.0306590154569093,
                    0.6453844205837399,
                    0.5644312212814592,
                    0.04517730980923773,
                    0.6042507276794614,
                    0.7848183414198343,
                    0.7973235945794781,
                    0.7342305716733549,
                    0.5073414619148634,
                    0.7922553769666177,
                    0.05761691677565883,
                    0.12870535547061035,
                    0.9102867731378065,
                    0.768723083195892,
                    0.9069407676186998,
                    0.8660001683465064,
                    0.589032861988007,
                    0.4102856864849359,
                    0.5871676021248473,
                    0.8360225203045117,
                    0.10013676198721799,
                    0.6107663577532576,
                    0.5887174673300687,
                    0.8403534767944614,
                    0.3367747611166946,
                    0.32995000516140194,
                    0.6494111742888882,
                    0.8032983421757037,
                    0.6116664504842394,
                    0.14587020783708038,
                    0.8038571489804782,
                    0.8915075420085371,
                    0.5395708902105868,
                    0.07888612050287425,
                    0.011237809943065113,
                    0.09687253432343335,
                    0.05766424239094137,
                    0.8427353564441373,
                    0.7050955595188227,
                    0.7283007274357639,
                    0.35151936115100824,
                    0.5505861644676578,
                    0.5002970177191216,
                    0.8124357282191621,
                    0.6735650189811814,
                    0.6922836633552073,
                    0.6721279914445221,
                    0.26492773000407255,
                    0.775196551189203,
                    0.8919245902596893,
                    0.1636362664723675,
                    0.059964009374556926,
                    0.43536710098268316,
                    0.8015587994030285,
                    0.24675354838045616,
                    0.6448697537166816,
                    0.9872607397732875,
                    0.46695851637154495,
                    0.31035051221871923,
                    0.11891566631057437,
                    0.8662421531679809,
                    0.9799369014791878,
                    0.7467897341348717,
                    0.26929731944040813,
                    0.43792958989837083,
                    0.2800137299918328,
                    0.35634215328909125,
                    0.9750152608709267,
                    0.8363085725084004,
                    0.07523984251777394,
                    0.2559017869643263,
                    0.4386525287484715,
                    0.40857541990290636,
                    0.8318958799815477,
                    0.46074936905333663,
                    0.0413626072620652,
                    0.9963900476320426,
                    0.7721896957195777,
                    0.16799673871075393,
                    0.8604127592765913,
                    0.018455542891348653,
                    0.622242286551212,
                    0.28337474304631205,
                    0.21575408119414052,
                    0.7238916078466102,
                    0.8196749682511218,
                    0.913622312862682,
                    0.8454369131341278,
                    0.5615046831223061,
                    0.3751425486559622,
                    0.25703358476197724,
                    0.5847341201036859,
                    0.8353272086378739,
                    0.8800702618044491,
                    0.7279123568606303,
                    0.4572283858174243,
                    0.21821128037441662,
                    0.6303637553661116,
                    0.33128818524082837,
                    0.10899538207784543,
                    0.49078125992368005,
                    0.38325968397741184,
                    0.32237316131490745,
                    0.6822587287024054,
                    0.987930712976603,
                    0.6142981499367864,
                    0.2338000295092193
                  ],
                  "y": [
                    0.09694315151748212,
                    -0.5188412412309413,
                    -0.5224341176930529,
                    0.9923229381998535,
                    0.5005996854737762,
                    -0.6799865888077079,
                    0.7584729790482112,
                    -0.9000804790776811,
                    -0.6089135235793182,
                    -0.9594062980726996,
                    0.8991979049280194,
                    -0.9379945792102251,
                    0.7251222194478746,
                    -0.7883540554397659,
                    -0.154509180425064,
                    -0.7708465291278506,
                    -0.6382506211147847,
                    0.11220498212737606,
                    0.9562405593659118,
                    -0.48328883612528273,
                    0.6849683080546394,
                    0.9856391932330619,
                    -0.2834857692763666,
                    0.13936229803407207,
                    -0.7580432032405842,
                    -0.045903981834723995,
                    0.45010018948459773,
                    -0.8359859673764174,
                    -0.08047841034258574,
                    0.06672265761233231,
                    0.654863211864777,
                    -0.7654109890793084,
                    -0.45784296806975044,
                    -0.3049649221623876,
                    -0.025135746435313466,
                    -0.4561189894015647,
                    -0.7846282679262422,
                    -0.09096190256161396,
                    -0.9488734843659039,
                    0.9614641035088056,
                    0.5553065688854479,
                    -0.3425674545831303,
                    0.6324458883050188,
                    0.06835009622372845,
                    -0.08502017364159786,
                    -0.1398118105638484,
                    -0.37667522025282363,
                    0.012602836492867198,
                    -0.33930935654650773,
                    0.06808089761298408,
                    0.1426746146369018,
                    0.8935090497470859,
                    0.49329581558816815,
                    0.08634393058957346,
                    -0.0368688458198958,
                    0.2776811830461523,
                    -0.5290621488819649,
                    -0.10889715102001163,
                    0.31964595661063244,
                    0.7285120412759696,
                    0.4087654997137904,
                    0.56913294422719,
                    0.1799200428070058,
                    -0.2514488463589506,
                    -0.3211077864387011,
                    -0.7499515717506737,
                    -0.3386913098363622,
                    -0.6781192817633386,
                    -0.49865297644407436,
                    -0.6789422641872116,
                    0.24675878993894673,
                    0.4553713221608924,
                    -0.1179047260347812,
                    0.4304675311335635,
                    -0.6865645081837053,
                    -0.36159572865279443,
                    0.5390370801536795,
                    -0.24114479906792252,
                    0.39935151367238597,
                    -0.286829880979079,
                    0.8181293150538258,
                    0.40120166500145804,
                    0.18243413604957448,
                    0.6481809545840413,
                    0.421385035072793,
                    0.6633467817475664,
                    0.9672005983663261,
                    -0.8193632151603603,
                    0.35505216332685485,
                    0.8359997817281879,
                    -0.8832512149070344,
                    -0.35044636872590096,
                    -0.2289491740575822,
                    -0.06642346183916281,
                    0.17767846330998482,
                    -0.23249224520577627,
                    -0.7900568480793115,
                    -0.8128853259284354,
                    0.6266491668127634,
                    0.0675248819273444,
                    -0.5644346434384242,
                    -0.8328873994392842,
                    0.7113615081479301,
                    -0.22351241286999501,
                    0.007815233006388755,
                    -0.5179407676449994,
                    -0.9438852584787465,
                    -0.9599356758874587,
                    0.21784241117817338,
                    -0.5588068681278173,
                    0.3819072263745307,
                    -0.3742196142907306,
                    -0.26116344346503917,
                    0.5746127530705245,
                    0.722285352798026,
                    0.5039650282039023,
                    0.6111480909723126,
                    0.7786920862852826,
                    -0.1523266313547882,
                    -0.3704854887583138,
                    -0.6339066431924834,
                    -0.701091316327195,
                    -0.008337822693356367,
                    0.23537726862332842,
                    0.4640582751830067,
                    -0.1387491720447851,
                    0.6437231173401707,
                    0.8059986512825026,
                    -0.7083894197078675,
                    -0.21024879135649455,
                    -0.7842280411028282,
                    -0.37462074775565757,
                    0.9722868522982719,
                    0.9675312446845306,
                    0.9167615341857716,
                    0.2647867361298297,
                    -0.14013259436481817,
                    -0.6032211473038809,
                    0.1155450370337725,
                    -0.040570627536786086,
                    -0.8683741351150356,
                    -0.7997942550245947,
                    0.7869894805218698,
                    0.2616315511509584,
                    0.45622259053409264,
                    -0.03875206749149451,
                    0.8278843860924219,
                    0.1369692369057749,
                    0.4002893634838889,
                    0.06845302087016947,
                    -0.39056758685310977,
                    0.2319747388586233,
                    0.5498179861326868,
                    -0.6508865661811116,
                    -0.763991550197278,
                    -0.29622922513922045,
                    0.6793624660919939,
                    -0.6284901070009319,
                    0.820477032887936,
                    0.5612666121377421,
                    0.02951333748355922,
                    0.8485101617009847,
                    0.3591898173387782,
                    0.26250053940677387,
                    0.9399040757538946,
                    0.8132047231463226,
                    -0.35091364711277606,
                    0.9409366803176338,
                    -0.9236087788186267,
                    -0.1850985939653531,
                    -0.269588625413268,
                    -0.8561319592767487,
                    -0.6120696757787445,
                    -0.29998319694971887,
                    0.6362052628182773,
                    0.5129504042686484,
                    -0.7694019989541327,
                    0.7249727142342393,
                    0.47546628604115626,
                    0.5971190591095226,
                    0.2075795755216281,
                    -0.6009101833098331,
                    -0.26259581133863286,
                    0.9887959825458335,
                    0.0961506582228484,
                    0.12032437776714344,
                    -0.8935914789470649,
                    -0.02279623942964526,
                    -0.3724101532654298,
                    -0.26772898070871465,
                    -0.17258256906715363,
                    0.27041607611252205,
                    0.571628677524914,
                    0.9032725150779812,
                    0.7757579688681366,
                    0.9145432009551779,
                    -0.293852535901747,
                    -0.806696695902936,
                    -0.44414852527304927,
                    -0.014607672295261054,
                    -0.851037760689962,
                    -0.5595769960935775,
                    0.9284605998610687,
                    0.7410633510518605,
                    -0.6701267551370187,
                    -0.683683062663409,
                    -0.754405183879022,
                    -0.8717112098415372,
                    -0.45743191914535153,
                    0.2068361955444058,
                    -0.8325526007280737,
                    -0.05317444290208018,
                    0.2177109260652459,
                    0.10353145266189623,
                    0.6165272538733932,
                    -0.3976236269192748,
                    0.6944453547827112,
                    -0.4051761648296264,
                    0.9138249224199564,
                    0.3660002533812321,
                    -0.049345188998280554,
                    0.673170156829155,
                    0.23732578940101545,
                    0.13813420367144058,
                    0.7595106324925742,
                    0.3831289873240362,
                    0.8040120626064831,
                    -0.17872757944839512,
                    -0.5160219036734364,
                    -0.2696020634506857,
                    0.23800844006013433,
                    -0.5516186142110653,
                    0.9942431186272391,
                    0.5321764599018011,
                    -0.9993166509486107,
                    0.4115144255824956,
                    0.7954150534471855,
                    0.055270186822957035,
                    -0.49138189312612335,
                    -0.15708222139258732,
                    -0.5487990315884037,
                    -0.15795118244092254,
                    0.25218036748165984,
                    -0.7234954650778505,
                    -0.5376204021192199,
                    0.09135913722544187,
                    -0.16547128677086786,
                    -0.30500270880348546,
                    0.6316280702958632,
                    -0.3380455214378095,
                    0.3301870810194367,
                    0.011470116092108018,
                    0.4640138454615026,
                    -0.9402858810102201,
                    -0.9638473198646524,
                    -0.7607874200408211,
                    0.9217301648536493,
                    0.8853824943809054,
                    0.4352182342296398,
                    -0.07074271970341561,
                    -0.13386059820806673,
                    -0.4103826494296028,
                    -0.01634340198930495,
                    -0.7198246197652127,
                    -0.7793046353798154,
                    0.587062063834064,
                    0.63109349778813,
                    -0.4691946564682574,
                    -0.8863399437944017,
                    -0.3756924923286411,
                    0.9738980626563878,
                    -0.05912712214923732,
                    0.7128874715005158,
                    0.8926962337297466,
                    -0.8323619162044626,
                    -0.45229581769286575,
                    -0.9889284934259506,
                    -0.28791907485577095,
                    0.4058849887308287,
                    0.8625185012521683,
                    -0.6976750764421684,
                    0.4686067334829145,
                    -0.6059738381083886,
                    0.635767318576983,
                    -0.3104919270145894,
                    0.9467031856903809,
                    0.9173638880388073,
                    -0.3413875650142144,
                    0.7171977843091821,
                    0.6471735385933346,
                    -0.729095724279361,
                    0.8854173520471684,
                    0.6662862775233138,
                    -0.8223687501133368,
                    -0.9010865733612041,
                    0.30769884564501226,
                    0.9396001183030414,
                    0.11751047270644155,
                    0.5978905335771234,
                    0.6159510261637586,
                    -0.38586255936236236,
                    -0.05520437996898697,
                    -0.0019042440889140977,
                    0.16416197708449243,
                    -0.7687907819981346,
                    0.762131692846038,
                    0.5592396569377347,
                    0.3311850259617546,
                    0.30814503033418994,
                    0.02343567135407465,
                    0.9668455369825433,
                    0.7044348054607028,
                    -0.28325754553805105,
                    -0.542144570513821,
                    -0.805708592566019,
                    -0.18780268647206055,
                    0.892243717646743,
                    0.7854455346341722,
                    -0.4358306029403374,
                    0.06846994751357127,
                    -0.005812123864575192,
                    0.7225490135293215,
                    0.22861650394486155,
                    0.026816809727441937,
                    -0.9619037486771935,
                    -0.8942716868001175,
                    0.33983460261992016,
                    0.6255832045512404,
                    0.05745958544412222,
                    0.21355167492568272,
                    0.2439206824743234,
                    -0.8690355142751027,
                    0.6093844829347925,
                    -0.5289876535400524,
                    -0.04928275754773992,
                    0.10406757706202852,
                    0.9173272309399723,
                    0.9390228257683566,
                    0.4940567058032175,
                    -0.26734633188090084,
                    -0.5293719977246147,
                    0.5664592624111209,
                    0.29747975272448235,
                    0.45728324716503543,
                    0.6786807993291954,
                    -0.6418623606836267,
                    -0.27912100773129844,
                    -0.8613755516901234,
                    0.7247035392764498,
                    0.3918829847044263,
                    0.34699717511353834,
                    -0.4089729093205501,
                    -0.6660921453811133,
                    0.6255076285360894,
                    -0.2112664130716757,
                    -0.5581474757187781,
                    -0.7167639687671199,
                    -0.11873314870481044,
                    0.5418086998287048,
                    -0.06282077640249129,
                    0.8717935637772041,
                    -0.9040526982733468,
                    -0.9458923981766303,
                    -0.7723769945025576,
                    -0.5563992711615642,
                    0.7275415905472433,
                    0.7066997045244781,
                    -0.5363379729213582,
                    -0.24225962743763407,
                    -0.915505289958144,
                    0.49852668795613386,
                    -0.02121395704527984,
                    0.255901529652627,
                    0.6805616887603969,
                    -0.889089784449334,
                    -0.15318511042031102,
                    0.5444921710147159,
                    -0.04073541582442308,
                    -0.22909451693335559,
                    0.8235756838090165,
                    -0.4819145253621402,
                    0.19204811660266774,
                    -0.14355510022200701,
                    -0.5486086667201533,
                    0.8630493586185588,
                    0.5871148743548933,
                    0.9453234684462455,
                    0.0048689450607173335,
                    -0.7707198416417058,
                    -0.3979186428130641,
                    -0.8888976106856099,
                    -0.43638890641295514,
                    0.8508621334633493,
                    -0.12427182484688837,
                    -0.21552875928404291,
                    -0.6248700636314175,
                    -0.02246093679737937,
                    0.6220783470883933,
                    -0.5945372838759071,
                    -0.2753360335590267,
                    -0.48139772756455956,
                    0.5533164862981581,
                    0.9944318377245611,
                    -0.6344989333394739,
                    -0.436082346511262,
                    -0.9905836834440478,
                    0.5618593762505524,
                    0.8667462833052666,
                    -0.8750018026490813,
                    0.21892442853519722,
                    0.7105877572995625,
                    -0.6839340934736158,
                    -0.543989372755068,
                    -0.3452362882084663,
                    0.7768443889043117,
                    0.3497427344791979,
                    0.6079616098714815,
                    0.240334124069006,
                    0.001980569155245915,
                    -0.9617307397565715,
                    -0.8638037609944311,
                    -0.3022038978195032,
                    -0.1325373312128164,
                    0.2086360932823299,
                    -0.7451089371344011,
                    0.9708084526884422,
                    0.051564718423174005,
                    -0.31151343751908267,
                    0.10153225540595323,
                    0.7018537211961473,
                    0.9985679627701067,
                    0.8913559240203632,
                    0.2778183660654545,
                    0.5901953150923829,
                    -0.8736882662258008,
                    -0.8479799424203878,
                    0.36296973290428003,
                    -0.24713022713411226,
                    -0.45058708614721055,
                    0.13707081950222055,
                    0.37563282083306926,
                    0.7686072278883416,
                    0.5705520923474712,
                    -0.31514727662854525,
                    0.13983753980727642,
                    -0.15028474514545143,
                    -0.5064159188475759,
                    -0.09570452209483382,
                    0.07335025849742727,
                    0.7563078046788221,
                    -0.8373767764797242,
                    0.24526681706892606,
                    0.02828839962269014,
                    -0.1975820157434418,
                    -0.8223735929231795,
                    -0.36927300240313343,
                    0.4309074873474148,
                    0.09333704467158266,
                    0.7956183545525588,
                    0.18579000440932547,
                    -0.07674252692457895,
                    -0.08668149213238974,
                    0.3229015039559353,
                    -0.07894232262883105,
                    -0.5900409058912761,
                    -0.58831074936938,
                    0.5741913462342709,
                    -0.6193562743123529,
                    0.07071980786570053,
                    -0.5965916561829054,
                    0.7209340628068759,
                    -0.1637661807182691,
                    0.18540046684697908,
                    -0.509146408436522,
                    0.5060351684882587,
                    0.8089276621956623,
                    0.03895621107669767,
                    0.8456408554857793,
                    -0.5148210864750669,
                    0.7544431289343159,
                    -0.05103038366912993,
                    0.7028516787208039,
                    -0.4825711469533349,
                    -0.9277851960729726,
                    -0.5260232593538703,
                    0.19248709412314935,
                    0.7789355773762932,
                    -0.19150643768474307,
                    0.2494039843799234,
                    0.9381735142410275,
                    -0.306465301172947,
                    0.7828918961897744,
                    -0.5846443259460168,
                    -0.1310843434927773,
                    0.2203171695939632,
                    0.46222757453629115,
                    -0.030801803519104665,
                    0.2342332034933723,
                    -0.7732003411674573,
                    0.10983316592659076,
                    -0.17098326075729697,
                    -0.7750886610132752,
                    -0.840461826586862,
                    0.48641128185692817,
                    0.4969918371212072,
                    -0.8378724854556288,
                    -0.49623771992556587,
                    0.6379865226072177,
                    0.8444133229442583,
                    -0.09413989619667706,
                    0.8510125595305889,
                    -0.2131326208423152,
                    -0.8898544904205814,
                    -0.12966636108546692,
                    -0.08116592337888195,
                    0.19267548993028671,
                    -0.08302922046758598,
                    -0.24030338023056852,
                    0.91180597512562,
                    -0.5430044652944834,
                    -0.12459073173491442,
                    -0.5922329739439691,
                    -0.7246142743033002,
                    -0.6966928694279773,
                    -0.3580207435216567,
                    0.8626706860965769,
                    -0.570984964279736,
                    0.03682270662972109,
                    0.48134468046105394,
                    0.08174649628256181,
                    -0.0885213312171389,
                    0.1720564315728783,
                    0.764414364938266,
                    -0.3473823159396965,
                    -0.7329060588473739,
                    0.2149928375268908,
                    0.8003799277245167,
                    0.40441127141887634,
                    0.2987644557486109,
                    0.7290222448714201,
                    0.3568098590083708,
                    -0.011592566142845095,
                    -0.04549239970609564,
                    0.30934441803591217,
                    0.4022432831233784,
                    0.689618592305117,
                    -0.3881331144989191,
                    -0.21737979249050698,
                    0.9000585875193272,
                    0.8989915789610685,
                    -0.05764852872239312,
                    0.10369642980716454,
                    -0.5424911662367717,
                    0.1468069162050032,
                    -0.7552011997057542,
                    -0.7870370698084139,
                    -0.9526845094817076,
                    -0.5811473982957838,
                    0.4262529587089676,
                    -0.036175500744280775,
                    0.5409425827427823,
                    0.41368895186707744,
                    -0.011308512456021713,
                    0.5039647376049357,
                    -0.3411350867932217,
                    0.6289154999340791,
                    0.12862588063503333,
                    -0.9441024375930063,
                    -0.016840952712826818,
                    0.7410894314237464,
                    0.8287160028960363,
                    -0.6889622975259937,
                    -0.2160204748167054,
                    0.9514830919649193,
                    -0.07627047496403905,
                    0.21509794203921717,
                    -0.8987127913834161,
                    -0.48485667284886547,
                    0.10095732621504028,
                    -0.6185809518400553,
                    -0.8179135547197249,
                    -0.1262827030461917,
                    -0.7960668451873494,
                    -0.8297908933050719,
                    0.6509240910154053,
                    0.37504270065319445,
                    0.8245428507875967,
                    -0.5390792516675851,
                    0.4236037979454903,
                    0.5989325611779246,
                    0.10594473468981525,
                    -0.3813276797058236,
                    0.22589953559821963,
                    0.9209515536428103,
                    0.6820062922247374,
                    0.3409403358929979,
                    -0.7607707349085098,
                    0.7468912895335345,
                    0.19737443758507234,
                    -0.1602240552114942,
                    -0.9335529172676766,
                    0.03694210524310626,
                    -0.7902740945598676,
                    0.9335242504412031,
                    0.6903355020754447,
                    0.3979855011536759,
                    -0.11749600797021165,
                    -0.17991083698889176,
                    -0.3161373244557313,
                    0.6715948828692195,
                    0.15515400716889216,
                    0.468061834726915,
                    0.43375271071006893,
                    -0.8794229979270649,
                    -0.3880885851861484,
                    -0.7867395819336134,
                    0.6243956923881804,
                    0.05600811723738408,
                    -0.8236935124773879,
                    -0.4992843754811269,
                    -0.5363197374917605,
                    0.7832591496089456,
                    0.9582028984754025,
                    0.032014969985339814,
                    -0.10029680545386621,
                    -0.5125468223104106,
                    -0.08723354071128386,
                    -0.6056196880898803,
                    0.8191985098411363,
                    0.5287514142828571,
                    -0.5620845215007175,
                    0.7340177541982209,
                    -0.45541083681952643,
                    0.7659410682316206,
                    -0.17677291154076946,
                    -0.040907810356882957,
                    0.963126942206225,
                    -0.2156568023159151,
                    -0.5816196842149848,
                    -0.7119089213215031,
                    0.9063565266313245,
                    0.6636899482977914,
                    0.012310757691667229,
                    -0.026534629040891433,
                    -0.9279050657218961,
                    0.11885516729726842,
                    -0.03441408068336149,
                    0.6112004061977254,
                    0.9639435574068944,
                    -0.27629151652735606,
                    -0.274270679806093,
                    -0.8177333506064373,
                    0.02998519960095347,
                    -0.5759566991004743,
                    -0.7025356698035945,
                    -0.09523772770317684,
                    -0.3326040032556885,
                    -0.6417723180519836,
                    0.5025186308793066,
                    0.8197202725392614,
                    0.9947262945614594,
                    -0.46743402740940376,
                    0.600890950251513,
                    0.4587166727780243,
                    -0.7970827914383505,
                    -0.858141777933334,
                    0.9785981592690136,
                    -0.5398857016633691,
                    0.4787479433559825,
                    0.5011677081031054,
                    -0.1323457463566451,
                    -0.09031632544164458,
                    -0.27612727410762394,
                    -0.2556655081385468,
                    0.9916814740499149,
                    -0.9542205078814159,
                    0.6258470410892147,
                    0.1916611481003061,
                    -0.5630649807645032,
                    0.06416248323964724,
                    0.45877071573626593,
                    0.4724262759877742,
                    -0.7165882136450634,
                    -0.008021150140883782,
                    -0.14550258221326873,
                    0.7912864483892885,
                    -0.9622313734813719,
                    -0.6346191070900409,
                    0.6595406104210995,
                    -0.3132488838281695,
                    -0.5017120766539613,
                    -0.3288094266985768,
                    0.43773208571804,
                    -0.6470898716377997,
                    0.06368674021236043,
                    -0.4151270221638568,
                    -0.16977854374351642,
                    -0.2564742885396931,
                    0.9484444738541222,
                    0.15966056870620848,
                    0.20145197461767017,
                    0.19392706491237788,
                    0.4460399719736259,
                    0.36803477244760185,
                    -0.8081337515093394,
                    0.6392250730826341,
                    -0.5808768488150109,
                    0.7563314397301677,
                    -0.7280054289273232,
                    0.668919661220857,
                    -0.5496744362619925,
                    0.35117426301802146,
                    -0.38536011424762684,
                    -0.6635591085021599,
                    0.3725960569039113,
                    0.6041961171094017,
                    -0.7271008867559372,
                    -0.8389914703564929,
                    -0.31011593127562254,
                    0.2538480621881243,
                    0.8250492967348708,
                    -0.3040722711193522,
                    0.1753759968857822,
                    0.7264489780503771,
                    0.16141359919134524,
                    0.6720941871558521,
                    0.7866553832245076,
                    -0.05101675292628638,
                    -0.3791312466546217,
                    0.6669897197300365,
                    0.021553287293059498,
                    0.35007706377828396,
                    0.9329317290836001,
                    0.2565951899986516,
                    -0.31682047710181416,
                    0.39490909042995015,
                    -0.7293448467518675,
                    -0.3817689248470304,
                    0.37004337514954444,
                    -0.2708483208917092,
                    0.9504876679855581,
                    -0.13138424899865364,
                    0.2913551543437094,
                    0.6863723504958044,
                    0.7199766594341386,
                    -0.4703130236785589,
                    -0.2896921643672412,
                    -0.8451947539713611,
                    0.6354986540659382,
                    -0.08443472570524846,
                    -0.17349386986068804,
                    0.32189971544510976,
                    -0.2113473015010532,
                    -0.4663011180232721,
                    -0.18518833409061486,
                    0.6490605111619894,
                    -0.2249465632532246,
                    -0.10912098560639594,
                    -0.23842233020532277,
                    0.9249108396390633,
                    0.1726505540625185,
                    0.2402242132336634,
                    0.31658011761536864,
                    0.7130773217282054,
                    -0.37939861867685565,
                    0.5545893056933513,
                    -0.37541577710720286,
                    0.14183227163832224,
                    -0.4856772676713359,
                    -0.20273735865228137,
                    0.9640563231323174,
                    -0.8982311219877701,
                    0.5234143989859619,
                    -0.7009099503219847,
                    0.8598624420193077,
                    0.6101424671723372,
                    0.20089354090868272,
                    -0.814854765968092,
                    0.7211194375157299,
                    -0.14574311920859295,
                    0.09764551803170929,
                    -0.4112543553810999,
                    -0.7199938380305377,
                    -0.535158908864988,
                    -0.8932022069955616,
                    -0.4904001990572735,
                    -0.9691613367480827,
                    0.8244123229263851,
                    -0.9689680262454208,
                    0.6552851826841946,
                    -0.8093806720147976,
                    0.06487714019676982,
                    -0.9098920213089914,
                    0.5995765703168447,
                    0.4121273737477067,
                    -0.274905681152426,
                    0.4415586973613621,
                    -0.6999789004630952,
                    0.22611988310327957,
                    -0.05167981461205784,
                    -0.6379704532583748,
                    -0.7100684400132737,
                    0.8864749810879362,
                    0.1693264193359869,
                    -0.5185980139556623,
                    -0.06847579577156115,
                    0.5408623287949375,
                    0.8579050031929041,
                    -0.9063466861310605,
                    -0.8837506443896368,
                    -0.32164154928071387,
                    -0.10276510926077131,
                    -0.4748528726800487,
                    0.40964932169411794,
                    -0.2297583599219406,
                    -0.319273989493303,
                    0.46070446122077846,
                    -0.8434201998738564,
                    -0.8263286826048726,
                    0.450231875621083,
                    -0.3317636175962959,
                    -0.4395879471204167,
                    -0.534146786365169,
                    0.16531090224706868,
                    -0.20293723658644947,
                    0.5966239944723863,
                    0.7138301998422278,
                    0.7810433163450341,
                    0.9891673684631601,
                    0.7712182287798812,
                    0.49388940966810435,
                    -0.5318784015856934,
                    -0.987725599214158,
                    0.051531077408355275,
                    -0.3791649409805553,
                    -0.14772533526377418,
                    -0.13890267104367182,
                    -0.7454488002903017,
                    -0.8530614755865886,
                    -0.5614976836534602,
                    0.7888776014337697,
                    0.5196219801664965,
                    -0.26059925724405075,
                    0.43357101229628436,
                    -0.4013688299485392,
                    -0.7294846525973935,
                    -0.29797918239731724,
                    -0.23230917094313885,
                    0.562055492100132,
                    -0.5174820107020168,
                    0.8497484476845543,
                    -0.9115231429454596,
                    0.9942086557025474,
                    -0.2533193397129161,
                    -0.12651477467484984,
                    -0.11189263988781861,
                    -0.5718040251554906,
                    -0.5413964892739724,
                    0.968380236911156,
                    -0.9581318577802511,
                    0.0457891591873929,
                    -0.4616731947440744,
                    0.5342930982530529,
                    -0.5856472650640023,
                    0.139689694370829,
                    0.6500896321593326,
                    -0.48963102610047393,
                    0.9580470819668794,
                    0.47311866769933353,
                    -0.22965189993530033,
                    0.5770756049823211,
                    0.30742067265184003,
                    -0.2533532086282828,
                    -0.6685872041805458,
                    -0.025450721549125754,
                    -0.05896327730815076,
                    -0.05031685479401116,
                    -0.5456050447183485,
                    -0.7066501472164042,
                    0.4028757346160319,
                    -0.5291322260868283,
                    0.7582037511730519,
                    -0.4785809496780913,
                    0.5318920266358993,
                    -0.45109253792771997,
                    -0.4359866882964982,
                    0.6743583705305174,
                    0.9879260980412827,
                    0.5442541644317349,
                    -0.6057343577318994,
                    0.5218401702160285,
                    -0.02005384671086663,
                    -0.44900844050814315,
                    -0.26121179084603674,
                    0.20591833335330145,
                    0.15958435763330514,
                    0.8690904515048377,
                    -0.316785612399743,
                    0.6319319057802628,
                    0.9967112453388991,
                    0.048893393940448115,
                    -0.9934291643293955,
                    0.9190773640776961,
                    0.91934578489273,
                    -0.5078891083574659,
                    -0.40651704037568615,
                    -0.8265073951212958,
                    0.2902756155361301,
                    0.05699452731617183,
                    -0.6534153857567864,
                    0.0008774791134060766,
                    0.34844342246527527,
                    -0.6179475857945167,
                    0.3697555330526081,
                    0.4281934427442984,
                    0.5960428631415247,
                    0.6898544775373558,
                    -0.8536250551544853,
                    0.22201969455162418,
                    0.9972664265157938,
                    -0.04247194973206336,
                    -0.19103908719222162,
                    0.0875473234052353,
                    -0.9745868040996846,
                    0.06027527566785862,
                    -0.5897452532998195,
                    0.05519546950398335,
                    -0.061500962737833564,
                    0.9017731555357256,
                    -0.3222594405510115,
                    0.749405806948769,
                    0.5714230588205804,
                    -0.6462300482200891,
                    0.28602203603390186,
                    0.6263598565255817,
                    -0.00044345772898113367,
                    -0.7993852538069746,
                    0.1106414344077784,
                    -0.7644364397997512,
                    0.08631531157374495,
                    0.6566110803211735,
                    0.3224931704351144,
                    0.8626384005264787,
                    0.12702193925159233,
                    0.5269534987103404,
                    0.9618177816835827,
                    -0.25695476377213833,
                    -0.3485212796547692,
                    -0.878732538442331,
                    0.4979918109906867,
                    0.6507385764305689,
                    0.9525322023629308,
                    -0.39444428510176754,
                    -0.47633497619029774,
                    0.7130828818365036,
                    0.49502672318769103,
                    0.4767178597466877,
                    -0.2788834165860832,
                    0.05662251690834896,
                    -0.24116223892325817,
                    -0.8072414935287906,
                    0.7389649136830057,
                    -0.6957856510986116,
                    0.1318941034906973,
                    -0.023897589891133553,
                    0.8848870887417286,
                    0.9373680736122776,
                    -0.15462328868050945,
                    -0.3602535138891325,
                    0.3359408841293292,
                    0.017044863988596948,
                    0.7989665048356991,
                    -0.43597945411077244,
                    0.31126030860146625,
                    0.5270080418447352,
                    -0.4123677252819209,
                    0.5275178528361866,
                    -0.3599357414126503,
                    0.7146977819334621,
                    -0.7621636528087239,
                    -0.2410655414330829,
                    0.6739542662359159,
                    -0.24148196168971614,
                    0.9220951478486483,
                    -0.7811264756651113,
                    -0.626341908087737,
                    -0.33428970006746317,
                    -0.25520240772983094,
                    0.9828501137763304,
                    -0.37071866776200624,
                    -0.7228317080742066,
                    0.3393685848809418,
                    -0.4528230159229971,
                    -0.7405301718404798,
                    0.347451581626377,
                    -0.9945744102375627,
                    0.5731130494556496,
                    -0.4801112562235539,
                    -0.9918822324142444,
                    -0.5497582669831287
                  ],
                  "type": "scatter",
                  "xaxis": "x4",
                  "yaxis": "y4"
                },
                {
                  "line": {
                    "color": "#2E86AB",
                    "width": 3
                  },
                  "marker": {
                    "size": 8
                  },
                  "mode": "lines+markers",
                  "name": "Daily Trend",
                  "showlegend": false,
                  "x": [
                    "2025-06-29",
                    "2025-06-30",
                    "2025-07-01",
                    "2025-07-02",
                    "2025-07-03",
                    "2025-07-04",
                    "2025-07-05",
                    "2025-07-06"
                  ],
                  "y": [
                    0.08452107380098901,
                    -0.018450850879056364,
                    0.021832319087552465,
                    0.011354519247842943,
                    -0.014111892229452078,
                    -0.01967470451865724,
                    0.017875932429409967,
                    0.15350989731951464
                  ],
                  "type": "scatter",
                  "xaxis": "x5",
                  "yaxis": "y5"
                }
              ],
              "layout": {
                "template": {
                  "data": {
                    "histogram2dcontour": [
                      {
                        "type": "histogram2dcontour",
                        "colorbar": {
                          "outlinewidth": 0,
                          "ticks": ""
                        },
                        "colorscale": [
                          [
                            0,
                            "#0d0887"
                          ],
                          [
                            0.1111111111111111,
                            "#46039f"
                          ],
                          [
                            0.2222222222222222,
                            "#7201a8"
                          ],
                          [
                            0.3333333333333333,
                            "#9c179e"
                          ],
                          [
                            0.4444444444444444,
                            "#bd3786"
                          ],
                          [
                            0.5555555555555556,
                            "#d8576b"
                          ],
                          [
                            0.6666666666666666,
                            "#ed7953"
                          ],
                          [
                            0.7777777777777778,
                            "#fb9f3a"
                          ],
                          [
                            0.8888888888888888,
                            "#fdca26"
                          ],
                          [
                            1,
                            "#f0f921"
                          ]
                        ]
                      }
                    ],
                    "choropleth": [
                      {
                        "type": "choropleth",
                        "colorbar": {
                          "outlinewidth": 0,
                          "ticks": ""
                        }
                      }
                    ],
                    "histogram2d": [
                      {
                        "type": "histogram2d",
                        "colorbar": {
                          "outlinewidth": 0,
                          "ticks": ""
                        },
                        "colorscale": [
                          [
                            0,
                            "#0d0887"
                          ],
                          [
                            0.1111111111111111,
                            "#46039f"
                          ],
                          [
                            0.2222222222222222,
                            "#7201a8"
                          ],
                          [
                            0.3333333333333333,
                            "#9c179e"
                          ],
                          [
                            0.4444444444444444,
                            "#bd3786"
                          ],
                          [
                            0.5555555555555556,
                            "#d8576b"
                          ],
                          [
                            0.6666666666666666,
                            "#ed7953"
                          ],
                          [
                            0.7777777777777778,
                            "#fb9f3a"
                          ],
                          [
                            0.8888888888888888,
                            "#fdca26"
                          ],
                          [
                            1,
                            "#f0f921"
                          ]
                        ]
                      }
                    ],
                    "heatmap": [
                      {
                        "type": "heatmap",
                        "colorbar": {
                          "outlinewidth": 0,
                          "ticks": ""
                        },
                        "colorscale": [
                          [
                            0,
                            "#0d0887"
                          ],
                          [
                            0.1111111111111111,
                            "#46039f"
                          ],
                          [
                            0.2222222222222222,
                            "#7201a8"
                          ],
                          [
                            0.3333333333333333,
                            "#9c179e"
                          ],
                          [
                            0.4444444444444444,
                            "#bd3786"
                          ],
                          [
                            0.5555555555555556,
                            "#d8576b"
                          ],
                          [
                            0.6666666666666666,
                            "#ed7953"
                          ],
                          [
                            0.7777777777777778,
                            "#fb9f3a"
                          ],
                          [
                            0.8888888888888888,
                            "#fdca26"
                          ],
                          [
                            1,
                            "#f0f921"
                          ]
                        ]
                      }
                    ],
                    "heatmapgl": [
                      {
                        "type": "heatmapgl",
                        "colorbar": {
                          "outlinewidth": 0,
                          "ticks": ""
                        },
                        "colorscale": [
                          [
                            0,
                            "#0d0887"
                          ],
                          [
                            0.1111111111111111,
                            "#46039f"
                          ],
                          [
                            0.2222222222222222,
                            "#7201a8"
                          ],
                          [
                            0.3333333333333333,
                            "#9c179e"
                          ],
                          [
                            0.4444444444444444,
                            "#bd3786"
                          ],
                          [
                            0.5555555555555556,
                            "#d8576b"
                          ],
                          [
                            0.6666666666666666,
                            "#ed7953"
                          ],
                          [
                            0.7777777777777778,
                            "#fb9f3a"
                          ],
                          [
                            0.8888888888888888,
                            "#fdca26"
                          ],
                          [
                            1,
                            "#f0f921"
                          ]
                        ]
                      }
                    ],
                    "contourcarpet": [
                      {
                        "type": "contourcarpet",
                        "colorbar": {
                          "outlinewidth": 0,
                          "ticks": ""
                        }
                      }
                    ],
                    "contour": [
                      {
                        "type": "contour",
                        "colorbar": {
                          "outlinewidth": 0,
                          "ticks": ""
                        },
                        "colorscale": [
                          [
                            0,
                            "#0d0887"
                          ],
                          [
                            0.1111111111111111,
                            "#46039f"
                          ],
                          [
                            0.2222222222222222,
                            "#7201a8"
                          ],
                          [
                            0.3333333333333333,
                            "#9c179e"
                          ],
                          [
                            0.4444444444444444,
                            "#bd3786"
                          ],
                          [
                            0.5555555555555556,
                            "#d8576b"
                          ],
                          [
                            0.6666666666666666,
                            "#ed7953"
                          ],
                          [
                            0.7777777777777778,
                            "#fb9f3a"
                          ],
                          [
                            0.8888888888888888,
                            "#fdca26"
                          ],
                          [
                            1,
                            "#f0f921"
                          ]
                        ]
                      }
                    ],
                    "surface": [
                      {
                        "type": "surface",
                        "colorbar": {
                          "outlinewidth": 0,
                          "ticks": ""
                        },
                        "colorscale": [
                          [
                            0,
                            "#0d0887"
                          ],
                          [
                            0.1111111111111111,
                            "#46039f"
                          ],
                          [
                            0.2222222222222222,
                            "#7201a8"
                          ],
                          [
                            0.3333333333333333,
                            "#9c179e"
                          ],
                          [
                            0.4444444444444444,
                            "#bd3786"
                          ],
                          [
                            0.5555555555555556,
                            "#d8576b"
                          ],
                          [
                            0.6666666666666666,
                            "#ed7953"
                          ],
                          [
                            0.7777777777777778,
                            "#fb9f3a"
                          ],
                          [
                            0.8888888888888888,
                            "#fdca26"
                          ],
                          [
                            1,
                            "#f0f921"
                          ]
                        ]
                      }
                    ],
                    "mesh3d": [
                      {
                        "type": "mesh3d",
                        "colorbar": {
                          "outlinewidth": 0,
                          "ticks": ""
                        }
                      }
                    ],
                    "scatter": [
                      {
                        "fillpattern": {
                          "fillmode": "overlay",
                          "size": 10,
                          "solidity": 0.2
                        },
                        "type": "scatter"
                      }
                    ],
                    "parcoords": [
                      {
                        "type": "parcoords",
                        "line": {
                          "colorbar": {
                            "outlinewidth": 0,
                            "ticks": ""
                          }
                        }
                      }
                    ],
                    "scatterpolargl": [
                      {
                        "type": "scatterpolargl",
                        "marker": {
                          "colorbar": {
                            "outlinewidth": 0,
                            "ticks": ""
                          }
                        }
                      }
                    ],
                    "bar": [
                      {
                        "error_x": {
                          "color": "#2a3f5f"
                        },
                        "error_y": {
                          "color": "#2a3f5f"
                        },
                        "marker": {
                          "line": {
                            "color": "#E5ECF6",
                            "width": 0.5
                          },
                          "pattern": {
                            "fillmode": "overlay",
                            "size": 10,
                            "solidity": 0.2
                          }
                        },
                        "type": "bar"
                      }
                    ],
                    "scattergeo": [
                      {
                        "type": "scattergeo",
                        "marker": {
                          "colorbar": {
                            "outlinewidth": 0,
                            "ticks": ""
                          }
                        }
                      }
                    ],
                    "scatterpolar": [
                      {
                        "type": "scatterpolar",
                        "marker": {
                          "colorbar": {
                            "outlinewidth": 0,
                            "ticks": ""
                          }
                        }
                      }
                    ],
                    "histogram": [
                      {
                        "marker": {
                          "pattern": {
                            "fillmode": "overlay",
                            "size": 10,
                            "solidity": 0.2
                          }
                        },
                        "type": "histogram"
                      }
                    ],
                    "scattergl": [
                      {
                        "type": "scattergl",
                        "marker": {
                          "colorbar": {
                            "outlinewidth": 0,
                            "ticks": ""
                          }
                        }
                      }
                    ],
                    "scatter3d": [
                      {
                        "type": "scatter3d",
                        "line": {
                          "colorbar": {
                            "outlinewidth": 0,
                            "ticks": ""
                          }
                        },
                        "marker": {
                          "colorbar": {
                            "outlinewidth": 0,
                            "ticks": ""
                          }
                        }
                      }
                    ],
                    "scattermapbox": [
                      {
                        "type": "scattermapbox",
                        "marker": {
                          "colorbar": {
                            "outlinewidth": 0,
                            "ticks": ""
                          }
                        }
                      }
                    ],
                    "scatterternary": [
                      {
                        "type": "scatterternary",
                        "marker": {
                          "colorbar": {
                            "outlinewidth": 0,
                            "ticks": ""
                          }
                        }
                      }
                    ],
                    "scattercarpet": [
                      {
                        "type": "scattercarpet",
                        "marker": {
                          "colorbar": {
                            "outlinewidth": 0,
                            "ticks": ""
                          }
                        }
                      }
                    ],
                    "carpet": [
                      {
                        "aaxis": {
                          "endlinecolor": "#2a3f5f",
                          "gridcolor": "white",
                          "linecolor": "white",
                          "minorgridcolor": "white",
                          "startlinecolor": "#2a3f5f"
                        },
                        "baxis": {
                          "endlinecolor": "#2a3f5f",
                          "gridcolor": "white",
                          "linecolor": "white",
                          "minorgridcolor": "white",
                          "startlinecolor": "#2a3f5f"
                        },
                        "type": "carpet"
                      }
                    ],
                    "table": [
                      {
                        "cells": {
                          "fill": {
                            "color": "#EBF0F8"
                          },
                          "line": {
                            "color": "white"
                          }
                        },
                        "header": {
                          "fill": {
                            "color": "#C8D4E3"
                          },
                          "line": {
                            "color": "white"
                          }
                        },
                        "type": "table"
                      }
                    ],
                    "barpolar": [
                      {
                        "marker": {
                          "line": {
                            "color": "#E5ECF6",
                            "width": 0.5
                          },
                          "pattern": {
                            "fillmode": "overlay",
                            "size": 10,
                            "solidity": 0.2
                          }
                        },
                        "type": "barpolar"
                      }
                    ],
                    "pie": [
                      {
                        "automargin": true,
                        "type": "pie"
                      }
                    ]
                  },
                  "layout": {
                    "autotypenumbers": "strict",
                    "colorway": [
                      "#636efa",
                      "#EF553B",
                      "#00cc96",
                      "#ab63fa",
                      "#FFA15A",
                      "#19d3f3",
                      "#FF6692",
                      "#B6E880",
                      "#FF97FF",
                      "#FECB52"
                    ],
                    "font": {
                      "color": "#2a3f5f"
                    },
                    "hovermode": "closest",
                    "hoverlabel": {
                      "align": "left"
                    },
                    "paper_bgcolor": "white",
                    "plot_bgcolor": "#E5ECF6",
                    "polar": {
                      "bgcolor": "#E5ECF6",
                      "angularaxis": {
                        "gridcolor": "white",
                        "linecolor": "white",
                        "ticks": ""
                      },
                      "radialaxis": {
                        "gridcolor": "white",
                        "linecolor": "white",
                        "ticks": ""
                      }
                    },
                    "ternary": {
                      "bgcolor": "#E5ECF6",
                      "aaxis": {
                        "gridcolor": "white",
                        "linecolor": "white",
                        "ticks": ""
                      },
                      "baxis": {
                        "gridcolor": "white",
                        "linecolor": "white",
                        "ticks": ""
                      },
                      "caxis": {
                        "gridcolor": "white",
                        "linecolor": "white",
                        "ticks": ""
                      }
                    },
                    "coloraxis": {
                      "colorbar": {
                        "outlinewidth": 0,
                        "ticks": ""
                      }
                    },
                    "colorscale": {
                      "sequential": [
                        [
                          0,
                          "#0d0887"
                        ],
                        [
                          0.1111111111111111,
                          "#46039f"
                        ],
                        [
                          0.2222222222222222,
                          "#7201a8"
                        ],
                        [
                          0.3333333333333333,
                          "#9c179e"
                        ],
                        [
                          0.4444444444444444,
                          "#bd3786"
                        ],
                        [
                          0.5555555555555556,
                          "#d8576b"
                        ],
                        [
                          0.6666666666666666,
                          "#ed7953"
                        ],
                        [
                          0.7777777777777778,
                          "#fb9f3a"
                        ],
                        [
                          0.8888888888888888,
                          "#fdca26"
                        ],
                        [
                          1,
                          "#f0f921"
                        ]
                      ],
                      "sequentialminus": [
                        [
                          0,
                          "#0d0887"
                        ],
                        [
                          0.1111111111111111,
                          "#46039f"
                        ],
                        [
                          0.2222222222222222,
                          "#7201a8"
                        ],
                        [
                          0.3333333333333333,
                          "#9c179e"
                        ],
                        [
                          0.4444444444444444,
                          "#bd3786"
                        ],
                        [
                          0.5555555555555556,
                          "#d8576b"
                        ],
                        [
                          0.6666666666666666,
                          "#ed7953"
                        ],
                        [
                          0.7777777777777778,
                          "#fb9f3a"
                        ],
                        [
                          0.8888888888888888,
                          "#fdca26"
                        ],
                        [
                          1,
                          "#f0f921"
                        ]
                      ],
                      "diverging": [
                        [
                          0,
                          "#8e0152"
                        ],
                        [
                          0.1,
                          "#c51b7d"
                        ],
                        [
                          0.2,
                          "#de77ae"
                        ],
                        [
                          0.3,
                          "#f1b6da"
                        ],
                        [
                          0.4,
                          "#fde0ef"
                        ],
                        [
                          0.5,
                          "#f7f7f7"
                        ],
                        [
                          0.6,
                          "#e6f5d0"
                        ],
                        [
                          0.7,
                          "#b8e186"
                        ],
                        [
                          0.8,
                          "#7fbc41"
                        ],
                        [
                          0.9,
                          "#4d9221"
                        ],
                        [
                          1,
                          "#276419"
                        ]
                      ]
                    },
                    "xaxis": {
                      "gridcolor": "white",
                      "linecolor": "white",
                      "ticks": "",
                      "title": {
                        "standoff": 15
                      },
                      "zerolinecolor": "white",
                      "automargin": true,
                      "zerolinewidth": 2
                    },
                    "yaxis": {
                      "gridcolor": "white",
                      "linecolor": "white",
                      "ticks": "",
                      "title": {
                        "standoff": 15
                      },
                      "zerolinecolor": "white",
                      "automargin": true,
                      "zerolinewidth": 2
                    },
                    "scene": {
                      "xaxis": {
                        "backgroundcolor": "#E5ECF6",
                        "gridcolor": "white",
                        "linecolor": "white",
                        "showbackground": true,
                        "ticks": "",
                        "zerolinecolor": "white",
                        "gridwidth": 2
                      },
                      "yaxis": {
                        "backgroundcolor": "#E5ECF6",
                        "gridcolor": "white",
                        "linecolor": "white",
                        "showbackground": true,
                        "ticks": "",
                        "zerolinecolor": "white",
                        "gridwidth": 2
                      },
                      "zaxis": {
                        "backgroundcolor": "#E5ECF6",
                        "gridcolor": "white",
                        "linecolor": "white",
                        "showbackground": true,
                        "ticks": "",
                        "zerolinecolor": "white",
                        "gridwidth": 2
                      }
                    },
                    "shapedefaults": {
                      "line": {
                        "color": "#2a3f5f"
                      }
                    },
                    "annotationdefaults": {
                      "arrowcolor": "#2a3f5f",
                      "arrowhead": 0,
                      "arrowwidth": 1
                    },
                    "geo": {
                      "bgcolor": "white",
                      "landcolor": "#E5ECF6",
                      "subunitcolor": "white",
                      "showland": true,
                      "showlakes": true,
                      "lakecolor": "white"
                    },
                    "title": {
                      "x": 0.05
                    },
                    "mapbox": {
                      "style": "light"
                    }
                  }
                },
                "xaxis": {
                  "anchor": "y",
                  "domain": [
                    0.55,
                    1
                  ]
                },
                "yaxis": {
                  "anchor": "x",
                  "domain": [
                    0.7777777777777778,
                    1
                  ]
                },
                "xaxis2": {
                  "anchor": "y2",
                  "domain": [
                    0,
                    0.45
                  ]
                },
                "yaxis2": {
                  "anchor": "x2",
                  "domain": [
                    0.3888888888888889,
                    0.6111111111111112
                  ]
                },
                "xaxis3": {
                  "anchor": "y3",
                  "domain": [
                    0.55,
                    1
                  ]
                },
                "yaxis3": {
                  "anchor": "x3",
                  "domain": [
                    0.3888888888888889,
                    0.6111111111111112
                  ]
                },
                "xaxis4": {
                  "anchor": "y4",
                  "domain": [
                    0,
                    0.45
                  ]
                },
                "yaxis4": {
                  "anchor": "x4",
                  "domain": [
                    0,
                    0.22222222222222224
                  ]
                },
                "xaxis5": {
                  "anchor": "y5",
                  "domain": [
                    0.55,
                    1
                  ]
                },
                "yaxis5": {
                  "anchor": "x5",
                  "domain": [
                    0,
                    0.22222222222222224
                  ]
                },
                "annotations": [
                  {
                    "font": {
                      "size": 16
                    },
                    "showarrow": false,
                    "text": "Sentiment Distribution",
                    "x": 0.225,
                    "xanchor": "center",
                    "xref": "paper",
                    "y": 1,
                    "yanchor": "bottom",
                    "yref": "paper"
                  },
                  {
                    "font": {
                      "size": 16
                    },
                    "showarrow": false,
                    "text": "Hourly Sentiment Patterns",
                    "x": 0.775,
                    "xanchor": "center",
                    "xref": "paper",
                    "y": 1,
                    "yanchor": "bottom",
                    "yref": "paper"
                  },
                  {
                    "font": {
                      "size": 16
                    },
                    "showarrow": false,
                    "text": "Emotion Analysis",
                    "x": 0.225,
                    "xanchor": "center",
                    "xref": "paper",
                    "y": 0.6111111111111112,
                    "yanchor": "bottom",
                    "yref": "paper"
                  },
                  {
                    "font": {
                      "size": 16
                    },
                    "showarrow": false,
                    "text": "Engagement vs Sentiment",
                    "x": 0.775,
                    "xanchor": "center",
                    "xref": "paper",
                    "y": 0.6111111111111112,
                    "yanchor": "bottom",
                    "yref": "paper"
                  },
                  {
                    "font": {
                      "size": 16
                    },
                    "showarrow": false,
                    "text": "Polarity vs Subjectivity",
                    "x": 0.225,
                    "xanchor": "center",
                    "xref": "paper",
                    "y": 0.22222222222222224,
                    "yanchor": "bottom",
                    "yref": "paper"
                  },
                  {
                    "font": {
                      "size": 16
                    },
                    "showarrow": false,
                    "text": "Daily Trend",
                    "x": 0.775,
                    "xanchor": "center",
                    "xref": "paper",
                    "y": 0.22222222222222224,
                    "yanchor": "bottom",
                    "yref": "paper"
                  }
                ],
                "title": {
                  "font": {
                    "size": 20
                  },
                  "text": "Mood of the World Analysis Dashboard",
                  "x": 0.5
                },
                "height": 1200,
                "showlegend": false
              },
              "config": {
                "plotlyServerURL": "https://plot.ly"
              }
            },
            "text/html": [
              "<div>                            <div id=\"871cddf5-411e-4ab4-9994-c600e50d8b6c\" class=\"plotly-graph-div\" style=\"height:1200px; width:100%;\"></div>            <script type=\"text/javascript\">                require([\"plotly\"], function(Plotly) {                    window.PLOTLYENV=window.PLOTLYENV || {};                                    if (document.getElementById(\"871cddf5-411e-4ab4-9994-c600e50d8b6c\")) {                    Plotly.newPlot(                        \"871cddf5-411e-4ab4-9994-c600e50d8b6c\",                        [{\"hole\":0.3,\"labels\":[\"Negative\",\"Positive\",\"Neutral\"],\"marker\":{\"colors\":[\"#2E86AB\",\"#A23B72\",\"#F18F01\"]},\"name\":\"Sentiment\",\"values\":[448,442,110],\"type\":\"pie\",\"domain\":{\"x\":[0.0,0.45],\"y\":[0.7777777777777778,1.0]}},{\"marker\":{\"color\":\"#A23B72\"},\"name\":\"Hourly Negative\",\"showlegend\":false,\"x\":[0,1,2,3,4,5,6,7,8,9,10,11,12,13,14,15,16,17,18,19,20,21,22,23],\"y\":[22,11,20,21,22,19,23,15,25,21,18,14,15,19,21,16,20,29,13,17,21,14,14,18],\"type\":\"bar\",\"xaxis\":\"x\",\"yaxis\":\"y\"},{\"marker\":{\"color\":\"#F18F01\"},\"name\":\"Hourly Neutral\",\"showlegend\":false,\"x\":[0,1,2,3,4,5,6,7,8,9,10,11,12,13,14,15,16,17,18,19,20,21,22,23],\"y\":[3,6,6,1,3,5,6,7,4,4,5,3,3,6,5,5,7,2,7,3,8,5,3,3],\"type\":\"bar\",\"xaxis\":\"x\",\"yaxis\":\"y\"},{\"marker\":{\"color\":\"#2E86AB\"},\"name\":\"Hourly Positive\",\"showlegend\":false,\"x\":[0,1,2,3,4,5,6,7,8,9,10,11,12,13,14,15,16,17,18,19,20,21,22,23],\"y\":[25,16,17,24,21,23,24,17,18,20,16,19,22,10,15,17,12,20,18,17,17,19,14,21],\"type\":\"bar\",\"xaxis\":\"x\",\"yaxis\":\"y\"},{\"marker\":{\"color\":[\"rgb(141,211,199)\",\"rgb(255,255,179)\",\"rgb(190,186,218)\",\"rgb(251,128,114)\",\"rgb(128,177,211)\",\"rgb(253,180,98)\",\"rgb(179,222,105)\",\"rgb(252,205,229)\"]},\"name\":\"Emotions\",\"showlegend\":false,\"x\":[\"joy\",\"anger\",\"anticipation\",\"trust\",\"sadness\",\"disgust\",\"fear\",\"surprise\"],\"y\":[134,132,128,126,126,121,121,112],\"type\":\"bar\",\"xaxis\":\"x2\",\"yaxis\":\"y2\"},{\"marker\":{\"color\":[\"#2E86AB\",\"#A23B72\",\"#F18F01\"],\"size\":20},\"mode\":\"markers+text\",\"name\":\"Engagement\",\"showlegend\":false,\"text\":[\"Negative\",\"Neutral\",\"Positive\"],\"textposition\":\"top center\",\"x\":[49.53794642857143,53.981818181818184,48.751131221719454],\"y\":[23.689732142857142,26.39090909090909,25.228506787330318],\"type\":\"scatter\",\"xaxis\":\"x3\",\"yaxis\":\"y3\"},{\"marker\":{\"color\":[0.6620284468014409,0.9624571568247023,0.5940890734340655,0.9568918078909217,0.5618148379372025,0.6195644506363815,0.967005948754719,0.9993509344543949,0.6841493798541844,0.7546485193878154,0.7326384123594537,0.8515335192170388,0.7532955563603296,0.8377981346563397,0.6613591954552758,0.5421767274036229,0.8164642413126963,0.7664246041577186,0.9398069900955334,0.6489880354730934,0.9566524791646466,0.9634919556586898,0.9071766914939079,0.6708281307418691,0.9733100978910538,0.5688664469688816,0.7181541056862208,0.6300039706754907,0.6046875920090269,0.9656923894392098,0.704578209826233,0.9049663725226857,0.7083738554305545,0.8640288264676139,0.7930714473948648,0.8980175126886221,0.7626824135676424,0.6822078784864303,0.616779048711261,0.8690707976977852,0.8844755709715382,0.9784707523469242,0.8054501280600803,0.5656475671698682,0.9706851163247601,0.8759378095765491,0.7585130146792952,0.6424008908225038,0.6002561388391259,0.8317098739437259,0.799815920598219,0.5277097693229265,0.9177579370310989,0.7183814355222062,0.8127514257902195,0.5964037917059417,0.9015976929161763,0.8853453211988325,0.5022178845160448,0.6977914171335078,0.5078096103251561,0.8247869482906447,0.5641617689844034,0.9527698614980529,0.855982115946923,0.7794759735458592,0.6203760719405047,0.7968391669299224,0.9714255416539794,0.7169057264895983,0.7039206867772647,0.8539782026467426,0.525146883377192,0.5439705525890985,0.7446702448021485,0.7595650440214996,0.6133787969824014,0.9235563092725626,0.6211126596408901,0.62635813795641,0.7776414190324925,0.8388634625015179,0.5740094190752651,0.5020175496115638,0.567202741119081,0.9066039368357991,0.8651643982457793,0.9025511833123969,0.6266008405745581,0.7591924428776928,0.6930783157464954,0.8030609337357018,0.8399659928687215,0.8132057893454605,0.7519272675559611,0.9359320831511959,0.9687667712606665,0.8360886282954565,0.9055399719799859,0.8960700819534461,0.6540579353298044,0.8606987227336191,0.778768240217788,0.9640043129785263,0.5477795494319819,0.6914785407087318,0.8829889167822733,0.8260509849213864,0.9274353517751225,0.5647597374615592,0.6862615515235826,0.7198137565539888,0.872350652030065,0.7030325821401694,0.518591533405597,0.62512394611632,0.7113092970005718,0.9313164741629393,0.5320972600907912,0.8005298928959106,0.9708524099195888,0.9450896927107106,0.8292903576956363,0.9626052944239726,0.5959042413883666,0.7532324836437407,0.9992488467286935,0.8781973639945675,0.9424560437513307,0.6498219466060655,0.5430140246658953,0.8838798052275061,0.7601616949231107,0.7692649469714463,0.6377909071193083,0.9072724157629457,0.8726125720964499,0.5028543015987583,0.9815637087525964,0.8862993250031124,0.8949814753182104,0.6618346845556476,0.6138919686507125,0.6378885737394324,0.8067103762889545,0.989051892471024,0.5315738626665969,0.9593194172400934,0.5627668624843876,0.9446383243533092,0.6107494313699986,0.8399503221911631,0.9748835217003181,0.7938243686249415,0.733903682166416,0.5265423736220695,0.6554649639373544,0.6012104907440028,0.8160118565429907,0.7299095977331365,0.7577095121124542,0.8997682864592602,0.866000020418124,0.9151429393000032,0.8358543281269606,0.7760098036028507,0.8538499311190976,0.7653593179617988,0.6268912279334693,0.9538970042056689,0.579474784012235,0.8072352173132702,0.9848597623280072,0.5793280923568621,0.7930976486669965,0.6129098285584802,0.9041252558978645,0.5980366991369082,0.8674343774634832,0.6400524017805173,0.5326820975053631,0.7413101490727106,0.6746954307875446,0.573842184974849,0.9359958105995443,0.6101560421022365,0.672254957059137,0.7230226983123373,0.5334515565771574,0.6394239057940354,0.5234721715056752,0.9045718836995655,0.8845892909533792,0.5466096283059734,0.8594055430701899,0.5794488245575112,0.6704657934416227,0.6411646837511493,0.6016007802247239,0.586845554256734,0.9459538882911629,0.7103595151972377,0.9668777645832758,0.7135666627114491,0.6661790359098148,0.5480947739248188,0.765066386286632,0.7053292151903546,0.8232861733186649,0.6747247492654812,0.5591944071840043,0.95735421125959,0.5696280714900327,0.6516011890236069,0.6229036638534636,0.6399196566514471,0.6563826321694859,0.9843464173060161,0.8543456518800144,0.7242998092820625,0.6351167341986621,0.6228778292998596,0.576035410472967,0.9996993724384271,0.5551912260714887,0.5640888773583475,0.5417464085800914,0.7025307626674413,0.9816949655131058,0.6444138159277173,0.7449231286155369,0.7860708927192381,0.7784241805369443,0.8677494653702598,0.784591314518363,0.9297604200739913,0.5264270085503354,0.5397858111327996,0.5161576825287709,0.6912040088503852,0.6515806724160987,0.7230375027541832,0.9828493346619791,0.8298194297362826,0.6540311128594145,0.5143117136889064,0.5842449854138945,0.7634219591221165,0.7724187067771845,0.8895528553801337,0.9878872404876555,0.9123536467010903,0.8517410697967747,0.6834984120651387,0.5532410416866897,0.8024127619698437,0.526518218194912,0.5260682673123938,0.6379035104720864,0.9912599142661842,0.511923673779487,0.5978257997719618,0.7402746600334194,0.9815158959003415,0.5168481849906787,0.5355373358755345,0.9841617241094567,0.6167724251192154,0.9268105917898317,0.5426012441763925,0.6309217287898934,0.5246581321909882,0.5319628170074482,0.9324103896464149,0.8828948637810197,0.9540185118562297,0.7812623181956184,0.9028208083865039,0.6038888782285299,0.9870470845585397,0.5684358212194538,0.7703131477219098,0.7194019709074504,0.674358752228789,0.9707996299906353,0.7822667892710329,0.6480950621787542,0.7370190649341557,0.5146310699366282,0.6917597848014947,0.551887399408389,0.5058498089339709,0.5630638996922217,0.5870058390984109,0.5765534645110046,0.7110557037406084,0.93725568371549,0.79011537932277,0.7818781463845637,0.9712494222683326,0.5255488625225107,0.7102626642973218,0.6872105458313005,0.8868730689992754,0.948512008365651,0.5001333658706293,0.6343110023714816,0.5672361441948086,0.6196858438942396,0.7765781351844219,0.7776030413351236,0.6293340272166841,0.6282703344718981,0.5332753949885143,0.7620718005559473,0.5840245820464021,0.7891654925492162,0.5427880133855754,0.6512801705560984,0.567390398788034,0.6103305182087463,0.71316476539029,0.8257599964070702,0.7421741671649273,0.9234860469492117,0.8746442530189585,0.8909415737192823,0.7489646727732654,0.5940754768894234,0.8501073435501245,0.787171589090161,0.9864815107194123,0.9282929020060182,0.6131507152014346,0.7478963846813711,0.5914855043165043,0.5771424667593371,0.75737371309704,0.9108213795605355,0.8890453288661834,0.8657057148005418,0.6334866143246967,0.7132393575364244,0.6603323948869915,0.8974821680953085,0.82155939098517,0.939023948355594,0.8254945693016675,0.6122601020064891,0.7472602185692434,0.8239595207065227,0.7823848178456576,0.9473267586975287,0.5194461583299147,0.6646150762162721,0.6990886604554718,0.6699178265579189,0.7869938586578582,0.7891410437431279,0.5055328082345553,0.5773909777189352,0.9931659777174644,0.8836856504744635,0.8072305169403018,0.9740877489343698,0.9833775481868096,0.6972088044749458,0.8329789721883113,0.7616389774080247,0.6862430985048344,0.5296954974890609,0.5718106797746394,0.8921647530739387,0.6040847775484588,0.5879377788921539,0.9016844522643428,0.7363510850643518,0.6813795741057014,0.6850220742497601,0.5905881379411675,0.7490469850126541,0.7408593242444491,0.501250139138725,0.5204468953476974,0.8488301805410217,0.5567112534849523,0.5294744577495394,0.6510007851043232,0.721326479316519,0.7714019830926626,0.7306219316614674,0.5860460103781633,0.6343643714882259,0.8480508933650981,0.8164236560047721,0.6453228814180392,0.971412759508679,0.5072462131087001,0.8901843654087438,0.9569573127966482,0.5754503441929089,0.9516865473226369,0.7437012504489541,0.895801569914153,0.8389691764905742,0.8894573048962902,0.9911455113334924,0.6200518661499372,0.6001874740231287,0.6508455100106247,0.8158890526645773,0.9947688784862183,0.5071229548772203,0.518006430451284,0.5108121194905271,0.9592791579298907,0.6723849762013776,0.9525406630091033,0.8586572553384915,0.7212712709869369,0.7784473493043507,0.8914288016662859,0.9232414344627529,0.6473145291721776,0.7253698782737992,0.7712582195118058,0.8128096878700671,0.7028528468382902,0.7883038143771709,0.965357786409808,0.8653215646201997,0.8176887908117344,0.9751649126284626,0.7066888180898458,0.7134626965009663,0.8318635666187917,0.96166724478995,0.7766542447571951,0.5337391403571139,0.7405836525798766,0.5683206944124808,0.8834227262724342,0.7012492676701627,0.839029466062267,0.6251359877372751,0.5146865623365615,0.836574019055754,0.6710339539630419,0.6053045926713359,0.5037994989761425,0.6085385673623342,0.6353522558582501,0.8270698586206551,0.7913357928130371,0.9091459962405625,0.500148998007403,0.5789593474566213,0.7777798618593948,0.6216333611123321,0.6245331113998451,0.5326290591485261,0.7794919723847195,0.6837467987769681,0.6833960663090377,0.7665614718873395,0.941047921344411,0.6275160662536448,0.5605739234494824,0.6077051237495069,0.6828742251871951,0.9759294792381682,0.9297634258331355,0.9172135246786215,0.648827113423038,0.7093186794922868,0.8647119549866176,0.5070110843316464,0.6376811651372996,0.7473660835577904,0.8461071107476899,0.8733848125097846,0.9741279231060505,0.675581049542237,0.7192502285960958,0.5532167355924003,0.8993169541021249,0.695290424785261,0.8216963420520139,0.9831100658668889,0.6836589984997006,0.5059840656441007,0.8409187545815289,0.6577810048176236,0.8855455429949461,0.5006134987775531,0.799647381766855,0.601145759887345,0.7082677070464178,0.5653818645326931,0.5491494644222521,0.7424580067640676,0.5697631306254827,0.9787363134708699,0.7171930522088534,0.5649867798036217,0.5948083041646852,0.8150025153075208,0.6930663370508093,0.9823407529785932,0.9985690188746605,0.586413433420699,0.9628165579401776,0.6487820303796381,0.7848689948798063,0.8512622319031675,0.6872460869712569,0.5998557549105766,0.5281881720268687,0.6456982885860352,0.6517688191346811,0.5824284465959675,0.9932796902964345,0.5629663844110815,0.6921572294360079,0.8821087786998016,0.5219017066210803,0.6274220951379936,0.7505641747253783,0.7840479568753089,0.8800504198549257,0.6605009507255151,0.5021763278117087,0.8049997838234024,0.5151730953722757,0.7000682438712298,0.5134224988103928,0.9185124974935505,0.7274576948918781,0.6368606756101998,0.9310718010627521,0.6767324630352745,0.9821682999075472,0.5520855382056153,0.9001375287181088,0.885746340107308,0.8462787224122579,0.5430301087103712,0.9306075192826455,0.5214710304024937,0.6885416776389424,0.904246945930984,0.8789990321378779,0.7146629124335915,0.617733805871396,0.8056326325908334,0.8209783214240379,0.8219342077600945,0.9683629038453505,0.5468250441589847,0.9410220989288252,0.6116415153056971,0.8613396384029044,0.7542867831607427,0.5304856025732059,0.7711937211849842,0.8412503565960884,0.9424486089971745,0.518454354099666,0.5880714444508661,0.7379962204056301,0.925557091680697,0.5246161481361478,0.6443781932613646,0.9294764427342415,0.9974761190319317,0.5904588993883926,0.7025029468784054,0.7698085341473362,0.8975321973448562,0.6596439820629586,0.9842588108291175,0.5337875835116861,0.6325458674332891,0.533810602742908,0.8173042612118551,0.5863284641312372,0.5892144472241898,0.6089872569656234,0.856893612620707,0.5872149590808574,0.8002095699429104,0.8740128424923863,0.8475644141062757,0.5410937484161567,0.6577395845342151,0.5383156521908667,0.7735298305032043,0.7186774780083471,0.7760317503981449,0.6892201122337263,0.5897325717047804,0.8205997748863698,0.9037942458128012,0.8269949612624632,0.7689785511809574,0.838485490741973,0.6048839633619265,0.8539617728880315,0.9538078574720779,0.9863072296281831,0.8076145667714754,0.9104060433702836,0.8538459759803141,0.6926003931885867,0.6840102184921711,0.5763848243067157,0.6831100178642255,0.7180803850345248,0.9386363307299719,0.8785595921805147,0.7419131909115791,0.9976814185595864,0.8387746123579187,0.653033679923431,0.9409616367760032,0.572037712868327,0.8368066041476349,0.6914607080244798,0.8821864138381144,0.858770525688789,0.9391235751187994,0.607397398066502,0.8432419406039842,0.807636241438006,0.5406582687181262,0.5191747235048974,0.6929509566724426,0.7091691405478959,0.9417938314379106,0.9986496981784851,0.7539195446292918,0.6297503012770612,0.6251768360054868,0.7195085535016733,0.9274576315002978,0.5023486834012769,0.5111376353833444,0.975793306741693,0.9487307779998722,0.6974029083877851,0.5242020856564412,0.9939679119907658,0.6643436467581532,0.8235006065492908,0.7244774821193469,0.5810751386834287,0.973774695093392,0.5602386750444559,0.7537154311923384,0.5407057325276016,0.7184522831111946,0.5966173032501099,0.684065029024377,0.8162162054217132,0.5228616252055078,0.7474420998228001,0.7229953927084002,0.8143558978247741,0.7042924655544756,0.6843788355446201,0.599660867303046,0.8977185120977846,0.9768329178613473,0.5419844188821032,0.8505292556624218,0.5458932867970854,0.8707349906775557,0.5276430934479515,0.6756530513701172,0.9009471740251467,0.9615622013287557,0.8404486113704948,0.6337635580813241,0.7954063955205588,0.5515906671626395,0.9114592083966748,0.7492983143035743,0.6384490896332452,0.8822659860837767,0.5945101501663157,0.8704070146684508,0.6506960443089427,0.699614932087585,0.5304447784005878,0.7957452737446354,0.9333065908169469,0.5121305523404723,0.6773227619023856,0.7742043558019955,0.9973059989332249,0.7987017595131274,0.6898224915740254,0.6897290082487068,0.7381468774566415,0.6554957547503908,0.9399570439296627,0.8054795799606114,0.7242625105536658,0.7727596940220224,0.9984852657241445,0.6257880353233679,0.8655029398162681,0.5304334671256903,0.7624062818464703,0.5679122210605654,0.7418472440455257,0.537960433427594,0.5930678167868795,0.5032167503057883,0.7272105335951767,0.7867794229783079,0.7493927498529488,0.5290281786615334,0.9597366545149224,0.7014038551902797,0.7716825829520796,0.8521455060483928,0.7343259480584452,0.6126091058198226,0.9391838794374654,0.7838780636808742,0.817830135145576,0.7572194214793362,0.5700724698504932,0.5136057263966762,0.7606913976968082,0.8345194762016503,0.6446566942413187,0.8745625673370155,0.8341328905291122,0.9266910479781587,0.6248766574251838,0.7974389674096332,0.5271092828560746,0.7435191106669379,0.9202318506479316,0.9727880750627781,0.6681739249099885,0.7866053344989834,0.9675731348597829,0.716016694985524,0.9998631923570357,0.881771963004889,0.5147003855919156,0.5929957926677332,0.8448145508848897,0.6855307930518971,0.6535999392066613,0.8946711861305521,0.7721881053906879,0.9765160225702749,0.5381113329760691,0.8286144968955491,0.825025655715502,0.6862418854536667,0.951850496887715,0.6674063350109013,0.9656610419860208,0.701958747378937,0.6912385212330127,0.6911858690287017,0.5753185702475907,0.7688047473677542,0.9047144976330439,0.8797673829451503,0.8728126331349253,0.6892298877841623,0.6093151411382536,0.7056531098799292,0.8725787918493427,0.8209811856892731,0.7288726194598472,0.5838750466718396,0.6007361208825772,0.7512914237026374,0.9804105544724165,0.7425987540469976,0.5320619990211146,0.904601362772889,0.9766097726132192,0.945839815345247,0.8426260539750527,0.6743138625520011,0.6025154320912641,0.9703167700265938,0.7218221597093826,0.7097404351440488,0.6027172126290636,0.5744530487982701,0.6213210653291155,0.8069852710260446,0.6351802104853885,0.8167651149667289,0.6290052367134722,0.9986495872341357,0.5512566983309984,0.6201544702545647,0.6572785064159644,0.8363622592662987,0.8761817519133448,0.5947063469411353,0.8623869644255464,0.5809745250860955,0.942435926116957,0.9706745681472687,0.5522597276908745,0.7113008181608481,0.6637958038939678,0.5727010598473286,0.9852161725041262,0.7052357986057176,0.5909365100473634,0.6333455728719347,0.6616812564546772,0.7794371795680753,0.6564771307812189,0.9415632226741735,0.8900853527283941,0.8659216590186085,0.9096672440974995,0.8555555998029601,0.8547603150556329,0.6608918918537837,0.9746003753750906,0.7873996198609801,0.6288044147958272,0.5556579263776712,0.7002745503276666,0.8853495630509778,0.8149162412504445,0.7346574212397132,0.8098398343989698,0.5113342984055367,0.7430152622264439,0.9707423640086881,0.5121078587381382,0.8626374319072438,0.9831085396051378,0.5294857966552621,0.5116255982149616,0.7375256424477119,0.9487222335379414,0.6466539964358127,0.9635187682793375,0.810764772741295,0.526276193841205,0.7701528543324456,0.9112360317773778,0.604453782931311,0.9183059346647862,0.7405485853605586,0.7161669925057612,0.593039547399774,0.7071751944326223,0.8485256139889596,0.7510138117464535,0.7113847268446147,0.5926216370430353,0.9475335384841619,0.7680505579813746,0.5589556770376785,0.876000295576802,0.6769532374927631,0.9163773353766118,0.9435767973191894,0.9955439945147002,0.8402319976145316,0.5769295308283311,0.8617914835985344,0.7932606354894717,0.8581064982018751,0.7737053891977044,0.6671237826272811,0.7803791304161629,0.7786301650654688,0.7452563622162529,0.9471397260402546,0.8667351390468951,0.8231749928058287,0.8389927515955846,0.7528627980487852,0.949787284490841,0.7822347025592812,0.6882981382392612,0.7478259562568549,0.6430199250275722,0.9702496094709583,0.5732281918764659,0.627171129054898,0.5331699032522069,0.6898521671842129,0.9523035161100646,0.9069592969528453,0.5741011125392652,0.932884567209618,0.6689860852262983,0.5852322687404616,0.5474715517350381,0.828098120316966,0.7564640088172656,0.9564087855600163,0.5269334379215143,0.9697407281758508,0.6939441268925911,0.6885970322460818,0.5243696641791074,0.5502737499910989,0.9997658912973696,0.8549130008115917,0.6753636803099858,0.5294368412781807,0.8241942806946185,0.8831288829129393,0.9321788412944894,0.6137384036826112,0.9941183612394573,0.9009745507539604,0.6615572010134779,0.9193468036728126,0.5468249492620869,0.5369338344238659,0.7520899555000657,0.9058584133300205,0.5255056231509281,0.9367090346367244,0.5883069666515626,0.5508769474276933,0.7909813273205649,0.5793748793991969,0.7348582245776751,0.5391875405734838,0.9002086886866653,0.9151700993078549,0.7558410466204994,0.6962734868989264,0.7041953525898199,0.8463812703787696,0.7305111725545361,0.9355054989861937,0.6034639593707005,0.6483379761185388,0.7184415152066423,0.5690867251383114,0.7623986647094512,0.991115084293347,0.8635759611697085,0.8410910577397139,0.5885332746209713,0.7098265051589168,0.5259697226249294,0.6066799884070282,0.9741964593208989,0.951939888851228,0.5372886642217345,0.9044105179883096,0.793785813391926,0.5193510202915652,0.8190641653201252,0.7911301859450416,0.7542181274510447,0.9320887517723082,0.5967409846951658,0.6718491737082632,0.7023418308110847,0.9152073997516754,0.8397180495360312,0.5065894877069154,0.6237162837366441,0.93640341556755,0.972709654854006,0.7010025613666792,0.5513293119551823,0.549105167937892,0.5265841924738968,0.8584789292492636,0.8649548087818772,0.9371567251407539,0.8816803894788436,0.6789485690377207,0.688650054727352,0.59824154775145,0.7453062815832507,0.6003133761737398,0.7529048259772799,0.8224677969090641,0.7286727088252111,0.6009896451396002,0.6599718347429494,0.8643615307364723,0.7973588020046578],\"colorbar\":{\"len\":0.3,\"title\":{\"text\":\"Confidence\"},\"x\":0.45},\"colorscale\":[[0.0,\"#440154\"],[0.1111111111111111,\"#482878\"],[0.2222222222222222,\"#3e4989\"],[0.3333333333333333,\"#31688e\"],[0.4444444444444444,\"#26828e\"],[0.5555555555555556,\"#1f9e89\"],[0.6666666666666666,\"#35b779\"],[0.7777777777777778,\"#6ece58\"],[0.8888888888888888,\"#b5de2b\"],[1.0,\"#fde725\"]],\"opacity\":0.6,\"showscale\":true,\"size\":4},\"mode\":\"markers\",\"name\":\"Polarity vs Subjectivity\",\"showlegend\":false,\"x\":[0.06791302814903988,0.8424775321747585,0.9127651132510518,0.006544031660540739,0.9626541351266817,0.35773784524399155,0.17119727324202672,0.0911864622338937,0.7665939680715715,0.3584119258162355,0.9457374627648887,0.9588582664319576,0.48028836935382824,0.32625026526630285,0.4002032591884044,0.8614111670055263,0.2309056410103888,0.21318447717924216,0.3731455802946573,0.7284024206191766,0.6133079492786455,0.7746003293695447,0.6366841391840249,0.10930466788650861,0.9880127288425973,0.3806720814227844,0.07145466459961014,0.7245543627892277,0.9839888567055391,0.11099138012777021,0.24242548229120153,0.3393237870680883,0.23436695765248594,0.5740701292932692,0.1165412867860467,0.18154041623577122,0.03549394354765889,0.18224894024568916,0.34485362228519645,0.5693624168551567,0.38982408069378893,0.562418651703385,0.023766345924578935,0.4465021824593868,0.4492739740375785,0.21918523823857938,0.757415313288905,0.7431426522288095,0.7299067386219231,0.3484976084498945,0.7699695916991128,0.1670282362900184,0.9812411465808973,0.7897449076561105,0.8445543181503328,0.5897303395439965,0.5004510462292397,0.033887224156009976,0.6624981076902212,0.03312216783214739,0.3220146833604097,0.10902613125063798,0.6526296115252658,0.48405262890798095,0.22121994391579702,0.23235370335181127,0.34137722768619483,0.8584446643834389,0.8493132335415832,0.7368618441871491,0.16471124622787114,0.008642165514805455,0.7413057356882955,0.22630026875113674,0.6301279550293558,0.7592141487439861,0.047077821505680406,0.5508164488051523,0.6068008103087299,0.030696382845405212,0.5687363227030785,0.5087835920123996,0.8907183563885752,0.5055512562230198,0.5912493990239525,0.09843029385530477,0.05500713359269649,0.5545717274306128,0.6574706273571661,0.277870681206312,0.0059616380342270014,0.6768967424825998,0.6566758043631716,0.561062051985091,0.523432401461463,0.5308411972655893,0.3997553554590796,0.04363193913499441,0.6482908606745819,0.6786383118930641,0.7587733581501366,0.6173481310553802,0.855414471215384,0.26634494847460155,0.2168773238829601,0.16609825519488708,0.9195058504325695,0.5763715303341929,0.8701145803168748,0.2953768222186396,0.7477570203714079,0.28118246060083374,0.015594431248194263,0.44897027357943486,0.609446860149828,0.1339270093552909,0.8738348791647363,0.4134983835691777,0.5990168795615006,0.4096787246517426,0.28473466914792556,0.5226404725325462,0.11965016734030454,0.580780188989633,0.6872204350913274,0.661899130362446,0.25231846040114925,0.7569671634080871,0.3362358178344055,0.6013725382894403,0.82557900238846,0.1930503547602901,0.3404182763254664,0.5979675381891917,0.9839749261918415,0.1592764227287491,0.531779254096693,0.19684743296368068,0.8664445261381487,0.28172844277873366,0.7326144091960511,0.11269969049664041,0.09097825542227822,0.24410224106818101,0.43001995281687533,0.6591329009573748,0.08443808698575617,0.904808000813168,0.02849847329173183,0.408543471219757,0.07797091629239383,0.07173088865359833,0.03425477110862807,0.8256730726469099,0.17801226621942734,0.18018053560169445,0.4827186300745929,0.3267920540816839,0.4667739664840641,0.3029387869194049,0.7579008519892,0.9498061942887467,0.49084386522389833,0.769832289482511,0.6513012850074344,0.097167836597287,0.8523557404181674,0.1246786414900346,0.6360523534128217,0.9534532663138904,0.6824526195267173,0.21408879049952356,0.22338479953863166,0.11405719039967521,0.4574577191362861,0.5142124700741602,0.3088435335638464,0.652138729049605,0.05760710421844051,0.05548689255510941,0.7662663017643655,0.9149722744354112,0.77768157546031,0.9085452388574953,0.95780851673131,0.1790356779958754,0.25535222945227587,0.42202495475079493,0.9090196009504982,0.41384234583141655,0.4259311969331975,0.057912482191358805,0.6554967481250629,0.31325418894548385,0.654454304063344,0.8793299941115018,0.6241218047146647,0.7141831301189977,0.055239436107346274,0.6486686333225832,0.3657599027685543,0.780830832684177,0.21447718037590702,0.7831440190687525,0.8235960280164167,0.577572226457137,0.31615454775812313,0.7589070335559525,0.2004831830245417,0.09932534871803567,0.9101341073134288,0.9327340294345644,0.237997900919651,0.606387353794365,0.8995937957608392,0.6373597831227289,0.08656014474568774,0.7249955008429052,0.812720664450713,0.055500350236129536,0.8333529890975859,0.9674966381516564,0.7013898790721198,0.2213531799151497,0.9082999856434408,0.04846673961354886,0.2816297327723022,0.9776599135850123,0.8354388449723608,0.7464833091706499,0.7852469532047123,0.3622657674323222,0.23623349943945893,0.33120056882760307,0.058443282601898794,0.31242117656246127,0.9496989091768964,0.004327924003779238,0.7483667454807419,0.5471901187727277,0.15322842069292908,0.5894125763576842,0.7243010155997555,0.5554952222055279,0.2938726191167079,0.41691412149905516,0.36254415948199237,0.5670153333173882,0.944965262916307,0.8614062535175778,0.8260591980095684,0.8693014023688447,0.3393592319664668,0.7837085181166378,0.6030903207746346,0.8977453792023433,0.2712930166760209,0.7023816932231339,0.582599168569537,0.7849443833366095,0.7406813402886534,0.5213154720275848,0.8830523789990787,0.092868560011515,0.6159572695816925,0.9767048591461776,0.4824500804751972,0.1472885635505864,0.1597935880308482,0.44100925742954045,0.7892872994649748,0.34719661154487413,0.5331231259990744,0.06050386643418304,0.44744334226555627,0.9884939344915785,0.24827601732267202,0.8531217713320003,0.8759091555250945,0.7960591362697397,0.20577120280046335,0.6414532547128501,0.2080438897220086,0.6495948617119444,0.05652392501997028,0.14294364275435145,0.6811758701717294,0.19838235979921293,0.09625197381488892,0.3493829001581771,0.424108643427064,0.5954688914452603,0.41821934435181374,0.4873925843426705,0.03774645073963023,0.7284998540964701,0.9301542441460395,0.7317035970176412,0.345544179087827,0.7198651780519806,0.119817576892981,0.04930137846724558,0.9611653300961487,0.6032223979637171,0.6017783531973222,0.9301014479544255,0.934039506173146,0.30758659923189646,0.7073416440321056,0.8176066303769619,0.47369413440755626,0.22326387413075843,0.7328223846522853,0.9377793306670154,0.7759700616445605,0.5422264551433496,0.24848681339023548,0.19616093792611855,0.033242756472266266,0.8332119472166916,0.027263838662289985,0.9111422839458596,0.27234683819091454,0.21754742634188295,0.49885453595697493,0.6260215036329139,0.7753319775197105,0.04790440261463247,0.21333296868816498,0.9414173167034079,0.06825360241448297,0.4510933199211583,0.10952938023595349,0.2811997758560649,0.9111291408743163,0.6413704907927807,0.2059174001355496,0.4193638599982178,0.8537637487978688,0.8304109762956557,0.14820433361186836,0.5550897583259671,0.5529586798660371,0.9722739474678554,0.48870506168849037,0.8983539183988027,0.8861090748776866,0.13551801955806397,0.20640608584320552,0.667528846411595,0.11129671686172615,0.7780688343614375,0.6728589210770882,0.021655178380533213,0.2925947319649066,0.9086611135381001,0.3942696250442025,0.33549127667204437,0.7439530258676573,0.617784311532242,0.42335839231532146,0.9111129630753947,0.08123385068523281,0.3427587741305582,0.7951821534637107,0.24657753726203246,0.722632802574679,0.30709952509864014,0.8110996870473919,0.20340058342542378,0.0438979462484993,0.5639011327568203,0.6263477032315425,0.6517159985927143,0.48083540913286815,0.38808239196763494,0.6990300549855292,0.3311290413078263,0.2500643174879349,0.7517379547034403,0.40754651471507186,0.4235969516912059,0.818957290926487,0.36534006927185103,0.022655443447513468,0.9357025027620336,0.5616422379048032,0.6721291722336836,0.4675252553210365,0.8776700496947992,0.9229491518353348,0.7641166809184917,0.6482668875880201,0.10276590593182344,0.195727465426898,0.7762277781876946,0.9261142780903657,0.8865271515840415,0.2772679675739287,0.7505016823794474,0.3677545074583207,0.12042318922437012,0.47429568469279526,0.18564709846203153,0.26617389854015616,0.45752318181779816,0.5054909294295412,0.7973571198117594,0.7893186993570709,0.08408169507705132,0.09793512283069306,0.8628626532237476,0.48512669134220665,0.07100074162635228,0.3904687146540591,0.657583962080263,0.6869837749128436,0.9687572643495802,0.9524756462044682,0.7893007583728792,0.23824008113263428,0.696979050020294,0.1581475961225921,0.1869399195623781,0.5444061741870724,0.9579619267352559,0.13168259285461392,0.5546172774191053,0.37865118714786294,0.3847815936640745,0.2506309686261674,0.913074902765225,0.9859637350306839,0.5199143633713977,0.7044907055867908,0.04360842803450293,0.4631129603230194,0.9930138051355242,0.39069813829838806,0.37153827419954,0.8229409858589577,0.434140425928923,0.06451556758095955,0.6325068622684835,0.0016978680969857995,0.3049739200684247,0.144148968915646,0.6577470325691189,0.7812813172385503,0.7633072681936572,0.7827128344138081,0.319661925829528,0.7777657797798837,0.06776294835402685,0.05991057687434875,0.25705304153652087,0.15225888136882548,0.28654813393653733,0.8327048284027333,0.46538356923489665,0.833553150171231,0.6684226256204094,0.4082005873617106,0.9216759397999932,0.4621073924517686,0.3021687767299044,0.41043852975139805,0.9718054207783883,0.08853641749564867,0.2209133555124818,0.3279879717875237,0.2983952505536335,0.7922110399641108,0.9401524458498824,0.8922640417753789,0.9546609416935737,0.8756630519919412,0.41916340411277797,0.002477163467225374,0.01877963930812898,0.42474203610181327,0.9507345596253948,0.688128819192857,0.3881449253388115,0.6027944033645788,0.3216791900837318,0.2738060561147009,0.3239155397357958,0.07177958380496396,0.37205183071572734,0.24068039532681318,0.49847628335318894,0.5281570760893317,0.4622604898432854,0.4902492099895547,0.818470351461814,0.2287417205410407,0.38413756394060194,0.3901927220518149,0.6309718970473462,0.2519109204282378,0.6996684661449498,0.9571456462119164,0.8166730912728736,0.8109855968548959,0.801975634900589,0.5973695582542445,0.40030166068267947,0.9649936106405654,0.12874910022559816,0.12293510759242221,0.9752693499982749,0.36704473910860436,0.016174837019895305,0.18712622029564807,0.7847378149169144,0.7667687555906729,0.7452460451524396,0.39625624745186117,0.43065020393385256,0.25290866046232907,0.23153670542338833,0.4139777165547548,0.7267982946096567,0.14073499832729697,0.7811430179361935,0.6488246154672679,0.6158220503663133,0.8308039738073818,0.7163254458833523,0.6144335964859813,0.005445794737058751,0.23394534180609328,0.8929627748361164,0.1478847644233231,0.1709701282466186,0.28660327683646414,0.21263513938532785,0.15106795809523377,0.5151618553337277,0.3097316848513778,0.30381595614130863,0.7095379280944754,0.07031460872890893,0.47433573142878394,0.6308532380700587,0.5362563369374321,0.2885965232456644,0.5603000837171453,0.06408243764168964,0.03810570057014717,0.49694004127425995,0.10667720417787474,0.4926027525531421,0.3190011190083655,0.5389389118109623,0.30025580871108704,0.4206676486282669,0.6185857177250951,0.7516601127064534,0.5736881250018602,0.4497144891674425,0.995534277774848,0.885724004097839,0.1932359006843779,0.461739708789645,0.1055332231661793,0.0220016878805942,0.7610708225790991,0.6516282820423471,0.5067828457292033,0.7620767713060781,0.28363206834039256,0.9952391915619954,0.5163371459648096,0.4361088640836044,0.040502371183613994,0.6832266451624361,0.3282753701350475,0.7416632570859799,0.5869364502676049,0.5458761145227173,0.43654381529922626,0.4246909441968767,0.7529277336573419,0.8002719287834541,0.15417295499783135,0.5384748790295947,0.3852266238286679,0.6487102220834219,0.9030800802806879,0.2365638894988238,0.8679903944414008,0.5799419625856198,0.1643178948000824,0.14645810938360093,0.7244691188514949,0.10332455430576715,0.6014632829758418,0.01748582255024167,0.838067459732462,0.42102023442995695,0.5819096343556912,0.2938242661004231,0.7662697429536589,0.4582090646801481,0.4097799794934791,0.7164386821974467,0.7948790481155157,0.7845441684689471,0.32646024469555934,0.06516803030574292,0.000967246015281642,0.9308486884706056,0.2985568209754964,0.15313846500582173,0.23533712536403484,0.3631828815129927,0.061087824608889396,0.5986966846000809,0.22875325057231577,0.3887161299231148,0.32192879665651875,0.38567031355911674,0.3023547879203018,0.6176511163004578,0.737559098394381,0.22376224338526607,0.24603190137114472,0.1257151678128,0.6690788846667701,0.3504138627063953,0.9692341842523149,0.6215789002301289,0.07375297476024678,0.8492071749508194,0.4031624878122231,0.2309433274318956,0.08401682576743008,0.9666171271240129,0.7583906418894311,0.9478224672855741,0.2605206482745662,0.657329609387713,0.25964658628736026,0.013275235807485353,0.6861139977713399,0.28338084693453247,0.7449505615327037,0.6281572472146418,0.38941929390649,0.18868156119782487,0.1776249710063631,0.7306677176554638,0.028642267934411603,0.8097924220184084,0.9984481386737613,0.1396491147390625,0.012470087253756867,0.5017326256648772,0.9778736311288275,0.2534889275411517,0.9211086657075654,0.6151248239121845,0.7732039975051986,0.9155449557039858,0.7225555871938232,0.32041802846843226,0.6687073920998112,0.141499640306614,0.44829197193553494,0.9008825344726293,0.08089158604701718,0.8963193753107306,0.32339341676632094,0.9757009361400164,0.3068485695002532,0.8653062852129743,0.7548168927434532,0.5009756271496112,0.6723792281806689,0.6246983186519669,0.9561636867816479,0.8559299996045541,0.5195419072625573,0.27471314533944113,0.6839718967728515,0.263147669808136,0.056484832029024656,0.4170408112573487,0.8359378327422554,0.005413981142482149,0.38465582762233974,0.10977684063334048,0.3424605827910654,0.20574215006086938,0.7649282488247192,0.5661358509918973,0.7474828018258326,0.3193642903878432,0.159165716096211,0.0921866858954381,0.0883455329083429,0.6940944775552915,0.7132635936237536,0.27955875266182195,0.3170956653861805,0.2033318681973988,0.024614029848903707,0.8457566608635972,0.13706944572923585,0.48883299365213184,0.2494473730518615,0.4260720916424602,0.6458861410139539,0.5698048747948339,0.785850980286421,0.44191290988248233,0.867084870825831,0.6550416755508879,0.7124761600024687,0.28725397247061524,0.5435149907640239,0.23920172271700857,0.18397669609383105,0.07409907503744129,0.45937946515120276,0.733015918107267,0.7835053608595064,0.4289327539731831,0.7666827923749983,0.5295780166702254,0.6547263297920664,0.2401640969123523,0.11240747929971784,0.904603699637957,0.04427358352429178,0.46777136313392265,0.5186355714010238,0.7460619062718015,0.9545321229481597,0.8101307966214574,0.36727975104089794,0.35571484258969643,0.8110105390670495,0.10595599390750543,0.2296885878311199,0.5568859719374362,0.1880917031831637,0.7814717275314009,0.2695292229970545,0.047720250494515004,0.17536462432217625,0.736705644045753,0.4390524485008718,0.3149091345892153,0.22280599674679913,0.9960278302555079,0.7617326127079639,0.4528271896961422,0.7742641883332074,0.33672531213636736,0.5011424986570334,0.5201755056754045,0.046908864966818564,0.938801781667172,0.5614499826107363,0.23798297781530264,0.29368249425723403,0.894940742401027,0.2360741162843536,0.7760814516678739,0.49229500066191123,0.16304269951959527,0.8274062949720353,0.2579564174691811,0.8608975085659824,0.7512386845771679,0.7263130299221685,0.3798046564005405,0.0616137680219393,0.07625495278976313,0.8282044641671672,0.5286194547778557,0.40709708394284116,0.0905527911367876,0.6019903214947203,0.3294573387901065,0.11699258468594909,0.3346340365764394,0.3075195037923265,0.8777919273645786,0.31790978502212,0.9377897061410054,0.2200776417199607,0.5135227074499275,0.4621949961704893,0.8725081529619969,0.710869438379462,0.8293979323978186,0.6130674681452132,0.7710642601312409,0.3165975481961637,0.5690430969176685,0.28257839660025175,0.007288503397477664,0.3934617675598798,0.3371134270469702,0.6505510183768456,0.16085643992703902,0.9880176589326953,0.5245321053707579,0.7525206483375259,0.12367585343072307,0.4326142975730859,0.19347374869568645,0.23093114756510658,0.9233930462777629,0.6415116491951033,0.8656730837355787,0.674647993773248,0.5680233258861926,0.12193171364074407,0.7832258064432294,0.2609046058379286,0.4362876808058239,0.7331689664239959,0.31288771469669774,0.7896967502056406,0.9609696851456543,0.2641921172142756,0.6240915894965862,0.648994329980729,0.386901192563048,0.06273403340544015,0.13001357241876166,0.1421745358026777,0.003288921286808466,0.47115487101802034,0.8463823602582371,0.660326495078144,0.9106363041101663,0.7856136659947245,0.7978353617557997,0.9930029810118134,0.652406292996713,0.2582629762209099,0.6919692106381602,0.3414844196105933,0.45901840296080243,0.133690659251124,0.07473596576744335,0.2602348378966668,0.8726137272462651,0.771374965557437,0.7549574652121454,0.09960175925290493,0.2095840682145319,0.003190587341040718,0.6848138218661662,0.7418118927079179,0.6362738859476548,0.4997088442912643,0.6857802769165589,0.3355291768128703,0.809270867433907,0.6964170865665233,0.15648610703561983,0.34270078696744344,0.39029718383366296,0.06327997248481754,0.38866879187234826,0.5893135252537212,0.795003144656609,0.770209526790338,0.21351233570690664,0.8159919225258891,0.08610950183427013,0.9086181052567291,0.16678542493000492,0.4135765623250387,0.6160495078540207,0.32585433987726764,0.12810593122187852,0.5409147862761452,0.7682117111643813,0.8397583357476671,0.34727123515633296,0.38955558374150057,0.6465819896842439,0.665255561378124,0.9872998527047133,0.395550616896991,0.0306590154569093,0.6453844205837399,0.5644312212814592,0.04517730980923773,0.6042507276794614,0.7848183414198343,0.7973235945794781,0.7342305716733549,0.5073414619148634,0.7922553769666177,0.05761691677565883,0.12870535547061035,0.9102867731378065,0.768723083195892,0.9069407676186998,0.8660001683465064,0.589032861988007,0.4102856864849359,0.5871676021248473,0.8360225203045117,0.10013676198721799,0.6107663577532576,0.5887174673300687,0.8403534767944614,0.3367747611166946,0.32995000516140194,0.6494111742888882,0.8032983421757037,0.6116664504842394,0.14587020783708038,0.8038571489804782,0.8915075420085371,0.5395708902105868,0.07888612050287425,0.011237809943065113,0.09687253432343335,0.05766424239094137,0.8427353564441373,0.7050955595188227,0.7283007274357639,0.35151936115100824,0.5505861644676578,0.5002970177191216,0.8124357282191621,0.6735650189811814,0.6922836633552073,0.6721279914445221,0.26492773000407255,0.775196551189203,0.8919245902596893,0.1636362664723675,0.059964009374556926,0.43536710098268316,0.8015587994030285,0.24675354838045616,0.6448697537166816,0.9872607397732875,0.46695851637154495,0.31035051221871923,0.11891566631057437,0.8662421531679809,0.9799369014791878,0.7467897341348717,0.26929731944040813,0.43792958989837083,0.2800137299918328,0.35634215328909125,0.9750152608709267,0.8363085725084004,0.07523984251777394,0.2559017869643263,0.4386525287484715,0.40857541990290636,0.8318958799815477,0.46074936905333663,0.0413626072620652,0.9963900476320426,0.7721896957195777,0.16799673871075393,0.8604127592765913,0.018455542891348653,0.622242286551212,0.28337474304631205,0.21575408119414052,0.7238916078466102,0.8196749682511218,0.913622312862682,0.8454369131341278,0.5615046831223061,0.3751425486559622,0.25703358476197724,0.5847341201036859,0.8353272086378739,0.8800702618044491,0.7279123568606303,0.4572283858174243,0.21821128037441662,0.6303637553661116,0.33128818524082837,0.10899538207784543,0.49078125992368005,0.38325968397741184,0.32237316131490745,0.6822587287024054,0.987930712976603,0.6142981499367864,0.2338000295092193],\"y\":[0.09694315151748212,-0.5188412412309413,-0.5224341176930529,0.9923229381998535,0.5005996854737762,-0.6799865888077079,0.7584729790482112,-0.9000804790776811,-0.6089135235793182,-0.9594062980726996,0.8991979049280194,-0.9379945792102251,0.7251222194478746,-0.7883540554397659,-0.154509180425064,-0.7708465291278506,-0.6382506211147847,0.11220498212737606,0.9562405593659118,-0.48328883612528273,0.6849683080546394,0.9856391932330619,-0.2834857692763666,0.13936229803407207,-0.7580432032405842,-0.045903981834723995,0.45010018948459773,-0.8359859673764174,-0.08047841034258574,0.06672265761233231,0.654863211864777,-0.7654109890793084,-0.45784296806975044,-0.3049649221623876,-0.025135746435313466,-0.4561189894015647,-0.7846282679262422,-0.09096190256161396,-0.9488734843659039,0.9614641035088056,0.5553065688854479,-0.3425674545831303,0.6324458883050188,0.06835009622372845,-0.08502017364159786,-0.1398118105638484,-0.37667522025282363,0.012602836492867198,-0.33930935654650773,0.06808089761298408,0.1426746146369018,0.8935090497470859,0.49329581558816815,0.08634393058957346,-0.0368688458198958,0.2776811830461523,-0.5290621488819649,-0.10889715102001163,0.31964595661063244,0.7285120412759696,0.4087654997137904,0.56913294422719,0.1799200428070058,-0.2514488463589506,-0.3211077864387011,-0.7499515717506737,-0.3386913098363622,-0.6781192817633386,-0.49865297644407436,-0.6789422641872116,0.24675878993894673,0.4553713221608924,-0.1179047260347812,0.4304675311335635,-0.6865645081837053,-0.36159572865279443,0.5390370801536795,-0.24114479906792252,0.39935151367238597,-0.286829880979079,0.8181293150538258,0.40120166500145804,0.18243413604957448,0.6481809545840413,0.421385035072793,0.6633467817475664,0.9672005983663261,-0.8193632151603603,0.35505216332685485,0.8359997817281879,-0.8832512149070344,-0.35044636872590096,-0.2289491740575822,-0.06642346183916281,0.17767846330998482,-0.23249224520577627,-0.7900568480793115,-0.8128853259284354,0.6266491668127634,0.0675248819273444,-0.5644346434384242,-0.8328873994392842,0.7113615081479301,-0.22351241286999501,0.007815233006388755,-0.5179407676449994,-0.9438852584787465,-0.9599356758874587,0.21784241117817338,-0.5588068681278173,0.3819072263745307,-0.3742196142907306,-0.26116344346503917,0.5746127530705245,0.722285352798026,0.5039650282039023,0.6111480909723126,0.7786920862852826,-0.1523266313547882,-0.3704854887583138,-0.6339066431924834,-0.701091316327195,-0.008337822693356367,0.23537726862332842,0.4640582751830067,-0.1387491720447851,0.6437231173401707,0.8059986512825026,-0.7083894197078675,-0.21024879135649455,-0.7842280411028282,-0.37462074775565757,0.9722868522982719,0.9675312446845306,0.9167615341857716,0.2647867361298297,-0.14013259436481817,-0.6032211473038809,0.1155450370337725,-0.040570627536786086,-0.8683741351150356,-0.7997942550245947,0.7869894805218698,0.2616315511509584,0.45622259053409264,-0.03875206749149451,0.8278843860924219,0.1369692369057749,0.4002893634838889,0.06845302087016947,-0.39056758685310977,0.2319747388586233,0.5498179861326868,-0.6508865661811116,-0.763991550197278,-0.29622922513922045,0.6793624660919939,-0.6284901070009319,0.820477032887936,0.5612666121377421,0.02951333748355922,0.8485101617009847,0.3591898173387782,0.26250053940677387,0.9399040757538946,0.8132047231463226,-0.35091364711277606,0.9409366803176338,-0.9236087788186267,-0.1850985939653531,-0.269588625413268,-0.8561319592767487,-0.6120696757787445,-0.29998319694971887,0.6362052628182773,0.5129504042686484,-0.7694019989541327,0.7249727142342393,0.47546628604115626,0.5971190591095226,0.2075795755216281,-0.6009101833098331,-0.26259581133863286,0.9887959825458335,0.0961506582228484,0.12032437776714344,-0.8935914789470649,-0.02279623942964526,-0.3724101532654298,-0.26772898070871465,-0.17258256906715363,0.27041607611252205,0.571628677524914,0.9032725150779812,0.7757579688681366,0.9145432009551779,-0.293852535901747,-0.806696695902936,-0.44414852527304927,-0.014607672295261054,-0.851037760689962,-0.5595769960935775,0.9284605998610687,0.7410633510518605,-0.6701267551370187,-0.683683062663409,-0.754405183879022,-0.8717112098415372,-0.45743191914535153,0.2068361955444058,-0.8325526007280737,-0.05317444290208018,0.2177109260652459,0.10353145266189623,0.6165272538733932,-0.3976236269192748,0.6944453547827112,-0.4051761648296264,0.9138249224199564,0.3660002533812321,-0.049345188998280554,0.673170156829155,0.23732578940101545,0.13813420367144058,0.7595106324925742,0.3831289873240362,0.8040120626064831,-0.17872757944839512,-0.5160219036734364,-0.2696020634506857,0.23800844006013433,-0.5516186142110653,0.9942431186272391,0.5321764599018011,-0.9993166509486107,0.4115144255824956,0.7954150534471855,0.055270186822957035,-0.49138189312612335,-0.15708222139258732,-0.5487990315884037,-0.15795118244092254,0.25218036748165984,-0.7234954650778505,-0.5376204021192199,0.09135913722544187,-0.16547128677086786,-0.30500270880348546,0.6316280702958632,-0.3380455214378095,0.3301870810194367,0.011470116092108018,0.4640138454615026,-0.9402858810102201,-0.9638473198646524,-0.7607874200408211,0.9217301648536493,0.8853824943809054,0.4352182342296398,-0.07074271970341561,-0.13386059820806673,-0.4103826494296028,-0.01634340198930495,-0.7198246197652127,-0.7793046353798154,0.587062063834064,0.63109349778813,-0.4691946564682574,-0.8863399437944017,-0.3756924923286411,0.9738980626563878,-0.05912712214923732,0.7128874715005158,0.8926962337297466,-0.8323619162044626,-0.45229581769286575,-0.9889284934259506,-0.28791907485577095,0.4058849887308287,0.8625185012521683,-0.6976750764421684,0.4686067334829145,-0.6059738381083886,0.635767318576983,-0.3104919270145894,0.9467031856903809,0.9173638880388073,-0.3413875650142144,0.7171977843091821,0.6471735385933346,-0.729095724279361,0.8854173520471684,0.6662862775233138,-0.8223687501133368,-0.9010865733612041,0.30769884564501226,0.9396001183030414,0.11751047270644155,0.5978905335771234,0.6159510261637586,-0.38586255936236236,-0.05520437996898697,-0.0019042440889140977,0.16416197708449243,-0.7687907819981346,0.762131692846038,0.5592396569377347,0.3311850259617546,0.30814503033418994,0.02343567135407465,0.9668455369825433,0.7044348054607028,-0.28325754553805105,-0.542144570513821,-0.805708592566019,-0.18780268647206055,0.892243717646743,0.7854455346341722,-0.4358306029403374,0.06846994751357127,-0.005812123864575192,0.7225490135293215,0.22861650394486155,0.026816809727441937,-0.9619037486771935,-0.8942716868001175,0.33983460261992016,0.6255832045512404,0.05745958544412222,0.21355167492568272,0.2439206824743234,-0.8690355142751027,0.6093844829347925,-0.5289876535400524,-0.04928275754773992,0.10406757706202852,0.9173272309399723,0.9390228257683566,0.4940567058032175,-0.26734633188090084,-0.5293719977246147,0.5664592624111209,0.29747975272448235,0.45728324716503543,0.6786807993291954,-0.6418623606836267,-0.27912100773129844,-0.8613755516901234,0.7247035392764498,0.3918829847044263,0.34699717511353834,-0.4089729093205501,-0.6660921453811133,0.6255076285360894,-0.2112664130716757,-0.5581474757187781,-0.7167639687671199,-0.11873314870481044,0.5418086998287048,-0.06282077640249129,0.8717935637772041,-0.9040526982733468,-0.9458923981766303,-0.7723769945025576,-0.5563992711615642,0.7275415905472433,0.7066997045244781,-0.5363379729213582,-0.24225962743763407,-0.915505289958144,0.49852668795613386,-0.02121395704527984,0.255901529652627,0.6805616887603969,-0.889089784449334,-0.15318511042031102,0.5444921710147159,-0.04073541582442308,-0.22909451693335559,0.8235756838090165,-0.4819145253621402,0.19204811660266774,-0.14355510022200701,-0.5486086667201533,0.8630493586185588,0.5871148743548933,0.9453234684462455,0.0048689450607173335,-0.7707198416417058,-0.3979186428130641,-0.8888976106856099,-0.43638890641295514,0.8508621334633493,-0.12427182484688837,-0.21552875928404291,-0.6248700636314175,-0.02246093679737937,0.6220783470883933,-0.5945372838759071,-0.2753360335590267,-0.48139772756455956,0.5533164862981581,0.9944318377245611,-0.6344989333394739,-0.436082346511262,-0.9905836834440478,0.5618593762505524,0.8667462833052666,-0.8750018026490813,0.21892442853519722,0.7105877572995625,-0.6839340934736158,-0.543989372755068,-0.3452362882084663,0.7768443889043117,0.3497427344791979,0.6079616098714815,0.240334124069006,0.001980569155245915,-0.9617307397565715,-0.8638037609944311,-0.3022038978195032,-0.1325373312128164,0.2086360932823299,-0.7451089371344011,0.9708084526884422,0.051564718423174005,-0.31151343751908267,0.10153225540595323,0.7018537211961473,0.9985679627701067,0.8913559240203632,0.2778183660654545,0.5901953150923829,-0.8736882662258008,-0.8479799424203878,0.36296973290428003,-0.24713022713411226,-0.45058708614721055,0.13707081950222055,0.37563282083306926,0.7686072278883416,0.5705520923474712,-0.31514727662854525,0.13983753980727642,-0.15028474514545143,-0.5064159188475759,-0.09570452209483382,0.07335025849742727,0.7563078046788221,-0.8373767764797242,0.24526681706892606,0.02828839962269014,-0.1975820157434418,-0.8223735929231795,-0.36927300240313343,0.4309074873474148,0.09333704467158266,0.7956183545525588,0.18579000440932547,-0.07674252692457895,-0.08668149213238974,0.3229015039559353,-0.07894232262883105,-0.5900409058912761,-0.58831074936938,0.5741913462342709,-0.6193562743123529,0.07071980786570053,-0.5965916561829054,0.7209340628068759,-0.1637661807182691,0.18540046684697908,-0.509146408436522,0.5060351684882587,0.8089276621956623,0.03895621107669767,0.8456408554857793,-0.5148210864750669,0.7544431289343159,-0.05103038366912993,0.7028516787208039,-0.4825711469533349,-0.9277851960729726,-0.5260232593538703,0.19248709412314935,0.7789355773762932,-0.19150643768474307,0.2494039843799234,0.9381735142410275,-0.306465301172947,0.7828918961897744,-0.5846443259460168,-0.1310843434927773,0.2203171695939632,0.46222757453629115,-0.030801803519104665,0.2342332034933723,-0.7732003411674573,0.10983316592659076,-0.17098326075729697,-0.7750886610132752,-0.840461826586862,0.48641128185692817,0.4969918371212072,-0.8378724854556288,-0.49623771992556587,0.6379865226072177,0.8444133229442583,-0.09413989619667706,0.8510125595305889,-0.2131326208423152,-0.8898544904205814,-0.12966636108546692,-0.08116592337888195,0.19267548993028671,-0.08302922046758598,-0.24030338023056852,0.91180597512562,-0.5430044652944834,-0.12459073173491442,-0.5922329739439691,-0.7246142743033002,-0.6966928694279773,-0.3580207435216567,0.8626706860965769,-0.570984964279736,0.03682270662972109,0.48134468046105394,0.08174649628256181,-0.0885213312171389,0.1720564315728783,0.764414364938266,-0.3473823159396965,-0.7329060588473739,0.2149928375268908,0.8003799277245167,0.40441127141887634,0.2987644557486109,0.7290222448714201,0.3568098590083708,-0.011592566142845095,-0.04549239970609564,0.30934441803591217,0.4022432831233784,0.689618592305117,-0.3881331144989191,-0.21737979249050698,0.9000585875193272,0.8989915789610685,-0.05764852872239312,0.10369642980716454,-0.5424911662367717,0.1468069162050032,-0.7552011997057542,-0.7870370698084139,-0.9526845094817076,-0.5811473982957838,0.4262529587089676,-0.036175500744280775,0.5409425827427823,0.41368895186707744,-0.011308512456021713,0.5039647376049357,-0.3411350867932217,0.6289154999340791,0.12862588063503333,-0.9441024375930063,-0.016840952712826818,0.7410894314237464,0.8287160028960363,-0.6889622975259937,-0.2160204748167054,0.9514830919649193,-0.07627047496403905,0.21509794203921717,-0.8987127913834161,-0.48485667284886547,0.10095732621504028,-0.6185809518400553,-0.8179135547197249,-0.1262827030461917,-0.7960668451873494,-0.8297908933050719,0.6509240910154053,0.37504270065319445,0.8245428507875967,-0.5390792516675851,0.4236037979454903,0.5989325611779246,0.10594473468981525,-0.3813276797058236,0.22589953559821963,0.9209515536428103,0.6820062922247374,0.3409403358929979,-0.7607707349085098,0.7468912895335345,0.19737443758507234,-0.1602240552114942,-0.9335529172676766,0.03694210524310626,-0.7902740945598676,0.9335242504412031,0.6903355020754447,0.3979855011536759,-0.11749600797021165,-0.17991083698889176,-0.3161373244557313,0.6715948828692195,0.15515400716889216,0.468061834726915,0.43375271071006893,-0.8794229979270649,-0.3880885851861484,-0.7867395819336134,0.6243956923881804,0.05600811723738408,-0.8236935124773879,-0.4992843754811269,-0.5363197374917605,0.7832591496089456,0.9582028984754025,0.032014969985339814,-0.10029680545386621,-0.5125468223104106,-0.08723354071128386,-0.6056196880898803,0.8191985098411363,0.5287514142828571,-0.5620845215007175,0.7340177541982209,-0.45541083681952643,0.7659410682316206,-0.17677291154076946,-0.040907810356882957,0.963126942206225,-0.2156568023159151,-0.5816196842149848,-0.7119089213215031,0.9063565266313245,0.6636899482977914,0.012310757691667229,-0.026534629040891433,-0.9279050657218961,0.11885516729726842,-0.03441408068336149,0.6112004061977254,0.9639435574068944,-0.27629151652735606,-0.274270679806093,-0.8177333506064373,0.02998519960095347,-0.5759566991004743,-0.7025356698035945,-0.09523772770317684,-0.3326040032556885,-0.6417723180519836,0.5025186308793066,0.8197202725392614,0.9947262945614594,-0.46743402740940376,0.600890950251513,0.4587166727780243,-0.7970827914383505,-0.858141777933334,0.9785981592690136,-0.5398857016633691,0.4787479433559825,0.5011677081031054,-0.1323457463566451,-0.09031632544164458,-0.27612727410762394,-0.2556655081385468,0.9916814740499149,-0.9542205078814159,0.6258470410892147,0.1916611481003061,-0.5630649807645032,0.06416248323964724,0.45877071573626593,0.4724262759877742,-0.7165882136450634,-0.008021150140883782,-0.14550258221326873,0.7912864483892885,-0.9622313734813719,-0.6346191070900409,0.6595406104210995,-0.3132488838281695,-0.5017120766539613,-0.3288094266985768,0.43773208571804,-0.6470898716377997,0.06368674021236043,-0.4151270221638568,-0.16977854374351642,-0.2564742885396931,0.9484444738541222,0.15966056870620848,0.20145197461767017,0.19392706491237788,0.4460399719736259,0.36803477244760185,-0.8081337515093394,0.6392250730826341,-0.5808768488150109,0.7563314397301677,-0.7280054289273232,0.668919661220857,-0.5496744362619925,0.35117426301802146,-0.38536011424762684,-0.6635591085021599,0.3725960569039113,0.6041961171094017,-0.7271008867559372,-0.8389914703564929,-0.31011593127562254,0.2538480621881243,0.8250492967348708,-0.3040722711193522,0.1753759968857822,0.7264489780503771,0.16141359919134524,0.6720941871558521,0.7866553832245076,-0.05101675292628638,-0.3791312466546217,0.6669897197300365,0.021553287293059498,0.35007706377828396,0.9329317290836001,0.2565951899986516,-0.31682047710181416,0.39490909042995015,-0.7293448467518675,-0.3817689248470304,0.37004337514954444,-0.2708483208917092,0.9504876679855581,-0.13138424899865364,0.2913551543437094,0.6863723504958044,0.7199766594341386,-0.4703130236785589,-0.2896921643672412,-0.8451947539713611,0.6354986540659382,-0.08443472570524846,-0.17349386986068804,0.32189971544510976,-0.2113473015010532,-0.4663011180232721,-0.18518833409061486,0.6490605111619894,-0.2249465632532246,-0.10912098560639594,-0.23842233020532277,0.9249108396390633,0.1726505540625185,0.2402242132336634,0.31658011761536864,0.7130773217282054,-0.37939861867685565,0.5545893056933513,-0.37541577710720286,0.14183227163832224,-0.4856772676713359,-0.20273735865228137,0.9640563231323174,-0.8982311219877701,0.5234143989859619,-0.7009099503219847,0.8598624420193077,0.6101424671723372,0.20089354090868272,-0.814854765968092,0.7211194375157299,-0.14574311920859295,0.09764551803170929,-0.4112543553810999,-0.7199938380305377,-0.535158908864988,-0.8932022069955616,-0.4904001990572735,-0.9691613367480827,0.8244123229263851,-0.9689680262454208,0.6552851826841946,-0.8093806720147976,0.06487714019676982,-0.9098920213089914,0.5995765703168447,0.4121273737477067,-0.274905681152426,0.4415586973613621,-0.6999789004630952,0.22611988310327957,-0.05167981461205784,-0.6379704532583748,-0.7100684400132737,0.8864749810879362,0.1693264193359869,-0.5185980139556623,-0.06847579577156115,0.5408623287949375,0.8579050031929041,-0.9063466861310605,-0.8837506443896368,-0.32164154928071387,-0.10276510926077131,-0.4748528726800487,0.40964932169411794,-0.2297583599219406,-0.319273989493303,0.46070446122077846,-0.8434201998738564,-0.8263286826048726,0.450231875621083,-0.3317636175962959,-0.4395879471204167,-0.534146786365169,0.16531090224706868,-0.20293723658644947,0.5966239944723863,0.7138301998422278,0.7810433163450341,0.9891673684631601,0.7712182287798812,0.49388940966810435,-0.5318784015856934,-0.987725599214158,0.051531077408355275,-0.3791649409805553,-0.14772533526377418,-0.13890267104367182,-0.7454488002903017,-0.8530614755865886,-0.5614976836534602,0.7888776014337697,0.5196219801664965,-0.26059925724405075,0.43357101229628436,-0.4013688299485392,-0.7294846525973935,-0.29797918239731724,-0.23230917094313885,0.562055492100132,-0.5174820107020168,0.8497484476845543,-0.9115231429454596,0.9942086557025474,-0.2533193397129161,-0.12651477467484984,-0.11189263988781861,-0.5718040251554906,-0.5413964892739724,0.968380236911156,-0.9581318577802511,0.0457891591873929,-0.4616731947440744,0.5342930982530529,-0.5856472650640023,0.139689694370829,0.6500896321593326,-0.48963102610047393,0.9580470819668794,0.47311866769933353,-0.22965189993530033,0.5770756049823211,0.30742067265184003,-0.2533532086282828,-0.6685872041805458,-0.025450721549125754,-0.05896327730815076,-0.05031685479401116,-0.5456050447183485,-0.7066501472164042,0.4028757346160319,-0.5291322260868283,0.7582037511730519,-0.4785809496780913,0.5318920266358993,-0.45109253792771997,-0.4359866882964982,0.6743583705305174,0.9879260980412827,0.5442541644317349,-0.6057343577318994,0.5218401702160285,-0.02005384671086663,-0.44900844050814315,-0.26121179084603674,0.20591833335330145,0.15958435763330514,0.8690904515048377,-0.316785612399743,0.6319319057802628,0.9967112453388991,0.048893393940448115,-0.9934291643293955,0.9190773640776961,0.91934578489273,-0.5078891083574659,-0.40651704037568615,-0.8265073951212958,0.2902756155361301,0.05699452731617183,-0.6534153857567864,0.0008774791134060766,0.34844342246527527,-0.6179475857945167,0.3697555330526081,0.4281934427442984,0.5960428631415247,0.6898544775373558,-0.8536250551544853,0.22201969455162418,0.9972664265157938,-0.04247194973206336,-0.19103908719222162,0.0875473234052353,-0.9745868040996846,0.06027527566785862,-0.5897452532998195,0.05519546950398335,-0.061500962737833564,0.9017731555357256,-0.3222594405510115,0.749405806948769,0.5714230588205804,-0.6462300482200891,0.28602203603390186,0.6263598565255817,-0.00044345772898113367,-0.7993852538069746,0.1106414344077784,-0.7644364397997512,0.08631531157374495,0.6566110803211735,0.3224931704351144,0.8626384005264787,0.12702193925159233,0.5269534987103404,0.9618177816835827,-0.25695476377213833,-0.3485212796547692,-0.878732538442331,0.4979918109906867,0.6507385764305689,0.9525322023629308,-0.39444428510176754,-0.47633497619029774,0.7130828818365036,0.49502672318769103,0.4767178597466877,-0.2788834165860832,0.05662251690834896,-0.24116223892325817,-0.8072414935287906,0.7389649136830057,-0.6957856510986116,0.1318941034906973,-0.023897589891133553,0.8848870887417286,0.9373680736122776,-0.15462328868050945,-0.3602535138891325,0.3359408841293292,0.017044863988596948,0.7989665048356991,-0.43597945411077244,0.31126030860146625,0.5270080418447352,-0.4123677252819209,0.5275178528361866,-0.3599357414126503,0.7146977819334621,-0.7621636528087239,-0.2410655414330829,0.6739542662359159,-0.24148196168971614,0.9220951478486483,-0.7811264756651113,-0.626341908087737,-0.33428970006746317,-0.25520240772983094,0.9828501137763304,-0.37071866776200624,-0.7228317080742066,0.3393685848809418,-0.4528230159229971,-0.7405301718404798,0.347451581626377,-0.9945744102375627,0.5731130494556496,-0.4801112562235539,-0.9918822324142444,-0.5497582669831287],\"type\":\"scatter\",\"xaxis\":\"x4\",\"yaxis\":\"y4\"},{\"line\":{\"color\":\"#2E86AB\",\"width\":3},\"marker\":{\"size\":8},\"mode\":\"lines+markers\",\"name\":\"Daily Trend\",\"showlegend\":false,\"x\":[\"2025-06-29\",\"2025-06-30\",\"2025-07-01\",\"2025-07-02\",\"2025-07-03\",\"2025-07-04\",\"2025-07-05\",\"2025-07-06\"],\"y\":[0.08452107380098901,-0.018450850879056364,0.021832319087552465,0.011354519247842943,-0.014111892229452078,-0.01967470451865724,0.017875932429409967,0.15350989731951464],\"type\":\"scatter\",\"xaxis\":\"x5\",\"yaxis\":\"y5\"}],                        {\"template\":{\"data\":{\"histogram2dcontour\":[{\"type\":\"histogram2dcontour\",\"colorbar\":{\"outlinewidth\":0,\"ticks\":\"\"},\"colorscale\":[[0.0,\"#0d0887\"],[0.1111111111111111,\"#46039f\"],[0.2222222222222222,\"#7201a8\"],[0.3333333333333333,\"#9c179e\"],[0.4444444444444444,\"#bd3786\"],[0.5555555555555556,\"#d8576b\"],[0.6666666666666666,\"#ed7953\"],[0.7777777777777778,\"#fb9f3a\"],[0.8888888888888888,\"#fdca26\"],[1.0,\"#f0f921\"]]}],\"choropleth\":[{\"type\":\"choropleth\",\"colorbar\":{\"outlinewidth\":0,\"ticks\":\"\"}}],\"histogram2d\":[{\"type\":\"histogram2d\",\"colorbar\":{\"outlinewidth\":0,\"ticks\":\"\"},\"colorscale\":[[0.0,\"#0d0887\"],[0.1111111111111111,\"#46039f\"],[0.2222222222222222,\"#7201a8\"],[0.3333333333333333,\"#9c179e\"],[0.4444444444444444,\"#bd3786\"],[0.5555555555555556,\"#d8576b\"],[0.6666666666666666,\"#ed7953\"],[0.7777777777777778,\"#fb9f3a\"],[0.8888888888888888,\"#fdca26\"],[1.0,\"#f0f921\"]]}],\"heatmap\":[{\"type\":\"heatmap\",\"colorbar\":{\"outlinewidth\":0,\"ticks\":\"\"},\"colorscale\":[[0.0,\"#0d0887\"],[0.1111111111111111,\"#46039f\"],[0.2222222222222222,\"#7201a8\"],[0.3333333333333333,\"#9c179e\"],[0.4444444444444444,\"#bd3786\"],[0.5555555555555556,\"#d8576b\"],[0.6666666666666666,\"#ed7953\"],[0.7777777777777778,\"#fb9f3a\"],[0.8888888888888888,\"#fdca26\"],[1.0,\"#f0f921\"]]}],\"heatmapgl\":[{\"type\":\"heatmapgl\",\"colorbar\":{\"outlinewidth\":0,\"ticks\":\"\"},\"colorscale\":[[0.0,\"#0d0887\"],[0.1111111111111111,\"#46039f\"],[0.2222222222222222,\"#7201a8\"],[0.3333333333333333,\"#9c179e\"],[0.4444444444444444,\"#bd3786\"],[0.5555555555555556,\"#d8576b\"],[0.6666666666666666,\"#ed7953\"],[0.7777777777777778,\"#fb9f3a\"],[0.8888888888888888,\"#fdca26\"],[1.0,\"#f0f921\"]]}],\"contourcarpet\":[{\"type\":\"contourcarpet\",\"colorbar\":{\"outlinewidth\":0,\"ticks\":\"\"}}],\"contour\":[{\"type\":\"contour\",\"colorbar\":{\"outlinewidth\":0,\"ticks\":\"\"},\"colorscale\":[[0.0,\"#0d0887\"],[0.1111111111111111,\"#46039f\"],[0.2222222222222222,\"#7201a8\"],[0.3333333333333333,\"#9c179e\"],[0.4444444444444444,\"#bd3786\"],[0.5555555555555556,\"#d8576b\"],[0.6666666666666666,\"#ed7953\"],[0.7777777777777778,\"#fb9f3a\"],[0.8888888888888888,\"#fdca26\"],[1.0,\"#f0f921\"]]}],\"surface\":[{\"type\":\"surface\",\"colorbar\":{\"outlinewidth\":0,\"ticks\":\"\"},\"colorscale\":[[0.0,\"#0d0887\"],[0.1111111111111111,\"#46039f\"],[0.2222222222222222,\"#7201a8\"],[0.3333333333333333,\"#9c179e\"],[0.4444444444444444,\"#bd3786\"],[0.5555555555555556,\"#d8576b\"],[0.6666666666666666,\"#ed7953\"],[0.7777777777777778,\"#fb9f3a\"],[0.8888888888888888,\"#fdca26\"],[1.0,\"#f0f921\"]]}],\"mesh3d\":[{\"type\":\"mesh3d\",\"colorbar\":{\"outlinewidth\":0,\"ticks\":\"\"}}],\"scatter\":[{\"fillpattern\":{\"fillmode\":\"overlay\",\"size\":10,\"solidity\":0.2},\"type\":\"scatter\"}],\"parcoords\":[{\"type\":\"parcoords\",\"line\":{\"colorbar\":{\"outlinewidth\":0,\"ticks\":\"\"}}}],\"scatterpolargl\":[{\"type\":\"scatterpolargl\",\"marker\":{\"colorbar\":{\"outlinewidth\":0,\"ticks\":\"\"}}}],\"bar\":[{\"error_x\":{\"color\":\"#2a3f5f\"},\"error_y\":{\"color\":\"#2a3f5f\"},\"marker\":{\"line\":{\"color\":\"#E5ECF6\",\"width\":0.5},\"pattern\":{\"fillmode\":\"overlay\",\"size\":10,\"solidity\":0.2}},\"type\":\"bar\"}],\"scattergeo\":[{\"type\":\"scattergeo\",\"marker\":{\"colorbar\":{\"outlinewidth\":0,\"ticks\":\"\"}}}],\"scatterpolar\":[{\"type\":\"scatterpolar\",\"marker\":{\"colorbar\":{\"outlinewidth\":0,\"ticks\":\"\"}}}],\"histogram\":[{\"marker\":{\"pattern\":{\"fillmode\":\"overlay\",\"size\":10,\"solidity\":0.2}},\"type\":\"histogram\"}],\"scattergl\":[{\"type\":\"scattergl\",\"marker\":{\"colorbar\":{\"outlinewidth\":0,\"ticks\":\"\"}}}],\"scatter3d\":[{\"type\":\"scatter3d\",\"line\":{\"colorbar\":{\"outlinewidth\":0,\"ticks\":\"\"}},\"marker\":{\"colorbar\":{\"outlinewidth\":0,\"ticks\":\"\"}}}],\"scattermapbox\":[{\"type\":\"scattermapbox\",\"marker\":{\"colorbar\":{\"outlinewidth\":0,\"ticks\":\"\"}}}],\"scatterternary\":[{\"type\":\"scatterternary\",\"marker\":{\"colorbar\":{\"outlinewidth\":0,\"ticks\":\"\"}}}],\"scattercarpet\":[{\"type\":\"scattercarpet\",\"marker\":{\"colorbar\":{\"outlinewidth\":0,\"ticks\":\"\"}}}],\"carpet\":[{\"aaxis\":{\"endlinecolor\":\"#2a3f5f\",\"gridcolor\":\"white\",\"linecolor\":\"white\",\"minorgridcolor\":\"white\",\"startlinecolor\":\"#2a3f5f\"},\"baxis\":{\"endlinecolor\":\"#2a3f5f\",\"gridcolor\":\"white\",\"linecolor\":\"white\",\"minorgridcolor\":\"white\",\"startlinecolor\":\"#2a3f5f\"},\"type\":\"carpet\"}],\"table\":[{\"cells\":{\"fill\":{\"color\":\"#EBF0F8\"},\"line\":{\"color\":\"white\"}},\"header\":{\"fill\":{\"color\":\"#C8D4E3\"},\"line\":{\"color\":\"white\"}},\"type\":\"table\"}],\"barpolar\":[{\"marker\":{\"line\":{\"color\":\"#E5ECF6\",\"width\":0.5},\"pattern\":{\"fillmode\":\"overlay\",\"size\":10,\"solidity\":0.2}},\"type\":\"barpolar\"}],\"pie\":[{\"automargin\":true,\"type\":\"pie\"}]},\"layout\":{\"autotypenumbers\":\"strict\",\"colorway\":[\"#636efa\",\"#EF553B\",\"#00cc96\",\"#ab63fa\",\"#FFA15A\",\"#19d3f3\",\"#FF6692\",\"#B6E880\",\"#FF97FF\",\"#FECB52\"],\"font\":{\"color\":\"#2a3f5f\"},\"hovermode\":\"closest\",\"hoverlabel\":{\"align\":\"left\"},\"paper_bgcolor\":\"white\",\"plot_bgcolor\":\"#E5ECF6\",\"polar\":{\"bgcolor\":\"#E5ECF6\",\"angularaxis\":{\"gridcolor\":\"white\",\"linecolor\":\"white\",\"ticks\":\"\"},\"radialaxis\":{\"gridcolor\":\"white\",\"linecolor\":\"white\",\"ticks\":\"\"}},\"ternary\":{\"bgcolor\":\"#E5ECF6\",\"aaxis\":{\"gridcolor\":\"white\",\"linecolor\":\"white\",\"ticks\":\"\"},\"baxis\":{\"gridcolor\":\"white\",\"linecolor\":\"white\",\"ticks\":\"\"},\"caxis\":{\"gridcolor\":\"white\",\"linecolor\":\"white\",\"ticks\":\"\"}},\"coloraxis\":{\"colorbar\":{\"outlinewidth\":0,\"ticks\":\"\"}},\"colorscale\":{\"sequential\":[[0.0,\"#0d0887\"],[0.1111111111111111,\"#46039f\"],[0.2222222222222222,\"#7201a8\"],[0.3333333333333333,\"#9c179e\"],[0.4444444444444444,\"#bd3786\"],[0.5555555555555556,\"#d8576b\"],[0.6666666666666666,\"#ed7953\"],[0.7777777777777778,\"#fb9f3a\"],[0.8888888888888888,\"#fdca26\"],[1.0,\"#f0f921\"]],\"sequentialminus\":[[0.0,\"#0d0887\"],[0.1111111111111111,\"#46039f\"],[0.2222222222222222,\"#7201a8\"],[0.3333333333333333,\"#9c179e\"],[0.4444444444444444,\"#bd3786\"],[0.5555555555555556,\"#d8576b\"],[0.6666666666666666,\"#ed7953\"],[0.7777777777777778,\"#fb9f3a\"],[0.8888888888888888,\"#fdca26\"],[1.0,\"#f0f921\"]],\"diverging\":[[0,\"#8e0152\"],[0.1,\"#c51b7d\"],[0.2,\"#de77ae\"],[0.3,\"#f1b6da\"],[0.4,\"#fde0ef\"],[0.5,\"#f7f7f7\"],[0.6,\"#e6f5d0\"],[0.7,\"#b8e186\"],[0.8,\"#7fbc41\"],[0.9,\"#4d9221\"],[1,\"#276419\"]]},\"xaxis\":{\"gridcolor\":\"white\",\"linecolor\":\"white\",\"ticks\":\"\",\"title\":{\"standoff\":15},\"zerolinecolor\":\"white\",\"automargin\":true,\"zerolinewidth\":2},\"yaxis\":{\"gridcolor\":\"white\",\"linecolor\":\"white\",\"ticks\":\"\",\"title\":{\"standoff\":15},\"zerolinecolor\":\"white\",\"automargin\":true,\"zerolinewidth\":2},\"scene\":{\"xaxis\":{\"backgroundcolor\":\"#E5ECF6\",\"gridcolor\":\"white\",\"linecolor\":\"white\",\"showbackground\":true,\"ticks\":\"\",\"zerolinecolor\":\"white\",\"gridwidth\":2},\"yaxis\":{\"backgroundcolor\":\"#E5ECF6\",\"gridcolor\":\"white\",\"linecolor\":\"white\",\"showbackground\":true,\"ticks\":\"\",\"zerolinecolor\":\"white\",\"gridwidth\":2},\"zaxis\":{\"backgroundcolor\":\"#E5ECF6\",\"gridcolor\":\"white\",\"linecolor\":\"white\",\"showbackground\":true,\"ticks\":\"\",\"zerolinecolor\":\"white\",\"gridwidth\":2}},\"shapedefaults\":{\"line\":{\"color\":\"#2a3f5f\"}},\"annotationdefaults\":{\"arrowcolor\":\"#2a3f5f\",\"arrowhead\":0,\"arrowwidth\":1},\"geo\":{\"bgcolor\":\"white\",\"landcolor\":\"#E5ECF6\",\"subunitcolor\":\"white\",\"showland\":true,\"showlakes\":true,\"lakecolor\":\"white\"},\"title\":{\"x\":0.05},\"mapbox\":{\"style\":\"light\"}}},\"xaxis\":{\"anchor\":\"y\",\"domain\":[0.55,1.0]},\"yaxis\":{\"anchor\":\"x\",\"domain\":[0.7777777777777778,1.0]},\"xaxis2\":{\"anchor\":\"y2\",\"domain\":[0.0,0.45]},\"yaxis2\":{\"anchor\":\"x2\",\"domain\":[0.3888888888888889,0.6111111111111112]},\"xaxis3\":{\"anchor\":\"y3\",\"domain\":[0.55,1.0]},\"yaxis3\":{\"anchor\":\"x3\",\"domain\":[0.3888888888888889,0.6111111111111112]},\"xaxis4\":{\"anchor\":\"y4\",\"domain\":[0.0,0.45]},\"yaxis4\":{\"anchor\":\"x4\",\"domain\":[0.0,0.22222222222222224]},\"xaxis5\":{\"anchor\":\"y5\",\"domain\":[0.55,1.0]},\"yaxis5\":{\"anchor\":\"x5\",\"domain\":[0.0,0.22222222222222224]},\"annotations\":[{\"font\":{\"size\":16},\"showarrow\":false,\"text\":\"Sentiment Distribution\",\"x\":0.225,\"xanchor\":\"center\",\"xref\":\"paper\",\"y\":1.0,\"yanchor\":\"bottom\",\"yref\":\"paper\"},{\"font\":{\"size\":16},\"showarrow\":false,\"text\":\"Hourly Sentiment Patterns\",\"x\":0.775,\"xanchor\":\"center\",\"xref\":\"paper\",\"y\":1.0,\"yanchor\":\"bottom\",\"yref\":\"paper\"},{\"font\":{\"size\":16},\"showarrow\":false,\"text\":\"Emotion Analysis\",\"x\":0.225,\"xanchor\":\"center\",\"xref\":\"paper\",\"y\":0.6111111111111112,\"yanchor\":\"bottom\",\"yref\":\"paper\"},{\"font\":{\"size\":16},\"showarrow\":false,\"text\":\"Engagement vs Sentiment\",\"x\":0.775,\"xanchor\":\"center\",\"xref\":\"paper\",\"y\":0.6111111111111112,\"yanchor\":\"bottom\",\"yref\":\"paper\"},{\"font\":{\"size\":16},\"showarrow\":false,\"text\":\"Polarity vs Subjectivity\",\"x\":0.225,\"xanchor\":\"center\",\"xref\":\"paper\",\"y\":0.22222222222222224,\"yanchor\":\"bottom\",\"yref\":\"paper\"},{\"font\":{\"size\":16},\"showarrow\":false,\"text\":\"Daily Trend\",\"x\":0.775,\"xanchor\":\"center\",\"xref\":\"paper\",\"y\":0.22222222222222224,\"yanchor\":\"bottom\",\"yref\":\"paper\"}],\"title\":{\"font\":{\"size\":20},\"text\":\"Mood of the World Analysis Dashboard\",\"x\":0.5},\"height\":1200,\"showlegend\":false},                        {\"responsive\": true}                    ).then(function(){\n",
              "                            \n",
              "var gd = document.getElementById('871cddf5-411e-4ab4-9994-c600e50d8b6c');\n",
              "var x = new MutationObserver(function (mutations, observer) {{\n",
              "        var display = window.getComputedStyle(gd).display;\n",
              "        if (!display || display === 'none') {{\n",
              "            console.log([gd, 'removed!']);\n",
              "            Plotly.purge(gd);\n",
              "            observer.disconnect();\n",
              "        }}\n",
              "}});\n",
              "\n",
              "// Listen for the removal of the full notebook cells\n",
              "var notebookContainer = gd.closest('#notebook-container');\n",
              "if (notebookContainer) {{\n",
              "    x.observe(notebookContainer, {childList: true});\n",
              "}}\n",
              "\n",
              "// Listen for the clearing of the current output cell\n",
              "var outputEl = gd.closest('.output');\n",
              "if (outputEl) {{\n",
              "    x.observe(outputEl, {childList: true});\n",
              "}}\n",
              "\n",
              "                        })                };                });            </script>        </div>"
            ]
          },
          "metadata": {}
        },
        {
          "output_type": "stream",
          "name": "stdout",
          "text": [
            "\n",
            "2. Emotion Heatmap...\n",
            "Emotion Heatmap...\n"
          ]
        },
        {
          "output_type": "display_data",
          "data": {
            "application/vnd.plotly.v1+json": {
              "data": [
                {
                  "colorscale": [
                    [
                      0,
                      "#440154"
                    ],
                    [
                      0.1111111111111111,
                      "#482878"
                    ],
                    [
                      0.2222222222222222,
                      "#3e4989"
                    ],
                    [
                      0.3333333333333333,
                      "#31688e"
                    ],
                    [
                      0.4444444444444444,
                      "#26828e"
                    ],
                    [
                      0.5555555555555556,
                      "#1f9e89"
                    ],
                    [
                      0.6666666666666666,
                      "#35b779"
                    ],
                    [
                      0.7777777777777778,
                      "#6ece58"
                    ],
                    [
                      0.8888888888888888,
                      "#b5de2b"
                    ],
                    [
                      1,
                      "#fde725"
                    ]
                  ],
                  "hoverongaps": false,
                  "hovertemplate": "Hour: %{x}<br>Emotion: %{y}<br>Count: %{z}<extra></extra>",
                  "x": [
                    0,
                    1,
                    2,
                    3,
                    4,
                    5,
                    6,
                    7,
                    8,
                    9,
                    10,
                    11,
                    12,
                    13,
                    14,
                    15,
                    16,
                    17,
                    18,
                    19,
                    20,
                    21,
                    22,
                    23
                  ],
                  "y": [
                    "joy",
                    "anger",
                    "anticipation",
                    "trust",
                    "sadness",
                    "disgust",
                    "fear",
                    "surprise"
                  ],
                  "z": [
                    [
                      2,
                      2,
                      4,
                      5,
                      7,
                      2,
                      8,
                      6,
                      8,
                      4,
                      8,
                      7,
                      7,
                      3,
                      5,
                      9,
                      6,
                      10,
                      5,
                      4,
                      6,
                      7,
                      6,
                      3
                    ],
                    [
                      7,
                      5,
                      3,
                      5,
                      7,
                      7,
                      9,
                      8,
                      6,
                      9,
                      4,
                      5,
                      5,
                      2,
                      4,
                      4,
                      3,
                      8,
                      6,
                      2,
                      8,
                      4,
                      3,
                      8
                    ],
                    [
                      5,
                      3,
                      5,
                      5,
                      5,
                      6,
                      7,
                      6,
                      10,
                      9,
                      3,
                      4,
                      9,
                      5,
                      3,
                      4,
                      4,
                      6,
                      3,
                      4,
                      6,
                      6,
                      3,
                      7
                    ],
                    [
                      9,
                      5,
                      7,
                      7,
                      7,
                      8,
                      7,
                      5,
                      7,
                      6,
                      4,
                      6,
                      0,
                      2,
                      8,
                      6,
                      5,
                      5,
                      3,
                      4,
                      7,
                      2,
                      3,
                      3
                    ],
                    [
                      4,
                      5,
                      7,
                      3,
                      1,
                      6,
                      6,
                      2,
                      4,
                      4,
                      5,
                      5,
                      4,
                      9,
                      9,
                      4,
                      6,
                      6,
                      5,
                      4,
                      3,
                      9,
                      8,
                      7
                    ],
                    [
                      8,
                      8,
                      4,
                      8,
                      6,
                      4,
                      2,
                      4,
                      6,
                      3,
                      5,
                      3,
                      6,
                      3,
                      4,
                      5,
                      9,
                      8,
                      3,
                      8,
                      6,
                      3,
                      2,
                      3
                    ],
                    [
                      9,
                      2,
                      7,
                      8,
                      6,
                      7,
                      6,
                      5,
                      5,
                      6,
                      5,
                      1,
                      2,
                      6,
                      3,
                      1,
                      3,
                      5,
                      9,
                      7,
                      5,
                      3,
                      4,
                      6
                    ],
                    [
                      6,
                      3,
                      6,
                      5,
                      7,
                      7,
                      8,
                      3,
                      1,
                      4,
                      5,
                      5,
                      7,
                      5,
                      5,
                      5,
                      3,
                      3,
                      4,
                      4,
                      5,
                      4,
                      2,
                      5
                    ]
                  ],
                  "type": "heatmap"
                }
              ],
              "layout": {
                "template": {
                  "data": {
                    "histogram2dcontour": [
                      {
                        "type": "histogram2dcontour",
                        "colorbar": {
                          "outlinewidth": 0,
                          "ticks": ""
                        },
                        "colorscale": [
                          [
                            0,
                            "#0d0887"
                          ],
                          [
                            0.1111111111111111,
                            "#46039f"
                          ],
                          [
                            0.2222222222222222,
                            "#7201a8"
                          ],
                          [
                            0.3333333333333333,
                            "#9c179e"
                          ],
                          [
                            0.4444444444444444,
                            "#bd3786"
                          ],
                          [
                            0.5555555555555556,
                            "#d8576b"
                          ],
                          [
                            0.6666666666666666,
                            "#ed7953"
                          ],
                          [
                            0.7777777777777778,
                            "#fb9f3a"
                          ],
                          [
                            0.8888888888888888,
                            "#fdca26"
                          ],
                          [
                            1,
                            "#f0f921"
                          ]
                        ]
                      }
                    ],
                    "choropleth": [
                      {
                        "type": "choropleth",
                        "colorbar": {
                          "outlinewidth": 0,
                          "ticks": ""
                        }
                      }
                    ],
                    "histogram2d": [
                      {
                        "type": "histogram2d",
                        "colorbar": {
                          "outlinewidth": 0,
                          "ticks": ""
                        },
                        "colorscale": [
                          [
                            0,
                            "#0d0887"
                          ],
                          [
                            0.1111111111111111,
                            "#46039f"
                          ],
                          [
                            0.2222222222222222,
                            "#7201a8"
                          ],
                          [
                            0.3333333333333333,
                            "#9c179e"
                          ],
                          [
                            0.4444444444444444,
                            "#bd3786"
                          ],
                          [
                            0.5555555555555556,
                            "#d8576b"
                          ],
                          [
                            0.6666666666666666,
                            "#ed7953"
                          ],
                          [
                            0.7777777777777778,
                            "#fb9f3a"
                          ],
                          [
                            0.8888888888888888,
                            "#fdca26"
                          ],
                          [
                            1,
                            "#f0f921"
                          ]
                        ]
                      }
                    ],
                    "heatmap": [
                      {
                        "type": "heatmap",
                        "colorbar": {
                          "outlinewidth": 0,
                          "ticks": ""
                        },
                        "colorscale": [
                          [
                            0,
                            "#0d0887"
                          ],
                          [
                            0.1111111111111111,
                            "#46039f"
                          ],
                          [
                            0.2222222222222222,
                            "#7201a8"
                          ],
                          [
                            0.3333333333333333,
                            "#9c179e"
                          ],
                          [
                            0.4444444444444444,
                            "#bd3786"
                          ],
                          [
                            0.5555555555555556,
                            "#d8576b"
                          ],
                          [
                            0.6666666666666666,
                            "#ed7953"
                          ],
                          [
                            0.7777777777777778,
                            "#fb9f3a"
                          ],
                          [
                            0.8888888888888888,
                            "#fdca26"
                          ],
                          [
                            1,
                            "#f0f921"
                          ]
                        ]
                      }
                    ],
                    "heatmapgl": [
                      {
                        "type": "heatmapgl",
                        "colorbar": {
                          "outlinewidth": 0,
                          "ticks": ""
                        },
                        "colorscale": [
                          [
                            0,
                            "#0d0887"
                          ],
                          [
                            0.1111111111111111,
                            "#46039f"
                          ],
                          [
                            0.2222222222222222,
                            "#7201a8"
                          ],
                          [
                            0.3333333333333333,
                            "#9c179e"
                          ],
                          [
                            0.4444444444444444,
                            "#bd3786"
                          ],
                          [
                            0.5555555555555556,
                            "#d8576b"
                          ],
                          [
                            0.6666666666666666,
                            "#ed7953"
                          ],
                          [
                            0.7777777777777778,
                            "#fb9f3a"
                          ],
                          [
                            0.8888888888888888,
                            "#fdca26"
                          ],
                          [
                            1,
                            "#f0f921"
                          ]
                        ]
                      }
                    ],
                    "contourcarpet": [
                      {
                        "type": "contourcarpet",
                        "colorbar": {
                          "outlinewidth": 0,
                          "ticks": ""
                        }
                      }
                    ],
                    "contour": [
                      {
                        "type": "contour",
                        "colorbar": {
                          "outlinewidth": 0,
                          "ticks": ""
                        },
                        "colorscale": [
                          [
                            0,
                            "#0d0887"
                          ],
                          [
                            0.1111111111111111,
                            "#46039f"
                          ],
                          [
                            0.2222222222222222,
                            "#7201a8"
                          ],
                          [
                            0.3333333333333333,
                            "#9c179e"
                          ],
                          [
                            0.4444444444444444,
                            "#bd3786"
                          ],
                          [
                            0.5555555555555556,
                            "#d8576b"
                          ],
                          [
                            0.6666666666666666,
                            "#ed7953"
                          ],
                          [
                            0.7777777777777778,
                            "#fb9f3a"
                          ],
                          [
                            0.8888888888888888,
                            "#fdca26"
                          ],
                          [
                            1,
                            "#f0f921"
                          ]
                        ]
                      }
                    ],
                    "surface": [
                      {
                        "type": "surface",
                        "colorbar": {
                          "outlinewidth": 0,
                          "ticks": ""
                        },
                        "colorscale": [
                          [
                            0,
                            "#0d0887"
                          ],
                          [
                            0.1111111111111111,
                            "#46039f"
                          ],
                          [
                            0.2222222222222222,
                            "#7201a8"
                          ],
                          [
                            0.3333333333333333,
                            "#9c179e"
                          ],
                          [
                            0.4444444444444444,
                            "#bd3786"
                          ],
                          [
                            0.5555555555555556,
                            "#d8576b"
                          ],
                          [
                            0.6666666666666666,
                            "#ed7953"
                          ],
                          [
                            0.7777777777777778,
                            "#fb9f3a"
                          ],
                          [
                            0.8888888888888888,
                            "#fdca26"
                          ],
                          [
                            1,
                            "#f0f921"
                          ]
                        ]
                      }
                    ],
                    "mesh3d": [
                      {
                        "type": "mesh3d",
                        "colorbar": {
                          "outlinewidth": 0,
                          "ticks": ""
                        }
                      }
                    ],
                    "scatter": [
                      {
                        "fillpattern": {
                          "fillmode": "overlay",
                          "size": 10,
                          "solidity": 0.2
                        },
                        "type": "scatter"
                      }
                    ],
                    "parcoords": [
                      {
                        "type": "parcoords",
                        "line": {
                          "colorbar": {
                            "outlinewidth": 0,
                            "ticks": ""
                          }
                        }
                      }
                    ],
                    "scatterpolargl": [
                      {
                        "type": "scatterpolargl",
                        "marker": {
                          "colorbar": {
                            "outlinewidth": 0,
                            "ticks": ""
                          }
                        }
                      }
                    ],
                    "bar": [
                      {
                        "error_x": {
                          "color": "#2a3f5f"
                        },
                        "error_y": {
                          "color": "#2a3f5f"
                        },
                        "marker": {
                          "line": {
                            "color": "#E5ECF6",
                            "width": 0.5
                          },
                          "pattern": {
                            "fillmode": "overlay",
                            "size": 10,
                            "solidity": 0.2
                          }
                        },
                        "type": "bar"
                      }
                    ],
                    "scattergeo": [
                      {
                        "type": "scattergeo",
                        "marker": {
                          "colorbar": {
                            "outlinewidth": 0,
                            "ticks": ""
                          }
                        }
                      }
                    ],
                    "scatterpolar": [
                      {
                        "type": "scatterpolar",
                        "marker": {
                          "colorbar": {
                            "outlinewidth": 0,
                            "ticks": ""
                          }
                        }
                      }
                    ],
                    "histogram": [
                      {
                        "marker": {
                          "pattern": {
                            "fillmode": "overlay",
                            "size": 10,
                            "solidity": 0.2
                          }
                        },
                        "type": "histogram"
                      }
                    ],
                    "scattergl": [
                      {
                        "type": "scattergl",
                        "marker": {
                          "colorbar": {
                            "outlinewidth": 0,
                            "ticks": ""
                          }
                        }
                      }
                    ],
                    "scatter3d": [
                      {
                        "type": "scatter3d",
                        "line": {
                          "colorbar": {
                            "outlinewidth": 0,
                            "ticks": ""
                          }
                        },
                        "marker": {
                          "colorbar": {
                            "outlinewidth": 0,
                            "ticks": ""
                          }
                        }
                      }
                    ],
                    "scattermapbox": [
                      {
                        "type": "scattermapbox",
                        "marker": {
                          "colorbar": {
                            "outlinewidth": 0,
                            "ticks": ""
                          }
                        }
                      }
                    ],
                    "scatterternary": [
                      {
                        "type": "scatterternary",
                        "marker": {
                          "colorbar": {
                            "outlinewidth": 0,
                            "ticks": ""
                          }
                        }
                      }
                    ],
                    "scattercarpet": [
                      {
                        "type": "scattercarpet",
                        "marker": {
                          "colorbar": {
                            "outlinewidth": 0,
                            "ticks": ""
                          }
                        }
                      }
                    ],
                    "carpet": [
                      {
                        "aaxis": {
                          "endlinecolor": "#2a3f5f",
                          "gridcolor": "white",
                          "linecolor": "white",
                          "minorgridcolor": "white",
                          "startlinecolor": "#2a3f5f"
                        },
                        "baxis": {
                          "endlinecolor": "#2a3f5f",
                          "gridcolor": "white",
                          "linecolor": "white",
                          "minorgridcolor": "white",
                          "startlinecolor": "#2a3f5f"
                        },
                        "type": "carpet"
                      }
                    ],
                    "table": [
                      {
                        "cells": {
                          "fill": {
                            "color": "#EBF0F8"
                          },
                          "line": {
                            "color": "white"
                          }
                        },
                        "header": {
                          "fill": {
                            "color": "#C8D4E3"
                          },
                          "line": {
                            "color": "white"
                          }
                        },
                        "type": "table"
                      }
                    ],
                    "barpolar": [
                      {
                        "marker": {
                          "line": {
                            "color": "#E5ECF6",
                            "width": 0.5
                          },
                          "pattern": {
                            "fillmode": "overlay",
                            "size": 10,
                            "solidity": 0.2
                          }
                        },
                        "type": "barpolar"
                      }
                    ],
                    "pie": [
                      {
                        "automargin": true,
                        "type": "pie"
                      }
                    ]
                  },
                  "layout": {
                    "autotypenumbers": "strict",
                    "colorway": [
                      "#636efa",
                      "#EF553B",
                      "#00cc96",
                      "#ab63fa",
                      "#FFA15A",
                      "#19d3f3",
                      "#FF6692",
                      "#B6E880",
                      "#FF97FF",
                      "#FECB52"
                    ],
                    "font": {
                      "color": "#2a3f5f"
                    },
                    "hovermode": "closest",
                    "hoverlabel": {
                      "align": "left"
                    },
                    "paper_bgcolor": "white",
                    "plot_bgcolor": "#E5ECF6",
                    "polar": {
                      "bgcolor": "#E5ECF6",
                      "angularaxis": {
                        "gridcolor": "white",
                        "linecolor": "white",
                        "ticks": ""
                      },
                      "radialaxis": {
                        "gridcolor": "white",
                        "linecolor": "white",
                        "ticks": ""
                      }
                    },
                    "ternary": {
                      "bgcolor": "#E5ECF6",
                      "aaxis": {
                        "gridcolor": "white",
                        "linecolor": "white",
                        "ticks": ""
                      },
                      "baxis": {
                        "gridcolor": "white",
                        "linecolor": "white",
                        "ticks": ""
                      },
                      "caxis": {
                        "gridcolor": "white",
                        "linecolor": "white",
                        "ticks": ""
                      }
                    },
                    "coloraxis": {
                      "colorbar": {
                        "outlinewidth": 0,
                        "ticks": ""
                      }
                    },
                    "colorscale": {
                      "sequential": [
                        [
                          0,
                          "#0d0887"
                        ],
                        [
                          0.1111111111111111,
                          "#46039f"
                        ],
                        [
                          0.2222222222222222,
                          "#7201a8"
                        ],
                        [
                          0.3333333333333333,
                          "#9c179e"
                        ],
                        [
                          0.4444444444444444,
                          "#bd3786"
                        ],
                        [
                          0.5555555555555556,
                          "#d8576b"
                        ],
                        [
                          0.6666666666666666,
                          "#ed7953"
                        ],
                        [
                          0.7777777777777778,
                          "#fb9f3a"
                        ],
                        [
                          0.8888888888888888,
                          "#fdca26"
                        ],
                        [
                          1,
                          "#f0f921"
                        ]
                      ],
                      "sequentialminus": [
                        [
                          0,
                          "#0d0887"
                        ],
                        [
                          0.1111111111111111,
                          "#46039f"
                        ],
                        [
                          0.2222222222222222,
                          "#7201a8"
                        ],
                        [
                          0.3333333333333333,
                          "#9c179e"
                        ],
                        [
                          0.4444444444444444,
                          "#bd3786"
                        ],
                        [
                          0.5555555555555556,
                          "#d8576b"
                        ],
                        [
                          0.6666666666666666,
                          "#ed7953"
                        ],
                        [
                          0.7777777777777778,
                          "#fb9f3a"
                        ],
                        [
                          0.8888888888888888,
                          "#fdca26"
                        ],
                        [
                          1,
                          "#f0f921"
                        ]
                      ],
                      "diverging": [
                        [
                          0,
                          "#8e0152"
                        ],
                        [
                          0.1,
                          "#c51b7d"
                        ],
                        [
                          0.2,
                          "#de77ae"
                        ],
                        [
                          0.3,
                          "#f1b6da"
                        ],
                        [
                          0.4,
                          "#fde0ef"
                        ],
                        [
                          0.5,
                          "#f7f7f7"
                        ],
                        [
                          0.6,
                          "#e6f5d0"
                        ],
                        [
                          0.7,
                          "#b8e186"
                        ],
                        [
                          0.8,
                          "#7fbc41"
                        ],
                        [
                          0.9,
                          "#4d9221"
                        ],
                        [
                          1,
                          "#276419"
                        ]
                      ]
                    },
                    "xaxis": {
                      "gridcolor": "white",
                      "linecolor": "white",
                      "ticks": "",
                      "title": {
                        "standoff": 15
                      },
                      "zerolinecolor": "white",
                      "automargin": true,
                      "zerolinewidth": 2
                    },
                    "yaxis": {
                      "gridcolor": "white",
                      "linecolor": "white",
                      "ticks": "",
                      "title": {
                        "standoff": 15
                      },
                      "zerolinecolor": "white",
                      "automargin": true,
                      "zerolinewidth": 2
                    },
                    "scene": {
                      "xaxis": {
                        "backgroundcolor": "#E5ECF6",
                        "gridcolor": "white",
                        "linecolor": "white",
                        "showbackground": true,
                        "ticks": "",
                        "zerolinecolor": "white",
                        "gridwidth": 2
                      },
                      "yaxis": {
                        "backgroundcolor": "#E5ECF6",
                        "gridcolor": "white",
                        "linecolor": "white",
                        "showbackground": true,
                        "ticks": "",
                        "zerolinecolor": "white",
                        "gridwidth": 2
                      },
                      "zaxis": {
                        "backgroundcolor": "#E5ECF6",
                        "gridcolor": "white",
                        "linecolor": "white",
                        "showbackground": true,
                        "ticks": "",
                        "zerolinecolor": "white",
                        "gridwidth": 2
                      }
                    },
                    "shapedefaults": {
                      "line": {
                        "color": "#2a3f5f"
                      }
                    },
                    "annotationdefaults": {
                      "arrowcolor": "#2a3f5f",
                      "arrowhead": 0,
                      "arrowwidth": 1
                    },
                    "geo": {
                      "bgcolor": "white",
                      "landcolor": "#E5ECF6",
                      "subunitcolor": "white",
                      "showland": true,
                      "showlakes": true,
                      "lakecolor": "white"
                    },
                    "title": {
                      "x": 0.05
                    },
                    "mapbox": {
                      "style": "light"
                    }
                  }
                },
                "title": {
                  "text": "Emotion Patterns Throughout the Day",
                  "font": {
                    "size": 16
                  },
                  "x": 0.5
                },
                "xaxis": {
                  "title": {
                    "text": "Hour of Day"
                  }
                },
                "yaxis": {
                  "title": {
                    "text": "Emotion"
                  }
                },
                "height": 600,
                "width": 800
              },
              "config": {
                "plotlyServerURL": "https://plot.ly"
              }
            },
            "text/html": [
              "<div>                            <div id=\"74219be8-9626-4124-8b39-1d587ee3c766\" class=\"plotly-graph-div\" style=\"height:600px; width:800px;\"></div>            <script type=\"text/javascript\">                require([\"plotly\"], function(Plotly) {                    window.PLOTLYENV=window.PLOTLYENV || {};                                    if (document.getElementById(\"74219be8-9626-4124-8b39-1d587ee3c766\")) {                    Plotly.newPlot(                        \"74219be8-9626-4124-8b39-1d587ee3c766\",                        [{\"colorscale\":[[0.0,\"#440154\"],[0.1111111111111111,\"#482878\"],[0.2222222222222222,\"#3e4989\"],[0.3333333333333333,\"#31688e\"],[0.4444444444444444,\"#26828e\"],[0.5555555555555556,\"#1f9e89\"],[0.6666666666666666,\"#35b779\"],[0.7777777777777778,\"#6ece58\"],[0.8888888888888888,\"#b5de2b\"],[1.0,\"#fde725\"]],\"hoverongaps\":false,\"hovertemplate\":\"Hour: %{x}\\u003cbr\\u003eEmotion: %{y}\\u003cbr\\u003eCount: %{z}\\u003cextra\\u003e\\u003c\\u002fextra\\u003e\",\"x\":[0,1,2,3,4,5,6,7,8,9,10,11,12,13,14,15,16,17,18,19,20,21,22,23],\"y\":[\"joy\",\"anger\",\"anticipation\",\"trust\",\"sadness\",\"disgust\",\"fear\",\"surprise\"],\"z\":[[2,2,4,5,7,2,8,6,8,4,8,7,7,3,5,9,6,10,5,4,6,7,6,3],[7,5,3,5,7,7,9,8,6,9,4,5,5,2,4,4,3,8,6,2,8,4,3,8],[5,3,5,5,5,6,7,6,10,9,3,4,9,5,3,4,4,6,3,4,6,6,3,7],[9,5,7,7,7,8,7,5,7,6,4,6,0,2,8,6,5,5,3,4,7,2,3,3],[4,5,7,3,1,6,6,2,4,4,5,5,4,9,9,4,6,6,5,4,3,9,8,7],[8,8,4,8,6,4,2,4,6,3,5,3,6,3,4,5,9,8,3,8,6,3,2,3],[9,2,7,8,6,7,6,5,5,6,5,1,2,6,3,1,3,5,9,7,5,3,4,6],[6,3,6,5,7,7,8,3,1,4,5,5,7,5,5,5,3,3,4,4,5,4,2,5]],\"type\":\"heatmap\"}],                        {\"template\":{\"data\":{\"histogram2dcontour\":[{\"type\":\"histogram2dcontour\",\"colorbar\":{\"outlinewidth\":0,\"ticks\":\"\"},\"colorscale\":[[0.0,\"#0d0887\"],[0.1111111111111111,\"#46039f\"],[0.2222222222222222,\"#7201a8\"],[0.3333333333333333,\"#9c179e\"],[0.4444444444444444,\"#bd3786\"],[0.5555555555555556,\"#d8576b\"],[0.6666666666666666,\"#ed7953\"],[0.7777777777777778,\"#fb9f3a\"],[0.8888888888888888,\"#fdca26\"],[1.0,\"#f0f921\"]]}],\"choropleth\":[{\"type\":\"choropleth\",\"colorbar\":{\"outlinewidth\":0,\"ticks\":\"\"}}],\"histogram2d\":[{\"type\":\"histogram2d\",\"colorbar\":{\"outlinewidth\":0,\"ticks\":\"\"},\"colorscale\":[[0.0,\"#0d0887\"],[0.1111111111111111,\"#46039f\"],[0.2222222222222222,\"#7201a8\"],[0.3333333333333333,\"#9c179e\"],[0.4444444444444444,\"#bd3786\"],[0.5555555555555556,\"#d8576b\"],[0.6666666666666666,\"#ed7953\"],[0.7777777777777778,\"#fb9f3a\"],[0.8888888888888888,\"#fdca26\"],[1.0,\"#f0f921\"]]}],\"heatmap\":[{\"type\":\"heatmap\",\"colorbar\":{\"outlinewidth\":0,\"ticks\":\"\"},\"colorscale\":[[0.0,\"#0d0887\"],[0.1111111111111111,\"#46039f\"],[0.2222222222222222,\"#7201a8\"],[0.3333333333333333,\"#9c179e\"],[0.4444444444444444,\"#bd3786\"],[0.5555555555555556,\"#d8576b\"],[0.6666666666666666,\"#ed7953\"],[0.7777777777777778,\"#fb9f3a\"],[0.8888888888888888,\"#fdca26\"],[1.0,\"#f0f921\"]]}],\"heatmapgl\":[{\"type\":\"heatmapgl\",\"colorbar\":{\"outlinewidth\":0,\"ticks\":\"\"},\"colorscale\":[[0.0,\"#0d0887\"],[0.1111111111111111,\"#46039f\"],[0.2222222222222222,\"#7201a8\"],[0.3333333333333333,\"#9c179e\"],[0.4444444444444444,\"#bd3786\"],[0.5555555555555556,\"#d8576b\"],[0.6666666666666666,\"#ed7953\"],[0.7777777777777778,\"#fb9f3a\"],[0.8888888888888888,\"#fdca26\"],[1.0,\"#f0f921\"]]}],\"contourcarpet\":[{\"type\":\"contourcarpet\",\"colorbar\":{\"outlinewidth\":0,\"ticks\":\"\"}}],\"contour\":[{\"type\":\"contour\",\"colorbar\":{\"outlinewidth\":0,\"ticks\":\"\"},\"colorscale\":[[0.0,\"#0d0887\"],[0.1111111111111111,\"#46039f\"],[0.2222222222222222,\"#7201a8\"],[0.3333333333333333,\"#9c179e\"],[0.4444444444444444,\"#bd3786\"],[0.5555555555555556,\"#d8576b\"],[0.6666666666666666,\"#ed7953\"],[0.7777777777777778,\"#fb9f3a\"],[0.8888888888888888,\"#fdca26\"],[1.0,\"#f0f921\"]]}],\"surface\":[{\"type\":\"surface\",\"colorbar\":{\"outlinewidth\":0,\"ticks\":\"\"},\"colorscale\":[[0.0,\"#0d0887\"],[0.1111111111111111,\"#46039f\"],[0.2222222222222222,\"#7201a8\"],[0.3333333333333333,\"#9c179e\"],[0.4444444444444444,\"#bd3786\"],[0.5555555555555556,\"#d8576b\"],[0.6666666666666666,\"#ed7953\"],[0.7777777777777778,\"#fb9f3a\"],[0.8888888888888888,\"#fdca26\"],[1.0,\"#f0f921\"]]}],\"mesh3d\":[{\"type\":\"mesh3d\",\"colorbar\":{\"outlinewidth\":0,\"ticks\":\"\"}}],\"scatter\":[{\"fillpattern\":{\"fillmode\":\"overlay\",\"size\":10,\"solidity\":0.2},\"type\":\"scatter\"}],\"parcoords\":[{\"type\":\"parcoords\",\"line\":{\"colorbar\":{\"outlinewidth\":0,\"ticks\":\"\"}}}],\"scatterpolargl\":[{\"type\":\"scatterpolargl\",\"marker\":{\"colorbar\":{\"outlinewidth\":0,\"ticks\":\"\"}}}],\"bar\":[{\"error_x\":{\"color\":\"#2a3f5f\"},\"error_y\":{\"color\":\"#2a3f5f\"},\"marker\":{\"line\":{\"color\":\"#E5ECF6\",\"width\":0.5},\"pattern\":{\"fillmode\":\"overlay\",\"size\":10,\"solidity\":0.2}},\"type\":\"bar\"}],\"scattergeo\":[{\"type\":\"scattergeo\",\"marker\":{\"colorbar\":{\"outlinewidth\":0,\"ticks\":\"\"}}}],\"scatterpolar\":[{\"type\":\"scatterpolar\",\"marker\":{\"colorbar\":{\"outlinewidth\":0,\"ticks\":\"\"}}}],\"histogram\":[{\"marker\":{\"pattern\":{\"fillmode\":\"overlay\",\"size\":10,\"solidity\":0.2}},\"type\":\"histogram\"}],\"scattergl\":[{\"type\":\"scattergl\",\"marker\":{\"colorbar\":{\"outlinewidth\":0,\"ticks\":\"\"}}}],\"scatter3d\":[{\"type\":\"scatter3d\",\"line\":{\"colorbar\":{\"outlinewidth\":0,\"ticks\":\"\"}},\"marker\":{\"colorbar\":{\"outlinewidth\":0,\"ticks\":\"\"}}}],\"scattermapbox\":[{\"type\":\"scattermapbox\",\"marker\":{\"colorbar\":{\"outlinewidth\":0,\"ticks\":\"\"}}}],\"scatterternary\":[{\"type\":\"scatterternary\",\"marker\":{\"colorbar\":{\"outlinewidth\":0,\"ticks\":\"\"}}}],\"scattercarpet\":[{\"type\":\"scattercarpet\",\"marker\":{\"colorbar\":{\"outlinewidth\":0,\"ticks\":\"\"}}}],\"carpet\":[{\"aaxis\":{\"endlinecolor\":\"#2a3f5f\",\"gridcolor\":\"white\",\"linecolor\":\"white\",\"minorgridcolor\":\"white\",\"startlinecolor\":\"#2a3f5f\"},\"baxis\":{\"endlinecolor\":\"#2a3f5f\",\"gridcolor\":\"white\",\"linecolor\":\"white\",\"minorgridcolor\":\"white\",\"startlinecolor\":\"#2a3f5f\"},\"type\":\"carpet\"}],\"table\":[{\"cells\":{\"fill\":{\"color\":\"#EBF0F8\"},\"line\":{\"color\":\"white\"}},\"header\":{\"fill\":{\"color\":\"#C8D4E3\"},\"line\":{\"color\":\"white\"}},\"type\":\"table\"}],\"barpolar\":[{\"marker\":{\"line\":{\"color\":\"#E5ECF6\",\"width\":0.5},\"pattern\":{\"fillmode\":\"overlay\",\"size\":10,\"solidity\":0.2}},\"type\":\"barpolar\"}],\"pie\":[{\"automargin\":true,\"type\":\"pie\"}]},\"layout\":{\"autotypenumbers\":\"strict\",\"colorway\":[\"#636efa\",\"#EF553B\",\"#00cc96\",\"#ab63fa\",\"#FFA15A\",\"#19d3f3\",\"#FF6692\",\"#B6E880\",\"#FF97FF\",\"#FECB52\"],\"font\":{\"color\":\"#2a3f5f\"},\"hovermode\":\"closest\",\"hoverlabel\":{\"align\":\"left\"},\"paper_bgcolor\":\"white\",\"plot_bgcolor\":\"#E5ECF6\",\"polar\":{\"bgcolor\":\"#E5ECF6\",\"angularaxis\":{\"gridcolor\":\"white\",\"linecolor\":\"white\",\"ticks\":\"\"},\"radialaxis\":{\"gridcolor\":\"white\",\"linecolor\":\"white\",\"ticks\":\"\"}},\"ternary\":{\"bgcolor\":\"#E5ECF6\",\"aaxis\":{\"gridcolor\":\"white\",\"linecolor\":\"white\",\"ticks\":\"\"},\"baxis\":{\"gridcolor\":\"white\",\"linecolor\":\"white\",\"ticks\":\"\"},\"caxis\":{\"gridcolor\":\"white\",\"linecolor\":\"white\",\"ticks\":\"\"}},\"coloraxis\":{\"colorbar\":{\"outlinewidth\":0,\"ticks\":\"\"}},\"colorscale\":{\"sequential\":[[0.0,\"#0d0887\"],[0.1111111111111111,\"#46039f\"],[0.2222222222222222,\"#7201a8\"],[0.3333333333333333,\"#9c179e\"],[0.4444444444444444,\"#bd3786\"],[0.5555555555555556,\"#d8576b\"],[0.6666666666666666,\"#ed7953\"],[0.7777777777777778,\"#fb9f3a\"],[0.8888888888888888,\"#fdca26\"],[1.0,\"#f0f921\"]],\"sequentialminus\":[[0.0,\"#0d0887\"],[0.1111111111111111,\"#46039f\"],[0.2222222222222222,\"#7201a8\"],[0.3333333333333333,\"#9c179e\"],[0.4444444444444444,\"#bd3786\"],[0.5555555555555556,\"#d8576b\"],[0.6666666666666666,\"#ed7953\"],[0.7777777777777778,\"#fb9f3a\"],[0.8888888888888888,\"#fdca26\"],[1.0,\"#f0f921\"]],\"diverging\":[[0,\"#8e0152\"],[0.1,\"#c51b7d\"],[0.2,\"#de77ae\"],[0.3,\"#f1b6da\"],[0.4,\"#fde0ef\"],[0.5,\"#f7f7f7\"],[0.6,\"#e6f5d0\"],[0.7,\"#b8e186\"],[0.8,\"#7fbc41\"],[0.9,\"#4d9221\"],[1,\"#276419\"]]},\"xaxis\":{\"gridcolor\":\"white\",\"linecolor\":\"white\",\"ticks\":\"\",\"title\":{\"standoff\":15},\"zerolinecolor\":\"white\",\"automargin\":true,\"zerolinewidth\":2},\"yaxis\":{\"gridcolor\":\"white\",\"linecolor\":\"white\",\"ticks\":\"\",\"title\":{\"standoff\":15},\"zerolinecolor\":\"white\",\"automargin\":true,\"zerolinewidth\":2},\"scene\":{\"xaxis\":{\"backgroundcolor\":\"#E5ECF6\",\"gridcolor\":\"white\",\"linecolor\":\"white\",\"showbackground\":true,\"ticks\":\"\",\"zerolinecolor\":\"white\",\"gridwidth\":2},\"yaxis\":{\"backgroundcolor\":\"#E5ECF6\",\"gridcolor\":\"white\",\"linecolor\":\"white\",\"showbackground\":true,\"ticks\":\"\",\"zerolinecolor\":\"white\",\"gridwidth\":2},\"zaxis\":{\"backgroundcolor\":\"#E5ECF6\",\"gridcolor\":\"white\",\"linecolor\":\"white\",\"showbackground\":true,\"ticks\":\"\",\"zerolinecolor\":\"white\",\"gridwidth\":2}},\"shapedefaults\":{\"line\":{\"color\":\"#2a3f5f\"}},\"annotationdefaults\":{\"arrowcolor\":\"#2a3f5f\",\"arrowhead\":0,\"arrowwidth\":1},\"geo\":{\"bgcolor\":\"white\",\"landcolor\":\"#E5ECF6\",\"subunitcolor\":\"white\",\"showland\":true,\"showlakes\":true,\"lakecolor\":\"white\"},\"title\":{\"x\":0.05},\"mapbox\":{\"style\":\"light\"}}},\"title\":{\"text\":\"Emotion Patterns Throughout the Day\",\"font\":{\"size\":16},\"x\":0.5},\"xaxis\":{\"title\":{\"text\":\"Hour of Day\"}},\"yaxis\":{\"title\":{\"text\":\"Emotion\"}},\"height\":600,\"width\":800},                        {\"responsive\": true}                    ).then(function(){\n",
              "                            \n",
              "var gd = document.getElementById('74219be8-9626-4124-8b39-1d587ee3c766');\n",
              "var x = new MutationObserver(function (mutations, observer) {{\n",
              "        var display = window.getComputedStyle(gd).display;\n",
              "        if (!display || display === 'none') {{\n",
              "            console.log([gd, 'removed!']);\n",
              "            Plotly.purge(gd);\n",
              "            observer.disconnect();\n",
              "        }}\n",
              "}});\n",
              "\n",
              "// Listen for the removal of the full notebook cells\n",
              "var notebookContainer = gd.closest('#notebook-container');\n",
              "if (notebookContainer) {{\n",
              "    x.observe(notebookContainer, {childList: true});\n",
              "}}\n",
              "\n",
              "// Listen for the clearing of the current output cell\n",
              "var outputEl = gd.closest('.output');\n",
              "if (outputEl) {{\n",
              "    x.observe(outputEl, {childList: true});\n",
              "}}\n",
              "\n",
              "                        })                };                });            </script>        </div>"
            ]
          },
          "metadata": {}
        },
        {
          "output_type": "stream",
          "name": "stdout",
          "text": [
            "\n",
            "3. Word Frequency Analysis...\n",
            "word frequency chart...\n"
          ]
        },
        {
          "output_type": "display_data",
          "data": {
            "application/vnd.plotly.v1+json": {
              "data": [
                {
                  "hovertemplate": "Word: %{x}<br>Frequency: %{y}<extra></extra>",
                  "marker": {
                    "color": [
                      "#440154",
                      "#482878",
                      "#3e4989",
                      "#31688e",
                      "#26828e",
                      "#1f9e89",
                      "#35b779",
                      "#6ece58",
                      "#b5de2b",
                      "#fde725"
                    ]
                  },
                  "x": [
                    "looking",
                    "forward",
                    "opportunities",
                    "weather",
                    "perfect",
                    "walk",
                    "park",
                    "technology",
                    "amazing",
                    "these",
                    "days",
                    "having",
                    "happy",
                    "blessed",
                    "excited",
                    "about",
                    "upcoming",
                    "weekend",
                    "plans",
                    "missing",
                    "times",
                    "another",
                    "ordinary",
                    "work",
                    "frustrated"
                  ],
                  "y": [
                    155,
                    155,
                    155,
                    137,
                    137,
                    137,
                    137,
                    127,
                    127,
                    127,
                    127,
                    127,
                    127,
                    127,
                    122,
                    122,
                    122,
                    122,
                    122,
                    118,
                    118,
                    108,
                    108,
                    108,
                    106
                  ],
                  "type": "bar"
                }
              ],
              "layout": {
                "template": {
                  "data": {
                    "histogram2dcontour": [
                      {
                        "type": "histogram2dcontour",
                        "colorbar": {
                          "outlinewidth": 0,
                          "ticks": ""
                        },
                        "colorscale": [
                          [
                            0,
                            "#0d0887"
                          ],
                          [
                            0.1111111111111111,
                            "#46039f"
                          ],
                          [
                            0.2222222222222222,
                            "#7201a8"
                          ],
                          [
                            0.3333333333333333,
                            "#9c179e"
                          ],
                          [
                            0.4444444444444444,
                            "#bd3786"
                          ],
                          [
                            0.5555555555555556,
                            "#d8576b"
                          ],
                          [
                            0.6666666666666666,
                            "#ed7953"
                          ],
                          [
                            0.7777777777777778,
                            "#fb9f3a"
                          ],
                          [
                            0.8888888888888888,
                            "#fdca26"
                          ],
                          [
                            1,
                            "#f0f921"
                          ]
                        ]
                      }
                    ],
                    "choropleth": [
                      {
                        "type": "choropleth",
                        "colorbar": {
                          "outlinewidth": 0,
                          "ticks": ""
                        }
                      }
                    ],
                    "histogram2d": [
                      {
                        "type": "histogram2d",
                        "colorbar": {
                          "outlinewidth": 0,
                          "ticks": ""
                        },
                        "colorscale": [
                          [
                            0,
                            "#0d0887"
                          ],
                          [
                            0.1111111111111111,
                            "#46039f"
                          ],
                          [
                            0.2222222222222222,
                            "#7201a8"
                          ],
                          [
                            0.3333333333333333,
                            "#9c179e"
                          ],
                          [
                            0.4444444444444444,
                            "#bd3786"
                          ],
                          [
                            0.5555555555555556,
                            "#d8576b"
                          ],
                          [
                            0.6666666666666666,
                            "#ed7953"
                          ],
                          [
                            0.7777777777777778,
                            "#fb9f3a"
                          ],
                          [
                            0.8888888888888888,
                            "#fdca26"
                          ],
                          [
                            1,
                            "#f0f921"
                          ]
                        ]
                      }
                    ],
                    "heatmap": [
                      {
                        "type": "heatmap",
                        "colorbar": {
                          "outlinewidth": 0,
                          "ticks": ""
                        },
                        "colorscale": [
                          [
                            0,
                            "#0d0887"
                          ],
                          [
                            0.1111111111111111,
                            "#46039f"
                          ],
                          [
                            0.2222222222222222,
                            "#7201a8"
                          ],
                          [
                            0.3333333333333333,
                            "#9c179e"
                          ],
                          [
                            0.4444444444444444,
                            "#bd3786"
                          ],
                          [
                            0.5555555555555556,
                            "#d8576b"
                          ],
                          [
                            0.6666666666666666,
                            "#ed7953"
                          ],
                          [
                            0.7777777777777778,
                            "#fb9f3a"
                          ],
                          [
                            0.8888888888888888,
                            "#fdca26"
                          ],
                          [
                            1,
                            "#f0f921"
                          ]
                        ]
                      }
                    ],
                    "heatmapgl": [
                      {
                        "type": "heatmapgl",
                        "colorbar": {
                          "outlinewidth": 0,
                          "ticks": ""
                        },
                        "colorscale": [
                          [
                            0,
                            "#0d0887"
                          ],
                          [
                            0.1111111111111111,
                            "#46039f"
                          ],
                          [
                            0.2222222222222222,
                            "#7201a8"
                          ],
                          [
                            0.3333333333333333,
                            "#9c179e"
                          ],
                          [
                            0.4444444444444444,
                            "#bd3786"
                          ],
                          [
                            0.5555555555555556,
                            "#d8576b"
                          ],
                          [
                            0.6666666666666666,
                            "#ed7953"
                          ],
                          [
                            0.7777777777777778,
                            "#fb9f3a"
                          ],
                          [
                            0.8888888888888888,
                            "#fdca26"
                          ],
                          [
                            1,
                            "#f0f921"
                          ]
                        ]
                      }
                    ],
                    "contourcarpet": [
                      {
                        "type": "contourcarpet",
                        "colorbar": {
                          "outlinewidth": 0,
                          "ticks": ""
                        }
                      }
                    ],
                    "contour": [
                      {
                        "type": "contour",
                        "colorbar": {
                          "outlinewidth": 0,
                          "ticks": ""
                        },
                        "colorscale": [
                          [
                            0,
                            "#0d0887"
                          ],
                          [
                            0.1111111111111111,
                            "#46039f"
                          ],
                          [
                            0.2222222222222222,
                            "#7201a8"
                          ],
                          [
                            0.3333333333333333,
                            "#9c179e"
                          ],
                          [
                            0.4444444444444444,
                            "#bd3786"
                          ],
                          [
                            0.5555555555555556,
                            "#d8576b"
                          ],
                          [
                            0.6666666666666666,
                            "#ed7953"
                          ],
                          [
                            0.7777777777777778,
                            "#fb9f3a"
                          ],
                          [
                            0.8888888888888888,
                            "#fdca26"
                          ],
                          [
                            1,
                            "#f0f921"
                          ]
                        ]
                      }
                    ],
                    "surface": [
                      {
                        "type": "surface",
                        "colorbar": {
                          "outlinewidth": 0,
                          "ticks": ""
                        },
                        "colorscale": [
                          [
                            0,
                            "#0d0887"
                          ],
                          [
                            0.1111111111111111,
                            "#46039f"
                          ],
                          [
                            0.2222222222222222,
                            "#7201a8"
                          ],
                          [
                            0.3333333333333333,
                            "#9c179e"
                          ],
                          [
                            0.4444444444444444,
                            "#bd3786"
                          ],
                          [
                            0.5555555555555556,
                            "#d8576b"
                          ],
                          [
                            0.6666666666666666,
                            "#ed7953"
                          ],
                          [
                            0.7777777777777778,
                            "#fb9f3a"
                          ],
                          [
                            0.8888888888888888,
                            "#fdca26"
                          ],
                          [
                            1,
                            "#f0f921"
                          ]
                        ]
                      }
                    ],
                    "mesh3d": [
                      {
                        "type": "mesh3d",
                        "colorbar": {
                          "outlinewidth": 0,
                          "ticks": ""
                        }
                      }
                    ],
                    "scatter": [
                      {
                        "fillpattern": {
                          "fillmode": "overlay",
                          "size": 10,
                          "solidity": 0.2
                        },
                        "type": "scatter"
                      }
                    ],
                    "parcoords": [
                      {
                        "type": "parcoords",
                        "line": {
                          "colorbar": {
                            "outlinewidth": 0,
                            "ticks": ""
                          }
                        }
                      }
                    ],
                    "scatterpolargl": [
                      {
                        "type": "scatterpolargl",
                        "marker": {
                          "colorbar": {
                            "outlinewidth": 0,
                            "ticks": ""
                          }
                        }
                      }
                    ],
                    "bar": [
                      {
                        "error_x": {
                          "color": "#2a3f5f"
                        },
                        "error_y": {
                          "color": "#2a3f5f"
                        },
                        "marker": {
                          "line": {
                            "color": "#E5ECF6",
                            "width": 0.5
                          },
                          "pattern": {
                            "fillmode": "overlay",
                            "size": 10,
                            "solidity": 0.2
                          }
                        },
                        "type": "bar"
                      }
                    ],
                    "scattergeo": [
                      {
                        "type": "scattergeo",
                        "marker": {
                          "colorbar": {
                            "outlinewidth": 0,
                            "ticks": ""
                          }
                        }
                      }
                    ],
                    "scatterpolar": [
                      {
                        "type": "scatterpolar",
                        "marker": {
                          "colorbar": {
                            "outlinewidth": 0,
                            "ticks": ""
                          }
                        }
                      }
                    ],
                    "histogram": [
                      {
                        "marker": {
                          "pattern": {
                            "fillmode": "overlay",
                            "size": 10,
                            "solidity": 0.2
                          }
                        },
                        "type": "histogram"
                      }
                    ],
                    "scattergl": [
                      {
                        "type": "scattergl",
                        "marker": {
                          "colorbar": {
                            "outlinewidth": 0,
                            "ticks": ""
                          }
                        }
                      }
                    ],
                    "scatter3d": [
                      {
                        "type": "scatter3d",
                        "line": {
                          "colorbar": {
                            "outlinewidth": 0,
                            "ticks": ""
                          }
                        },
                        "marker": {
                          "colorbar": {
                            "outlinewidth": 0,
                            "ticks": ""
                          }
                        }
                      }
                    ],
                    "scattermapbox": [
                      {
                        "type": "scattermapbox",
                        "marker": {
                          "colorbar": {
                            "outlinewidth": 0,
                            "ticks": ""
                          }
                        }
                      }
                    ],
                    "scatterternary": [
                      {
                        "type": "scatterternary",
                        "marker": {
                          "colorbar": {
                            "outlinewidth": 0,
                            "ticks": ""
                          }
                        }
                      }
                    ],
                    "scattercarpet": [
                      {
                        "type": "scattercarpet",
                        "marker": {
                          "colorbar": {
                            "outlinewidth": 0,
                            "ticks": ""
                          }
                        }
                      }
                    ],
                    "carpet": [
                      {
                        "aaxis": {
                          "endlinecolor": "#2a3f5f",
                          "gridcolor": "white",
                          "linecolor": "white",
                          "minorgridcolor": "white",
                          "startlinecolor": "#2a3f5f"
                        },
                        "baxis": {
                          "endlinecolor": "#2a3f5f",
                          "gridcolor": "white",
                          "linecolor": "white",
                          "minorgridcolor": "white",
                          "startlinecolor": "#2a3f5f"
                        },
                        "type": "carpet"
                      }
                    ],
                    "table": [
                      {
                        "cells": {
                          "fill": {
                            "color": "#EBF0F8"
                          },
                          "line": {
                            "color": "white"
                          }
                        },
                        "header": {
                          "fill": {
                            "color": "#C8D4E3"
                          },
                          "line": {
                            "color": "white"
                          }
                        },
                        "type": "table"
                      }
                    ],
                    "barpolar": [
                      {
                        "marker": {
                          "line": {
                            "color": "#E5ECF6",
                            "width": 0.5
                          },
                          "pattern": {
                            "fillmode": "overlay",
                            "size": 10,
                            "solidity": 0.2
                          }
                        },
                        "type": "barpolar"
                      }
                    ],
                    "pie": [
                      {
                        "automargin": true,
                        "type": "pie"
                      }
                    ]
                  },
                  "layout": {
                    "autotypenumbers": "strict",
                    "colorway": [
                      "#636efa",
                      "#EF553B",
                      "#00cc96",
                      "#ab63fa",
                      "#FFA15A",
                      "#19d3f3",
                      "#FF6692",
                      "#B6E880",
                      "#FF97FF",
                      "#FECB52"
                    ],
                    "font": {
                      "color": "#2a3f5f"
                    },
                    "hovermode": "closest",
                    "hoverlabel": {
                      "align": "left"
                    },
                    "paper_bgcolor": "white",
                    "plot_bgcolor": "#E5ECF6",
                    "polar": {
                      "bgcolor": "#E5ECF6",
                      "angularaxis": {
                        "gridcolor": "white",
                        "linecolor": "white",
                        "ticks": ""
                      },
                      "radialaxis": {
                        "gridcolor": "white",
                        "linecolor": "white",
                        "ticks": ""
                      }
                    },
                    "ternary": {
                      "bgcolor": "#E5ECF6",
                      "aaxis": {
                        "gridcolor": "white",
                        "linecolor": "white",
                        "ticks": ""
                      },
                      "baxis": {
                        "gridcolor": "white",
                        "linecolor": "white",
                        "ticks": ""
                      },
                      "caxis": {
                        "gridcolor": "white",
                        "linecolor": "white",
                        "ticks": ""
                      }
                    },
                    "coloraxis": {
                      "colorbar": {
                        "outlinewidth": 0,
                        "ticks": ""
                      }
                    },
                    "colorscale": {
                      "sequential": [
                        [
                          0,
                          "#0d0887"
                        ],
                        [
                          0.1111111111111111,
                          "#46039f"
                        ],
                        [
                          0.2222222222222222,
                          "#7201a8"
                        ],
                        [
                          0.3333333333333333,
                          "#9c179e"
                        ],
                        [
                          0.4444444444444444,
                          "#bd3786"
                        ],
                        [
                          0.5555555555555556,
                          "#d8576b"
                        ],
                        [
                          0.6666666666666666,
                          "#ed7953"
                        ],
                        [
                          0.7777777777777778,
                          "#fb9f3a"
                        ],
                        [
                          0.8888888888888888,
                          "#fdca26"
                        ],
                        [
                          1,
                          "#f0f921"
                        ]
                      ],
                      "sequentialminus": [
                        [
                          0,
                          "#0d0887"
                        ],
                        [
                          0.1111111111111111,
                          "#46039f"
                        ],
                        [
                          0.2222222222222222,
                          "#7201a8"
                        ],
                        [
                          0.3333333333333333,
                          "#9c179e"
                        ],
                        [
                          0.4444444444444444,
                          "#bd3786"
                        ],
                        [
                          0.5555555555555556,
                          "#d8576b"
                        ],
                        [
                          0.6666666666666666,
                          "#ed7953"
                        ],
                        [
                          0.7777777777777778,
                          "#fb9f3a"
                        ],
                        [
                          0.8888888888888888,
                          "#fdca26"
                        ],
                        [
                          1,
                          "#f0f921"
                        ]
                      ],
                      "diverging": [
                        [
                          0,
                          "#8e0152"
                        ],
                        [
                          0.1,
                          "#c51b7d"
                        ],
                        [
                          0.2,
                          "#de77ae"
                        ],
                        [
                          0.3,
                          "#f1b6da"
                        ],
                        [
                          0.4,
                          "#fde0ef"
                        ],
                        [
                          0.5,
                          "#f7f7f7"
                        ],
                        [
                          0.6,
                          "#e6f5d0"
                        ],
                        [
                          0.7,
                          "#b8e186"
                        ],
                        [
                          0.8,
                          "#7fbc41"
                        ],
                        [
                          0.9,
                          "#4d9221"
                        ],
                        [
                          1,
                          "#276419"
                        ]
                      ]
                    },
                    "xaxis": {
                      "gridcolor": "white",
                      "linecolor": "white",
                      "ticks": "",
                      "title": {
                        "standoff": 15
                      },
                      "zerolinecolor": "white",
                      "automargin": true,
                      "zerolinewidth": 2
                    },
                    "yaxis": {
                      "gridcolor": "white",
                      "linecolor": "white",
                      "ticks": "",
                      "title": {
                        "standoff": 15
                      },
                      "zerolinecolor": "white",
                      "automargin": true,
                      "zerolinewidth": 2
                    },
                    "scene": {
                      "xaxis": {
                        "backgroundcolor": "#E5ECF6",
                        "gridcolor": "white",
                        "linecolor": "white",
                        "showbackground": true,
                        "ticks": "",
                        "zerolinecolor": "white",
                        "gridwidth": 2
                      },
                      "yaxis": {
                        "backgroundcolor": "#E5ECF6",
                        "gridcolor": "white",
                        "linecolor": "white",
                        "showbackground": true,
                        "ticks": "",
                        "zerolinecolor": "white",
                        "gridwidth": 2
                      },
                      "zaxis": {
                        "backgroundcolor": "#E5ECF6",
                        "gridcolor": "white",
                        "linecolor": "white",
                        "showbackground": true,
                        "ticks": "",
                        "zerolinecolor": "white",
                        "gridwidth": 2
                      }
                    },
                    "shapedefaults": {
                      "line": {
                        "color": "#2a3f5f"
                      }
                    },
                    "annotationdefaults": {
                      "arrowcolor": "#2a3f5f",
                      "arrowhead": 0,
                      "arrowwidth": 1
                    },
                    "geo": {
                      "bgcolor": "white",
                      "landcolor": "#E5ECF6",
                      "subunitcolor": "white",
                      "showland": true,
                      "showlakes": true,
                      "lakecolor": "white"
                    },
                    "title": {
                      "x": 0.05
                    },
                    "mapbox": {
                      "style": "light"
                    }
                  }
                },
                "title": {
                  "text": "Most Frequent Words in Tweets",
                  "font": {
                    "size": 16
                  },
                  "x": 0.5
                },
                "xaxis": {
                  "title": {
                    "text": "Words"
                  },
                  "tickangle": -45
                },
                "yaxis": {
                  "title": {
                    "text": "Frequency"
                  }
                },
                "height": 500,
                "width": 800
              },
              "config": {
                "plotlyServerURL": "https://plot.ly"
              }
            },
            "text/html": [
              "<div>                            <div id=\"2b09a52f-be6f-4a44-b14b-895189ecc9ce\" class=\"plotly-graph-div\" style=\"height:500px; width:800px;\"></div>            <script type=\"text/javascript\">                require([\"plotly\"], function(Plotly) {                    window.PLOTLYENV=window.PLOTLYENV || {};                                    if (document.getElementById(\"2b09a52f-be6f-4a44-b14b-895189ecc9ce\")) {                    Plotly.newPlot(                        \"2b09a52f-be6f-4a44-b14b-895189ecc9ce\",                        [{\"hovertemplate\":\"Word: %{x}\\u003cbr\\u003eFrequency: %{y}\\u003cextra\\u003e\\u003c\\u002fextra\\u003e\",\"marker\":{\"color\":[\"#440154\",\"#482878\",\"#3e4989\",\"#31688e\",\"#26828e\",\"#1f9e89\",\"#35b779\",\"#6ece58\",\"#b5de2b\",\"#fde725\"]},\"x\":[\"looking\",\"forward\",\"opportunities\",\"weather\",\"perfect\",\"walk\",\"park\",\"technology\",\"amazing\",\"these\",\"days\",\"having\",\"happy\",\"blessed\",\"excited\",\"about\",\"upcoming\",\"weekend\",\"plans\",\"missing\",\"times\",\"another\",\"ordinary\",\"work\",\"frustrated\"],\"y\":[155,155,155,137,137,137,137,127,127,127,127,127,127,127,122,122,122,122,122,118,118,108,108,108,106],\"type\":\"bar\"}],                        {\"template\":{\"data\":{\"histogram2dcontour\":[{\"type\":\"histogram2dcontour\",\"colorbar\":{\"outlinewidth\":0,\"ticks\":\"\"},\"colorscale\":[[0.0,\"#0d0887\"],[0.1111111111111111,\"#46039f\"],[0.2222222222222222,\"#7201a8\"],[0.3333333333333333,\"#9c179e\"],[0.4444444444444444,\"#bd3786\"],[0.5555555555555556,\"#d8576b\"],[0.6666666666666666,\"#ed7953\"],[0.7777777777777778,\"#fb9f3a\"],[0.8888888888888888,\"#fdca26\"],[1.0,\"#f0f921\"]]}],\"choropleth\":[{\"type\":\"choropleth\",\"colorbar\":{\"outlinewidth\":0,\"ticks\":\"\"}}],\"histogram2d\":[{\"type\":\"histogram2d\",\"colorbar\":{\"outlinewidth\":0,\"ticks\":\"\"},\"colorscale\":[[0.0,\"#0d0887\"],[0.1111111111111111,\"#46039f\"],[0.2222222222222222,\"#7201a8\"],[0.3333333333333333,\"#9c179e\"],[0.4444444444444444,\"#bd3786\"],[0.5555555555555556,\"#d8576b\"],[0.6666666666666666,\"#ed7953\"],[0.7777777777777778,\"#fb9f3a\"],[0.8888888888888888,\"#fdca26\"],[1.0,\"#f0f921\"]]}],\"heatmap\":[{\"type\":\"heatmap\",\"colorbar\":{\"outlinewidth\":0,\"ticks\":\"\"},\"colorscale\":[[0.0,\"#0d0887\"],[0.1111111111111111,\"#46039f\"],[0.2222222222222222,\"#7201a8\"],[0.3333333333333333,\"#9c179e\"],[0.4444444444444444,\"#bd3786\"],[0.5555555555555556,\"#d8576b\"],[0.6666666666666666,\"#ed7953\"],[0.7777777777777778,\"#fb9f3a\"],[0.8888888888888888,\"#fdca26\"],[1.0,\"#f0f921\"]]}],\"heatmapgl\":[{\"type\":\"heatmapgl\",\"colorbar\":{\"outlinewidth\":0,\"ticks\":\"\"},\"colorscale\":[[0.0,\"#0d0887\"],[0.1111111111111111,\"#46039f\"],[0.2222222222222222,\"#7201a8\"],[0.3333333333333333,\"#9c179e\"],[0.4444444444444444,\"#bd3786\"],[0.5555555555555556,\"#d8576b\"],[0.6666666666666666,\"#ed7953\"],[0.7777777777777778,\"#fb9f3a\"],[0.8888888888888888,\"#fdca26\"],[1.0,\"#f0f921\"]]}],\"contourcarpet\":[{\"type\":\"contourcarpet\",\"colorbar\":{\"outlinewidth\":0,\"ticks\":\"\"}}],\"contour\":[{\"type\":\"contour\",\"colorbar\":{\"outlinewidth\":0,\"ticks\":\"\"},\"colorscale\":[[0.0,\"#0d0887\"],[0.1111111111111111,\"#46039f\"],[0.2222222222222222,\"#7201a8\"],[0.3333333333333333,\"#9c179e\"],[0.4444444444444444,\"#bd3786\"],[0.5555555555555556,\"#d8576b\"],[0.6666666666666666,\"#ed7953\"],[0.7777777777777778,\"#fb9f3a\"],[0.8888888888888888,\"#fdca26\"],[1.0,\"#f0f921\"]]}],\"surface\":[{\"type\":\"surface\",\"colorbar\":{\"outlinewidth\":0,\"ticks\":\"\"},\"colorscale\":[[0.0,\"#0d0887\"],[0.1111111111111111,\"#46039f\"],[0.2222222222222222,\"#7201a8\"],[0.3333333333333333,\"#9c179e\"],[0.4444444444444444,\"#bd3786\"],[0.5555555555555556,\"#d8576b\"],[0.6666666666666666,\"#ed7953\"],[0.7777777777777778,\"#fb9f3a\"],[0.8888888888888888,\"#fdca26\"],[1.0,\"#f0f921\"]]}],\"mesh3d\":[{\"type\":\"mesh3d\",\"colorbar\":{\"outlinewidth\":0,\"ticks\":\"\"}}],\"scatter\":[{\"fillpattern\":{\"fillmode\":\"overlay\",\"size\":10,\"solidity\":0.2},\"type\":\"scatter\"}],\"parcoords\":[{\"type\":\"parcoords\",\"line\":{\"colorbar\":{\"outlinewidth\":0,\"ticks\":\"\"}}}],\"scatterpolargl\":[{\"type\":\"scatterpolargl\",\"marker\":{\"colorbar\":{\"outlinewidth\":0,\"ticks\":\"\"}}}],\"bar\":[{\"error_x\":{\"color\":\"#2a3f5f\"},\"error_y\":{\"color\":\"#2a3f5f\"},\"marker\":{\"line\":{\"color\":\"#E5ECF6\",\"width\":0.5},\"pattern\":{\"fillmode\":\"overlay\",\"size\":10,\"solidity\":0.2}},\"type\":\"bar\"}],\"scattergeo\":[{\"type\":\"scattergeo\",\"marker\":{\"colorbar\":{\"outlinewidth\":0,\"ticks\":\"\"}}}],\"scatterpolar\":[{\"type\":\"scatterpolar\",\"marker\":{\"colorbar\":{\"outlinewidth\":0,\"ticks\":\"\"}}}],\"histogram\":[{\"marker\":{\"pattern\":{\"fillmode\":\"overlay\",\"size\":10,\"solidity\":0.2}},\"type\":\"histogram\"}],\"scattergl\":[{\"type\":\"scattergl\",\"marker\":{\"colorbar\":{\"outlinewidth\":0,\"ticks\":\"\"}}}],\"scatter3d\":[{\"type\":\"scatter3d\",\"line\":{\"colorbar\":{\"outlinewidth\":0,\"ticks\":\"\"}},\"marker\":{\"colorbar\":{\"outlinewidth\":0,\"ticks\":\"\"}}}],\"scattermapbox\":[{\"type\":\"scattermapbox\",\"marker\":{\"colorbar\":{\"outlinewidth\":0,\"ticks\":\"\"}}}],\"scatterternary\":[{\"type\":\"scatterternary\",\"marker\":{\"colorbar\":{\"outlinewidth\":0,\"ticks\":\"\"}}}],\"scattercarpet\":[{\"type\":\"scattercarpet\",\"marker\":{\"colorbar\":{\"outlinewidth\":0,\"ticks\":\"\"}}}],\"carpet\":[{\"aaxis\":{\"endlinecolor\":\"#2a3f5f\",\"gridcolor\":\"white\",\"linecolor\":\"white\",\"minorgridcolor\":\"white\",\"startlinecolor\":\"#2a3f5f\"},\"baxis\":{\"endlinecolor\":\"#2a3f5f\",\"gridcolor\":\"white\",\"linecolor\":\"white\",\"minorgridcolor\":\"white\",\"startlinecolor\":\"#2a3f5f\"},\"type\":\"carpet\"}],\"table\":[{\"cells\":{\"fill\":{\"color\":\"#EBF0F8\"},\"line\":{\"color\":\"white\"}},\"header\":{\"fill\":{\"color\":\"#C8D4E3\"},\"line\":{\"color\":\"white\"}},\"type\":\"table\"}],\"barpolar\":[{\"marker\":{\"line\":{\"color\":\"#E5ECF6\",\"width\":0.5},\"pattern\":{\"fillmode\":\"overlay\",\"size\":10,\"solidity\":0.2}},\"type\":\"barpolar\"}],\"pie\":[{\"automargin\":true,\"type\":\"pie\"}]},\"layout\":{\"autotypenumbers\":\"strict\",\"colorway\":[\"#636efa\",\"#EF553B\",\"#00cc96\",\"#ab63fa\",\"#FFA15A\",\"#19d3f3\",\"#FF6692\",\"#B6E880\",\"#FF97FF\",\"#FECB52\"],\"font\":{\"color\":\"#2a3f5f\"},\"hovermode\":\"closest\",\"hoverlabel\":{\"align\":\"left\"},\"paper_bgcolor\":\"white\",\"plot_bgcolor\":\"#E5ECF6\",\"polar\":{\"bgcolor\":\"#E5ECF6\",\"angularaxis\":{\"gridcolor\":\"white\",\"linecolor\":\"white\",\"ticks\":\"\"},\"radialaxis\":{\"gridcolor\":\"white\",\"linecolor\":\"white\",\"ticks\":\"\"}},\"ternary\":{\"bgcolor\":\"#E5ECF6\",\"aaxis\":{\"gridcolor\":\"white\",\"linecolor\":\"white\",\"ticks\":\"\"},\"baxis\":{\"gridcolor\":\"white\",\"linecolor\":\"white\",\"ticks\":\"\"},\"caxis\":{\"gridcolor\":\"white\",\"linecolor\":\"white\",\"ticks\":\"\"}},\"coloraxis\":{\"colorbar\":{\"outlinewidth\":0,\"ticks\":\"\"}},\"colorscale\":{\"sequential\":[[0.0,\"#0d0887\"],[0.1111111111111111,\"#46039f\"],[0.2222222222222222,\"#7201a8\"],[0.3333333333333333,\"#9c179e\"],[0.4444444444444444,\"#bd3786\"],[0.5555555555555556,\"#d8576b\"],[0.6666666666666666,\"#ed7953\"],[0.7777777777777778,\"#fb9f3a\"],[0.8888888888888888,\"#fdca26\"],[1.0,\"#f0f921\"]],\"sequentialminus\":[[0.0,\"#0d0887\"],[0.1111111111111111,\"#46039f\"],[0.2222222222222222,\"#7201a8\"],[0.3333333333333333,\"#9c179e\"],[0.4444444444444444,\"#bd3786\"],[0.5555555555555556,\"#d8576b\"],[0.6666666666666666,\"#ed7953\"],[0.7777777777777778,\"#fb9f3a\"],[0.8888888888888888,\"#fdca26\"],[1.0,\"#f0f921\"]],\"diverging\":[[0,\"#8e0152\"],[0.1,\"#c51b7d\"],[0.2,\"#de77ae\"],[0.3,\"#f1b6da\"],[0.4,\"#fde0ef\"],[0.5,\"#f7f7f7\"],[0.6,\"#e6f5d0\"],[0.7,\"#b8e186\"],[0.8,\"#7fbc41\"],[0.9,\"#4d9221\"],[1,\"#276419\"]]},\"xaxis\":{\"gridcolor\":\"white\",\"linecolor\":\"white\",\"ticks\":\"\",\"title\":{\"standoff\":15},\"zerolinecolor\":\"white\",\"automargin\":true,\"zerolinewidth\":2},\"yaxis\":{\"gridcolor\":\"white\",\"linecolor\":\"white\",\"ticks\":\"\",\"title\":{\"standoff\":15},\"zerolinecolor\":\"white\",\"automargin\":true,\"zerolinewidth\":2},\"scene\":{\"xaxis\":{\"backgroundcolor\":\"#E5ECF6\",\"gridcolor\":\"white\",\"linecolor\":\"white\",\"showbackground\":true,\"ticks\":\"\",\"zerolinecolor\":\"white\",\"gridwidth\":2},\"yaxis\":{\"backgroundcolor\":\"#E5ECF6\",\"gridcolor\":\"white\",\"linecolor\":\"white\",\"showbackground\":true,\"ticks\":\"\",\"zerolinecolor\":\"white\",\"gridwidth\":2},\"zaxis\":{\"backgroundcolor\":\"#E5ECF6\",\"gridcolor\":\"white\",\"linecolor\":\"white\",\"showbackground\":true,\"ticks\":\"\",\"zerolinecolor\":\"white\",\"gridwidth\":2}},\"shapedefaults\":{\"line\":{\"color\":\"#2a3f5f\"}},\"annotationdefaults\":{\"arrowcolor\":\"#2a3f5f\",\"arrowhead\":0,\"arrowwidth\":1},\"geo\":{\"bgcolor\":\"white\",\"landcolor\":\"#E5ECF6\",\"subunitcolor\":\"white\",\"showland\":true,\"showlakes\":true,\"lakecolor\":\"white\"},\"title\":{\"x\":0.05},\"mapbox\":{\"style\":\"light\"}}},\"title\":{\"text\":\"Most Frequent Words in Tweets\",\"font\":{\"size\":16},\"x\":0.5},\"xaxis\":{\"title\":{\"text\":\"Words\"},\"tickangle\":-45},\"yaxis\":{\"title\":{\"text\":\"Frequency\"}},\"height\":500,\"width\":800},                        {\"responsive\": true}                    ).then(function(){\n",
              "                            \n",
              "var gd = document.getElementById('2b09a52f-be6f-4a44-b14b-895189ecc9ce');\n",
              "var x = new MutationObserver(function (mutations, observer) {{\n",
              "        var display = window.getComputedStyle(gd).display;\n",
              "        if (!display || display === 'none') {{\n",
              "            console.log([gd, 'removed!']);\n",
              "            Plotly.purge(gd);\n",
              "            observer.disconnect();\n",
              "        }}\n",
              "}});\n",
              "\n",
              "// Listen for the removal of the full notebook cells\n",
              "var notebookContainer = gd.closest('#notebook-container');\n",
              "if (notebookContainer) {{\n",
              "    x.observe(notebookContainer, {childList: true});\n",
              "}}\n",
              "\n",
              "// Listen for the clearing of the current output cell\n",
              "var outputEl = gd.closest('.output');\n",
              "if (outputEl) {{\n",
              "    x.observe(outputEl, {childList: true});\n",
              "}}\n",
              "\n",
              "                        })                };                });            </script>        </div>"
            ]
          },
          "metadata": {}
        },
        {
          "output_type": "stream",
          "name": "stdout",
          "text": [
            "\n",
            "4. Time Series Analysis...\n",
            "time series analysis...\n"
          ]
        },
        {
          "output_type": "display_data",
          "data": {
            "application/vnd.plotly.v1+json": {
              "data": [
                {
                  "line": {
                    "color": "#2E86AB",
                    "width": 3
                  },
                  "marker": {
                    "size": 8
                  },
                  "mode": "lines+markers",
                  "name": "Polarity",
                  "x": [
                    0,
                    1,
                    2,
                    3,
                    4,
                    5,
                    6,
                    7,
                    8,
                    9,
                    10,
                    11,
                    12,
                    13,
                    14,
                    15,
                    16,
                    17,
                    18,
                    19,
                    20,
                    21,
                    22,
                    23
                  ],
                  "y": [
                    0.032425304846730396,
                    0.06184905771768146,
                    0.012311214726338428,
                    0.029321399455812493,
                    0.025369007210498902,
                    0.07948506953377836,
                    0.0790429094137609,
                    0.04203434643155083,
                    -0.05020057872940151,
                    0.003637964630108091,
                    -0.033456497290538824,
                    0.06749760635522445,
                    0.026703645418250765,
                    -0.16196205009530226,
                    -0.05751113912665203,
                    -0.011530464931970642,
                    -0.09653212775719854,
                    -0.05172562571869183,
                    0.08897311575598685,
                    0.036280401104062,
                    -0.10401944618829134,
                    0.09875976255625309,
                    0.10639306569641456,
                    0.12342425504298096
                  ],
                  "type": "scatter"
                },
                {
                  "line": {
                    "color": "#A23B72",
                    "width": 3
                  },
                  "marker": {
                    "size": 8
                  },
                  "mode": "lines+markers",
                  "name": "Subjectivity",
                  "x": [
                    0,
                    1,
                    2,
                    3,
                    4,
                    5,
                    6,
                    7,
                    8,
                    9,
                    10,
                    11,
                    12,
                    13,
                    14,
                    15,
                    16,
                    17,
                    18,
                    19,
                    20,
                    21,
                    22,
                    23
                  ],
                  "y": [
                    0.5021557753970494,
                    0.5320386954213269,
                    0.4926160411033087,
                    0.4575574344849233,
                    0.6021153448886978,
                    0.430582819048178,
                    0.4499880396432872,
                    0.4939171297720607,
                    0.4922448430177607,
                    0.5419791228319426,
                    0.4411850830624633,
                    0.4135446079200704,
                    0.47714536756744197,
                    0.48093305922875224,
                    0.4427319677560544,
                    0.4580909250410792,
                    0.5378288798727935,
                    0.5570197458476656,
                    0.566135726468484,
                    0.49600005004004094,
                    0.47965414262932776,
                    0.5280510836319635,
                    0.4654366453273525,
                    0.5526857900201447
                  ],
                  "yaxis": "y2",
                  "type": "scatter"
                }
              ],
              "layout": {
                "template": {
                  "data": {
                    "histogram2dcontour": [
                      {
                        "type": "histogram2dcontour",
                        "colorbar": {
                          "outlinewidth": 0,
                          "ticks": ""
                        },
                        "colorscale": [
                          [
                            0,
                            "#0d0887"
                          ],
                          [
                            0.1111111111111111,
                            "#46039f"
                          ],
                          [
                            0.2222222222222222,
                            "#7201a8"
                          ],
                          [
                            0.3333333333333333,
                            "#9c179e"
                          ],
                          [
                            0.4444444444444444,
                            "#bd3786"
                          ],
                          [
                            0.5555555555555556,
                            "#d8576b"
                          ],
                          [
                            0.6666666666666666,
                            "#ed7953"
                          ],
                          [
                            0.7777777777777778,
                            "#fb9f3a"
                          ],
                          [
                            0.8888888888888888,
                            "#fdca26"
                          ],
                          [
                            1,
                            "#f0f921"
                          ]
                        ]
                      }
                    ],
                    "choropleth": [
                      {
                        "type": "choropleth",
                        "colorbar": {
                          "outlinewidth": 0,
                          "ticks": ""
                        }
                      }
                    ],
                    "histogram2d": [
                      {
                        "type": "histogram2d",
                        "colorbar": {
                          "outlinewidth": 0,
                          "ticks": ""
                        },
                        "colorscale": [
                          [
                            0,
                            "#0d0887"
                          ],
                          [
                            0.1111111111111111,
                            "#46039f"
                          ],
                          [
                            0.2222222222222222,
                            "#7201a8"
                          ],
                          [
                            0.3333333333333333,
                            "#9c179e"
                          ],
                          [
                            0.4444444444444444,
                            "#bd3786"
                          ],
                          [
                            0.5555555555555556,
                            "#d8576b"
                          ],
                          [
                            0.6666666666666666,
                            "#ed7953"
                          ],
                          [
                            0.7777777777777778,
                            "#fb9f3a"
                          ],
                          [
                            0.8888888888888888,
                            "#fdca26"
                          ],
                          [
                            1,
                            "#f0f921"
                          ]
                        ]
                      }
                    ],
                    "heatmap": [
                      {
                        "type": "heatmap",
                        "colorbar": {
                          "outlinewidth": 0,
                          "ticks": ""
                        },
                        "colorscale": [
                          [
                            0,
                            "#0d0887"
                          ],
                          [
                            0.1111111111111111,
                            "#46039f"
                          ],
                          [
                            0.2222222222222222,
                            "#7201a8"
                          ],
                          [
                            0.3333333333333333,
                            "#9c179e"
                          ],
                          [
                            0.4444444444444444,
                            "#bd3786"
                          ],
                          [
                            0.5555555555555556,
                            "#d8576b"
                          ],
                          [
                            0.6666666666666666,
                            "#ed7953"
                          ],
                          [
                            0.7777777777777778,
                            "#fb9f3a"
                          ],
                          [
                            0.8888888888888888,
                            "#fdca26"
                          ],
                          [
                            1,
                            "#f0f921"
                          ]
                        ]
                      }
                    ],
                    "heatmapgl": [
                      {
                        "type": "heatmapgl",
                        "colorbar": {
                          "outlinewidth": 0,
                          "ticks": ""
                        },
                        "colorscale": [
                          [
                            0,
                            "#0d0887"
                          ],
                          [
                            0.1111111111111111,
                            "#46039f"
                          ],
                          [
                            0.2222222222222222,
                            "#7201a8"
                          ],
                          [
                            0.3333333333333333,
                            "#9c179e"
                          ],
                          [
                            0.4444444444444444,
                            "#bd3786"
                          ],
                          [
                            0.5555555555555556,
                            "#d8576b"
                          ],
                          [
                            0.6666666666666666,
                            "#ed7953"
                          ],
                          [
                            0.7777777777777778,
                            "#fb9f3a"
                          ],
                          [
                            0.8888888888888888,
                            "#fdca26"
                          ],
                          [
                            1,
                            "#f0f921"
                          ]
                        ]
                      }
                    ],
                    "contourcarpet": [
                      {
                        "type": "contourcarpet",
                        "colorbar": {
                          "outlinewidth": 0,
                          "ticks": ""
                        }
                      }
                    ],
                    "contour": [
                      {
                        "type": "contour",
                        "colorbar": {
                          "outlinewidth": 0,
                          "ticks": ""
                        },
                        "colorscale": [
                          [
                            0,
                            "#0d0887"
                          ],
                          [
                            0.1111111111111111,
                            "#46039f"
                          ],
                          [
                            0.2222222222222222,
                            "#7201a8"
                          ],
                          [
                            0.3333333333333333,
                            "#9c179e"
                          ],
                          [
                            0.4444444444444444,
                            "#bd3786"
                          ],
                          [
                            0.5555555555555556,
                            "#d8576b"
                          ],
                          [
                            0.6666666666666666,
                            "#ed7953"
                          ],
                          [
                            0.7777777777777778,
                            "#fb9f3a"
                          ],
                          [
                            0.8888888888888888,
                            "#fdca26"
                          ],
                          [
                            1,
                            "#f0f921"
                          ]
                        ]
                      }
                    ],
                    "surface": [
                      {
                        "type": "surface",
                        "colorbar": {
                          "outlinewidth": 0,
                          "ticks": ""
                        },
                        "colorscale": [
                          [
                            0,
                            "#0d0887"
                          ],
                          [
                            0.1111111111111111,
                            "#46039f"
                          ],
                          [
                            0.2222222222222222,
                            "#7201a8"
                          ],
                          [
                            0.3333333333333333,
                            "#9c179e"
                          ],
                          [
                            0.4444444444444444,
                            "#bd3786"
                          ],
                          [
                            0.5555555555555556,
                            "#d8576b"
                          ],
                          [
                            0.6666666666666666,
                            "#ed7953"
                          ],
                          [
                            0.7777777777777778,
                            "#fb9f3a"
                          ],
                          [
                            0.8888888888888888,
                            "#fdca26"
                          ],
                          [
                            1,
                            "#f0f921"
                          ]
                        ]
                      }
                    ],
                    "mesh3d": [
                      {
                        "type": "mesh3d",
                        "colorbar": {
                          "outlinewidth": 0,
                          "ticks": ""
                        }
                      }
                    ],
                    "scatter": [
                      {
                        "fillpattern": {
                          "fillmode": "overlay",
                          "size": 10,
                          "solidity": 0.2
                        },
                        "type": "scatter"
                      }
                    ],
                    "parcoords": [
                      {
                        "type": "parcoords",
                        "line": {
                          "colorbar": {
                            "outlinewidth": 0,
                            "ticks": ""
                          }
                        }
                      }
                    ],
                    "scatterpolargl": [
                      {
                        "type": "scatterpolargl",
                        "marker": {
                          "colorbar": {
                            "outlinewidth": 0,
                            "ticks": ""
                          }
                        }
                      }
                    ],
                    "bar": [
                      {
                        "error_x": {
                          "color": "#2a3f5f"
                        },
                        "error_y": {
                          "color": "#2a3f5f"
                        },
                        "marker": {
                          "line": {
                            "color": "#E5ECF6",
                            "width": 0.5
                          },
                          "pattern": {
                            "fillmode": "overlay",
                            "size": 10,
                            "solidity": 0.2
                          }
                        },
                        "type": "bar"
                      }
                    ],
                    "scattergeo": [
                      {
                        "type": "scattergeo",
                        "marker": {
                          "colorbar": {
                            "outlinewidth": 0,
                            "ticks": ""
                          }
                        }
                      }
                    ],
                    "scatterpolar": [
                      {
                        "type": "scatterpolar",
                        "marker": {
                          "colorbar": {
                            "outlinewidth": 0,
                            "ticks": ""
                          }
                        }
                      }
                    ],
                    "histogram": [
                      {
                        "marker": {
                          "pattern": {
                            "fillmode": "overlay",
                            "size": 10,
                            "solidity": 0.2
                          }
                        },
                        "type": "histogram"
                      }
                    ],
                    "scattergl": [
                      {
                        "type": "scattergl",
                        "marker": {
                          "colorbar": {
                            "outlinewidth": 0,
                            "ticks": ""
                          }
                        }
                      }
                    ],
                    "scatter3d": [
                      {
                        "type": "scatter3d",
                        "line": {
                          "colorbar": {
                            "outlinewidth": 0,
                            "ticks": ""
                          }
                        },
                        "marker": {
                          "colorbar": {
                            "outlinewidth": 0,
                            "ticks": ""
                          }
                        }
                      }
                    ],
                    "scattermapbox": [
                      {
                        "type": "scattermapbox",
                        "marker": {
                          "colorbar": {
                            "outlinewidth": 0,
                            "ticks": ""
                          }
                        }
                      }
                    ],
                    "scatterternary": [
                      {
                        "type": "scatterternary",
                        "marker": {
                          "colorbar": {
                            "outlinewidth": 0,
                            "ticks": ""
                          }
                        }
                      }
                    ],
                    "scattercarpet": [
                      {
                        "type": "scattercarpet",
                        "marker": {
                          "colorbar": {
                            "outlinewidth": 0,
                            "ticks": ""
                          }
                        }
                      }
                    ],
                    "carpet": [
                      {
                        "aaxis": {
                          "endlinecolor": "#2a3f5f",
                          "gridcolor": "white",
                          "linecolor": "white",
                          "minorgridcolor": "white",
                          "startlinecolor": "#2a3f5f"
                        },
                        "baxis": {
                          "endlinecolor": "#2a3f5f",
                          "gridcolor": "white",
                          "linecolor": "white",
                          "minorgridcolor": "white",
                          "startlinecolor": "#2a3f5f"
                        },
                        "type": "carpet"
                      }
                    ],
                    "table": [
                      {
                        "cells": {
                          "fill": {
                            "color": "#EBF0F8"
                          },
                          "line": {
                            "color": "white"
                          }
                        },
                        "header": {
                          "fill": {
                            "color": "#C8D4E3"
                          },
                          "line": {
                            "color": "white"
                          }
                        },
                        "type": "table"
                      }
                    ],
                    "barpolar": [
                      {
                        "marker": {
                          "line": {
                            "color": "#E5ECF6",
                            "width": 0.5
                          },
                          "pattern": {
                            "fillmode": "overlay",
                            "size": 10,
                            "solidity": 0.2
                          }
                        },
                        "type": "barpolar"
                      }
                    ],
                    "pie": [
                      {
                        "automargin": true,
                        "type": "pie"
                      }
                    ]
                  },
                  "layout": {
                    "autotypenumbers": "strict",
                    "colorway": [
                      "#636efa",
                      "#EF553B",
                      "#00cc96",
                      "#ab63fa",
                      "#FFA15A",
                      "#19d3f3",
                      "#FF6692",
                      "#B6E880",
                      "#FF97FF",
                      "#FECB52"
                    ],
                    "font": {
                      "color": "#2a3f5f"
                    },
                    "hovermode": "closest",
                    "hoverlabel": {
                      "align": "left"
                    },
                    "paper_bgcolor": "white",
                    "plot_bgcolor": "#E5ECF6",
                    "polar": {
                      "bgcolor": "#E5ECF6",
                      "angularaxis": {
                        "gridcolor": "white",
                        "linecolor": "white",
                        "ticks": ""
                      },
                      "radialaxis": {
                        "gridcolor": "white",
                        "linecolor": "white",
                        "ticks": ""
                      }
                    },
                    "ternary": {
                      "bgcolor": "#E5ECF6",
                      "aaxis": {
                        "gridcolor": "white",
                        "linecolor": "white",
                        "ticks": ""
                      },
                      "baxis": {
                        "gridcolor": "white",
                        "linecolor": "white",
                        "ticks": ""
                      },
                      "caxis": {
                        "gridcolor": "white",
                        "linecolor": "white",
                        "ticks": ""
                      }
                    },
                    "coloraxis": {
                      "colorbar": {
                        "outlinewidth": 0,
                        "ticks": ""
                      }
                    },
                    "colorscale": {
                      "sequential": [
                        [
                          0,
                          "#0d0887"
                        ],
                        [
                          0.1111111111111111,
                          "#46039f"
                        ],
                        [
                          0.2222222222222222,
                          "#7201a8"
                        ],
                        [
                          0.3333333333333333,
                          "#9c179e"
                        ],
                        [
                          0.4444444444444444,
                          "#bd3786"
                        ],
                        [
                          0.5555555555555556,
                          "#d8576b"
                        ],
                        [
                          0.6666666666666666,
                          "#ed7953"
                        ],
                        [
                          0.7777777777777778,
                          "#fb9f3a"
                        ],
                        [
                          0.8888888888888888,
                          "#fdca26"
                        ],
                        [
                          1,
                          "#f0f921"
                        ]
                      ],
                      "sequentialminus": [
                        [
                          0,
                          "#0d0887"
                        ],
                        [
                          0.1111111111111111,
                          "#46039f"
                        ],
                        [
                          0.2222222222222222,
                          "#7201a8"
                        ],
                        [
                          0.3333333333333333,
                          "#9c179e"
                        ],
                        [
                          0.4444444444444444,
                          "#bd3786"
                        ],
                        [
                          0.5555555555555556,
                          "#d8576b"
                        ],
                        [
                          0.6666666666666666,
                          "#ed7953"
                        ],
                        [
                          0.7777777777777778,
                          "#fb9f3a"
                        ],
                        [
                          0.8888888888888888,
                          "#fdca26"
                        ],
                        [
                          1,
                          "#f0f921"
                        ]
                      ],
                      "diverging": [
                        [
                          0,
                          "#8e0152"
                        ],
                        [
                          0.1,
                          "#c51b7d"
                        ],
                        [
                          0.2,
                          "#de77ae"
                        ],
                        [
                          0.3,
                          "#f1b6da"
                        ],
                        [
                          0.4,
                          "#fde0ef"
                        ],
                        [
                          0.5,
                          "#f7f7f7"
                        ],
                        [
                          0.6,
                          "#e6f5d0"
                        ],
                        [
                          0.7,
                          "#b8e186"
                        ],
                        [
                          0.8,
                          "#7fbc41"
                        ],
                        [
                          0.9,
                          "#4d9221"
                        ],
                        [
                          1,
                          "#276419"
                        ]
                      ]
                    },
                    "xaxis": {
                      "gridcolor": "white",
                      "linecolor": "white",
                      "ticks": "",
                      "title": {
                        "standoff": 15
                      },
                      "zerolinecolor": "white",
                      "automargin": true,
                      "zerolinewidth": 2
                    },
                    "yaxis": {
                      "gridcolor": "white",
                      "linecolor": "white",
                      "ticks": "",
                      "title": {
                        "standoff": 15
                      },
                      "zerolinecolor": "white",
                      "automargin": true,
                      "zerolinewidth": 2
                    },
                    "scene": {
                      "xaxis": {
                        "backgroundcolor": "#E5ECF6",
                        "gridcolor": "white",
                        "linecolor": "white",
                        "showbackground": true,
                        "ticks": "",
                        "zerolinecolor": "white",
                        "gridwidth": 2
                      },
                      "yaxis": {
                        "backgroundcolor": "#E5ECF6",
                        "gridcolor": "white",
                        "linecolor": "white",
                        "showbackground": true,
                        "ticks": "",
                        "zerolinecolor": "white",
                        "gridwidth": 2
                      },
                      "zaxis": {
                        "backgroundcolor": "#E5ECF6",
                        "gridcolor": "white",
                        "linecolor": "white",
                        "showbackground": true,
                        "ticks": "",
                        "zerolinecolor": "white",
                        "gridwidth": 2
                      }
                    },
                    "shapedefaults": {
                      "line": {
                        "color": "#2a3f5f"
                      }
                    },
                    "annotationdefaults": {
                      "arrowcolor": "#2a3f5f",
                      "arrowhead": 0,
                      "arrowwidth": 1
                    },
                    "geo": {
                      "bgcolor": "white",
                      "landcolor": "#E5ECF6",
                      "subunitcolor": "white",
                      "showland": true,
                      "showlakes": true,
                      "lakecolor": "white"
                    },
                    "title": {
                      "x": 0.05
                    },
                    "mapbox": {
                      "style": "light"
                    }
                  }
                },
                "title": {
                  "text": "Hourly Sentiment Patterns",
                  "font": {
                    "size": 16
                  },
                  "x": 0.5
                },
                "yaxis2": {
                  "title": {
                    "text": "Subjectivity Score"
                  },
                  "overlaying": "y",
                  "side": "right"
                },
                "xaxis": {
                  "title": {
                    "text": "Hour of Day"
                  }
                },
                "yaxis": {
                  "title": {
                    "text": "Polarity Score"
                  }
                },
                "height": 500,
                "width": 800,
                "hovermode": "x unified"
              },
              "config": {
                "plotlyServerURL": "https://plot.ly"
              }
            },
            "text/html": [
              "<div>                            <div id=\"5fcb2c95-f79d-48b7-94f5-ce43a57dc5aa\" class=\"plotly-graph-div\" style=\"height:500px; width:800px;\"></div>            <script type=\"text/javascript\">                require([\"plotly\"], function(Plotly) {                    window.PLOTLYENV=window.PLOTLYENV || {};                                    if (document.getElementById(\"5fcb2c95-f79d-48b7-94f5-ce43a57dc5aa\")) {                    Plotly.newPlot(                        \"5fcb2c95-f79d-48b7-94f5-ce43a57dc5aa\",                        [{\"line\":{\"color\":\"#2E86AB\",\"width\":3},\"marker\":{\"size\":8},\"mode\":\"lines+markers\",\"name\":\"Polarity\",\"x\":[0,1,2,3,4,5,6,7,8,9,10,11,12,13,14,15,16,17,18,19,20,21,22,23],\"y\":[0.032425304846730396,0.06184905771768146,0.012311214726338428,0.029321399455812493,0.025369007210498902,0.07948506953377836,0.0790429094137609,0.04203434643155083,-0.05020057872940151,0.003637964630108091,-0.033456497290538824,0.06749760635522445,0.026703645418250765,-0.16196205009530226,-0.05751113912665203,-0.011530464931970642,-0.09653212775719854,-0.05172562571869183,0.08897311575598685,0.036280401104062,-0.10401944618829134,0.09875976255625309,0.10639306569641456,0.12342425504298096],\"type\":\"scatter\"},{\"line\":{\"color\":\"#A23B72\",\"width\":3},\"marker\":{\"size\":8},\"mode\":\"lines+markers\",\"name\":\"Subjectivity\",\"x\":[0,1,2,3,4,5,6,7,8,9,10,11,12,13,14,15,16,17,18,19,20,21,22,23],\"y\":[0.5021557753970494,0.5320386954213269,0.4926160411033087,0.4575574344849233,0.6021153448886978,0.430582819048178,0.4499880396432872,0.4939171297720607,0.4922448430177607,0.5419791228319426,0.4411850830624633,0.4135446079200704,0.47714536756744197,0.48093305922875224,0.4427319677560544,0.4580909250410792,0.5378288798727935,0.5570197458476656,0.566135726468484,0.49600005004004094,0.47965414262932776,0.5280510836319635,0.4654366453273525,0.5526857900201447],\"yaxis\":\"y2\",\"type\":\"scatter\"}],                        {\"template\":{\"data\":{\"histogram2dcontour\":[{\"type\":\"histogram2dcontour\",\"colorbar\":{\"outlinewidth\":0,\"ticks\":\"\"},\"colorscale\":[[0.0,\"#0d0887\"],[0.1111111111111111,\"#46039f\"],[0.2222222222222222,\"#7201a8\"],[0.3333333333333333,\"#9c179e\"],[0.4444444444444444,\"#bd3786\"],[0.5555555555555556,\"#d8576b\"],[0.6666666666666666,\"#ed7953\"],[0.7777777777777778,\"#fb9f3a\"],[0.8888888888888888,\"#fdca26\"],[1.0,\"#f0f921\"]]}],\"choropleth\":[{\"type\":\"choropleth\",\"colorbar\":{\"outlinewidth\":0,\"ticks\":\"\"}}],\"histogram2d\":[{\"type\":\"histogram2d\",\"colorbar\":{\"outlinewidth\":0,\"ticks\":\"\"},\"colorscale\":[[0.0,\"#0d0887\"],[0.1111111111111111,\"#46039f\"],[0.2222222222222222,\"#7201a8\"],[0.3333333333333333,\"#9c179e\"],[0.4444444444444444,\"#bd3786\"],[0.5555555555555556,\"#d8576b\"],[0.6666666666666666,\"#ed7953\"],[0.7777777777777778,\"#fb9f3a\"],[0.8888888888888888,\"#fdca26\"],[1.0,\"#f0f921\"]]}],\"heatmap\":[{\"type\":\"heatmap\",\"colorbar\":{\"outlinewidth\":0,\"ticks\":\"\"},\"colorscale\":[[0.0,\"#0d0887\"],[0.1111111111111111,\"#46039f\"],[0.2222222222222222,\"#7201a8\"],[0.3333333333333333,\"#9c179e\"],[0.4444444444444444,\"#bd3786\"],[0.5555555555555556,\"#d8576b\"],[0.6666666666666666,\"#ed7953\"],[0.7777777777777778,\"#fb9f3a\"],[0.8888888888888888,\"#fdca26\"],[1.0,\"#f0f921\"]]}],\"heatmapgl\":[{\"type\":\"heatmapgl\",\"colorbar\":{\"outlinewidth\":0,\"ticks\":\"\"},\"colorscale\":[[0.0,\"#0d0887\"],[0.1111111111111111,\"#46039f\"],[0.2222222222222222,\"#7201a8\"],[0.3333333333333333,\"#9c179e\"],[0.4444444444444444,\"#bd3786\"],[0.5555555555555556,\"#d8576b\"],[0.6666666666666666,\"#ed7953\"],[0.7777777777777778,\"#fb9f3a\"],[0.8888888888888888,\"#fdca26\"],[1.0,\"#f0f921\"]]}],\"contourcarpet\":[{\"type\":\"contourcarpet\",\"colorbar\":{\"outlinewidth\":0,\"ticks\":\"\"}}],\"contour\":[{\"type\":\"contour\",\"colorbar\":{\"outlinewidth\":0,\"ticks\":\"\"},\"colorscale\":[[0.0,\"#0d0887\"],[0.1111111111111111,\"#46039f\"],[0.2222222222222222,\"#7201a8\"],[0.3333333333333333,\"#9c179e\"],[0.4444444444444444,\"#bd3786\"],[0.5555555555555556,\"#d8576b\"],[0.6666666666666666,\"#ed7953\"],[0.7777777777777778,\"#fb9f3a\"],[0.8888888888888888,\"#fdca26\"],[1.0,\"#f0f921\"]]}],\"surface\":[{\"type\":\"surface\",\"colorbar\":{\"outlinewidth\":0,\"ticks\":\"\"},\"colorscale\":[[0.0,\"#0d0887\"],[0.1111111111111111,\"#46039f\"],[0.2222222222222222,\"#7201a8\"],[0.3333333333333333,\"#9c179e\"],[0.4444444444444444,\"#bd3786\"],[0.5555555555555556,\"#d8576b\"],[0.6666666666666666,\"#ed7953\"],[0.7777777777777778,\"#fb9f3a\"],[0.8888888888888888,\"#fdca26\"],[1.0,\"#f0f921\"]]}],\"mesh3d\":[{\"type\":\"mesh3d\",\"colorbar\":{\"outlinewidth\":0,\"ticks\":\"\"}}],\"scatter\":[{\"fillpattern\":{\"fillmode\":\"overlay\",\"size\":10,\"solidity\":0.2},\"type\":\"scatter\"}],\"parcoords\":[{\"type\":\"parcoords\",\"line\":{\"colorbar\":{\"outlinewidth\":0,\"ticks\":\"\"}}}],\"scatterpolargl\":[{\"type\":\"scatterpolargl\",\"marker\":{\"colorbar\":{\"outlinewidth\":0,\"ticks\":\"\"}}}],\"bar\":[{\"error_x\":{\"color\":\"#2a3f5f\"},\"error_y\":{\"color\":\"#2a3f5f\"},\"marker\":{\"line\":{\"color\":\"#E5ECF6\",\"width\":0.5},\"pattern\":{\"fillmode\":\"overlay\",\"size\":10,\"solidity\":0.2}},\"type\":\"bar\"}],\"scattergeo\":[{\"type\":\"scattergeo\",\"marker\":{\"colorbar\":{\"outlinewidth\":0,\"ticks\":\"\"}}}],\"scatterpolar\":[{\"type\":\"scatterpolar\",\"marker\":{\"colorbar\":{\"outlinewidth\":0,\"ticks\":\"\"}}}],\"histogram\":[{\"marker\":{\"pattern\":{\"fillmode\":\"overlay\",\"size\":10,\"solidity\":0.2}},\"type\":\"histogram\"}],\"scattergl\":[{\"type\":\"scattergl\",\"marker\":{\"colorbar\":{\"outlinewidth\":0,\"ticks\":\"\"}}}],\"scatter3d\":[{\"type\":\"scatter3d\",\"line\":{\"colorbar\":{\"outlinewidth\":0,\"ticks\":\"\"}},\"marker\":{\"colorbar\":{\"outlinewidth\":0,\"ticks\":\"\"}}}],\"scattermapbox\":[{\"type\":\"scattermapbox\",\"marker\":{\"colorbar\":{\"outlinewidth\":0,\"ticks\":\"\"}}}],\"scatterternary\":[{\"type\":\"scatterternary\",\"marker\":{\"colorbar\":{\"outlinewidth\":0,\"ticks\":\"\"}}}],\"scattercarpet\":[{\"type\":\"scattercarpet\",\"marker\":{\"colorbar\":{\"outlinewidth\":0,\"ticks\":\"\"}}}],\"carpet\":[{\"aaxis\":{\"endlinecolor\":\"#2a3f5f\",\"gridcolor\":\"white\",\"linecolor\":\"white\",\"minorgridcolor\":\"white\",\"startlinecolor\":\"#2a3f5f\"},\"baxis\":{\"endlinecolor\":\"#2a3f5f\",\"gridcolor\":\"white\",\"linecolor\":\"white\",\"minorgridcolor\":\"white\",\"startlinecolor\":\"#2a3f5f\"},\"type\":\"carpet\"}],\"table\":[{\"cells\":{\"fill\":{\"color\":\"#EBF0F8\"},\"line\":{\"color\":\"white\"}},\"header\":{\"fill\":{\"color\":\"#C8D4E3\"},\"line\":{\"color\":\"white\"}},\"type\":\"table\"}],\"barpolar\":[{\"marker\":{\"line\":{\"color\":\"#E5ECF6\",\"width\":0.5},\"pattern\":{\"fillmode\":\"overlay\",\"size\":10,\"solidity\":0.2}},\"type\":\"barpolar\"}],\"pie\":[{\"automargin\":true,\"type\":\"pie\"}]},\"layout\":{\"autotypenumbers\":\"strict\",\"colorway\":[\"#636efa\",\"#EF553B\",\"#00cc96\",\"#ab63fa\",\"#FFA15A\",\"#19d3f3\",\"#FF6692\",\"#B6E880\",\"#FF97FF\",\"#FECB52\"],\"font\":{\"color\":\"#2a3f5f\"},\"hovermode\":\"closest\",\"hoverlabel\":{\"align\":\"left\"},\"paper_bgcolor\":\"white\",\"plot_bgcolor\":\"#E5ECF6\",\"polar\":{\"bgcolor\":\"#E5ECF6\",\"angularaxis\":{\"gridcolor\":\"white\",\"linecolor\":\"white\",\"ticks\":\"\"},\"radialaxis\":{\"gridcolor\":\"white\",\"linecolor\":\"white\",\"ticks\":\"\"}},\"ternary\":{\"bgcolor\":\"#E5ECF6\",\"aaxis\":{\"gridcolor\":\"white\",\"linecolor\":\"white\",\"ticks\":\"\"},\"baxis\":{\"gridcolor\":\"white\",\"linecolor\":\"white\",\"ticks\":\"\"},\"caxis\":{\"gridcolor\":\"white\",\"linecolor\":\"white\",\"ticks\":\"\"}},\"coloraxis\":{\"colorbar\":{\"outlinewidth\":0,\"ticks\":\"\"}},\"colorscale\":{\"sequential\":[[0.0,\"#0d0887\"],[0.1111111111111111,\"#46039f\"],[0.2222222222222222,\"#7201a8\"],[0.3333333333333333,\"#9c179e\"],[0.4444444444444444,\"#bd3786\"],[0.5555555555555556,\"#d8576b\"],[0.6666666666666666,\"#ed7953\"],[0.7777777777777778,\"#fb9f3a\"],[0.8888888888888888,\"#fdca26\"],[1.0,\"#f0f921\"]],\"sequentialminus\":[[0.0,\"#0d0887\"],[0.1111111111111111,\"#46039f\"],[0.2222222222222222,\"#7201a8\"],[0.3333333333333333,\"#9c179e\"],[0.4444444444444444,\"#bd3786\"],[0.5555555555555556,\"#d8576b\"],[0.6666666666666666,\"#ed7953\"],[0.7777777777777778,\"#fb9f3a\"],[0.8888888888888888,\"#fdca26\"],[1.0,\"#f0f921\"]],\"diverging\":[[0,\"#8e0152\"],[0.1,\"#c51b7d\"],[0.2,\"#de77ae\"],[0.3,\"#f1b6da\"],[0.4,\"#fde0ef\"],[0.5,\"#f7f7f7\"],[0.6,\"#e6f5d0\"],[0.7,\"#b8e186\"],[0.8,\"#7fbc41\"],[0.9,\"#4d9221\"],[1,\"#276419\"]]},\"xaxis\":{\"gridcolor\":\"white\",\"linecolor\":\"white\",\"ticks\":\"\",\"title\":{\"standoff\":15},\"zerolinecolor\":\"white\",\"automargin\":true,\"zerolinewidth\":2},\"yaxis\":{\"gridcolor\":\"white\",\"linecolor\":\"white\",\"ticks\":\"\",\"title\":{\"standoff\":15},\"zerolinecolor\":\"white\",\"automargin\":true,\"zerolinewidth\":2},\"scene\":{\"xaxis\":{\"backgroundcolor\":\"#E5ECF6\",\"gridcolor\":\"white\",\"linecolor\":\"white\",\"showbackground\":true,\"ticks\":\"\",\"zerolinecolor\":\"white\",\"gridwidth\":2},\"yaxis\":{\"backgroundcolor\":\"#E5ECF6\",\"gridcolor\":\"white\",\"linecolor\":\"white\",\"showbackground\":true,\"ticks\":\"\",\"zerolinecolor\":\"white\",\"gridwidth\":2},\"zaxis\":{\"backgroundcolor\":\"#E5ECF6\",\"gridcolor\":\"white\",\"linecolor\":\"white\",\"showbackground\":true,\"ticks\":\"\",\"zerolinecolor\":\"white\",\"gridwidth\":2}},\"shapedefaults\":{\"line\":{\"color\":\"#2a3f5f\"}},\"annotationdefaults\":{\"arrowcolor\":\"#2a3f5f\",\"arrowhead\":0,\"arrowwidth\":1},\"geo\":{\"bgcolor\":\"white\",\"landcolor\":\"#E5ECF6\",\"subunitcolor\":\"white\",\"showland\":true,\"showlakes\":true,\"lakecolor\":\"white\"},\"title\":{\"x\":0.05},\"mapbox\":{\"style\":\"light\"}}},\"title\":{\"text\":\"Hourly Sentiment Patterns\",\"font\":{\"size\":16},\"x\":0.5},\"yaxis2\":{\"title\":{\"text\":\"Subjectivity Score\"},\"overlaying\":\"y\",\"side\":\"right\"},\"xaxis\":{\"title\":{\"text\":\"Hour of Day\"}},\"yaxis\":{\"title\":{\"text\":\"Polarity Score\"}},\"height\":500,\"width\":800,\"hovermode\":\"x unified\"},                        {\"responsive\": true}                    ).then(function(){\n",
              "                            \n",
              "var gd = document.getElementById('5fcb2c95-f79d-48b7-94f5-ce43a57dc5aa');\n",
              "var x = new MutationObserver(function (mutations, observer) {{\n",
              "        var display = window.getComputedStyle(gd).display;\n",
              "        if (!display || display === 'none') {{\n",
              "            console.log([gd, 'removed!']);\n",
              "            Plotly.purge(gd);\n",
              "            observer.disconnect();\n",
              "        }}\n",
              "}});\n",
              "\n",
              "// Listen for the removal of the full notebook cells\n",
              "var notebookContainer = gd.closest('#notebook-container');\n",
              "if (notebookContainer) {{\n",
              "    x.observe(notebookContainer, {childList: true});\n",
              "}}\n",
              "\n",
              "// Listen for the clearing of the current output cell\n",
              "var outputEl = gd.closest('.output');\n",
              "if (outputEl) {{\n",
              "    x.observe(outputEl, {childList: true});\n",
              "}}\n",
              "\n",
              "                        })                };                });            </script>        </div>"
            ]
          },
          "metadata": {}
        },
        {
          "output_type": "stream",
          "name": "stdout",
          "text": [
            "HTML files saved successfully!\n"
          ]
        }
      ]
    }
  ]
}