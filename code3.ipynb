{
  "nbformat": 4,
  "nbformat_minor": 0,
  "metadata": {
    "colab": {
      "provenance": [],
      "collapsed_sections": [
        "NwbnEPFwdbDO"
      ]
    },
    "kernelspec": {
      "name": "python3",
      "display_name": "Python 3"
    },
    "language_info": {
      "name": "python"
    }
  },
  "cells": [
    {
      "cell_type": "markdown",
      "source": [
        "# Global Tweet Sentiment Analysis - Mood of the World { Free API Version }"
      ],
      "metadata": {
        "id": "pCtiLheWdLTS"
      }
    },
    {
      "cell_type": "markdown",
      "source": [
        "# Install Required Packages"
      ],
      "metadata": {
        "id": "Jl2PbgOKdUia"
      }
    },
    {
      "cell_type": "code",
      "execution_count": 68,
      "metadata": {
        "colab": {
          "base_uri": "https://localhost:8080/"
        },
        "id": "qsXufA_7XySO",
        "outputId": "167bbfee-2f84-474f-fc80-57ab10bb986d"
      },
      "outputs": [
        {
          "output_type": "stream",
          "name": "stdout",
          "text": [
            "[nltk_data] Downloading package brown to /root/nltk_data...\n",
            "[nltk_data]   Package brown is already up-to-date!\n",
            "[nltk_data] Downloading package punkt_tab to /root/nltk_data...\n",
            "[nltk_data]   Package punkt_tab is already up-to-date!\n",
            "[nltk_data] Downloading package wordnet to /root/nltk_data...\n",
            "[nltk_data]   Package wordnet is already up-to-date!\n",
            "[nltk_data] Downloading package averaged_perceptron_tagger_eng to\n",
            "[nltk_data]     /root/nltk_data...\n",
            "[nltk_data]   Package averaged_perceptron_tagger_eng is already up-to-\n",
            "[nltk_data]       date!\n",
            "[nltk_data] Downloading package conll2000 to /root/nltk_data...\n",
            "[nltk_data]   Package conll2000 is already up-to-date!\n",
            "[nltk_data] Downloading package movie_reviews to /root/nltk_data...\n",
            "[nltk_data]   Package movie_reviews is already up-to-date!\n",
            "Finished.\n"
          ]
        }
      ],
      "source": [
        "!pip install tweepy textblob plotly pandas numpy wordcloud matplotlib seaborn python-dotenv scikit-learn --quiet\n",
        "!python -m textblob.download_corpora"
      ]
    },
    {
      "cell_type": "markdown",
      "source": [
        "# Import Libraries"
      ],
      "metadata": {
        "id": "NwbnEPFwdbDO"
      }
    },
    {
      "cell_type": "code",
      "source": [
        "import tweepy\n",
        "import pandas as pd\n",
        "import numpy as np\n",
        "from textblob import TextBlob\n",
        "import plotly.express as px\n",
        "import plotly.graph_objects as go\n",
        "from plotly.subplots import make_subplots\n",
        "import plotly.offline as pyo\n",
        "from datetime import datetime, timedelta\n",
        "import re\n",
        "import json\n",
        "from collections import Counter\n",
        "import warnings\n",
        "warnings.filterwarnings('ignore')\n",
        "import matplotlib.pyplot as plt\n",
        "import seaborn as sns\n",
        "from wordcloud import WordCloud\n",
        "from sklearn.feature_extraction.text import TfidfVectorizer\n",
        "from sklearn.cluster import KMeans\n",
        "plt.style.use('seaborn-v0_8')\n",
        "sns.set_palette(\"husl\")\n",
        "pyo.init_notebook_mode(connected=True)"
      ],
      "metadata": {
        "colab": {
          "base_uri": "https://localhost:8080/",
          "height": 17
        },
        "id": "ZtEaBILWX8nv",
        "outputId": "bc778db4-d8be-4d16-db69-e614906a9f60"
      },
      "execution_count": 69,
      "outputs": [
        {
          "output_type": "display_data",
          "data": {
            "text/html": [
              "        <script type=\"text/javascript\">\n",
              "        window.PlotlyConfig = {MathJaxConfig: 'local'};\n",
              "        if (window.MathJax && window.MathJax.Hub && window.MathJax.Hub.Config) {window.MathJax.Hub.Config({SVG: {font: \"STIX-Web\"}});}\n",
              "        if (typeof require !== 'undefined') {\n",
              "        require.undef(\"plotly\");\n",
              "        requirejs.config({\n",
              "            paths: {\n",
              "                'plotly': ['https://cdn.plot.ly/plotly-2.35.2.min']\n",
              "            }\n",
              "        });\n",
              "        require(['plotly'], function(Plotly) {\n",
              "            window._Plotly = Plotly;\n",
              "        });\n",
              "        }\n",
              "        </script>\n",
              "        "
            ]
          },
          "metadata": {}
        }
      ]
    },
    {
      "cell_type": "markdown",
      "source": [
        "# Twitter API Configuration\n",
        "## Note : get API from https://developer.twitter.com/\n"
      ],
      "metadata": {
        "id": "IOq4Gvjydn4g"
      }
    },
    {
      "cell_type": "code",
      "source": [
        "class TwitterConfig:\n",
        "    def __init__(self):\n",
        "        # Replace with your actual API credentials\n",
        "        self.API_KEY = \"YOUR_API_KEY\"\n",
        "        self.API_SECRET = \"YOUR_API_SECRET\"\n",
        "        self.ACCESS_TOKEN = \"YOUR_ACCESS_TOKEN\"\n",
        "        self.ACCESS_TOKEN_SECRET = \"YOUR_ACCESS_TOKEN_SECRET\"\n",
        "        self.BEARER_TOKEN = \"YOUR_BEARER_TOKEN\"\n",
        "\n",
        "        # Rate limit settings\n",
        "        self.FREE_TIER_MONTHLY_LIMIT = 100\n",
        "        self.DAILY_BUDGET = 10\n",
        "        self.BATCH_SIZE = 25\n",
        "        self.REQUEST_DELAY = 1.5\n",
        "\n",
        "    def get_api_v1(self):\n",
        "        \"\"\"Get Twitter API v1.1 client\"\"\"\n",
        "        auth = tweepy.OAuthHandler(self.API_KEY, self.API_SECRET)\n",
        "        auth.set_access_token(self.ACCESS_TOKEN, self.ACCESS_TOKEN_SECRET)\n",
        "        return tweepy.API(auth, wait_on_rate_limit=True)\n",
        "\n",
        "    def get_api_v2(self):\n",
        "        \"\"\"Get Twitter API v2 client\"\"\"\n",
        "        return tweepy.Client(\n",
        "            bearer_token=self.BEARER_TOKEN,\n",
        "            consumer_key=self.API_KEY,\n",
        "            consumer_secret=self.API_SECRET,\n",
        "            access_token=self.ACCESS_TOKEN,\n",
        "            access_token_secret=self.ACCESS_TOKEN_SECRET,\n",
        "            wait_on_rate_limit=True\n",
        "        )\n",
        "config = TwitterConfig()"
      ],
      "metadata": {
        "id": "zfCHLwrwd_Mn"
      },
      "execution_count": 70,
      "outputs": []
    },
    {
      "cell_type": "markdown",
      "source": [
        "# Data Collection Via API or Sample Data for Demonstration"
      ],
      "metadata": {
        "id": "MkgYKLtdeLNj"
      }
    },
    {
      "cell_type": "code",
      "source": [
        "class GlobalTweetCollector:\n",
        "    def __init__(self, api_v1=None, api_v2=None):\n",
        "        self.api_v1 = api_v1\n",
        "        self.api_v2 = api_v2\n",
        "        self.tweets_data = []\n",
        "\n",
        "    def clean_tweet(self, text):\n",
        "        \"\"\"tweet cleaning\"\"\"\n",
        "        text = re.sub(r'http\\S+|www\\S+|https\\S+', '', text, flags=re.MULTILINE)\n",
        "        text = re.sub(r'@\\w+|#\\w+', '', text)\n",
        "        text = re.sub(r'\\s+', ' ', text)\n",
        "        text = re.sub(r'[^\\w\\s\\U0001F600-\\U0001F64F\\U0001F300-\\U0001F5FF\\U0001F680-\\U0001F6FF\\U0001F1E0-\\U0001F1FF]', '', text)\n",
        "        return text.strip()\n",
        "\n",
        "    def get_enhanced_sentiment(self, text):\n",
        "        \"\"\"sentiment analysis with confidence scores\"\"\"\n",
        "        try:\n",
        "            blob = TextBlob(text)\n",
        "            polarity = blob.sentiment.polarity\n",
        "            subjectivity = blob.sentiment.subjectivity\n",
        "            if polarity > 0.2:\n",
        "                sentiment = 'Positive'\n",
        "                confidence = abs(polarity)\n",
        "            elif polarity < -0.2:\n",
        "                sentiment = 'Negative'\n",
        "                confidence = abs(polarity)\n",
        "            else:\n",
        "                sentiment = 'Neutral'\n",
        "                confidence = 1 - abs(polarity)\n",
        "            emotion = self.detect_emotion(text.lower())\n",
        "\n",
        "            return {\n",
        "                'sentiment': sentiment,\n",
        "                'polarity': polarity,\n",
        "                'subjectivity': subjectivity,\n",
        "                'confidence': confidence,\n",
        "                'emotion': emotion,\n",
        "                'word_count': len(text.split())\n",
        "            }\n",
        "        except Exception as e:\n",
        "            return {\n",
        "                'sentiment': 'Neutral',\n",
        "                'polarity': 0.0,\n",
        "                'subjectivity': 0.0,\n",
        "                'confidence': 0.0,\n",
        "                'emotion': 'neutral',\n",
        "                'word_count': 0\n",
        "            }\n",
        "\n",
        "    def detect_emotion(self, text):\n",
        "        \"\"\"Detect basic emotions from text\"\"\"\n",
        "        emotion_keywords = {\n",
        "            'joy': ['happy', 'excited', 'great', 'wonderful', 'amazing', 'love', 'perfect'],\n",
        "            'sadness': ['sad', 'depressed', 'down', 'upset', 'disappointed', 'lonely'],\n",
        "            'anger': ['angry', 'mad', 'furious', 'annoyed', 'frustrated', 'hate'],\n",
        "            'fear': ['scared', 'afraid', 'worried', 'anxious', 'nervous', 'panic'],\n",
        "            'surprise': ['surprised', 'shocked', 'unexpected', 'wow', 'omg'],\n",
        "            'gratitude': ['grateful', 'thankful', 'blessed', 'appreciate', 'lucky']\n",
        "        }\n",
        "\n",
        "        emotion_scores = {}\n",
        "        for emotion, keywords in emotion_keywords.items():\n",
        "            score = sum(1 for keyword in keywords if keyword in text)\n",
        "            if score > 0:\n",
        "                emotion_scores[emotion] = score\n",
        "\n",
        "        if emotion_scores:\n",
        "            return max(emotion_scores, key=emotion_scores.get)\n",
        "        return 'neutral'\n",
        "\n",
        "    def collect_tweets_with_api(self, keywords=None, count=50):\n",
        "        \"\"\"Collect tweets using Twitter API\"\"\"\n",
        "        if not self.api_v2:\n",
        "            print(\"Twitter API not configured\")\n",
        "            return pd.DataFrame()\n",
        "\n",
        "        if keywords is None:\n",
        "            keywords = [\"feeling good\", \"having a great day\", \"feeling down\", \"stressed out\", \"grateful today\"]\n",
        "\n",
        "        print(f\"Collecting tweets using Twitter API...\")\n",
        "        print(f\"Target: {count} tweets across {len(keywords)} keywords\")\n",
        "\n",
        "        tweets_per_keyword = max(1, count // len(keywords))\n",
        "\n",
        "        for i, keyword in enumerate(keywords):\n",
        "            if len(self.tweets_data) >= count:\n",
        "                break\n",
        "\n",
        "            try:\n",
        "                print(f\"Searching: '{keyword}' ({i+1}/{len(keywords)})\")\n",
        "\n",
        "                tweets = self.api_v2.search_recent_tweets(\n",
        "                    query=f'\"{keyword}\" -is:retweet lang:en',\n",
        "                    tweet_fields=['created_at', 'author_id', 'public_metrics', 'context_annotations'],\n",
        "                    max_results=min(tweets_per_keyword, 100)\n",
        "                )\n",
        "\n",
        "                if tweets.data:\n",
        "                    for tweet in tweets.data:\n",
        "                        if len(self.tweets_data) >= count:\n",
        "                            break\n",
        "\n",
        "                        cleaned_text = self.clean_tweet(tweet.text)\n",
        "                        if len(cleaned_text) > 15:\n",
        "                            sentiment_data = self.get_enhanced_sentiment(cleaned_text)\n",
        "\n",
        "                            tweet_data = {\n",
        "                                'id': tweet.id,\n",
        "                                'text': cleaned_text,\n",
        "                                'original_text': tweet.text,\n",
        "                                'created_at': tweet.created_at,\n",
        "                                'author_id': tweet.author_id,\n",
        "                                'keyword': keyword,\n",
        "                                'source': 'twitter_api',\n",
        "                                **sentiment_data,\n",
        "                                'retweet_count': tweet.public_metrics.get('retweet_count', 0) if tweet.public_metrics else 0,\n",
        "                                'like_count': tweet.public_metrics.get('like_count', 0) if tweet.public_metrics else 0,\n",
        "                            }\n",
        "\n",
        "                            self.tweets_data.append(tweet_data)\n",
        "\n",
        "                import time\n",
        "                time.sleep(config.REQUEST_DELAY)\n",
        "\n",
        "            except Exception as e:\n",
        "                print(f\"Error with '{keyword}': {str(e)}\")\n",
        "                if \"rate limit\" in str(e).lower():\n",
        "                    print(\"Rate limit reached - switching to sample data\")\n",
        "                    break\n",
        "\n",
        "        print(f\"Collected {len(self.tweets_data)} real tweets\")\n",
        "        return pd.DataFrame(self.tweets_data)\n",
        "\n",
        "    def generate_realistic_sample_data(self, size=1000):\n",
        "        \"\"\"Generate realistic sample data with patterns\"\"\"\n",
        "        print(f\" Generating {size} realistic sample tweets...\")\n",
        "\n",
        "        tweet_templates = {\n",
        "            'positive': [\n",
        "                \"Just had the most amazing coffee this morning! ☀️\",\n",
        "                \"Feeling incredibly grateful for my family today 💕\",\n",
        "                \"Beautiful sunset tonight, life is good! 🌅\",\n",
        "                \"Finally finished that project I've been working on! 🎉\",\n",
        "                \"Met up with old friends today, such a perfect day! 😊\",\n",
        "                \"Got some great news today, feeling so blessed! ✨\",\n",
        "                \"Nothing beats a good workout to start the day! 💪\",\n",
        "                \"Weekend vibes are hitting different today! 🌟\",\n",
        "                \"Sometimes the little things make me the happiest 💝\",\n",
        "                \"Accomplished so much today, feeling proud! 🏆\"\n",
        "            ],\n",
        "            'negative': [\n",
        "                \"Having one of those days where nothing goes right 😔\",\n",
        "                \"Really struggling to find motivation lately\",\n",
        "                \"Work has been incredibly stressful this week\",\n",
        "                \"Feeling overwhelmed with everything going on\",\n",
        "                \"Just need a break from all this chaos\",\n",
        "                \"When will things start looking up? 😞\",\n",
        "                \"Another sleepless night ahead of me\",\n",
        "                \"Can't seem to catch a break these days\",\n",
        "                \"Feeling disconnected from everyone lately\",\n",
        "                \"This weather is really getting me down\"\n",
        "            ],\n",
        "            'neutral': [\n",
        "                \"Just another typical Monday morning\",\n",
        "                \"Regular day at the office, nothing special\",\n",
        "                \"Weather looks okay for the weekend\",\n",
        "                \"Going through my usual routine today\",\n",
        "                \"Standard Tuesday, same as always\",\n",
        "                \"Just checking in, hope everyone's well\",\n",
        "                \"Another day, another dollar as they say\",\n",
        "                \"Normal evening at home tonight\",\n",
        "                \"Regular coffee meeting this afternoon\",\n",
        "                \"Just going with the flow today\"\n",
        "            ]\n",
        "        }\n",
        "\n",
        "        emotions_dist = {'positive': 0.45, 'negative': 0.25, 'neutral': 0.30}\n",
        "        sample_data = []\n",
        "        end_date = datetime.now()\n",
        "        start_date = end_date - timedelta(days=7)\n",
        "        timestamps = pd.date_range(start=start_date, end=end_date, periods=size)\n",
        "\n",
        "        for i, timestamp in enumerate(timestamps):\n",
        "            hour = timestamp.hour\n",
        "            day_of_week = timestamp.weekday()\n",
        "\n",
        "            if 7 <= hour <= 10:\n",
        "                pos_boost = 0.15\n",
        "            elif 18 <= hour <= 21:\n",
        "                pos_boost = 0.10\n",
        "            elif 23 <= hour <= 2:\n",
        "                pos_boost = -0.20\n",
        "            elif day_of_week >= 5:\n",
        "                pos_boost = 0.12\n",
        "            else:\n",
        "                pos_boost = 0\n",
        "\n",
        "            adjusted_pos = min(0.7, emotions_dist['positive'] + pos_boost)\n",
        "            adjusted_neg = max(0.1, emotions_dist['negative'] - pos_boost/2)\n",
        "            adjusted_neu = 1 - adjusted_pos - adjusted_neg\n",
        "\n",
        "            sentiment_choice = np.random.choice(\n",
        "                ['positive', 'negative', 'neutral'],\n",
        "                p=[adjusted_pos, adjusted_neg, adjusted_neu]\n",
        "            )\n",
        "\n",
        "            template = np.random.choice(tweet_templates[sentiment_choice])\n",
        "\n",
        "            variations = {\n",
        "                'positive': ['!', ' 🙂', ' Today was good.', ' Feeling blessed.'],\n",
        "                'negative': ['...', ' 😕', ' Not my best day.', ' Hope tomorrow is better.'],\n",
        "                'neutral': ['.', ' Just saying.', ' That\\'s life.', ' Moving on.']\n",
        "            }\n",
        "\n",
        "            text = template + np.random.choice(variations[sentiment_choice])\n",
        "\n",
        "            sentiment_data = self.get_enhanced_sentiment(text)\n",
        "\n",
        "            if sentiment_choice == 'positive':\n",
        "                likes = np.random.poisson(8)\n",
        "                retweets = np.random.poisson(2)\n",
        "            elif sentiment_choice == 'negative':\n",
        "                likes = np.random.poisson(3)\n",
        "                retweets = np.random.poisson(1)\n",
        "            else:\n",
        "                likes = np.random.poisson(4)\n",
        "                retweets = np.random.poisson(1)\n",
        "\n",
        "            sample_data.append({\n",
        "                'id': f'sample_{i}',\n",
        "                'text': text,\n",
        "                'original_text': text,\n",
        "                'created_at': timestamp,\n",
        "                'author_id': f'user_{i % 100}',\n",
        "                'keyword': np.random.choice(['mood', 'feeling', 'day', 'life', 'today']),\n",
        "                'source': 'sample_data',\n",
        "                **sentiment_data,\n",
        "                'like_count': likes,\n",
        "                'retweet_count': retweets,\n",
        "            })\n",
        "\n",
        "        print(f\"Generated {len(sample_data)} realistic sample tweets\")\n",
        "        return pd.DataFrame(sample_data)"
      ],
      "metadata": {
        "id": "HZa1gmgheKoL"
      },
      "execution_count": 71,
      "outputs": []
    },
    {
      "cell_type": "markdown",
      "source": [
        "# Initialize APIs and Collect Data"
      ],
      "metadata": {
        "id": "aI1zPxCvfL4a"
      }
    },
    {
      "cell_type": "code",
      "source": [
        "def initialize_data_collection():\n",
        "    \"\"\"Initialize data collection with fallback options\"\"\"\n",
        "    collector = GlobalTweetCollector()\n",
        "    df_final = pd.DataFrame()\n",
        "\n",
        "    try:\n",
        "        print(\"Attempting Twitter API connection...\")\n",
        "        api_v1 = config.get_api_v1()\n",
        "        api_v2 = config.get_api_v2()\n",
        "\n",
        "        me = api_v1.verify_credentials()\n",
        "        if me:\n",
        "            print(f\"Connected as: @{me.screen_name}\")\n",
        "            collector.api_v1 = api_v1\n",
        "            collector.api_v2 = api_v2\n",
        "\n",
        "            df_real = collector.collect_tweets_with_api(count=config.DAILY_BUDGET)\n",
        "            if len(df_real) > 0:\n",
        "                df_final = pd.concat([df_final, df_real], ignore_index=True)\n",
        "                print(f\"Added {len(df_real)} real tweets\")\n",
        "\n",
        "    except Exception as e:\n",
        "        print(f\"Twitter API issue: {str(e)[:100]}...\")\n",
        "        print(\"Continuing with sample data only\")\n",
        "\n",
        "    print(\"\\nGenerating comprehensive sample dataset...\")\n",
        "    df_sample = collector.generate_realistic_sample_data(1200)\n",
        "    df_final = pd.concat([df_final, df_sample], ignore_index=True)\n",
        "\n",
        "    df_final['created_at'] = pd.to_datetime(df_final['created_at'])\n",
        "    df_final['hour'] = df_final['created_at'].dt.hour\n",
        "    df_final['day_of_week'] = df_final['created_at'].dt.day_name()\n",
        "    df_final['date'] = df_final['created_at'].dt.date\n",
        "    df_final['is_weekend'] = df_final['created_at'].dt.weekday >= 5\n",
        "\n",
        "    print(f\"\\n Final dataset ready!\")\n",
        "    print(f\"Total tweets: {len(df_final):,}\")\n",
        "    print(f\"Real tweets: {len(df_final[df_final['source'] == 'twitter_api']):,}\")\n",
        "    print(f\"Sample tweets: {len(df_final[df_final['source'] == 'sample_data']):,}\")\n",
        "    print(f\"Date range: {df_final['created_at'].min().date()} to {df_final['created_at'].max().date()}\")\n",
        "\n",
        "    return df_final, collector\n",
        "\n",
        "df_tweets, collector = initialize_data_collection()"
      ],
      "metadata": {
        "colab": {
          "base_uri": "https://localhost:8080/"
        },
        "id": "yNBAgeuWfMAq",
        "outputId": "9612fb02-3612-4374-fa0e-d72513c0891e"
      },
      "execution_count": 72,
      "outputs": [
        {
          "output_type": "stream",
          "name": "stdout",
          "text": [
            "Attempting Twitter API connection...\n",
            "Twitter API issue: 401 Unauthorized\n",
            "89 - Invalid or expired token....\n",
            "Continuing with sample data only\n",
            "\n",
            "Generating comprehensive sample dataset...\n",
            " Generating 1200 realistic sample tweets...\n",
            "Generated 1200 realistic sample tweets\n",
            "\n",
            " Final dataset ready!\n",
            "Total tweets: 1,200\n",
            "Real tweets: 0\n",
            "Sample tweets: 1,200\n",
            "Date range: 2025-06-22 to 2025-06-29\n"
          ]
        }
      ]
    },
    {
      "cell_type": "markdown",
      "source": [
        "# Data Analysis"
      ],
      "metadata": {
        "id": "-6Hh1nSsgG0j"
      }
    },
    {
      "cell_type": "code",
      "source": [
        "class EnhancedSentimentAnalyzer:\n",
        "    def __init__(self, df):\n",
        "        self.df = df.copy()\n",
        "        self.summary_stats = self.calculate_summary_stats()\n",
        "\n",
        "    def calculate_summary_stats(self):\n",
        "        \"\"\"Calculate comprehensive summary statistics\"\"\"\n",
        "        total_tweets = len(self.df)\n",
        "        sentiment_counts = self.df['sentiment'].value_counts()\n",
        "\n",
        "        return {\n",
        "            'total_tweets': total_tweets,\n",
        "            'unique_users': self.df['author_id'].nunique(),\n",
        "            'date_range': (self.df['created_at'].min(), self.df['created_at'].max()),\n",
        "            'positive_pct': (sentiment_counts.get('Positive', 0) / total_tweets) * 100,\n",
        "            'negative_pct': (sentiment_counts.get('Negative', 0) / total_tweets) * 100,\n",
        "            'neutral_pct': (sentiment_counts.get('Neutral', 0) / total_tweets) * 100,\n",
        "            'avg_polarity': self.df['polarity'].mean(),\n",
        "            'avg_subjectivity': self.df['subjectivity'].mean(),\n",
        "            'avg_confidence': self.df['confidence'].mean(),\n",
        "            'avg_word_count': self.df['word_count'].mean(),\n",
        "            'total_engagement': self.df['like_count'].sum() + self.df['retweet_count'].sum(),\n",
        "            'top_emotions': self.df['emotion'].value_counts().head().to_dict()\n",
        "        }\n",
        "\n",
        "    def get_time_analysis(self):\n",
        "        \"\"\"Comprehensive time-based analysis\"\"\"\n",
        "        hourly = self.df.groupby('hour').agg({\n",
        "            'polarity': ['mean', 'std', 'count'],\n",
        "            'subjectivity': 'mean',\n",
        "            'confidence': 'mean',\n",
        "            'like_count': 'sum'\n",
        "        }).round(3)\n",
        "\n",
        "        daily = self.df.groupby('day_of_week').agg({\n",
        "            'polarity': ['mean', 'std', 'count'],\n",
        "            'subjectivity': 'mean',\n",
        "            'confidence': 'mean'\n",
        "        }).round(3)\n",
        "\n",
        "        return hourly, daily\n",
        "\n",
        "    def get_emotion_analysis(self):\n",
        "        \"\"\"Analyze emotional patterns\"\"\"\n",
        "        emotion_sentiment = pd.crosstab(self.df['emotion'], self.df['sentiment'], normalize='index') * 100\n",
        "        emotion_by_hour = self.df.groupby(['hour', 'emotion']).size().unstack(fill_value=0)\n",
        "\n",
        "        return emotion_sentiment, emotion_by_hour\n",
        "\n",
        "    def get_engagement_analysis(self):\n",
        "        \"\"\"Analyze engagement patterns\"\"\"\n",
        "        engagement_by_sentiment = self.df.groupby('sentiment').agg({\n",
        "            'like_count': ['mean', 'sum'],\n",
        "            'retweet_count': ['mean', 'sum'],\n",
        "            'confidence': 'mean'\n",
        "        }).round(2)\n",
        "\n",
        "        return engagement_by_sentiment\n",
        "\n",
        "analyzer = EnhancedSentimentAnalyzer(df_tweets)\n",
        "summary = analyzer.summary_stats\n",
        "\n",
        "print(\"\\n MOOD of the World Analysis\")\n",
        "print(\"=\" * 50)\n",
        "print(f\"Dataset Overview:\")\n",
        "print(f\"   • Total Tweets: {summary['total_tweets']:,}\")\n",
        "print(f\"   • Unique Users: {summary['unique_users']:,}\")\n",
        "print(f\"   • Date Range: {summary['date_range'][0].date()} to {summary['date_range'][1].date()}\")\n",
        "print(f\"\\n Sentiment Distribution:\")\n",
        "print(f\"   • Positive: {summary['positive_pct']:.1f}%\")\n",
        "print(f\"   • Negative: {summary['negative_pct']:.1f}%\")\n",
        "print(f\"   • Neutral: {summary['neutral_pct']:.1f}%\")\n",
        "print(f\"\\n Quality Metrics:\")\n",
        "print(f\"   • Average Polarity: {summary['avg_polarity']:.3f}\")\n",
        "print(f\"   • Average Confidence: {summary['avg_confidence']:.3f}\")\n",
        "print(f\"   • Average Word Count: {summary['avg_word_count']:.1f}\")\n",
        "print(f\"\\n Engagement:\")\n",
        "print(f\"   • Total Likes + Retweets: {summary['total_engagement']:,}\")\n",
        "print(f\"\\n Top Emotions:\")\n",
        "for emotion, count in summary['top_emotions'].items():\n",
        "    print(f\"   • {emotion.title()}: {count:,}\")"
      ],
      "metadata": {
        "colab": {
          "base_uri": "https://localhost:8080/"
        },
        "id": "jfAEAFcbgG73",
        "outputId": "4f6423fd-f96f-440a-9895-2396d5ad0be3"
      },
      "execution_count": 73,
      "outputs": [
        {
          "output_type": "stream",
          "name": "stdout",
          "text": [
            "\n",
            " MOOD of the World Analysis\n",
            "==================================================\n",
            "Dataset Overview:\n",
            "   • Total Tweets: 1,200\n",
            "   • Unique Users: 100\n",
            "   • Date Range: 2025-06-22 to 2025-06-29\n",
            "\n",
            " Sentiment Distribution:\n",
            "   • Positive: 52.8%\n",
            "   • Negative: 5.7%\n",
            "   • Neutral: 41.5%\n",
            "\n",
            " Quality Metrics:\n",
            "   • Average Polarity: 0.342\n",
            "   • Average Confidence: 0.764\n",
            "   • Average Word Count: 9.2\n",
            "\n",
            " Engagement:\n",
            "   • Total Likes + Retweets: 8,769\n",
            "\n",
            " Top Emotions:\n",
            "   • Neutral: 825\n",
            "   • Joy: 177\n",
            "   • Gratitude: 166\n",
            "   • Sadness: 32\n"
          ]
        }
      ]
    },
    {
      "cell_type": "markdown",
      "source": [
        "# Standard Plotting Functions and Time Series"
      ],
      "metadata": {
        "id": "J-NNAAQegqqE"
      }
    },
    {
      "cell_type": "code",
      "source": [
        "class StandardPlotter:\n",
        "    def __init__(self, df, analyzer):\n",
        "        self.df = df\n",
        "        self.analyzer = analyzer\n",
        "        # plt.style.use('default')  # Changed from 'seaborn-v0_8' which might not be available\n",
        "        plt.rcParams['figure.facecolor'] = 'white'\n",
        "        plt.rcParams['axes.facecolor'] = 'white'\n",
        "\n",
        "    def plot_sentiment_overview(self, figsize=(15, 10)):\n",
        "        \"\"\"Create comprehensive standard plots overview\"\"\"\n",
        "        fig, axes = plt.subplots(2, 3, figsize=figsize)\n",
        "        fig.suptitle('Sentiment Analysis - Standard Plots', fontsize=16, fontweight='bold')\n",
        "\n",
        "        sentiment_counts = self.df['sentiment'].value_counts()\n",
        "        colors = ['#2E86AB', '#A23B72', '#F18F01']\n",
        "        wedges, texts, autotexts = axes[0, 0].pie(\n",
        "            sentiment_counts.values,\n",
        "            labels=sentiment_counts.index,\n",
        "            autopct='%1.1f%%',\n",
        "            colors=colors,\n",
        "            startangle=90,\n",
        "            textprops={'fontsize': 10}\n",
        "        )\n",
        "        axes[0, 0].set_title('Sentiment Distribution', fontweight='bold')\n",
        "\n",
        "        axes[0, 1].hist(self.df['polarity'], bins=30, color='#2E86AB', alpha=0.7, edgecolor='black')\n",
        "        mean_polarity = self.df['polarity'].mean()\n",
        "        axes[0, 1].axvline(mean_polarity, color='red', linestyle='--', linewidth=2,\n",
        "                          label=f'Mean: {mean_polarity:.3f}')\n",
        "        axes[0, 1].set_title('Polarity Distribution', fontweight='bold')\n",
        "        axes[0, 1].set_xlabel('Polarity Score')\n",
        "        axes[0, 1].set_ylabel('Frequency')\n",
        "        axes[0, 1].legend()\n",
        "        axes[0, 1].grid(True, alpha=0.3)\n",
        "\n",
        "        hourly_sentiment = self.df.groupby(['hour', 'sentiment']).size().unstack(fill_value=0)\n",
        "        hourly_sentiment.plot(kind='bar', ax=axes[0, 2], color=colors, width=0.8)\n",
        "        axes[0, 2].set_title('Sentiment by Hour of Day', fontweight='bold')\n",
        "        axes[0, 2].set_xlabel('Hour')\n",
        "        axes[0, 2].set_ylabel('Tweet Count')\n",
        "        axes[0, 2].legend(title='Sentiment', loc='upper right')\n",
        "        axes[0, 2].tick_params(axis='x', rotation=45)\n",
        "        axes[0, 2].grid(True, alpha=0.3)\n",
        "\n",
        "        scatter = axes[1, 0].scatter(\n",
        "            self.df['subjectivity'],\n",
        "            self.df['polarity'],\n",
        "            c=self.df['confidence'],\n",
        "            cmap='viridis',\n",
        "            alpha=0.6,\n",
        "            s=30\n",
        "        )\n",
        "        axes[1, 0].set_title('Polarity vs Subjectivity', fontweight='bold')\n",
        "        axes[1, 0].set_xlabel('Subjectivity')\n",
        "        axes[1, 0].set_ylabel('Polarity')\n",
        "        axes[1, 0].grid(True, alpha=0.3)\n",
        "        cbar = plt.colorbar(scatter, ax=axes[1, 0])\n",
        "        cbar.set_label('Confidence', rotation=270, labelpad=15)\n",
        "\n",
        "        emotion_counts = self.df['emotion'].value_counts().head(8)\n",
        "        bars = axes[1, 1].bar(\n",
        "            range(len(emotion_counts)),\n",
        "            emotion_counts.values,\n",
        "            color=plt.cm.Set3(np.linspace(0, 1, len(emotion_counts)))\n",
        "        )\n",
        "        axes[1, 1].set_title('Top Emotions', fontweight='bold')\n",
        "        axes[1, 1].set_xlabel('Emotion')\n",
        "        axes[1, 1].set_ylabel('Count')\n",
        "        axes[1, 1].set_xticks(range(len(emotion_counts)))\n",
        "        axes[1, 1].set_xticklabels(emotion_counts.index, rotation=45, ha='right')\n",
        "        axes[1, 1].grid(True, alpha=0.3)\n",
        "\n",
        "        for bar, value in zip(bars, emotion_counts.values):\n",
        "            axes[1, 1].text(bar.get_x() + bar.get_width()/2, bar.get_height() + max(emotion_counts.values)*0.01,\n",
        "                           str(value), ha='center', va='bottom', fontweight='bold')\n",
        "\n",
        "        daily_polarity = self.df.groupby(self.df['created_at'].dt.date)['polarity'].mean()\n",
        "        axes[1, 2].plot(\n",
        "            daily_polarity.index,\n",
        "            daily_polarity.values,\n",
        "            marker='o',\n",
        "            linewidth=2,\n",
        "            markersize=4,\n",
        "            color='#2E86AB'\n",
        "        )\n",
        "        axes[1, 2].set_title('Daily Sentiment Trend', fontweight='bold')\n",
        "        axes[1, 2].set_xlabel('Date')\n",
        "        axes[1, 2].set_ylabel('Average Polarity')\n",
        "        axes[1, 2].tick_params(axis='x', rotation=45)\n",
        "        axes[1, 2].grid(True, alpha=0.3)\n",
        "\n",
        "        if len(daily_polarity) > 1:\n",
        "            z = np.polyfit(range(len(daily_polarity)), daily_polarity.values, 1)\n",
        "            p = np.poly1d(z)\n",
        "            axes[1, 2].plot(daily_polarity.index, p(range(len(daily_polarity))),\n",
        "                           \"r--\", alpha=0.8, linewidth=1, label='Trend')\n",
        "            axes[1, 2].legend()\n",
        "\n",
        "        plt.tight_layout()\n",
        "        plt.subplots_adjust(top=0.93)\n",
        "        plt.show()\n",
        "        plt.draw()\n",
        "\n",
        "        return fig\n",
        "\n",
        "    def plot_time_analysis(self, figsize=(14, 10)):\n",
        "        \"\"\"Time-based analysis plots\"\"\"\n",
        "        fig, axes = plt.subplots(2, 2, figsize=figsize)\n",
        "        fig.suptitle('Time-Based Sentiment Analysis', fontsize=16, fontweight='bold')\n",
        "\n",
        "        hourly_sentiment = self.df.groupby(['hour', 'sentiment']).size().unstack(fill_value=0)\n",
        "        hourly_pct = hourly_sentiment.div(hourly_sentiment.sum(axis=1), axis=0) * 100\n",
        "\n",
        "        im = axes[0, 0].imshow(hourly_pct.T.values, cmap='RdYlBu_r', aspect='auto', interpolation='nearest')\n",
        "        axes[0, 0].set_title('Hourly Sentiment Distribution (%)', fontweight='bold')\n",
        "        axes[0, 0].set_xlabel('Hour of Day')\n",
        "        axes[0, 0].set_ylabel('Sentiment')\n",
        "        axes[0, 0].set_xticks(range(0, 24, 2))\n",
        "        axes[0, 0].set_xticklabels(range(0, 24, 2))\n",
        "        axes[0, 0].set_yticks(range(len(hourly_pct.columns)))\n",
        "        axes[0, 0].set_yticklabels(hourly_pct.columns)\n",
        "\n",
        "        cbar = plt.colorbar(im, ax=axes[0, 0])\n",
        "        cbar.set_label('Percentage', rotation=270, labelpad=15)\n",
        "\n",
        "        for i in range(len(hourly_pct.columns)):\n",
        "            for j in range(len(hourly_pct.index)):\n",
        "                if hourly_pct.T.iloc[i, j] > 0:\n",
        "                    text = axes[0, 0].text(j, i, f'{hourly_pct.T.iloc[i, j]:.0f}%',\n",
        "                                         ha=\"center\", va=\"center\", color=\"black\", fontsize=8)\n",
        "\n",
        "        weekend_sentiment = self.df.groupby(['is_weekend', 'sentiment']).size().unstack(fill_value=0)\n",
        "        weekend_sentiment.plot(kind='bar', ax=axes[0, 1],\n",
        "                             color=['#2E86AB', '#A23B72', '#F18F01'],\n",
        "                             width=0.7)\n",
        "        axes[0, 1].set_title('Weekend vs Weekday Sentiment', fontweight='bold')\n",
        "        axes[0, 1].set_xlabel('Day Type')\n",
        "        axes[0, 1].set_xticklabels(['Weekday', 'Weekend'], rotation=0)\n",
        "        axes[0, 1].legend(title='Sentiment', loc='upper right')\n",
        "        axes[0, 1].grid(True, alpha=0.3)\n",
        "\n",
        "        for container in axes[0, 1].containers:\n",
        "            axes[0, 1].bar_label(container, label_type='edge', fontsize=9)\n",
        "\n",
        "        hourly_activity = self.df.groupby('hour').size()\n",
        "        bars = axes[1, 0].bar(hourly_activity.index, hourly_activity.values,\n",
        "                             color='#2E86AB', alpha=0.7, edgecolor='black')\n",
        "        axes[1, 0].set_title('Tweet Activity by Hour', fontweight='bold')\n",
        "        axes[1, 0].set_xlabel('Hour of Day')\n",
        "        axes[1, 0].set_ylabel('Tweet Count')\n",
        "        axes[1, 0].grid(axis='y', alpha=0.3)\n",
        "\n",
        "        peak_hour = hourly_activity.idxmax()\n",
        "        axes[1, 0].bar(peak_hour, hourly_activity[peak_hour],\n",
        "                      color='#F18F01', alpha=0.9, edgecolor='black')\n",
        "        axes[1, 0].text(peak_hour, hourly_activity[peak_hour] + max(hourly_activity)*0.02,\n",
        "                       'Peak', ha='center', va='bottom', fontweight='bold')\n",
        "\n",
        "        daily_emotions = self.df.groupby([self.df['created_at'].dt.date, 'emotion']).size().unstack(fill_value=0)\n",
        "        top_emotions = self.df['emotion'].value_counts().head(5).index\n",
        "\n",
        "        colors_emotion = plt.cm.Set1(np.linspace(0, 1, len(top_emotions)))\n",
        "\n",
        "        for i, emotion in enumerate(top_emotions):\n",
        "            if emotion in daily_emotions.columns:\n",
        "                axes[1, 1].plot(daily_emotions.index, daily_emotions[emotion],\n",
        "                               marker='o', label=emotion.title(), linewidth=2,\n",
        "                               markersize=4, color=colors_emotion[i])\n",
        "\n",
        "        axes[1, 1].set_title('Daily Emotion Trends', fontweight='bold')\n",
        "        axes[1, 1].set_xlabel('Date')\n",
        "        axes[1, 1].set_ylabel('Count')\n",
        "        axes[1, 1].legend(loc='upper right')\n",
        "        axes[1, 1].tick_params(axis='x', rotation=45)\n",
        "        axes[1, 1].grid(True, alpha=0.3)\n",
        "\n",
        "        plt.tight_layout()\n",
        "        plt.subplots_adjust(top=0.93)\n",
        "\n",
        "        plt.show()\n",
        "        plt.draw()\n",
        "\n",
        "        return fig\n",
        "\n",
        "standard_plotter = StandardPlotter(df_tweets, analyzer)\n",
        "\n",
        "print(\"Standard Visualizations...\")\n",
        "print(\"=\" * 50)\n",
        "\n",
        "print(\"\\n Sentiment Overview... \\n\")\n",
        "overview_fig = standard_plotter.plot_sentiment_overview()\n",
        "\n",
        "print(\"\\n Time Analysis...\\n\")\n",
        "time_fig = standard_plotter.plot_time_analysis()\n",
        "\n",
        "print(f\"\\n Quick Stats:\\n\")\n",
        "print(f\"   • Most active hour: {df_tweets.groupby('hour').size().idxmax()}:00\")\n",
        "print(f\"   • Most positive hour: {df_tweets.groupby('hour')['polarity'].mean().idxmax()}:00\")\n",
        "print(f\"   • Weekend mood: {df_tweets[df_tweets['is_weekend']]['polarity'].mean():.3f}\")\n",
        "print(f\"   • Weekday mood: {df_tweets[~df_tweets['is_weekend']]['polarity'].mean():.3f}\")\n",
        "print(f\"   • Top emotion: {df_tweets['emotion'].mode().iloc[0].title()}\")"
      ],
      "metadata": {
        "id": "iRY4TI6pgqyC",
        "colab": {
          "base_uri": "https://localhost:8080/",
          "height": 1000
        },
        "outputId": "96a74360-e9d0-4a09-cf05-ca3c7f4b72b7"
      },
      "execution_count": 74,
      "outputs": [
        {
          "output_type": "stream",
          "name": "stdout",
          "text": [
            "Standard Visualizations...\n",
            "==================================================\n",
            "\n",
            " Sentiment Overview... \n",
            "\n"
          ]
        },
        {
          "output_type": "display_data",
          "data": {
            "text/plain": [
              "<Figure size 1500x1000 with 7 Axes>"
            ],
            "image/png": "[encoded data removed]"
          },
          "metadata": {}
        },
        {
          "output_type": "stream",
          "name": "stdout",
          "text": [
            "\n",
            " Time Analysis...\n",
            "\n"
          ]
        },
        {
          "output_type": "display_data",
          "data": {
            "text/plain": [
              "<Figure size 800x550 with 0 Axes>"
            ]
          },
          "metadata": {}
        },
        {
          "output_type": "display_data",
          "data": {
            "text/plain": [
              "<Figure size 1400x1000 with 5 Axes>"
            ],
            "image/png": "[encoded data removed]"
          },
          "metadata": {}
        },
        {
          "output_type": "stream",
          "name": "stdout",
          "text": [
            "\n",
            " Quick Stats:\n",
            "\n",
            "   • Most active hour: 8:00\n",
            "   • Most positive hour: 20:00\n",
            "   • Weekend mood: 0.361\n",
            "   • Weekday mood: 0.334\n",
            "   • Top emotion: Neutral\n"
          ]
        },
        {
          "output_type": "display_data",
          "data": {
            "text/plain": [
              "<Figure size 800x550 with 0 Axes>"
            ]
          },
          "metadata": {}
        }
      ]
    },
    {
      "cell_type": "markdown",
      "source": [
        "# in this version the application uses free API with rate limit to retrive the data also a sample data of 1200 is used for demonstration. So the program runs without Online API also\n",
        "\n",
        "## Expectation on upcoming version continuation\n",
        "* More Detailed and interactive Graph\n",
        "* Advanced Analytics and Insights\n",
        "* And Many more in future"
      ],
      "metadata": {
        "id": "i0yC--fzc4QZ"
      }
    },
    {
      "cell_type": "markdown",
      "source": [
        "# Interactive Plots"
      ],
      "metadata": {
        "id": "2M3vO1kIqj7S"
      }
    },
    {
      "cell_type": "markdown",
      "source": [
        "# Import Libraries"
      ],
      "metadata": {
        "id": "_quZZEIEqqk7"
      }
    },
    {
      "cell_type": "code",
      "source": [
        "import plotly.express as px\n",
        "import plotly.graph_objects as go\n",
        "from plotly.subplots import make_subplots\n",
        "import plotly.offline as pyo\n",
        "import pandas as pd\n",
        "import numpy as np\n",
        "from collections import Counter\n",
        "import re\n",
        "pyo.init_notebook_mode(connected=True)"
      ],
      "metadata": {
        "colab": {
          "base_uri": "https://localhost:8080/",
          "height": 17
        },
        "id": "XLkN7sQSqkQy",
        "outputId": "9d40237f-9f25-41ca-d165-7b34f4dbcb56"
      },
      "execution_count": 75,
      "outputs": [
        {
          "output_type": "display_data",
          "data": {
            "text/html": [
              "        <script type=\"text/javascript\">\n",
              "        window.PlotlyConfig = {MathJaxConfig: 'local'};\n",
              "        if (window.MathJax && window.MathJax.Hub && window.MathJax.Hub.Config) {window.MathJax.Hub.Config({SVG: {font: \"STIX-Web\"}});}\n",
              "        if (typeof require !== 'undefined') {\n",
              "        require.undef(\"plotly\");\n",
              "        requirejs.config({\n",
              "            paths: {\n",
              "                'plotly': ['https://cdn.plot.ly/plotly-2.35.2.min']\n",
              "            }\n",
              "        });\n",
              "        require(['plotly'], function(Plotly) {\n",
              "            window._Plotly = Plotly;\n",
              "        });\n",
              "        }\n",
              "        </script>\n",
              "        "
            ]
          },
          "metadata": {}
        }
      ]
    },
    {
      "cell_type": "markdown",
      "source": [
        "Version 2"
      ],
      "metadata": {
        "id": "vEw0i7zZqyEr"
      }
    },
    {
      "cell_type": "code",
      "source": [
        "class InteractivePlotter:\n",
        "    def __init__(self, df, analyzer):\n",
        "        self.df = df\n",
        "        self.analyzer = analyzer\n",
        "\n",
        "    def create_sentiment_dashboard(self):\n",
        "        \"\"\"Interactive Dashboard\"\"\"\n",
        "        fig = make_subplots(\n",
        "            rows=3, cols=2,\n",
        "            subplot_titles=(\n",
        "                'Sentiment Distribution',\n",
        "                'Hourly Sentiment Patterns',\n",
        "                'Emotion Analysis',\n",
        "                'Engagement vs Sentiment',\n",
        "                'Polarity vs Subjectivity',\n",
        "                'Daily Trend'\n",
        "            ),\n",
        "            specs=[\n",
        "                [{\"type\": \"pie\"}, {\"type\": \"xy\"}],\n",
        "                [{\"type\": \"xy\"}, {\"type\": \"xy\"}],\n",
        "                [{\"type\": \"xy\"}, {\"type\": \"xy\"}]\n",
        "            ],\n",
        "            vertical_spacing=0.08,\n",
        "            horizontal_spacing=0.1\n",
        "        )\n",
        "\n",
        "        sentiment_counts = self.df['sentiment'].value_counts()\n",
        "        colors = ['#2E86AB', '#A23B72', '#F18F01']\n",
        "\n",
        "        fig.add_trace(go.Pie(\n",
        "            labels=sentiment_counts.index,\n",
        "            values=sentiment_counts.values,\n",
        "            marker_colors=colors,\n",
        "            hole=0.3,\n",
        "            name=\"Sentiment\",\n",
        "            hovertemplate='<b>%{label}</b><br>Count: %{value}<br>Percentage: %{percent}<extra></extra>'\n",
        "        ), row=1, col=1)\n",
        "\n",
        "        hourly_sentiment = self.df.groupby(['hour', 'sentiment']).size().unstack(fill_value=0)\n",
        "        sentiment_colors = {'Positive': '#2E86AB', 'Negative': '#A23B72', 'Neutral': '#F18F01'}\n",
        "\n",
        "        for sentiment in hourly_sentiment.columns:\n",
        "            if sentiment in sentiment_colors:\n",
        "                fig.add_trace(go.Bar(\n",
        "                    x=hourly_sentiment.index,\n",
        "                    y=hourly_sentiment[sentiment],\n",
        "                    name=f'{sentiment}',\n",
        "                    marker_color=sentiment_colors[sentiment],\n",
        "                    legendgroup=sentiment,\n",
        "                    hovertemplate=f'<b>{sentiment}</b><br>Hour: %{{x}}<br>Count: %{{y}}<extra></extra>'\n",
        "                ), row=1, col=2)\n",
        "\n",
        "        emotion_counts = self.df['emotion'].value_counts().head(8)\n",
        "        fig.add_trace(go.Bar(\n",
        "            x=emotion_counts.index,\n",
        "            y=emotion_counts.values,\n",
        "            marker_color=px.colors.qualitative.Set3[:len(emotion_counts)],\n",
        "            name=\"Emotions\",\n",
        "            showlegend=False,\n",
        "            hovertemplate='<b>%{x}</b><br>Count: %{y}<extra></extra>'\n",
        "        ), row=2, col=1)\n",
        "\n",
        "        engagement_sentiment = self.df.groupby('sentiment').agg({\n",
        "            'like_count': 'mean',\n",
        "            'retweet_count': 'mean'\n",
        "        }).reset_index()\n",
        "\n",
        "        fig.add_trace(go.Scatter(\n",
        "            x=engagement_sentiment['like_count'],\n",
        "            y=engagement_sentiment['retweet_count'],\n",
        "            mode='markers+text',\n",
        "            text=engagement_sentiment['sentiment'],\n",
        "            textposition='top center',\n",
        "            marker=dict(\n",
        "                size=20,\n",
        "                color=[sentiment_colors.get(s, '#666666') for s in engagement_sentiment['sentiment']]\n",
        "            ),\n",
        "            name=\"Engagement\",\n",
        "            showlegend=False,\n",
        "            hovertemplate='<b>%{text}</b><br>Avg Likes: %{x:.1f}<br>Avg Retweets: %{y:.1f}<extra></extra>'\n",
        "        ), row=2, col=2)\n",
        "\n",
        "        fig.add_trace(go.Scatter(\n",
        "            x=self.df['subjectivity'],\n",
        "            y=self.df['polarity'],\n",
        "            mode='markers',\n",
        "            marker=dict(\n",
        "                color=self.df['confidence'],\n",
        "                colorscale='viridis',\n",
        "                size=4,\n",
        "                opacity=0.6,\n",
        "                showscale=True,\n",
        "                colorbar=dict(\n",
        "                    title=\"Confidence\",\n",
        "                    x=0.45,\n",
        "                    len=0.25,\n",
        "                    y=0.35\n",
        "                )\n",
        "            ),\n",
        "            name=\"Tweets\",\n",
        "            showlegend=False,\n",
        "            hovertemplate='<b>Tweet Analysis</b><br>Subjectivity: %{x:.2f}<br>Polarity: %{y:.2f}<br>Confidence: %{marker.color:.2f}<extra></extra>'\n",
        "        ), row=3, col=1)\n",
        "\n",
        "        daily_polarity = self.df.groupby(self.df['created_at'].dt.date)['polarity'].mean()\n",
        "        fig.add_trace(go.Scatter(\n",
        "            x=daily_polarity.index,\n",
        "            y=daily_polarity.values,\n",
        "            mode='lines+markers',\n",
        "            line=dict(color='#2E86AB', width=3),\n",
        "            marker=dict(size=8),\n",
        "            name=\"Daily Trend\",\n",
        "            showlegend=False,\n",
        "            hovertemplate='<b>Daily Trend</b><br>Date: %{x}<br>Avg Polarity: %{y:.3f}<extra></extra>'\n",
        "        ), row=3, col=2)\n",
        "\n",
        "        fig.update_layout(\n",
        "            height=1200,\n",
        "            title_text=\"Mood of the World Analysis Dashboard\",\n",
        "            title_font_size=24,\n",
        "            title_x=0.5,\n",
        "            font=dict(size=12),\n",
        "            paper_bgcolor='white',\n",
        "            plot_bgcolor='white'\n",
        "        )\n",
        "\n",
        "        fig.update_xaxes(title_text=\"Hour\", row=1, col=2)\n",
        "        fig.update_yaxes(title_text=\"Count\", row=1, col=2)\n",
        "\n",
        "        fig.update_xaxes(title_text=\"Emotion\", row=2, col=1)\n",
        "        fig.update_yaxes(title_text=\"Count\", row=2, col=1)\n",
        "\n",
        "        fig.update_xaxes(title_text=\"Average Likes\", row=2, col=2)\n",
        "        fig.update_yaxes(title_text=\"Average Retweets\", row=2, col=2)\n",
        "\n",
        "        fig.update_xaxes(title_text=\"Subjectivity\", row=3, col=1)\n",
        "        fig.update_yaxes(title_text=\"Polarity\", row=3, col=1)\n",
        "\n",
        "        fig.update_xaxes(title_text=\"Date\", row=3, col=2)\n",
        "        fig.update_yaxes(title_text=\"Average Polarity\", row=3, col=2)\n",
        "\n",
        "        return fig\n",
        "\n",
        "    def create_emotion_heatmap(self):\n",
        "        \"\"\"Create emotion-time heatmap\"\"\"\n",
        "        emotion_hour = self.df.groupby(['hour', 'emotion']).size().unstack(fill_value=0)\n",
        "\n",
        "        top_emotions = self.df['emotion'].value_counts().head(8).index\n",
        "        emotion_hour_filtered = emotion_hour[top_emotions] if len(top_emotions) > 0 else emotion_hour\n",
        "\n",
        "        fig = go.Figure(data=go.Heatmap(\n",
        "            z=emotion_hour_filtered.T.values,\n",
        "            x=emotion_hour_filtered.index,\n",
        "            y=emotion_hour_filtered.columns,\n",
        "            colorscale='viridis',\n",
        "            hoverongaps=False,\n",
        "            hovertemplate='<b>Emotion Pattern</b><br>Hour: %{x}<br>Emotion: %{y}<br>Count: %{z}<extra></extra>'\n",
        "        ))\n",
        "\n",
        "        fig.update_layout(\n",
        "            title='Emotion Patterns Throughout the Day',\n",
        "            title_font_size=20,\n",
        "            title_x=0.5,\n",
        "            xaxis_title='Hour of Day',\n",
        "            yaxis_title='Emotion',\n",
        "            height=600,\n",
        "            width=900,\n",
        "            font=dict(size=12)\n",
        "        )\n",
        "\n",
        "        return fig\n",
        "\n",
        "    def create_word_frequency_chart(self):\n",
        "        \"\"\"Create word frequency visualization\"\"\"\n",
        "        all_text = ' '.join(self.df['text'].astype(str))\n",
        "\n",
        "        words = re.findall(r'\\b[a-zA-Z]{4,}\\b', all_text.lower())\n",
        "        stop_words = {\n",
        "            'the', 'and', 'for', 'are', 'but', 'not', 'you', 'all', 'can', 'had', 'her', 'was', 'one', 'our', 'out', 'day', 'get', 'has', 'him',\n",
        "            'his', 'how', 'man', 'new', 'now', 'old', 'see', 'two', 'way', 'who', 'boy', 'did', 'its', 'let', 'put', 'say', 'she', 'too', 'use',\n",
        "            'that', 'with', 'have', 'this', 'will', 'your', 'from', 'they', 'know', 'want', 'been', 'good', 'much', 'some', 'time', 'very',\n",
        "            'when', 'come', 'here', 'just', 'like', 'long', 'make', 'many', 'over', 'such', 'take', 'than', 'them', 'well', 'were', 'what',\n",
        "            'today', 'just', 'going', 'really', 'think', 'feel', 'feeling', 'great', 'dont', 'cant', 'wont', 'youre', 'thats', 'there',\n",
        "            'right', 'could', 'would', 'should', 'might', 'being', 'doing', 'having', 'getting', 'looking', 'working', 'trying'\n",
        "        }\n",
        "\n",
        "        filtered_words = [word for word in words if word not in stop_words and len(word) > 3]\n",
        "        word_freq = Counter(filtered_words).most_common(25)\n",
        "\n",
        "        if word_freq:\n",
        "            words_list, counts_list = zip(*word_freq)\n",
        "        else:\n",
        "            words_list, counts_list = ['sample', 'words', 'here'], [10, 8, 5]\n",
        "\n",
        "        fig = go.Figure(data=go.Bar(\n",
        "            x=list(words_list),\n",
        "            y=list(counts_list),\n",
        "            marker_color=px.colors.sequential.Viridis,\n",
        "            hovertemplate='<b>Word Frequency</b><br>Word: %{x}<br>Frequency: %{y}<extra></extra>'\n",
        "        ))\n",
        "\n",
        "        fig.update_layout(\n",
        "            title='Most Frequent Words in Tweets',\n",
        "            title_font_size=20,\n",
        "            title_x=0.5,\n",
        "            xaxis_title='Words',\n",
        "            yaxis_title='Frequency',\n",
        "            height=600,\n",
        "            width=900,\n",
        "            xaxis_tickangle=-45,\n",
        "            font=dict(size=12)\n",
        "        )\n",
        "\n",
        "        return fig\n",
        "\n",
        "    def create_time_series_analysis(self):\n",
        "        \"\"\"Create detailed time series analysis\"\"\"\n",
        "        hourly_data = self.df.groupby('hour').agg({\n",
        "            'polarity': 'mean',\n",
        "            'subjectivity': 'mean',\n",
        "            'confidence': 'mean'\n",
        "        }).reset_index()\n",
        "\n",
        "        fig = make_subplots(specs=[[{\"secondary_y\": True}]])\n",
        "\n",
        "        fig.add_trace(\n",
        "            go.Scatter(\n",
        "                x=hourly_data['hour'],\n",
        "                y=hourly_data['polarity'],\n",
        "                mode='lines+markers',\n",
        "                name='Polarity',\n",
        "                line=dict(color='#2E86AB', width=3),\n",
        "                marker=dict(size=8),\n",
        "                hovertemplate='<b>Polarity</b><br>Hour: %{x}<br>Score: %{y:.3f}<extra></extra>'\n",
        "            ),\n",
        "            secondary_y=False,\n",
        "        )\n",
        "\n",
        "        fig.add_trace(\n",
        "            go.Scatter(\n",
        "                x=hourly_data['hour'],\n",
        "                y=hourly_data['subjectivity'],\n",
        "                mode='lines+markers',\n",
        "                name='Subjectivity',\n",
        "                line=dict(color='#A23B72', width=3),\n",
        "                marker=dict(size=8),\n",
        "                hovertemplate='<b>Subjectivity</b><br>Hour: %{x}<br>Score: %{y:.3f}<extra></extra>'\n",
        "            ),\n",
        "            secondary_y=True,\n",
        "        )\n",
        "\n",
        "        fig.update_xaxes(title_text=\"Hour of Day\")\n",
        "        fig.update_yaxes(title_text=\"Polarity Score\", secondary_y=False)\n",
        "        fig.update_yaxes(title_text=\"Subjectivity Score\", secondary_y=True)\n",
        "\n",
        "        fig.update_layout(\n",
        "            title='Hourly Sentiment Patterns',\n",
        "            title_font_size=20,\n",
        "            title_x=0.5,\n",
        "            height=600,\n",
        "            width=900,\n",
        "            hovermode='x unified',\n",
        "            font=dict(size=12)\n",
        "        )\n",
        "\n",
        "        return fig\n",
        "\n",
        "    def display_all_plots(self):\n",
        "        \"\"\"Display all plots with proper Colab formatting\"\"\"\n",
        "        print(\"Interactive Visualizations...\")\n",
        "        print(\"=\" * 60)\n",
        "\n",
        "        print(\"\\n Sentiment Dashboard...\")\n",
        "        dashboard_fig = self.create_sentiment_dashboard()\n",
        "        dashboard_fig.show()\n",
        "\n",
        "        print(\"\\n Emotion Heatmap...\")\n",
        "        emotion_heatmap = self.create_emotion_heatmap()\n",
        "        emotion_heatmap.show()\n",
        "\n",
        "        print(\"\\n Word Frequency Analysis...\")\n",
        "        word_freq_fig = self.create_word_frequency_chart()\n",
        "        word_freq_fig.show()\n",
        "\n",
        "        print(\"\\n Time Series Analysis...\")\n",
        "        time_series_fig = self.create_time_series_analysis()\n",
        "        time_series_fig.show()\n",
        "\n",
        "        interactive_plotter = InteractivePlotter(df_tweets, analyzer)\n",
        "\n",
        "print(\"Interactive Visualizations\")\n",
        "print(\"=\" * 60)\n",
        "\n",
        "# Initialize plotter (assuming df_tweets and analyzer exist)\n",
        "interactive_plotter = InteractivePlotter(df_tweets, analyzer)\n",
        "\n",
        "# 1. Main Dashboard\n",
        "print(\"\\n Sentiment Dashboard...\")\n",
        "dashboard_fig = interactive_plotter.create_sentiment_dashboard()\n",
        "dashboard_fig.show()\n",
        "\n",
        "# 2. Emotion Heatmap\n",
        "print(\"\\n Emotion Heatmap...\")\n",
        "emotion_heatmap = interactive_plotter.create_emotion_heatmap()\n",
        "emotion_heatmap.show()\n",
        "\n",
        "# 3. Word Frequency Chart\n",
        "print(\"\\n Word Frequency Analysis...\")\n",
        "word_freq_fig = interactive_plotter.create_word_frequency_chart()\n",
        "word_freq_fig.show()\n",
        "\n",
        "# 4. Time Series Analysis\n",
        "print(\"\\n Time Series Analysis...\")\n",
        "time_series_fig = interactive_plotter.create_time_series_analysis()\n",
        "time_series_fig.show()"
      ],
      "metadata": {
        "colab": {
          "base_uri": "https://localhost:8080/",
          "height": 1000
        },
        "id": "Mv2cEk62qyTM",
        "outputId": "6e6becbe-7cd8-40fc-8579-d9d62c608cd1"
      },
      "execution_count": 76,
      "outputs": [
        {
          "output_type": "stream",
          "name": "stdout",
          "text": [
            "Interactive Visualizations\n",
            "============================================================\n",
            "\n",
            " Sentiment Dashboard...\n"
          ]
        },
        {
          "output_type": "display_data",
          "data": {
            "application/vnd.plotly.v1+json": {
              "data": [
                {
                  "hole": 0.3,
                  "hovertemplate": "<b>%{label}</b><br>Count: %{value}<br>Percentage: %{percent}<extra></extra>",
                  "labels": [
                    "Positive",
                    "Neutral",
                    "Negative"
                  ],
                  "marker": {
                    "colors": [
                      "#2E86AB",
                      "#A23B72",
                      "#F18F01"
                    ]
                  },
                  "name": "Sentiment",
                  "values": [
                    634,
                    498,
                    68
                  ],
                  "type": "pie",
                  "domain": {
                    "x": [
                      0,
                      0.45
                    ],
                    "y": [
                      0.72,
                      1
                    ]
                  }
                },
                {
                  "hovertemplate": "<b>Negative</b><br>Hour: %{x}<br>Count: %{y}<extra></extra>",
                  "legendgroup": "Negative",
                  "marker": {
                    "color": "#A23B72"
                  },
                  "name": "Negative",
                  "x": [
                    0,
                    1,
                    2,
                    3,
                    4,
                    5,
                    6,
                    7,
                    8,
                    9,
                    10,
                    11,
                    12,
                    13,
                    14,
                    15,
                    16,
                    17,
                    18,
                    19,
                    20,
                    21,
                    22,
                    23
                  ],
                  "y": [
                    5,
                    3,
                    3,
                    2,
                    4,
                    3,
                    4,
                    2,
                    2,
                    2,
                    2,
                    1,
                    1,
                    4,
                    5,
                    4,
                    2,
                    5,
                    3,
                    2,
                    1,
                    3,
                    1,
                    4
                  ],
                  "type": "bar",
                  "xaxis": "x",
                  "yaxis": "y"
                },
                {
                  "hovertemplate": "<b>Neutral</b><br>Hour: %{x}<br>Count: %{y}<extra></extra>",
                  "legendgroup": "Neutral",
                  "marker": {
                    "color": "#F18F01"
                  },
                  "name": "Neutral",
                  "x": [
                    0,
                    1,
                    2,
                    3,
                    4,
                    5,
                    6,
                    7,
                    8,
                    9,
                    10,
                    11,
                    12,
                    13,
                    14,
                    15,
                    16,
                    17,
                    18,
                    19,
                    20,
                    21,
                    22,
                    23
                  ],
                  "y": [
                    20,
                    21,
                    16,
                    22,
                    27,
                    17,
                    30,
                    15,
                    21,
                    22,
                    14,
                    23,
                    22,
                    24,
                    27,
                    22,
                    21,
                    20,
                    19,
                    16,
                    15,
                    17,
                    22,
                    25
                  ],
                  "type": "bar",
                  "xaxis": "x",
                  "yaxis": "y"
                },
                {
                  "hovertemplate": "<b>Positive</b><br>Hour: %{x}<br>Count: %{y}<extra></extra>",
                  "legendgroup": "Positive",
                  "marker": {
                    "color": "#2E86AB"
                  },
                  "name": "Positive",
                  "x": [
                    0,
                    1,
                    2,
                    3,
                    4,
                    5,
                    6,
                    7,
                    8,
                    9,
                    10,
                    11,
                    12,
                    13,
                    14,
                    15,
                    16,
                    17,
                    18,
                    19,
                    20,
                    21,
                    22,
                    23
                  ],
                  "y": [
                    25,
                    26,
                    31,
                    26,
                    19,
                    30,
                    16,
                    33,
                    28,
                    26,
                    34,
                    26,
                    27,
                    22,
                    18,
                    24,
                    27,
                    25,
                    28,
                    32,
                    33,
                    30,
                    27,
                    21
                  ],
                  "type": "bar",
                  "xaxis": "x",
                  "yaxis": "y"
                },
                {
                  "hovertemplate": "<b>%{x}</b><br>Count: %{y}<extra></extra>",
                  "marker": {
                    "color": [
                      "rgb(141,211,199)",
                      "rgb(255,255,179)",
                      "rgb(190,186,218)",
                      "rgb(251,128,114)"
                    ]
                  },
                  "name": "Emotions",
                  "showlegend": false,
                  "x": [
                    "neutral",
                    "joy",
                    "gratitude",
                    "sadness"
                  ],
                  "y": [
                    825,
                    177,
                    166,
                    32
                  ],
                  "type": "bar",
                  "xaxis": "x2",
                  "yaxis": "y2"
                },
                {
                  "hovertemplate": "<b>%{text}</b><br>Avg Likes: %{x:.1f}<br>Avg Retweets: %{y:.1f}<extra></extra>",
                  "marker": {
                    "color": [
                      "#A23B72",
                      "#F18F01",
                      "#2E86AB"
                    ],
                    "size": 20
                  },
                  "mode": "markers+text",
                  "name": "Engagement",
                  "showlegend": false,
                  "text": [
                    "Negative",
                    "Neutral",
                    "Positive"
                  ],
                  "textposition": "top center",
                  "x": [
                    4.676470588235294,
                    4.807228915662651,
                    6.5883280757097795
                  ],
                  "y": [
                    1.2794117647058822,
                    1.2550200803212852,
                    1.8422712933753944
                  ],
                  "type": "scatter",
                  "xaxis": "x3",
                  "yaxis": "y3"
                },
                {
                  "hovertemplate": "<b>Tweet Analysis</b><br>Subjectivity: %{x:.2f}<br>Polarity: %{y:.2f}<br>Confidence: %{marker.color:.2f}<extra></extra>",
                  "marker": {
                    "color": [
                      0.3666666666666667,
                      1,
                      1,
                      1,
                      0.7875,
                      1,
                      1,
                      1,
                      0.8625,
                      1,
                      0.625,
                      0.35,
                      1,
                      0.85,
                      0.8214285714285714,
                      0.35,
                      0.35,
                      0.25,
                      0.8333333333333334,
                      0.8625,
                      1,
                      0.5249999999999999,
                      0.625,
                      1,
                      1,
                      0.5,
                      0.5249999999999999,
                      0.5249999999999999,
                      0.234375,
                      0.8333333333333334,
                      1,
                      0.8666666666666667,
                      0.8,
                      0.95,
                      0.85,
                      0.3666666666666667,
                      1,
                      0.8214285714285714,
                      0.8666666666666667,
                      0.8125,
                      0.3666666666666667,
                      0.9,
                      1,
                      1,
                      0.8333333333333334,
                      0.4666666666666666,
                      0.5,
                      1,
                      1,
                      0.9,
                      0.5,
                      1,
                      1,
                      0.25,
                      0.875,
                      1,
                      1,
                      0.25,
                      1,
                      0.2857142857142857,
                      0.9,
                      0.8125,
                      1,
                      0.85,
                      0.5,
                      0.9,
                      0.5,
                      0.45,
                      1,
                      1,
                      1,
                      0.4666666666666666,
                      1,
                      0.8214285714285714,
                      1,
                      0.8333333333333334,
                      0.875,
                      0.9,
                      0.25,
                      0.875,
                      0.65,
                      1,
                      0.2857142857142857,
                      1,
                      0.4666666666666666,
                      0.35,
                      1,
                      0.25625,
                      0.8625,
                      0.8185185185185185,
                      1,
                      1,
                      0.5,
                      1,
                      1,
                      1,
                      0.65,
                      0.71875,
                      1,
                      1,
                      1,
                      0.85,
                      0.2857142857142857,
                      0.625,
                      0.5249999999999999,
                      1,
                      1,
                      0.234375,
                      0.3,
                      0.8333333333333334,
                      0.8666666666666667,
                      0.39285714285714285,
                      0.8625,
                      0.4666666666666666,
                      1,
                      0.925,
                      1,
                      0.8214285714285714,
                      0.5,
                      0.95,
                      0.8,
                      1,
                      0.25,
                      0.625,
                      0.8333333333333334,
                      0.625,
                      0.39285714285714285,
                      0.4666666666666666,
                      0.8214285714285714,
                      1,
                      0.5,
                      0.25,
                      0.71875,
                      0.7,
                      1,
                      1,
                      0.8333333333333334,
                      1,
                      1,
                      1,
                      1,
                      0.25,
                      1,
                      0.234375,
                      0.9,
                      0.9777777777777777,
                      0.8214285714285714,
                      0.71875,
                      1,
                      1,
                      1,
                      0.4666666666666666,
                      0.25,
                      0.2857142857142857,
                      1,
                      1,
                      0.234375,
                      1,
                      0.8625,
                      0.9,
                      0.2857142857142857,
                      0.9,
                      1,
                      0.65,
                      0.8125,
                      0.95,
                      1,
                      0.5249999999999999,
                      1,
                      0.625,
                      0.45,
                      0.3666666666666667,
                      1,
                      0.875,
                      0.7875,
                      0.5249999999999999,
                      0.85,
                      0.95,
                      1,
                      1,
                      0.39285714285714285,
                      0.9,
                      0.25625,
                      0.925,
                      0.9,
                      1,
                      0.8625,
                      0.8625,
                      1,
                      1,
                      0.85,
                      0.8214285714285714,
                      0.7,
                      1,
                      0.45,
                      1,
                      1,
                      0.8125,
                      0.7,
                      0.875,
                      0.4666666666666666,
                      0.625,
                      0.5,
                      0.3666666666666667,
                      0.8214285714285714,
                      1,
                      0.5249999999999999,
                      0.9,
                      0.8185185185185185,
                      0.4666666666666666,
                      1,
                      0.85,
                      0.25,
                      1,
                      0.5249999999999999,
                      0.8125,
                      1,
                      1,
                      0.5,
                      0.4666666666666666,
                      0.9777777777777777,
                      1,
                      1,
                      0.71875,
                      1,
                      0.85,
                      0.45,
                      0.875,
                      1,
                      1,
                      0.8214285714285714,
                      0.8214285714285714,
                      1,
                      0.8083333333333332,
                      0.6428571428571428,
                      1,
                      0.9,
                      1,
                      0.4666666666666666,
                      0.35,
                      1,
                      0.8625,
                      0.8625,
                      0.5,
                      0.8333333333333334,
                      1,
                      0.35,
                      1,
                      0.4666666666666666,
                      1,
                      0.45,
                      1,
                      1,
                      0.95,
                      0.875,
                      0.34814814814814815,
                      0.35,
                      1,
                      1,
                      0.8185185185185185,
                      1,
                      0.4666666666666666,
                      1,
                      0.45,
                      1,
                      0.8083333333333332,
                      1,
                      0.875,
                      0.8214285714285714,
                      0.4666666666666666,
                      0.8125,
                      0.4666666666666666,
                      1,
                      0.35,
                      0.8214285714285714,
                      1,
                      0.95,
                      0.8333333333333334,
                      1,
                      1,
                      1,
                      1,
                      0.85,
                      1,
                      0.85,
                      0.5,
                      0.9777777777777777,
                      0.35,
                      0.3,
                      0.8333333333333334,
                      0.25,
                      0.5,
                      0.8214285714285714,
                      1,
                      0.234375,
                      0.39285714285714285,
                      0.71875,
                      0.2857142857142857,
                      0.25625,
                      1,
                      1,
                      1,
                      0.35,
                      1,
                      0.5,
                      0.234375,
                      0.35,
                      1,
                      0.8214285714285714,
                      0.2857142857142857,
                      0.65,
                      1,
                      1,
                      1,
                      1,
                      0.85,
                      1,
                      0.39285714285714285,
                      1,
                      1,
                      1,
                      0.4666666666666666,
                      0.85,
                      1,
                      1,
                      1,
                      1,
                      1,
                      0.8214285714285714,
                      1,
                      0.8214285714285714,
                      0.45,
                      0.3666666666666667,
                      0.8125,
                      1,
                      1,
                      0.25,
                      0.35,
                      0.4666666666666666,
                      1,
                      0.5,
                      1,
                      0.625,
                      1,
                      1,
                      0.35,
                      0.25625,
                      1,
                      1,
                      0.85,
                      0.234375,
                      0.8333333333333334,
                      0.5,
                      0.5,
                      0.5,
                      0.925,
                      0.8083333333333332,
                      0.71875,
                      1,
                      0.925,
                      1,
                      0.625,
                      1,
                      0.85,
                      0.9,
                      1,
                      0.2857142857142857,
                      0.9,
                      1,
                      1,
                      0.625,
                      1,
                      1,
                      0.35,
                      0.8125,
                      1,
                      0.71875,
                      0.234375,
                      0.25,
                      1,
                      0.8083333333333332,
                      0.25,
                      1,
                      0.9777777777777777,
                      1,
                      1,
                      0.8185185185185185,
                      1,
                      0.8333333333333334,
                      0.95,
                      1,
                      0.4666666666666666,
                      0.71875,
                      1,
                      0.9777777777777777,
                      0.4666666666666666,
                      0.95,
                      1,
                      0.8214285714285714,
                      1,
                      1,
                      1,
                      0.4666666666666666,
                      1,
                      1,
                      0.39285714285714285,
                      1,
                      0.625,
                      1,
                      0.4666666666666666,
                      1,
                      1,
                      0.9,
                      0.25625,
                      0.8333333333333334,
                      0.875,
                      0.625,
                      0.3666666666666667,
                      0.8625,
                      0.5249999999999999,
                      1,
                      0.625,
                      0.2857142857142857,
                      1,
                      0.7,
                      0.8625,
                      0.71875,
                      0.9777777777777777,
                      1,
                      1,
                      1,
                      0.875,
                      0.25625,
                      0.8625,
                      0.9777777777777777,
                      1,
                      0.5,
                      1,
                      0.5249999999999999,
                      0.8083333333333332,
                      0.925,
                      0.8,
                      0.8333333333333334,
                      0.8,
                      0.9,
                      1,
                      0.875,
                      0.8083333333333332,
                      0.8333333333333334,
                      1,
                      1,
                      0.25,
                      0.25,
                      0.35,
                      0.4666666666666666,
                      0.5249999999999999,
                      0.234375,
                      0.8333333333333334,
                      1,
                      1,
                      1,
                      1,
                      1,
                      0.625,
                      0.85,
                      0.2857142857142857,
                      0.8214285714285714,
                      1,
                      0.3,
                      0.35,
                      1,
                      1,
                      1,
                      0.4666666666666666,
                      0.3666666666666667,
                      0.7,
                      0.8333333333333334,
                      0.5,
                      0.71875,
                      0.8625,
                      0.925,
                      0.71875,
                      0.65,
                      0.625,
                      0.5,
                      0.8125,
                      1,
                      0.625,
                      1,
                      0.6428571428571428,
                      0.875,
                      1,
                      1,
                      0.71875,
                      0.3666666666666667,
                      0.5,
                      1,
                      1,
                      0.8333333333333334,
                      1,
                      1,
                      1,
                      0.85,
                      0.9,
                      0.25625,
                      1,
                      1,
                      0.4666666666666666,
                      1,
                      0.5,
                      0.5,
                      1,
                      0.5,
                      0.35,
                      0.7875,
                      0.9,
                      0.85,
                      1,
                      0.5,
                      1,
                      0.5249999999999999,
                      1,
                      1,
                      0.25,
                      1,
                      0.234375,
                      0.35,
                      1,
                      0.5249999999999999,
                      1,
                      1,
                      1,
                      0.95,
                      1,
                      0.8,
                      1,
                      0.8625,
                      0.35,
                      0.3666666666666667,
                      0.625,
                      0.5,
                      0.3666666666666667,
                      0.95,
                      0.3666666666666667,
                      0.8,
                      0.65,
                      1,
                      1,
                      1,
                      0.25625,
                      1,
                      1,
                      0.25625,
                      0.625,
                      0.5,
                      0.85,
                      1,
                      0.5,
                      0.8214285714285714,
                      0.25,
                      0.8125,
                      0.3,
                      1,
                      0.9,
                      0.7875,
                      1,
                      1,
                      0.95,
                      1,
                      0.3666666666666667,
                      0.8333333333333334,
                      1,
                      0.85,
                      0.9777777777777777,
                      1,
                      1,
                      0.3666666666666667,
                      0.34814814814814815,
                      0.34814814814814815,
                      1,
                      1,
                      0.3,
                      0.875,
                      1,
                      1,
                      0.5,
                      1,
                      0.5,
                      0.5,
                      0.2857142857142857,
                      0.2857142857142857,
                      0.25625,
                      0.8125,
                      1,
                      0.25,
                      0.5,
                      0.234375,
                      1,
                      0.45,
                      0.5,
                      0.7875,
                      0.5,
                      0.5,
                      0.25625,
                      1,
                      0.3666666666666667,
                      0.8185185185185185,
                      0.65,
                      0.5,
                      1,
                      1,
                      0.85,
                      0.3666666666666667,
                      0.8083333333333332,
                      1,
                      0.4666666666666666,
                      0.925,
                      1,
                      0.875,
                      0.3666666666666667,
                      0.8625,
                      1,
                      1,
                      1,
                      0.8333333333333334,
                      0.85,
                      0.25,
                      1,
                      0.8083333333333332,
                      0.8333333333333334,
                      0.4666666666666666,
                      0.4666666666666666,
                      1,
                      1,
                      0.5,
                      0.95,
                      0.8666666666666667,
                      0.8125,
                      1,
                      0.5,
                      0.85,
                      0.8333333333333334,
                      0.5,
                      1,
                      0.9,
                      0.8185185185185185,
                      1,
                      1,
                      0.7875,
                      1,
                      1,
                      0.8214285714285714,
                      1,
                      1,
                      1,
                      0.8333333333333334,
                      1,
                      1,
                      1,
                      0.8333333333333334,
                      0.5,
                      0.8666666666666667,
                      0.9,
                      0.5,
                      1,
                      0.5,
                      1,
                      1,
                      0.25,
                      0.5,
                      1,
                      0.9,
                      0.3,
                      1,
                      1,
                      0.45,
                      1,
                      0.9,
                      0.625,
                      1,
                      0.8125,
                      0.925,
                      0.9,
                      0.625,
                      1,
                      1,
                      1,
                      0.8333333333333334,
                      1,
                      1,
                      0.95,
                      0.625,
                      1,
                      0.9,
                      1,
                      1,
                      0.8214285714285714,
                      0.9,
                      0.5,
                      1,
                      0.9,
                      0.65,
                      0.45,
                      1,
                      1,
                      0.35,
                      1,
                      1,
                      1,
                      0.85,
                      0.5,
                      0.9,
                      0.4666666666666666,
                      1,
                      0.95,
                      1,
                      1,
                      1,
                      1,
                      1,
                      1,
                      1,
                      0.8214285714285714,
                      1,
                      0.85,
                      1,
                      1,
                      0.85,
                      0.5,
                      0.45,
                      0.9,
                      1,
                      0.875,
                      0.5,
                      1,
                      0.8333333333333334,
                      1,
                      1,
                      1,
                      0.5,
                      0.4666666666666666,
                      0.625,
                      0.925,
                      1,
                      0.85,
                      0.4666666666666666,
                      1,
                      0.5,
                      1,
                      0.9777777777777777,
                      0.85,
                      0.25,
                      0.25,
                      0.5,
                      0.8214285714285714,
                      1,
                      1,
                      0.25,
                      1,
                      0.4666666666666666,
                      0.5,
                      0.8214285714285714,
                      1,
                      0.4666666666666666,
                      0.8625,
                      0.5,
                      0.35,
                      1,
                      1,
                      1,
                      1,
                      1,
                      1,
                      0.875,
                      0.5,
                      0.9,
                      0.65,
                      1,
                      0.3666666666666667,
                      0.9,
                      0.8666666666666667,
                      1,
                      0.5,
                      0.95,
                      0.9777777777777777,
                      0.25,
                      1,
                      0.6428571428571428,
                      0.8125,
                      0.4666666666666666,
                      0.8214285714285714,
                      1,
                      0.8,
                      1,
                      0.2857142857142857,
                      1,
                      0.85,
                      0.8625,
                      1,
                      0.8214285714285714,
                      0.85,
                      0.9,
                      0.7875,
                      0.34814814814814815,
                      1,
                      1,
                      0.8083333333333332,
                      0.65,
                      0.625,
                      1,
                      0.4666666666666666,
                      0.875,
                      1,
                      1,
                      1,
                      0.625,
                      1,
                      1,
                      0.8666666666666667,
                      0.2857142857142857,
                      0.2857142857142857,
                      1,
                      0.625,
                      0.5249999999999999,
                      0.85,
                      0.3,
                      1,
                      0.5249999999999999,
                      0.8125,
                      1,
                      1,
                      1,
                      1,
                      0.8214285714285714,
                      0.8214285714285714,
                      0.8185185185185185,
                      0.4666666666666666,
                      1,
                      0.71875,
                      1,
                      0.4666666666666666,
                      1,
                      1,
                      0.85,
                      0.2857142857142857,
                      0.8625,
                      1,
                      1,
                      0.65,
                      0.9,
                      0.3,
                      0.35,
                      0.625,
                      0.3,
                      0.4666666666666666,
                      0.625,
                      0.25625,
                      0.875,
                      1,
                      1,
                      0.5249999999999999,
                      1,
                      0.9777777777777777,
                      1,
                      1,
                      0.9,
                      0.7,
                      0.35,
                      0.3666666666666667,
                      0.5,
                      1,
                      0.9,
                      1,
                      0.5249999999999999,
                      1,
                      0.234375,
                      0.8214285714285714,
                      0.8,
                      1,
                      0.6428571428571428,
                      1,
                      1,
                      1,
                      1,
                      1,
                      0.85,
                      0.8214285714285714,
                      1,
                      0.5,
                      1,
                      0.8125,
                      0.5,
                      1,
                      0.9777777777777777,
                      0.4666666666666666,
                      0.9777777777777777,
                      0.8214285714285714,
                      0.4666666666666666,
                      1,
                      0.5,
                      1,
                      0.5,
                      0.35,
                      1,
                      0.25,
                      0.9,
                      1,
                      1,
                      0.4666666666666666,
                      0.5,
                      0.35,
                      0.8083333333333332,
                      0.8125,
                      0.39285714285714285,
                      0.25,
                      1,
                      0.9,
                      0.5,
                      0.9,
                      0.3,
                      0.8083333333333332,
                      0.85,
                      1,
                      1,
                      0.35,
                      1,
                      1,
                      0.5,
                      0.85,
                      1,
                      0.4666666666666666,
                      0.3,
                      0.4666666666666666,
                      0.85,
                      1,
                      1,
                      1,
                      0.2857142857142857,
                      1,
                      0.8625,
                      0.85,
                      0.625,
                      1,
                      0.875,
                      1,
                      0.39285714285714285,
                      1,
                      1,
                      0.71875,
                      1,
                      0.625,
                      0.85,
                      0.25,
                      0.85,
                      0.8333333333333334,
                      1,
                      1,
                      0.7875,
                      0.5249999999999999,
                      1,
                      0.8625,
                      0.9,
                      0.8333333333333334,
                      1,
                      0.625,
                      0.8125,
                      0.5,
                      1,
                      0.9,
                      1,
                      0.8,
                      0.4666666666666666,
                      0.8214285714285714,
                      1,
                      0.875,
                      0.3666666666666667,
                      0.875,
                      1,
                      0.5249999999999999,
                      0.8625,
                      0.5,
                      1,
                      0.35,
                      0.6428571428571428,
                      0.34814814814814815,
                      0.6428571428571428,
                      1,
                      1,
                      1,
                      1,
                      1,
                      0.71875,
                      1,
                      1,
                      0.4666666666666666,
                      0.8625,
                      0.3666666666666667,
                      0.8185185185185185,
                      0.8214285714285714,
                      0.234375,
                      0.4666666666666666,
                      1,
                      1,
                      1,
                      0.3666666666666667,
                      1,
                      1,
                      1,
                      0.3666666666666667,
                      0.3,
                      0.9,
                      0.8185185185185185,
                      0.234375,
                      0.4666666666666666,
                      1,
                      0.71875,
                      0.4666666666666666,
                      0.8125,
                      0.8333333333333334,
                      1,
                      1,
                      0.7,
                      0.9,
                      0.35,
                      1,
                      0.6428571428571428,
                      0.25625,
                      0.234375,
                      0.8125,
                      0.8214285714285714,
                      0.8125,
                      1,
                      1,
                      0.25625,
                      0.25625,
                      1,
                      0.45,
                      1,
                      0.95,
                      0.8083333333333332,
                      0.8625,
                      1,
                      0.2857142857142857,
                      1,
                      1,
                      0.4666666666666666,
                      0.3666666666666667,
                      1,
                      0.8185185185185185,
                      1,
                      1,
                      1,
                      0.8333333333333334,
                      0.3666666666666667,
                      0.3666666666666667,
                      0.8333333333333334,
                      0.9,
                      1,
                      0.9,
                      0.3666666666666667,
                      0.85,
                      1,
                      0.234375,
                      0.35,
                      1,
                      0.3666666666666667,
                      1,
                      0.8125,
                      0.25,
                      1,
                      0.5249999999999999,
                      1,
                      0.71875,
                      0.35,
                      0.3666666666666667,
                      1,
                      0.8625,
                      0.25,
                      0.8214285714285714,
                      0.875,
                      0.35,
                      0.71875,
                      1,
                      0.65,
                      1,
                      0.7875,
                      1,
                      0.8625,
                      0.5,
                      0.25,
                      0.4666666666666666,
                      1,
                      0.625,
                      0.8214285714285714,
                      1,
                      1,
                      0.85,
                      0.35,
                      0.4666666666666666,
                      1,
                      0.2857142857142857,
                      0.8214285714285714,
                      0.3,
                      0.5,
                      0.5,
                      0.9,
                      1,
                      0.8,
                      1,
                      0.8625,
                      0.5249999999999999,
                      0.5,
                      0.8625,
                      0.5,
                      0.71875,
                      1,
                      0.5,
                      0.5249999999999999,
                      0.234375,
                      1,
                      0.25,
                      0.8185185185185185,
                      1,
                      0.875,
                      1,
                      1,
                      0.8625,
                      0.2857142857142857,
                      1,
                      1,
                      0.3666666666666667,
                      1,
                      0.3666666666666667,
                      0.45,
                      0.8125,
                      0.8214285714285714,
                      0.6428571428571428,
                      0.8083333333333332,
                      1,
                      0.25,
                      1,
                      1,
                      0.4666666666666666,
                      0.8625,
                      0.9,
                      0.71875,
                      0.85,
                      0.71875,
                      0.8333333333333334,
                      0.8625,
                      0.5,
                      1,
                      0.625,
                      1,
                      0.25625,
                      0.45,
                      1,
                      0.35,
                      0.6428571428571428,
                      0.34814814814814815,
                      0.85,
                      1,
                      0.65,
                      0.85,
                      0.85,
                      0.8214285714285714,
                      1,
                      0.8625,
                      0.875,
                      0.71875,
                      1,
                      1,
                      0.85,
                      0.7,
                      1,
                      0.65,
                      0.8625,
                      0.3666666666666667,
                      0.8625,
                      0.5,
                      0.625,
                      1,
                      0.85,
                      0.9777777777777777,
                      0.35,
                      0.8125,
                      0.8333333333333334,
                      0.8125,
                      1,
                      1,
                      0.71875,
                      0.35,
                      1,
                      0.875,
                      0.8083333333333332,
                      0.34814814814814815,
                      1,
                      1,
                      0.5,
                      0.925
                    ],
                    "colorbar": {
                      "len": 0.25,
                      "title": {
                        "text": "Confidence"
                      },
                      "x": 0.45,
                      "y": 0.35
                    },
                    "colorscale": [
                      [
                        0,
                        "#440154"
                      ],
                      [
                        0.1111111111111111,
                        "#482878"
                      ],
                      [
                        0.2222222222222222,
                        "#3e4989"
                      ],
                      [
                        0.3333333333333333,
                        "#31688e"
                      ],
                      [
                        0.4444444444444444,
                        "#26828e"
                      ],
                      [
                        0.5555555555555556,
                        "#1f9e89"
                      ],
                      [
                        0.6666666666666666,
                        "#35b779"
                      ],
                      [
                        0.7777777777777778,
                        "#6ece58"
                      ],
                      [
                        0.8888888888888888,
                        "#b5de2b"
                      ],
                      [
                        1,
                        "#fde725"
                      ]
                    ],
                    "opacity": 0.6,
                    "showscale": true,
                    "size": 4
                  },
                  "mode": "markers",
                  "name": "Tweets",
                  "showlegend": false,
                  "x": [
                    0.5666666666666667,
                    0.07692307692307693,
                    1,
                    0.6000000000000001,
                    0.6000000000000001,
                    0.75,
                    0.0625,
                    0.6000000000000001,
                    0.8,
                    0.6,
                    0.7,
                    0.8,
                    0,
                    0.675,
                    0.32417582417582413,
                    0.8,
                    0.8,
                    0.25,
                    0.5,
                    0.8,
                    0.75,
                    0.575,
                    0.7,
                    0.75,
                    1,
                    0.5,
                    0.575,
                    0.575,
                    0.5,
                    0.5,
                    0.6000000000000001,
                    0.43333333333333335,
                    0.75,
                    0.6,
                    0.675,
                    0.5666666666666667,
                    0.75,
                    0.32417582417582413,
                    0.43333333333333335,
                    0.5,
                    0.5666666666666667,
                    0.55,
                    0.75,
                    0,
                    0.5,
                    0.5666666666666667,
                    0.3,
                    0,
                    0,
                    0.9,
                    0.5,
                    0,
                    0.3,
                    0.25,
                    0.6000000000000001,
                    0,
                    0.9,
                    0.25,
                    0.75,
                    0.5357142857142857,
                    0.9,
                    0.5,
                    0.07692307692307693,
                    0.25,
                    0.5,
                    0.9,
                    0.5,
                    0.575,
                    0,
                    0.75,
                    0,
                    0.5666666666666667,
                    0.6000000000000001,
                    0.32417582417582413,
                    0,
                    0.5,
                    0.6000000000000001,
                    0.9,
                    0.25,
                    0.6000000000000001,
                    0.6666666666666666,
                    0.0625,
                    0.5357142857142857,
                    0,
                    0.5666666666666667,
                    0.8,
                    0,
                    0.55,
                    0.8,
                    0.32962962962962966,
                    0.3,
                    0.9,
                    0.5,
                    0,
                    0,
                    0,
                    0.6666666666666666,
                    0.7,
                    0.07692307692307693,
                    0,
                    0.6,
                    0.25,
                    0.5357142857142857,
                    0.7,
                    0.575,
                    0,
                    0.0625,
                    0.5,
                    0.6,
                    0.5,
                    0.43333333333333335,
                    0.5178571428571428,
                    0.8,
                    0.5666666666666667,
                    0.6,
                    0.8,
                    0,
                    0.32417582417582413,
                    0.5,
                    0.4,
                    0.75,
                    0.6,
                    0.25,
                    0.7,
                    0.5,
                    0.7,
                    0.5178571428571428,
                    0.5666666666666667,
                    0.32417582417582413,
                    0,
                    0.5,
                    0.25,
                    0.7,
                    0.7,
                    0.0625,
                    0,
                    0.5,
                    1,
                    0,
                    0.0625,
                    1,
                    0.25,
                    1,
                    0.5,
                    0.9,
                    0.24444444444444446,
                    0.32417582417582413,
                    0.7,
                    1,
                    0,
                    0.75,
                    0.5666666666666667,
                    0.25,
                    0.5357142857142857,
                    0,
                    0,
                    0.5,
                    0,
                    0.8,
                    0.9,
                    0.5357142857142857,
                    0.9,
                    1,
                    0.6666666666666666,
                    0.5,
                    0.4,
                    0.75,
                    0.575,
                    0.3,
                    0.7,
                    0.575,
                    0.5666666666666667,
                    0,
                    0.6000000000000001,
                    0.6000000000000001,
                    0.575,
                    0.675,
                    0.4,
                    1,
                    0.6,
                    0.5178571428571428,
                    0.9,
                    0.55,
                    0.8,
                    0.9,
                    0,
                    0.8,
                    0.8,
                    0.6000000000000001,
                    0.6000000000000001,
                    0.6499999999999999,
                    0.32417582417582413,
                    0.7,
                    0,
                    0.575,
                    0,
                    0,
                    0.5,
                    0.7,
                    0.6000000000000001,
                    0.5666666666666667,
                    0.7,
                    0.5,
                    0.5666666666666667,
                    0.32417582417582413,
                    0.6,
                    0.575,
                    0.9,
                    0.32962962962962966,
                    0.5666666666666667,
                    0,
                    0.6499999999999999,
                    0.25,
                    0.07692307692307693,
                    0.575,
                    0.5,
                    0.6,
                    0.6,
                    0.5,
                    0.5666666666666667,
                    0.24444444444444446,
                    0.07692307692307693,
                    0,
                    0.7,
                    0.9,
                    0.675,
                    0.575,
                    0.6000000000000001,
                    0.0625,
                    0.9,
                    0.32417582417582413,
                    0.32417582417582413,
                    0.07692307692307693,
                    0.7333333333333334,
                    0.4178571428571428,
                    0,
                    0.9,
                    1,
                    0.5666666666666667,
                    0.8,
                    0,
                    0.8,
                    0.8,
                    0.5,
                    0.5,
                    0.9,
                    0.6000000000000001,
                    0,
                    0.5666666666666667,
                    0.0625,
                    0.575,
                    0.75,
                    0,
                    0.4,
                    0.6000000000000001,
                    0.262962962962963,
                    0.8,
                    0.75,
                    1,
                    0.32962962962962966,
                    0.0625,
                    0.5666666666666667,
                    0.75,
                    0.575,
                    1,
                    0.7333333333333334,
                    0.0625,
                    0.6000000000000001,
                    0.32417582417582413,
                    0.5666666666666667,
                    0.5,
                    0.5666666666666667,
                    0.6,
                    0.6000000000000001,
                    0.32417582417582413,
                    0,
                    0.4,
                    0.5,
                    0.3,
                    0,
                    0.75,
                    0.9,
                    0.675,
                    0.07692307692307693,
                    0.675,
                    0.3,
                    0.24444444444444446,
                    0.8,
                    0.6,
                    0.5,
                    0.25,
                    0.5,
                    0.32417582417582413,
                    0.6,
                    0.5,
                    0.5178571428571428,
                    0.7,
                    0.5357142857142857,
                    0.55,
                    0,
                    0,
                    0.9,
                    0.6000000000000001,
                    0,
                    0.5,
                    0.5,
                    0.6000000000000001,
                    0,
                    0.32417582417582413,
                    0.5357142857142857,
                    0.6666666666666666,
                    0,
                    0,
                    0.3,
                    0.9,
                    0.25,
                    0,
                    0.5178571428571428,
                    0.3,
                    0.3,
                    0,
                    0.5666666666666667,
                    0.675,
                    0.07692307692307693,
                    0.6000000000000001,
                    0.6,
                    0,
                    0.6,
                    0.32417582417582413,
                    0.6,
                    0.32417582417582413,
                    0.575,
                    0.5666666666666667,
                    0.5,
                    0.6,
                    0,
                    0.25,
                    0.8,
                    0.5666666666666667,
                    0.75,
                    0.5,
                    0.0625,
                    0.7,
                    0.6,
                    0.07692307692307693,
                    0.6000000000000001,
                    0.55,
                    0.6,
                    0,
                    0.6499999999999999,
                    0.5,
                    0.5,
                    0.5,
                    0.5,
                    0.5,
                    0.8,
                    0.7333333333333334,
                    0.7,
                    0.6,
                    0.8,
                    0.0625,
                    0.7,
                    0.6000000000000001,
                    0.6499999999999999,
                    0.9,
                    0.0625,
                    0.5357142857142857,
                    0.9,
                    0,
                    0,
                    0.7,
                    0,
                    0.6000000000000001,
                    0.8,
                    0.5,
                    0.9,
                    0.7,
                    0.5,
                    0.25,
                    0.3,
                    0.7333333333333334,
                    0.25,
                    0.07692307692307693,
                    0.24444444444444446,
                    0,
                    0,
                    0.32962962962962966,
                    0.9,
                    0.5,
                    0.4,
                    0,
                    0.5666666666666667,
                    0.7,
                    0,
                    0.24444444444444446,
                    0.5666666666666667,
                    0.4,
                    0.0625,
                    0.32417582417582413,
                    0,
                    0,
                    0.07692307692307693,
                    0.5666666666666667,
                    0.0625,
                    0,
                    0.5178571428571428,
                    0.9,
                    0.7,
                    0,
                    0.5666666666666667,
                    0.75,
                    0.75,
                    0.55,
                    0.55,
                    0.5,
                    0.6000000000000001,
                    0.7,
                    0.5666666666666667,
                    0.8,
                    0.575,
                    0.3,
                    0.7,
                    0.5357142857142857,
                    0.0625,
                    0.7,
                    0.8,
                    0.7,
                    0.24444444444444446,
                    0.9,
                    0.75,
                    0.07692307692307693,
                    0.6000000000000001,
                    0.55,
                    0.8,
                    0.24444444444444446,
                    0.75,
                    0.5,
                    0.6,
                    0.575,
                    0.7333333333333334,
                    0.8,
                    0.75,
                    0.5,
                    0.75,
                    0.9,
                    0.6,
                    0.6000000000000001,
                    0.7333333333333334,
                    0.5,
                    0,
                    0,
                    0.25,
                    0.25,
                    0.8,
                    0.5666666666666667,
                    0.575,
                    0.5,
                    0.5,
                    0,
                    0.0625,
                    0,
                    0,
                    0,
                    0.7,
                    0.6499999999999999,
                    0.5357142857142857,
                    0.32417582417582413,
                    0.07692307692307693,
                    0.6,
                    0.6000000000000001,
                    0.75,
                    0,
                    0.75,
                    0.5666666666666667,
                    0.5666666666666667,
                    0.7,
                    0.5,
                    0.3,
                    0.7,
                    0.8,
                    0.8,
                    0.7,
                    0.6666666666666666,
                    0.7,
                    0.5,
                    0.5,
                    0,
                    0.7,
                    0,
                    0.4178571428571428,
                    0.6000000000000001,
                    0.3,
                    0,
                    0.7,
                    0.5666666666666667,
                    0.5,
                    1,
                    0,
                    0.5,
                    0,
                    0,
                    0,
                    0.6499999999999999,
                    0.9,
                    0.55,
                    0,
                    1,
                    0.5666666666666667,
                    0,
                    0.5,
                    0.5,
                    0.75,
                    0.5,
                    0.8,
                    0.6000000000000001,
                    0.9,
                    0.6499999999999999,
                    0.6,
                    0.5,
                    0.75,
                    0.575,
                    0.75,
                    0.3,
                    0.25,
                    0,
                    0.5,
                    0.6000000000000001,
                    0,
                    0.575,
                    0.0625,
                    0.0625,
                    0.75,
                    0.6,
                    0,
                    0.75,
                    0.75,
                    0.8,
                    0.8,
                    0.5666666666666667,
                    0.7,
                    0.5,
                    0.5666666666666667,
                    0.6,
                    0.5666666666666667,
                    0.75,
                    0.6666666666666666,
                    0.3,
                    0,
                    0.07692307692307693,
                    0.55,
                    0.07692307692307693,
                    0,
                    0.55,
                    0.7,
                    0.5,
                    0.6499999999999999,
                    0.07692307692307693,
                    0.5,
                    0.32417582417582413,
                    0.25,
                    0.5,
                    0.6,
                    0.3,
                    0.9,
                    0.6000000000000001,
                    0.6,
                    0.9,
                    0.4,
                    0.75,
                    0.5666666666666667,
                    0.5,
                    1,
                    0.675,
                    0.24444444444444446,
                    0,
                    0.0625,
                    0.5666666666666667,
                    0.262962962962963,
                    0.262962962962963,
                    0.6,
                    0,
                    0.6,
                    0.6000000000000001,
                    0.75,
                    0.9,
                    0.5,
                    0.6,
                    0.5,
                    0.5,
                    0.5357142857142857,
                    0.5357142857142857,
                    0.55,
                    0.5,
                    0.07692307692307693,
                    0.25,
                    0.5,
                    0.5,
                    0,
                    0.575,
                    0.5,
                    0.6000000000000001,
                    0.5,
                    0.5,
                    0.55,
                    0,
                    0.5666666666666667,
                    0.32962962962962966,
                    0.6666666666666666,
                    0.5,
                    0.75,
                    1,
                    0.675,
                    0.5666666666666667,
                    0.7333333333333334,
                    0.0625,
                    0.5666666666666667,
                    0.8,
                    0,
                    0.6000000000000001,
                    0.5666666666666667,
                    0.8,
                    0.6000000000000001,
                    0,
                    0.07692307692307693,
                    0.5,
                    0.675,
                    0.25,
                    1,
                    0.7333333333333334,
                    0.5,
                    0.5666666666666667,
                    0.5666666666666667,
                    0.75,
                    0.3,
                    0.5,
                    0.6,
                    0.43333333333333335,
                    0.5,
                    0.3,
                    0.5,
                    0.675,
                    0.5,
                    0.3,
                    0.6,
                    0.9,
                    0.32962962962962966,
                    0.07692307692307693,
                    0.6,
                    0.6000000000000001,
                    1,
                    0,
                    0.32417582417582413,
                    0.9,
                    0.9,
                    1,
                    0.5,
                    0,
                    0.6,
                    0.3,
                    0.5,
                    0.3,
                    0.43333333333333335,
                    0.55,
                    0.5,
                    0,
                    0.5,
                    0,
                    0.07692307692307693,
                    0.25,
                    0.5,
                    0,
                    0.9,
                    0.6,
                    0,
                    0,
                    0.575,
                    0.6,
                    0.9,
                    0.7,
                    0.0625,
                    0.5,
                    0.8,
                    0.55,
                    0.7,
                    0,
                    0.6,
                    1,
                    0.5,
                    0.75,
                    0.6,
                    0.4,
                    0.7,
                    1,
                    0.9,
                    1,
                    0.6,
                    0.32417582417582413,
                    0.9,
                    0.5,
                    0.75,
                    0.9,
                    0.6666666666666666,
                    0.575,
                    0.3,
                    0,
                    0.8,
                    0.07692307692307693,
                    0,
                    0.0625,
                    0.6499999999999999,
                    0.5,
                    0.55,
                    0.5666666666666667,
                    0,
                    0.4,
                    0,
                    0,
                    0.07692307692307693,
                    0.3,
                    0.07692307692307693,
                    0,
                    0,
                    0.32417582417582413,
                    0,
                    0.675,
                    0.0625,
                    0.6,
                    0.25,
                    0.5,
                    0.575,
                    0.9,
                    0,
                    0.6000000000000001,
                    0.5,
                    0,
                    0.5,
                    0,
                    0,
                    0,
                    0.5,
                    0.5666666666666667,
                    0.7,
                    0.8,
                    0.07692307692307693,
                    0.675,
                    0.5666666666666667,
                    0.3,
                    0.5,
                    0,
                    0.24444444444444446,
                    0.675,
                    0.25,
                    0.25,
                    0.5,
                    0.32417582417582413,
                    0.0625,
                    0.6,
                    0.25,
                    0,
                    0.5666666666666667,
                    0.5,
                    0.32417582417582413,
                    0,
                    0.5666666666666667,
                    0.8,
                    0.5,
                    0.6000000000000001,
                    0.07692307692307693,
                    0.9,
                    0.75,
                    0.0625,
                    0,
                    0.07692307692307693,
                    0.6000000000000001,
                    0.5,
                    0.9,
                    0.6666666666666666,
                    0.6,
                    0.5666666666666667,
                    0.9,
                    0.43333333333333335,
                    0,
                    0.5,
                    0.6,
                    0.24444444444444446,
                    0.25,
                    0.6,
                    0.4178571428571428,
                    0.5,
                    0.5666666666666667,
                    0.32417582417582413,
                    0,
                    0.75,
                    0,
                    0.5357142857142857,
                    1,
                    0.6499999999999999,
                    0.8,
                    0.07692307692307693,
                    0.32417582417582413,
                    0.6499999999999999,
                    0.9,
                    0.6000000000000001,
                    0.262962962962963,
                    0,
                    0,
                    0.7333333333333334,
                    0.6666666666666666,
                    0.7,
                    1,
                    0.5666666666666667,
                    0.6000000000000001,
                    1,
                    0,
                    0.9,
                    0.7,
                    0.6,
                    0,
                    0.43333333333333335,
                    0.5357142857142857,
                    0.5357142857142857,
                    0.07692307692307693,
                    0.7,
                    0.575,
                    0.6499999999999999,
                    0.6,
                    0.9,
                    0.575,
                    0.5,
                    0,
                    0,
                    0.75,
                    0.0625,
                    0.32417582417582413,
                    0.32417582417582413,
                    0.32962962962962966,
                    0.5666666666666667,
                    0.3,
                    0.7,
                    0.9,
                    0.5666666666666667,
                    1,
                    0.3,
                    0.6499999999999999,
                    0.5357142857142857,
                    0.8,
                    0.3,
                    0.9,
                    0.6666666666666666,
                    0.9,
                    0.6,
                    0.6000000000000001,
                    0.7,
                    0.6,
                    0.5666666666666667,
                    0.7,
                    0.55,
                    0.6000000000000001,
                    0,
                    0.6,
                    0.575,
                    0.6,
                    0.24444444444444446,
                    0.9,
                    0,
                    0.9,
                    0.7,
                    0.6000000000000001,
                    0.5666666666666667,
                    0.5,
                    1,
                    0.9,
                    1,
                    0.575,
                    1,
                    0.5,
                    0.32417582417582413,
                    0.75,
                    0,
                    0.4178571428571428,
                    0.07692307692307693,
                    0.3,
                    0.0625,
                    0.07692307692307693,
                    0,
                    0.6499999999999999,
                    0.32417582417582413,
                    0.6,
                    0.5,
                    1,
                    0.5,
                    0.5,
                    0,
                    0.24444444444444446,
                    0.5666666666666667,
                    0.24444444444444446,
                    0.32417582417582413,
                    0.5666666666666667,
                    0.0625,
                    0.5,
                    0,
                    0.3,
                    0.6000000000000001,
                    1,
                    0.25,
                    0.9,
                    1,
                    0.75,
                    0.5666666666666667,
                    0.5,
                    0.6000000000000001,
                    0.7333333333333334,
                    0.5,
                    0.5178571428571428,
                    0.25,
                    0,
                    0.55,
                    0.5,
                    0.9,
                    0.6,
                    0.7333333333333334,
                    0.6499999999999999,
                    0.6,
                    1,
                    0.8,
                    0.3,
                    0,
                    0.5,
                    0.6499999999999999,
                    1,
                    0.5666666666666667,
                    0.6,
                    0.5666666666666667,
                    0.675,
                    0.6,
                    0.0625,
                    0,
                    0.5357142857142857,
                    0.9,
                    0.8,
                    0.6499999999999999,
                    0.7,
                    0.3,
                    0.6000000000000001,
                    1,
                    0.5178571428571428,
                    0.75,
                    0.9,
                    0.7,
                    0.75,
                    0.7,
                    0.6499999999999999,
                    0.25,
                    0.6499999999999999,
                    0.5,
                    0.6,
                    0,
                    0.6000000000000001,
                    0.575,
                    0,
                    0.8,
                    0.55,
                    0.5,
                    0,
                    0.7,
                    0.5,
                    0.5,
                    0.6,
                    0.9,
                    1,
                    0.75,
                    0.5666666666666667,
                    0.32417582417582413,
                    0,
                    0.6000000000000001,
                    0.5666666666666667,
                    0.6000000000000001,
                    0,
                    0.575,
                    0.8,
                    0.5,
                    0.75,
                    0.8,
                    0.4178571428571428,
                    0.262962962962963,
                    0.4178571428571428,
                    0.0625,
                    1,
                    0.07692307692307693,
                    0.75,
                    0.3,
                    0.7,
                    0.9,
                    0,
                    0.5666666666666667,
                    0.8,
                    0.5666666666666667,
                    0.32962962962962966,
                    0.32417582417582413,
                    0.5,
                    0.5666666666666667,
                    0,
                    0,
                    0.6000000000000001,
                    0.5666666666666667,
                    0,
                    0,
                    0.6000000000000001,
                    0.5666666666666667,
                    0.6,
                    0.9,
                    0.32962962962962966,
                    0.5,
                    0.5666666666666667,
                    0,
                    0.7,
                    0.5666666666666667,
                    0.5,
                    0.5,
                    0.6000000000000001,
                    0.6000000000000001,
                    0.7,
                    0.9,
                    0.6000000000000001,
                    0,
                    0.4178571428571428,
                    0.55,
                    0.5,
                    0.5,
                    0.32417582417582413,
                    0.5,
                    0,
                    0,
                    0.55,
                    0.55,
                    0,
                    0.575,
                    0.6,
                    0.6,
                    0.7333333333333334,
                    0.8,
                    1,
                    0.5357142857142857,
                    0.6,
                    1,
                    0.5666666666666667,
                    0.5666666666666667,
                    0.75,
                    0.32962962962962966,
                    0,
                    0,
                    0,
                    0.5,
                    0.5666666666666667,
                    0.5666666666666667,
                    0.5,
                    0.55,
                    0.07692307692307693,
                    0.9,
                    0.5666666666666667,
                    0.25,
                    0,
                    0.5,
                    0.6000000000000001,
                    0.75,
                    0.5666666666666667,
                    0.6,
                    0.5,
                    0.25,
                    0.75,
                    0.575,
                    0,
                    0.7,
                    0.6000000000000001,
                    0.5666666666666667,
                    0.6,
                    0.8,
                    0.25,
                    0.32417582417582413,
                    0.6000000000000001,
                    0.8,
                    0.7,
                    0,
                    0.6666666666666666,
                    0,
                    0.6000000000000001,
                    0.6,
                    0.8,
                    0.5,
                    0.25,
                    0.5666666666666667,
                    0.75,
                    0.7,
                    0.32417582417582413,
                    1,
                    0,
                    0.6499999999999999,
                    0.6000000000000001,
                    0.5666666666666667,
                    1,
                    0.5357142857142857,
                    0.32417582417582413,
                    0.6,
                    0.5,
                    0.5,
                    0.9,
                    1,
                    0.75,
                    0,
                    0.8,
                    0.575,
                    0.5,
                    0.8,
                    0.5,
                    0.7,
                    0.0625,
                    0.5,
                    0.575,
                    0.5,
                    0,
                    0.25,
                    0.32962962962962966,
                    1,
                    0.6000000000000001,
                    0.75,
                    0.9,
                    0.8,
                    0.5357142857142857,
                    0.0625,
                    0,
                    0.5666666666666667,
                    0.9,
                    0.5666666666666667,
                    0.575,
                    0.5,
                    0.32417582417582413,
                    0.4178571428571428,
                    0.7333333333333334,
                    0.75,
                    0.25,
                    0.6,
                    1,
                    0.5666666666666667,
                    0.8,
                    0.9,
                    0.7,
                    0.6499999999999999,
                    0.7,
                    0.5,
                    0.8,
                    0.5,
                    0.6,
                    0.7,
                    0.0625,
                    0.55,
                    0.575,
                    0,
                    0.8,
                    0.4178571428571428,
                    0.262962962962963,
                    0.6499999999999999,
                    0.6000000000000001,
                    0.6666666666666666,
                    0.6499999999999999,
                    0.675,
                    0.32417582417582413,
                    0.0625,
                    0.8,
                    0.6000000000000001,
                    0.7,
                    1,
                    0.0625,
                    0.6499999999999999,
                    0.7,
                    0,
                    0.6666666666666666,
                    0.8,
                    0.5666666666666667,
                    0.8,
                    0.5,
                    0.7,
                    0.6,
                    0.6499999999999999,
                    0.24444444444444446,
                    0.8,
                    0.5,
                    0.5,
                    0.5,
                    0,
                    0.75,
                    0.7,
                    0.6000000000000001,
                    0.3,
                    0.6000000000000001,
                    0.7333333333333334,
                    0.262962962962963,
                    0.6,
                    0,
                    0.5,
                    0.8
                  ],
                  "y": [
                    0.3666666666666667,
                    0,
                    0,
                    1,
                    0.7875,
                    1,
                    0,
                    1,
                    0.8625,
                    0,
                    0.625,
                    0.35,
                    0,
                    0.85,
                    0.17857142857142858,
                    0.35,
                    0.35,
                    -0.25,
                    -0.16666666666666666,
                    0.8625,
                    1,
                    0.5249999999999999,
                    0.625,
                    1,
                    0,
                    0.5,
                    0.5249999999999999,
                    0.5249999999999999,
                    -0.234375,
                    -0.16666666666666666,
                    1,
                    0.13333333333333333,
                    0.8,
                    0.95,
                    0.85,
                    0.3666666666666667,
                    1,
                    0.17857142857142858,
                    0.13333333333333333,
                    -0.1875,
                    0.3666666666666667,
                    0.1,
                    1,
                    0,
                    -0.16666666666666666,
                    0.4666666666666666,
                    -0.5,
                    0,
                    0,
                    0.9,
                    0.5,
                    0,
                    1,
                    -0.25,
                    0.875,
                    0,
                    1,
                    -0.25,
                    1,
                    0.2857142857142857,
                    0.9,
                    -0.1875,
                    0,
                    -0.15,
                    0.5,
                    0.9,
                    0.5,
                    0.45,
                    0,
                    1,
                    0,
                    0.4666666666666666,
                    1,
                    0.17857142857142858,
                    0,
                    -0.16666666666666666,
                    0.875,
                    0.9,
                    -0.25,
                    0.875,
                    0.65,
                    0,
                    0.2857142857142857,
                    0,
                    0.4666666666666666,
                    0.35,
                    0,
                    0.25625,
                    0.8625,
                    0.18148148148148147,
                    1,
                    1,
                    0.5,
                    0,
                    0,
                    0,
                    0.65,
                    0.71875,
                    0,
                    0,
                    0,
                    -0.15,
                    0.2857142857142857,
                    0.625,
                    0.5249999999999999,
                    0,
                    0,
                    -0.234375,
                    -0.3,
                    -0.16666666666666666,
                    0.13333333333333333,
                    0.39285714285714285,
                    0.8625,
                    0.4666666666666666,
                    0,
                    0.925,
                    0,
                    0.17857142857142858,
                    0.5,
                    -0.04999999999999999,
                    0.8,
                    0,
                    -0.25,
                    0.625,
                    -0.16666666666666666,
                    0.625,
                    0.39285714285714285,
                    0.4666666666666666,
                    0.17857142857142858,
                    0,
                    0.5,
                    -0.25,
                    0.71875,
                    0.7,
                    0,
                    0,
                    -0.16666666666666666,
                    0,
                    0,
                    0,
                    0,
                    -0.25,
                    0,
                    -0.234375,
                    0.9,
                    0.022222222222222213,
                    0.17857142857142858,
                    0.71875,
                    0,
                    0,
                    1,
                    0.4666666666666666,
                    -0.25,
                    0.2857142857142857,
                    0,
                    0,
                    -0.234375,
                    0,
                    0.8625,
                    0.9,
                    0.2857142857142857,
                    0.9,
                    0,
                    0.65,
                    -0.1875,
                    -0.04999999999999999,
                    1,
                    0.5249999999999999,
                    1,
                    0.625,
                    0.45,
                    0.3666666666666667,
                    0,
                    0.875,
                    0.7875,
                    0.5249999999999999,
                    0.85,
                    -0.04999999999999999,
                    0,
                    0,
                    0.39285714285714285,
                    0.9,
                    0.25625,
                    0.925,
                    0.9,
                    0,
                    0.8625,
                    0.8625,
                    1,
                    1,
                    0.15,
                    0.17857142857142858,
                    0.7,
                    0,
                    0.45,
                    0,
                    0,
                    -0.1875,
                    0.7,
                    0.875,
                    0.4666666666666666,
                    0.625,
                    0.5,
                    0.3666666666666667,
                    0.17857142857142858,
                    0,
                    0.5249999999999999,
                    0.9,
                    0.18148148148148147,
                    0.4666666666666666,
                    0,
                    0.15,
                    -0.25,
                    0,
                    0.5249999999999999,
                    -0.1875,
                    0,
                    0,
                    0.5,
                    0.4666666666666666,
                    0.022222222222222213,
                    0,
                    0,
                    0.71875,
                    1,
                    0.85,
                    0.45,
                    0.875,
                    0,
                    1,
                    0.17857142857142858,
                    0.17857142857142858,
                    0,
                    0.8083333333333332,
                    0.6428571428571428,
                    0,
                    0.9,
                    0,
                    0.4666666666666666,
                    0.35,
                    0,
                    0.8625,
                    0.8625,
                    0.5,
                    -0.16666666666666666,
                    1,
                    0.35,
                    0,
                    0.4666666666666666,
                    0,
                    0.45,
                    1,
                    0,
                    -0.04999999999999999,
                    0.875,
                    0.34814814814814815,
                    0.35,
                    1,
                    0,
                    0.18148148148148147,
                    0,
                    0.4666666666666666,
                    1,
                    0.45,
                    0,
                    0.8083333333333332,
                    0,
                    0.875,
                    0.17857142857142858,
                    0.4666666666666666,
                    -0.1875,
                    0.4666666666666666,
                    0,
                    0.35,
                    0.17857142857142858,
                    0,
                    -0.04999999999999999,
                    -0.16666666666666666,
                    1,
                    0,
                    1,
                    1,
                    0.85,
                    0,
                    0.85,
                    -0.5,
                    0.022222222222222213,
                    0.35,
                    -0.3,
                    -0.16666666666666666,
                    -0.25,
                    0.5,
                    0.17857142857142858,
                    0,
                    -0.234375,
                    0.39285714285714285,
                    0.71875,
                    0.2857142857142857,
                    0.25625,
                    0,
                    0,
                    1,
                    0.35,
                    0,
                    0.5,
                    -0.234375,
                    0.35,
                    0,
                    0.17857142857142858,
                    0.2857142857142857,
                    0.65,
                    0,
                    0,
                    1,
                    1,
                    -0.15,
                    0,
                    0.39285714285714285,
                    1,
                    1,
                    0,
                    0.4666666666666666,
                    0.85,
                    0,
                    1,
                    0,
                    0,
                    0,
                    0.17857142857142858,
                    0,
                    0.17857142857142858,
                    0.45,
                    0.3666666666666667,
                    -0.1875,
                    0,
                    0,
                    -0.25,
                    0.35,
                    0.4666666666666666,
                    1,
                    0.5,
                    0,
                    0.625,
                    0,
                    0,
                    0.35,
                    0.25625,
                    0,
                    0,
                    0.15,
                    -0.234375,
                    -0.16666666666666666,
                    0.5,
                    0.5,
                    0.5,
                    0.925,
                    0.8083333333333332,
                    0.71875,
                    0,
                    0.925,
                    0,
                    0.625,
                    1,
                    0.15,
                    0.9,
                    0,
                    0.2857142857142857,
                    0.9,
                    0,
                    0,
                    0.625,
                    0,
                    1,
                    0.35,
                    -0.1875,
                    1,
                    0.71875,
                    -0.234375,
                    -0.25,
                    1,
                    0.8083333333333332,
                    -0.25,
                    0,
                    0.022222222222222213,
                    0,
                    0,
                    0.18148148148148147,
                    1,
                    -0.16666666666666666,
                    -0.04999999999999999,
                    0,
                    0.4666666666666666,
                    0.71875,
                    0,
                    0.022222222222222213,
                    0.4666666666666666,
                    -0.04999999999999999,
                    0,
                    0.17857142857142858,
                    0,
                    0,
                    0,
                    0.4666666666666666,
                    0,
                    0,
                    0.39285714285714285,
                    1,
                    0.625,
                    0,
                    0.4666666666666666,
                    1,
                    1,
                    0.1,
                    0.25625,
                    -0.16666666666666666,
                    0.875,
                    0.625,
                    0.3666666666666667,
                    0.8625,
                    0.5249999999999999,
                    1,
                    0.625,
                    0.2857142857142857,
                    0,
                    0.7,
                    0.8625,
                    0.71875,
                    0.022222222222222213,
                    1,
                    1,
                    0,
                    0.875,
                    0.25625,
                    0.8625,
                    0.022222222222222213,
                    1,
                    0.5,
                    0,
                    0.5249999999999999,
                    0.8083333333333332,
                    0.925,
                    0.8,
                    -0.16666666666666666,
                    0.8,
                    0.9,
                    0,
                    0.875,
                    0.8083333333333332,
                    -0.16666666666666666,
                    0,
                    0,
                    -0.25,
                    -0.25,
                    0.35,
                    0.4666666666666666,
                    0.5249999999999999,
                    -0.234375,
                    -0.16666666666666666,
                    0,
                    0,
                    0,
                    0,
                    0,
                    0.625,
                    0.15,
                    0.2857142857142857,
                    0.17857142857142858,
                    0,
                    -0.3,
                    0.35,
                    1,
                    0,
                    1,
                    0.4666666666666666,
                    0.3666666666666667,
                    0.7,
                    -0.16666666666666666,
                    -0.5,
                    0.71875,
                    0.8625,
                    0.925,
                    0.71875,
                    0.65,
                    0.625,
                    0.5,
                    -0.1875,
                    0,
                    0.625,
                    0,
                    0.6428571428571428,
                    0.875,
                    1,
                    0,
                    0.71875,
                    0.3666666666666667,
                    0.5,
                    0,
                    0,
                    -0.16666666666666666,
                    0,
                    0,
                    0,
                    0.15,
                    0.9,
                    0.25625,
                    0,
                    0,
                    0.4666666666666666,
                    0,
                    0.5,
                    0.5,
                    1,
                    0.5,
                    0.35,
                    0.7875,
                    0.9,
                    0.15,
                    0,
                    0.5,
                    1,
                    0.5249999999999999,
                    1,
                    1,
                    -0.25,
                    0,
                    -0.234375,
                    0.35,
                    0,
                    0.5249999999999999,
                    0,
                    0,
                    1,
                    0.95,
                    0,
                    0.8,
                    1,
                    0.8625,
                    0.35,
                    0.3666666666666667,
                    0.625,
                    0.5,
                    0.3666666666666667,
                    0.95,
                    0.3666666666666667,
                    0.8,
                    0.65,
                    1,
                    0,
                    0,
                    0.25625,
                    0,
                    0,
                    0.25625,
                    0.625,
                    0.5,
                    0.15,
                    0,
                    0.5,
                    0.17857142857142858,
                    -0.25,
                    -0.1875,
                    -0.3,
                    1,
                    0.9,
                    0.7875,
                    0,
                    1,
                    -0.04999999999999999,
                    1,
                    0.3666666666666667,
                    -0.16666666666666666,
                    0,
                    0.85,
                    0.022222222222222213,
                    0,
                    0,
                    0.3666666666666667,
                    0.34814814814814815,
                    0.34814814814814815,
                    0,
                    0,
                    -0.3,
                    0.875,
                    1,
                    1,
                    0.5,
                    0,
                    0.5,
                    0.5,
                    0.2857142857142857,
                    0.2857142857142857,
                    0.25625,
                    -0.1875,
                    0,
                    -0.25,
                    0.5,
                    -0.234375,
                    0,
                    0.45,
                    0.5,
                    0.7875,
                    0.5,
                    0.5,
                    0.25625,
                    0,
                    0.3666666666666667,
                    0.18148148148148147,
                    0.65,
                    0.5,
                    1,
                    0,
                    0.85,
                    0.3666666666666667,
                    0.8083333333333332,
                    0,
                    0.4666666666666666,
                    0.925,
                    0,
                    0.875,
                    0.3666666666666667,
                    0.8625,
                    1,
                    0,
                    0,
                    -0.16666666666666666,
                    0.85,
                    -0.25,
                    0,
                    0.8083333333333332,
                    -0.16666666666666666,
                    0.4666666666666666,
                    0.4666666666666666,
                    1,
                    1,
                    0.5,
                    0.95,
                    0.13333333333333333,
                    -0.1875,
                    1,
                    0.5,
                    0.85,
                    -0.16666666666666666,
                    -0.5,
                    0,
                    0.9,
                    0.18148148148148147,
                    0,
                    0,
                    0.7875,
                    0,
                    0,
                    0.17857142857142858,
                    1,
                    1,
                    0,
                    -0.16666666666666666,
                    0,
                    0,
                    1,
                    -0.16666666666666666,
                    -0.5,
                    0.13333333333333333,
                    0.1,
                    0.5,
                    0,
                    0.5,
                    0,
                    0,
                    -0.25,
                    0.5,
                    0,
                    0.9,
                    -0.3,
                    0,
                    0,
                    0.45,
                    0,
                    0.9,
                    0.625,
                    0,
                    -0.1875,
                    0.925,
                    0.1,
                    0.625,
                    0,
                    0,
                    0,
                    -0.16666666666666666,
                    1,
                    0,
                    -0.04999999999999999,
                    0.625,
                    0,
                    0.9,
                    0,
                    0,
                    0.17857142857142858,
                    0.9,
                    0.5,
                    1,
                    0.9,
                    0.65,
                    0.45,
                    1,
                    0,
                    0.35,
                    0,
                    0,
                    0,
                    0.15,
                    0.5,
                    0.1,
                    0.4666666666666666,
                    0,
                    -0.04999999999999999,
                    0,
                    0,
                    0,
                    1,
                    0,
                    0,
                    0,
                    0.17857142857142858,
                    0,
                    0.85,
                    0,
                    0,
                    -0.15,
                    0.5,
                    0.45,
                    0.9,
                    0,
                    0.875,
                    0.5,
                    0,
                    -0.16666666666666666,
                    0,
                    0,
                    0,
                    0.5,
                    0.4666666666666666,
                    0.625,
                    0.925,
                    0,
                    0.85,
                    0.4666666666666666,
                    1,
                    0.5,
                    0,
                    0.022222222222222213,
                    0.85,
                    -0.25,
                    -0.25,
                    0.5,
                    0.17857142857142858,
                    0,
                    0,
                    -0.25,
                    0,
                    0.4666666666666666,
                    0.5,
                    0.17857142857142858,
                    0,
                    0.4666666666666666,
                    0.8625,
                    0.5,
                    0.35,
                    0,
                    1,
                    1,
                    0,
                    0,
                    0,
                    0.875,
                    0.5,
                    0.9,
                    0.65,
                    0,
                    0.3666666666666667,
                    0.9,
                    0.13333333333333333,
                    0,
                    0.5,
                    0.95,
                    0.022222222222222213,
                    -0.25,
                    0,
                    0.6428571428571428,
                    -0.1875,
                    0.4666666666666666,
                    0.17857142857142858,
                    0,
                    0.8,
                    0,
                    0.2857142857142857,
                    0,
                    0.15,
                    0.8625,
                    0,
                    0.17857142857142858,
                    0.15,
                    0.9,
                    0.7875,
                    0.34814814814814815,
                    0,
                    0,
                    0.8083333333333332,
                    0.65,
                    0.625,
                    0,
                    0.4666666666666666,
                    0.875,
                    0,
                    0,
                    1,
                    0.625,
                    0,
                    0,
                    0.13333333333333333,
                    0.2857142857142857,
                    0.2857142857142857,
                    0,
                    0.625,
                    0.5249999999999999,
                    0.15,
                    -0.3,
                    1,
                    0.5249999999999999,
                    -0.1875,
                    0,
                    0,
                    1,
                    0,
                    0.17857142857142858,
                    0.17857142857142858,
                    0.18148148148148147,
                    0.4666666666666666,
                    1,
                    0.71875,
                    1,
                    0.4666666666666666,
                    0,
                    1,
                    0.15,
                    0.2857142857142857,
                    0.8625,
                    1,
                    1,
                    0.65,
                    0.9,
                    -0.3,
                    0.35,
                    0.625,
                    -0.3,
                    0.4666666666666666,
                    0.625,
                    0.25625,
                    0.875,
                    0,
                    0,
                    0.5249999999999999,
                    0,
                    0.022222222222222213,
                    1,
                    0,
                    0.9,
                    0.7,
                    0.35,
                    0.3666666666666667,
                    0.5,
                    0,
                    0.9,
                    0,
                    0.5249999999999999,
                    0,
                    -0.234375,
                    0.17857142857142858,
                    0.8,
                    0,
                    0.6428571428571428,
                    0,
                    1,
                    0,
                    0,
                    0,
                    0.15,
                    0.17857142857142858,
                    0,
                    0.5,
                    0,
                    -0.1875,
                    0.5,
                    0,
                    0.022222222222222213,
                    0.4666666666666666,
                    0.022222222222222213,
                    0.17857142857142858,
                    0.4666666666666666,
                    0,
                    0.5,
                    0,
                    -0.5,
                    0.35,
                    0,
                    -0.25,
                    0.9,
                    0,
                    1,
                    0.4666666666666666,
                    0.5,
                    0.35,
                    0.8083333333333332,
                    -0.1875,
                    0.39285714285714285,
                    -0.25,
                    0,
                    0.1,
                    0.5,
                    0.9,
                    -0.3,
                    0.8083333333333332,
                    0.15,
                    0,
                    0,
                    0.35,
                    1,
                    0,
                    0.5,
                    0.15,
                    0,
                    0.4666666666666666,
                    -0.3,
                    0.4666666666666666,
                    0.85,
                    0,
                    0,
                    0,
                    0.2857142857142857,
                    1,
                    0.8625,
                    0.15,
                    0.625,
                    1,
                    0.875,
                    0,
                    0.39285714285714285,
                    1,
                    1,
                    0.71875,
                    1,
                    0.625,
                    0.15,
                    -0.25,
                    0.15,
                    -0.16666666666666666,
                    0,
                    0,
                    0.7875,
                    0.5249999999999999,
                    0,
                    0.8625,
                    0.1,
                    -0.16666666666666666,
                    0,
                    0.625,
                    -0.1875,
                    0.5,
                    0,
                    0.9,
                    0,
                    0.8,
                    0.4666666666666666,
                    0.17857142857142858,
                    0,
                    0.875,
                    0.3666666666666667,
                    0.875,
                    0,
                    0.5249999999999999,
                    0.8625,
                    0.5,
                    1,
                    0.35,
                    0.6428571428571428,
                    0.34814814814814815,
                    0.6428571428571428,
                    0,
                    0,
                    0,
                    1,
                    1,
                    0.71875,
                    1,
                    0,
                    0.4666666666666666,
                    0.8625,
                    0.3666666666666667,
                    0.18148148148148147,
                    0.17857142857142858,
                    -0.234375,
                    0.4666666666666666,
                    0,
                    0,
                    1,
                    0.3666666666666667,
                    0,
                    0,
                    1,
                    0.3666666666666667,
                    -0.3,
                    0.9,
                    0.18148148148148147,
                    -0.234375,
                    0.4666666666666666,
                    0,
                    0.71875,
                    0.4666666666666666,
                    -0.1875,
                    -0.16666666666666666,
                    1,
                    1,
                    0.7,
                    0.9,
                    0.35,
                    0,
                    0.6428571428571428,
                    0.25625,
                    -0.234375,
                    -0.1875,
                    0.17857142857142858,
                    -0.1875,
                    0,
                    0,
                    0.25625,
                    0.25625,
                    0,
                    0.45,
                    0,
                    0.95,
                    0.8083333333333332,
                    0.8625,
                    0,
                    0.2857142857142857,
                    0,
                    0,
                    0.4666666666666666,
                    0.3666666666666667,
                    1,
                    0.18148148148148147,
                    0,
                    0,
                    0,
                    -0.16666666666666666,
                    0.3666666666666667,
                    0.3666666666666667,
                    -0.16666666666666666,
                    0.1,
                    0,
                    0.9,
                    0.3666666666666667,
                    -0.15,
                    0,
                    -0.234375,
                    0.35,
                    1,
                    0.3666666666666667,
                    0,
                    -0.1875,
                    -0.25,
                    1,
                    0.5249999999999999,
                    0,
                    0.71875,
                    0.35,
                    0.3666666666666667,
                    0,
                    0.8625,
                    -0.25,
                    0.17857142857142858,
                    0.875,
                    0.35,
                    0.71875,
                    0,
                    0.65,
                    0,
                    0.7875,
                    0,
                    0.8625,
                    0.5,
                    -0.25,
                    0.4666666666666666,
                    1,
                    0.625,
                    0.17857142857142858,
                    0,
                    0,
                    0.15,
                    0.35,
                    0.4666666666666666,
                    0,
                    0.2857142857142857,
                    0.17857142857142858,
                    -0.3,
                    0.5,
                    0.5,
                    0.9,
                    0,
                    0.8,
                    0,
                    0.8625,
                    0.5249999999999999,
                    0.5,
                    0.8625,
                    0.5,
                    0.71875,
                    0,
                    0.5,
                    0.5249999999999999,
                    -0.234375,
                    0,
                    -0.25,
                    0.18148148148148147,
                    0,
                    0.875,
                    1,
                    1,
                    0.8625,
                    0.2857142857142857,
                    0,
                    0,
                    0.3666666666666667,
                    1,
                    0.3666666666666667,
                    0.45,
                    -0.1875,
                    0.17857142857142858,
                    0.6428571428571428,
                    0.8083333333333332,
                    1,
                    -0.25,
                    0,
                    0,
                    0.4666666666666666,
                    0.8625,
                    0.9,
                    0.71875,
                    0.15,
                    0.71875,
                    -0.16666666666666666,
                    0.8625,
                    0.5,
                    0,
                    0.625,
                    0,
                    0.25625,
                    0.45,
                    0,
                    0.35,
                    0.6428571428571428,
                    0.34814814814814815,
                    0.15,
                    1,
                    0.65,
                    0.15,
                    0.85,
                    0.17857142857142858,
                    0,
                    0.8625,
                    0.875,
                    0.71875,
                    0,
                    0,
                    0.15,
                    0.7,
                    0,
                    0.65,
                    0.8625,
                    0.3666666666666667,
                    0.8625,
                    0.5,
                    0.625,
                    0,
                    0.15,
                    0.022222222222222213,
                    0.35,
                    -0.1875,
                    -0.16666666666666666,
                    -0.1875,
                    0,
                    1,
                    0.71875,
                    0.35,
                    1,
                    0.875,
                    0.8083333333333332,
                    0.34814814814814815,
                    0,
                    0,
                    0.5,
                    0.925
                  ],
                  "type": "scatter",
                  "xaxis": "x4",
                  "yaxis": "y4"
                },
                {
                  "hovertemplate": "<b>Daily Trend</b><br>Date: %{x}<br>Avg Polarity: %{y:.3f}<extra></extra>",
                  "line": {
                    "color": "#2E86AB",
                    "width": 3
                  },
                  "marker": {
                    "size": 8
                  },
                  "mode": "lines+markers",
                  "name": "Daily Trend",
                  "showlegend": false,
                  "x": [
                    "2025-06-22",
                    "2025-06-23",
                    "2025-06-24",
                    "2025-06-25",
                    "2025-06-26",
                    "2025-06-27",
                    "2025-06-28",
                    "2025-06-29"
                  ],
                  "y": [
                    0.355380678297345,
                    0.35118989603638723,
                    0.33021809926049694,
                    0.3558857627353267,
                    0.2954488845570717,
                    0.3378081585135679,
                    0.3483524590797983,
                    0.40471016811742616
                  ],
                  "type": "scatter",
                  "xaxis": "x5",
                  "yaxis": "y5"
                }
              ],
              "layout": {
                "template": {
                  "data": {
                    "histogram2dcontour": [
                      {
                        "type": "histogram2dcontour",
                        "colorbar": {
                          "outlinewidth": 0,
                          "ticks": ""
                        },
                        "colorscale": [
                          [
                            0,
                            "#0d0887"
                          ],
                          [
                            0.1111111111111111,
                            "#46039f"
                          ],
                          [
                            0.2222222222222222,
                            "#7201a8"
                          ],
                          [
                            0.3333333333333333,
                            "#9c179e"
                          ],
                          [
                            0.4444444444444444,
                            "#bd3786"
                          ],
                          [
                            0.5555555555555556,
                            "#d8576b"
                          ],
                          [
                            0.6666666666666666,
                            "#ed7953"
                          ],
                          [
                            0.7777777777777778,
                            "#fb9f3a"
                          ],
                          [
                            0.8888888888888888,
                            "#fdca26"
                          ],
                          [
                            1,
                            "#f0f921"
                          ]
                        ]
                      }
                    ],
                    "choropleth": [
                      {
                        "type": "choropleth",
                        "colorbar": {
                          "outlinewidth": 0,
                          "ticks": ""
                        }
                      }
                    ],
                    "histogram2d": [
                      {
                        "type": "histogram2d",
                        "colorbar": {
                          "outlinewidth": 0,
                          "ticks": ""
                        },
                        "colorscale": [
                          [
                            0,
                            "#0d0887"
                          ],
                          [
                            0.1111111111111111,
                            "#46039f"
                          ],
                          [
                            0.2222222222222222,
                            "#7201a8"
                          ],
                          [
                            0.3333333333333333,
                            "#9c179e"
                          ],
                          [
                            0.4444444444444444,
                            "#bd3786"
                          ],
                          [
                            0.5555555555555556,
                            "#d8576b"
                          ],
                          [
                            0.6666666666666666,
                            "#ed7953"
                          ],
                          [
                            0.7777777777777778,
                            "#fb9f3a"
                          ],
                          [
                            0.8888888888888888,
                            "#fdca26"
                          ],
                          [
                            1,
                            "#f0f921"
                          ]
                        ]
                      }
                    ],
                    "heatmap": [
                      {
                        "type": "heatmap",
                        "colorbar": {
                          "outlinewidth": 0,
                          "ticks": ""
                        },
                        "colorscale": [
                          [
                            0,
                            "#0d0887"
                          ],
                          [
                            0.1111111111111111,
                            "#46039f"
                          ],
                          [
                            0.2222222222222222,
                            "#7201a8"
                          ],
                          [
                            0.3333333333333333,
                            "#9c179e"
                          ],
                          [
                            0.4444444444444444,
                            "#bd3786"
                          ],
                          [
                            0.5555555555555556,
                            "#d8576b"
                          ],
                          [
                            0.6666666666666666,
                            "#ed7953"
                          ],
                          [
                            0.7777777777777778,
                            "#fb9f3a"
                          ],
                          [
                            0.8888888888888888,
                            "#fdca26"
                          ],
                          [
                            1,
                            "#f0f921"
                          ]
                        ]
                      }
                    ],
                    "heatmapgl": [
                      {
                        "type": "heatmapgl",
                        "colorbar": {
                          "outlinewidth": 0,
                          "ticks": ""
                        },
                        "colorscale": [
                          [
                            0,
                            "#0d0887"
                          ],
                          [
                            0.1111111111111111,
                            "#46039f"
                          ],
                          [
                            0.2222222222222222,
                            "#7201a8"
                          ],
                          [
                            0.3333333333333333,
                            "#9c179e"
                          ],
                          [
                            0.4444444444444444,
                            "#bd3786"
                          ],
                          [
                            0.5555555555555556,
                            "#d8576b"
                          ],
                          [
                            0.6666666666666666,
                            "#ed7953"
                          ],
                          [
                            0.7777777777777778,
                            "#fb9f3a"
                          ],
                          [
                            0.8888888888888888,
                            "#fdca26"
                          ],
                          [
                            1,
                            "#f0f921"
                          ]
                        ]
                      }
                    ],
                    "contourcarpet": [
                      {
                        "type": "contourcarpet",
                        "colorbar": {
                          "outlinewidth": 0,
                          "ticks": ""
                        }
                      }
                    ],
                    "contour": [
                      {
                        "type": "contour",
                        "colorbar": {
                          "outlinewidth": 0,
                          "ticks": ""
                        },
                        "colorscale": [
                          [
                            0,
                            "#0d0887"
                          ],
                          [
                            0.1111111111111111,
                            "#46039f"
                          ],
                          [
                            0.2222222222222222,
                            "#7201a8"
                          ],
                          [
                            0.3333333333333333,
                            "#9c179e"
                          ],
                          [
                            0.4444444444444444,
                            "#bd3786"
                          ],
                          [
                            0.5555555555555556,
                            "#d8576b"
                          ],
                          [
                            0.6666666666666666,
                            "#ed7953"
                          ],
                          [
                            0.7777777777777778,
                            "#fb9f3a"
                          ],
                          [
                            0.8888888888888888,
                            "#fdca26"
                          ],
                          [
                            1,
                            "#f0f921"
                          ]
                        ]
                      }
                    ],
                    "surface": [
                      {
                        "type": "surface",
                        "colorbar": {
                          "outlinewidth": 0,
                          "ticks": ""
                        },
                        "colorscale": [
                          [
                            0,
                            "#0d0887"
                          ],
                          [
                            0.1111111111111111,
                            "#46039f"
                          ],
                          [
                            0.2222222222222222,
                            "#7201a8"
                          ],
                          [
                            0.3333333333333333,
                            "#9c179e"
                          ],
                          [
                            0.4444444444444444,
                            "#bd3786"
                          ],
                          [
                            0.5555555555555556,
                            "#d8576b"
                          ],
                          [
                            0.6666666666666666,
                            "#ed7953"
                          ],
                          [
                            0.7777777777777778,
                            "#fb9f3a"
                          ],
                          [
                            0.8888888888888888,
                            "#fdca26"
                          ],
                          [
                            1,
                            "#f0f921"
                          ]
                        ]
                      }
                    ],
                    "mesh3d": [
                      {
                        "type": "mesh3d",
                        "colorbar": {
                          "outlinewidth": 0,
                          "ticks": ""
                        }
                      }
                    ],
                    "scatter": [
                      {
                        "fillpattern": {
                          "fillmode": "overlay",
                          "size": 10,
                          "solidity": 0.2
                        },
                        "type": "scatter"
                      }
                    ],
                    "parcoords": [
                      {
                        "type": "parcoords",
                        "line": {
                          "colorbar": {
                            "outlinewidth": 0,
                            "ticks": ""
                          }
                        }
                      }
                    ],
                    "scatterpolargl": [
                      {
                        "type": "scatterpolargl",
                        "marker": {
                          "colorbar": {
                            "outlinewidth": 0,
                            "ticks": ""
                          }
                        }
                      }
                    ],
                    "bar": [
                      {
                        "error_x": {
                          "color": "#2a3f5f"
                        },
                        "error_y": {
                          "color": "#2a3f5f"
                        },
                        "marker": {
                          "line": {
                            "color": "#E5ECF6",
                            "width": 0.5
                          },
                          "pattern": {
                            "fillmode": "overlay",
                            "size": 10,
                            "solidity": 0.2
                          }
                        },
                        "type": "bar"
                      }
                    ],
                    "scattergeo": [
                      {
                        "type": "scattergeo",
                        "marker": {
                          "colorbar": {
                            "outlinewidth": 0,
                            "ticks": ""
                          }
                        }
                      }
                    ],
                    "scatterpolar": [
                      {
                        "type": "scatterpolar",
                        "marker": {
                          "colorbar": {
                            "outlinewidth": 0,
                            "ticks": ""
                          }
                        }
                      }
                    ],
                    "histogram": [
                      {
                        "marker": {
                          "pattern": {
                            "fillmode": "overlay",
                            "size": 10,
                            "solidity": 0.2
                          }
                        },
                        "type": "histogram"
                      }
                    ],
                    "scattergl": [
                      {
                        "type": "scattergl",
                        "marker": {
                          "colorbar": {
                            "outlinewidth": 0,
                            "ticks": ""
                          }
                        }
                      }
                    ],
                    "scatter3d": [
                      {
                        "type": "scatter3d",
                        "line": {
                          "colorbar": {
                            "outlinewidth": 0,
                            "ticks": ""
                          }
                        },
                        "marker": {
                          "colorbar": {
                            "outlinewidth": 0,
                            "ticks": ""
                          }
                        }
                      }
                    ],
                    "scattermapbox": [
                      {
                        "type": "scattermapbox",
                        "marker": {
                          "colorbar": {
                            "outlinewidth": 0,
                            "ticks": ""
                          }
                        }
                      }
                    ],
                    "scatterternary": [
                      {
                        "type": "scatterternary",
                        "marker": {
                          "colorbar": {
                            "outlinewidth": 0,
                            "ticks": ""
                          }
                        }
                      }
                    ],
                    "scattercarpet": [
                      {
                        "type": "scattercarpet",
                        "marker": {
                          "colorbar": {
                            "outlinewidth": 0,
                            "ticks": ""
                          }
                        }
                      }
                    ],
                    "carpet": [
                      {
                        "aaxis": {
                          "endlinecolor": "#2a3f5f",
                          "gridcolor": "white",
                          "linecolor": "white",
                          "minorgridcolor": "white",
                          "startlinecolor": "#2a3f5f"
                        },
                        "baxis": {
                          "endlinecolor": "#2a3f5f",
                          "gridcolor": "white",
                          "linecolor": "white",
                          "minorgridcolor": "white",
                          "startlinecolor": "#2a3f5f"
                        },
                        "type": "carpet"
                      }
                    ],
                    "table": [
                      {
                        "cells": {
                          "fill": {
                            "color": "#EBF0F8"
                          },
                          "line": {
                            "color": "white"
                          }
                        },
                        "header": {
                          "fill": {
                            "color": "#C8D4E3"
                          },
                          "line": {
                            "color": "white"
                          }
                        },
                        "type": "table"
                      }
                    ],
                    "barpolar": [
                      {
                        "marker": {
                          "line": {
                            "color": "#E5ECF6",
                            "width": 0.5
                          },
                          "pattern": {
                            "fillmode": "overlay",
                            "size": 10,
                            "solidity": 0.2
                          }
                        },
                        "type": "barpolar"
                      }
                    ],
                    "pie": [
                      {
                        "automargin": true,
                        "type": "pie"
                      }
                    ]
                  },
                  "layout": {
                    "autotypenumbers": "strict",
                    "colorway": [
                      "#636efa",
                      "#EF553B",
                      "#00cc96",
                      "#ab63fa",
                      "#FFA15A",
                      "#19d3f3",
                      "#FF6692",
                      "#B6E880",
                      "#FF97FF",
                      "#FECB52"
                    ],
                    "font": {
                      "color": "#2a3f5f"
                    },
                    "hovermode": "closest",
                    "hoverlabel": {
                      "align": "left"
                    },
                    "paper_bgcolor": "white",
                    "plot_bgcolor": "#E5ECF6",
                    "polar": {
                      "bgcolor": "#E5ECF6",
                      "angularaxis": {
                        "gridcolor": "white",
                        "linecolor": "white",
                        "ticks": ""
                      },
                      "radialaxis": {
                        "gridcolor": "white",
                        "linecolor": "white",
                        "ticks": ""
                      }
                    },
                    "ternary": {
                      "bgcolor": "#E5ECF6",
                      "aaxis": {
                        "gridcolor": "white",
                        "linecolor": "white",
                        "ticks": ""
                      },
                      "baxis": {
                        "gridcolor": "white",
                        "linecolor": "white",
                        "ticks": ""
                      },
                      "caxis": {
                        "gridcolor": "white",
                        "linecolor": "white",
                        "ticks": ""
                      }
                    },
                    "coloraxis": {
                      "colorbar": {
                        "outlinewidth": 0,
                        "ticks": ""
                      }
                    },
                    "colorscale": {
                      "sequential": [
                        [
                          0,
                          "#0d0887"
                        ],
                        [
                          0.1111111111111111,
                          "#46039f"
                        ],
                        [
                          0.2222222222222222,
                          "#7201a8"
                        ],
                        [
                          0.3333333333333333,
                          "#9c179e"
                        ],
                        [
                          0.4444444444444444,
                          "#bd3786"
                        ],
                        [
                          0.5555555555555556,
                          "#d8576b"
                        ],
                        [
                          0.6666666666666666,
                          "#ed7953"
                        ],
                        [
                          0.7777777777777778,
                          "#fb9f3a"
                        ],
                        [
                          0.8888888888888888,
                          "#fdca26"
                        ],
                        [
                          1,
                          "#f0f921"
                        ]
                      ],
                      "sequentialminus": [
                        [
                          0,
                          "#0d0887"
                        ],
                        [
                          0.1111111111111111,
                          "#46039f"
                        ],
                        [
                          0.2222222222222222,
                          "#7201a8"
                        ],
                        [
                          0.3333333333333333,
                          "#9c179e"
                        ],
                        [
                          0.4444444444444444,
                          "#bd3786"
                        ],
                        [
                          0.5555555555555556,
                          "#d8576b"
                        ],
                        [
                          0.6666666666666666,
                          "#ed7953"
                        ],
                        [
                          0.7777777777777778,
                          "#fb9f3a"
                        ],
                        [
                          0.8888888888888888,
                          "#fdca26"
                        ],
                        [
                          1,
                          "#f0f921"
                        ]
                      ],
                      "diverging": [
                        [
                          0,
                          "#8e0152"
                        ],
                        [
                          0.1,
                          "#c51b7d"
                        ],
                        [
                          0.2,
                          "#de77ae"
                        ],
                        [
                          0.3,
                          "#f1b6da"
                        ],
                        [
                          0.4,
                          "#fde0ef"
                        ],
                        [
                          0.5,
                          "#f7f7f7"
                        ],
                        [
                          0.6,
                          "#e6f5d0"
                        ],
                        [
                          0.7,
                          "#b8e186"
                        ],
                        [
                          0.8,
                          "#7fbc41"
                        ],
                        [
                          0.9,
                          "#4d9221"
                        ],
                        [
                          1,
                          "#276419"
                        ]
                      ]
                    },
                    "xaxis": {
                      "gridcolor": "white",
                      "linecolor": "white",
                      "ticks": "",
                      "title": {
                        "standoff": 15
                      },
                      "zerolinecolor": "white",
                      "automargin": true,
                      "zerolinewidth": 2
                    },
                    "yaxis": {
                      "gridcolor": "white",
                      "linecolor": "white",
                      "ticks": "",
                      "title": {
                        "standoff": 15
                      },
                      "zerolinecolor": "white",
                      "automargin": true,
                      "zerolinewidth": 2
                    },
                    "scene": {
                      "xaxis": {
                        "backgroundcolor": "#E5ECF6",
                        "gridcolor": "white",
                        "linecolor": "white",
                        "showbackground": true,
                        "ticks": "",
                        "zerolinecolor": "white",
                        "gridwidth": 2
                      },
                      "yaxis": {
                        "backgroundcolor": "#E5ECF6",
                        "gridcolor": "white",
                        "linecolor": "white",
                        "showbackground": true,
                        "ticks": "",
                        "zerolinecolor": "white",
                        "gridwidth": 2
                      },
                      "zaxis": {
                        "backgroundcolor": "#E5ECF6",
                        "gridcolor": "white",
                        "linecolor": "white",
                        "showbackground": true,
                        "ticks": "",
                        "zerolinecolor": "white",
                        "gridwidth": 2
                      }
                    },
                    "shapedefaults": {
                      "line": {
                        "color": "#2a3f5f"
                      }
                    },
                    "annotationdefaults": {
                      "arrowcolor": "#2a3f5f",
                      "arrowhead": 0,
                      "arrowwidth": 1
                    },
                    "geo": {
                      "bgcolor": "white",
                      "landcolor": "#E5ECF6",
                      "subunitcolor": "white",
                      "showland": true,
                      "showlakes": true,
                      "lakecolor": "white"
                    },
                    "title": {
                      "x": 0.05
                    },
                    "mapbox": {
                      "style": "light"
                    }
                  }
                },
                "xaxis": {
                  "anchor": "y",
                  "domain": [
                    0.55,
                    1
                  ],
                  "title": {
                    "text": "Hour"
                  }
                },
                "yaxis": {
                  "anchor": "x",
                  "domain": [
                    0.72,
                    1
                  ],
                  "title": {
                    "text": "Count"
                  }
                },
                "xaxis2": {
                  "anchor": "y2",
                  "domain": [
                    0,
                    0.45
                  ],
                  "title": {
                    "text": "Emotion"
                  }
                },
                "yaxis2": {
                  "anchor": "x2",
                  "domain": [
                    0.36,
                    0.6399999999999999
                  ],
                  "title": {
                    "text": "Count"
                  }
                },
                "xaxis3": {
                  "anchor": "y3",
                  "domain": [
                    0.55,
                    1
                  ],
                  "title": {
                    "text": "Average Likes"
                  }
                },
                "yaxis3": {
                  "anchor": "x3",
                  "domain": [
                    0.36,
                    0.6399999999999999
                  ],
                  "title": {
                    "text": "Average Retweets"
                  }
                },
                "xaxis4": {
                  "anchor": "y4",
                  "domain": [
                    0,
                    0.45
                  ],
                  "title": {
                    "text": "Subjectivity"
                  }
                },
                "yaxis4": {
                  "anchor": "x4",
                  "domain": [
                    0,
                    0.27999999999999997
                  ],
                  "title": {
                    "text": "Polarity"
                  }
                },
                "xaxis5": {
                  "anchor": "y5",
                  "domain": [
                    0.55,
                    1
                  ],
                  "title": {
                    "text": "Date"
                  }
                },
                "yaxis5": {
                  "anchor": "x5",
                  "domain": [
                    0,
                    0.27999999999999997
                  ],
                  "title": {
                    "text": "Average Polarity"
                  }
                },
                "annotations": [
                  {
                    "font": {
                      "size": 16
                    },
                    "showarrow": false,
                    "text": "Sentiment Distribution",
                    "x": 0.225,
                    "xanchor": "center",
                    "xref": "paper",
                    "y": 1,
                    "yanchor": "bottom",
                    "yref": "paper"
                  },
                  {
                    "font": {
                      "size": 16
                    },
                    "showarrow": false,
                    "text": "Hourly Sentiment Patterns",
                    "x": 0.775,
                    "xanchor": "center",
                    "xref": "paper",
                    "y": 1,
                    "yanchor": "bottom",
                    "yref": "paper"
                  },
                  {
                    "font": {
                      "size": 16
                    },
                    "showarrow": false,
                    "text": "Emotion Analysis",
                    "x": 0.225,
                    "xanchor": "center",
                    "xref": "paper",
                    "y": 0.6399999999999999,
                    "yanchor": "bottom",
                    "yref": "paper"
                  },
                  {
                    "font": {
                      "size": 16
                    },
                    "showarrow": false,
                    "text": "Engagement vs Sentiment",
                    "x": 0.775,
                    "xanchor": "center",
                    "xref": "paper",
                    "y": 0.6399999999999999,
                    "yanchor": "bottom",
                    "yref": "paper"
                  },
                  {
                    "font": {
                      "size": 16
                    },
                    "showarrow": false,
                    "text": "Polarity vs Subjectivity",
                    "x": 0.225,
                    "xanchor": "center",
                    "xref": "paper",
                    "y": 0.27999999999999997,
                    "yanchor": "bottom",
                    "yref": "paper"
                  },
                  {
                    "font": {
                      "size": 16
                    },
                    "showarrow": false,
                    "text": "Daily Trend",
                    "x": 0.775,
                    "xanchor": "center",
                    "xref": "paper",
                    "y": 0.27999999999999997,
                    "yanchor": "bottom",
                    "yref": "paper"
                  }
                ],
                "title": {
                  "font": {
                    "size": 24
                  },
                  "text": "Mood of the World Analysis Dashboard",
                  "x": 0.5
                },
                "font": {
                  "size": 12
                },
                "height": 1200,
                "paper_bgcolor": "white",
                "plot_bgcolor": "white"
              },
              "config": {
                "plotlyServerURL": "https://plot.ly"
              }
            },
            "text/html": [
              "<div>                            <div id=\"c9656765-99f3-4aae-ab1c-11fa4e09d6b5\" class=\"plotly-graph-div\" style=\"height:1200px; width:100%;\"></div>            <script type=\"text/javascript\">                require([\"plotly\"], function(Plotly) {                    window.PLOTLYENV=window.PLOTLYENV || {};                                    if (document.getElementById(\"c9656765-99f3-4aae-ab1c-11fa4e09d6b5\")) {                    Plotly.newPlot(                        \"c9656765-99f3-4aae-ab1c-11fa4e09d6b5\",                        [{\"hole\":0.3,\"hovertemplate\":\"\\u003cb\\u003e%{label}\\u003c\\u002fb\\u003e\\u003cbr\\u003eCount: %{value}\\u003cbr\\u003ePercentage: %{percent}\\u003cextra\\u003e\\u003c\\u002fextra\\u003e\",\"labels\":[\"Positive\",\"Neutral\",\"Negative\"],\"marker\":{\"colors\":[\"#2E86AB\",\"#A23B72\",\"#F18F01\"]},\"name\":\"Sentiment\",\"values\":[634,498,68],\"type\":\"pie\",\"domain\":{\"x\":[0.0,0.45],\"y\":[0.72,1.0]}},{\"hovertemplate\":\"\\u003cb\\u003eNegative\\u003c\\u002fb\\u003e\\u003cbr\\u003eHour: %{x}\\u003cbr\\u003eCount: %{y}\\u003cextra\\u003e\\u003c\\u002fextra\\u003e\",\"legendgroup\":\"Negative\",\"marker\":{\"color\":\"#A23B72\"},\"name\":\"Negative\",\"x\":[0,1,2,3,4,5,6,7,8,9,10,11,12,13,14,15,16,17,18,19,20,21,22,23],\"y\":[5,3,3,2,4,3,4,2,2,2,2,1,1,4,5,4,2,5,3,2,1,3,1,4],\"type\":\"bar\",\"xaxis\":\"x\",\"yaxis\":\"y\"},{\"hovertemplate\":\"\\u003cb\\u003eNeutral\\u003c\\u002fb\\u003e\\u003cbr\\u003eHour: %{x}\\u003cbr\\u003eCount: %{y}\\u003cextra\\u003e\\u003c\\u002fextra\\u003e\",\"legendgroup\":\"Neutral\",\"marker\":{\"color\":\"#F18F01\"},\"name\":\"Neutral\",\"x\":[0,1,2,3,4,5,6,7,8,9,10,11,12,13,14,15,16,17,18,19,20,21,22,23],\"y\":[20,21,16,22,27,17,30,15,21,22,14,23,22,24,27,22,21,20,19,16,15,17,22,25],\"type\":\"bar\",\"xaxis\":\"x\",\"yaxis\":\"y\"},{\"hovertemplate\":\"\\u003cb\\u003ePositive\\u003c\\u002fb\\u003e\\u003cbr\\u003eHour: %{x}\\u003cbr\\u003eCount: %{y}\\u003cextra\\u003e\\u003c\\u002fextra\\u003e\",\"legendgroup\":\"Positive\",\"marker\":{\"color\":\"#2E86AB\"},\"name\":\"Positive\",\"x\":[0,1,2,3,4,5,6,7,8,9,10,11,12,13,14,15,16,17,18,19,20,21,22,23],\"y\":[25,26,31,26,19,30,16,33,28,26,34,26,27,22,18,24,27,25,28,32,33,30,27,21],\"type\":\"bar\",\"xaxis\":\"x\",\"yaxis\":\"y\"},{\"hovertemplate\":\"\\u003cb\\u003e%{x}\\u003c\\u002fb\\u003e\\u003cbr\\u003eCount: %{y}\\u003cextra\\u003e\\u003c\\u002fextra\\u003e\",\"marker\":{\"color\":[\"rgb(141,211,199)\",\"rgb(255,255,179)\",\"rgb(190,186,218)\",\"rgb(251,128,114)\"]},\"name\":\"Emotions\",\"showlegend\":false,\"x\":[\"neutral\",\"joy\",\"gratitude\",\"sadness\"],\"y\":[825,177,166,32],\"type\":\"bar\",\"xaxis\":\"x2\",\"yaxis\":\"y2\"},{\"hovertemplate\":\"\\u003cb\\u003e%{text}\\u003c\\u002fb\\u003e\\u003cbr\\u003eAvg Likes: %{x:.1f}\\u003cbr\\u003eAvg Retweets: %{y:.1f}\\u003cextra\\u003e\\u003c\\u002fextra\\u003e\",\"marker\":{\"color\":[\"#A23B72\",\"#F18F01\",\"#2E86AB\"],\"size\":20},\"mode\":\"markers+text\",\"name\":\"Engagement\",\"showlegend\":false,\"text\":[\"Negative\",\"Neutral\",\"Positive\"],\"textposition\":\"top center\",\"x\":[4.676470588235294,4.807228915662651,6.5883280757097795],\"y\":[1.2794117647058822,1.2550200803212852,1.8422712933753944],\"type\":\"scatter\",\"xaxis\":\"x3\",\"yaxis\":\"y3\"},{\"hovertemplate\":\"\\u003cb\\u003eTweet Analysis\\u003c\\u002fb\\u003e\\u003cbr\\u003eSubjectivity: %{x:.2f}\\u003cbr\\u003ePolarity: %{y:.2f}\\u003cbr\\u003eConfidence: %{marker.color:.2f}\\u003cextra\\u003e\\u003c\\u002fextra\\u003e\",\"marker\":{\"color\":[0.3666666666666667,1.0,1.0,1.0,0.7875,1.0,1.0,1.0,0.8625,1.0,0.625,0.35,1.0,0.85,0.8214285714285714,0.35,0.35,0.25,0.8333333333333334,0.8625,1.0,0.5249999999999999,0.625,1.0,1.0,0.5,0.5249999999999999,0.5249999999999999,0.234375,0.8333333333333334,1.0,0.8666666666666667,0.8,0.95,0.85,0.3666666666666667,1.0,0.8214285714285714,0.8666666666666667,0.8125,0.3666666666666667,0.9,1.0,1.0,0.8333333333333334,0.4666666666666666,0.5,1.0,1.0,0.9,0.5,1.0,1.0,0.25,0.875,1.0,1.0,0.25,1.0,0.2857142857142857,0.9,0.8125,1.0,0.85,0.5,0.9,0.5,0.45,1.0,1.0,1.0,0.4666666666666666,1.0,0.8214285714285714,1.0,0.8333333333333334,0.875,0.9,0.25,0.875,0.65,1.0,0.2857142857142857,1.0,0.4666666666666666,0.35,1.0,0.25625,0.8625,0.8185185185185185,1.0,1.0,0.5,1.0,1.0,1.0,0.65,0.71875,1.0,1.0,1.0,0.85,0.2857142857142857,0.625,0.5249999999999999,1.0,1.0,0.234375,0.3,0.8333333333333334,0.8666666666666667,0.39285714285714285,0.8625,0.4666666666666666,1.0,0.925,1.0,0.8214285714285714,0.5,0.95,0.8,1.0,0.25,0.625,0.8333333333333334,0.625,0.39285714285714285,0.4666666666666666,0.8214285714285714,1.0,0.5,0.25,0.71875,0.7,1.0,1.0,0.8333333333333334,1.0,1.0,1.0,1.0,0.25,1.0,0.234375,0.9,0.9777777777777777,0.8214285714285714,0.71875,1.0,1.0,1.0,0.4666666666666666,0.25,0.2857142857142857,1.0,1.0,0.234375,1.0,0.8625,0.9,0.2857142857142857,0.9,1.0,0.65,0.8125,0.95,1.0,0.5249999999999999,1.0,0.625,0.45,0.3666666666666667,1.0,0.875,0.7875,0.5249999999999999,0.85,0.95,1.0,1.0,0.39285714285714285,0.9,0.25625,0.925,0.9,1.0,0.8625,0.8625,1.0,1.0,0.85,0.8214285714285714,0.7,1.0,0.45,1.0,1.0,0.8125,0.7,0.875,0.4666666666666666,0.625,0.5,0.3666666666666667,0.8214285714285714,1.0,0.5249999999999999,0.9,0.8185185185185185,0.4666666666666666,1.0,0.85,0.25,1.0,0.5249999999999999,0.8125,1.0,1.0,0.5,0.4666666666666666,0.9777777777777777,1.0,1.0,0.71875,1.0,0.85,0.45,0.875,1.0,1.0,0.8214285714285714,0.8214285714285714,1.0,0.8083333333333332,0.6428571428571428,1.0,0.9,1.0,0.4666666666666666,0.35,1.0,0.8625,0.8625,0.5,0.8333333333333334,1.0,0.35,1.0,0.4666666666666666,1.0,0.45,1.0,1.0,0.95,0.875,0.34814814814814815,0.35,1.0,1.0,0.8185185185185185,1.0,0.4666666666666666,1.0,0.45,1.0,0.8083333333333332,1.0,0.875,0.8214285714285714,0.4666666666666666,0.8125,0.4666666666666666,1.0,0.35,0.8214285714285714,1.0,0.95,0.8333333333333334,1.0,1.0,1.0,1.0,0.85,1.0,0.85,0.5,0.9777777777777777,0.35,0.3,0.8333333333333334,0.25,0.5,0.8214285714285714,1.0,0.234375,0.39285714285714285,0.71875,0.2857142857142857,0.25625,1.0,1.0,1.0,0.35,1.0,0.5,0.234375,0.35,1.0,0.8214285714285714,0.2857142857142857,0.65,1.0,1.0,1.0,1.0,0.85,1.0,0.39285714285714285,1.0,1.0,1.0,0.4666666666666666,0.85,1.0,1.0,1.0,1.0,1.0,0.8214285714285714,1.0,0.8214285714285714,0.45,0.3666666666666667,0.8125,1.0,1.0,0.25,0.35,0.4666666666666666,1.0,0.5,1.0,0.625,1.0,1.0,0.35,0.25625,1.0,1.0,0.85,0.234375,0.8333333333333334,0.5,0.5,0.5,0.925,0.8083333333333332,0.71875,1.0,0.925,1.0,0.625,1.0,0.85,0.9,1.0,0.2857142857142857,0.9,1.0,1.0,0.625,1.0,1.0,0.35,0.8125,1.0,0.71875,0.234375,0.25,1.0,0.8083333333333332,0.25,1.0,0.9777777777777777,1.0,1.0,0.8185185185185185,1.0,0.8333333333333334,0.95,1.0,0.4666666666666666,0.71875,1.0,0.9777777777777777,0.4666666666666666,0.95,1.0,0.8214285714285714,1.0,1.0,1.0,0.4666666666666666,1.0,1.0,0.39285714285714285,1.0,0.625,1.0,0.4666666666666666,1.0,1.0,0.9,0.25625,0.8333333333333334,0.875,0.625,0.3666666666666667,0.8625,0.5249999999999999,1.0,0.625,0.2857142857142857,1.0,0.7,0.8625,0.71875,0.9777777777777777,1.0,1.0,1.0,0.875,0.25625,0.8625,0.9777777777777777,1.0,0.5,1.0,0.5249999999999999,0.8083333333333332,0.925,0.8,0.8333333333333334,0.8,0.9,1.0,0.875,0.8083333333333332,0.8333333333333334,1.0,1.0,0.25,0.25,0.35,0.4666666666666666,0.5249999999999999,0.234375,0.8333333333333334,1.0,1.0,1.0,1.0,1.0,0.625,0.85,0.2857142857142857,0.8214285714285714,1.0,0.3,0.35,1.0,1.0,1.0,0.4666666666666666,0.3666666666666667,0.7,0.8333333333333334,0.5,0.71875,0.8625,0.925,0.71875,0.65,0.625,0.5,0.8125,1.0,0.625,1.0,0.6428571428571428,0.875,1.0,1.0,0.71875,0.3666666666666667,0.5,1.0,1.0,0.8333333333333334,1.0,1.0,1.0,0.85,0.9,0.25625,1.0,1.0,0.4666666666666666,1.0,0.5,0.5,1.0,0.5,0.35,0.7875,0.9,0.85,1.0,0.5,1.0,0.5249999999999999,1.0,1.0,0.25,1.0,0.234375,0.35,1.0,0.5249999999999999,1.0,1.0,1.0,0.95,1.0,0.8,1.0,0.8625,0.35,0.3666666666666667,0.625,0.5,0.3666666666666667,0.95,0.3666666666666667,0.8,0.65,1.0,1.0,1.0,0.25625,1.0,1.0,0.25625,0.625,0.5,0.85,1.0,0.5,0.8214285714285714,0.25,0.8125,0.3,1.0,0.9,0.7875,1.0,1.0,0.95,1.0,0.3666666666666667,0.8333333333333334,1.0,0.85,0.9777777777777777,1.0,1.0,0.3666666666666667,0.34814814814814815,0.34814814814814815,1.0,1.0,0.3,0.875,1.0,1.0,0.5,1.0,0.5,0.5,0.2857142857142857,0.2857142857142857,0.25625,0.8125,1.0,0.25,0.5,0.234375,1.0,0.45,0.5,0.7875,0.5,0.5,0.25625,1.0,0.3666666666666667,0.8185185185185185,0.65,0.5,1.0,1.0,0.85,0.3666666666666667,0.8083333333333332,1.0,0.4666666666666666,0.925,1.0,0.875,0.3666666666666667,0.8625,1.0,1.0,1.0,0.8333333333333334,0.85,0.25,1.0,0.8083333333333332,0.8333333333333334,0.4666666666666666,0.4666666666666666,1.0,1.0,0.5,0.95,0.8666666666666667,0.8125,1.0,0.5,0.85,0.8333333333333334,0.5,1.0,0.9,0.8185185185185185,1.0,1.0,0.7875,1.0,1.0,0.8214285714285714,1.0,1.0,1.0,0.8333333333333334,1.0,1.0,1.0,0.8333333333333334,0.5,0.8666666666666667,0.9,0.5,1.0,0.5,1.0,1.0,0.25,0.5,1.0,0.9,0.3,1.0,1.0,0.45,1.0,0.9,0.625,1.0,0.8125,0.925,0.9,0.625,1.0,1.0,1.0,0.8333333333333334,1.0,1.0,0.95,0.625,1.0,0.9,1.0,1.0,0.8214285714285714,0.9,0.5,1.0,0.9,0.65,0.45,1.0,1.0,0.35,1.0,1.0,1.0,0.85,0.5,0.9,0.4666666666666666,1.0,0.95,1.0,1.0,1.0,1.0,1.0,1.0,1.0,0.8214285714285714,1.0,0.85,1.0,1.0,0.85,0.5,0.45,0.9,1.0,0.875,0.5,1.0,0.8333333333333334,1.0,1.0,1.0,0.5,0.4666666666666666,0.625,0.925,1.0,0.85,0.4666666666666666,1.0,0.5,1.0,0.9777777777777777,0.85,0.25,0.25,0.5,0.8214285714285714,1.0,1.0,0.25,1.0,0.4666666666666666,0.5,0.8214285714285714,1.0,0.4666666666666666,0.8625,0.5,0.35,1.0,1.0,1.0,1.0,1.0,1.0,0.875,0.5,0.9,0.65,1.0,0.3666666666666667,0.9,0.8666666666666667,1.0,0.5,0.95,0.9777777777777777,0.25,1.0,0.6428571428571428,0.8125,0.4666666666666666,0.8214285714285714,1.0,0.8,1.0,0.2857142857142857,1.0,0.85,0.8625,1.0,0.8214285714285714,0.85,0.9,0.7875,0.34814814814814815,1.0,1.0,0.8083333333333332,0.65,0.625,1.0,0.4666666666666666,0.875,1.0,1.0,1.0,0.625,1.0,1.0,0.8666666666666667,0.2857142857142857,0.2857142857142857,1.0,0.625,0.5249999999999999,0.85,0.3,1.0,0.5249999999999999,0.8125,1.0,1.0,1.0,1.0,0.8214285714285714,0.8214285714285714,0.8185185185185185,0.4666666666666666,1.0,0.71875,1.0,0.4666666666666666,1.0,1.0,0.85,0.2857142857142857,0.8625,1.0,1.0,0.65,0.9,0.3,0.35,0.625,0.3,0.4666666666666666,0.625,0.25625,0.875,1.0,1.0,0.5249999999999999,1.0,0.9777777777777777,1.0,1.0,0.9,0.7,0.35,0.3666666666666667,0.5,1.0,0.9,1.0,0.5249999999999999,1.0,0.234375,0.8214285714285714,0.8,1.0,0.6428571428571428,1.0,1.0,1.0,1.0,1.0,0.85,0.8214285714285714,1.0,0.5,1.0,0.8125,0.5,1.0,0.9777777777777777,0.4666666666666666,0.9777777777777777,0.8214285714285714,0.4666666666666666,1.0,0.5,1.0,0.5,0.35,1.0,0.25,0.9,1.0,1.0,0.4666666666666666,0.5,0.35,0.8083333333333332,0.8125,0.39285714285714285,0.25,1.0,0.9,0.5,0.9,0.3,0.8083333333333332,0.85,1.0,1.0,0.35,1.0,1.0,0.5,0.85,1.0,0.4666666666666666,0.3,0.4666666666666666,0.85,1.0,1.0,1.0,0.2857142857142857,1.0,0.8625,0.85,0.625,1.0,0.875,1.0,0.39285714285714285,1.0,1.0,0.71875,1.0,0.625,0.85,0.25,0.85,0.8333333333333334,1.0,1.0,0.7875,0.5249999999999999,1.0,0.8625,0.9,0.8333333333333334,1.0,0.625,0.8125,0.5,1.0,0.9,1.0,0.8,0.4666666666666666,0.8214285714285714,1.0,0.875,0.3666666666666667,0.875,1.0,0.5249999999999999,0.8625,0.5,1.0,0.35,0.6428571428571428,0.34814814814814815,0.6428571428571428,1.0,1.0,1.0,1.0,1.0,0.71875,1.0,1.0,0.4666666666666666,0.8625,0.3666666666666667,0.8185185185185185,0.8214285714285714,0.234375,0.4666666666666666,1.0,1.0,1.0,0.3666666666666667,1.0,1.0,1.0,0.3666666666666667,0.3,0.9,0.8185185185185185,0.234375,0.4666666666666666,1.0,0.71875,0.4666666666666666,0.8125,0.8333333333333334,1.0,1.0,0.7,0.9,0.35,1.0,0.6428571428571428,0.25625,0.234375,0.8125,0.8214285714285714,0.8125,1.0,1.0,0.25625,0.25625,1.0,0.45,1.0,0.95,0.8083333333333332,0.8625,1.0,0.2857142857142857,1.0,1.0,0.4666666666666666,0.3666666666666667,1.0,0.8185185185185185,1.0,1.0,1.0,0.8333333333333334,0.3666666666666667,0.3666666666666667,0.8333333333333334,0.9,1.0,0.9,0.3666666666666667,0.85,1.0,0.234375,0.35,1.0,0.3666666666666667,1.0,0.8125,0.25,1.0,0.5249999999999999,1.0,0.71875,0.35,0.3666666666666667,1.0,0.8625,0.25,0.8214285714285714,0.875,0.35,0.71875,1.0,0.65,1.0,0.7875,1.0,0.8625,0.5,0.25,0.4666666666666666,1.0,0.625,0.8214285714285714,1.0,1.0,0.85,0.35,0.4666666666666666,1.0,0.2857142857142857,0.8214285714285714,0.3,0.5,0.5,0.9,1.0,0.8,1.0,0.8625,0.5249999999999999,0.5,0.8625,0.5,0.71875,1.0,0.5,0.5249999999999999,0.234375,1.0,0.25,0.8185185185185185,1.0,0.875,1.0,1.0,0.8625,0.2857142857142857,1.0,1.0,0.3666666666666667,1.0,0.3666666666666667,0.45,0.8125,0.8214285714285714,0.6428571428571428,0.8083333333333332,1.0,0.25,1.0,1.0,0.4666666666666666,0.8625,0.9,0.71875,0.85,0.71875,0.8333333333333334,0.8625,0.5,1.0,0.625,1.0,0.25625,0.45,1.0,0.35,0.6428571428571428,0.34814814814814815,0.85,1.0,0.65,0.85,0.85,0.8214285714285714,1.0,0.8625,0.875,0.71875,1.0,1.0,0.85,0.7,1.0,0.65,0.8625,0.3666666666666667,0.8625,0.5,0.625,1.0,0.85,0.9777777777777777,0.35,0.8125,0.8333333333333334,0.8125,1.0,1.0,0.71875,0.35,1.0,0.875,0.8083333333333332,0.34814814814814815,1.0,1.0,0.5,0.925],\"colorbar\":{\"len\":0.25,\"title\":{\"text\":\"Confidence\"},\"x\":0.45,\"y\":0.35},\"colorscale\":[[0.0,\"#440154\"],[0.1111111111111111,\"#482878\"],[0.2222222222222222,\"#3e4989\"],[0.3333333333333333,\"#31688e\"],[0.4444444444444444,\"#26828e\"],[0.5555555555555556,\"#1f9e89\"],[0.6666666666666666,\"#35b779\"],[0.7777777777777778,\"#6ece58\"],[0.8888888888888888,\"#b5de2b\"],[1.0,\"#fde725\"]],\"opacity\":0.6,\"showscale\":true,\"size\":4},\"mode\":\"markers\",\"name\":\"Tweets\",\"showlegend\":false,\"x\":[0.5666666666666667,0.07692307692307693,1.0,0.6000000000000001,0.6000000000000001,0.75,0.0625,0.6000000000000001,0.8,0.6,0.7,0.8,0.0,0.675,0.32417582417582413,0.8,0.8,0.25,0.5,0.8,0.75,0.575,0.7,0.75,1.0,0.5,0.575,0.575,0.5,0.5,0.6000000000000001,0.43333333333333335,0.75,0.6,0.675,0.5666666666666667,0.75,0.32417582417582413,0.43333333333333335,0.5,0.5666666666666667,0.55,0.75,0.0,0.5,0.5666666666666667,0.3,0.0,0.0,0.9,0.5,0.0,0.3,0.25,0.6000000000000001,0.0,0.9,0.25,0.75,0.5357142857142857,0.9,0.5,0.07692307692307693,0.25,0.5,0.9,0.5,0.575,0.0,0.75,0.0,0.5666666666666667,0.6000000000000001,0.32417582417582413,0.0,0.5,0.6000000000000001,0.9,0.25,0.6000000000000001,0.6666666666666666,0.0625,0.5357142857142857,0.0,0.5666666666666667,0.8,0.0,0.55,0.8,0.32962962962962966,0.3,0.9,0.5,0.0,0.0,0.0,0.6666666666666666,0.7,0.07692307692307693,0.0,0.6,0.25,0.5357142857142857,0.7,0.575,0.0,0.0625,0.5,0.6,0.5,0.43333333333333335,0.5178571428571428,0.8,0.5666666666666667,0.6,0.8,0.0,0.32417582417582413,0.5,0.4,0.75,0.6,0.25,0.7,0.5,0.7,0.5178571428571428,0.5666666666666667,0.32417582417582413,0.0,0.5,0.25,0.7,0.7,0.0625,0.0,0.5,1.0,0.0,0.0625,1.0,0.25,1.0,0.5,0.9,0.24444444444444446,0.32417582417582413,0.7,1.0,0.0,0.75,0.5666666666666667,0.25,0.5357142857142857,0.0,0.0,0.5,0.0,0.8,0.9,0.5357142857142857,0.9,1.0,0.6666666666666666,0.5,0.4,0.75,0.575,0.3,0.7,0.575,0.5666666666666667,0.0,0.6000000000000001,0.6000000000000001,0.575,0.675,0.4,1.0,0.6,0.5178571428571428,0.9,0.55,0.8,0.9,0.0,0.8,0.8,0.6000000000000001,0.6000000000000001,0.6499999999999999,0.32417582417582413,0.7,0.0,0.575,0.0,0.0,0.5,0.7,0.6000000000000001,0.5666666666666667,0.7,0.5,0.5666666666666667,0.32417582417582413,0.6,0.575,0.9,0.32962962962962966,0.5666666666666667,0.0,0.6499999999999999,0.25,0.07692307692307693,0.575,0.5,0.6,0.6,0.5,0.5666666666666667,0.24444444444444446,0.07692307692307693,0.0,0.7,0.9,0.675,0.575,0.6000000000000001,0.0625,0.9,0.32417582417582413,0.32417582417582413,0.07692307692307693,0.7333333333333334,0.4178571428571428,0.0,0.9,1.0,0.5666666666666667,0.8,0.0,0.8,0.8,0.5,0.5,0.9,0.6000000000000001,0.0,0.5666666666666667,0.0625,0.575,0.75,0.0,0.4,0.6000000000000001,0.262962962962963,0.8,0.75,1.0,0.32962962962962966,0.0625,0.5666666666666667,0.75,0.575,1.0,0.7333333333333334,0.0625,0.6000000000000001,0.32417582417582413,0.5666666666666667,0.5,0.5666666666666667,0.6,0.6000000000000001,0.32417582417582413,0.0,0.4,0.5,0.3,0.0,0.75,0.9,0.675,0.07692307692307693,0.675,0.3,0.24444444444444446,0.8,0.6,0.5,0.25,0.5,0.32417582417582413,0.6,0.5,0.5178571428571428,0.7,0.5357142857142857,0.55,0.0,0.0,0.9,0.6000000000000001,0.0,0.5,0.5,0.6000000000000001,0.0,0.32417582417582413,0.5357142857142857,0.6666666666666666,0.0,0.0,0.3,0.9,0.25,0.0,0.5178571428571428,0.3,0.3,0.0,0.5666666666666667,0.675,0.07692307692307693,0.6000000000000001,0.6,0.0,0.6,0.32417582417582413,0.6,0.32417582417582413,0.575,0.5666666666666667,0.5,0.6,0.0,0.25,0.8,0.5666666666666667,0.75,0.5,0.0625,0.7,0.6,0.07692307692307693,0.6000000000000001,0.55,0.6,0.0,0.6499999999999999,0.5,0.5,0.5,0.5,0.5,0.8,0.7333333333333334,0.7,0.6,0.8,0.0625,0.7,0.6000000000000001,0.6499999999999999,0.9,0.0625,0.5357142857142857,0.9,0.0,0.0,0.7,0.0,0.6000000000000001,0.8,0.5,0.9,0.7,0.5,0.25,0.3,0.7333333333333334,0.25,0.07692307692307693,0.24444444444444446,0.0,0.0,0.32962962962962966,0.9,0.5,0.4,0.0,0.5666666666666667,0.7,0.0,0.24444444444444446,0.5666666666666667,0.4,0.0625,0.32417582417582413,0.0,0.0,0.07692307692307693,0.5666666666666667,0.0625,0.0,0.5178571428571428,0.9,0.7,0.0,0.5666666666666667,0.75,0.75,0.55,0.55,0.5,0.6000000000000001,0.7,0.5666666666666667,0.8,0.575,0.3,0.7,0.5357142857142857,0.0625,0.7,0.8,0.7,0.24444444444444446,0.9,0.75,0.07692307692307693,0.6000000000000001,0.55,0.8,0.24444444444444446,0.75,0.5,0.6,0.575,0.7333333333333334,0.8,0.75,0.5,0.75,0.9,0.6,0.6000000000000001,0.7333333333333334,0.5,0.0,0.0,0.25,0.25,0.8,0.5666666666666667,0.575,0.5,0.5,0.0,0.0625,0.0,0.0,0.0,0.7,0.6499999999999999,0.5357142857142857,0.32417582417582413,0.07692307692307693,0.6,0.6000000000000001,0.75,0.0,0.75,0.5666666666666667,0.5666666666666667,0.7,0.5,0.3,0.7,0.8,0.8,0.7,0.6666666666666666,0.7,0.5,0.5,0.0,0.7,0.0,0.4178571428571428,0.6000000000000001,0.3,0.0,0.7,0.5666666666666667,0.5,1.0,0.0,0.5,0.0,0.0,0.0,0.6499999999999999,0.9,0.55,0.0,1.0,0.5666666666666667,0.0,0.5,0.5,0.75,0.5,0.8,0.6000000000000001,0.9,0.6499999999999999,0.6,0.5,0.75,0.575,0.75,0.3,0.25,0.0,0.5,0.6000000000000001,0.0,0.575,0.0625,0.0625,0.75,0.6,0.0,0.75,0.75,0.8,0.8,0.5666666666666667,0.7,0.5,0.5666666666666667,0.6,0.5666666666666667,0.75,0.6666666666666666,0.3,0.0,0.07692307692307693,0.55,0.07692307692307693,0.0,0.55,0.7,0.5,0.6499999999999999,0.07692307692307693,0.5,0.32417582417582413,0.25,0.5,0.6,0.3,0.9,0.6000000000000001,0.6,0.9,0.4,0.75,0.5666666666666667,0.5,1.0,0.675,0.24444444444444446,0.0,0.0625,0.5666666666666667,0.262962962962963,0.262962962962963,0.6,0.0,0.6,0.6000000000000001,0.75,0.9,0.5,0.6,0.5,0.5,0.5357142857142857,0.5357142857142857,0.55,0.5,0.07692307692307693,0.25,0.5,0.5,0.0,0.575,0.5,0.6000000000000001,0.5,0.5,0.55,0.0,0.5666666666666667,0.32962962962962966,0.6666666666666666,0.5,0.75,1.0,0.675,0.5666666666666667,0.7333333333333334,0.0625,0.5666666666666667,0.8,0.0,0.6000000000000001,0.5666666666666667,0.8,0.6000000000000001,0.0,0.07692307692307693,0.5,0.675,0.25,1.0,0.7333333333333334,0.5,0.5666666666666667,0.5666666666666667,0.75,0.3,0.5,0.6,0.43333333333333335,0.5,0.3,0.5,0.675,0.5,0.3,0.6,0.9,0.32962962962962966,0.07692307692307693,0.6,0.6000000000000001,1.0,0.0,0.32417582417582413,0.9,0.9,1.0,0.5,0.0,0.6,0.3,0.5,0.3,0.43333333333333335,0.55,0.5,0.0,0.5,0.0,0.07692307692307693,0.25,0.5,0.0,0.9,0.6,0.0,0.0,0.575,0.6,0.9,0.7,0.0625,0.5,0.8,0.55,0.7,0.0,0.6,1.0,0.5,0.75,0.6,0.4,0.7,1.0,0.9,1.0,0.6,0.32417582417582413,0.9,0.5,0.75,0.9,0.6666666666666666,0.575,0.3,0.0,0.8,0.07692307692307693,0.0,0.0625,0.6499999999999999,0.5,0.55,0.5666666666666667,0.0,0.4,0.0,0.0,0.07692307692307693,0.3,0.07692307692307693,0.0,0.0,0.32417582417582413,0.0,0.675,0.0625,0.6,0.25,0.5,0.575,0.9,0.0,0.6000000000000001,0.5,0.0,0.5,0.0,0.0,0.0,0.5,0.5666666666666667,0.7,0.8,0.07692307692307693,0.675,0.5666666666666667,0.3,0.5,0.0,0.24444444444444446,0.675,0.25,0.25,0.5,0.32417582417582413,0.0625,0.6,0.25,0.0,0.5666666666666667,0.5,0.32417582417582413,0.0,0.5666666666666667,0.8,0.5,0.6000000000000001,0.07692307692307693,0.9,0.75,0.0625,0.0,0.07692307692307693,0.6000000000000001,0.5,0.9,0.6666666666666666,0.6,0.5666666666666667,0.9,0.43333333333333335,0.0,0.5,0.6,0.24444444444444446,0.25,0.6,0.4178571428571428,0.5,0.5666666666666667,0.32417582417582413,0.0,0.75,0.0,0.5357142857142857,1.0,0.6499999999999999,0.8,0.07692307692307693,0.32417582417582413,0.6499999999999999,0.9,0.6000000000000001,0.262962962962963,0.0,0.0,0.7333333333333334,0.6666666666666666,0.7,1.0,0.5666666666666667,0.6000000000000001,1.0,0.0,0.9,0.7,0.6,0.0,0.43333333333333335,0.5357142857142857,0.5357142857142857,0.07692307692307693,0.7,0.575,0.6499999999999999,0.6,0.9,0.575,0.5,0.0,0.0,0.75,0.0625,0.32417582417582413,0.32417582417582413,0.32962962962962966,0.5666666666666667,0.3,0.7,0.9,0.5666666666666667,1.0,0.3,0.6499999999999999,0.5357142857142857,0.8,0.3,0.9,0.6666666666666666,0.9,0.6,0.6000000000000001,0.7,0.6,0.5666666666666667,0.7,0.55,0.6000000000000001,0.0,0.6,0.575,0.6,0.24444444444444446,0.9,0.0,0.9,0.7,0.6000000000000001,0.5666666666666667,0.5,1.0,0.9,1.0,0.575,1.0,0.5,0.32417582417582413,0.75,0.0,0.4178571428571428,0.07692307692307693,0.3,0.0625,0.07692307692307693,0.0,0.6499999999999999,0.32417582417582413,0.6,0.5,1.0,0.5,0.5,0.0,0.24444444444444446,0.5666666666666667,0.24444444444444446,0.32417582417582413,0.5666666666666667,0.0625,0.5,0.0,0.3,0.6000000000000001,1.0,0.25,0.9,1.0,0.75,0.5666666666666667,0.5,0.6000000000000001,0.7333333333333334,0.5,0.5178571428571428,0.25,0.0,0.55,0.5,0.9,0.6,0.7333333333333334,0.6499999999999999,0.6,1.0,0.8,0.3,0.0,0.5,0.6499999999999999,1.0,0.5666666666666667,0.6,0.5666666666666667,0.675,0.6,0.0625,0.0,0.5357142857142857,0.9,0.8,0.6499999999999999,0.7,0.3,0.6000000000000001,1.0,0.5178571428571428,0.75,0.9,0.7,0.75,0.7,0.6499999999999999,0.25,0.6499999999999999,0.5,0.6,0.0,0.6000000000000001,0.575,0.0,0.8,0.55,0.5,0.0,0.7,0.5,0.5,0.6,0.9,1.0,0.75,0.5666666666666667,0.32417582417582413,0.0,0.6000000000000001,0.5666666666666667,0.6000000000000001,0.0,0.575,0.8,0.5,0.75,0.8,0.4178571428571428,0.262962962962963,0.4178571428571428,0.0625,1.0,0.07692307692307693,0.75,0.3,0.7,0.9,0.0,0.5666666666666667,0.8,0.5666666666666667,0.32962962962962966,0.32417582417582413,0.5,0.5666666666666667,0.0,0.0,0.6000000000000001,0.5666666666666667,0.0,0.0,0.6000000000000001,0.5666666666666667,0.6,0.9,0.32962962962962966,0.5,0.5666666666666667,0.0,0.7,0.5666666666666667,0.5,0.5,0.6000000000000001,0.6000000000000001,0.7,0.9,0.6000000000000001,0.0,0.4178571428571428,0.55,0.5,0.5,0.32417582417582413,0.5,0.0,0.0,0.55,0.55,0.0,0.575,0.6,0.6,0.7333333333333334,0.8,1.0,0.5357142857142857,0.6,1.0,0.5666666666666667,0.5666666666666667,0.75,0.32962962962962966,0.0,0.0,0.0,0.5,0.5666666666666667,0.5666666666666667,0.5,0.55,0.07692307692307693,0.9,0.5666666666666667,0.25,0.0,0.5,0.6000000000000001,0.75,0.5666666666666667,0.6,0.5,0.25,0.75,0.575,0.0,0.7,0.6000000000000001,0.5666666666666667,0.6,0.8,0.25,0.32417582417582413,0.6000000000000001,0.8,0.7,0.0,0.6666666666666666,0.0,0.6000000000000001,0.6,0.8,0.5,0.25,0.5666666666666667,0.75,0.7,0.32417582417582413,1.0,0.0,0.6499999999999999,0.6000000000000001,0.5666666666666667,1.0,0.5357142857142857,0.32417582417582413,0.6,0.5,0.5,0.9,1.0,0.75,0.0,0.8,0.575,0.5,0.8,0.5,0.7,0.0625,0.5,0.575,0.5,0.0,0.25,0.32962962962962966,1.0,0.6000000000000001,0.75,0.9,0.8,0.5357142857142857,0.0625,0.0,0.5666666666666667,0.9,0.5666666666666667,0.575,0.5,0.32417582417582413,0.4178571428571428,0.7333333333333334,0.75,0.25,0.6,1.0,0.5666666666666667,0.8,0.9,0.7,0.6499999999999999,0.7,0.5,0.8,0.5,0.6,0.7,0.0625,0.55,0.575,0.0,0.8,0.4178571428571428,0.262962962962963,0.6499999999999999,0.6000000000000001,0.6666666666666666,0.6499999999999999,0.675,0.32417582417582413,0.0625,0.8,0.6000000000000001,0.7,1.0,0.0625,0.6499999999999999,0.7,0.0,0.6666666666666666,0.8,0.5666666666666667,0.8,0.5,0.7,0.6,0.6499999999999999,0.24444444444444446,0.8,0.5,0.5,0.5,0.0,0.75,0.7,0.6000000000000001,0.3,0.6000000000000001,0.7333333333333334,0.262962962962963,0.6,0.0,0.5,0.8],\"y\":[0.3666666666666667,0.0,0.0,1.0,0.7875,1.0,0.0,1.0,0.8625,0.0,0.625,0.35,0.0,0.85,0.17857142857142858,0.35,0.35,-0.25,-0.16666666666666666,0.8625,1.0,0.5249999999999999,0.625,1.0,0.0,0.5,0.5249999999999999,0.5249999999999999,-0.234375,-0.16666666666666666,1.0,0.13333333333333333,0.8,0.95,0.85,0.3666666666666667,1.0,0.17857142857142858,0.13333333333333333,-0.1875,0.3666666666666667,0.1,1.0,0.0,-0.16666666666666666,0.4666666666666666,-0.5,0.0,0.0,0.9,0.5,0.0,1.0,-0.25,0.875,0.0,1.0,-0.25,1.0,0.2857142857142857,0.9,-0.1875,0.0,-0.15,0.5,0.9,0.5,0.45,0.0,1.0,0.0,0.4666666666666666,1.0,0.17857142857142858,0.0,-0.16666666666666666,0.875,0.9,-0.25,0.875,0.65,0.0,0.2857142857142857,0.0,0.4666666666666666,0.35,0.0,0.25625,0.8625,0.18148148148148147,1.0,1.0,0.5,0.0,0.0,0.0,0.65,0.71875,0.0,0.0,0.0,-0.15,0.2857142857142857,0.625,0.5249999999999999,0.0,0.0,-0.234375,-0.3,-0.16666666666666666,0.13333333333333333,0.39285714285714285,0.8625,0.4666666666666666,0.0,0.925,0.0,0.17857142857142858,0.5,-0.04999999999999999,0.8,0.0,-0.25,0.625,-0.16666666666666666,0.625,0.39285714285714285,0.4666666666666666,0.17857142857142858,0.0,0.5,-0.25,0.71875,0.7,0.0,0.0,-0.16666666666666666,0.0,0.0,0.0,0.0,-0.25,0.0,-0.234375,0.9,0.022222222222222213,0.17857142857142858,0.71875,0.0,0.0,1.0,0.4666666666666666,-0.25,0.2857142857142857,0.0,0.0,-0.234375,0.0,0.8625,0.9,0.2857142857142857,0.9,0.0,0.65,-0.1875,-0.04999999999999999,1.0,0.5249999999999999,1.0,0.625,0.45,0.3666666666666667,0.0,0.875,0.7875,0.5249999999999999,0.85,-0.04999999999999999,0.0,0.0,0.39285714285714285,0.9,0.25625,0.925,0.9,0.0,0.8625,0.8625,1.0,1.0,0.15,0.17857142857142858,0.7,0.0,0.45,0.0,0.0,-0.1875,0.7,0.875,0.4666666666666666,0.625,0.5,0.3666666666666667,0.17857142857142858,0.0,0.5249999999999999,0.9,0.18148148148148147,0.4666666666666666,0.0,0.15,-0.25,0.0,0.5249999999999999,-0.1875,0.0,0.0,0.5,0.4666666666666666,0.022222222222222213,0.0,0.0,0.71875,1.0,0.85,0.45,0.875,0.0,1.0,0.17857142857142858,0.17857142857142858,0.0,0.8083333333333332,0.6428571428571428,0.0,0.9,0.0,0.4666666666666666,0.35,0.0,0.8625,0.8625,0.5,-0.16666666666666666,1.0,0.35,0.0,0.4666666666666666,0.0,0.45,1.0,0.0,-0.04999999999999999,0.875,0.34814814814814815,0.35,1.0,0.0,0.18148148148148147,0.0,0.4666666666666666,1.0,0.45,0.0,0.8083333333333332,0.0,0.875,0.17857142857142858,0.4666666666666666,-0.1875,0.4666666666666666,0.0,0.35,0.17857142857142858,0.0,-0.04999999999999999,-0.16666666666666666,1.0,0.0,1.0,1.0,0.85,0.0,0.85,-0.5,0.022222222222222213,0.35,-0.3,-0.16666666666666666,-0.25,0.5,0.17857142857142858,0.0,-0.234375,0.39285714285714285,0.71875,0.2857142857142857,0.25625,0.0,0.0,1.0,0.35,0.0,0.5,-0.234375,0.35,0.0,0.17857142857142858,0.2857142857142857,0.65,0.0,0.0,1.0,1.0,-0.15,0.0,0.39285714285714285,1.0,1.0,0.0,0.4666666666666666,0.85,0.0,1.0,0.0,0.0,0.0,0.17857142857142858,0.0,0.17857142857142858,0.45,0.3666666666666667,-0.1875,0.0,0.0,-0.25,0.35,0.4666666666666666,1.0,0.5,0.0,0.625,0.0,0.0,0.35,0.25625,0.0,0.0,0.15,-0.234375,-0.16666666666666666,0.5,0.5,0.5,0.925,0.8083333333333332,0.71875,0.0,0.925,0.0,0.625,1.0,0.15,0.9,0.0,0.2857142857142857,0.9,0.0,0.0,0.625,0.0,1.0,0.35,-0.1875,1.0,0.71875,-0.234375,-0.25,1.0,0.8083333333333332,-0.25,0.0,0.022222222222222213,0.0,0.0,0.18148148148148147,1.0,-0.16666666666666666,-0.04999999999999999,0.0,0.4666666666666666,0.71875,0.0,0.022222222222222213,0.4666666666666666,-0.04999999999999999,0.0,0.17857142857142858,0.0,0.0,0.0,0.4666666666666666,0.0,0.0,0.39285714285714285,1.0,0.625,0.0,0.4666666666666666,1.0,1.0,0.1,0.25625,-0.16666666666666666,0.875,0.625,0.3666666666666667,0.8625,0.5249999999999999,1.0,0.625,0.2857142857142857,0.0,0.7,0.8625,0.71875,0.022222222222222213,1.0,1.0,0.0,0.875,0.25625,0.8625,0.022222222222222213,1.0,0.5,0.0,0.5249999999999999,0.8083333333333332,0.925,0.8,-0.16666666666666666,0.8,0.9,0.0,0.875,0.8083333333333332,-0.16666666666666666,0.0,0.0,-0.25,-0.25,0.35,0.4666666666666666,0.5249999999999999,-0.234375,-0.16666666666666666,0.0,0.0,0.0,0.0,0.0,0.625,0.15,0.2857142857142857,0.17857142857142858,0.0,-0.3,0.35,1.0,0.0,1.0,0.4666666666666666,0.3666666666666667,0.7,-0.16666666666666666,-0.5,0.71875,0.8625,0.925,0.71875,0.65,0.625,0.5,-0.1875,0.0,0.625,0.0,0.6428571428571428,0.875,1.0,0.0,0.71875,0.3666666666666667,0.5,0.0,0.0,-0.16666666666666666,0.0,0.0,0.0,0.15,0.9,0.25625,0.0,0.0,0.4666666666666666,0.0,0.5,0.5,1.0,0.5,0.35,0.7875,0.9,0.15,0.0,0.5,1.0,0.5249999999999999,1.0,1.0,-0.25,0.0,-0.234375,0.35,0.0,0.5249999999999999,0.0,0.0,1.0,0.95,0.0,0.8,1.0,0.8625,0.35,0.3666666666666667,0.625,0.5,0.3666666666666667,0.95,0.3666666666666667,0.8,0.65,1.0,0.0,0.0,0.25625,0.0,0.0,0.25625,0.625,0.5,0.15,0.0,0.5,0.17857142857142858,-0.25,-0.1875,-0.3,1.0,0.9,0.7875,0.0,1.0,-0.04999999999999999,1.0,0.3666666666666667,-0.16666666666666666,0.0,0.85,0.022222222222222213,0.0,0.0,0.3666666666666667,0.34814814814814815,0.34814814814814815,0.0,0.0,-0.3,0.875,1.0,1.0,0.5,0.0,0.5,0.5,0.2857142857142857,0.2857142857142857,0.25625,-0.1875,0.0,-0.25,0.5,-0.234375,0.0,0.45,0.5,0.7875,0.5,0.5,0.25625,0.0,0.3666666666666667,0.18148148148148147,0.65,0.5,1.0,0.0,0.85,0.3666666666666667,0.8083333333333332,0.0,0.4666666666666666,0.925,0.0,0.875,0.3666666666666667,0.8625,1.0,0.0,0.0,-0.16666666666666666,0.85,-0.25,0.0,0.8083333333333332,-0.16666666666666666,0.4666666666666666,0.4666666666666666,1.0,1.0,0.5,0.95,0.13333333333333333,-0.1875,1.0,0.5,0.85,-0.16666666666666666,-0.5,0.0,0.9,0.18148148148148147,0.0,0.0,0.7875,0.0,0.0,0.17857142857142858,1.0,1.0,0.0,-0.16666666666666666,0.0,0.0,1.0,-0.16666666666666666,-0.5,0.13333333333333333,0.1,0.5,0.0,0.5,0.0,0.0,-0.25,0.5,0.0,0.9,-0.3,0.0,0.0,0.45,0.0,0.9,0.625,0.0,-0.1875,0.925,0.1,0.625,0.0,0.0,0.0,-0.16666666666666666,1.0,0.0,-0.04999999999999999,0.625,0.0,0.9,0.0,0.0,0.17857142857142858,0.9,0.5,1.0,0.9,0.65,0.45,1.0,0.0,0.35,0.0,0.0,0.0,0.15,0.5,0.1,0.4666666666666666,0.0,-0.04999999999999999,0.0,0.0,0.0,1.0,0.0,0.0,0.0,0.17857142857142858,0.0,0.85,0.0,0.0,-0.15,0.5,0.45,0.9,0.0,0.875,0.5,0.0,-0.16666666666666666,0.0,0.0,0.0,0.5,0.4666666666666666,0.625,0.925,0.0,0.85,0.4666666666666666,1.0,0.5,0.0,0.022222222222222213,0.85,-0.25,-0.25,0.5,0.17857142857142858,0.0,0.0,-0.25,0.0,0.4666666666666666,0.5,0.17857142857142858,0.0,0.4666666666666666,0.8625,0.5,0.35,0.0,1.0,1.0,0.0,0.0,0.0,0.875,0.5,0.9,0.65,0.0,0.3666666666666667,0.9,0.13333333333333333,0.0,0.5,0.95,0.022222222222222213,-0.25,0.0,0.6428571428571428,-0.1875,0.4666666666666666,0.17857142857142858,0.0,0.8,0.0,0.2857142857142857,0.0,0.15,0.8625,0.0,0.17857142857142858,0.15,0.9,0.7875,0.34814814814814815,0.0,0.0,0.8083333333333332,0.65,0.625,0.0,0.4666666666666666,0.875,0.0,0.0,1.0,0.625,0.0,0.0,0.13333333333333333,0.2857142857142857,0.2857142857142857,0.0,0.625,0.5249999999999999,0.15,-0.3,1.0,0.5249999999999999,-0.1875,0.0,0.0,1.0,0.0,0.17857142857142858,0.17857142857142858,0.18148148148148147,0.4666666666666666,1.0,0.71875,1.0,0.4666666666666666,0.0,1.0,0.15,0.2857142857142857,0.8625,1.0,1.0,0.65,0.9,-0.3,0.35,0.625,-0.3,0.4666666666666666,0.625,0.25625,0.875,0.0,0.0,0.5249999999999999,0.0,0.022222222222222213,1.0,0.0,0.9,0.7,0.35,0.3666666666666667,0.5,0.0,0.9,0.0,0.5249999999999999,0.0,-0.234375,0.17857142857142858,0.8,0.0,0.6428571428571428,0.0,1.0,0.0,0.0,0.0,0.15,0.17857142857142858,0.0,0.5,0.0,-0.1875,0.5,0.0,0.022222222222222213,0.4666666666666666,0.022222222222222213,0.17857142857142858,0.4666666666666666,0.0,0.5,0.0,-0.5,0.35,0.0,-0.25,0.9,0.0,1.0,0.4666666666666666,0.5,0.35,0.8083333333333332,-0.1875,0.39285714285714285,-0.25,0.0,0.1,0.5,0.9,-0.3,0.8083333333333332,0.15,0.0,0.0,0.35,1.0,0.0,0.5,0.15,0.0,0.4666666666666666,-0.3,0.4666666666666666,0.85,0.0,0.0,0.0,0.2857142857142857,1.0,0.8625,0.15,0.625,1.0,0.875,0.0,0.39285714285714285,1.0,1.0,0.71875,1.0,0.625,0.15,-0.25,0.15,-0.16666666666666666,0.0,0.0,0.7875,0.5249999999999999,0.0,0.8625,0.1,-0.16666666666666666,0.0,0.625,-0.1875,0.5,0.0,0.9,0.0,0.8,0.4666666666666666,0.17857142857142858,0.0,0.875,0.3666666666666667,0.875,0.0,0.5249999999999999,0.8625,0.5,1.0,0.35,0.6428571428571428,0.34814814814814815,0.6428571428571428,0.0,0.0,0.0,1.0,1.0,0.71875,1.0,0.0,0.4666666666666666,0.8625,0.3666666666666667,0.18148148148148147,0.17857142857142858,-0.234375,0.4666666666666666,0.0,0.0,1.0,0.3666666666666667,0.0,0.0,1.0,0.3666666666666667,-0.3,0.9,0.18148148148148147,-0.234375,0.4666666666666666,0.0,0.71875,0.4666666666666666,-0.1875,-0.16666666666666666,1.0,1.0,0.7,0.9,0.35,0.0,0.6428571428571428,0.25625,-0.234375,-0.1875,0.17857142857142858,-0.1875,0.0,0.0,0.25625,0.25625,0.0,0.45,0.0,0.95,0.8083333333333332,0.8625,0.0,0.2857142857142857,0.0,0.0,0.4666666666666666,0.3666666666666667,1.0,0.18148148148148147,0.0,0.0,0.0,-0.16666666666666666,0.3666666666666667,0.3666666666666667,-0.16666666666666666,0.1,0.0,0.9,0.3666666666666667,-0.15,0.0,-0.234375,0.35,1.0,0.3666666666666667,0.0,-0.1875,-0.25,1.0,0.5249999999999999,0.0,0.71875,0.35,0.3666666666666667,0.0,0.8625,-0.25,0.17857142857142858,0.875,0.35,0.71875,0.0,0.65,0.0,0.7875,0.0,0.8625,0.5,-0.25,0.4666666666666666,1.0,0.625,0.17857142857142858,0.0,0.0,0.15,0.35,0.4666666666666666,0.0,0.2857142857142857,0.17857142857142858,-0.3,0.5,0.5,0.9,0.0,0.8,0.0,0.8625,0.5249999999999999,0.5,0.8625,0.5,0.71875,0.0,0.5,0.5249999999999999,-0.234375,0.0,-0.25,0.18148148148148147,0.0,0.875,1.0,1.0,0.8625,0.2857142857142857,0.0,0.0,0.3666666666666667,1.0,0.3666666666666667,0.45,-0.1875,0.17857142857142858,0.6428571428571428,0.8083333333333332,1.0,-0.25,0.0,0.0,0.4666666666666666,0.8625,0.9,0.71875,0.15,0.71875,-0.16666666666666666,0.8625,0.5,0.0,0.625,0.0,0.25625,0.45,0.0,0.35,0.6428571428571428,0.34814814814814815,0.15,1.0,0.65,0.15,0.85,0.17857142857142858,0.0,0.8625,0.875,0.71875,0.0,0.0,0.15,0.7,0.0,0.65,0.8625,0.3666666666666667,0.8625,0.5,0.625,0.0,0.15,0.022222222222222213,0.35,-0.1875,-0.16666666666666666,-0.1875,0.0,1.0,0.71875,0.35,1.0,0.875,0.8083333333333332,0.34814814814814815,0.0,0.0,0.5,0.925],\"type\":\"scatter\",\"xaxis\":\"x4\",\"yaxis\":\"y4\"},{\"hovertemplate\":\"\\u003cb\\u003eDaily Trend\\u003c\\u002fb\\u003e\\u003cbr\\u003eDate: %{x}\\u003cbr\\u003eAvg Polarity: %{y:.3f}\\u003cextra\\u003e\\u003c\\u002fextra\\u003e\",\"line\":{\"color\":\"#2E86AB\",\"width\":3},\"marker\":{\"size\":8},\"mode\":\"lines+markers\",\"name\":\"Daily Trend\",\"showlegend\":false,\"x\":[\"2025-06-22\",\"2025-06-23\",\"2025-06-24\",\"2025-06-25\",\"2025-06-26\",\"2025-06-27\",\"2025-06-28\",\"2025-06-29\"],\"y\":[0.355380678297345,0.35118989603638723,0.33021809926049694,0.3558857627353267,0.2954488845570717,0.3378081585135679,0.3483524590797983,0.40471016811742616],\"type\":\"scatter\",\"xaxis\":\"x5\",\"yaxis\":\"y5\"}],                        {\"template\":{\"data\":{\"histogram2dcontour\":[{\"type\":\"histogram2dcontour\",\"colorbar\":{\"outlinewidth\":0,\"ticks\":\"\"},\"colorscale\":[[0.0,\"#0d0887\"],[0.1111111111111111,\"#46039f\"],[0.2222222222222222,\"#7201a8\"],[0.3333333333333333,\"#9c179e\"],[0.4444444444444444,\"#bd3786\"],[0.5555555555555556,\"#d8576b\"],[0.6666666666666666,\"#ed7953\"],[0.7777777777777778,\"#fb9f3a\"],[0.8888888888888888,\"#fdca26\"],[1.0,\"#f0f921\"]]}],\"choropleth\":[{\"type\":\"choropleth\",\"colorbar\":{\"outlinewidth\":0,\"ticks\":\"\"}}],\"histogram2d\":[{\"type\":\"histogram2d\",\"colorbar\":{\"outlinewidth\":0,\"ticks\":\"\"},\"colorscale\":[[0.0,\"#0d0887\"],[0.1111111111111111,\"#46039f\"],[0.2222222222222222,\"#7201a8\"],[0.3333333333333333,\"#9c179e\"],[0.4444444444444444,\"#bd3786\"],[0.5555555555555556,\"#d8576b\"],[0.6666666666666666,\"#ed7953\"],[0.7777777777777778,\"#fb9f3a\"],[0.8888888888888888,\"#fdca26\"],[1.0,\"#f0f921\"]]}],\"heatmap\":[{\"type\":\"heatmap\",\"colorbar\":{\"outlinewidth\":0,\"ticks\":\"\"},\"colorscale\":[[0.0,\"#0d0887\"],[0.1111111111111111,\"#46039f\"],[0.2222222222222222,\"#7201a8\"],[0.3333333333333333,\"#9c179e\"],[0.4444444444444444,\"#bd3786\"],[0.5555555555555556,\"#d8576b\"],[0.6666666666666666,\"#ed7953\"],[0.7777777777777778,\"#fb9f3a\"],[0.8888888888888888,\"#fdca26\"],[1.0,\"#f0f921\"]]}],\"heatmapgl\":[{\"type\":\"heatmapgl\",\"colorbar\":{\"outlinewidth\":0,\"ticks\":\"\"},\"colorscale\":[[0.0,\"#0d0887\"],[0.1111111111111111,\"#46039f\"],[0.2222222222222222,\"#7201a8\"],[0.3333333333333333,\"#9c179e\"],[0.4444444444444444,\"#bd3786\"],[0.5555555555555556,\"#d8576b\"],[0.6666666666666666,\"#ed7953\"],[0.7777777777777778,\"#fb9f3a\"],[0.8888888888888888,\"#fdca26\"],[1.0,\"#f0f921\"]]}],\"contourcarpet\":[{\"type\":\"contourcarpet\",\"colorbar\":{\"outlinewidth\":0,\"ticks\":\"\"}}],\"contour\":[{\"type\":\"contour\",\"colorbar\":{\"outlinewidth\":0,\"ticks\":\"\"},\"colorscale\":[[0.0,\"#0d0887\"],[0.1111111111111111,\"#46039f\"],[0.2222222222222222,\"#7201a8\"],[0.3333333333333333,\"#9c179e\"],[0.4444444444444444,\"#bd3786\"],[0.5555555555555556,\"#d8576b\"],[0.6666666666666666,\"#ed7953\"],[0.7777777777777778,\"#fb9f3a\"],[0.8888888888888888,\"#fdca26\"],[1.0,\"#f0f921\"]]}],\"surface\":[{\"type\":\"surface\",\"colorbar\":{\"outlinewidth\":0,\"ticks\":\"\"},\"colorscale\":[[0.0,\"#0d0887\"],[0.1111111111111111,\"#46039f\"],[0.2222222222222222,\"#7201a8\"],[0.3333333333333333,\"#9c179e\"],[0.4444444444444444,\"#bd3786\"],[0.5555555555555556,\"#d8576b\"],[0.6666666666666666,\"#ed7953\"],[0.7777777777777778,\"#fb9f3a\"],[0.8888888888888888,\"#fdca26\"],[1.0,\"#f0f921\"]]}],\"mesh3d\":[{\"type\":\"mesh3d\",\"colorbar\":{\"outlinewidth\":0,\"ticks\":\"\"}}],\"scatter\":[{\"fillpattern\":{\"fillmode\":\"overlay\",\"size\":10,\"solidity\":0.2},\"type\":\"scatter\"}],\"parcoords\":[{\"type\":\"parcoords\",\"line\":{\"colorbar\":{\"outlinewidth\":0,\"ticks\":\"\"}}}],\"scatterpolargl\":[{\"type\":\"scatterpolargl\",\"marker\":{\"colorbar\":{\"outlinewidth\":0,\"ticks\":\"\"}}}],\"bar\":[{\"error_x\":{\"color\":\"#2a3f5f\"},\"error_y\":{\"color\":\"#2a3f5f\"},\"marker\":{\"line\":{\"color\":\"#E5ECF6\",\"width\":0.5},\"pattern\":{\"fillmode\":\"overlay\",\"size\":10,\"solidity\":0.2}},\"type\":\"bar\"}],\"scattergeo\":[{\"type\":\"scattergeo\",\"marker\":{\"colorbar\":{\"outlinewidth\":0,\"ticks\":\"\"}}}],\"scatterpolar\":[{\"type\":\"scatterpolar\",\"marker\":{\"colorbar\":{\"outlinewidth\":0,\"ticks\":\"\"}}}],\"histogram\":[{\"marker\":{\"pattern\":{\"fillmode\":\"overlay\",\"size\":10,\"solidity\":0.2}},\"type\":\"histogram\"}],\"scattergl\":[{\"type\":\"scattergl\",\"marker\":{\"colorbar\":{\"outlinewidth\":0,\"ticks\":\"\"}}}],\"scatter3d\":[{\"type\":\"scatter3d\",\"line\":{\"colorbar\":{\"outlinewidth\":0,\"ticks\":\"\"}},\"marker\":{\"colorbar\":{\"outlinewidth\":0,\"ticks\":\"\"}}}],\"scattermapbox\":[{\"type\":\"scattermapbox\",\"marker\":{\"colorbar\":{\"outlinewidth\":0,\"ticks\":\"\"}}}],\"scatterternary\":[{\"type\":\"scatterternary\",\"marker\":{\"colorbar\":{\"outlinewidth\":0,\"ticks\":\"\"}}}],\"scattercarpet\":[{\"type\":\"scattercarpet\",\"marker\":{\"colorbar\":{\"outlinewidth\":0,\"ticks\":\"\"}}}],\"carpet\":[{\"aaxis\":{\"endlinecolor\":\"#2a3f5f\",\"gridcolor\":\"white\",\"linecolor\":\"white\",\"minorgridcolor\":\"white\",\"startlinecolor\":\"#2a3f5f\"},\"baxis\":{\"endlinecolor\":\"#2a3f5f\",\"gridcolor\":\"white\",\"linecolor\":\"white\",\"minorgridcolor\":\"white\",\"startlinecolor\":\"#2a3f5f\"},\"type\":\"carpet\"}],\"table\":[{\"cells\":{\"fill\":{\"color\":\"#EBF0F8\"},\"line\":{\"color\":\"white\"}},\"header\":{\"fill\":{\"color\":\"#C8D4E3\"},\"line\":{\"color\":\"white\"}},\"type\":\"table\"}],\"barpolar\":[{\"marker\":{\"line\":{\"color\":\"#E5ECF6\",\"width\":0.5},\"pattern\":{\"fillmode\":\"overlay\",\"size\":10,\"solidity\":0.2}},\"type\":\"barpolar\"}],\"pie\":[{\"automargin\":true,\"type\":\"pie\"}]},\"layout\":{\"autotypenumbers\":\"strict\",\"colorway\":[\"#636efa\",\"#EF553B\",\"#00cc96\",\"#ab63fa\",\"#FFA15A\",\"#19d3f3\",\"#FF6692\",\"#B6E880\",\"#FF97FF\",\"#FECB52\"],\"font\":{\"color\":\"#2a3f5f\"},\"hovermode\":\"closest\",\"hoverlabel\":{\"align\":\"left\"},\"paper_bgcolor\":\"white\",\"plot_bgcolor\":\"#E5ECF6\",\"polar\":{\"bgcolor\":\"#E5ECF6\",\"angularaxis\":{\"gridcolor\":\"white\",\"linecolor\":\"white\",\"ticks\":\"\"},\"radialaxis\":{\"gridcolor\":\"white\",\"linecolor\":\"white\",\"ticks\":\"\"}},\"ternary\":{\"bgcolor\":\"#E5ECF6\",\"aaxis\":{\"gridcolor\":\"white\",\"linecolor\":\"white\",\"ticks\":\"\"},\"baxis\":{\"gridcolor\":\"white\",\"linecolor\":\"white\",\"ticks\":\"\"},\"caxis\":{\"gridcolor\":\"white\",\"linecolor\":\"white\",\"ticks\":\"\"}},\"coloraxis\":{\"colorbar\":{\"outlinewidth\":0,\"ticks\":\"\"}},\"colorscale\":{\"sequential\":[[0.0,\"#0d0887\"],[0.1111111111111111,\"#46039f\"],[0.2222222222222222,\"#7201a8\"],[0.3333333333333333,\"#9c179e\"],[0.4444444444444444,\"#bd3786\"],[0.5555555555555556,\"#d8576b\"],[0.6666666666666666,\"#ed7953\"],[0.7777777777777778,\"#fb9f3a\"],[0.8888888888888888,\"#fdca26\"],[1.0,\"#f0f921\"]],\"sequentialminus\":[[0.0,\"#0d0887\"],[0.1111111111111111,\"#46039f\"],[0.2222222222222222,\"#7201a8\"],[0.3333333333333333,\"#9c179e\"],[0.4444444444444444,\"#bd3786\"],[0.5555555555555556,\"#d8576b\"],[0.6666666666666666,\"#ed7953\"],[0.7777777777777778,\"#fb9f3a\"],[0.8888888888888888,\"#fdca26\"],[1.0,\"#f0f921\"]],\"diverging\":[[0,\"#8e0152\"],[0.1,\"#c51b7d\"],[0.2,\"#de77ae\"],[0.3,\"#f1b6da\"],[0.4,\"#fde0ef\"],[0.5,\"#f7f7f7\"],[0.6,\"#e6f5d0\"],[0.7,\"#b8e186\"],[0.8,\"#7fbc41\"],[0.9,\"#4d9221\"],[1,\"#276419\"]]},\"xaxis\":{\"gridcolor\":\"white\",\"linecolor\":\"white\",\"ticks\":\"\",\"title\":{\"standoff\":15},\"zerolinecolor\":\"white\",\"automargin\":true,\"zerolinewidth\":2},\"yaxis\":{\"gridcolor\":\"white\",\"linecolor\":\"white\",\"ticks\":\"\",\"title\":{\"standoff\":15},\"zerolinecolor\":\"white\",\"automargin\":true,\"zerolinewidth\":2},\"scene\":{\"xaxis\":{\"backgroundcolor\":\"#E5ECF6\",\"gridcolor\":\"white\",\"linecolor\":\"white\",\"showbackground\":true,\"ticks\":\"\",\"zerolinecolor\":\"white\",\"gridwidth\":2},\"yaxis\":{\"backgroundcolor\":\"#E5ECF6\",\"gridcolor\":\"white\",\"linecolor\":\"white\",\"showbackground\":true,\"ticks\":\"\",\"zerolinecolor\":\"white\",\"gridwidth\":2},\"zaxis\":{\"backgroundcolor\":\"#E5ECF6\",\"gridcolor\":\"white\",\"linecolor\":\"white\",\"showbackground\":true,\"ticks\":\"\",\"zerolinecolor\":\"white\",\"gridwidth\":2}},\"shapedefaults\":{\"line\":{\"color\":\"#2a3f5f\"}},\"annotationdefaults\":{\"arrowcolor\":\"#2a3f5f\",\"arrowhead\":0,\"arrowwidth\":1},\"geo\":{\"bgcolor\":\"white\",\"landcolor\":\"#E5ECF6\",\"subunitcolor\":\"white\",\"showland\":true,\"showlakes\":true,\"lakecolor\":\"white\"},\"title\":{\"x\":0.05},\"mapbox\":{\"style\":\"light\"}}},\"xaxis\":{\"anchor\":\"y\",\"domain\":[0.55,1.0],\"title\":{\"text\":\"Hour\"}},\"yaxis\":{\"anchor\":\"x\",\"domain\":[0.72,1.0],\"title\":{\"text\":\"Count\"}},\"xaxis2\":{\"anchor\":\"y2\",\"domain\":[0.0,0.45],\"title\":{\"text\":\"Emotion\"}},\"yaxis2\":{\"anchor\":\"x2\",\"domain\":[0.36,0.6399999999999999],\"title\":{\"text\":\"Count\"}},\"xaxis3\":{\"anchor\":\"y3\",\"domain\":[0.55,1.0],\"title\":{\"text\":\"Average Likes\"}},\"yaxis3\":{\"anchor\":\"x3\",\"domain\":[0.36,0.6399999999999999],\"title\":{\"text\":\"Average Retweets\"}},\"xaxis4\":{\"anchor\":\"y4\",\"domain\":[0.0,0.45],\"title\":{\"text\":\"Subjectivity\"}},\"yaxis4\":{\"anchor\":\"x4\",\"domain\":[0.0,0.27999999999999997],\"title\":{\"text\":\"Polarity\"}},\"xaxis5\":{\"anchor\":\"y5\",\"domain\":[0.55,1.0],\"title\":{\"text\":\"Date\"}},\"yaxis5\":{\"anchor\":\"x5\",\"domain\":[0.0,0.27999999999999997],\"title\":{\"text\":\"Average Polarity\"}},\"annotations\":[{\"font\":{\"size\":16},\"showarrow\":false,\"text\":\"Sentiment Distribution\",\"x\":0.225,\"xanchor\":\"center\",\"xref\":\"paper\",\"y\":1.0,\"yanchor\":\"bottom\",\"yref\":\"paper\"},{\"font\":{\"size\":16},\"showarrow\":false,\"text\":\"Hourly Sentiment Patterns\",\"x\":0.775,\"xanchor\":\"center\",\"xref\":\"paper\",\"y\":1.0,\"yanchor\":\"bottom\",\"yref\":\"paper\"},{\"font\":{\"size\":16},\"showarrow\":false,\"text\":\"Emotion Analysis\",\"x\":0.225,\"xanchor\":\"center\",\"xref\":\"paper\",\"y\":0.6399999999999999,\"yanchor\":\"bottom\",\"yref\":\"paper\"},{\"font\":{\"size\":16},\"showarrow\":false,\"text\":\"Engagement vs Sentiment\",\"x\":0.775,\"xanchor\":\"center\",\"xref\":\"paper\",\"y\":0.6399999999999999,\"yanchor\":\"bottom\",\"yref\":\"paper\"},{\"font\":{\"size\":16},\"showarrow\":false,\"text\":\"Polarity vs Subjectivity\",\"x\":0.225,\"xanchor\":\"center\",\"xref\":\"paper\",\"y\":0.27999999999999997,\"yanchor\":\"bottom\",\"yref\":\"paper\"},{\"font\":{\"size\":16},\"showarrow\":false,\"text\":\"Daily Trend\",\"x\":0.775,\"xanchor\":\"center\",\"xref\":\"paper\",\"y\":0.27999999999999997,\"yanchor\":\"bottom\",\"yref\":\"paper\"}],\"title\":{\"font\":{\"size\":24},\"text\":\"Mood of the World Analysis Dashboard\",\"x\":0.5},\"font\":{\"size\":12},\"height\":1200,\"paper_bgcolor\":\"white\",\"plot_bgcolor\":\"white\"},                        {\"responsive\": true}                    ).then(function(){\n",
              "                            \n",
              "var gd = document.getElementById('c9656765-99f3-4aae-ab1c-11fa4e09d6b5');\n",
              "var x = new MutationObserver(function (mutations, observer) {{\n",
              "        var display = window.getComputedStyle(gd).display;\n",
              "        if (!display || display === 'none') {{\n",
              "            console.log([gd, 'removed!']);\n",
              "            Plotly.purge(gd);\n",
              "            observer.disconnect();\n",
              "        }}\n",
              "}});\n",
              "\n",
              "// Listen for the removal of the full notebook cells\n",
              "var notebookContainer = gd.closest('#notebook-container');\n",
              "if (notebookContainer) {{\n",
              "    x.observe(notebookContainer, {childList: true});\n",
              "}}\n",
              "\n",
              "// Listen for the clearing of the current output cell\n",
              "var outputEl = gd.closest('.output');\n",
              "if (outputEl) {{\n",
              "    x.observe(outputEl, {childList: true});\n",
              "}}\n",
              "\n",
              "                        })                };                });            </script>        </div>"
            ]
          },
          "metadata": {}
        },
        {
          "output_type": "stream",
          "name": "stdout",
          "text": [
            "\n",
            " Emotion Heatmap...\n"
          ]
        },
        {
          "output_type": "display_data",
          "data": {
            "application/vnd.plotly.v1+json": {
              "data": [
                {
                  "colorscale": [
                    [
                      0,
                      "#440154"
                    ],
                    [
                      0.1111111111111111,
                      "#482878"
                    ],
                    [
                      0.2222222222222222,
                      "#3e4989"
                    ],
                    [
                      0.3333333333333333,
                      "#31688e"
                    ],
                    [
                      0.4444444444444444,
                      "#26828e"
                    ],
                    [
                      0.5555555555555556,
                      "#1f9e89"
                    ],
                    [
                      0.6666666666666666,
                      "#35b779"
                    ],
                    [
                      0.7777777777777778,
                      "#6ece58"
                    ],
                    [
                      0.8888888888888888,
                      "#b5de2b"
                    ],
                    [
                      1,
                      "#fde725"
                    ]
                  ],
                  "hoverongaps": false,
                  "hovertemplate": "<b>Emotion Pattern</b><br>Hour: %{x}<br>Emotion: %{y}<br>Count: %{z}<extra></extra>",
                  "x": [
                    0,
                    1,
                    2,
                    3,
                    4,
                    5,
                    6,
                    7,
                    8,
                    9,
                    10,
                    11,
                    12,
                    13,
                    14,
                    15,
                    16,
                    17,
                    18,
                    19,
                    20,
                    21,
                    22,
                    23
                  ],
                  "y": [
                    "neutral",
                    "joy",
                    "gratitude",
                    "sadness"
                  ],
                  "z": [
                    [
                      33,
                      37,
                      33,
                      37,
                      31,
                      36,
                      37,
                      29,
                      38,
                      36,
                      34,
                      35,
                      37,
                      34,
                      36,
                      35,
                      30,
                      33,
                      37,
                      38,
                      32,
                      26,
                      35,
                      36
                    ],
                    [
                      5,
                      8,
                      9,
                      9,
                      6,
                      11,
                      2,
                      9,
                      10,
                      7,
                      7,
                      9,
                      10,
                      7,
                      6,
                      4,
                      10,
                      7,
                      5,
                      5,
                      7,
                      12,
                      7,
                      5
                    ],
                    [
                      11,
                      4,
                      5,
                      4,
                      11,
                      2,
                      9,
                      11,
                      3,
                      6,
                      9,
                      5,
                      3,
                      6,
                      6,
                      9,
                      9,
                      7,
                      8,
                      7,
                      7,
                      8,
                      7,
                      9
                    ],
                    [
                      1,
                      1,
                      3,
                      0,
                      2,
                      1,
                      2,
                      1,
                      0,
                      1,
                      0,
                      1,
                      0,
                      3,
                      2,
                      2,
                      1,
                      3,
                      0,
                      0,
                      3,
                      4,
                      1,
                      0
                    ]
                  ],
                  "type": "heatmap"
                }
              ],
              "layout": {
                "template": {
                  "data": {
                    "histogram2dcontour": [
                      {
                        "type": "histogram2dcontour",
                        "colorbar": {
                          "outlinewidth": 0,
                          "ticks": ""
                        },
                        "colorscale": [
                          [
                            0,
                            "#0d0887"
                          ],
                          [
                            0.1111111111111111,
                            "#46039f"
                          ],
                          [
                            0.2222222222222222,
                            "#7201a8"
                          ],
                          [
                            0.3333333333333333,
                            "#9c179e"
                          ],
                          [
                            0.4444444444444444,
                            "#bd3786"
                          ],
                          [
                            0.5555555555555556,
                            "#d8576b"
                          ],
                          [
                            0.6666666666666666,
                            "#ed7953"
                          ],
                          [
                            0.7777777777777778,
                            "#fb9f3a"
                          ],
                          [
                            0.8888888888888888,
                            "#fdca26"
                          ],
                          [
                            1,
                            "#f0f921"
                          ]
                        ]
                      }
                    ],
                    "choropleth": [
                      {
                        "type": "choropleth",
                        "colorbar": {
                          "outlinewidth": 0,
                          "ticks": ""
                        }
                      }
                    ],
                    "histogram2d": [
                      {
                        "type": "histogram2d",
                        "colorbar": {
                          "outlinewidth": 0,
                          "ticks": ""
                        },
                        "colorscale": [
                          [
                            0,
                            "#0d0887"
                          ],
                          [
                            0.1111111111111111,
                            "#46039f"
                          ],
                          [
                            0.2222222222222222,
                            "#7201a8"
                          ],
                          [
                            0.3333333333333333,
                            "#9c179e"
                          ],
                          [
                            0.4444444444444444,
                            "#bd3786"
                          ],
                          [
                            0.5555555555555556,
                            "#d8576b"
                          ],
                          [
                            0.6666666666666666,
                            "#ed7953"
                          ],
                          [
                            0.7777777777777778,
                            "#fb9f3a"
                          ],
                          [
                            0.8888888888888888,
                            "#fdca26"
                          ],
                          [
                            1,
                            "#f0f921"
                          ]
                        ]
                      }
                    ],
                    "heatmap": [
                      {
                        "type": "heatmap",
                        "colorbar": {
                          "outlinewidth": 0,
                          "ticks": ""
                        },
                        "colorscale": [
                          [
                            0,
                            "#0d0887"
                          ],
                          [
                            0.1111111111111111,
                            "#46039f"
                          ],
                          [
                            0.2222222222222222,
                            "#7201a8"
                          ],
                          [
                            0.3333333333333333,
                            "#9c179e"
                          ],
                          [
                            0.4444444444444444,
                            "#bd3786"
                          ],
                          [
                            0.5555555555555556,
                            "#d8576b"
                          ],
                          [
                            0.6666666666666666,
                            "#ed7953"
                          ],
                          [
                            0.7777777777777778,
                            "#fb9f3a"
                          ],
                          [
                            0.8888888888888888,
                            "#fdca26"
                          ],
                          [
                            1,
                            "#f0f921"
                          ]
                        ]
                      }
                    ],
                    "heatmapgl": [
                      {
                        "type": "heatmapgl",
                        "colorbar": {
                          "outlinewidth": 0,
                          "ticks": ""
                        },
                        "colorscale": [
                          [
                            0,
                            "#0d0887"
                          ],
                          [
                            0.1111111111111111,
                            "#46039f"
                          ],
                          [
                            0.2222222222222222,
                            "#7201a8"
                          ],
                          [
                            0.3333333333333333,
                            "#9c179e"
                          ],
                          [
                            0.4444444444444444,
                            "#bd3786"
                          ],
                          [
                            0.5555555555555556,
                            "#d8576b"
                          ],
                          [
                            0.6666666666666666,
                            "#ed7953"
                          ],
                          [
                            0.7777777777777778,
                            "#fb9f3a"
                          ],
                          [
                            0.8888888888888888,
                            "#fdca26"
                          ],
                          [
                            1,
                            "#f0f921"
                          ]
                        ]
                      }
                    ],
                    "contourcarpet": [
                      {
                        "type": "contourcarpet",
                        "colorbar": {
                          "outlinewidth": 0,
                          "ticks": ""
                        }
                      }
                    ],
                    "contour": [
                      {
                        "type": "contour",
                        "colorbar": {
                          "outlinewidth": 0,
                          "ticks": ""
                        },
                        "colorscale": [
                          [
                            0,
                            "#0d0887"
                          ],
                          [
                            0.1111111111111111,
                            "#46039f"
                          ],
                          [
                            0.2222222222222222,
                            "#7201a8"
                          ],
                          [
                            0.3333333333333333,
                            "#9c179e"
                          ],
                          [
                            0.4444444444444444,
                            "#bd3786"
                          ],
                          [
                            0.5555555555555556,
                            "#d8576b"
                          ],
                          [
                            0.6666666666666666,
                            "#ed7953"
                          ],
                          [
                            0.7777777777777778,
                            "#fb9f3a"
                          ],
                          [
                            0.8888888888888888,
                            "#fdca26"
                          ],
                          [
                            1,
                            "#f0f921"
                          ]
                        ]
                      }
                    ],
                    "surface": [
                      {
                        "type": "surface",
                        "colorbar": {
                          "outlinewidth": 0,
                          "ticks": ""
                        },
                        "colorscale": [
                          [
                            0,
                            "#0d0887"
                          ],
                          [
                            0.1111111111111111,
                            "#46039f"
                          ],
                          [
                            0.2222222222222222,
                            "#7201a8"
                          ],
                          [
                            0.3333333333333333,
                            "#9c179e"
                          ],
                          [
                            0.4444444444444444,
                            "#bd3786"
                          ],
                          [
                            0.5555555555555556,
                            "#d8576b"
                          ],
                          [
                            0.6666666666666666,
                            "#ed7953"
                          ],
                          [
                            0.7777777777777778,
                            "#fb9f3a"
                          ],
                          [
                            0.8888888888888888,
                            "#fdca26"
                          ],
                          [
                            1,
                            "#f0f921"
                          ]
                        ]
                      }
                    ],
                    "mesh3d": [
                      {
                        "type": "mesh3d",
                        "colorbar": {
                          "outlinewidth": 0,
                          "ticks": ""
                        }
                      }
                    ],
                    "scatter": [
                      {
                        "fillpattern": {
                          "fillmode": "overlay",
                          "size": 10,
                          "solidity": 0.2
                        },
                        "type": "scatter"
                      }
                    ],
                    "parcoords": [
                      {
                        "type": "parcoords",
                        "line": {
                          "colorbar": {
                            "outlinewidth": 0,
                            "ticks": ""
                          }
                        }
                      }
                    ],
                    "scatterpolargl": [
                      {
                        "type": "scatterpolargl",
                        "marker": {
                          "colorbar": {
                            "outlinewidth": 0,
                            "ticks": ""
                          }
                        }
                      }
                    ],
                    "bar": [
                      {
                        "error_x": {
                          "color": "#2a3f5f"
                        },
                        "error_y": {
                          "color": "#2a3f5f"
                        },
                        "marker": {
                          "line": {
                            "color": "#E5ECF6",
                            "width": 0.5
                          },
                          "pattern": {
                            "fillmode": "overlay",
                            "size": 10,
                            "solidity": 0.2
                          }
                        },
                        "type": "bar"
                      }
                    ],
                    "scattergeo": [
                      {
                        "type": "scattergeo",
                        "marker": {
                          "colorbar": {
                            "outlinewidth": 0,
                            "ticks": ""
                          }
                        }
                      }
                    ],
                    "scatterpolar": [
                      {
                        "type": "scatterpolar",
                        "marker": {
                          "colorbar": {
                            "outlinewidth": 0,
                            "ticks": ""
                          }
                        }
                      }
                    ],
                    "histogram": [
                      {
                        "marker": {
                          "pattern": {
                            "fillmode": "overlay",
                            "size": 10,
                            "solidity": 0.2
                          }
                        },
                        "type": "histogram"
                      }
                    ],
                    "scattergl": [
                      {
                        "type": "scattergl",
                        "marker": {
                          "colorbar": {
                            "outlinewidth": 0,
                            "ticks": ""
                          }
                        }
                      }
                    ],
                    "scatter3d": [
                      {
                        "type": "scatter3d",
                        "line": {
                          "colorbar": {
                            "outlinewidth": 0,
                            "ticks": ""
                          }
                        },
                        "marker": {
                          "colorbar": {
                            "outlinewidth": 0,
                            "ticks": ""
                          }
                        }
                      }
                    ],
                    "scattermapbox": [
                      {
                        "type": "scattermapbox",
                        "marker": {
                          "colorbar": {
                            "outlinewidth": 0,
                            "ticks": ""
                          }
                        }
                      }
                    ],
                    "scatterternary": [
                      {
                        "type": "scatterternary",
                        "marker": {
                          "colorbar": {
                            "outlinewidth": 0,
                            "ticks": ""
                          }
                        }
                      }
                    ],
                    "scattercarpet": [
                      {
                        "type": "scattercarpet",
                        "marker": {
                          "colorbar": {
                            "outlinewidth": 0,
                            "ticks": ""
                          }
                        }
                      }
                    ],
                    "carpet": [
                      {
                        "aaxis": {
                          "endlinecolor": "#2a3f5f",
                          "gridcolor": "white",
                          "linecolor": "white",
                          "minorgridcolor": "white",
                          "startlinecolor": "#2a3f5f"
                        },
                        "baxis": {
                          "endlinecolor": "#2a3f5f",
                          "gridcolor": "white",
                          "linecolor": "white",
                          "minorgridcolor": "white",
                          "startlinecolor": "#2a3f5f"
                        },
                        "type": "carpet"
                      }
                    ],
                    "table": [
                      {
                        "cells": {
                          "fill": {
                            "color": "#EBF0F8"
                          },
                          "line": {
                            "color": "white"
                          }
                        },
                        "header": {
                          "fill": {
                            "color": "#C8D4E3"
                          },
                          "line": {
                            "color": "white"
                          }
                        },
                        "type": "table"
                      }
                    ],
                    "barpolar": [
                      {
                        "marker": {
                          "line": {
                            "color": "#E5ECF6",
                            "width": 0.5
                          },
                          "pattern": {
                            "fillmode": "overlay",
                            "size": 10,
                            "solidity": 0.2
                          }
                        },
                        "type": "barpolar"
                      }
                    ],
                    "pie": [
                      {
                        "automargin": true,
                        "type": "pie"
                      }
                    ]
                  },
                  "layout": {
                    "autotypenumbers": "strict",
                    "colorway": [
                      "#636efa",
                      "#EF553B",
                      "#00cc96",
                      "#ab63fa",
                      "#FFA15A",
                      "#19d3f3",
                      "#FF6692",
                      "#B6E880",
                      "#FF97FF",
                      "#FECB52"
                    ],
                    "font": {
                      "color": "#2a3f5f"
                    },
                    "hovermode": "closest",
                    "hoverlabel": {
                      "align": "left"
                    },
                    "paper_bgcolor": "white",
                    "plot_bgcolor": "#E5ECF6",
                    "polar": {
                      "bgcolor": "#E5ECF6",
                      "angularaxis": {
                        "gridcolor": "white",
                        "linecolor": "white",
                        "ticks": ""
                      },
                      "radialaxis": {
                        "gridcolor": "white",
                        "linecolor": "white",
                        "ticks": ""
                      }
                    },
                    "ternary": {
                      "bgcolor": "#E5ECF6",
                      "aaxis": {
                        "gridcolor": "white",
                        "linecolor": "white",
                        "ticks": ""
                      },
                      "baxis": {
                        "gridcolor": "white",
                        "linecolor": "white",
                        "ticks": ""
                      },
                      "caxis": {
                        "gridcolor": "white",
                        "linecolor": "white",
                        "ticks": ""
                      }
                    },
                    "coloraxis": {
                      "colorbar": {
                        "outlinewidth": 0,
                        "ticks": ""
                      }
                    },
                    "colorscale": {
                      "sequential": [
                        [
                          0,
                          "#0d0887"
                        ],
                        [
                          0.1111111111111111,
                          "#46039f"
                        ],
                        [
                          0.2222222222222222,
                          "#7201a8"
                        ],
                        [
                          0.3333333333333333,
                          "#9c179e"
                        ],
                        [
                          0.4444444444444444,
                          "#bd3786"
                        ],
                        [
                          0.5555555555555556,
                          "#d8576b"
                        ],
                        [
                          0.6666666666666666,
                          "#ed7953"
                        ],
                        [
                          0.7777777777777778,
                          "#fb9f3a"
                        ],
                        [
                          0.8888888888888888,
                          "#fdca26"
                        ],
                        [
                          1,
                          "#f0f921"
                        ]
                      ],
                      "sequentialminus": [
                        [
                          0,
                          "#0d0887"
                        ],
                        [
                          0.1111111111111111,
                          "#46039f"
                        ],
                        [
                          0.2222222222222222,
                          "#7201a8"
                        ],
                        [
                          0.3333333333333333,
                          "#9c179e"
                        ],
                        [
                          0.4444444444444444,
                          "#bd3786"
                        ],
                        [
                          0.5555555555555556,
                          "#d8576b"
                        ],
                        [
                          0.6666666666666666,
                          "#ed7953"
                        ],
                        [
                          0.7777777777777778,
                          "#fb9f3a"
                        ],
                        [
                          0.8888888888888888,
                          "#fdca26"
                        ],
                        [
                          1,
                          "#f0f921"
                        ]
                      ],
                      "diverging": [
                        [
                          0,
                          "#8e0152"
                        ],
                        [
                          0.1,
                          "#c51b7d"
                        ],
                        [
                          0.2,
                          "#de77ae"
                        ],
                        [
                          0.3,
                          "#f1b6da"
                        ],
                        [
                          0.4,
                          "#fde0ef"
                        ],
                        [
                          0.5,
                          "#f7f7f7"
                        ],
                        [
                          0.6,
                          "#e6f5d0"
                        ],
                        [
                          0.7,
                          "#b8e186"
                        ],
                        [
                          0.8,
                          "#7fbc41"
                        ],
                        [
                          0.9,
                          "#4d9221"
                        ],
                        [
                          1,
                          "#276419"
                        ]
                      ]
                    },
                    "xaxis": {
                      "gridcolor": "white",
                      "linecolor": "white",
                      "ticks": "",
                      "title": {
                        "standoff": 15
                      },
                      "zerolinecolor": "white",
                      "automargin": true,
                      "zerolinewidth": 2
                    },
                    "yaxis": {
                      "gridcolor": "white",
                      "linecolor": "white",
                      "ticks": "",
                      "title": {
                        "standoff": 15
                      },
                      "zerolinecolor": "white",
                      "automargin": true,
                      "zerolinewidth": 2
                    },
                    "scene": {
                      "xaxis": {
                        "backgroundcolor": "#E5ECF6",
                        "gridcolor": "white",
                        "linecolor": "white",
                        "showbackground": true,
                        "ticks": "",
                        "zerolinecolor": "white",
                        "gridwidth": 2
                      },
                      "yaxis": {
                        "backgroundcolor": "#E5ECF6",
                        "gridcolor": "white",
                        "linecolor": "white",
                        "showbackground": true,
                        "ticks": "",
                        "zerolinecolor": "white",
                        "gridwidth": 2
                      },
                      "zaxis": {
                        "backgroundcolor": "#E5ECF6",
                        "gridcolor": "white",
                        "linecolor": "white",
                        "showbackground": true,
                        "ticks": "",
                        "zerolinecolor": "white",
                        "gridwidth": 2
                      }
                    },
                    "shapedefaults": {
                      "line": {
                        "color": "#2a3f5f"
                      }
                    },
                    "annotationdefaults": {
                      "arrowcolor": "#2a3f5f",
                      "arrowhead": 0,
                      "arrowwidth": 1
                    },
                    "geo": {
                      "bgcolor": "white",
                      "landcolor": "#E5ECF6",
                      "subunitcolor": "white",
                      "showland": true,
                      "showlakes": true,
                      "lakecolor": "white"
                    },
                    "title": {
                      "x": 0.05
                    },
                    "mapbox": {
                      "style": "light"
                    }
                  }
                },
                "title": {
                  "text": "Emotion Patterns Throughout the Day",
                  "font": {
                    "size": 20
                  },
                  "x": 0.5
                },
                "font": {
                  "size": 12
                },
                "xaxis": {
                  "title": {
                    "text": "Hour of Day"
                  }
                },
                "yaxis": {
                  "title": {
                    "text": "Emotion"
                  }
                },
                "height": 600,
                "width": 900
              },
              "config": {
                "plotlyServerURL": "https://plot.ly"
              }
            },
            "text/html": [
              "<div>                            <div id=\"7126f3f9-e69c-458d-b754-4c9f42ea785e\" class=\"plotly-graph-div\" style=\"height:600px; width:900px;\"></div>            <script type=\"text/javascript\">                require([\"plotly\"], function(Plotly) {                    window.PLOTLYENV=window.PLOTLYENV || {};                                    if (document.getElementById(\"7126f3f9-e69c-458d-b754-4c9f42ea785e\")) {                    Plotly.newPlot(                        \"7126f3f9-e69c-458d-b754-4c9f42ea785e\",                        [{\"colorscale\":[[0.0,\"#440154\"],[0.1111111111111111,\"#482878\"],[0.2222222222222222,\"#3e4989\"],[0.3333333333333333,\"#31688e\"],[0.4444444444444444,\"#26828e\"],[0.5555555555555556,\"#1f9e89\"],[0.6666666666666666,\"#35b779\"],[0.7777777777777778,\"#6ece58\"],[0.8888888888888888,\"#b5de2b\"],[1.0,\"#fde725\"]],\"hoverongaps\":false,\"hovertemplate\":\"\\u003cb\\u003eEmotion Pattern\\u003c\\u002fb\\u003e\\u003cbr\\u003eHour: %{x}\\u003cbr\\u003eEmotion: %{y}\\u003cbr\\u003eCount: %{z}\\u003cextra\\u003e\\u003c\\u002fextra\\u003e\",\"x\":[0,1,2,3,4,5,6,7,8,9,10,11,12,13,14,15,16,17,18,19,20,21,22,23],\"y\":[\"neutral\",\"joy\",\"gratitude\",\"sadness\"],\"z\":[[33,37,33,37,31,36,37,29,38,36,34,35,37,34,36,35,30,33,37,38,32,26,35,36],[5,8,9,9,6,11,2,9,10,7,7,9,10,7,6,4,10,7,5,5,7,12,7,5],[11,4,5,4,11,2,9,11,3,6,9,5,3,6,6,9,9,7,8,7,7,8,7,9],[1,1,3,0,2,1,2,1,0,1,0,1,0,3,2,2,1,3,0,0,3,4,1,0]],\"type\":\"heatmap\"}],                        {\"template\":{\"data\":{\"histogram2dcontour\":[{\"type\":\"histogram2dcontour\",\"colorbar\":{\"outlinewidth\":0,\"ticks\":\"\"},\"colorscale\":[[0.0,\"#0d0887\"],[0.1111111111111111,\"#46039f\"],[0.2222222222222222,\"#7201a8\"],[0.3333333333333333,\"#9c179e\"],[0.4444444444444444,\"#bd3786\"],[0.5555555555555556,\"#d8576b\"],[0.6666666666666666,\"#ed7953\"],[0.7777777777777778,\"#fb9f3a\"],[0.8888888888888888,\"#fdca26\"],[1.0,\"#f0f921\"]]}],\"choropleth\":[{\"type\":\"choropleth\",\"colorbar\":{\"outlinewidth\":0,\"ticks\":\"\"}}],\"histogram2d\":[{\"type\":\"histogram2d\",\"colorbar\":{\"outlinewidth\":0,\"ticks\":\"\"},\"colorscale\":[[0.0,\"#0d0887\"],[0.1111111111111111,\"#46039f\"],[0.2222222222222222,\"#7201a8\"],[0.3333333333333333,\"#9c179e\"],[0.4444444444444444,\"#bd3786\"],[0.5555555555555556,\"#d8576b\"],[0.6666666666666666,\"#ed7953\"],[0.7777777777777778,\"#fb9f3a\"],[0.8888888888888888,\"#fdca26\"],[1.0,\"#f0f921\"]]}],\"heatmap\":[{\"type\":\"heatmap\",\"colorbar\":{\"outlinewidth\":0,\"ticks\":\"\"},\"colorscale\":[[0.0,\"#0d0887\"],[0.1111111111111111,\"#46039f\"],[0.2222222222222222,\"#7201a8\"],[0.3333333333333333,\"#9c179e\"],[0.4444444444444444,\"#bd3786\"],[0.5555555555555556,\"#d8576b\"],[0.6666666666666666,\"#ed7953\"],[0.7777777777777778,\"#fb9f3a\"],[0.8888888888888888,\"#fdca26\"],[1.0,\"#f0f921\"]]}],\"heatmapgl\":[{\"type\":\"heatmapgl\",\"colorbar\":{\"outlinewidth\":0,\"ticks\":\"\"},\"colorscale\":[[0.0,\"#0d0887\"],[0.1111111111111111,\"#46039f\"],[0.2222222222222222,\"#7201a8\"],[0.3333333333333333,\"#9c179e\"],[0.4444444444444444,\"#bd3786\"],[0.5555555555555556,\"#d8576b\"],[0.6666666666666666,\"#ed7953\"],[0.7777777777777778,\"#fb9f3a\"],[0.8888888888888888,\"#fdca26\"],[1.0,\"#f0f921\"]]}],\"contourcarpet\":[{\"type\":\"contourcarpet\",\"colorbar\":{\"outlinewidth\":0,\"ticks\":\"\"}}],\"contour\":[{\"type\":\"contour\",\"colorbar\":{\"outlinewidth\":0,\"ticks\":\"\"},\"colorscale\":[[0.0,\"#0d0887\"],[0.1111111111111111,\"#46039f\"],[0.2222222222222222,\"#7201a8\"],[0.3333333333333333,\"#9c179e\"],[0.4444444444444444,\"#bd3786\"],[0.5555555555555556,\"#d8576b\"],[0.6666666666666666,\"#ed7953\"],[0.7777777777777778,\"#fb9f3a\"],[0.8888888888888888,\"#fdca26\"],[1.0,\"#f0f921\"]]}],\"surface\":[{\"type\":\"surface\",\"colorbar\":{\"outlinewidth\":0,\"ticks\":\"\"},\"colorscale\":[[0.0,\"#0d0887\"],[0.1111111111111111,\"#46039f\"],[0.2222222222222222,\"#7201a8\"],[0.3333333333333333,\"#9c179e\"],[0.4444444444444444,\"#bd3786\"],[0.5555555555555556,\"#d8576b\"],[0.6666666666666666,\"#ed7953\"],[0.7777777777777778,\"#fb9f3a\"],[0.8888888888888888,\"#fdca26\"],[1.0,\"#f0f921\"]]}],\"mesh3d\":[{\"type\":\"mesh3d\",\"colorbar\":{\"outlinewidth\":0,\"ticks\":\"\"}}],\"scatter\":[{\"fillpattern\":{\"fillmode\":\"overlay\",\"size\":10,\"solidity\":0.2},\"type\":\"scatter\"}],\"parcoords\":[{\"type\":\"parcoords\",\"line\":{\"colorbar\":{\"outlinewidth\":0,\"ticks\":\"\"}}}],\"scatterpolargl\":[{\"type\":\"scatterpolargl\",\"marker\":{\"colorbar\":{\"outlinewidth\":0,\"ticks\":\"\"}}}],\"bar\":[{\"error_x\":{\"color\":\"#2a3f5f\"},\"error_y\":{\"color\":\"#2a3f5f\"},\"marker\":{\"line\":{\"color\":\"#E5ECF6\",\"width\":0.5},\"pattern\":{\"fillmode\":\"overlay\",\"size\":10,\"solidity\":0.2}},\"type\":\"bar\"}],\"scattergeo\":[{\"type\":\"scattergeo\",\"marker\":{\"colorbar\":{\"outlinewidth\":0,\"ticks\":\"\"}}}],\"scatterpolar\":[{\"type\":\"scatterpolar\",\"marker\":{\"colorbar\":{\"outlinewidth\":0,\"ticks\":\"\"}}}],\"histogram\":[{\"marker\":{\"pattern\":{\"fillmode\":\"overlay\",\"size\":10,\"solidity\":0.2}},\"type\":\"histogram\"}],\"scattergl\":[{\"type\":\"scattergl\",\"marker\":{\"colorbar\":{\"outlinewidth\":0,\"ticks\":\"\"}}}],\"scatter3d\":[{\"type\":\"scatter3d\",\"line\":{\"colorbar\":{\"outlinewidth\":0,\"ticks\":\"\"}},\"marker\":{\"colorbar\":{\"outlinewidth\":0,\"ticks\":\"\"}}}],\"scattermapbox\":[{\"type\":\"scattermapbox\",\"marker\":{\"colorbar\":{\"outlinewidth\":0,\"ticks\":\"\"}}}],\"scatterternary\":[{\"type\":\"scatterternary\",\"marker\":{\"colorbar\":{\"outlinewidth\":0,\"ticks\":\"\"}}}],\"scattercarpet\":[{\"type\":\"scattercarpet\",\"marker\":{\"colorbar\":{\"outlinewidth\":0,\"ticks\":\"\"}}}],\"carpet\":[{\"aaxis\":{\"endlinecolor\":\"#2a3f5f\",\"gridcolor\":\"white\",\"linecolor\":\"white\",\"minorgridcolor\":\"white\",\"startlinecolor\":\"#2a3f5f\"},\"baxis\":{\"endlinecolor\":\"#2a3f5f\",\"gridcolor\":\"white\",\"linecolor\":\"white\",\"minorgridcolor\":\"white\",\"startlinecolor\":\"#2a3f5f\"},\"type\":\"carpet\"}],\"table\":[{\"cells\":{\"fill\":{\"color\":\"#EBF0F8\"},\"line\":{\"color\":\"white\"}},\"header\":{\"fill\":{\"color\":\"#C8D4E3\"},\"line\":{\"color\":\"white\"}},\"type\":\"table\"}],\"barpolar\":[{\"marker\":{\"line\":{\"color\":\"#E5ECF6\",\"width\":0.5},\"pattern\":{\"fillmode\":\"overlay\",\"size\":10,\"solidity\":0.2}},\"type\":\"barpolar\"}],\"pie\":[{\"automargin\":true,\"type\":\"pie\"}]},\"layout\":{\"autotypenumbers\":\"strict\",\"colorway\":[\"#636efa\",\"#EF553B\",\"#00cc96\",\"#ab63fa\",\"#FFA15A\",\"#19d3f3\",\"#FF6692\",\"#B6E880\",\"#FF97FF\",\"#FECB52\"],\"font\":{\"color\":\"#2a3f5f\"},\"hovermode\":\"closest\",\"hoverlabel\":{\"align\":\"left\"},\"paper_bgcolor\":\"white\",\"plot_bgcolor\":\"#E5ECF6\",\"polar\":{\"bgcolor\":\"#E5ECF6\",\"angularaxis\":{\"gridcolor\":\"white\",\"linecolor\":\"white\",\"ticks\":\"\"},\"radialaxis\":{\"gridcolor\":\"white\",\"linecolor\":\"white\",\"ticks\":\"\"}},\"ternary\":{\"bgcolor\":\"#E5ECF6\",\"aaxis\":{\"gridcolor\":\"white\",\"linecolor\":\"white\",\"ticks\":\"\"},\"baxis\":{\"gridcolor\":\"white\",\"linecolor\":\"white\",\"ticks\":\"\"},\"caxis\":{\"gridcolor\":\"white\",\"linecolor\":\"white\",\"ticks\":\"\"}},\"coloraxis\":{\"colorbar\":{\"outlinewidth\":0,\"ticks\":\"\"}},\"colorscale\":{\"sequential\":[[0.0,\"#0d0887\"],[0.1111111111111111,\"#46039f\"],[0.2222222222222222,\"#7201a8\"],[0.3333333333333333,\"#9c179e\"],[0.4444444444444444,\"#bd3786\"],[0.5555555555555556,\"#d8576b\"],[0.6666666666666666,\"#ed7953\"],[0.7777777777777778,\"#fb9f3a\"],[0.8888888888888888,\"#fdca26\"],[1.0,\"#f0f921\"]],\"sequentialminus\":[[0.0,\"#0d0887\"],[0.1111111111111111,\"#46039f\"],[0.2222222222222222,\"#7201a8\"],[0.3333333333333333,\"#9c179e\"],[0.4444444444444444,\"#bd3786\"],[0.5555555555555556,\"#d8576b\"],[0.6666666666666666,\"#ed7953\"],[0.7777777777777778,\"#fb9f3a\"],[0.8888888888888888,\"#fdca26\"],[1.0,\"#f0f921\"]],\"diverging\":[[0,\"#8e0152\"],[0.1,\"#c51b7d\"],[0.2,\"#de77ae\"],[0.3,\"#f1b6da\"],[0.4,\"#fde0ef\"],[0.5,\"#f7f7f7\"],[0.6,\"#e6f5d0\"],[0.7,\"#b8e186\"],[0.8,\"#7fbc41\"],[0.9,\"#4d9221\"],[1,\"#276419\"]]},\"xaxis\":{\"gridcolor\":\"white\",\"linecolor\":\"white\",\"ticks\":\"\",\"title\":{\"standoff\":15},\"zerolinecolor\":\"white\",\"automargin\":true,\"zerolinewidth\":2},\"yaxis\":{\"gridcolor\":\"white\",\"linecolor\":\"white\",\"ticks\":\"\",\"title\":{\"standoff\":15},\"zerolinecolor\":\"white\",\"automargin\":true,\"zerolinewidth\":2},\"scene\":{\"xaxis\":{\"backgroundcolor\":\"#E5ECF6\",\"gridcolor\":\"white\",\"linecolor\":\"white\",\"showbackground\":true,\"ticks\":\"\",\"zerolinecolor\":\"white\",\"gridwidth\":2},\"yaxis\":{\"backgroundcolor\":\"#E5ECF6\",\"gridcolor\":\"white\",\"linecolor\":\"white\",\"showbackground\":true,\"ticks\":\"\",\"zerolinecolor\":\"white\",\"gridwidth\":2},\"zaxis\":{\"backgroundcolor\":\"#E5ECF6\",\"gridcolor\":\"white\",\"linecolor\":\"white\",\"showbackground\":true,\"ticks\":\"\",\"zerolinecolor\":\"white\",\"gridwidth\":2}},\"shapedefaults\":{\"line\":{\"color\":\"#2a3f5f\"}},\"annotationdefaults\":{\"arrowcolor\":\"#2a3f5f\",\"arrowhead\":0,\"arrowwidth\":1},\"geo\":{\"bgcolor\":\"white\",\"landcolor\":\"#E5ECF6\",\"subunitcolor\":\"white\",\"showland\":true,\"showlakes\":true,\"lakecolor\":\"white\"},\"title\":{\"x\":0.05},\"mapbox\":{\"style\":\"light\"}}},\"title\":{\"text\":\"Emotion Patterns Throughout the Day\",\"font\":{\"size\":20},\"x\":0.5},\"font\":{\"size\":12},\"xaxis\":{\"title\":{\"text\":\"Hour of Day\"}},\"yaxis\":{\"title\":{\"text\":\"Emotion\"}},\"height\":600,\"width\":900},                        {\"responsive\": true}                    ).then(function(){\n",
              "                            \n",
              "var gd = document.getElementById('7126f3f9-e69c-458d-b754-4c9f42ea785e');\n",
              "var x = new MutationObserver(function (mutations, observer) {{\n",
              "        var display = window.getComputedStyle(gd).display;\n",
              "        if (!display || display === 'none') {{\n",
              "            console.log([gd, 'removed!']);\n",
              "            Plotly.purge(gd);\n",
              "            observer.disconnect();\n",
              "        }}\n",
              "}});\n",
              "\n",
              "// Listen for the removal of the full notebook cells\n",
              "var notebookContainer = gd.closest('#notebook-container');\n",
              "if (notebookContainer) {{\n",
              "    x.observe(notebookContainer, {childList: true});\n",
              "}}\n",
              "\n",
              "// Listen for the clearing of the current output cell\n",
              "var outputEl = gd.closest('.output');\n",
              "if (outputEl) {{\n",
              "    x.observe(outputEl, {childList: true});\n",
              "}}\n",
              "\n",
              "                        })                };                });            </script>        </div>"
            ]
          },
          "metadata": {}
        },
        {
          "output_type": "stream",
          "name": "stdout",
          "text": [
            "\n",
            " Word Frequency Analysis...\n"
          ]
        },
        {
          "output_type": "display_data",
          "data": {
            "application/vnd.plotly.v1+json": {
              "data": [
                {
                  "hovertemplate": "<b>Word Frequency</b><br>Word: %{x}<br>Frequency: %{y}<extra></extra>",
                  "marker": {
                    "color": [
                      "#440154",
                      "#482878",
                      "#3e4989",
                      "#31688e",
                      "#26828e",
                      "#1f9e89",
                      "#35b779",
                      "#6ece58",
                      "#b5de2b",
                      "#fde725"
                    ]
                  },
                  "x": [
                    "blessed",
                    "life",
                    "another",
                    "nothing",
                    "hope",
                    "morning",
                    "coffee",
                    "saying",
                    "weekend",
                    "incredibly",
                    "things",
                    "tomorrow",
                    "better",
                    "tonight",
                    "moving",
                    "start",
                    "accomplished",
                    "proud",
                    "regular",
                    "most",
                    "amazing",
                    "vibes",
                    "hitting",
                    "different",
                    "everyone"
                  ],
                  "y": [
                    214,
                    137,
                    128,
                    125,
                    120,
                    103,
                    102,
                    96,
                    95,
                    89,
                    83,
                    83,
                    83,
                    82,
                    80,
                    74,
                    72,
                    72,
                    71,
                    70,
                    70,
                    68,
                    68,
                    68,
                    64
                  ],
                  "type": "bar"
                }
              ],
              "layout": {
                "template": {
                  "data": {
                    "histogram2dcontour": [
                      {
                        "type": "histogram2dcontour",
                        "colorbar": {
                          "outlinewidth": 0,
                          "ticks": ""
                        },
                        "colorscale": [
                          [
                            0,
                            "#0d0887"
                          ],
                          [
                            0.1111111111111111,
                            "#46039f"
                          ],
                          [
                            0.2222222222222222,
                            "#7201a8"
                          ],
                          [
                            0.3333333333333333,
                            "#9c179e"
                          ],
                          [
                            0.4444444444444444,
                            "#bd3786"
                          ],
                          [
                            0.5555555555555556,
                            "#d8576b"
                          ],
                          [
                            0.6666666666666666,
                            "#ed7953"
                          ],
                          [
                            0.7777777777777778,
                            "#fb9f3a"
                          ],
                          [
                            0.8888888888888888,
                            "#fdca26"
                          ],
                          [
                            1,
                            "#f0f921"
                          ]
                        ]
                      }
                    ],
                    "choropleth": [
                      {
                        "type": "choropleth",
                        "colorbar": {
                          "outlinewidth": 0,
                          "ticks": ""
                        }
                      }
                    ],
                    "histogram2d": [
                      {
                        "type": "histogram2d",
                        "colorbar": {
                          "outlinewidth": 0,
                          "ticks": ""
                        },
                        "colorscale": [
                          [
                            0,
                            "#0d0887"
                          ],
                          [
                            0.1111111111111111,
                            "#46039f"
                          ],
                          [
                            0.2222222222222222,
                            "#7201a8"
                          ],
                          [
                            0.3333333333333333,
                            "#9c179e"
                          ],
                          [
                            0.4444444444444444,
                            "#bd3786"
                          ],
                          [
                            0.5555555555555556,
                            "#d8576b"
                          ],
                          [
                            0.6666666666666666,
                            "#ed7953"
                          ],
                          [
                            0.7777777777777778,
                            "#fb9f3a"
                          ],
                          [
                            0.8888888888888888,
                            "#fdca26"
                          ],
                          [
                            1,
                            "#f0f921"
                          ]
                        ]
                      }
                    ],
                    "heatmap": [
                      {
                        "type": "heatmap",
                        "colorbar": {
                          "outlinewidth": 0,
                          "ticks": ""
                        },
                        "colorscale": [
                          [
                            0,
                            "#0d0887"
                          ],
                          [
                            0.1111111111111111,
                            "#46039f"
                          ],
                          [
                            0.2222222222222222,
                            "#7201a8"
                          ],
                          [
                            0.3333333333333333,
                            "#9c179e"
                          ],
                          [
                            0.4444444444444444,
                            "#bd3786"
                          ],
                          [
                            0.5555555555555556,
                            "#d8576b"
                          ],
                          [
                            0.6666666666666666,
                            "#ed7953"
                          ],
                          [
                            0.7777777777777778,
                            "#fb9f3a"
                          ],
                          [
                            0.8888888888888888,
                            "#fdca26"
                          ],
                          [
                            1,
                            "#f0f921"
                          ]
                        ]
                      }
                    ],
                    "heatmapgl": [
                      {
                        "type": "heatmapgl",
                        "colorbar": {
                          "outlinewidth": 0,
                          "ticks": ""
                        },
                        "colorscale": [
                          [
                            0,
                            "#0d0887"
                          ],
                          [
                            0.1111111111111111,
                            "#46039f"
                          ],
                          [
                            0.2222222222222222,
                            "#7201a8"
                          ],
                          [
                            0.3333333333333333,
                            "#9c179e"
                          ],
                          [
                            0.4444444444444444,
                            "#bd3786"
                          ],
                          [
                            0.5555555555555556,
                            "#d8576b"
                          ],
                          [
                            0.6666666666666666,
                            "#ed7953"
                          ],
                          [
                            0.7777777777777778,
                            "#fb9f3a"
                          ],
                          [
                            0.8888888888888888,
                            "#fdca26"
                          ],
                          [
                            1,
                            "#f0f921"
                          ]
                        ]
                      }
                    ],
                    "contourcarpet": [
                      {
                        "type": "contourcarpet",
                        "colorbar": {
                          "outlinewidth": 0,
                          "ticks": ""
                        }
                      }
                    ],
                    "contour": [
                      {
                        "type": "contour",
                        "colorbar": {
                          "outlinewidth": 0,
                          "ticks": ""
                        },
                        "colorscale": [
                          [
                            0,
                            "#0d0887"
                          ],
                          [
                            0.1111111111111111,
                            "#46039f"
                          ],
                          [
                            0.2222222222222222,
                            "#7201a8"
                          ],
                          [
                            0.3333333333333333,
                            "#9c179e"
                          ],
                          [
                            0.4444444444444444,
                            "#bd3786"
                          ],
                          [
                            0.5555555555555556,
                            "#d8576b"
                          ],
                          [
                            0.6666666666666666,
                            "#ed7953"
                          ],
                          [
                            0.7777777777777778,
                            "#fb9f3a"
                          ],
                          [
                            0.8888888888888888,
                            "#fdca26"
                          ],
                          [
                            1,
                            "#f0f921"
                          ]
                        ]
                      }
                    ],
                    "surface": [
                      {
                        "type": "surface",
                        "colorbar": {
                          "outlinewidth": 0,
                          "ticks": ""
                        },
                        "colorscale": [
                          [
                            0,
                            "#0d0887"
                          ],
                          [
                            0.1111111111111111,
                            "#46039f"
                          ],
                          [
                            0.2222222222222222,
                            "#7201a8"
                          ],
                          [
                            0.3333333333333333,
                            "#9c179e"
                          ],
                          [
                            0.4444444444444444,
                            "#bd3786"
                          ],
                          [
                            0.5555555555555556,
                            "#d8576b"
                          ],
                          [
                            0.6666666666666666,
                            "#ed7953"
                          ],
                          [
                            0.7777777777777778,
                            "#fb9f3a"
                          ],
                          [
                            0.8888888888888888,
                            "#fdca26"
                          ],
                          [
                            1,
                            "#f0f921"
                          ]
                        ]
                      }
                    ],
                    "mesh3d": [
                      {
                        "type": "mesh3d",
                        "colorbar": {
                          "outlinewidth": 0,
                          "ticks": ""
                        }
                      }
                    ],
                    "scatter": [
                      {
                        "fillpattern": {
                          "fillmode": "overlay",
                          "size": 10,
                          "solidity": 0.2
                        },
                        "type": "scatter"
                      }
                    ],
                    "parcoords": [
                      {
                        "type": "parcoords",
                        "line": {
                          "colorbar": {
                            "outlinewidth": 0,
                            "ticks": ""
                          }
                        }
                      }
                    ],
                    "scatterpolargl": [
                      {
                        "type": "scatterpolargl",
                        "marker": {
                          "colorbar": {
                            "outlinewidth": 0,
                            "ticks": ""
                          }
                        }
                      }
                    ],
                    "bar": [
                      {
                        "error_x": {
                          "color": "#2a3f5f"
                        },
                        "error_y": {
                          "color": "#2a3f5f"
                        },
                        "marker": {
                          "line": {
                            "color": "#E5ECF6",
                            "width": 0.5
                          },
                          "pattern": {
                            "fillmode": "overlay",
                            "size": 10,
                            "solidity": 0.2
                          }
                        },
                        "type": "bar"
                      }
                    ],
                    "scattergeo": [
                      {
                        "type": "scattergeo",
                        "marker": {
                          "colorbar": {
                            "outlinewidth": 0,
                            "ticks": ""
                          }
                        }
                      }
                    ],
                    "scatterpolar": [
                      {
                        "type": "scatterpolar",
                        "marker": {
                          "colorbar": {
                            "outlinewidth": 0,
                            "ticks": ""
                          }
                        }
                      }
                    ],
                    "histogram": [
                      {
                        "marker": {
                          "pattern": {
                            "fillmode": "overlay",
                            "size": 10,
                            "solidity": 0.2
                          }
                        },
                        "type": "histogram"
                      }
                    ],
                    "scattergl": [
                      {
                        "type": "scattergl",
                        "marker": {
                          "colorbar": {
                            "outlinewidth": 0,
                            "ticks": ""
                          }
                        }
                      }
                    ],
                    "scatter3d": [
                      {
                        "type": "scatter3d",
                        "line": {
                          "colorbar": {
                            "outlinewidth": 0,
                            "ticks": ""
                          }
                        },
                        "marker": {
                          "colorbar": {
                            "outlinewidth": 0,
                            "ticks": ""
                          }
                        }
                      }
                    ],
                    "scattermapbox": [
                      {
                        "type": "scattermapbox",
                        "marker": {
                          "colorbar": {
                            "outlinewidth": 0,
                            "ticks": ""
                          }
                        }
                      }
                    ],
                    "scatterternary": [
                      {
                        "type": "scatterternary",
                        "marker": {
                          "colorbar": {
                            "outlinewidth": 0,
                            "ticks": ""
                          }
                        }
                      }
                    ],
                    "scattercarpet": [
                      {
                        "type": "scattercarpet",
                        "marker": {
                          "colorbar": {
                            "outlinewidth": 0,
                            "ticks": ""
                          }
                        }
                      }
                    ],
                    "carpet": [
                      {
                        "aaxis": {
                          "endlinecolor": "#2a3f5f",
                          "gridcolor": "white",
                          "linecolor": "white",
                          "minorgridcolor": "white",
                          "startlinecolor": "#2a3f5f"
                        },
                        "baxis": {
                          "endlinecolor": "#2a3f5f",
                          "gridcolor": "white",
                          "linecolor": "white",
                          "minorgridcolor": "white",
                          "startlinecolor": "#2a3f5f"
                        },
                        "type": "carpet"
                      }
                    ],
                    "table": [
                      {
                        "cells": {
                          "fill": {
                            "color": "#EBF0F8"
                          },
                          "line": {
                            "color": "white"
                          }
                        },
                        "header": {
                          "fill": {
                            "color": "#C8D4E3"
                          },
                          "line": {
                            "color": "white"
                          }
                        },
                        "type": "table"
                      }
                    ],
                    "barpolar": [
                      {
                        "marker": {
                          "line": {
                            "color": "#E5ECF6",
                            "width": 0.5
                          },
                          "pattern": {
                            "fillmode": "overlay",
                            "size": 10,
                            "solidity": 0.2
                          }
                        },
                        "type": "barpolar"
                      }
                    ],
                    "pie": [
                      {
                        "automargin": true,
                        "type": "pie"
                      }
                    ]
                  },
                  "layout": {
                    "autotypenumbers": "strict",
                    "colorway": [
                      "#636efa",
                      "#EF553B",
                      "#00cc96",
                      "#ab63fa",
                      "#FFA15A",
                      "#19d3f3",
                      "#FF6692",
                      "#B6E880",
                      "#FF97FF",
                      "#FECB52"
                    ],
                    "font": {
                      "color": "#2a3f5f"
                    },
                    "hovermode": "closest",
                    "hoverlabel": {
                      "align": "left"
                    },
                    "paper_bgcolor": "white",
                    "plot_bgcolor": "#E5ECF6",
                    "polar": {
                      "bgcolor": "#E5ECF6",
                      "angularaxis": {
                        "gridcolor": "white",
                        "linecolor": "white",
                        "ticks": ""
                      },
                      "radialaxis": {
                        "gridcolor": "white",
                        "linecolor": "white",
                        "ticks": ""
                      }
                    },
                    "ternary": {
                      "bgcolor": "#E5ECF6",
                      "aaxis": {
                        "gridcolor": "white",
                        "linecolor": "white",
                        "ticks": ""
                      },
                      "baxis": {
                        "gridcolor": "white",
                        "linecolor": "white",
                        "ticks": ""
                      },
                      "caxis": {
                        "gridcolor": "white",
                        "linecolor": "white",
                        "ticks": ""
                      }
                    },
                    "coloraxis": {
                      "colorbar": {
                        "outlinewidth": 0,
                        "ticks": ""
                      }
                    },
                    "colorscale": {
                      "sequential": [
                        [
                          0,
                          "#0d0887"
                        ],
                        [
                          0.1111111111111111,
                          "#46039f"
                        ],
                        [
                          0.2222222222222222,
                          "#7201a8"
                        ],
                        [
                          0.3333333333333333,
                          "#9c179e"
                        ],
                        [
                          0.4444444444444444,
                          "#bd3786"
                        ],
                        [
                          0.5555555555555556,
                          "#d8576b"
                        ],
                        [
                          0.6666666666666666,
                          "#ed7953"
                        ],
                        [
                          0.7777777777777778,
                          "#fb9f3a"
                        ],
                        [
                          0.8888888888888888,
                          "#fdca26"
                        ],
                        [
                          1,
                          "#f0f921"
                        ]
                      ],
                      "sequentialminus": [
                        [
                          0,
                          "#0d0887"
                        ],
                        [
                          0.1111111111111111,
                          "#46039f"
                        ],
                        [
                          0.2222222222222222,
                          "#7201a8"
                        ],
                        [
                          0.3333333333333333,
                          "#9c179e"
                        ],
                        [
                          0.4444444444444444,
                          "#bd3786"
                        ],
                        [
                          0.5555555555555556,
                          "#d8576b"
                        ],
                        [
                          0.6666666666666666,
                          "#ed7953"
                        ],
                        [
                          0.7777777777777778,
                          "#fb9f3a"
                        ],
                        [
                          0.8888888888888888,
                          "#fdca26"
                        ],
                        [
                          1,
                          "#f0f921"
                        ]
                      ],
                      "diverging": [
                        [
                          0,
                          "#8e0152"
                        ],
                        [
                          0.1,
                          "#c51b7d"
                        ],
                        [
                          0.2,
                          "#de77ae"
                        ],
                        [
                          0.3,
                          "#f1b6da"
                        ],
                        [
                          0.4,
                          "#fde0ef"
                        ],
                        [
                          0.5,
                          "#f7f7f7"
                        ],
                        [
                          0.6,
                          "#e6f5d0"
                        ],
                        [
                          0.7,
                          "#b8e186"
                        ],
                        [
                          0.8,
                          "#7fbc41"
                        ],
                        [
                          0.9,
                          "#4d9221"
                        ],
                        [
                          1,
                          "#276419"
                        ]
                      ]
                    },
                    "xaxis": {
                      "gridcolor": "white",
                      "linecolor": "white",
                      "ticks": "",
                      "title": {
                        "standoff": 15
                      },
                      "zerolinecolor": "white",
                      "automargin": true,
                      "zerolinewidth": 2
                    },
                    "yaxis": {
                      "gridcolor": "white",
                      "linecolor": "white",
                      "ticks": "",
                      "title": {
                        "standoff": 15
                      },
                      "zerolinecolor": "white",
                      "automargin": true,
                      "zerolinewidth": 2
                    },
                    "scene": {
                      "xaxis": {
                        "backgroundcolor": "#E5ECF6",
                        "gridcolor": "white",
                        "linecolor": "white",
                        "showbackground": true,
                        "ticks": "",
                        "zerolinecolor": "white",
                        "gridwidth": 2
                      },
                      "yaxis": {
                        "backgroundcolor": "#E5ECF6",
                        "gridcolor": "white",
                        "linecolor": "white",
                        "showbackground": true,
                        "ticks": "",
                        "zerolinecolor": "white",
                        "gridwidth": 2
                      },
                      "zaxis": {
                        "backgroundcolor": "#E5ECF6",
                        "gridcolor": "white",
                        "linecolor": "white",
                        "showbackground": true,
                        "ticks": "",
                        "zerolinecolor": "white",
                        "gridwidth": 2
                      }
                    },
                    "shapedefaults": {
                      "line": {
                        "color": "#2a3f5f"
                      }
                    },
                    "annotationdefaults": {
                      "arrowcolor": "#2a3f5f",
                      "arrowhead": 0,
                      "arrowwidth": 1
                    },
                    "geo": {
                      "bgcolor": "white",
                      "landcolor": "#E5ECF6",
                      "subunitcolor": "white",
                      "showland": true,
                      "showlakes": true,
                      "lakecolor": "white"
                    },
                    "title": {
                      "x": 0.05
                    },
                    "mapbox": {
                      "style": "light"
                    }
                  }
                },
                "title": {
                  "text": "Most Frequent Words in Tweets",
                  "font": {
                    "size": 20
                  },
                  "x": 0.5
                },
                "xaxis": {
                  "title": {
                    "text": "Words"
                  },
                  "tickangle": -45
                },
                "font": {
                  "size": 12
                },
                "yaxis": {
                  "title": {
                    "text": "Frequency"
                  }
                },
                "height": 600,
                "width": 900
              },
              "config": {
                "plotlyServerURL": "https://plot.ly"
              }
            },
            "text/html": [
              "<div>                            <div id=\"29a506af-bff3-4e8a-a448-744fef4dc8ae\" class=\"plotly-graph-div\" style=\"height:600px; width:900px;\"></div>            <script type=\"text/javascript\">                require([\"plotly\"], function(Plotly) {                    window.PLOTLYENV=window.PLOTLYENV || {};                                    if (document.getElementById(\"29a506af-bff3-4e8a-a448-744fef4dc8ae\")) {                    Plotly.newPlot(                        \"29a506af-bff3-4e8a-a448-744fef4dc8ae\",                        [{\"hovertemplate\":\"\\u003cb\\u003eWord Frequency\\u003c\\u002fb\\u003e\\u003cbr\\u003eWord: %{x}\\u003cbr\\u003eFrequency: %{y}\\u003cextra\\u003e\\u003c\\u002fextra\\u003e\",\"marker\":{\"color\":[\"#440154\",\"#482878\",\"#3e4989\",\"#31688e\",\"#26828e\",\"#1f9e89\",\"#35b779\",\"#6ece58\",\"#b5de2b\",\"#fde725\"]},\"x\":[\"blessed\",\"life\",\"another\",\"nothing\",\"hope\",\"morning\",\"coffee\",\"saying\",\"weekend\",\"incredibly\",\"things\",\"tomorrow\",\"better\",\"tonight\",\"moving\",\"start\",\"accomplished\",\"proud\",\"regular\",\"most\",\"amazing\",\"vibes\",\"hitting\",\"different\",\"everyone\"],\"y\":[214,137,128,125,120,103,102,96,95,89,83,83,83,82,80,74,72,72,71,70,70,68,68,68,64],\"type\":\"bar\"}],                        {\"template\":{\"data\":{\"histogram2dcontour\":[{\"type\":\"histogram2dcontour\",\"colorbar\":{\"outlinewidth\":0,\"ticks\":\"\"},\"colorscale\":[[0.0,\"#0d0887\"],[0.1111111111111111,\"#46039f\"],[0.2222222222222222,\"#7201a8\"],[0.3333333333333333,\"#9c179e\"],[0.4444444444444444,\"#bd3786\"],[0.5555555555555556,\"#d8576b\"],[0.6666666666666666,\"#ed7953\"],[0.7777777777777778,\"#fb9f3a\"],[0.8888888888888888,\"#fdca26\"],[1.0,\"#f0f921\"]]}],\"choropleth\":[{\"type\":\"choropleth\",\"colorbar\":{\"outlinewidth\":0,\"ticks\":\"\"}}],\"histogram2d\":[{\"type\":\"histogram2d\",\"colorbar\":{\"outlinewidth\":0,\"ticks\":\"\"},\"colorscale\":[[0.0,\"#0d0887\"],[0.1111111111111111,\"#46039f\"],[0.2222222222222222,\"#7201a8\"],[0.3333333333333333,\"#9c179e\"],[0.4444444444444444,\"#bd3786\"],[0.5555555555555556,\"#d8576b\"],[0.6666666666666666,\"#ed7953\"],[0.7777777777777778,\"#fb9f3a\"],[0.8888888888888888,\"#fdca26\"],[1.0,\"#f0f921\"]]}],\"heatmap\":[{\"type\":\"heatmap\",\"colorbar\":{\"outlinewidth\":0,\"ticks\":\"\"},\"colorscale\":[[0.0,\"#0d0887\"],[0.1111111111111111,\"#46039f\"],[0.2222222222222222,\"#7201a8\"],[0.3333333333333333,\"#9c179e\"],[0.4444444444444444,\"#bd3786\"],[0.5555555555555556,\"#d8576b\"],[0.6666666666666666,\"#ed7953\"],[0.7777777777777778,\"#fb9f3a\"],[0.8888888888888888,\"#fdca26\"],[1.0,\"#f0f921\"]]}],\"heatmapgl\":[{\"type\":\"heatmapgl\",\"colorbar\":{\"outlinewidth\":0,\"ticks\":\"\"},\"colorscale\":[[0.0,\"#0d0887\"],[0.1111111111111111,\"#46039f\"],[0.2222222222222222,\"#7201a8\"],[0.3333333333333333,\"#9c179e\"],[0.4444444444444444,\"#bd3786\"],[0.5555555555555556,\"#d8576b\"],[0.6666666666666666,\"#ed7953\"],[0.7777777777777778,\"#fb9f3a\"],[0.8888888888888888,\"#fdca26\"],[1.0,\"#f0f921\"]]}],\"contourcarpet\":[{\"type\":\"contourcarpet\",\"colorbar\":{\"outlinewidth\":0,\"ticks\":\"\"}}],\"contour\":[{\"type\":\"contour\",\"colorbar\":{\"outlinewidth\":0,\"ticks\":\"\"},\"colorscale\":[[0.0,\"#0d0887\"],[0.1111111111111111,\"#46039f\"],[0.2222222222222222,\"#7201a8\"],[0.3333333333333333,\"#9c179e\"],[0.4444444444444444,\"#bd3786\"],[0.5555555555555556,\"#d8576b\"],[0.6666666666666666,\"#ed7953\"],[0.7777777777777778,\"#fb9f3a\"],[0.8888888888888888,\"#fdca26\"],[1.0,\"#f0f921\"]]}],\"surface\":[{\"type\":\"surface\",\"colorbar\":{\"outlinewidth\":0,\"ticks\":\"\"},\"colorscale\":[[0.0,\"#0d0887\"],[0.1111111111111111,\"#46039f\"],[0.2222222222222222,\"#7201a8\"],[0.3333333333333333,\"#9c179e\"],[0.4444444444444444,\"#bd3786\"],[0.5555555555555556,\"#d8576b\"],[0.6666666666666666,\"#ed7953\"],[0.7777777777777778,\"#fb9f3a\"],[0.8888888888888888,\"#fdca26\"],[1.0,\"#f0f921\"]]}],\"mesh3d\":[{\"type\":\"mesh3d\",\"colorbar\":{\"outlinewidth\":0,\"ticks\":\"\"}}],\"scatter\":[{\"fillpattern\":{\"fillmode\":\"overlay\",\"size\":10,\"solidity\":0.2},\"type\":\"scatter\"}],\"parcoords\":[{\"type\":\"parcoords\",\"line\":{\"colorbar\":{\"outlinewidth\":0,\"ticks\":\"\"}}}],\"scatterpolargl\":[{\"type\":\"scatterpolargl\",\"marker\":{\"colorbar\":{\"outlinewidth\":0,\"ticks\":\"\"}}}],\"bar\":[{\"error_x\":{\"color\":\"#2a3f5f\"},\"error_y\":{\"color\":\"#2a3f5f\"},\"marker\":{\"line\":{\"color\":\"#E5ECF6\",\"width\":0.5},\"pattern\":{\"fillmode\":\"overlay\",\"size\":10,\"solidity\":0.2}},\"type\":\"bar\"}],\"scattergeo\":[{\"type\":\"scattergeo\",\"marker\":{\"colorbar\":{\"outlinewidth\":0,\"ticks\":\"\"}}}],\"scatterpolar\":[{\"type\":\"scatterpolar\",\"marker\":{\"colorbar\":{\"outlinewidth\":0,\"ticks\":\"\"}}}],\"histogram\":[{\"marker\":{\"pattern\":{\"fillmode\":\"overlay\",\"size\":10,\"solidity\":0.2}},\"type\":\"histogram\"}],\"scattergl\":[{\"type\":\"scattergl\",\"marker\":{\"colorbar\":{\"outlinewidth\":0,\"ticks\":\"\"}}}],\"scatter3d\":[{\"type\":\"scatter3d\",\"line\":{\"colorbar\":{\"outlinewidth\":0,\"ticks\":\"\"}},\"marker\":{\"colorbar\":{\"outlinewidth\":0,\"ticks\":\"\"}}}],\"scattermapbox\":[{\"type\":\"scattermapbox\",\"marker\":{\"colorbar\":{\"outlinewidth\":0,\"ticks\":\"\"}}}],\"scatterternary\":[{\"type\":\"scatterternary\",\"marker\":{\"colorbar\":{\"outlinewidth\":0,\"ticks\":\"\"}}}],\"scattercarpet\":[{\"type\":\"scattercarpet\",\"marker\":{\"colorbar\":{\"outlinewidth\":0,\"ticks\":\"\"}}}],\"carpet\":[{\"aaxis\":{\"endlinecolor\":\"#2a3f5f\",\"gridcolor\":\"white\",\"linecolor\":\"white\",\"minorgridcolor\":\"white\",\"startlinecolor\":\"#2a3f5f\"},\"baxis\":{\"endlinecolor\":\"#2a3f5f\",\"gridcolor\":\"white\",\"linecolor\":\"white\",\"minorgridcolor\":\"white\",\"startlinecolor\":\"#2a3f5f\"},\"type\":\"carpet\"}],\"table\":[{\"cells\":{\"fill\":{\"color\":\"#EBF0F8\"},\"line\":{\"color\":\"white\"}},\"header\":{\"fill\":{\"color\":\"#C8D4E3\"},\"line\":{\"color\":\"white\"}},\"type\":\"table\"}],\"barpolar\":[{\"marker\":{\"line\":{\"color\":\"#E5ECF6\",\"width\":0.5},\"pattern\":{\"fillmode\":\"overlay\",\"size\":10,\"solidity\":0.2}},\"type\":\"barpolar\"}],\"pie\":[{\"automargin\":true,\"type\":\"pie\"}]},\"layout\":{\"autotypenumbers\":\"strict\",\"colorway\":[\"#636efa\",\"#EF553B\",\"#00cc96\",\"#ab63fa\",\"#FFA15A\",\"#19d3f3\",\"#FF6692\",\"#B6E880\",\"#FF97FF\",\"#FECB52\"],\"font\":{\"color\":\"#2a3f5f\"},\"hovermode\":\"closest\",\"hoverlabel\":{\"align\":\"left\"},\"paper_bgcolor\":\"white\",\"plot_bgcolor\":\"#E5ECF6\",\"polar\":{\"bgcolor\":\"#E5ECF6\",\"angularaxis\":{\"gridcolor\":\"white\",\"linecolor\":\"white\",\"ticks\":\"\"},\"radialaxis\":{\"gridcolor\":\"white\",\"linecolor\":\"white\",\"ticks\":\"\"}},\"ternary\":{\"bgcolor\":\"#E5ECF6\",\"aaxis\":{\"gridcolor\":\"white\",\"linecolor\":\"white\",\"ticks\":\"\"},\"baxis\":{\"gridcolor\":\"white\",\"linecolor\":\"white\",\"ticks\":\"\"},\"caxis\":{\"gridcolor\":\"white\",\"linecolor\":\"white\",\"ticks\":\"\"}},\"coloraxis\":{\"colorbar\":{\"outlinewidth\":0,\"ticks\":\"\"}},\"colorscale\":{\"sequential\":[[0.0,\"#0d0887\"],[0.1111111111111111,\"#46039f\"],[0.2222222222222222,\"#7201a8\"],[0.3333333333333333,\"#9c179e\"],[0.4444444444444444,\"#bd3786\"],[0.5555555555555556,\"#d8576b\"],[0.6666666666666666,\"#ed7953\"],[0.7777777777777778,\"#fb9f3a\"],[0.8888888888888888,\"#fdca26\"],[1.0,\"#f0f921\"]],\"sequentialminus\":[[0.0,\"#0d0887\"],[0.1111111111111111,\"#46039f\"],[0.2222222222222222,\"#7201a8\"],[0.3333333333333333,\"#9c179e\"],[0.4444444444444444,\"#bd3786\"],[0.5555555555555556,\"#d8576b\"],[0.6666666666666666,\"#ed7953\"],[0.7777777777777778,\"#fb9f3a\"],[0.8888888888888888,\"#fdca26\"],[1.0,\"#f0f921\"]],\"diverging\":[[0,\"#8e0152\"],[0.1,\"#c51b7d\"],[0.2,\"#de77ae\"],[0.3,\"#f1b6da\"],[0.4,\"#fde0ef\"],[0.5,\"#f7f7f7\"],[0.6,\"#e6f5d0\"],[0.7,\"#b8e186\"],[0.8,\"#7fbc41\"],[0.9,\"#4d9221\"],[1,\"#276419\"]]},\"xaxis\":{\"gridcolor\":\"white\",\"linecolor\":\"white\",\"ticks\":\"\",\"title\":{\"standoff\":15},\"zerolinecolor\":\"white\",\"automargin\":true,\"zerolinewidth\":2},\"yaxis\":{\"gridcolor\":\"white\",\"linecolor\":\"white\",\"ticks\":\"\",\"title\":{\"standoff\":15},\"zerolinecolor\":\"white\",\"automargin\":true,\"zerolinewidth\":2},\"scene\":{\"xaxis\":{\"backgroundcolor\":\"#E5ECF6\",\"gridcolor\":\"white\",\"linecolor\":\"white\",\"showbackground\":true,\"ticks\":\"\",\"zerolinecolor\":\"white\",\"gridwidth\":2},\"yaxis\":{\"backgroundcolor\":\"#E5ECF6\",\"gridcolor\":\"white\",\"linecolor\":\"white\",\"showbackground\":true,\"ticks\":\"\",\"zerolinecolor\":\"white\",\"gridwidth\":2},\"zaxis\":{\"backgroundcolor\":\"#E5ECF6\",\"gridcolor\":\"white\",\"linecolor\":\"white\",\"showbackground\":true,\"ticks\":\"\",\"zerolinecolor\":\"white\",\"gridwidth\":2}},\"shapedefaults\":{\"line\":{\"color\":\"#2a3f5f\"}},\"annotationdefaults\":{\"arrowcolor\":\"#2a3f5f\",\"arrowhead\":0,\"arrowwidth\":1},\"geo\":{\"bgcolor\":\"white\",\"landcolor\":\"#E5ECF6\",\"subunitcolor\":\"white\",\"showland\":true,\"showlakes\":true,\"lakecolor\":\"white\"},\"title\":{\"x\":0.05},\"mapbox\":{\"style\":\"light\"}}},\"title\":{\"text\":\"Most Frequent Words in Tweets\",\"font\":{\"size\":20},\"x\":0.5},\"xaxis\":{\"title\":{\"text\":\"Words\"},\"tickangle\":-45},\"font\":{\"size\":12},\"yaxis\":{\"title\":{\"text\":\"Frequency\"}},\"height\":600,\"width\":900},                        {\"responsive\": true}                    ).then(function(){\n",
              "                            \n",
              "var gd = document.getElementById('29a506af-bff3-4e8a-a448-744fef4dc8ae');\n",
              "var x = new MutationObserver(function (mutations, observer) {{\n",
              "        var display = window.getComputedStyle(gd).display;\n",
              "        if (!display || display === 'none') {{\n",
              "            console.log([gd, 'removed!']);\n",
              "            Plotly.purge(gd);\n",
              "            observer.disconnect();\n",
              "        }}\n",
              "}});\n",
              "\n",
              "// Listen for the removal of the full notebook cells\n",
              "var notebookContainer = gd.closest('#notebook-container');\n",
              "if (notebookContainer) {{\n",
              "    x.observe(notebookContainer, {childList: true});\n",
              "}}\n",
              "\n",
              "// Listen for the clearing of the current output cell\n",
              "var outputEl = gd.closest('.output');\n",
              "if (outputEl) {{\n",
              "    x.observe(outputEl, {childList: true});\n",
              "}}\n",
              "\n",
              "                        })                };                });            </script>        </div>"
            ]
          },
          "metadata": {}
        },
        {
          "output_type": "stream",
          "name": "stdout",
          "text": [
            "\n",
            " Time Series Analysis...\n"
          ]
        },
        {
          "output_type": "display_data",
          "data": {
            "application/vnd.plotly.v1+json": {
              "data": [
                {
                  "hovertemplate": "<b>Polarity</b><br>Hour: %{x}<br>Score: %{y:.3f}<extra></extra>",
                  "line": {
                    "color": "#2E86AB",
                    "width": 3
                  },
                  "marker": {
                    "size": 8
                  },
                  "mode": "lines+markers",
                  "name": "Polarity",
                  "x": [
                    0,
                    1,
                    2,
                    3,
                    4,
                    5,
                    6,
                    7,
                    8,
                    9,
                    10,
                    11,
                    12,
                    13,
                    14,
                    15,
                    16,
                    17,
                    18,
                    19,
                    20,
                    21,
                    22,
                    23
                  ],
                  "y": [
                    0.325703373015873,
                    0.33278141534391537,
                    0.34339484126984127,
                    0.3617529761904762,
                    0.26025264550264554,
                    0.41154034391534394,
                    0.193978835978836,
                    0.4267962962962963,
                    0.3432919000933707,
                    0.35415575396825394,
                    0.4459196428571428,
                    0.3956564153439153,
                    0.30905059523809525,
                    0.3003994708994709,
                    0.17817526455026453,
                    0.3167936507936508,
                    0.37152182539682543,
                    0.3005727513227513,
                    0.35355357142857147,
                    0.3802202380952381,
                    0.45599928463448874,
                    0.42385416666666664,
                    0.35108134920634915,
                    0.26836011904761903
                  ],
                  "type": "scatter",
                  "xaxis": "x",
                  "yaxis": "y"
                },
                {
                  "hovertemplate": "<b>Subjectivity</b><br>Hour: %{x}<br>Score: %{y:.3f}<extra></extra>",
                  "line": {
                    "color": "#A23B72",
                    "width": 3
                  },
                  "marker": {
                    "size": 8
                  },
                  "mode": "lines+markers",
                  "name": "Subjectivity",
                  "x": [
                    0,
                    1,
                    2,
                    3,
                    4,
                    5,
                    6,
                    7,
                    8,
                    9,
                    10,
                    11,
                    12,
                    13,
                    14,
                    15,
                    16,
                    17,
                    18,
                    19,
                    20,
                    21,
                    22,
                    23
                  ],
                  "y": [
                    0.5596901709401709,
                    0.48033618233618236,
                    0.49210927960927964,
                    0.49183699633699635,
                    0.47132214082214086,
                    0.4317363654863655,
                    0.4469155474155474,
                    0.5748425925925926,
                    0.521242727860375,
                    0.5439960317460317,
                    0.606764652014652,
                    0.47887464387464385,
                    0.45447710622710624,
                    0.40714143264143265,
                    0.413063899063899,
                    0.4544664224664225,
                    0.4693211233211233,
                    0.4728487993487993,
                    0.5220815018315018,
                    0.4847124542124542,
                    0.5097049870009054,
                    0.5244166666666668,
                    0.522013431013431,
                    0.4348269230769231
                  ],
                  "type": "scatter",
                  "xaxis": "x",
                  "yaxis": "y2"
                }
              ],
              "layout": {
                "template": {
                  "data": {
                    "histogram2dcontour": [
                      {
                        "type": "histogram2dcontour",
                        "colorbar": {
                          "outlinewidth": 0,
                          "ticks": ""
                        },
                        "colorscale": [
                          [
                            0,
                            "#0d0887"
                          ],
                          [
                            0.1111111111111111,
                            "#46039f"
                          ],
                          [
                            0.2222222222222222,
                            "#7201a8"
                          ],
                          [
                            0.3333333333333333,
                            "#9c179e"
                          ],
                          [
                            0.4444444444444444,
                            "#bd3786"
                          ],
                          [
                            0.5555555555555556,
                            "#d8576b"
                          ],
                          [
                            0.6666666666666666,
                            "#ed7953"
                          ],
                          [
                            0.7777777777777778,
                            "#fb9f3a"
                          ],
                          [
                            0.8888888888888888,
                            "#fdca26"
                          ],
                          [
                            1,
                            "#f0f921"
                          ]
                        ]
                      }
                    ],
                    "choropleth": [
                      {
                        "type": "choropleth",
                        "colorbar": {
                          "outlinewidth": 0,
                          "ticks": ""
                        }
                      }
                    ],
                    "histogram2d": [
                      {
                        "type": "histogram2d",
                        "colorbar": {
                          "outlinewidth": 0,
                          "ticks": ""
                        },
                        "colorscale": [
                          [
                            0,
                            "#0d0887"
                          ],
                          [
                            0.1111111111111111,
                            "#46039f"
                          ],
                          [
                            0.2222222222222222,
                            "#7201a8"
                          ],
                          [
                            0.3333333333333333,
                            "#9c179e"
                          ],
                          [
                            0.4444444444444444,
                            "#bd3786"
                          ],
                          [
                            0.5555555555555556,
                            "#d8576b"
                          ],
                          [
                            0.6666666666666666,
                            "#ed7953"
                          ],
                          [
                            0.7777777777777778,
                            "#fb9f3a"
                          ],
                          [
                            0.8888888888888888,
                            "#fdca26"
                          ],
                          [
                            1,
                            "#f0f921"
                          ]
                        ]
                      }
                    ],
                    "heatmap": [
                      {
                        "type": "heatmap",
                        "colorbar": {
                          "outlinewidth": 0,
                          "ticks": ""
                        },
                        "colorscale": [
                          [
                            0,
                            "#0d0887"
                          ],
                          [
                            0.1111111111111111,
                            "#46039f"
                          ],
                          [
                            0.2222222222222222,
                            "#7201a8"
                          ],
                          [
                            0.3333333333333333,
                            "#9c179e"
                          ],
                          [
                            0.4444444444444444,
                            "#bd3786"
                          ],
                          [
                            0.5555555555555556,
                            "#d8576b"
                          ],
                          [
                            0.6666666666666666,
                            "#ed7953"
                          ],
                          [
                            0.7777777777777778,
                            "#fb9f3a"
                          ],
                          [
                            0.8888888888888888,
                            "#fdca26"
                          ],
                          [
                            1,
                            "#f0f921"
                          ]
                        ]
                      }
                    ],
                    "heatmapgl": [
                      {
                        "type": "heatmapgl",
                        "colorbar": {
                          "outlinewidth": 0,
                          "ticks": ""
                        },
                        "colorscale": [
                          [
                            0,
                            "#0d0887"
                          ],
                          [
                            0.1111111111111111,
                            "#46039f"
                          ],
                          [
                            0.2222222222222222,
                            "#7201a8"
                          ],
                          [
                            0.3333333333333333,
                            "#9c179e"
                          ],
                          [
                            0.4444444444444444,
                            "#bd3786"
                          ],
                          [
                            0.5555555555555556,
                            "#d8576b"
                          ],
                          [
                            0.6666666666666666,
                            "#ed7953"
                          ],
                          [
                            0.7777777777777778,
                            "#fb9f3a"
                          ],
                          [
                            0.8888888888888888,
                            "#fdca26"
                          ],
                          [
                            1,
                            "#f0f921"
                          ]
                        ]
                      }
                    ],
                    "contourcarpet": [
                      {
                        "type": "contourcarpet",
                        "colorbar": {
                          "outlinewidth": 0,
                          "ticks": ""
                        }
                      }
                    ],
                    "contour": [
                      {
                        "type": "contour",
                        "colorbar": {
                          "outlinewidth": 0,
                          "ticks": ""
                        },
                        "colorscale": [
                          [
                            0,
                            "#0d0887"
                          ],
                          [
                            0.1111111111111111,
                            "#46039f"
                          ],
                          [
                            0.2222222222222222,
                            "#7201a8"
                          ],
                          [
                            0.3333333333333333,
                            "#9c179e"
                          ],
                          [
                            0.4444444444444444,
                            "#bd3786"
                          ],
                          [
                            0.5555555555555556,
                            "#d8576b"
                          ],
                          [
                            0.6666666666666666,
                            "#ed7953"
                          ],
                          [
                            0.7777777777777778,
                            "#fb9f3a"
                          ],
                          [
                            0.8888888888888888,
                            "#fdca26"
                          ],
                          [
                            1,
                            "#f0f921"
                          ]
                        ]
                      }
                    ],
                    "surface": [
                      {
                        "type": "surface",
                        "colorbar": {
                          "outlinewidth": 0,
                          "ticks": ""
                        },
                        "colorscale": [
                          [
                            0,
                            "#0d0887"
                          ],
                          [
                            0.1111111111111111,
                            "#46039f"
                          ],
                          [
                            0.2222222222222222,
                            "#7201a8"
                          ],
                          [
                            0.3333333333333333,
                            "#9c179e"
                          ],
                          [
                            0.4444444444444444,
                            "#bd3786"
                          ],
                          [
                            0.5555555555555556,
                            "#d8576b"
                          ],
                          [
                            0.6666666666666666,
                            "#ed7953"
                          ],
                          [
                            0.7777777777777778,
                            "#fb9f3a"
                          ],
                          [
                            0.8888888888888888,
                            "#fdca26"
                          ],
                          [
                            1,
                            "#f0f921"
                          ]
                        ]
                      }
                    ],
                    "mesh3d": [
                      {
                        "type": "mesh3d",
                        "colorbar": {
                          "outlinewidth": 0,
                          "ticks": ""
                        }
                      }
                    ],
                    "scatter": [
                      {
                        "fillpattern": {
                          "fillmode": "overlay",
                          "size": 10,
                          "solidity": 0.2
                        },
                        "type": "scatter"
                      }
                    ],
                    "parcoords": [
                      {
                        "type": "parcoords",
                        "line": {
                          "colorbar": {
                            "outlinewidth": 0,
                            "ticks": ""
                          }
                        }
                      }
                    ],
                    "scatterpolargl": [
                      {
                        "type": "scatterpolargl",
                        "marker": {
                          "colorbar": {
                            "outlinewidth": 0,
                            "ticks": ""
                          }
                        }
                      }
                    ],
                    "bar": [
                      {
                        "error_x": {
                          "color": "#2a3f5f"
                        },
                        "error_y": {
                          "color": "#2a3f5f"
                        },
                        "marker": {
                          "line": {
                            "color": "#E5ECF6",
                            "width": 0.5
                          },
                          "pattern": {
                            "fillmode": "overlay",
                            "size": 10,
                            "solidity": 0.2
                          }
                        },
                        "type": "bar"
                      }
                    ],
                    "scattergeo": [
                      {
                        "type": "scattergeo",
                        "marker": {
                          "colorbar": {
                            "outlinewidth": 0,
                            "ticks": ""
                          }
                        }
                      }
                    ],
                    "scatterpolar": [
                      {
                        "type": "scatterpolar",
                        "marker": {
                          "colorbar": {
                            "outlinewidth": 0,
                            "ticks": ""
                          }
                        }
                      }
                    ],
                    "histogram": [
                      {
                        "marker": {
                          "pattern": {
                            "fillmode": "overlay",
                            "size": 10,
                            "solidity": 0.2
                          }
                        },
                        "type": "histogram"
                      }
                    ],
                    "scattergl": [
                      {
                        "type": "scattergl",
                        "marker": {
                          "colorbar": {
                            "outlinewidth": 0,
                            "ticks": ""
                          }
                        }
                      }
                    ],
                    "scatter3d": [
                      {
                        "type": "scatter3d",
                        "line": {
                          "colorbar": {
                            "outlinewidth": 0,
                            "ticks": ""
                          }
                        },
                        "marker": {
                          "colorbar": {
                            "outlinewidth": 0,
                            "ticks": ""
                          }
                        }
                      }
                    ],
                    "scattermapbox": [
                      {
                        "type": "scattermapbox",
                        "marker": {
                          "colorbar": {
                            "outlinewidth": 0,
                            "ticks": ""
                          }
                        }
                      }
                    ],
                    "scatterternary": [
                      {
                        "type": "scatterternary",
                        "marker": {
                          "colorbar": {
                            "outlinewidth": 0,
                            "ticks": ""
                          }
                        }
                      }
                    ],
                    "scattercarpet": [
                      {
                        "type": "scattercarpet",
                        "marker": {
                          "colorbar": {
                            "outlinewidth": 0,
                            "ticks": ""
                          }
                        }
                      }
                    ],
                    "carpet": [
                      {
                        "aaxis": {
                          "endlinecolor": "#2a3f5f",
                          "gridcolor": "white",
                          "linecolor": "white",
                          "minorgridcolor": "white",
                          "startlinecolor": "#2a3f5f"
                        },
                        "baxis": {
                          "endlinecolor": "#2a3f5f",
                          "gridcolor": "white",
                          "linecolor": "white",
                          "minorgridcolor": "white",
                          "startlinecolor": "#2a3f5f"
                        },
                        "type": "carpet"
                      }
                    ],
                    "table": [
                      {
                        "cells": {
                          "fill": {
                            "color": "#EBF0F8"
                          },
                          "line": {
                            "color": "white"
                          }
                        },
                        "header": {
                          "fill": {
                            "color": "#C8D4E3"
                          },
                          "line": {
                            "color": "white"
                          }
                        },
                        "type": "table"
                      }
                    ],
                    "barpolar": [
                      {
                        "marker": {
                          "line": {
                            "color": "#E5ECF6",
                            "width": 0.5
                          },
                          "pattern": {
                            "fillmode": "overlay",
                            "size": 10,
                            "solidity": 0.2
                          }
                        },
                        "type": "barpolar"
                      }
                    ],
                    "pie": [
                      {
                        "automargin": true,
                        "type": "pie"
                      }
                    ]
                  },
                  "layout": {
                    "autotypenumbers": "strict",
                    "colorway": [
                      "#636efa",
                      "#EF553B",
                      "#00cc96",
                      "#ab63fa",
                      "#FFA15A",
                      "#19d3f3",
                      "#FF6692",
                      "#B6E880",
                      "#FF97FF",
                      "#FECB52"
                    ],
                    "font": {
                      "color": "#2a3f5f"
                    },
                    "hovermode": "closest",
                    "hoverlabel": {
                      "align": "left"
                    },
                    "paper_bgcolor": "white",
                    "plot_bgcolor": "#E5ECF6",
                    "polar": {
                      "bgcolor": "#E5ECF6",
                      "angularaxis": {
                        "gridcolor": "white",
                        "linecolor": "white",
                        "ticks": ""
                      },
                      "radialaxis": {
                        "gridcolor": "white",
                        "linecolor": "white",
                        "ticks": ""
                      }
                    },
                    "ternary": {
                      "bgcolor": "#E5ECF6",
                      "aaxis": {
                        "gridcolor": "white",
                        "linecolor": "white",
                        "ticks": ""
                      },
                      "baxis": {
                        "gridcolor": "white",
                        "linecolor": "white",
                        "ticks": ""
                      },
                      "caxis": {
                        "gridcolor": "white",
                        "linecolor": "white",
                        "ticks": ""
                      }
                    },
                    "coloraxis": {
                      "colorbar": {
                        "outlinewidth": 0,
                        "ticks": ""
                      }
                    },
                    "colorscale": {
                      "sequential": [
                        [
                          0,
                          "#0d0887"
                        ],
                        [
                          0.1111111111111111,
                          "#46039f"
                        ],
                        [
                          0.2222222222222222,
                          "#7201a8"
                        ],
                        [
                          0.3333333333333333,
                          "#9c179e"
                        ],
                        [
                          0.4444444444444444,
                          "#bd3786"
                        ],
                        [
                          0.5555555555555556,
                          "#d8576b"
                        ],
                        [
                          0.6666666666666666,
                          "#ed7953"
                        ],
                        [
                          0.7777777777777778,
                          "#fb9f3a"
                        ],
                        [
                          0.8888888888888888,
                          "#fdca26"
                        ],
                        [
                          1,
                          "#f0f921"
                        ]
                      ],
                      "sequentialminus": [
                        [
                          0,
                          "#0d0887"
                        ],
                        [
                          0.1111111111111111,
                          "#46039f"
                        ],
                        [
                          0.2222222222222222,
                          "#7201a8"
                        ],
                        [
                          0.3333333333333333,
                          "#9c179e"
                        ],
                        [
                          0.4444444444444444,
                          "#bd3786"
                        ],
                        [
                          0.5555555555555556,
                          "#d8576b"
                        ],
                        [
                          0.6666666666666666,
                          "#ed7953"
                        ],
                        [
                          0.7777777777777778,
                          "#fb9f3a"
                        ],
                        [
                          0.8888888888888888,
                          "#fdca26"
                        ],
                        [
                          1,
                          "#f0f921"
                        ]
                      ],
                      "diverging": [
                        [
                          0,
                          "#8e0152"
                        ],
                        [
                          0.1,
                          "#c51b7d"
                        ],
                        [
                          0.2,
                          "#de77ae"
                        ],
                        [
                          0.3,
                          "#f1b6da"
                        ],
                        [
                          0.4,
                          "#fde0ef"
                        ],
                        [
                          0.5,
                          "#f7f7f7"
                        ],
                        [
                          0.6,
                          "#e6f5d0"
                        ],
                        [
                          0.7,
                          "#b8e186"
                        ],
                        [
                          0.8,
                          "#7fbc41"
                        ],
                        [
                          0.9,
                          "#4d9221"
                        ],
                        [
                          1,
                          "#276419"
                        ]
                      ]
                    },
                    "xaxis": {
                      "gridcolor": "white",
                      "linecolor": "white",
                      "ticks": "",
                      "title": {
                        "standoff": 15
                      },
                      "zerolinecolor": "white",
                      "automargin": true,
                      "zerolinewidth": 2
                    },
                    "yaxis": {
                      "gridcolor": "white",
                      "linecolor": "white",
                      "ticks": "",
                      "title": {
                        "standoff": 15
                      },
                      "zerolinecolor": "white",
                      "automargin": true,
                      "zerolinewidth": 2
                    },
                    "scene": {
                      "xaxis": {
                        "backgroundcolor": "#E5ECF6",
                        "gridcolor": "white",
                        "linecolor": "white",
                        "showbackground": true,
                        "ticks": "",
                        "zerolinecolor": "white",
                        "gridwidth": 2
                      },
                      "yaxis": {
                        "backgroundcolor": "#E5ECF6",
                        "gridcolor": "white",
                        "linecolor": "white",
                        "showbackground": true,
                        "ticks": "",
                        "zerolinecolor": "white",
                        "gridwidth": 2
                      },
                      "zaxis": {
                        "backgroundcolor": "#E5ECF6",
                        "gridcolor": "white",
                        "linecolor": "white",
                        "showbackground": true,
                        "ticks": "",
                        "zerolinecolor": "white",
                        "gridwidth": 2
                      }
                    },
                    "shapedefaults": {
                      "line": {
                        "color": "#2a3f5f"
                      }
                    },
                    "annotationdefaults": {
                      "arrowcolor": "#2a3f5f",
                      "arrowhead": 0,
                      "arrowwidth": 1
                    },
                    "geo": {
                      "bgcolor": "white",
                      "landcolor": "#E5ECF6",
                      "subunitcolor": "white",
                      "showland": true,
                      "showlakes": true,
                      "lakecolor": "white"
                    },
                    "title": {
                      "x": 0.05
                    },
                    "mapbox": {
                      "style": "light"
                    }
                  }
                },
                "xaxis": {
                  "anchor": "y",
                  "domain": [
                    0,
                    0.94
                  ],
                  "title": {
                    "text": "Hour of Day"
                  }
                },
                "yaxis": {
                  "anchor": "x",
                  "domain": [
                    0,
                    1
                  ],
                  "title": {
                    "text": "Polarity Score"
                  }
                },
                "yaxis2": {
                  "anchor": "x",
                  "overlaying": "y",
                  "side": "right",
                  "title": {
                    "text": "Subjectivity Score"
                  }
                },
                "title": {
                  "text": "Hourly Sentiment Patterns",
                  "font": {
                    "size": 20
                  },
                  "x": 0.5
                },
                "font": {
                  "size": 12
                },
                "height": 600,
                "width": 900,
                "hovermode": "x unified"
              },
              "config": {
                "plotlyServerURL": "https://plot.ly"
              }
            },
            "text/html": [
              "<div>                            <div id=\"27fb8a8a-ff5c-40e6-8cbb-9d763604366c\" class=\"plotly-graph-div\" style=\"height:600px; width:900px;\"></div>            <script type=\"text/javascript\">                require([\"plotly\"], function(Plotly) {                    window.PLOTLYENV=window.PLOTLYENV || {};                                    if (document.getElementById(\"27fb8a8a-ff5c-40e6-8cbb-9d763604366c\")) {                    Plotly.newPlot(                        \"27fb8a8a-ff5c-40e6-8cbb-9d763604366c\",                        [{\"hovertemplate\":\"\\u003cb\\u003ePolarity\\u003c\\u002fb\\u003e\\u003cbr\\u003eHour: %{x}\\u003cbr\\u003eScore: %{y:.3f}\\u003cextra\\u003e\\u003c\\u002fextra\\u003e\",\"line\":{\"color\":\"#2E86AB\",\"width\":3},\"marker\":{\"size\":8},\"mode\":\"lines+markers\",\"name\":\"Polarity\",\"x\":[0,1,2,3,4,5,6,7,8,9,10,11,12,13,14,15,16,17,18,19,20,21,22,23],\"y\":[0.325703373015873,0.33278141534391537,0.34339484126984127,0.3617529761904762,0.26025264550264554,0.41154034391534394,0.193978835978836,0.4267962962962963,0.3432919000933707,0.35415575396825394,0.4459196428571428,0.3956564153439153,0.30905059523809525,0.3003994708994709,0.17817526455026453,0.3167936507936508,0.37152182539682543,0.3005727513227513,0.35355357142857147,0.3802202380952381,0.45599928463448874,0.42385416666666664,0.35108134920634915,0.26836011904761903],\"type\":\"scatter\",\"xaxis\":\"x\",\"yaxis\":\"y\"},{\"hovertemplate\":\"\\u003cb\\u003eSubjectivity\\u003c\\u002fb\\u003e\\u003cbr\\u003eHour: %{x}\\u003cbr\\u003eScore: %{y:.3f}\\u003cextra\\u003e\\u003c\\u002fextra\\u003e\",\"line\":{\"color\":\"#A23B72\",\"width\":3},\"marker\":{\"size\":8},\"mode\":\"lines+markers\",\"name\":\"Subjectivity\",\"x\":[0,1,2,3,4,5,6,7,8,9,10,11,12,13,14,15,16,17,18,19,20,21,22,23],\"y\":[0.5596901709401709,0.48033618233618236,0.49210927960927964,0.49183699633699635,0.47132214082214086,0.4317363654863655,0.4469155474155474,0.5748425925925926,0.521242727860375,0.5439960317460317,0.606764652014652,0.47887464387464385,0.45447710622710624,0.40714143264143265,0.413063899063899,0.4544664224664225,0.4693211233211233,0.4728487993487993,0.5220815018315018,0.4847124542124542,0.5097049870009054,0.5244166666666668,0.522013431013431,0.4348269230769231],\"type\":\"scatter\",\"xaxis\":\"x\",\"yaxis\":\"y2\"}],                        {\"template\":{\"data\":{\"histogram2dcontour\":[{\"type\":\"histogram2dcontour\",\"colorbar\":{\"outlinewidth\":0,\"ticks\":\"\"},\"colorscale\":[[0.0,\"#0d0887\"],[0.1111111111111111,\"#46039f\"],[0.2222222222222222,\"#7201a8\"],[0.3333333333333333,\"#9c179e\"],[0.4444444444444444,\"#bd3786\"],[0.5555555555555556,\"#d8576b\"],[0.6666666666666666,\"#ed7953\"],[0.7777777777777778,\"#fb9f3a\"],[0.8888888888888888,\"#fdca26\"],[1.0,\"#f0f921\"]]}],\"choropleth\":[{\"type\":\"choropleth\",\"colorbar\":{\"outlinewidth\":0,\"ticks\":\"\"}}],\"histogram2d\":[{\"type\":\"histogram2d\",\"colorbar\":{\"outlinewidth\":0,\"ticks\":\"\"},\"colorscale\":[[0.0,\"#0d0887\"],[0.1111111111111111,\"#46039f\"],[0.2222222222222222,\"#7201a8\"],[0.3333333333333333,\"#9c179e\"],[0.4444444444444444,\"#bd3786\"],[0.5555555555555556,\"#d8576b\"],[0.6666666666666666,\"#ed7953\"],[0.7777777777777778,\"#fb9f3a\"],[0.8888888888888888,\"#fdca26\"],[1.0,\"#f0f921\"]]}],\"heatmap\":[{\"type\":\"heatmap\",\"colorbar\":{\"outlinewidth\":0,\"ticks\":\"\"},\"colorscale\":[[0.0,\"#0d0887\"],[0.1111111111111111,\"#46039f\"],[0.2222222222222222,\"#7201a8\"],[0.3333333333333333,\"#9c179e\"],[0.4444444444444444,\"#bd3786\"],[0.5555555555555556,\"#d8576b\"],[0.6666666666666666,\"#ed7953\"],[0.7777777777777778,\"#fb9f3a\"],[0.8888888888888888,\"#fdca26\"],[1.0,\"#f0f921\"]]}],\"heatmapgl\":[{\"type\":\"heatmapgl\",\"colorbar\":{\"outlinewidth\":0,\"ticks\":\"\"},\"colorscale\":[[0.0,\"#0d0887\"],[0.1111111111111111,\"#46039f\"],[0.2222222222222222,\"#7201a8\"],[0.3333333333333333,\"#9c179e\"],[0.4444444444444444,\"#bd3786\"],[0.5555555555555556,\"#d8576b\"],[0.6666666666666666,\"#ed7953\"],[0.7777777777777778,\"#fb9f3a\"],[0.8888888888888888,\"#fdca26\"],[1.0,\"#f0f921\"]]}],\"contourcarpet\":[{\"type\":\"contourcarpet\",\"colorbar\":{\"outlinewidth\":0,\"ticks\":\"\"}}],\"contour\":[{\"type\":\"contour\",\"colorbar\":{\"outlinewidth\":0,\"ticks\":\"\"},\"colorscale\":[[0.0,\"#0d0887\"],[0.1111111111111111,\"#46039f\"],[0.2222222222222222,\"#7201a8\"],[0.3333333333333333,\"#9c179e\"],[0.4444444444444444,\"#bd3786\"],[0.5555555555555556,\"#d8576b\"],[0.6666666666666666,\"#ed7953\"],[0.7777777777777778,\"#fb9f3a\"],[0.8888888888888888,\"#fdca26\"],[1.0,\"#f0f921\"]]}],\"surface\":[{\"type\":\"surface\",\"colorbar\":{\"outlinewidth\":0,\"ticks\":\"\"},\"colorscale\":[[0.0,\"#0d0887\"],[0.1111111111111111,\"#46039f\"],[0.2222222222222222,\"#7201a8\"],[0.3333333333333333,\"#9c179e\"],[0.4444444444444444,\"#bd3786\"],[0.5555555555555556,\"#d8576b\"],[0.6666666666666666,\"#ed7953\"],[0.7777777777777778,\"#fb9f3a\"],[0.8888888888888888,\"#fdca26\"],[1.0,\"#f0f921\"]]}],\"mesh3d\":[{\"type\":\"mesh3d\",\"colorbar\":{\"outlinewidth\":0,\"ticks\":\"\"}}],\"scatter\":[{\"fillpattern\":{\"fillmode\":\"overlay\",\"size\":10,\"solidity\":0.2},\"type\":\"scatter\"}],\"parcoords\":[{\"type\":\"parcoords\",\"line\":{\"colorbar\":{\"outlinewidth\":0,\"ticks\":\"\"}}}],\"scatterpolargl\":[{\"type\":\"scatterpolargl\",\"marker\":{\"colorbar\":{\"outlinewidth\":0,\"ticks\":\"\"}}}],\"bar\":[{\"error_x\":{\"color\":\"#2a3f5f\"},\"error_y\":{\"color\":\"#2a3f5f\"},\"marker\":{\"line\":{\"color\":\"#E5ECF6\",\"width\":0.5},\"pattern\":{\"fillmode\":\"overlay\",\"size\":10,\"solidity\":0.2}},\"type\":\"bar\"}],\"scattergeo\":[{\"type\":\"scattergeo\",\"marker\":{\"colorbar\":{\"outlinewidth\":0,\"ticks\":\"\"}}}],\"scatterpolar\":[{\"type\":\"scatterpolar\",\"marker\":{\"colorbar\":{\"outlinewidth\":0,\"ticks\":\"\"}}}],\"histogram\":[{\"marker\":{\"pattern\":{\"fillmode\":\"overlay\",\"size\":10,\"solidity\":0.2}},\"type\":\"histogram\"}],\"scattergl\":[{\"type\":\"scattergl\",\"marker\":{\"colorbar\":{\"outlinewidth\":0,\"ticks\":\"\"}}}],\"scatter3d\":[{\"type\":\"scatter3d\",\"line\":{\"colorbar\":{\"outlinewidth\":0,\"ticks\":\"\"}},\"marker\":{\"colorbar\":{\"outlinewidth\":0,\"ticks\":\"\"}}}],\"scattermapbox\":[{\"type\":\"scattermapbox\",\"marker\":{\"colorbar\":{\"outlinewidth\":0,\"ticks\":\"\"}}}],\"scatterternary\":[{\"type\":\"scatterternary\",\"marker\":{\"colorbar\":{\"outlinewidth\":0,\"ticks\":\"\"}}}],\"scattercarpet\":[{\"type\":\"scattercarpet\",\"marker\":{\"colorbar\":{\"outlinewidth\":0,\"ticks\":\"\"}}}],\"carpet\":[{\"aaxis\":{\"endlinecolor\":\"#2a3f5f\",\"gridcolor\":\"white\",\"linecolor\":\"white\",\"minorgridcolor\":\"white\",\"startlinecolor\":\"#2a3f5f\"},\"baxis\":{\"endlinecolor\":\"#2a3f5f\",\"gridcolor\":\"white\",\"linecolor\":\"white\",\"minorgridcolor\":\"white\",\"startlinecolor\":\"#2a3f5f\"},\"type\":\"carpet\"}],\"table\":[{\"cells\":{\"fill\":{\"color\":\"#EBF0F8\"},\"line\":{\"color\":\"white\"}},\"header\":{\"fill\":{\"color\":\"#C8D4E3\"},\"line\":{\"color\":\"white\"}},\"type\":\"table\"}],\"barpolar\":[{\"marker\":{\"line\":{\"color\":\"#E5ECF6\",\"width\":0.5},\"pattern\":{\"fillmode\":\"overlay\",\"size\":10,\"solidity\":0.2}},\"type\":\"barpolar\"}],\"pie\":[{\"automargin\":true,\"type\":\"pie\"}]},\"layout\":{\"autotypenumbers\":\"strict\",\"colorway\":[\"#636efa\",\"#EF553B\",\"#00cc96\",\"#ab63fa\",\"#FFA15A\",\"#19d3f3\",\"#FF6692\",\"#B6E880\",\"#FF97FF\",\"#FECB52\"],\"font\":{\"color\":\"#2a3f5f\"},\"hovermode\":\"closest\",\"hoverlabel\":{\"align\":\"left\"},\"paper_bgcolor\":\"white\",\"plot_bgcolor\":\"#E5ECF6\",\"polar\":{\"bgcolor\":\"#E5ECF6\",\"angularaxis\":{\"gridcolor\":\"white\",\"linecolor\":\"white\",\"ticks\":\"\"},\"radialaxis\":{\"gridcolor\":\"white\",\"linecolor\":\"white\",\"ticks\":\"\"}},\"ternary\":{\"bgcolor\":\"#E5ECF6\",\"aaxis\":{\"gridcolor\":\"white\",\"linecolor\":\"white\",\"ticks\":\"\"},\"baxis\":{\"gridcolor\":\"white\",\"linecolor\":\"white\",\"ticks\":\"\"},\"caxis\":{\"gridcolor\":\"white\",\"linecolor\":\"white\",\"ticks\":\"\"}},\"coloraxis\":{\"colorbar\":{\"outlinewidth\":0,\"ticks\":\"\"}},\"colorscale\":{\"sequential\":[[0.0,\"#0d0887\"],[0.1111111111111111,\"#46039f\"],[0.2222222222222222,\"#7201a8\"],[0.3333333333333333,\"#9c179e\"],[0.4444444444444444,\"#bd3786\"],[0.5555555555555556,\"#d8576b\"],[0.6666666666666666,\"#ed7953\"],[0.7777777777777778,\"#fb9f3a\"],[0.8888888888888888,\"#fdca26\"],[1.0,\"#f0f921\"]],\"sequentialminus\":[[0.0,\"#0d0887\"],[0.1111111111111111,\"#46039f\"],[0.2222222222222222,\"#7201a8\"],[0.3333333333333333,\"#9c179e\"],[0.4444444444444444,\"#bd3786\"],[0.5555555555555556,\"#d8576b\"],[0.6666666666666666,\"#ed7953\"],[0.7777777777777778,\"#fb9f3a\"],[0.8888888888888888,\"#fdca26\"],[1.0,\"#f0f921\"]],\"diverging\":[[0,\"#8e0152\"],[0.1,\"#c51b7d\"],[0.2,\"#de77ae\"],[0.3,\"#f1b6da\"],[0.4,\"#fde0ef\"],[0.5,\"#f7f7f7\"],[0.6,\"#e6f5d0\"],[0.7,\"#b8e186\"],[0.8,\"#7fbc41\"],[0.9,\"#4d9221\"],[1,\"#276419\"]]},\"xaxis\":{\"gridcolor\":\"white\",\"linecolor\":\"white\",\"ticks\":\"\",\"title\":{\"standoff\":15},\"zerolinecolor\":\"white\",\"automargin\":true,\"zerolinewidth\":2},\"yaxis\":{\"gridcolor\":\"white\",\"linecolor\":\"white\",\"ticks\":\"\",\"title\":{\"standoff\":15},\"zerolinecolor\":\"white\",\"automargin\":true,\"zerolinewidth\":2},\"scene\":{\"xaxis\":{\"backgroundcolor\":\"#E5ECF6\",\"gridcolor\":\"white\",\"linecolor\":\"white\",\"showbackground\":true,\"ticks\":\"\",\"zerolinecolor\":\"white\",\"gridwidth\":2},\"yaxis\":{\"backgroundcolor\":\"#E5ECF6\",\"gridcolor\":\"white\",\"linecolor\":\"white\",\"showbackground\":true,\"ticks\":\"\",\"zerolinecolor\":\"white\",\"gridwidth\":2},\"zaxis\":{\"backgroundcolor\":\"#E5ECF6\",\"gridcolor\":\"white\",\"linecolor\":\"white\",\"showbackground\":true,\"ticks\":\"\",\"zerolinecolor\":\"white\",\"gridwidth\":2}},\"shapedefaults\":{\"line\":{\"color\":\"#2a3f5f\"}},\"annotationdefaults\":{\"arrowcolor\":\"#2a3f5f\",\"arrowhead\":0,\"arrowwidth\":1},\"geo\":{\"bgcolor\":\"white\",\"landcolor\":\"#E5ECF6\",\"subunitcolor\":\"white\",\"showland\":true,\"showlakes\":true,\"lakecolor\":\"white\"},\"title\":{\"x\":0.05},\"mapbox\":{\"style\":\"light\"}}},\"xaxis\":{\"anchor\":\"y\",\"domain\":[0.0,0.94],\"title\":{\"text\":\"Hour of Day\"}},\"yaxis\":{\"anchor\":\"x\",\"domain\":[0.0,1.0],\"title\":{\"text\":\"Polarity Score\"}},\"yaxis2\":{\"anchor\":\"x\",\"overlaying\":\"y\",\"side\":\"right\",\"title\":{\"text\":\"Subjectivity Score\"}},\"title\":{\"text\":\"Hourly Sentiment Patterns\",\"font\":{\"size\":20},\"x\":0.5},\"font\":{\"size\":12},\"height\":600,\"width\":900,\"hovermode\":\"x unified\"},                        {\"responsive\": true}                    ).then(function(){\n",
              "                            \n",
              "var gd = document.getElementById('27fb8a8a-ff5c-40e6-8cbb-9d763604366c');\n",
              "var x = new MutationObserver(function (mutations, observer) {{\n",
              "        var display = window.getComputedStyle(gd).display;\n",
              "        if (!display || display === 'none') {{\n",
              "            console.log([gd, 'removed!']);\n",
              "            Plotly.purge(gd);\n",
              "            observer.disconnect();\n",
              "        }}\n",
              "}});\n",
              "\n",
              "// Listen for the removal of the full notebook cells\n",
              "var notebookContainer = gd.closest('#notebook-container');\n",
              "if (notebookContainer) {{\n",
              "    x.observe(notebookContainer, {childList: true});\n",
              "}}\n",
              "\n",
              "// Listen for the clearing of the current output cell\n",
              "var outputEl = gd.closest('.output');\n",
              "if (outputEl) {{\n",
              "    x.observe(outputEl, {childList: true});\n",
              "}}\n",
              "\n",
              "                        })                };                });            </script>        </div>"
            ]
          },
          "metadata": {}
        }
      ]
    },
    {
      "cell_type": "markdown",
      "source": [
        "version 2"
      ],
      "metadata": {
        "id": "0YQV3_WJ0sml"
      }
    },
    {
      "cell_type": "markdown",
      "source": [
        "# Interactive Visualizations"
      ],
      "metadata": {
        "id": "Ned6MD__1C1Y"
      }
    },
    {
      "cell_type": "code",
      "source": [
        "class InteractivePlotter:\n",
        "    def __init__(self, df, analyzer):\n",
        "        self.df = df\n",
        "        self.analyzer = analyzer\n",
        "\n",
        "    def create_sentiment_dashboard(self):\n",
        "        \"\"\"Create comprehensive interactive dashboard\"\"\"\n",
        "        fig = make_subplots(\n",
        "            rows=3, cols=2,\n",
        "            subplot_titles=('Sentiment Distribution', 'Hourly Sentiment Patterns',\n",
        "                          'Emotion Analysis', 'Engagement vs Sentiment',\n",
        "                          'Polarity vs Subjectivity', 'Daily Trend'),\n",
        "            specs=[[{\"type\": \"pie\"}, {\"type\": \"bar\"}],\n",
        "                   [{\"type\": \"bar\"}, {\"type\": \"scatter\"}],\n",
        "                   [{\"type\": \"scatter\"}, {\"type\": \"scatter\"}]]\n",
        "        )\n",
        "        sentiment_counts = self.df['sentiment'].value_counts()\n",
        "        fig.add_trace(go.Pie(\n",
        "            labels=sentiment_counts.index,\n",
        "            values=sentiment_counts.values,\n",
        "            colors=['#2E86AB', '#A23B72', '#F18F01'],\n",
        "            hole=0.3\n",
        "        ), row=1, col=1)\n",
        "\n",
        "        hourly_sentiment = self.df.groupby(['hour', 'sentiment']).size().unstack(fill_value=0)\n",
        "        for sentiment in hourly_sentiment.columns:\n",
        "            fig.add_trace(go.Bar(\n",
        "                x=hourly_sentiment.index,\n",
        "                y=hourly_sentiment[sentiment],\n",
        "                name=sentiment,\n",
        "                showlegend=False\n",
        "            ), row=1, col=2)\n",
        "\n",
        "        emotion_counts = self.df['emotion'].value_counts().head(8)\n",
        "        fig.add_trace(go.Bar(\n",
        "            x=emotion_counts.index,\n",
        "            y=emotion_counts.values,\n",
        "            marker_color='viridis',\n",
        "            showlegend=False\n",
        "        ), row=2, col=1)\n",
        "\n",
        "        engagement_sentiment = self.df.groupby('sentiment').agg({\n",
        "            'like_count': 'mean',\n",
        "            'retweet_count': 'mean'\n",
        "        }).reset_index()\n",
        "\n",
        "        fig.add_trace(go.Scatter(\n",
        "            x=engagement_sentiment['like_count'],\n",
        "            y=engagement_sentiment['retweet_count'],\n",
        "            mode='markers+text',\n",
        "            text=engagement_sentiment['sentiment'],\n",
        "            textposition='top center',\n",
        "            marker=dict(size=15, color=['#2E86AB', '#A23B72', '#F18F01']),\n",
        "            showlegend=False\n",
        "        ), row=2, col=2)\n",
        "\n",
        "        fig.add_trace(go.Scatter(\n",
        "            x=self.df['subjectivity'],\n",
        "            y=self.df['polarity'],\n",
        "            mode='markers',\n",
        "            marker=dict(\n",
        "                color=self.df['confidence'],\n",
        "                colorscale='viridis',\n",
        "                size=6,\n",
        "                opacity=0.6,\n",
        "                colorbar=dict(title=\"Confidence\")\n",
        "            ),\n",
        "            showlegend=False\n",
        "        ), row=3, col=1)\n",
        "\n",
        "        daily_polarity = self.df.groupby(self.df['created_at'].dt.date)['polarity'].mean()\n",
        "        fig.add_trace(go.Scatter(\n",
        "            x=daily_polarity.index,\n",
        "            y=daily_polarity.values,\n",
        "            mode='lines+markers',\n",
        "            line=dict(color='#2E86AB', width=3),\n",
        "            marker=dict(size=6),\n",
        "            showlegend=False\n",
        "        ), row=3, col=2)\n",
        "\n",
        "        fig.update_layout(\n",
        "            height=1200,\n",
        "            title_text=\"🌍 Global Mood Analysis Dashboard\",\n",
        "            title_font_size=20,\n",
        "            showlegend=True\n",
        "        )\n",
        "\n",
        "        return fig\n",
        "\n",
        "    def create_emotion_heatmap(self):\n",
        "        \"\"\"Create emotion-time heatmap\"\"\"\n",
        "        emotion_hour = self.df.groupby(['hour', 'emotion']).size().unstack(fill_value=0)\n",
        "\n",
        "        fig = go.Figure(data=go.Heatmap(\n",
        "            z=emotion_hour.T.values,\n",
        "            x=emotion_hour.index,\n",
        "            y=emotion_hour.columns,\n",
        "            colorscale='viridis',\n",
        "            hoverongaps=False\n",
        "        ))\n",
        "\n",
        "        fig.update_layout(\n",
        "            title='Emotion Patterns Throughout the Day',\n",
        "            xaxis_title='Hour of Day',\n",
        "            yaxis_title='Emotion',\n",
        "            height=600\n",
        "        )\n",
        "\n",
        "        return fig\n",
        "\n",
        "    def create_word_frequency_chart(self):\n",
        "        \"\"\"Create word frequency visualization\"\"\"\n",
        "        all_text = ' '.join(self.df['text'].astype(str))\n",
        "\n",
        "        from collections import Counter\n",
        "        import re\n",
        "\n",
        "        words = re.findall(r'\\w+', all_text.lower())\n",
        "        stop_words = {'the', 'a', 'an', 'and', 'or', 'but', 'in', 'on', 'at', 'to', 'for', 'of', 'with', 'by', 'i', 'you', 'he', 'she', 'it', 'we', 'they', 'this', 'that', 'is', 'are', 'was', 'were', 'be', 'been', 'have', 'has', 'had', 'do', 'does', 'did', 'will', 'would', 'could', 'should', 'may', 'might', 'can', 'cant', 'dont', 'wont', 'im', 'youre', 'hes', 'shes', 'its', 'were', 'theyre'}\n",
        "\n",
        "        filtered_words = [word for word in words if word not in stop_words and len(word) > 2]\n",
        "        word_freq = Counter(filtered_words).most_common(20)\n",
        "\n",
        "        words, counts = zip(*word_freq)\n",
        "\n",
        "        fig = go.Figure(data=go.Bar(\n",
        "            x=list(words),\n",
        "            y=list(counts),\n",
        "            marker_color='viridis'\n",
        "        ))\n",
        "\n",
        "        fig.update_layout(\n",
        "            title='Most Frequent Words in Tweets',\n",
        "            xaxis_title='Words',\n",
        "            yaxis_title='Frequency',\n",
        "            height=500\n",
        "        )\n",
        "\n",
        "        return fig\n",
        "\n",
        "interactive_plotter = InteractivePlotter(df_tweets, analyzer)"
      ],
      "metadata": {
        "id": "_-bPoyQY0sDt"
      },
      "execution_count": null,
      "outputs": []
    },
    {
      "cell_type": "markdown",
      "source": [
        "\n",
        "# Generate and Display Interactive Visualizations"
      ],
      "metadata": {
        "id": "uNUFOP3I0L7Z"
      }
    },
    {
      "cell_type": "code",
      "source": [
        "print(\"Creating Interactive Visualizations\")\n",
        "\n",
        "dashboard_fig = interactive_plotter.create_sentiment_dashboard()\n",
        "dashboard_fig.show()\n",
        "\n",
        "emotion_heatmap = interactive_plotter.create_emotion_heatmap()\n",
        "emotion_heatmap.show()\n",
        "\n",
        "word_freq_fig = interactive_plotter.create_word_frequency_chart()\n",
        "word_freq_fig.show()"
      ],
      "metadata": {
        "id": "iAqXgNrC0LGy"
      },
      "execution_count": null,
      "outputs": []
    },
    {
      "cell_type": "markdown",
      "source": [
        "# Advanced Analytics and Insights"
      ],
      "metadata": {
        "id": "iJFZAB3M13cl"
      }
    },
    {
      "cell_type": "code",
      "source": [
        "class AdvancedAnalytics:\n",
        "    def __init__(self, df):\n",
        "        self.df = df\n",
        "\n",
        "    def sentiment_clustering(self, n_clusters=5):\n",
        "        \"\"\"Perform clustering on sentiment features\"\"\"\n",
        "        features = ['polarity', 'subjectivity', 'confidence', 'word_count', 'like_count', 'retweet_count']\n",
        "        X = self.df[features].fillna(0)\n",
        "\n",
        "        from sklearn.preprocessing import StandardScaler\n",
        "        scaler = StandardScaler()\n",
        "        X_scaled = scaler.fit_transform(X)\n",
        "\n",
        "        kmeans = KMeans(n_clusters=n_clusters, random_state=42)\n",
        "        clusters = kmeans.fit_predict(X_scaled)\n",
        "\n",
        "        self.df['cluster'] = clusters\n",
        "\n",
        "        cluster_analysis = self.df.groupby('cluster').agg({\n",
        "            'polarity': ['mean', 'std'],\n",
        "            'subjectivity': ['mean', 'std'],\n",
        "            'confidence': 'mean',\n",
        "            'word_count': 'mean',\n",
        "            'like_count': 'mean',\n",
        "            'retweet_count': 'mean',\n",
        "            'sentiment': lambda x: x.mode().iloc[0] if len(x.mode()) > 0 else 'Mixed'\n",
        "        }).round(3)\n",
        "\n",
        "        return cluster_analysis\n",
        "\n",
        "    def peak_analysis(self):\n",
        "        \"\"\"Identify peak sentiment times\"\"\"\n",
        "        hourly_stats = self.df.groupby('hour').agg({\n",
        "            'polarity': ['mean', 'std', 'count'],\n",
        "            'sentiment': lambda x: (x == 'Positive').sum() / len(x) * 100\n",
        "        }).round(3)\n",
        "\n",
        "        positive_peak_hour = hourly_stats[('sentiment', '<lambda>')].idxmax()\n",
        "        negative_peak_hour = hourly_stats[('polarity', 'mean')].idxmin()\n",
        "        most_active_hour = hourly_stats[('polarity', 'count')].idxmax()\n",
        "\n",
        "        return {\n",
        "            'most_positive_hour': positive_peak_hour,\n",
        "            'most_negative_hour': negative_peak_hour,\n",
        "            'most_active_hour': most_active_hour,\n",
        "            'hourly_stats': hourly_stats\n",
        "        }\n",
        "\n",
        "    def generate_insights(self):\n",
        "        \"\"\"Generate key insights from the data\"\"\"\n",
        "        insights = []\n",
        "\n",
        "        pos_pct = (self.df['sentiment'] == 'Positive').mean() * 100\n",
        "        neg_pct = (self.df['sentiment'] == 'Negative').mean() * 100\n",
        "\n",
        "        if pos_pct > 50:\n",
        "            insights.append(f\"Overall mood is positive! {pos_pct:.1f}% of tweets show positive sentiment.\")\n",
        "        elif neg_pct > 40:\n",
        "            insights.append(f\"High negativity detected: {neg_pct:.1f}% of tweets are negative.\")\n",
        "        else:\n",
        "            insights.append(f\"Balanced sentiment: {pos_pct:.1f}% positive, {neg_pct:.1f}% negative.\")\n",
        "\n",
        "        peak_analysis = self.peak_analysis()\n",
        "        insights.append(f\"Most positive hour: {peak_analysis['most_positive_hour']}:00\")\n",
        "        insights.append(f\"Peak activity hour: {peak_analysis['most_active_hour']}:00\")\n",
        "\n",
        "        avg_engagement = (self.df['like_count'] + self.df['retweet_count']).mean()\n",
        "        positive_engagement = self.df[self.df['sentiment'] == 'Positive'][['like_count', 'retweet_count']].sum().sum()\n",
        "        negative_engagement = self.df[self.df['sentiment'] == 'Negative'][['like_count', 'retweet_count']].sum().sum()\n",
        "\n",
        "        if positive_engagement > negative_engagement * 1.5:\n",
        "            insights.append(\"Positive tweets get significantly more engagement!\")\n",
        "\n",
        "        top_emotion = self.df['emotion'].mode().iloc[0]\n",
        "        insights.append(f\"Dominant emotion: {top_emotion.title()}\")\n",
        "\n",
        "        weekend_polarity = self.df[self.df['is_weekend']]['polarity'].mean()\n",
        "        weekday_polarity = self.df[~self.df['is_weekend']]['polarity'].mean()\n",
        "\n",
        "        if weekend_polarity > weekday_polarity + 0.05:\n",
        "            insights.append(\"People are happier on weekends!\")\n",
        "        elif weekday_polarity > weekend_polarity + 0.05:\n",
        "            insights.append(\"Surprisingly, weekdays show better mood!\")\n",
        "\n",
        "        return insights\n",
        "\n",
        "analytics = AdvancedAnalytics(df_tweets)\n",
        "\n",
        "print(\"\\n ADVANCED ANALYTICS\")\n",
        "print(\"=\" * 50)\n",
        "\n",
        "cluster_results = analytics.sentiment_clustering()\n",
        "print(\"\\n Sentiment Clusters Found:\")\n",
        "print(cluster_results)\n",
        "\n",
        "peaks = analytics.peak_analysis()\n",
        "print(f\"\\n Peak Activity Analysis:\")\n",
        "print(f\"   • Most Positive Hour: {peaks['most_positive_hour']}:00\")\n",
        "print(f\"   • Most Negative Hour: {peaks['most_negative_hour']}:00\")\n",
        "print(f\"   • Most Active Hour: {peaks['most_active_hour']}:00\")\n",
        "\n",
        "insights = analytics.generate_insights()\n",
        "print(f\"\\n💡 KEY INSIGHTS:\")\n",
        "for i, insight in enumerate(insights, 1):\n",
        "    print(f\"   {i}. {insight}\")"
      ],
      "metadata": {
        "id": "3xr9b5fB13j-"
      },
      "execution_count": null,
      "outputs": []
    }
  ]
}