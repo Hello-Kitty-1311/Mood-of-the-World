{
  "cells": [
    {
      "cell_type": "markdown",
      "metadata": {
        "id": "pCtiLheWdLTS"
      },
      "source": [
        "# Global Tweet Sentiment Analysis - Mood of the World"
      ]
    },
    {
      "cell_type": "markdown",
      "metadata": {
        "id": "Jl2PbgOKdUia"
      },
      "source": [
        "# Install Required Packages"
      ]
    },
    {
      "cell_type": "code",
      "execution_count": 1,
      "metadata": {
        "id": "qsXufA_7XySO",
        "colab": {
          "base_uri": "https://localhost:8080/"
        },
        "outputId": "cb8e8da7-fef5-449e-ff68-5dd7e5f56af7"
      },
      "outputs": [
        {
          "output_type": "stream",
          "name": "stdout",
          "text": [
            "[nltk_data] Downloading package brown to /root/nltk_data...\n",
            "[nltk_data]   Unzipping corpora/brown.zip.\n",
            "[nltk_data] Downloading package punkt_tab to /root/nltk_data...\n",
            "[nltk_data]   Unzipping tokenizers/punkt_tab.zip.\n",
            "[nltk_data] Downloading package wordnet to /root/nltk_data...\n",
            "[nltk_data] Downloading package averaged_perceptron_tagger_eng to\n",
            "[nltk_data]     /root/nltk_data...\n",
            "[nltk_data]   Unzipping taggers/averaged_perceptron_tagger_eng.zip.\n",
            "[nltk_data] Downloading package conll2000 to /root/nltk_data...\n",
            "[nltk_data]   Unzipping corpora/conll2000.zip.\n",
            "[nltk_data] Downloading package movie_reviews to /root/nltk_data...\n",
            "[nltk_data]   Unzipping corpora/movie_reviews.zip.\n",
            "Finished.\n"
          ]
        }
      ],
      "source": [
        "!pip install tweepy textblob plotly pandas numpy wordcloud matplotlib seaborn python-dotenv --quiet\n",
        "!python -m textblob.download_corpora"
      ]
    },
    {
      "cell_type": "markdown",
      "metadata": {
        "id": "NwbnEPFwdbDO"
      },
      "source": [
        "# Import Libraries"
      ]
    },
    {
      "cell_type": "code",
      "execution_count": 2,
      "metadata": {
        "id": "ZtEaBILWX8nv",
        "colab": {
          "base_uri": "https://localhost:8080/",
          "height": 17
        },
        "outputId": "64c4cdd2-a656-41b0-c1f8-64a6ffb7f01e"
      },
      "outputs": [
        {
          "output_type": "display_data",
          "data": {
            "text/html": [
              "        <script type=\"text/javascript\">\n",
              "        window.PlotlyConfig = {MathJaxConfig: 'local'};\n",
              "        if (window.MathJax && window.MathJax.Hub && window.MathJax.Hub.Config) {window.MathJax.Hub.Config({SVG: {font: \"STIX-Web\"}});}\n",
              "        if (typeof require !== 'undefined') {\n",
              "        require.undef(\"plotly\");\n",
              "        requirejs.config({\n",
              "            paths: {\n",
              "                'plotly': ['https://cdn.plot.ly/plotly-2.35.2.min']\n",
              "            }\n",
              "        });\n",
              "        require(['plotly'], function(Plotly) {\n",
              "            window._Plotly = Plotly;\n",
              "        });\n",
              "        }\n",
              "        </script>\n",
              "        "
            ]
          },
          "metadata": {}
        }
      ],
      "source": [
        "import tweepy\n",
        "import pandas as pd\n",
        "import numpy as np\n",
        "from textblob import TextBlob\n",
        "import plotly.express as px\n",
        "import plotly.graph_objects as go\n",
        "from plotly.subplots import make_subplots\n",
        "import plotly.offline as pyo\n",
        "from datetime import datetime, timedelta\n",
        "import re\n",
        "import json\n",
        "from collections import Counter\n",
        "import warnings\n",
        "warnings.filterwarnings('ignore')\n",
        "import matplotlib.pyplot as plt\n",
        "import seaborn as sns\n",
        "from wordcloud import WordCloud\n",
        "pyo.init_notebook_mode(connected=True)"
      ]
    },
    {
      "cell_type": "markdown",
      "metadata": {
        "id": "IOq4Gvjydn4g"
      },
      "source": [
        "# Twitter API Configuration\n",
        "## Note : get API from https://developer.twitter.com/\n"
      ]
    },
    {
      "cell_type": "code",
      "execution_count": 3,
      "metadata": {
        "id": "zfCHLwrwd_Mn"
      },
      "outputs": [],
      "source": [
        "class TwitterConfig:\n",
        "    def __init__(self):\n",
        "        # Replace with your actual API credentials\n",
        "        # Note : Use Paid Key if you use free key then the limit will be reached during data Preparation\n",
        "        self.API_KEY = \"YOUR_API_KEY\"\n",
        "        self.API_SECRET = \"YOUR_API_SECRET\"\n",
        "        self.ACCESS_TOKEN = \"YOUR_ACCESS_TOKEN\"\n",
        "        self.ACCESS_TOKEN_SECRET = \"YOUR_ACCESS_TOKEN_SECRET\"\n",
        "        self.BEARER_TOKEN = \"YOUR_BEARER_TOKEN\"\n",
        "\n",
        "    def get_api_v1(self):\n",
        "        \"\"\"Get Twitter API v1.1 client\"\"\"\n",
        "        auth = tweepy.OAuthHandler(self.API_KEY, self.API_SECRET)\n",
        "        auth.set_access_token(self.ACCESS_TOKEN, self.ACCESS_TOKEN_SECRET)\n",
        "        return tweepy.API(auth, wait_on_rate_limit=True)\n",
        "\n",
        "    def get_api_v2(self):\n",
        "        \"\"\"Get Twitter API v2 client\"\"\"\n",
        "        return tweepy.Client(\n",
        "            bearer_token=self.BEARER_TOKEN,\n",
        "            consumer_key=self.API_KEY,\n",
        "            consumer_secret=self.API_SECRET,\n",
        "            access_token=self.ACCESS_TOKEN,\n",
        "            access_token_secret=self.ACCESS_TOKEN_SECRET,\n",
        "            wait_on_rate_limit=True\n",
        "        )\n",
        "config = TwitterConfig()"
      ]
    },
    {
      "cell_type": "markdown",
      "metadata": {
        "id": "MkgYKLtdeLNj"
      },
      "source": [
        "# Data Collection"
      ]
    },
    {
      "cell_type": "code",
      "execution_count": 4,
      "metadata": {
        "id": "HZa1gmgheKoL"
      },
      "outputs": [],
      "source": [
        "class GlobalTweetCollector:\n",
        "    def __init__(self, api_v1, api_v2):\n",
        "        self.api_v1 = api_v1\n",
        "        self.api_v2 = api_v2\n",
        "        self.tweets_data = []\n",
        "\n",
        "    def clean_tweet(self, text):\n",
        "        \"\"\"Clean tweet text for better sentiment analysis\"\"\"\n",
        "        text = re.sub(r'http\\S+|www\\S+|https\\S+', '', text, flags=re.MULTILINE)\n",
        "        text = re.sub(r'@\\w+|#\\w+', '', text)\n",
        "        text = ' '.join(text.split())\n",
        "        return text.strip()\n",
        "\n",
        "    def get_sentiment(self, text):\n",
        "        \"\"\"Analyze sentiment using TextBlob\"\"\"\n",
        "        try:\n",
        "            blob = TextBlob(text)\n",
        "            polarity = blob.sentiment.polarity\n",
        "            subjectivity = blob.sentiment.subjectivity\n",
        "            if polarity > 0.1:\n",
        "                sentiment = 'Positive'\n",
        "            elif polarity < -0.1:\n",
        "                sentiment = 'Negative'\n",
        "            else:\n",
        "                sentiment = 'Neutral'\n",
        "\n",
        "            return {\n",
        "                'sentiment': sentiment,\n",
        "                'polarity': polarity,\n",
        "                'subjectivity': subjectivity\n",
        "            }\n",
        "        except:\n",
        "            return {\n",
        "                'sentiment': 'Neutral',\n",
        "                'polarity': 0.0,\n",
        "                'subjectivity': 0.0\n",
        "            }\n",
        "\n",
        "    def collect_global_tweets(self, keywords=None, count=1000):\n",
        "        \"\"\"Collect tweets from around the world\"\"\"\n",
        "        if keywords is None:\n",
        "            keywords = [\n",
        "                \"good morning\", \"how are you\", \"feeling\", \"mood\", \"happy\",\n",
        "                \"sad\", \"excited\", \"worried\", \"grateful\", \"blessed\",\n",
        "                \"monday\", \"tuesday\", \"wednesday\", \"thursday\", \"friday\",\n",
        "                \"weekend\", \"today\", \"life\", \"work\", \"family\"\n",
        "            ]\n",
        "\n",
        "        print(f\"Starting global tweet collection...\")\n",
        "\n",
        "        for keyword in keywords:\n",
        "            try:\n",
        "                print(f\"Searching for: '{keyword}'\")\n",
        "                tweets = tweepy.Paginator(\n",
        "                    self.api_v2.search_recent_tweets,\n",
        "                    query=f\"{keyword} -is:retweet lang:en\",\n",
        "                    tweet_fields=['created_at', 'author_id', 'public_metrics', 'geo'],\n",
        "                    max_results=100,\n",
        "                    limit=10\n",
        "                ).flatten(limit=count // len(keywords))\n",
        "\n",
        "                for tweet in tweets:\n",
        "                    if tweet.text:\n",
        "                        cleaned_text = self.clean_tweet(tweet.text)\n",
        "                        if len(cleaned_text) > 10:\n",
        "                            sentiment_data = self.get_sentiment(cleaned_text)\n",
        "\n",
        "                            tweet_data = {\n",
        "                                'id': tweet.id,\n",
        "                                'text': cleaned_text,\n",
        "                                'original_text': tweet.text,\n",
        "                                'created_at': tweet.created_at,\n",
        "                                'author_id': tweet.author_id,\n",
        "                                'keyword': keyword,\n",
        "                                'sentiment': sentiment_data['sentiment'],\n",
        "                                'polarity': sentiment_data['polarity'],\n",
        "                                'subjectivity': sentiment_data['subjectivity'],\n",
        "                                'retweet_count': tweet.public_metrics['retweet_count'] if tweet.public_metrics else 0,\n",
        "                                'like_count': tweet.public_metrics['like_count'] if tweet.public_metrics else 0,\n",
        "                            }\n",
        "\n",
        "                            self.tweets_data.append(tweet_data)\n",
        "\n",
        "            except Exception as e:\n",
        "                print(f\"Error collecting tweets for '{keyword}': {str(e)}\")\n",
        "                continue\n",
        "\n",
        "        print(f\"Collected {len(self.tweets_data)} tweets total\")\n",
        "        return pd.DataFrame(self.tweets_data)"
      ]
    },
    {
      "cell_type": "markdown",
      "metadata": {
        "id": "aI1zPxCvfL4a"
      },
      "source": [
        "# Initialize APIs and Collect Data or Sample Data for Demonstration"
      ]
    },
    {
      "cell_type": "code",
      "execution_count": 5,
      "metadata": {
        "id": "yNBAgeuWfMAq",
        "colab": {
          "base_uri": "https://localhost:8080/"
        },
        "outputId": "5e7db8b3-8d64-4017-c5c1-5c6b2241d7d9"
      },
      "outputs": [
        {
          "output_type": "stream",
          "name": "stdout",
          "text": [
            "Testing Twitter API connection...\n",
            "Error: 401 Unauthorized\n",
            "89 - Invalid or expired token.\n",
            "\n",
            " Creating sample data for demonstration...\n",
            "Sample dataset created with 500 tweets\n"
          ]
        }
      ],
      "source": [
        "try:\n",
        "    api_v1 = config.get_api_v1()\n",
        "    api_v2 = config.get_api_v2()\n",
        "\n",
        "    print(\"Testing Twitter API connection...\")\n",
        "    me = api_v1.verify_credentials()\n",
        "    if me:\n",
        "        print(f\"Connected as: @{me.screen_name}\")\n",
        "    else:\n",
        "        print(\"API connection failed.\")\n",
        "    collector = GlobalTweetCollector(api_v1, api_v2)\n",
        "    df_tweets = collector.collect_global_tweets(count=2000)\n",
        "\n",
        "    if len(df_tweets) > 0:\n",
        "        print(f\"Dataset shape: {df_tweets.shape}\")\n",
        "        print(\"\\n Dataset info:\")\n",
        "        print(df_tweets.info())\n",
        "        print(f\"\\n Sentiment distribution:\")\n",
        "        print(df_tweets['sentiment'].value_counts())\n",
        "    else:\n",
        "        print(\"No tweets collected. Check your API credentials.\")\n",
        "\n",
        "except Exception as e:\n",
        "    print(f\"Error: {str(e)}\")\n",
        "\n",
        "    print(\"\\n Creating sample data for demonstration...\")\n",
        "    sample_data = {\n",
        "        'text': [\n",
        "            'Having a great day today!',\n",
        "            'Feeling a bit down lately',\n",
        "            'Just another normal Monday',\n",
        "            'So excited for the weekend!',\n",
        "            'Work is really stressing me out',\n",
        "            'Grateful for my family and friends',\n",
        "            'Weather is perfect today',\n",
        "            'This week has been challenging',\n",
        "            'Looking forward to vacation',\n",
        "            'Love spending time with loved ones'\n",
        "        ] * 50,\n",
        "        'sentiment': ['Positive', 'Negative', 'Neutral', 'Positive', 'Negative'] * 100,\n",
        "        'polarity': np.random.normal(0, 0.3, 500),\n",
        "        'subjectivity': np.random.uniform(0, 1, 500),\n",
        "        'created_at': pd.date_range(start='2024-01-01', periods=500, freq='H'),\n",
        "        'keyword': np.random.choice(['mood', 'feeling', 'today', 'happy', 'work'], 500)\n",
        "    }\n",
        "    df_tweets = pd.DataFrame(sample_data)\n",
        "    print(f\"Sample dataset created with {len(df_tweets)} tweets\")"
      ]
    },
    {
      "cell_type": "markdown",
      "metadata": {
        "id": "-6Hh1nSsgG0j"
      },
      "source": [
        "# Data Analysis"
      ]
    },
    {
      "cell_type": "code",
      "execution_count": 6,
      "metadata": {
        "id": "jfAEAFcbgG73",
        "colab": {
          "base_uri": "https://localhost:8080/"
        },
        "outputId": "1fd9cece-811e-4134-8fb6-eb4ebe98dcea"
      },
      "outputs": [
        {
          "output_type": "stream",
          "name": "stdout",
          "text": [
            "Mood of the World SUMMARY\n",
            "========================================\n",
            "Total Tweets Analyzed: 500\n",
            "Positive Sentiment: 40.0%\n",
            "Negative Sentiment: 40.0%\n",
            "Neutral Sentiment: 20.0%\n",
            "Average Polarity: -0.017\n",
            "Average Subjectivity: 0.491\n"
          ]
        }
      ],
      "source": [
        "class SentimentAnalyzer:\n",
        "    def __init__(self, df):\n",
        "        self.df = df.copy()\n",
        "        self.prepare_data()\n",
        "\n",
        "    def prepare_data(self):\n",
        "        \"\"\"Prepare data for analysis\"\"\"\n",
        "        if 'created_at' in self.df.columns:\n",
        "            self.df['created_at'] = pd.to_datetime(self.df['created_at'])\n",
        "            self.df['hour'] = self.df['created_at'].dt.hour\n",
        "            self.df['day_of_week'] = self.df['created_at'].dt.day_name()\n",
        "            self.df['date'] = self.df['created_at'].dt.date\n",
        "\n",
        "    def get_sentiment_summary(self):\n",
        "        \"\"\"Get overall sentiment statistics\"\"\"\n",
        "        total_tweets = len(self.df)\n",
        "        sentiment_counts = self.df['sentiment'].value_counts()\n",
        "\n",
        "        summary = {\n",
        "            'total_tweets': total_tweets,\n",
        "            'positive_pct': (sentiment_counts.get('Positive', 0) / total_tweets) * 100,\n",
        "            'negative_pct': (sentiment_counts.get('Negative', 0) / total_tweets) * 100,\n",
        "            'neutral_pct': (sentiment_counts.get('Neutral', 0) / total_tweets) * 100,\n",
        "            'avg_polarity': self.df['polarity'].mean(),\n",
        "            'avg_subjectivity': self.df['subjectivity'].mean()\n",
        "        }\n",
        "\n",
        "        return summary\n",
        "\n",
        "    def get_hourly_sentiment(self):\n",
        "        \"\"\"Analyze sentiment by hour of day\"\"\"\n",
        "        hourly_sentiment = self.df.groupby(['hour', 'sentiment']).size().unstack(fill_value=0)\n",
        "        hourly_polarity = self.df.groupby('hour')['polarity'].mean()\n",
        "\n",
        "        return hourly_sentiment, hourly_polarity\n",
        "\n",
        "    def get_daily_sentiment(self):\n",
        "        \"\"\"Analyze sentiment by day of week\"\"\"\n",
        "        daily_sentiment = self.df.groupby(['day_of_week', 'sentiment']).size().unstack(fill_value=0)\n",
        "        daily_polarity = self.df.groupby('day_of_week')['polarity'].mean()\n",
        "\n",
        "        return daily_sentiment, daily_polarity\n",
        "\n",
        "    def get_keyword_sentiment(self):\n",
        "        \"\"\"Analyze sentiment by keyword\"\"\"\n",
        "        if 'keyword' in self.df.columns:\n",
        "            keyword_sentiment = self.df.groupby(['keyword', 'sentiment']).size().unstack(fill_value=0)\n",
        "            keyword_polarity = self.df.groupby('keyword')['polarity'].mean().sort_values(ascending=False)\n",
        "            return keyword_sentiment, keyword_polarity\n",
        "        return None, None\n",
        "\n",
        "analyzer = SentimentAnalyzer(df_tweets)\n",
        "summary = analyzer.get_sentiment_summary()\n",
        "\n",
        "print(\"Mood of the World SUMMARY\")\n",
        "print(\"=\" * 40)\n",
        "print(f\"Total Tweets Analyzed: {summary['total_tweets']:,}\")\n",
        "print(f\"Positive Sentiment: {summary['positive_pct']:.1f}%\")\n",
        "print(f\"Negative Sentiment: {summary['negative_pct']:.1f}%\")\n",
        "print(f\"Neutral Sentiment: {summary['neutral_pct']:.1f}%\")\n",
        "print(f\"Average Polarity: {summary['avg_polarity']:.3f}\")\n",
        "print(f\"Average Subjectivity: {summary['avg_subjectivity']:.3f}\")"
      ]
    },
    {
      "cell_type": "markdown",
      "metadata": {
        "id": "J-NNAAQegqqE"
      },
      "source": [
        "# Create Interactive Visualizations"
      ]
    },
    {
      "cell_type": "code",
      "execution_count": 7,
      "metadata": {
        "id": "iRY4TI6pgqyC",
        "colab": {
          "base_uri": "https://localhost:8080/",
          "height": 1000
        },
        "outputId": "aac43a5e-5331-4b09-aa7c-639f28e2aa23"
      },
      "outputs": [
        {
          "output_type": "stream",
          "name": "stdout",
          "text": [
            "Interactive Visualizations\n"
          ]
        },
        {
          "output_type": "display_data",
          "data": {
            "application/vnd.plotly.v1+json": {
              "data": [
                {
                  "labels": [
                    "Positive",
                    "Negative",
                    "Neutral"
                  ],
                  "marker": {
                    "colors": [
                      "#2E86AB",
                      "#A23B72",
                      "#F18F01"
                    ]
                  },
                  "name": "Sentiment",
                  "values": [
                    200,
                    200,
                    100
                  ],
                  "type": "pie",
                  "domain": {
                    "x": [
                      0,
                      0.45
                    ],
                    "y": [
                      0.625,
                      1
                    ]
                  }
                },
                {
                  "marker": {
                    "color": "#2E86AB"
                  },
                  "name": "Polarity",
                  "nbinsx": 30,
                  "opacity": 0.7,
                  "x": [
                    -0.43699968333186745,
                    0.31409685712143526,
                    -0.6867104910025777,
                    0.32340306551881376,
                    -0.3355114509423263,
                    -0.1582603932873612,
                    -0.23206255809797138,
                    0.03607652550508366,
                    -0.19390000746054298,
                    0.12602674090605448,
                    0.34894341881444463,
                    -0.1837279747133831,
                    -0.2933783784034788,
                    0.036047800356935174,
                    0.014410478902858301,
                    -0.24430351122049654,
                    0.4850080113285751,
                    0.15652581831221613,
                    0.16116520913546625,
                    0.8039381556970414,
                    -0.34080330238923495,
                    0.0781498222864523,
                    0.07948706990136972,
                    -0.02329203749633933,
                    0.09670661628154392,
                    0.291406563496757,
                    0.1857187870101316,
                    0.158611644447625,
                    0.24353788759825262,
                    -0.647936342981678,
                    -0.13320544612530308,
                    0.2772987062671241,
                    0.3613097379014549,
                    0.5149606600401013,
                    -0.6277990732963645,
                    0.42292549421950465,
                    0.10425262921804686,
                    -0.06832648346927556,
                    0.21513040611802733,
                    0.03799850876199789,
                    -0.12698015064130863,
                    -0.11943251913282443,
                    -0.8069307905781218,
                    -0.2614491165129323,
                    -0.10674903913073529,
                    0.5117615267334842,
                    -0.30999979525832794,
                    -0.2744710701269322,
                    0.2575860165572743,
                    -0.09359181974681993,
                    0.35583177033501473,
                    0.4112671821385449,
                    0.2799666147898861,
                    -0.1799928124992866,
                    0.007138856239111862,
                    -0.5672137759615777,
                    -0.29185738000926936,
                    0.0747421669326831,
                    -0.20953476341992808,
                    -0.10033638914811623,
                    -0.20564695089571727,
                    0.07892039711959739,
                    -0.25752471307542646,
                    0.06555238829856386,
                    0.3522774557824722,
                    -0.5006256201976059,
                    -0.18440402815319243,
                    0.08497594691372409,
                    -0.5434171601776471,
                    -0.13493467983892143,
                    0.5207468517807557,
                    0.2916174156697049,
                    0.43441271565880996,
                    -0.36064624815573215,
                    0.05466891421860389,
                    -0.16722431829335052,
                    -0.00642237094719534,
                    -0.05634015708290416,
                    0.22495431115555395,
                    -0.26160739146743606,
                    0.014215164132959483,
                    -0.054681838215967636,
                    -0.19829070504202703,
                    -0.3431051228156916,
                    0.0865423684233546,
                    0.12632829553377722,
                    0.07536970632065165,
                    -0.44565904293765807,
                    0.010435102637662385,
                    -0.481813659749704,
                    -0.21612510970431817,
                    -0.23225550708260073,
                    -0.0930755417864939,
                    -0.21713181517424604,
                    0.3627729212419621,
                    -0.15506869505484516,
                    -0.5990832479431819,
                    0.08636279114558952,
                    0.2437958400162894,
                    0.028771132349758012,
                    -0.24147937543527476,
                    -0.2812687457462314,
                    -0.17412988758692646,
                    0.010339471807294167,
                    0.24988371203867613,
                    -0.4874003670581352,
                    -0.1433377264551546,
                    0.1783569450249534,
                    0.09010579123349283,
                    0.57424980817299,
                    0.10318006209963389,
                    0.19824630113698177,
                    0.2066273926927664,
                    0.10662550697977287,
                    -0.1318944034123109,
                    -0.2923270808274672,
                    0.3317814431727019,
                    0.293992980913738,
                    -0.39063802994774105,
                    -0.30035928260267586,
                    0.1365730940496174,
                    -0.34648175980426815,
                    -0.7085131658241257,
                    -0.22994370364521033,
                    -0.16341149644635328,
                    -0.15435468335284058,
                    -0.31738604052928776,
                    -0.5742221132411673,
                    0.25081538879209375,
                    0.00034423302536554825,
                    -0.31705399569774934,
                    0.2613287955471986,
                    0.32314167586296577,
                    0.25005501908485434,
                    -0.01615429106963941,
                    -0.16386645904521224,
                    0.3073115779374977,
                    -0.4118065442155605,
                    0.17411565763712142,
                    -0.048699847244463704,
                    0.08237898694025787,
                    -0.13230532506620882,
                    -0.6051469215957963,
                    -0.32512973883955437,
                    -0.046908067199127546,
                    0.4707649097608466,
                    0.04118688616520003,
                    0.08036740840401521,
                    0.4151193813292234,
                    -0.12167405629458954,
                    -0.2031657273516663,
                    0.1657647666328532,
                    -0.1487362963674202,
                    -0.004469990860194763,
                    -0.09242961351539768,
                    -0.39463301563789355,
                    0.419628892546561,
                    -0.6049926924689094,
                    -0.021114430097439362,
                    0.14324478353731834,
                    0.5112351317656533,
                    -0.1826938686013681,
                    -0.030440463981228977,
                    -0.01558109526716191,
                    -0.019462683179847923,
                    0.10794892629894703,
                    0.19050834381975204,
                    0.10163591125483315,
                    0.028935233779132465,
                    0.11060646431112305,
                    -0.13202790597773675,
                    -0.1561019172905613,
                    0.021109807468779652,
                    0.19969535140207437,
                    -0.5234974401431565,
                    -0.036253560757426924,
                    0.5487482113636895,
                    0.1916090761467065,
                    -0.2562404574000873,
                    -0.2053747087270794,
                    0.3248235783072699,
                    0.29157014155618327,
                    -0.08866627895919911,
                    -0.11674131732878205,
                    -0.27918691195171186,
                    0.07491799776209689,
                    0.12146384376361766,
                    -0.23931439317805872,
                    0.04613910402525684,
                    -0.22647173348091842,
                    -0.1559404949315242,
                    -0.08566159196169962,
                    0.3566400376748589,
                    0.10551478211317662,
                    -0.06117489678772679,
                    0.6525592185745895,
                    0.6010468228301589,
                    -0.3792243060172502,
                    -0.027677795294245553,
                    0.06155575664937745,
                    -0.0005824322491983577,
                    0.2719477618801038,
                    -0.27180721195978275,
                    -0.3286015584929966,
                    0.22642671635715655,
                    0.3360937202559223,
                    0.19352586508763311,
                    -0.04758315019409635,
                    -0.14783475945442132,
                    0.25929806470204086,
                    -0.1030719000165078,
                    -0.024230674935280094,
                    -0.24719469871754376,
                    -0.2805523724399417,
                    0.05229591150030715,
                    0.34253686652262144,
                    0.689473456874031,
                    -0.4598501024167303,
                    -0.07681736617362143,
                    0.018605612074058687,
                    -0.16904180325593796,
                    0.10339104775538369,
                    0.05980337576214631,
                    0.3367098409578976,
                    -0.2685455200711207,
                    -0.2314940586197687,
                    -0.8254047124312448,
                    -0.15792102864323662,
                    -0.03646889725732192,
                    0.1934413931300884,
                    0.4786654054760531,
                    0.5674645831545204,
                    0.413828585903156,
                    -0.02910983336016005,
                    0.05235515272671048,
                    0.11936812826882809,
                    -0.09643774476404135,
                    0.2183937514708688,
                    -0.006970498531729904,
                    0.5733803745437889,
                    -0.005593465127767426,
                    -0.28459873692259463,
                    0.2623111771014992,
                    0.15157317662921968,
                    0.42361014670203256,
                    -0.11238215550895683,
                    0.005717546751879414,
                    0.02165135636318441,
                    0.06739123501889924,
                    -0.019306478166218288,
                    0.1524312461937931,
                    0.13309841268221376,
                    0.10451663311495679,
                    -0.13762657339485285,
                    -0.3542113256669653,
                    0.25636983624945675,
                    0.5013682645601454,
                    -0.12704412594386738,
                    0.41654232163050164,
                    -0.1725322389492167,
                    -0.08763295548024926,
                    -0.38382731426800837,
                    -0.012066713652919581,
                    -0.023821283710088657,
                    -0.1700350342444072,
                    0.293514908449168,
                    -0.1506716342918573,
                    0.24972410105725681,
                    -0.48124504261303735,
                    -0.3010085074017113,
                    -0.23009749923409356,
                    -0.06684736374964553,
                    -0.33835515560769824,
                    -0.15560302040639215,
                    -0.29254979425251804,
                    -0.0002355208887201665,
                    -0.07677883836499284,
                    -0.12652964631640337,
                    0.18129907922775756,
                    0.04241219614809296,
                    0.02875979466660283,
                    -0.3652189575629761,
                    -0.01944620539440498,
                    0.2485945648124528,
                    0.1865486309316455,
                    -0.27743424398860816,
                    -0.6711948299906593,
                    -0.02739115002926263,
                    0.09281418407534249,
                    0.04580214806028697,
                    0.11687089452941488,
                    0.04336350937308268,
                    0.38218644283277664,
                    0.20696574287663522,
                    -0.03407591263722127,
                    0.0208936101751239,
                    -0.0313144232571524,
                    0.046917682794730006,
                    0.06659328196926112,
                    0.13798180086604478,
                    0.24018793282375817,
                    -0.14148242833018404,
                    0.018039634890055944,
                    0.037325502778322486,
                    -0.2425558598791155,
                    -0.07796861644232596,
                    -0.37660919512542973,
                    -0.26034842031320454,
                    -0.41516530710018756,
                    -0.012179050436625602,
                    0.4232416475634225,
                    -0.4527497204642775,
                    0.09903328995580739,
                    0.06519501045693847,
                    0.08776080322376067,
                    0.3037903806579014,
                    -0.32149432610166423,
                    0.09179231481916125,
                    -0.3429435469146997,
                    -0.028699622542909156,
                    -0.07239287839939204,
                    -0.2578756582963144,
                    -0.1722580527192212,
                    -0.3695086634006162,
                    -0.012253950406088746,
                    -0.24051597459768687,
                    0.060359817228932605,
                    0.16408599997265522,
                    -0.18479431606374017,
                    -0.477858758785823,
                    0.012935727814550362,
                    -0.32955826930591103,
                    -0.22033657430774317,
                    0.1750692935142533,
                    0.24887858845052463,
                    -0.08481826745383392,
                    0.20360319914396047,
                    0.21422245179987653,
                    -0.14389077957265115,
                    0.18466665139807603,
                    -0.04324402683690026,
                    0.17846968351247294,
                    -0.2855889433370871,
                    -0.1729004574670954,
                    0.18011809435448697,
                    0.22582629477648697,
                    -0.03788836229780578,
                    -0.3073210920970179,
                    -0.3285660323800663,
                    0.29233405210479385,
                    -0.03956001660665729,
                    0.2520229374416649,
                    -0.40188950534261686,
                    0.4669135830939306,
                    0.13050792750544354,
                    -0.3229031633158884,
                    -0.2991510337938342,
                    -0.04515025071129008,
                    -0.1744618744919382,
                    0.1663193508880577,
                    0.32663232622527905,
                    -0.13800801231450865,
                    -0.26527197737378,
                    -0.14715121625336153,
                    0.27724978328297695,
                    0.2532590413459781,
                    -0.16598557621244012,
                    -0.530545044338753,
                    -0.19277865939064545,
                    -0.37902464840186184,
                    -0.5480927503099343,
                    -0.12073618451226129,
                    0.17245185469119229,
                    0.24599090797725187,
                    0.022017768884977293,
                    0.20198659870842203,
                    0.24888908746430988,
                    -0.30760168003703875,
                    0.49634968626804493,
                    -0.13111952303341662,
                    0.2671298986059118,
                    0.11045150046777902,
                    0.4295614499412242,
                    -0.19076892632327955,
                    -0.42392808253862724,
                    0.14439970511882935,
                    0.2683352140841755,
                    -0.27235023516812995,
                    0.34551788584463394,
                    -0.29512677904998585,
                    -0.1579792394263847,
                    0.4223678605465247,
                    -0.7241126944494144,
                    0.21974562507278378,
                    -0.17961614968234865,
                    0.6399509886190934,
                    -0.13436418126150654,
                    0.09902602097455351,
                    -0.3276025852297118,
                    0.2543644247772783,
                    -0.23643435502393786,
                    -0.42520145036885443,
                    0.10411166191542431,
                    -0.12134767073130562,
                    -0.3038664998511414,
                    -0.4352939213665013,
                    -0.25681227604333884,
                    -0.5156312254757683,
                    0.2074848085457236,
                    -0.202490391978683,
                    0.3900026585714362,
                    -0.25504620628405195,
                    0.4992564512350961,
                    0.09245994071551841,
                    -0.09879039874985905,
                    0.005886584961593913,
                    -0.22085492646986501,
                    -0.26986089798145185,
                    -0.23303865393595272,
                    0.3104175469170913,
                    0.08707863176905692,
                    -0.12748755187528102,
                    -0.2957648176867359,
                    0.4838253382792776,
                    0.3344801804842579,
                    0.43373885371942894,
                    -0.38423516669999674,
                    -0.19390720625454055,
                    0.10036807392405019,
                    -0.5661594703294636,
                    -0.31501568126943935,
                    0.17601794908030308,
                    0.06279318880809259,
                    0.37813544071994676,
                    -0.4365899988161922,
                    0.023106732500665857,
                    0.007370115177905546,
                    0.0842502028267802,
                    0.6401033900931159,
                    -0.13939172570055322,
                    0.15406680532495565,
                    -0.23717062781598092,
                    -0.22484669470890942,
                    -0.03847092067542356,
                    0.5064064360757653,
                    -0.29719187926191576,
                    -0.403005390749894,
                    -0.3593472924668419,
                    0.37188341622931304,
                    0.27034620423818917,
                    0.11039350525625259,
                    0.6245322117232701,
                    -0.2533172259065654,
                    -0.16856293370360254,
                    0.2138901515451656,
                    -0.5218666206773235,
                    0.0738430500345222,
                    -0.06537732393302653,
                    0.0370805909277954,
                    0.13683086828606958,
                    0.3766322994150924,
                    0.47689506708742935,
                    0.12519191761936363,
                    0.03098260593344274,
                    -0.24242280651677614,
                    0.34085498333591463,
                    -0.9457789032316863,
                    -0.13078230008425876,
                    0.39644186493129047,
                    0.05648940679808035,
                    0.12717386519129653,
                    0.36529345070517677,
                    -0.03817725646924162,
                    -0.13699870103942197,
                    -0.1851478635992848,
                    0.5441199595602721,
                    -0.5094134760814449,
                    -0.012162773378486471,
                    0.4859184841303913,
                    -0.5225183073080836,
                    -0.09381390124218701,
                    0.06115058481734544,
                    -0.11946197480740872,
                    -0.1489756145256734,
                    0.2033728897463158,
                    0.4164113604384467,
                    0.09102243567552791,
                    -0.2576822599850516,
                    -0.10731220815219719,
                    -0.7144248987088858,
                    0.17511066515365756,
                    0.03885545364521694,
                    0.0691278579319033,
                    0.06833930505434083,
                    -0.04220439735499414,
                    0.08064835417443728,
                    -0.19263039774914756,
                    -0.2305230467279324,
                    -0.4301765288447885,
                    0.3576396751611755
                  ],
                  "type": "histogram",
                  "xaxis": "x",
                  "yaxis": "y"
                },
                {
                  "hovertemplate": "<b>Subjectivity:</b> %{x:.2f}<br><b>Polarity:</b> %{y:.2f}<br><b>Text:</b> %{text}<extra></extra>",
                  "marker": {
                    "color": [
                      -0.43699968333186745,
                      0.31409685712143526,
                      -0.6867104910025777,
                      0.32340306551881376,
                      -0.3355114509423263,
                      -0.1582603932873612,
                      -0.23206255809797138,
                      0.03607652550508366,
                      -0.19390000746054298,
                      0.12602674090605448,
                      0.34894341881444463,
                      -0.1837279747133831,
                      -0.2933783784034788,
                      0.036047800356935174,
                      0.014410478902858301,
                      -0.24430351122049654,
                      0.4850080113285751,
                      0.15652581831221613,
                      0.16116520913546625,
                      0.8039381556970414,
                      -0.34080330238923495,
                      0.0781498222864523,
                      0.07948706990136972,
                      -0.02329203749633933,
                      0.09670661628154392,
                      0.291406563496757,
                      0.1857187870101316,
                      0.158611644447625,
                      0.24353788759825262,
                      -0.647936342981678,
                      -0.13320544612530308,
                      0.2772987062671241,
                      0.3613097379014549,
                      0.5149606600401013,
                      -0.6277990732963645,
                      0.42292549421950465,
                      0.10425262921804686,
                      -0.06832648346927556,
                      0.21513040611802733,
                      0.03799850876199789,
                      -0.12698015064130863,
                      -0.11943251913282443,
                      -0.8069307905781218,
                      -0.2614491165129323,
                      -0.10674903913073529,
                      0.5117615267334842,
                      -0.30999979525832794,
                      -0.2744710701269322,
                      0.2575860165572743,
                      -0.09359181974681993,
                      0.35583177033501473,
                      0.4112671821385449,
                      0.2799666147898861,
                      -0.1799928124992866,
                      0.007138856239111862,
                      -0.5672137759615777,
                      -0.29185738000926936,
                      0.0747421669326831,
                      -0.20953476341992808,
                      -0.10033638914811623,
                      -0.20564695089571727,
                      0.07892039711959739,
                      -0.25752471307542646,
                      0.06555238829856386,
                      0.3522774557824722,
                      -0.5006256201976059,
                      -0.18440402815319243,
                      0.08497594691372409,
                      -0.5434171601776471,
                      -0.13493467983892143,
                      0.5207468517807557,
                      0.2916174156697049,
                      0.43441271565880996,
                      -0.36064624815573215,
                      0.05466891421860389,
                      -0.16722431829335052,
                      -0.00642237094719534,
                      -0.05634015708290416,
                      0.22495431115555395,
                      -0.26160739146743606,
                      0.014215164132959483,
                      -0.054681838215967636,
                      -0.19829070504202703,
                      -0.3431051228156916,
                      0.0865423684233546,
                      0.12632829553377722,
                      0.07536970632065165,
                      -0.44565904293765807,
                      0.010435102637662385,
                      -0.481813659749704,
                      -0.21612510970431817,
                      -0.23225550708260073,
                      -0.0930755417864939,
                      -0.21713181517424604,
                      0.3627729212419621,
                      -0.15506869505484516,
                      -0.5990832479431819,
                      0.08636279114558952,
                      0.2437958400162894,
                      0.028771132349758012,
                      -0.24147937543527476,
                      -0.2812687457462314,
                      -0.17412988758692646,
                      0.010339471807294167,
                      0.24988371203867613,
                      -0.4874003670581352,
                      -0.1433377264551546,
                      0.1783569450249534,
                      0.09010579123349283,
                      0.57424980817299,
                      0.10318006209963389,
                      0.19824630113698177,
                      0.2066273926927664,
                      0.10662550697977287,
                      -0.1318944034123109,
                      -0.2923270808274672,
                      0.3317814431727019,
                      0.293992980913738,
                      -0.39063802994774105,
                      -0.30035928260267586,
                      0.1365730940496174,
                      -0.34648175980426815,
                      -0.7085131658241257,
                      -0.22994370364521033,
                      -0.16341149644635328,
                      -0.15435468335284058,
                      -0.31738604052928776,
                      -0.5742221132411673,
                      0.25081538879209375,
                      0.00034423302536554825,
                      -0.31705399569774934,
                      0.2613287955471986,
                      0.32314167586296577,
                      0.25005501908485434,
                      -0.01615429106963941,
                      -0.16386645904521224,
                      0.3073115779374977,
                      -0.4118065442155605,
                      0.17411565763712142,
                      -0.048699847244463704,
                      0.08237898694025787,
                      -0.13230532506620882,
                      -0.6051469215957963,
                      -0.32512973883955437,
                      -0.046908067199127546,
                      0.4707649097608466,
                      0.04118688616520003,
                      0.08036740840401521,
                      0.4151193813292234,
                      -0.12167405629458954,
                      -0.2031657273516663,
                      0.1657647666328532,
                      -0.1487362963674202,
                      -0.004469990860194763,
                      -0.09242961351539768,
                      -0.39463301563789355,
                      0.419628892546561,
                      -0.6049926924689094,
                      -0.021114430097439362,
                      0.14324478353731834,
                      0.5112351317656533,
                      -0.1826938686013681,
                      -0.030440463981228977,
                      -0.01558109526716191,
                      -0.019462683179847923,
                      0.10794892629894703,
                      0.19050834381975204,
                      0.10163591125483315,
                      0.028935233779132465,
                      0.11060646431112305,
                      -0.13202790597773675,
                      -0.1561019172905613,
                      0.021109807468779652,
                      0.19969535140207437,
                      -0.5234974401431565,
                      -0.036253560757426924,
                      0.5487482113636895,
                      0.1916090761467065,
                      -0.2562404574000873,
                      -0.2053747087270794,
                      0.3248235783072699,
                      0.29157014155618327,
                      -0.08866627895919911,
                      -0.11674131732878205,
                      -0.27918691195171186,
                      0.07491799776209689,
                      0.12146384376361766,
                      -0.23931439317805872,
                      0.04613910402525684,
                      -0.22647173348091842,
                      -0.1559404949315242,
                      -0.08566159196169962,
                      0.3566400376748589,
                      0.10551478211317662,
                      -0.06117489678772679,
                      0.6525592185745895,
                      0.6010468228301589,
                      -0.3792243060172502,
                      -0.027677795294245553,
                      0.06155575664937745,
                      -0.0005824322491983577,
                      0.2719477618801038,
                      -0.27180721195978275,
                      -0.3286015584929966,
                      0.22642671635715655,
                      0.3360937202559223,
                      0.19352586508763311,
                      -0.04758315019409635,
                      -0.14783475945442132,
                      0.25929806470204086,
                      -0.1030719000165078,
                      -0.024230674935280094,
                      -0.24719469871754376,
                      -0.2805523724399417,
                      0.05229591150030715,
                      0.34253686652262144,
                      0.689473456874031,
                      -0.4598501024167303,
                      -0.07681736617362143,
                      0.018605612074058687,
                      -0.16904180325593796,
                      0.10339104775538369,
                      0.05980337576214631,
                      0.3367098409578976,
                      -0.2685455200711207,
                      -0.2314940586197687,
                      -0.8254047124312448,
                      -0.15792102864323662,
                      -0.03646889725732192,
                      0.1934413931300884,
                      0.4786654054760531,
                      0.5674645831545204,
                      0.413828585903156,
                      -0.02910983336016005,
                      0.05235515272671048,
                      0.11936812826882809,
                      -0.09643774476404135,
                      0.2183937514708688,
                      -0.006970498531729904,
                      0.5733803745437889,
                      -0.005593465127767426,
                      -0.28459873692259463,
                      0.2623111771014992,
                      0.15157317662921968,
                      0.42361014670203256,
                      -0.11238215550895683,
                      0.005717546751879414,
                      0.02165135636318441,
                      0.06739123501889924,
                      -0.019306478166218288,
                      0.1524312461937931,
                      0.13309841268221376,
                      0.10451663311495679,
                      -0.13762657339485285,
                      -0.3542113256669653,
                      0.25636983624945675,
                      0.5013682645601454,
                      -0.12704412594386738,
                      0.41654232163050164,
                      -0.1725322389492167,
                      -0.08763295548024926,
                      -0.38382731426800837,
                      -0.012066713652919581,
                      -0.023821283710088657,
                      -0.1700350342444072,
                      0.293514908449168,
                      -0.1506716342918573,
                      0.24972410105725681,
                      -0.48124504261303735,
                      -0.3010085074017113,
                      -0.23009749923409356,
                      -0.06684736374964553,
                      -0.33835515560769824,
                      -0.15560302040639215,
                      -0.29254979425251804,
                      -0.0002355208887201665,
                      -0.07677883836499284,
                      -0.12652964631640337,
                      0.18129907922775756,
                      0.04241219614809296,
                      0.02875979466660283,
                      -0.3652189575629761,
                      -0.01944620539440498,
                      0.2485945648124528,
                      0.1865486309316455,
                      -0.27743424398860816,
                      -0.6711948299906593,
                      -0.02739115002926263,
                      0.09281418407534249,
                      0.04580214806028697,
                      0.11687089452941488,
                      0.04336350937308268,
                      0.38218644283277664,
                      0.20696574287663522,
                      -0.03407591263722127,
                      0.0208936101751239,
                      -0.0313144232571524,
                      0.046917682794730006,
                      0.06659328196926112,
                      0.13798180086604478,
                      0.24018793282375817,
                      -0.14148242833018404,
                      0.018039634890055944,
                      0.037325502778322486,
                      -0.2425558598791155,
                      -0.07796861644232596,
                      -0.37660919512542973,
                      -0.26034842031320454,
                      -0.41516530710018756,
                      -0.012179050436625602,
                      0.4232416475634225,
                      -0.4527497204642775,
                      0.09903328995580739,
                      0.06519501045693847,
                      0.08776080322376067,
                      0.3037903806579014,
                      -0.32149432610166423,
                      0.09179231481916125,
                      -0.3429435469146997,
                      -0.028699622542909156,
                      -0.07239287839939204,
                      -0.2578756582963144,
                      -0.1722580527192212,
                      -0.3695086634006162,
                      -0.012253950406088746,
                      -0.24051597459768687,
                      0.060359817228932605,
                      0.16408599997265522,
                      -0.18479431606374017,
                      -0.477858758785823,
                      0.012935727814550362,
                      -0.32955826930591103,
                      -0.22033657430774317,
                      0.1750692935142533,
                      0.24887858845052463,
                      -0.08481826745383392,
                      0.20360319914396047,
                      0.21422245179987653,
                      -0.14389077957265115,
                      0.18466665139807603,
                      -0.04324402683690026,
                      0.17846968351247294,
                      -0.2855889433370871,
                      -0.1729004574670954,
                      0.18011809435448697,
                      0.22582629477648697,
                      -0.03788836229780578,
                      -0.3073210920970179,
                      -0.3285660323800663,
                      0.29233405210479385,
                      -0.03956001660665729,
                      0.2520229374416649,
                      -0.40188950534261686,
                      0.4669135830939306,
                      0.13050792750544354,
                      -0.3229031633158884,
                      -0.2991510337938342,
                      -0.04515025071129008,
                      -0.1744618744919382,
                      0.1663193508880577,
                      0.32663232622527905,
                      -0.13800801231450865,
                      -0.26527197737378,
                      -0.14715121625336153,
                      0.27724978328297695,
                      0.2532590413459781,
                      -0.16598557621244012,
                      -0.530545044338753,
                      -0.19277865939064545,
                      -0.37902464840186184,
                      -0.5480927503099343,
                      -0.12073618451226129,
                      0.17245185469119229,
                      0.24599090797725187,
                      0.022017768884977293,
                      0.20198659870842203,
                      0.24888908746430988,
                      -0.30760168003703875,
                      0.49634968626804493,
                      -0.13111952303341662,
                      0.2671298986059118,
                      0.11045150046777902,
                      0.4295614499412242,
                      -0.19076892632327955,
                      -0.42392808253862724,
                      0.14439970511882935,
                      0.2683352140841755,
                      -0.27235023516812995,
                      0.34551788584463394,
                      -0.29512677904998585,
                      -0.1579792394263847,
                      0.4223678605465247,
                      -0.7241126944494144,
                      0.21974562507278378,
                      -0.17961614968234865,
                      0.6399509886190934,
                      -0.13436418126150654,
                      0.09902602097455351,
                      -0.3276025852297118,
                      0.2543644247772783,
                      -0.23643435502393786,
                      -0.42520145036885443,
                      0.10411166191542431,
                      -0.12134767073130562,
                      -0.3038664998511414,
                      -0.4352939213665013,
                      -0.25681227604333884,
                      -0.5156312254757683,
                      0.2074848085457236,
                      -0.202490391978683,
                      0.3900026585714362,
                      -0.25504620628405195,
                      0.4992564512350961,
                      0.09245994071551841,
                      -0.09879039874985905,
                      0.005886584961593913,
                      -0.22085492646986501,
                      -0.26986089798145185,
                      -0.23303865393595272,
                      0.3104175469170913,
                      0.08707863176905692,
                      -0.12748755187528102,
                      -0.2957648176867359,
                      0.4838253382792776,
                      0.3344801804842579,
                      0.43373885371942894,
                      -0.38423516669999674,
                      -0.19390720625454055,
                      0.10036807392405019,
                      -0.5661594703294636,
                      -0.31501568126943935,
                      0.17601794908030308,
                      0.06279318880809259,
                      0.37813544071994676,
                      -0.4365899988161922,
                      0.023106732500665857,
                      0.007370115177905546,
                      0.0842502028267802,
                      0.6401033900931159,
                      -0.13939172570055322,
                      0.15406680532495565,
                      -0.23717062781598092,
                      -0.22484669470890942,
                      -0.03847092067542356,
                      0.5064064360757653,
                      -0.29719187926191576,
                      -0.403005390749894,
                      -0.3593472924668419,
                      0.37188341622931304,
                      0.27034620423818917,
                      0.11039350525625259,
                      0.6245322117232701,
                      -0.2533172259065654,
                      -0.16856293370360254,
                      0.2138901515451656,
                      -0.5218666206773235,
                      0.0738430500345222,
                      -0.06537732393302653,
                      0.0370805909277954,
                      0.13683086828606958,
                      0.3766322994150924,
                      0.47689506708742935,
                      0.12519191761936363,
                      0.03098260593344274,
                      -0.24242280651677614,
                      0.34085498333591463,
                      -0.9457789032316863,
                      -0.13078230008425876,
                      0.39644186493129047,
                      0.05648940679808035,
                      0.12717386519129653,
                      0.36529345070517677,
                      -0.03817725646924162,
                      -0.13699870103942197,
                      -0.1851478635992848,
                      0.5441199595602721,
                      -0.5094134760814449,
                      -0.012162773378486471,
                      0.4859184841303913,
                      -0.5225183073080836,
                      -0.09381390124218701,
                      0.06115058481734544,
                      -0.11946197480740872,
                      -0.1489756145256734,
                      0.2033728897463158,
                      0.4164113604384467,
                      0.09102243567552791,
                      -0.2576822599850516,
                      -0.10731220815219719,
                      -0.7144248987088858,
                      0.17511066515365756,
                      0.03885545364521694,
                      0.0691278579319033,
                      0.06833930505434083,
                      -0.04220439735499414,
                      0.08064835417443728,
                      -0.19263039774914756,
                      -0.2305230467279324,
                      -0.4301765288447885,
                      0.3576396751611755
                    ],
                    "colorscale": [
                      [
                        0,
                        "rgb(165,0,38)"
                      ],
                      [
                        0.1,
                        "rgb(215,48,39)"
                      ],
                      [
                        0.2,
                        "rgb(244,109,67)"
                      ],
                      [
                        0.3,
                        "rgb(253,174,97)"
                      ],
                      [
                        0.4,
                        "rgb(254,224,144)"
                      ],
                      [
                        0.5,
                        "rgb(255,255,191)"
                      ],
                      [
                        0.6,
                        "rgb(224,243,248)"
                      ],
                      [
                        0.7,
                        "rgb(171,217,233)"
                      ],
                      [
                        0.8,
                        "rgb(116,173,209)"
                      ],
                      [
                        0.9,
                        "rgb(69,117,180)"
                      ],
                      [
                        1,
                        "rgb(49,54,149)"
                      ]
                    ],
                    "opacity": 0.6,
                    "size": 5
                  },
                  "mode": "markers",
                  "name": "Tweets",
                  "text": [
                    "Having a great day today!...",
                    "Feeling a bit down lately...",
                    "Just another normal Monday...",
                    "So excited for the weekend!...",
                    "Work is really stressing me out...",
                    "Grateful for my family and friends...",
                    "Weather is perfect today...",
                    "This week has been challenging...",
                    "Looking forward to vacation...",
                    "Love spending time with loved ones...",
                    "Having a great day today!...",
                    "Feeling a bit down lately...",
                    "Just another normal Monday...",
                    "So excited for the weekend!...",
                    "Work is really stressing me out...",
                    "Grateful for my family and friends...",
                    "Weather is perfect today...",
                    "This week has been challenging...",
                    "Looking forward to vacation...",
                    "Love spending time with loved ones...",
                    "Having a great day today!...",
                    "Feeling a bit down lately...",
                    "Just another normal Monday...",
                    "So excited for the weekend!...",
                    "Work is really stressing me out...",
                    "Grateful for my family and friends...",
                    "Weather is perfect today...",
                    "This week has been challenging...",
                    "Looking forward to vacation...",
                    "Love spending time with loved ones...",
                    "Having a great day today!...",
                    "Feeling a bit down lately...",
                    "Just another normal Monday...",
                    "So excited for the weekend!...",
                    "Work is really stressing me out...",
                    "Grateful for my family and friends...",
                    "Weather is perfect today...",
                    "This week has been challenging...",
                    "Looking forward to vacation...",
                    "Love spending time with loved ones...",
                    "Having a great day today!...",
                    "Feeling a bit down lately...",
                    "Just another normal Monday...",
                    "So excited for the weekend!...",
                    "Work is really stressing me out...",
                    "Grateful for my family and friends...",
                    "Weather is perfect today...",
                    "This week has been challenging...",
                    "Looking forward to vacation...",
                    "Love spending time with loved ones...",
                    "Having a great day today!...",
                    "Feeling a bit down lately...",
                    "Just another normal Monday...",
                    "So excited for the weekend!...",
                    "Work is really stressing me out...",
                    "Grateful for my family and friends...",
                    "Weather is perfect today...",
                    "This week has been challenging...",
                    "Looking forward to vacation...",
                    "Love spending time with loved ones...",
                    "Having a great day today!...",
                    "Feeling a bit down lately...",
                    "Just another normal Monday...",
                    "So excited for the weekend!...",
                    "Work is really stressing me out...",
                    "Grateful for my family and friends...",
                    "Weather is perfect today...",
                    "This week has been challenging...",
                    "Looking forward to vacation...",
                    "Love spending time with loved ones...",
                    "Having a great day today!...",
                    "Feeling a bit down lately...",
                    "Just another normal Monday...",
                    "So excited for the weekend!...",
                    "Work is really stressing me out...",
                    "Grateful for my family and friends...",
                    "Weather is perfect today...",
                    "This week has been challenging...",
                    "Looking forward to vacation...",
                    "Love spending time with loved ones...",
                    "Having a great day today!...",
                    "Feeling a bit down lately...",
                    "Just another normal Monday...",
                    "So excited for the weekend!...",
                    "Work is really stressing me out...",
                    "Grateful for my family and friends...",
                    "Weather is perfect today...",
                    "This week has been challenging...",
                    "Looking forward to vacation...",
                    "Love spending time with loved ones...",
                    "Having a great day today!...",
                    "Feeling a bit down lately...",
                    "Just another normal Monday...",
                    "So excited for the weekend!...",
                    "Work is really stressing me out...",
                    "Grateful for my family and friends...",
                    "Weather is perfect today...",
                    "This week has been challenging...",
                    "Looking forward to vacation...",
                    "Love spending time with loved ones...",
                    "Having a great day today!...",
                    "Feeling a bit down lately...",
                    "Just another normal Monday...",
                    "So excited for the weekend!...",
                    "Work is really stressing me out...",
                    "Grateful for my family and friends...",
                    "Weather is perfect today...",
                    "This week has been challenging...",
                    "Looking forward to vacation...",
                    "Love spending time with loved ones...",
                    "Having a great day today!...",
                    "Feeling a bit down lately...",
                    "Just another normal Monday...",
                    "So excited for the weekend!...",
                    "Work is really stressing me out...",
                    "Grateful for my family and friends...",
                    "Weather is perfect today...",
                    "This week has been challenging...",
                    "Looking forward to vacation...",
                    "Love spending time with loved ones...",
                    "Having a great day today!...",
                    "Feeling a bit down lately...",
                    "Just another normal Monday...",
                    "So excited for the weekend!...",
                    "Work is really stressing me out...",
                    "Grateful for my family and friends...",
                    "Weather is perfect today...",
                    "This week has been challenging...",
                    "Looking forward to vacation...",
                    "Love spending time with loved ones...",
                    "Having a great day today!...",
                    "Feeling a bit down lately...",
                    "Just another normal Monday...",
                    "So excited for the weekend!...",
                    "Work is really stressing me out...",
                    "Grateful for my family and friends...",
                    "Weather is perfect today...",
                    "This week has been challenging...",
                    "Looking forward to vacation...",
                    "Love spending time with loved ones...",
                    "Having a great day today!...",
                    "Feeling a bit down lately...",
                    "Just another normal Monday...",
                    "So excited for the weekend!...",
                    "Work is really stressing me out...",
                    "Grateful for my family and friends...",
                    "Weather is perfect today...",
                    "This week has been challenging...",
                    "Looking forward to vacation...",
                    "Love spending time with loved ones...",
                    "Having a great day today!...",
                    "Feeling a bit down lately...",
                    "Just another normal Monday...",
                    "So excited for the weekend!...",
                    "Work is really stressing me out...",
                    "Grateful for my family and friends...",
                    "Weather is perfect today...",
                    "This week has been challenging...",
                    "Looking forward to vacation...",
                    "Love spending time with loved ones...",
                    "Having a great day today!...",
                    "Feeling a bit down lately...",
                    "Just another normal Monday...",
                    "So excited for the weekend!...",
                    "Work is really stressing me out...",
                    "Grateful for my family and friends...",
                    "Weather is perfect today...",
                    "This week has been challenging...",
                    "Looking forward to vacation...",
                    "Love spending time with loved ones...",
                    "Having a great day today!...",
                    "Feeling a bit down lately...",
                    "Just another normal Monday...",
                    "So excited for the weekend!...",
                    "Work is really stressing me out...",
                    "Grateful for my family and friends...",
                    "Weather is perfect today...",
                    "This week has been challenging...",
                    "Looking forward to vacation...",
                    "Love spending time with loved ones...",
                    "Having a great day today!...",
                    "Feeling a bit down lately...",
                    "Just another normal Monday...",
                    "So excited for the weekend!...",
                    "Work is really stressing me out...",
                    "Grateful for my family and friends...",
                    "Weather is perfect today...",
                    "This week has been challenging...",
                    "Looking forward to vacation...",
                    "Love spending time with loved ones...",
                    "Having a great day today!...",
                    "Feeling a bit down lately...",
                    "Just another normal Monday...",
                    "So excited for the weekend!...",
                    "Work is really stressing me out...",
                    "Grateful for my family and friends...",
                    "Weather is perfect today...",
                    "This week has been challenging...",
                    "Looking forward to vacation...",
                    "Love spending time with loved ones...",
                    "Having a great day today!...",
                    "Feeling a bit down lately...",
                    "Just another normal Monday...",
                    "So excited for the weekend!...",
                    "Work is really stressing me out...",
                    "Grateful for my family and friends...",
                    "Weather is perfect today...",
                    "This week has been challenging...",
                    "Looking forward to vacation...",
                    "Love spending time with loved ones...",
                    "Having a great day today!...",
                    "Feeling a bit down lately...",
                    "Just another normal Monday...",
                    "So excited for the weekend!...",
                    "Work is really stressing me out...",
                    "Grateful for my family and friends...",
                    "Weather is perfect today...",
                    "This week has been challenging...",
                    "Looking forward to vacation...",
                    "Love spending time with loved ones...",
                    "Having a great day today!...",
                    "Feeling a bit down lately...",
                    "Just another normal Monday...",
                    "So excited for the weekend!...",
                    "Work is really stressing me out...",
                    "Grateful for my family and friends...",
                    "Weather is perfect today...",
                    "This week has been challenging...",
                    "Looking forward to vacation...",
                    "Love spending time with loved ones...",
                    "Having a great day today!...",
                    "Feeling a bit down lately...",
                    "Just another normal Monday...",
                    "So excited for the weekend!...",
                    "Work is really stressing me out...",
                    "Grateful for my family and friends...",
                    "Weather is perfect today...",
                    "This week has been challenging...",
                    "Looking forward to vacation...",
                    "Love spending time with loved ones...",
                    "Having a great day today!...",
                    "Feeling a bit down lately...",
                    "Just another normal Monday...",
                    "So excited for the weekend!...",
                    "Work is really stressing me out...",
                    "Grateful for my family and friends...",
                    "Weather is perfect today...",
                    "This week has been challenging...",
                    "Looking forward to vacation...",
                    "Love spending time with loved ones...",
                    "Having a great day today!...",
                    "Feeling a bit down lately...",
                    "Just another normal Monday...",
                    "So excited for the weekend!...",
                    "Work is really stressing me out...",
                    "Grateful for my family and friends...",
                    "Weather is perfect today...",
                    "This week has been challenging...",
                    "Looking forward to vacation...",
                    "Love spending time with loved ones...",
                    "Having a great day today!...",
                    "Feeling a bit down lately...",
                    "Just another normal Monday...",
                    "So excited for the weekend!...",
                    "Work is really stressing me out...",
                    "Grateful for my family and friends...",
                    "Weather is perfect today...",
                    "This week has been challenging...",
                    "Looking forward to vacation...",
                    "Love spending time with loved ones...",
                    "Having a great day today!...",
                    "Feeling a bit down lately...",
                    "Just another normal Monday...",
                    "So excited for the weekend!...",
                    "Work is really stressing me out...",
                    "Grateful for my family and friends...",
                    "Weather is perfect today...",
                    "This week has been challenging...",
                    "Looking forward to vacation...",
                    "Love spending time with loved ones...",
                    "Having a great day today!...",
                    "Feeling a bit down lately...",
                    "Just another normal Monday...",
                    "So excited for the weekend!...",
                    "Work is really stressing me out...",
                    "Grateful for my family and friends...",
                    "Weather is perfect today...",
                    "This week has been challenging...",
                    "Looking forward to vacation...",
                    "Love spending time with loved ones...",
                    "Having a great day today!...",
                    "Feeling a bit down lately...",
                    "Just another normal Monday...",
                    "So excited for the weekend!...",
                    "Work is really stressing me out...",
                    "Grateful for my family and friends...",
                    "Weather is perfect today...",
                    "This week has been challenging...",
                    "Looking forward to vacation...",
                    "Love spending time with loved ones...",
                    "Having a great day today!...",
                    "Feeling a bit down lately...",
                    "Just another normal Monday...",
                    "So excited for the weekend!...",
                    "Work is really stressing me out...",
                    "Grateful for my family and friends...",
                    "Weather is perfect today...",
                    "This week has been challenging...",
                    "Looking forward to vacation...",
                    "Love spending time with loved ones...",
                    "Having a great day today!...",
                    "Feeling a bit down lately...",
                    "Just another normal Monday...",
                    "So excited for the weekend!...",
                    "Work is really stressing me out...",
                    "Grateful for my family and friends...",
                    "Weather is perfect today...",
                    "This week has been challenging...",
                    "Looking forward to vacation...",
                    "Love spending time with loved ones...",
                    "Having a great day today!...",
                    "Feeling a bit down lately...",
                    "Just another normal Monday...",
                    "So excited for the weekend!...",
                    "Work is really stressing me out...",
                    "Grateful for my family and friends...",
                    "Weather is perfect today...",
                    "This week has been challenging...",
                    "Looking forward to vacation...",
                    "Love spending time with loved ones...",
                    "Having a great day today!...",
                    "Feeling a bit down lately...",
                    "Just another normal Monday...",
                    "So excited for the weekend!...",
                    "Work is really stressing me out...",
                    "Grateful for my family and friends...",
                    "Weather is perfect today...",
                    "This week has been challenging...",
                    "Looking forward to vacation...",
                    "Love spending time with loved ones...",
                    "Having a great day today!...",
                    "Feeling a bit down lately...",
                    "Just another normal Monday...",
                    "So excited for the weekend!...",
                    "Work is really stressing me out...",
                    "Grateful for my family and friends...",
                    "Weather is perfect today...",
                    "This week has been challenging...",
                    "Looking forward to vacation...",
                    "Love spending time with loved ones...",
                    "Having a great day today!...",
                    "Feeling a bit down lately...",
                    "Just another normal Monday...",
                    "So excited for the weekend!...",
                    "Work is really stressing me out...",
                    "Grateful for my family and friends...",
                    "Weather is perfect today...",
                    "This week has been challenging...",
                    "Looking forward to vacation...",
                    "Love spending time with loved ones...",
                    "Having a great day today!...",
                    "Feeling a bit down lately...",
                    "Just another normal Monday...",
                    "So excited for the weekend!...",
                    "Work is really stressing me out...",
                    "Grateful for my family and friends...",
                    "Weather is perfect today...",
                    "This week has been challenging...",
                    "Looking forward to vacation...",
                    "Love spending time with loved ones...",
                    "Having a great day today!...",
                    "Feeling a bit down lately...",
                    "Just another normal Monday...",
                    "So excited for the weekend!...",
                    "Work is really stressing me out...",
                    "Grateful for my family and friends...",
                    "Weather is perfect today...",
                    "This week has been challenging...",
                    "Looking forward to vacation...",
                    "Love spending time with loved ones...",
                    "Having a great day today!...",
                    "Feeling a bit down lately...",
                    "Just another normal Monday...",
                    "So excited for the weekend!...",
                    "Work is really stressing me out...",
                    "Grateful for my family and friends...",
                    "Weather is perfect today...",
                    "This week has been challenging...",
                    "Looking forward to vacation...",
                    "Love spending time with loved ones...",
                    "Having a great day today!...",
                    "Feeling a bit down lately...",
                    "Just another normal Monday...",
                    "So excited for the weekend!...",
                    "Work is really stressing me out...",
                    "Grateful for my family and friends...",
                    "Weather is perfect today...",
                    "This week has been challenging...",
                    "Looking forward to vacation...",
                    "Love spending time with loved ones...",
                    "Having a great day today!...",
                    "Feeling a bit down lately...",
                    "Just another normal Monday...",
                    "So excited for the weekend!...",
                    "Work is really stressing me out...",
                    "Grateful for my family and friends...",
                    "Weather is perfect today...",
                    "This week has been challenging...",
                    "Looking forward to vacation...",
                    "Love spending time with loved ones...",
                    "Having a great day today!...",
                    "Feeling a bit down lately...",
                    "Just another normal Monday...",
                    "So excited for the weekend!...",
                    "Work is really stressing me out...",
                    "Grateful for my family and friends...",
                    "Weather is perfect today...",
                    "This week has been challenging...",
                    "Looking forward to vacation...",
                    "Love spending time with loved ones...",
                    "Having a great day today!...",
                    "Feeling a bit down lately...",
                    "Just another normal Monday...",
                    "So excited for the weekend!...",
                    "Work is really stressing me out...",
                    "Grateful for my family and friends...",
                    "Weather is perfect today...",
                    "This week has been challenging...",
                    "Looking forward to vacation...",
                    "Love spending time with loved ones...",
                    "Having a great day today!...",
                    "Feeling a bit down lately...",
                    "Just another normal Monday...",
                    "So excited for the weekend!...",
                    "Work is really stressing me out...",
                    "Grateful for my family and friends...",
                    "Weather is perfect today...",
                    "This week has been challenging...",
                    "Looking forward to vacation...",
                    "Love spending time with loved ones...",
                    "Having a great day today!...",
                    "Feeling a bit down lately...",
                    "Just another normal Monday...",
                    "So excited for the weekend!...",
                    "Work is really stressing me out...",
                    "Grateful for my family and friends...",
                    "Weather is perfect today...",
                    "This week has been challenging...",
                    "Looking forward to vacation...",
                    "Love spending time with loved ones...",
                    "Having a great day today!...",
                    "Feeling a bit down lately...",
                    "Just another normal Monday...",
                    "So excited for the weekend!...",
                    "Work is really stressing me out...",
                    "Grateful for my family and friends...",
                    "Weather is perfect today...",
                    "This week has been challenging...",
                    "Looking forward to vacation...",
                    "Love spending time with loved ones...",
                    "Having a great day today!...",
                    "Feeling a bit down lately...",
                    "Just another normal Monday...",
                    "So excited for the weekend!...",
                    "Work is really stressing me out...",
                    "Grateful for my family and friends...",
                    "Weather is perfect today...",
                    "This week has been challenging...",
                    "Looking forward to vacation...",
                    "Love spending time with loved ones...",
                    "Having a great day today!...",
                    "Feeling a bit down lately...",
                    "Just another normal Monday...",
                    "So excited for the weekend!...",
                    "Work is really stressing me out...",
                    "Grateful for my family and friends...",
                    "Weather is perfect today...",
                    "This week has been challenging...",
                    "Looking forward to vacation...",
                    "Love spending time with loved ones...",
                    "Having a great day today!...",
                    "Feeling a bit down lately...",
                    "Just another normal Monday...",
                    "So excited for the weekend!...",
                    "Work is really stressing me out...",
                    "Grateful for my family and friends...",
                    "Weather is perfect today...",
                    "This week has been challenging...",
                    "Looking forward to vacation...",
                    "Love spending time with loved ones...",
                    "Having a great day today!...",
                    "Feeling a bit down lately...",
                    "Just another normal Monday...",
                    "So excited for the weekend!...",
                    "Work is really stressing me out...",
                    "Grateful for my family and friends...",
                    "Weather is perfect today...",
                    "This week has been challenging...",
                    "Looking forward to vacation...",
                    "Love spending time with loved ones..."
                  ],
                  "x": [
                    0.8876119224662268,
                    0.10403164425769651,
                    0.9920600272232898,
                    0.04679916762194469,
                    0.4505268946153165,
                    0.9050144853657962,
                    0.44978709578533793,
                    0.9059079954655174,
                    0.40427058733108134,
                    0.8762038784055969,
                    0.9476751282630604,
                    0.5989454766151894,
                    0.6941847074156005,
                    0.1779258336649383,
                    0.21163430495129054,
                    0.07658800290599754,
                    0.25645507357327135,
                    0.7935026857179783,
                    0.10078418499346453,
                    0.5275444123487367,
                    0.22354959060615076,
                    0.6385313627270989,
                    0.05706101921503015,
                    0.38769675383239566,
                    0.04472163260155759,
                    0.11480088129631105,
                    0.9892676884682565,
                    0.7076949477057283,
                    0.3968529063331262,
                    0.9244595915470393,
                    0.9384966949343633,
                    0.12110821910477787,
                    0.8940009397564135,
                    0.4514131871681981,
                    0.1598826750627368,
                    0.40831950165722564,
                    0.14760808590753716,
                    0.29699703114153675,
                    0.9667321695645446,
                    0.24355087772634432,
                    0.13593833309513192,
                    0.482211149103416,
                    0.0023279840785047634,
                    0.49557882439414136,
                    0.5969595356613321,
                    0.7633474942809803,
                    0.023129573502602918,
                    0.5188989530178489,
                    0.969188063073057,
                    0.5726320277390512,
                    0.034292847410780536,
                    0.04603456294863517,
                    0.3967938400548835,
                    0.9932823913308932,
                    0.756942366873704,
                    0.25265304077508044,
                    0.47291363302939493,
                    0.33518764637027765,
                    0.7892911188868346,
                    0.6358585426347317,
                    0.9577897414881597,
                    0.4825210641919092,
                    0.04435927554486807,
                    0.7202557175984593,
                    0.6370689817977235,
                    0.7167368796363821,
                    0.8851071450810977,
                    0.18463749217568937,
                    0.18591074773481875,
                    0.7786488560247574,
                    0.8057416245031395,
                    0.5368228911805524,
                    0.3377265009974443,
                    0.2593010797043953,
                    0.714921753068082,
                    0.365829710038856,
                    0.25124788908878004,
                    0.19174002117904954,
                    0.08684292181617459,
                    0.3548679173561755,
                    0.34965844870339713,
                    0.8450659187091557,
                    0.1923293625890239,
                    0.3593470319219795,
                    0.9728960607698056,
                    0.12993901120941453,
                    0.11246972682699996,
                    0.08629062495287887,
                    0.2958391457328805,
                    0.17210538242343898,
                    0.802166779007701,
                    0.5612828861852782,
                    0.9130782649928195,
                    0.4959397672971544,
                    0.26494171301325276,
                    0.500614808319831,
                    0.4056454605190345,
                    0.20969691933128065,
                    0.6079222883684884,
                    0.07604318722536496,
                    0.6904370342930339,
                    0.5622503192682464,
                    0.4838901452251466,
                    0.5404257119883048,
                    0.3187947588366047,
                    0.9153376485502581,
                    0.31155837749511983,
                    0.5258298115267637,
                    0.3505137256881651,
                    0.4134641016952372,
                    0.15867248846304882,
                    0.437799329492103,
                    0.7840444148096026,
                    0.5564753765024785,
                    0.8062953184469436,
                    0.841228974074861,
                    0.5106603275138168,
                    0.6791401028286839,
                    0.4168688842814843,
                    0.33480148268284804,
                    0.7053335219561374,
                    0.3120548306053772,
                    0.3390402245601727,
                    0.8651930638654279,
                    0.07791029344804712,
                    0.343090212765775,
                    0.3689328476168433,
                    0.47240870967310744,
                    0.06453274274652177,
                    0.40103041768499803,
                    0.38540509429109837,
                    0.03248601020517439,
                    0.23281148300892318,
                    0.8805896648039214,
                    0.8359769098298058,
                    0.11296505018352576,
                    0.7635915853268012,
                    0.20839148231883053,
                    0.37599862699995323,
                    0.5020242523486356,
                    0.8011426883187666,
                    0.703669257702248,
                    0.0020544969692686266,
                    0.9251120827503742,
                    0.7057603696033584,
                    0.2475506403360368,
                    0.7501741527509344,
                    0.8093014627771161,
                    0.27749235737727784,
                    0.5446192290160399,
                    0.8031588956650354,
                    0.47953592178353777,
                    0.42201079417859355,
                    0.6574976094091834,
                    0.28970932288148954,
                    0.6257848821935555,
                    0.4843555377102198,
                    0.39938500663692433,
                    0.7947298696338077,
                    0.14593413206741845,
                    0.3584311935160873,
                    0.5238695085284387,
                    0.2534273011723601,
                    0.6166548504364789,
                    0.4022131045140309,
                    0.14371322745297066,
                    0.27479560417197424,
                    0.6696118324809603,
                    0.45788560226938724,
                    0.7124728362918161,
                    0.7818641375988856,
                    0.4752514304333051,
                    0.911197350670276,
                    0.7126439904761238,
                    0.19943111156394766,
                    0.5037452765182829,
                    0.05278626458692515,
                    0.7275609647542057,
                    0.9372700542432041,
                    0.3181001878491363,
                    0.7644817282224827,
                    0.37932233189939735,
                    0.6666102225077818,
                    0.5450910071683392,
                    0.8625631845464377,
                    0.8244754710664548,
                    0.8301789983323258,
                    0.941336994454681,
                    0.7568458021487268,
                    0.43645926491859066,
                    0.8891135624340845,
                    0.651475630738007,
                    0.3665156147457461,
                    0.621592106209043,
                    0.5680493091270945,
                    0.8325078812873312,
                    0.7919008705183876,
                    0.7495593649928762,
                    0.7775204085695709,
                    0.5359190499628592,
                    0.49581181689448695,
                    0.48332838331858796,
                    0.6790885161885948,
                    0.9531963103289589,
                    0.7285750373594152,
                    0.46882871951451444,
                    0.46664539403487526,
                    0.6482786219830495,
                    0.3198841644658994,
                    0.6642791361227073,
                    0.5222060804967443,
                    0.37892162651200545,
                    0.13368484844245565,
                    0.5868524805497297,
                    0.5164451635589082,
                    0.6793800957660072,
                    0.06635742631823915,
                    0.11243570780782874,
                    0.13669693605911848,
                    0.4448020894201703,
                    0.8532190387598187,
                    0.43260130682118236,
                    0.3628301494561159,
                    0.6446740058589855,
                    0.12389397215263553,
                    0.18657687753405394,
                    0.8370140870168913,
                    0.07809268505903622,
                    0.9513079384232269,
                    0.155465861476637,
                    0.9745098834022207,
                    0.8917744920532517,
                    0.465151386578194,
                    0.08211816736765276,
                    0.33845774060871214,
                    0.5164896497825106,
                    0.07829351236669724,
                    0.3502823884369738,
                    0.9683188675098539,
                    0.08846411871634319,
                    0.8601740749458529,
                    0.8516761760604253,
                    0.04255499191206613,
                    0.9240709880397234,
                    0.4279100162431926,
                    0.5612940242436658,
                    0.3206706035657527,
                    0.04497206903188944,
                    0.8027569587798224,
                    0.5080292163154346,
                    0.2735043214746964,
                    0.7706698551633342,
                    0.4803739554264458,
                    0.5295279126244038,
                    0.38337641833632163,
                    0.9543385230848781,
                    0.6619182898611317,
                    0.5943384288470067,
                    0.026119142502255333,
                    0.2668760491724971,
                    0.8446642390444467,
                    0.5104099812586685,
                    0.6573557425000374,
                    0.21523431325369546,
                    0.6997039915995974,
                    0.29845660748407976,
                    0.2879735580830385,
                    0.2103939830523588,
                    0.2749997800687074,
                    0.7595070897069613,
                    0.3312502056332348,
                    0.9739061364637409,
                    0.6421404650950987,
                    0.8674293527423557,
                    0.15839143438438896,
                    0.1844114184005573,
                    0.03539780980029095,
                    0.4367675094405089,
                    0.4696707880547055,
                    0.6419873336123166,
                    0.1910526457573164,
                    0.42645431525405064,
                    0.8963060896648974,
                    0.06374671847999924,
                    0.2819086862807565,
                    0.86524349453472,
                    0.7169692488755562,
                    0.5626292619726876,
                    0.4589182778131563,
                    0.35089517396847814,
                    0.7354607639022183,
                    0.2765320621355911,
                    0.41635821510343907,
                    0.06264938247881258,
                    0.7581008805923778,
                    0.7305846232335412,
                    0.19993832939344935,
                    0.18426876169333728,
                    0.27746165085409824,
                    0.4329620522245705,
                    0.29339364678794855,
                    0.8866383578550981,
                    0.6231657181881438,
                    0.029391654580307347,
                    0.0561022894476334,
                    0.7375001051397665,
                    0.5542805165492617,
                    0.3862162334213879,
                    0.8606917787226817,
                    0.0000510053358439011,
                    0.7608165067372733,
                    0.4582523646668035,
                    0.35694185329336214,
                    0.5447492549348347,
                    0.8842069973356467,
                    0.026066223506611474,
                    0.23588783278762437,
                    0.910807002254501,
                    0.8295474977048403,
                    0.5048718796058133,
                    0.8929618309791275,
                    0.11126346272484955,
                    0.13574910241270732,
                    0.5075369665145754,
                    0.6753359967517591,
                    0.1587514800167329,
                    0.8421493060599416,
                    0.29624066266722604,
                    0.3008170518402219,
                    0.10409009358154464,
                    0.5604750182112167,
                    0.5016949961985496,
                    0.3869315896088311,
                    0.8814408849421529,
                    0.35755295808986054,
                    0.07608029607556421,
                    0.7070926207464296,
                    0.24267313698818793,
                    0.6053090276074634,
                    0.181153428739651,
                    0.647139546306117,
                    0.3675669114344492,
                    0.0793484845254111,
                    0.51430868649591,
                    0.13752766146838535,
                    0.4832390952688168,
                    0.19907373464954348,
                    0.6020528292291965,
                    0.39322777492266237,
                    0.24634826058588144,
                    0.5666935146292138,
                    0.6020357334758951,
                    0.45942281736219415,
                    0.9122851713137083,
                    0.2584641226201456,
                    0.3940425007327496,
                    0.3052130957969681,
                    0.29268710299884215,
                    0.47411484295532913,
                    0.5759516061852262,
                    0.6459852140008243,
                    0.8555199229254977,
                    0.039401953423409464,
                    0.12380291743143046,
                    0.9393566560378666,
                    0.8282014548397272,
                    0.7642110502514448,
                    0.5534199160135411,
                    0.1142967064297199,
                    0.6434166745997769,
                    0.9279597472934372,
                    0.8673334549835646,
                    0.650203629485606,
                    0.42264133155297456,
                    0.7882842609775372,
                    0.6797029597127641,
                    0.6790336172565935,
                    0.15815869147988104,
                    0.7688517884081894,
                    0.9152176169012712,
                    0.6029754706679324,
                    0.9262224184997182,
                    0.30201079018844323,
                    0.24554950098035522,
                    0.522362830965224,
                    0.26963389198154863,
                    0.486688819483458,
                    0.2537039030026297,
                    0.9088197586076838,
                    0.9591419236205507,
                    0.04068448739564845,
                    0.6022314373688554,
                    0.9546753246826039,
                    0.007486029904319125,
                    0.3075222363214779,
                    0.8594318402834871,
                    0.9860124683810135,
                    0.7699016945409952,
                    0.4421026919641964,
                    0.4034203006424516,
                    0.7790316024406829,
                    0.24456924114645073,
                    0.7101142264651636,
                    0.2628344333286309,
                    0.05592571823552672,
                    0.9645812714031952,
                    0.5678352520545952,
                    0.5470051277640017,
                    0.5856629214177124,
                    0.9182817342686073,
                    0.3594617876923146,
                    0.31332936542243783,
                    0.04127618777254716,
                    0.5875197620938052,
                    0.5331885058932087,
                    0.05058878797985833,
                    0.861271013247529,
                    0.5261428499516154,
                    0.8313014850079761,
                    0.7492328561104336,
                    0.5934669137712296,
                    0.23054845487399955,
                    0.004044212169449057,
                    0.2086634260252067,
                    0.21000286111355249,
                    0.9094308360658101,
                    0.19618625062987805,
                    0.06785346304630435,
                    0.24389501718666218,
                    0.0495071324529921,
                    0.7816134968272863,
                    0.2744163986303414,
                    0.7002736793077883,
                    0.47306128304088735,
                    0.1760465554682371,
                    0.5655915512329605,
                    0.04549775281870572,
                    0.5219843760343468,
                    0.8679641053170004,
                    0.6067504404776675,
                    0.7401168425695211,
                    0.16284749389553632,
                    0.0838502149487147,
                    0.29049507255210916,
                    0.31892546705915437,
                    0.8483827585733521,
                    0.3268442420404055,
                    0.22676296413158514,
                    0.6076976721579851,
                    0.9067764434220847,
                    0.6941519913563207,
                    0.7734009581005606,
                    0.20578995018354396,
                    0.8228191527706036,
                    0.6194931400739279,
                    0.9056580221502992,
                    0.39267021065478724,
                    0.4861678431717792,
                    0.015134495859617014,
                    0.04908323089867661,
                    0.4715256031912467,
                    0.8718337846901193,
                    0.8844551284881139,
                    0.4160570400335041,
                    0.005761468122330915,
                    0.3406160614782696,
                    0.9632440539812865,
                    0.23016729155680715,
                    0.16973583809288462,
                    0.0551624305893641,
                    0.8861645550563397,
                    0.5354701626765462,
                    0.8623060548040489,
                    0.6285310759461585,
                    0.3434109999532452,
                    0.5912118200749147,
                    0.6173612058529775,
                    0.6014175315689195,
                    0.37672477609634814,
                    0.5995283611236284,
                    0.7502597370303331,
                    0.7690347101643956,
                    0.8756271420956446,
                    0.4410250438840212,
                    0.10643556323714576,
                    0.5600411266004467,
                    0.4235990903264468,
                    0.045869448540561075,
                    0.14870688656163733,
                    0.6863817395255614,
                    0.0820837194542049,
                    0.8579553632349217,
                    0.057002167673538384,
                    0.8712803200518545,
                    0.4633615970187901,
                    0.4018884773960899,
                    0.3859255410078055,
                    0.37118897740610746,
                    0.3046809360281757,
                    0.6580273811092056
                  ],
                  "y": [
                    -0.43699968333186745,
                    0.31409685712143526,
                    -0.6867104910025777,
                    0.32340306551881376,
                    -0.3355114509423263,
                    -0.1582603932873612,
                    -0.23206255809797138,
                    0.03607652550508366,
                    -0.19390000746054298,
                    0.12602674090605448,
                    0.34894341881444463,
                    -0.1837279747133831,
                    -0.2933783784034788,
                    0.036047800356935174,
                    0.014410478902858301,
                    -0.24430351122049654,
                    0.4850080113285751,
                    0.15652581831221613,
                    0.16116520913546625,
                    0.8039381556970414,
                    -0.34080330238923495,
                    0.0781498222864523,
                    0.07948706990136972,
                    -0.02329203749633933,
                    0.09670661628154392,
                    0.291406563496757,
                    0.1857187870101316,
                    0.158611644447625,
                    0.24353788759825262,
                    -0.647936342981678,
                    -0.13320544612530308,
                    0.2772987062671241,
                    0.3613097379014549,
                    0.5149606600401013,
                    -0.6277990732963645,
                    0.42292549421950465,
                    0.10425262921804686,
                    -0.06832648346927556,
                    0.21513040611802733,
                    0.03799850876199789,
                    -0.12698015064130863,
                    -0.11943251913282443,
                    -0.8069307905781218,
                    -0.2614491165129323,
                    -0.10674903913073529,
                    0.5117615267334842,
                    -0.30999979525832794,
                    -0.2744710701269322,
                    0.2575860165572743,
                    -0.09359181974681993,
                    0.35583177033501473,
                    0.4112671821385449,
                    0.2799666147898861,
                    -0.1799928124992866,
                    0.007138856239111862,
                    -0.5672137759615777,
                    -0.29185738000926936,
                    0.0747421669326831,
                    -0.20953476341992808,
                    -0.10033638914811623,
                    -0.20564695089571727,
                    0.07892039711959739,
                    -0.25752471307542646,
                    0.06555238829856386,
                    0.3522774557824722,
                    -0.5006256201976059,
                    -0.18440402815319243,
                    0.08497594691372409,
                    -0.5434171601776471,
                    -0.13493467983892143,
                    0.5207468517807557,
                    0.2916174156697049,
                    0.43441271565880996,
                    -0.36064624815573215,
                    0.05466891421860389,
                    -0.16722431829335052,
                    -0.00642237094719534,
                    -0.05634015708290416,
                    0.22495431115555395,
                    -0.26160739146743606,
                    0.014215164132959483,
                    -0.054681838215967636,
                    -0.19829070504202703,
                    -0.3431051228156916,
                    0.0865423684233546,
                    0.12632829553377722,
                    0.07536970632065165,
                    -0.44565904293765807,
                    0.010435102637662385,
                    -0.481813659749704,
                    -0.21612510970431817,
                    -0.23225550708260073,
                    -0.0930755417864939,
                    -0.21713181517424604,
                    0.3627729212419621,
                    -0.15506869505484516,
                    -0.5990832479431819,
                    0.08636279114558952,
                    0.2437958400162894,
                    0.028771132349758012,
                    -0.24147937543527476,
                    -0.2812687457462314,
                    -0.17412988758692646,
                    0.010339471807294167,
                    0.24988371203867613,
                    -0.4874003670581352,
                    -0.1433377264551546,
                    0.1783569450249534,
                    0.09010579123349283,
                    0.57424980817299,
                    0.10318006209963389,
                    0.19824630113698177,
                    0.2066273926927664,
                    0.10662550697977287,
                    -0.1318944034123109,
                    -0.2923270808274672,
                    0.3317814431727019,
                    0.293992980913738,
                    -0.39063802994774105,
                    -0.30035928260267586,
                    0.1365730940496174,
                    -0.34648175980426815,
                    -0.7085131658241257,
                    -0.22994370364521033,
                    -0.16341149644635328,
                    -0.15435468335284058,
                    -0.31738604052928776,
                    -0.5742221132411673,
                    0.25081538879209375,
                    0.00034423302536554825,
                    -0.31705399569774934,
                    0.2613287955471986,
                    0.32314167586296577,
                    0.25005501908485434,
                    -0.01615429106963941,
                    -0.16386645904521224,
                    0.3073115779374977,
                    -0.4118065442155605,
                    0.17411565763712142,
                    -0.048699847244463704,
                    0.08237898694025787,
                    -0.13230532506620882,
                    -0.6051469215957963,
                    -0.32512973883955437,
                    -0.046908067199127546,
                    0.4707649097608466,
                    0.04118688616520003,
                    0.08036740840401521,
                    0.4151193813292234,
                    -0.12167405629458954,
                    -0.2031657273516663,
                    0.1657647666328532,
                    -0.1487362963674202,
                    -0.004469990860194763,
                    -0.09242961351539768,
                    -0.39463301563789355,
                    0.419628892546561,
                    -0.6049926924689094,
                    -0.021114430097439362,
                    0.14324478353731834,
                    0.5112351317656533,
                    -0.1826938686013681,
                    -0.030440463981228977,
                    -0.01558109526716191,
                    -0.019462683179847923,
                    0.10794892629894703,
                    0.19050834381975204,
                    0.10163591125483315,
                    0.028935233779132465,
                    0.11060646431112305,
                    -0.13202790597773675,
                    -0.1561019172905613,
                    0.021109807468779652,
                    0.19969535140207437,
                    -0.5234974401431565,
                    -0.036253560757426924,
                    0.5487482113636895,
                    0.1916090761467065,
                    -0.2562404574000873,
                    -0.2053747087270794,
                    0.3248235783072699,
                    0.29157014155618327,
                    -0.08866627895919911,
                    -0.11674131732878205,
                    -0.27918691195171186,
                    0.07491799776209689,
                    0.12146384376361766,
                    -0.23931439317805872,
                    0.04613910402525684,
                    -0.22647173348091842,
                    -0.1559404949315242,
                    -0.08566159196169962,
                    0.3566400376748589,
                    0.10551478211317662,
                    -0.06117489678772679,
                    0.6525592185745895,
                    0.6010468228301589,
                    -0.3792243060172502,
                    -0.027677795294245553,
                    0.06155575664937745,
                    -0.0005824322491983577,
                    0.2719477618801038,
                    -0.27180721195978275,
                    -0.3286015584929966,
                    0.22642671635715655,
                    0.3360937202559223,
                    0.19352586508763311,
                    -0.04758315019409635,
                    -0.14783475945442132,
                    0.25929806470204086,
                    -0.1030719000165078,
                    -0.024230674935280094,
                    -0.24719469871754376,
                    -0.2805523724399417,
                    0.05229591150030715,
                    0.34253686652262144,
                    0.689473456874031,
                    -0.4598501024167303,
                    -0.07681736617362143,
                    0.018605612074058687,
                    -0.16904180325593796,
                    0.10339104775538369,
                    0.05980337576214631,
                    0.3367098409578976,
                    -0.2685455200711207,
                    -0.2314940586197687,
                    -0.8254047124312448,
                    -0.15792102864323662,
                    -0.03646889725732192,
                    0.1934413931300884,
                    0.4786654054760531,
                    0.5674645831545204,
                    0.413828585903156,
                    -0.02910983336016005,
                    0.05235515272671048,
                    0.11936812826882809,
                    -0.09643774476404135,
                    0.2183937514708688,
                    -0.006970498531729904,
                    0.5733803745437889,
                    -0.005593465127767426,
                    -0.28459873692259463,
                    0.2623111771014992,
                    0.15157317662921968,
                    0.42361014670203256,
                    -0.11238215550895683,
                    0.005717546751879414,
                    0.02165135636318441,
                    0.06739123501889924,
                    -0.019306478166218288,
                    0.1524312461937931,
                    0.13309841268221376,
                    0.10451663311495679,
                    -0.13762657339485285,
                    -0.3542113256669653,
                    0.25636983624945675,
                    0.5013682645601454,
                    -0.12704412594386738,
                    0.41654232163050164,
                    -0.1725322389492167,
                    -0.08763295548024926,
                    -0.38382731426800837,
                    -0.012066713652919581,
                    -0.023821283710088657,
                    -0.1700350342444072,
                    0.293514908449168,
                    -0.1506716342918573,
                    0.24972410105725681,
                    -0.48124504261303735,
                    -0.3010085074017113,
                    -0.23009749923409356,
                    -0.06684736374964553,
                    -0.33835515560769824,
                    -0.15560302040639215,
                    -0.29254979425251804,
                    -0.0002355208887201665,
                    -0.07677883836499284,
                    -0.12652964631640337,
                    0.18129907922775756,
                    0.04241219614809296,
                    0.02875979466660283,
                    -0.3652189575629761,
                    -0.01944620539440498,
                    0.2485945648124528,
                    0.1865486309316455,
                    -0.27743424398860816,
                    -0.6711948299906593,
                    -0.02739115002926263,
                    0.09281418407534249,
                    0.04580214806028697,
                    0.11687089452941488,
                    0.04336350937308268,
                    0.38218644283277664,
                    0.20696574287663522,
                    -0.03407591263722127,
                    0.0208936101751239,
                    -0.0313144232571524,
                    0.046917682794730006,
                    0.06659328196926112,
                    0.13798180086604478,
                    0.24018793282375817,
                    -0.14148242833018404,
                    0.018039634890055944,
                    0.037325502778322486,
                    -0.2425558598791155,
                    -0.07796861644232596,
                    -0.37660919512542973,
                    -0.26034842031320454,
                    -0.41516530710018756,
                    -0.012179050436625602,
                    0.4232416475634225,
                    -0.4527497204642775,
                    0.09903328995580739,
                    0.06519501045693847,
                    0.08776080322376067,
                    0.3037903806579014,
                    -0.32149432610166423,
                    0.09179231481916125,
                    -0.3429435469146997,
                    -0.028699622542909156,
                    -0.07239287839939204,
                    -0.2578756582963144,
                    -0.1722580527192212,
                    -0.3695086634006162,
                    -0.012253950406088746,
                    -0.24051597459768687,
                    0.060359817228932605,
                    0.16408599997265522,
                    -0.18479431606374017,
                    -0.477858758785823,
                    0.012935727814550362,
                    -0.32955826930591103,
                    -0.22033657430774317,
                    0.1750692935142533,
                    0.24887858845052463,
                    -0.08481826745383392,
                    0.20360319914396047,
                    0.21422245179987653,
                    -0.14389077957265115,
                    0.18466665139807603,
                    -0.04324402683690026,
                    0.17846968351247294,
                    -0.2855889433370871,
                    -0.1729004574670954,
                    0.18011809435448697,
                    0.22582629477648697,
                    -0.03788836229780578,
                    -0.3073210920970179,
                    -0.3285660323800663,
                    0.29233405210479385,
                    -0.03956001660665729,
                    0.2520229374416649,
                    -0.40188950534261686,
                    0.4669135830939306,
                    0.13050792750544354,
                    -0.3229031633158884,
                    -0.2991510337938342,
                    -0.04515025071129008,
                    -0.1744618744919382,
                    0.1663193508880577,
                    0.32663232622527905,
                    -0.13800801231450865,
                    -0.26527197737378,
                    -0.14715121625336153,
                    0.27724978328297695,
                    0.2532590413459781,
                    -0.16598557621244012,
                    -0.530545044338753,
                    -0.19277865939064545,
                    -0.37902464840186184,
                    -0.5480927503099343,
                    -0.12073618451226129,
                    0.17245185469119229,
                    0.24599090797725187,
                    0.022017768884977293,
                    0.20198659870842203,
                    0.24888908746430988,
                    -0.30760168003703875,
                    0.49634968626804493,
                    -0.13111952303341662,
                    0.2671298986059118,
                    0.11045150046777902,
                    0.4295614499412242,
                    -0.19076892632327955,
                    -0.42392808253862724,
                    0.14439970511882935,
                    0.2683352140841755,
                    -0.27235023516812995,
                    0.34551788584463394,
                    -0.29512677904998585,
                    -0.1579792394263847,
                    0.4223678605465247,
                    -0.7241126944494144,
                    0.21974562507278378,
                    -0.17961614968234865,
                    0.6399509886190934,
                    -0.13436418126150654,
                    0.09902602097455351,
                    -0.3276025852297118,
                    0.2543644247772783,
                    -0.23643435502393786,
                    -0.42520145036885443,
                    0.10411166191542431,
                    -0.12134767073130562,
                    -0.3038664998511414,
                    -0.4352939213665013,
                    -0.25681227604333884,
                    -0.5156312254757683,
                    0.2074848085457236,
                    -0.202490391978683,
                    0.3900026585714362,
                    -0.25504620628405195,
                    0.4992564512350961,
                    0.09245994071551841,
                    -0.09879039874985905,
                    0.005886584961593913,
                    -0.22085492646986501,
                    -0.26986089798145185,
                    -0.23303865393595272,
                    0.3104175469170913,
                    0.08707863176905692,
                    -0.12748755187528102,
                    -0.2957648176867359,
                    0.4838253382792776,
                    0.3344801804842579,
                    0.43373885371942894,
                    -0.38423516669999674,
                    -0.19390720625454055,
                    0.10036807392405019,
                    -0.5661594703294636,
                    -0.31501568126943935,
                    0.17601794908030308,
                    0.06279318880809259,
                    0.37813544071994676,
                    -0.4365899988161922,
                    0.023106732500665857,
                    0.007370115177905546,
                    0.0842502028267802,
                    0.6401033900931159,
                    -0.13939172570055322,
                    0.15406680532495565,
                    -0.23717062781598092,
                    -0.22484669470890942,
                    -0.03847092067542356,
                    0.5064064360757653,
                    -0.29719187926191576,
                    -0.403005390749894,
                    -0.3593472924668419,
                    0.37188341622931304,
                    0.27034620423818917,
                    0.11039350525625259,
                    0.6245322117232701,
                    -0.2533172259065654,
                    -0.16856293370360254,
                    0.2138901515451656,
                    -0.5218666206773235,
                    0.0738430500345222,
                    -0.06537732393302653,
                    0.0370805909277954,
                    0.13683086828606958,
                    0.3766322994150924,
                    0.47689506708742935,
                    0.12519191761936363,
                    0.03098260593344274,
                    -0.24242280651677614,
                    0.34085498333591463,
                    -0.9457789032316863,
                    -0.13078230008425876,
                    0.39644186493129047,
                    0.05648940679808035,
                    0.12717386519129653,
                    0.36529345070517677,
                    -0.03817725646924162,
                    -0.13699870103942197,
                    -0.1851478635992848,
                    0.5441199595602721,
                    -0.5094134760814449,
                    -0.012162773378486471,
                    0.4859184841303913,
                    -0.5225183073080836,
                    -0.09381390124218701,
                    0.06115058481734544,
                    -0.11946197480740872,
                    -0.1489756145256734,
                    0.2033728897463158,
                    0.4164113604384467,
                    0.09102243567552791,
                    -0.2576822599850516,
                    -0.10731220815219719,
                    -0.7144248987088858,
                    0.17511066515365756,
                    0.03885545364521694,
                    0.0691278579319033,
                    0.06833930505434083,
                    -0.04220439735499414,
                    0.08064835417443728,
                    -0.19263039774914756,
                    -0.2305230467279324,
                    -0.4301765288447885,
                    0.3576396751611755
                  ],
                  "type": "scatter",
                  "xaxis": "x2",
                  "yaxis": "y2"
                },
                {
                  "line": {
                    "width": 2
                  },
                  "mode": "lines+markers",
                  "name": "Positive Tweets",
                  "x": [
                    0,
                    1,
                    2,
                    3,
                    4,
                    5,
                    6,
                    7,
                    8,
                    9,
                    10,
                    11,
                    12,
                    13,
                    14,
                    15,
                    16,
                    17,
                    18,
                    19,
                    20,
                    21,
                    22,
                    23
                  ],
                  "y": [
                    9,
                    8,
                    8,
                    9,
                    8,
                    9,
                    8,
                    8,
                    9,
                    8,
                    9,
                    8,
                    8,
                    9,
                    8,
                    9,
                    8,
                    8,
                    9,
                    8,
                    8,
                    8,
                    8,
                    8
                  ],
                  "type": "scatter",
                  "xaxis": "x3",
                  "yaxis": "y3"
                },
                {
                  "line": {
                    "width": 2
                  },
                  "mode": "lines+markers",
                  "name": "Negative Tweets",
                  "x": [
                    0,
                    1,
                    2,
                    3,
                    4,
                    5,
                    6,
                    7,
                    8,
                    9,
                    10,
                    11,
                    12,
                    13,
                    14,
                    15,
                    16,
                    17,
                    18,
                    19,
                    20,
                    21,
                    22,
                    23
                  ],
                  "y": [
                    8,
                    9,
                    8,
                    8,
                    9,
                    8,
                    9,
                    8,
                    8,
                    9,
                    8,
                    9,
                    8,
                    8,
                    9,
                    8,
                    9,
                    8,
                    8,
                    9,
                    8,
                    8,
                    8,
                    8
                  ],
                  "type": "scatter",
                  "xaxis": "x3",
                  "yaxis": "y3"
                },
                {
                  "line": {
                    "width": 2
                  },
                  "mode": "lines+markers",
                  "name": "Neutral Tweets",
                  "x": [
                    0,
                    1,
                    2,
                    3,
                    4,
                    5,
                    6,
                    7,
                    8,
                    9,
                    10,
                    11,
                    12,
                    13,
                    14,
                    15,
                    16,
                    17,
                    18,
                    19,
                    20,
                    21,
                    22,
                    23
                  ],
                  "y": [
                    4,
                    4,
                    5,
                    4,
                    4,
                    4,
                    4,
                    5,
                    4,
                    4,
                    4,
                    4,
                    5,
                    4,
                    4,
                    4,
                    4,
                    5,
                    4,
                    4,
                    4,
                    4,
                    4,
                    4
                  ],
                  "type": "scatter",
                  "xaxis": "x3",
                  "yaxis": "y3"
                }
              ],
              "layout": {
                "template": {
                  "data": {
                    "barpolar": [
                      {
                        "marker": {
                          "line": {
                            "color": "white",
                            "width": 0.5
                          },
                          "pattern": {
                            "fillmode": "overlay",
                            "size": 10,
                            "solidity": 0.2
                          }
                        },
                        "type": "barpolar"
                      }
                    ],
                    "bar": [
                      {
                        "error_x": {
                          "color": "#2a3f5f"
                        },
                        "error_y": {
                          "color": "#2a3f5f"
                        },
                        "marker": {
                          "line": {
                            "color": "white",
                            "width": 0.5
                          },
                          "pattern": {
                            "fillmode": "overlay",
                            "size": 10,
                            "solidity": 0.2
                          }
                        },
                        "type": "bar"
                      }
                    ],
                    "carpet": [
                      {
                        "aaxis": {
                          "endlinecolor": "#2a3f5f",
                          "gridcolor": "#C8D4E3",
                          "linecolor": "#C8D4E3",
                          "minorgridcolor": "#C8D4E3",
                          "startlinecolor": "#2a3f5f"
                        },
                        "baxis": {
                          "endlinecolor": "#2a3f5f",
                          "gridcolor": "#C8D4E3",
                          "linecolor": "#C8D4E3",
                          "minorgridcolor": "#C8D4E3",
                          "startlinecolor": "#2a3f5f"
                        },
                        "type": "carpet"
                      }
                    ],
                    "choropleth": [
                      {
                        "colorbar": {
                          "outlinewidth": 0,
                          "ticks": ""
                        },
                        "type": "choropleth"
                      }
                    ],
                    "contourcarpet": [
                      {
                        "colorbar": {
                          "outlinewidth": 0,
                          "ticks": ""
                        },
                        "type": "contourcarpet"
                      }
                    ],
                    "contour": [
                      {
                        "colorbar": {
                          "outlinewidth": 0,
                          "ticks": ""
                        },
                        "colorscale": [
                          [
                            0,
                            "#0d0887"
                          ],
                          [
                            0.1111111111111111,
                            "#46039f"
                          ],
                          [
                            0.2222222222222222,
                            "#7201a8"
                          ],
                          [
                            0.3333333333333333,
                            "#9c179e"
                          ],
                          [
                            0.4444444444444444,
                            "#bd3786"
                          ],
                          [
                            0.5555555555555556,
                            "#d8576b"
                          ],
                          [
                            0.6666666666666666,
                            "#ed7953"
                          ],
                          [
                            0.7777777777777778,
                            "#fb9f3a"
                          ],
                          [
                            0.8888888888888888,
                            "#fdca26"
                          ],
                          [
                            1,
                            "#f0f921"
                          ]
                        ],
                        "type": "contour"
                      }
                    ],
                    "heatmapgl": [
                      {
                        "colorbar": {
                          "outlinewidth": 0,
                          "ticks": ""
                        },
                        "colorscale": [
                          [
                            0,
                            "#0d0887"
                          ],
                          [
                            0.1111111111111111,
                            "#46039f"
                          ],
                          [
                            0.2222222222222222,
                            "#7201a8"
                          ],
                          [
                            0.3333333333333333,
                            "#9c179e"
                          ],
                          [
                            0.4444444444444444,
                            "#bd3786"
                          ],
                          [
                            0.5555555555555556,
                            "#d8576b"
                          ],
                          [
                            0.6666666666666666,
                            "#ed7953"
                          ],
                          [
                            0.7777777777777778,
                            "#fb9f3a"
                          ],
                          [
                            0.8888888888888888,
                            "#fdca26"
                          ],
                          [
                            1,
                            "#f0f921"
                          ]
                        ],
                        "type": "heatmapgl"
                      }
                    ],
                    "heatmap": [
                      {
                        "colorbar": {
                          "outlinewidth": 0,
                          "ticks": ""
                        },
                        "colorscale": [
                          [
                            0,
                            "#0d0887"
                          ],
                          [
                            0.1111111111111111,
                            "#46039f"
                          ],
                          [
                            0.2222222222222222,
                            "#7201a8"
                          ],
                          [
                            0.3333333333333333,
                            "#9c179e"
                          ],
                          [
                            0.4444444444444444,
                            "#bd3786"
                          ],
                          [
                            0.5555555555555556,
                            "#d8576b"
                          ],
                          [
                            0.6666666666666666,
                            "#ed7953"
                          ],
                          [
                            0.7777777777777778,
                            "#fb9f3a"
                          ],
                          [
                            0.8888888888888888,
                            "#fdca26"
                          ],
                          [
                            1,
                            "#f0f921"
                          ]
                        ],
                        "type": "heatmap"
                      }
                    ],
                    "histogram2dcontour": [
                      {
                        "colorbar": {
                          "outlinewidth": 0,
                          "ticks": ""
                        },
                        "colorscale": [
                          [
                            0,
                            "#0d0887"
                          ],
                          [
                            0.1111111111111111,
                            "#46039f"
                          ],
                          [
                            0.2222222222222222,
                            "#7201a8"
                          ],
                          [
                            0.3333333333333333,
                            "#9c179e"
                          ],
                          [
                            0.4444444444444444,
                            "#bd3786"
                          ],
                          [
                            0.5555555555555556,
                            "#d8576b"
                          ],
                          [
                            0.6666666666666666,
                            "#ed7953"
                          ],
                          [
                            0.7777777777777778,
                            "#fb9f3a"
                          ],
                          [
                            0.8888888888888888,
                            "#fdca26"
                          ],
                          [
                            1,
                            "#f0f921"
                          ]
                        ],
                        "type": "histogram2dcontour"
                      }
                    ],
                    "histogram2d": [
                      {
                        "colorbar": {
                          "outlinewidth": 0,
                          "ticks": ""
                        },
                        "colorscale": [
                          [
                            0,
                            "#0d0887"
                          ],
                          [
                            0.1111111111111111,
                            "#46039f"
                          ],
                          [
                            0.2222222222222222,
                            "#7201a8"
                          ],
                          [
                            0.3333333333333333,
                            "#9c179e"
                          ],
                          [
                            0.4444444444444444,
                            "#bd3786"
                          ],
                          [
                            0.5555555555555556,
                            "#d8576b"
                          ],
                          [
                            0.6666666666666666,
                            "#ed7953"
                          ],
                          [
                            0.7777777777777778,
                            "#fb9f3a"
                          ],
                          [
                            0.8888888888888888,
                            "#fdca26"
                          ],
                          [
                            1,
                            "#f0f921"
                          ]
                        ],
                        "type": "histogram2d"
                      }
                    ],
                    "histogram": [
                      {
                        "marker": {
                          "pattern": {
                            "fillmode": "overlay",
                            "size": 10,
                            "solidity": 0.2
                          }
                        },
                        "type": "histogram"
                      }
                    ],
                    "mesh3d": [
                      {
                        "colorbar": {
                          "outlinewidth": 0,
                          "ticks": ""
                        },
                        "type": "mesh3d"
                      }
                    ],
                    "parcoords": [
                      {
                        "line": {
                          "colorbar": {
                            "outlinewidth": 0,
                            "ticks": ""
                          }
                        },
                        "type": "parcoords"
                      }
                    ],
                    "pie": [
                      {
                        "automargin": true,
                        "type": "pie"
                      }
                    ],
                    "scatter3d": [
                      {
                        "line": {
                          "colorbar": {
                            "outlinewidth": 0,
                            "ticks": ""
                          }
                        },
                        "marker": {
                          "colorbar": {
                            "outlinewidth": 0,
                            "ticks": ""
                          }
                        },
                        "type": "scatter3d"
                      }
                    ],
                    "scattercarpet": [
                      {
                        "marker": {
                          "colorbar": {
                            "outlinewidth": 0,
                            "ticks": ""
                          }
                        },
                        "type": "scattercarpet"
                      }
                    ],
                    "scattergeo": [
                      {
                        "marker": {
                          "colorbar": {
                            "outlinewidth": 0,
                            "ticks": ""
                          }
                        },
                        "type": "scattergeo"
                      }
                    ],
                    "scattergl": [
                      {
                        "marker": {
                          "colorbar": {
                            "outlinewidth": 0,
                            "ticks": ""
                          }
                        },
                        "type": "scattergl"
                      }
                    ],
                    "scattermapbox": [
                      {
                        "marker": {
                          "colorbar": {
                            "outlinewidth": 0,
                            "ticks": ""
                          }
                        },
                        "type": "scattermapbox"
                      }
                    ],
                    "scatterpolargl": [
                      {
                        "marker": {
                          "colorbar": {
                            "outlinewidth": 0,
                            "ticks": ""
                          }
                        },
                        "type": "scatterpolargl"
                      }
                    ],
                    "scatterpolar": [
                      {
                        "marker": {
                          "colorbar": {
                            "outlinewidth": 0,
                            "ticks": ""
                          }
                        },
                        "type": "scatterpolar"
                      }
                    ],
                    "scatter": [
                      {
                        "fillpattern": {
                          "fillmode": "overlay",
                          "size": 10,
                          "solidity": 0.2
                        },
                        "type": "scatter"
                      }
                    ],
                    "scatterternary": [
                      {
                        "marker": {
                          "colorbar": {
                            "outlinewidth": 0,
                            "ticks": ""
                          }
                        },
                        "type": "scatterternary"
                      }
                    ],
                    "surface": [
                      {
                        "colorbar": {
                          "outlinewidth": 0,
                          "ticks": ""
                        },
                        "colorscale": [
                          [
                            0,
                            "#0d0887"
                          ],
                          [
                            0.1111111111111111,
                            "#46039f"
                          ],
                          [
                            0.2222222222222222,
                            "#7201a8"
                          ],
                          [
                            0.3333333333333333,
                            "#9c179e"
                          ],
                          [
                            0.4444444444444444,
                            "#bd3786"
                          ],
                          [
                            0.5555555555555556,
                            "#d8576b"
                          ],
                          [
                            0.6666666666666666,
                            "#ed7953"
                          ],
                          [
                            0.7777777777777778,
                            "#fb9f3a"
                          ],
                          [
                            0.8888888888888888,
                            "#fdca26"
                          ],
                          [
                            1,
                            "#f0f921"
                          ]
                        ],
                        "type": "surface"
                      }
                    ],
                    "table": [
                      {
                        "cells": {
                          "fill": {
                            "color": "#EBF0F8"
                          },
                          "line": {
                            "color": "white"
                          }
                        },
                        "header": {
                          "fill": {
                            "color": "#C8D4E3"
                          },
                          "line": {
                            "color": "white"
                          }
                        },
                        "type": "table"
                      }
                    ]
                  },
                  "layout": {
                    "annotationdefaults": {
                      "arrowcolor": "#2a3f5f",
                      "arrowhead": 0,
                      "arrowwidth": 1
                    },
                    "autotypenumbers": "strict",
                    "coloraxis": {
                      "colorbar": {
                        "outlinewidth": 0,
                        "ticks": ""
                      }
                    },
                    "colorscale": {
                      "diverging": [
                        [
                          0,
                          "#8e0152"
                        ],
                        [
                          0.1,
                          "#c51b7d"
                        ],
                        [
                          0.2,
                          "#de77ae"
                        ],
                        [
                          0.3,
                          "#f1b6da"
                        ],
                        [
                          0.4,
                          "#fde0ef"
                        ],
                        [
                          0.5,
                          "#f7f7f7"
                        ],
                        [
                          0.6,
                          "#e6f5d0"
                        ],
                        [
                          0.7,
                          "#b8e186"
                        ],
                        [
                          0.8,
                          "#7fbc41"
                        ],
                        [
                          0.9,
                          "#4d9221"
                        ],
                        [
                          1,
                          "#276419"
                        ]
                      ],
                      "sequential": [
                        [
                          0,
                          "#0d0887"
                        ],
                        [
                          0.1111111111111111,
                          "#46039f"
                        ],
                        [
                          0.2222222222222222,
                          "#7201a8"
                        ],
                        [
                          0.3333333333333333,
                          "#9c179e"
                        ],
                        [
                          0.4444444444444444,
                          "#bd3786"
                        ],
                        [
                          0.5555555555555556,
                          "#d8576b"
                        ],
                        [
                          0.6666666666666666,
                          "#ed7953"
                        ],
                        [
                          0.7777777777777778,
                          "#fb9f3a"
                        ],
                        [
                          0.8888888888888888,
                          "#fdca26"
                        ],
                        [
                          1,
                          "#f0f921"
                        ]
                      ],
                      "sequentialminus": [
                        [
                          0,
                          "#0d0887"
                        ],
                        [
                          0.1111111111111111,
                          "#46039f"
                        ],
                        [
                          0.2222222222222222,
                          "#7201a8"
                        ],
                        [
                          0.3333333333333333,
                          "#9c179e"
                        ],
                        [
                          0.4444444444444444,
                          "#bd3786"
                        ],
                        [
                          0.5555555555555556,
                          "#d8576b"
                        ],
                        [
                          0.6666666666666666,
                          "#ed7953"
                        ],
                        [
                          0.7777777777777778,
                          "#fb9f3a"
                        ],
                        [
                          0.8888888888888888,
                          "#fdca26"
                        ],
                        [
                          1,
                          "#f0f921"
                        ]
                      ]
                    },
                    "colorway": [
                      "#636efa",
                      "#EF553B",
                      "#00cc96",
                      "#ab63fa",
                      "#FFA15A",
                      "#19d3f3",
                      "#FF6692",
                      "#B6E880",
                      "#FF97FF",
                      "#FECB52"
                    ],
                    "font": {
                      "color": "#2a3f5f"
                    },
                    "geo": {
                      "bgcolor": "white",
                      "lakecolor": "white",
                      "landcolor": "white",
                      "showlakes": true,
                      "showland": true,
                      "subunitcolor": "#C8D4E3"
                    },
                    "hoverlabel": {
                      "align": "left"
                    },
                    "hovermode": "closest",
                    "mapbox": {
                      "style": "light"
                    },
                    "paper_bgcolor": "white",
                    "plot_bgcolor": "white",
                    "polar": {
                      "angularaxis": {
                        "gridcolor": "#EBF0F8",
                        "linecolor": "#EBF0F8",
                        "ticks": ""
                      },
                      "bgcolor": "white",
                      "radialaxis": {
                        "gridcolor": "#EBF0F8",
                        "linecolor": "#EBF0F8",
                        "ticks": ""
                      }
                    },
                    "scene": {
                      "xaxis": {
                        "backgroundcolor": "white",
                        "gridcolor": "#DFE8F3",
                        "gridwidth": 2,
                        "linecolor": "#EBF0F8",
                        "showbackground": true,
                        "ticks": "",
                        "zerolinecolor": "#EBF0F8"
                      },
                      "yaxis": {
                        "backgroundcolor": "white",
                        "gridcolor": "#DFE8F3",
                        "gridwidth": 2,
                        "linecolor": "#EBF0F8",
                        "showbackground": true,
                        "ticks": "",
                        "zerolinecolor": "#EBF0F8"
                      },
                      "zaxis": {
                        "backgroundcolor": "white",
                        "gridcolor": "#DFE8F3",
                        "gridwidth": 2,
                        "linecolor": "#EBF0F8",
                        "showbackground": true,
                        "ticks": "",
                        "zerolinecolor": "#EBF0F8"
                      }
                    },
                    "shapedefaults": {
                      "line": {
                        "color": "#2a3f5f"
                      }
                    },
                    "ternary": {
                      "aaxis": {
                        "gridcolor": "#DFE8F3",
                        "linecolor": "#A2B1C6",
                        "ticks": ""
                      },
                      "baxis": {
                        "gridcolor": "#DFE8F3",
                        "linecolor": "#A2B1C6",
                        "ticks": ""
                      },
                      "bgcolor": "white",
                      "caxis": {
                        "gridcolor": "#DFE8F3",
                        "linecolor": "#A2B1C6",
                        "ticks": ""
                      }
                    },
                    "title": {
                      "x": 0.05
                    },
                    "xaxis": {
                      "automargin": true,
                      "gridcolor": "#EBF0F8",
                      "linecolor": "#EBF0F8",
                      "ticks": "",
                      "title": {
                        "standoff": 15
                      },
                      "zerolinecolor": "#EBF0F8",
                      "zerolinewidth": 2
                    },
                    "yaxis": {
                      "automargin": true,
                      "gridcolor": "#EBF0F8",
                      "linecolor": "#EBF0F8",
                      "ticks": "",
                      "title": {
                        "standoff": 15
                      },
                      "zerolinecolor": "#EBF0F8",
                      "zerolinewidth": 2
                    }
                  }
                },
                "xaxis": {
                  "anchor": "y",
                  "domain": [
                    0.55,
                    1
                  ]
                },
                "yaxis": {
                  "anchor": "x",
                  "domain": [
                    0.625,
                    1
                  ]
                },
                "xaxis2": {
                  "anchor": "y2",
                  "domain": [
                    0,
                    0.45
                  ]
                },
                "yaxis2": {
                  "anchor": "x2",
                  "domain": [
                    0,
                    0.375
                  ]
                },
                "xaxis3": {
                  "anchor": "y3",
                  "domain": [
                    0.55,
                    1
                  ]
                },
                "yaxis3": {
                  "anchor": "x3",
                  "domain": [
                    0,
                    0.375
                  ]
                },
                "annotations": [
                  {
                    "font": {
                      "size": 16
                    },
                    "showarrow": false,
                    "text": "Sentiment Distribution",
                    "x": 0.225,
                    "xanchor": "center",
                    "xref": "paper",
                    "y": 1,
                    "yanchor": "bottom",
                    "yref": "paper"
                  },
                  {
                    "font": {
                      "size": 16
                    },
                    "showarrow": false,
                    "text": "Polarity Distribution",
                    "x": 0.775,
                    "xanchor": "center",
                    "xref": "paper",
                    "y": 1,
                    "yanchor": "bottom",
                    "yref": "paper"
                  },
                  {
                    "font": {
                      "size": 16
                    },
                    "showarrow": false,
                    "text": "Subjectivity vs Polarity",
                    "x": 0.225,
                    "xanchor": "center",
                    "xref": "paper",
                    "y": 0.375,
                    "yanchor": "bottom",
                    "yref": "paper"
                  },
                  {
                    "font": {
                      "size": 16
                    },
                    "showarrow": false,
                    "text": "Sentiment Over Time",
                    "x": 0.775,
                    "xanchor": "center",
                    "xref": "paper",
                    "y": 0.375,
                    "yanchor": "bottom",
                    "yref": "paper"
                  }
                ],
                "title": {
                  "text": "🌍 Global Mood Analysis Dashboard",
                  "x": 0.5
                },
                "height": 800,
                "showlegend": true
              },
              "config": {
                "plotlyServerURL": "https://plot.ly"
              }
            },
            "text/html": [
              "<div>                            <div id=\"9b40b753-ecbc-40e5-b2c4-1fed7997c35b\" class=\"plotly-graph-div\" style=\"height:800px; width:100%;\"></div>            <script type=\"text/javascript\">                require([\"plotly\"], function(Plotly) {                    window.PLOTLYENV=window.PLOTLYENV || {};                                    if (document.getElementById(\"9b40b753-ecbc-40e5-b2c4-1fed7997c35b\")) {                    Plotly.newPlot(                        \"9b40b753-ecbc-40e5-b2c4-1fed7997c35b\",                        [{\"labels\":[\"Positive\",\"Negative\",\"Neutral\"],\"marker\":{\"colors\":[\"#2E86AB\",\"#A23B72\",\"#F18F01\"]},\"name\":\"Sentiment\",\"values\":[200,200,100],\"type\":\"pie\",\"domain\":{\"x\":[0.0,0.45],\"y\":[0.625,1.0]}},{\"marker\":{\"color\":\"#2E86AB\"},\"name\":\"Polarity\",\"nbinsx\":30,\"opacity\":0.7,\"x\":[-0.43699968333186745,0.31409685712143526,-0.6867104910025777,0.32340306551881376,-0.3355114509423263,-0.1582603932873612,-0.23206255809797138,0.03607652550508366,-0.19390000746054298,0.12602674090605448,0.34894341881444463,-0.1837279747133831,-0.2933783784034788,0.036047800356935174,0.014410478902858301,-0.24430351122049654,0.4850080113285751,0.15652581831221613,0.16116520913546625,0.8039381556970414,-0.34080330238923495,0.0781498222864523,0.07948706990136972,-0.02329203749633933,0.09670661628154392,0.291406563496757,0.1857187870101316,0.158611644447625,0.24353788759825262,-0.647936342981678,-0.13320544612530308,0.2772987062671241,0.3613097379014549,0.5149606600401013,-0.6277990732963645,0.42292549421950465,0.10425262921804686,-0.06832648346927556,0.21513040611802733,0.03799850876199789,-0.12698015064130863,-0.11943251913282443,-0.8069307905781218,-0.2614491165129323,-0.10674903913073529,0.5117615267334842,-0.30999979525832794,-0.2744710701269322,0.2575860165572743,-0.09359181974681993,0.35583177033501473,0.4112671821385449,0.2799666147898861,-0.1799928124992866,0.007138856239111862,-0.5672137759615777,-0.29185738000926936,0.0747421669326831,-0.20953476341992808,-0.10033638914811623,-0.20564695089571727,0.07892039711959739,-0.25752471307542646,0.06555238829856386,0.3522774557824722,-0.5006256201976059,-0.18440402815319243,0.08497594691372409,-0.5434171601776471,-0.13493467983892143,0.5207468517807557,0.2916174156697049,0.43441271565880996,-0.36064624815573215,0.05466891421860389,-0.16722431829335052,-0.00642237094719534,-0.05634015708290416,0.22495431115555395,-0.26160739146743606,0.014215164132959483,-0.054681838215967636,-0.19829070504202703,-0.3431051228156916,0.0865423684233546,0.12632829553377722,0.07536970632065165,-0.44565904293765807,0.010435102637662385,-0.481813659749704,-0.21612510970431817,-0.23225550708260073,-0.0930755417864939,-0.21713181517424604,0.3627729212419621,-0.15506869505484516,-0.5990832479431819,0.08636279114558952,0.2437958400162894,0.028771132349758012,-0.24147937543527476,-0.2812687457462314,-0.17412988758692646,0.010339471807294167,0.24988371203867613,-0.4874003670581352,-0.1433377264551546,0.1783569450249534,0.09010579123349283,0.57424980817299,0.10318006209963389,0.19824630113698177,0.2066273926927664,0.10662550697977287,-0.1318944034123109,-0.2923270808274672,0.3317814431727019,0.293992980913738,-0.39063802994774105,-0.30035928260267586,0.1365730940496174,-0.34648175980426815,-0.7085131658241257,-0.22994370364521033,-0.16341149644635328,-0.15435468335284058,-0.31738604052928776,-0.5742221132411673,0.25081538879209375,0.00034423302536554825,-0.31705399569774934,0.2613287955471986,0.32314167586296577,0.25005501908485434,-0.01615429106963941,-0.16386645904521224,0.3073115779374977,-0.4118065442155605,0.17411565763712142,-0.048699847244463704,0.08237898694025787,-0.13230532506620882,-0.6051469215957963,-0.32512973883955437,-0.046908067199127546,0.4707649097608466,0.04118688616520003,0.08036740840401521,0.4151193813292234,-0.12167405629458954,-0.2031657273516663,0.1657647666328532,-0.1487362963674202,-0.004469990860194763,-0.09242961351539768,-0.39463301563789355,0.419628892546561,-0.6049926924689094,-0.021114430097439362,0.14324478353731834,0.5112351317656533,-0.1826938686013681,-0.030440463981228977,-0.01558109526716191,-0.019462683179847923,0.10794892629894703,0.19050834381975204,0.10163591125483315,0.028935233779132465,0.11060646431112305,-0.13202790597773675,-0.1561019172905613,0.021109807468779652,0.19969535140207437,-0.5234974401431565,-0.036253560757426924,0.5487482113636895,0.1916090761467065,-0.2562404574000873,-0.2053747087270794,0.3248235783072699,0.29157014155618327,-0.08866627895919911,-0.11674131732878205,-0.27918691195171186,0.07491799776209689,0.12146384376361766,-0.23931439317805872,0.04613910402525684,-0.22647173348091842,-0.1559404949315242,-0.08566159196169962,0.3566400376748589,0.10551478211317662,-0.06117489678772679,0.6525592185745895,0.6010468228301589,-0.3792243060172502,-0.027677795294245553,0.06155575664937745,-0.0005824322491983577,0.2719477618801038,-0.27180721195978275,-0.3286015584929966,0.22642671635715655,0.3360937202559223,0.19352586508763311,-0.04758315019409635,-0.14783475945442132,0.25929806470204086,-0.1030719000165078,-0.024230674935280094,-0.24719469871754376,-0.2805523724399417,0.05229591150030715,0.34253686652262144,0.689473456874031,-0.4598501024167303,-0.07681736617362143,0.018605612074058687,-0.16904180325593796,0.10339104775538369,0.05980337576214631,0.3367098409578976,-0.2685455200711207,-0.2314940586197687,-0.8254047124312448,-0.15792102864323662,-0.03646889725732192,0.1934413931300884,0.4786654054760531,0.5674645831545204,0.413828585903156,-0.02910983336016005,0.05235515272671048,0.11936812826882809,-0.09643774476404135,0.2183937514708688,-0.006970498531729904,0.5733803745437889,-0.005593465127767426,-0.28459873692259463,0.2623111771014992,0.15157317662921968,0.42361014670203256,-0.11238215550895683,0.005717546751879414,0.02165135636318441,0.06739123501889924,-0.019306478166218288,0.1524312461937931,0.13309841268221376,0.10451663311495679,-0.13762657339485285,-0.3542113256669653,0.25636983624945675,0.5013682645601454,-0.12704412594386738,0.41654232163050164,-0.1725322389492167,-0.08763295548024926,-0.38382731426800837,-0.012066713652919581,-0.023821283710088657,-0.1700350342444072,0.293514908449168,-0.1506716342918573,0.24972410105725681,-0.48124504261303735,-0.3010085074017113,-0.23009749923409356,-0.06684736374964553,-0.33835515560769824,-0.15560302040639215,-0.29254979425251804,-0.0002355208887201665,-0.07677883836499284,-0.12652964631640337,0.18129907922775756,0.04241219614809296,0.02875979466660283,-0.3652189575629761,-0.01944620539440498,0.2485945648124528,0.1865486309316455,-0.27743424398860816,-0.6711948299906593,-0.02739115002926263,0.09281418407534249,0.04580214806028697,0.11687089452941488,0.04336350937308268,0.38218644283277664,0.20696574287663522,-0.03407591263722127,0.0208936101751239,-0.0313144232571524,0.046917682794730006,0.06659328196926112,0.13798180086604478,0.24018793282375817,-0.14148242833018404,0.018039634890055944,0.037325502778322486,-0.2425558598791155,-0.07796861644232596,-0.37660919512542973,-0.26034842031320454,-0.41516530710018756,-0.012179050436625602,0.4232416475634225,-0.4527497204642775,0.09903328995580739,0.06519501045693847,0.08776080322376067,0.3037903806579014,-0.32149432610166423,0.09179231481916125,-0.3429435469146997,-0.028699622542909156,-0.07239287839939204,-0.2578756582963144,-0.1722580527192212,-0.3695086634006162,-0.012253950406088746,-0.24051597459768687,0.060359817228932605,0.16408599997265522,-0.18479431606374017,-0.477858758785823,0.012935727814550362,-0.32955826930591103,-0.22033657430774317,0.1750692935142533,0.24887858845052463,-0.08481826745383392,0.20360319914396047,0.21422245179987653,-0.14389077957265115,0.18466665139807603,-0.04324402683690026,0.17846968351247294,-0.2855889433370871,-0.1729004574670954,0.18011809435448697,0.22582629477648697,-0.03788836229780578,-0.3073210920970179,-0.3285660323800663,0.29233405210479385,-0.03956001660665729,0.2520229374416649,-0.40188950534261686,0.4669135830939306,0.13050792750544354,-0.3229031633158884,-0.2991510337938342,-0.04515025071129008,-0.1744618744919382,0.1663193508880577,0.32663232622527905,-0.13800801231450865,-0.26527197737378,-0.14715121625336153,0.27724978328297695,0.2532590413459781,-0.16598557621244012,-0.530545044338753,-0.19277865939064545,-0.37902464840186184,-0.5480927503099343,-0.12073618451226129,0.17245185469119229,0.24599090797725187,0.022017768884977293,0.20198659870842203,0.24888908746430988,-0.30760168003703875,0.49634968626804493,-0.13111952303341662,0.2671298986059118,0.11045150046777902,0.4295614499412242,-0.19076892632327955,-0.42392808253862724,0.14439970511882935,0.2683352140841755,-0.27235023516812995,0.34551788584463394,-0.29512677904998585,-0.1579792394263847,0.4223678605465247,-0.7241126944494144,0.21974562507278378,-0.17961614968234865,0.6399509886190934,-0.13436418126150654,0.09902602097455351,-0.3276025852297118,0.2543644247772783,-0.23643435502393786,-0.42520145036885443,0.10411166191542431,-0.12134767073130562,-0.3038664998511414,-0.4352939213665013,-0.25681227604333884,-0.5156312254757683,0.2074848085457236,-0.202490391978683,0.3900026585714362,-0.25504620628405195,0.4992564512350961,0.09245994071551841,-0.09879039874985905,0.005886584961593913,-0.22085492646986501,-0.26986089798145185,-0.23303865393595272,0.3104175469170913,0.08707863176905692,-0.12748755187528102,-0.2957648176867359,0.4838253382792776,0.3344801804842579,0.43373885371942894,-0.38423516669999674,-0.19390720625454055,0.10036807392405019,-0.5661594703294636,-0.31501568126943935,0.17601794908030308,0.06279318880809259,0.37813544071994676,-0.4365899988161922,0.023106732500665857,0.007370115177905546,0.0842502028267802,0.6401033900931159,-0.13939172570055322,0.15406680532495565,-0.23717062781598092,-0.22484669470890942,-0.03847092067542356,0.5064064360757653,-0.29719187926191576,-0.403005390749894,-0.3593472924668419,0.37188341622931304,0.27034620423818917,0.11039350525625259,0.6245322117232701,-0.2533172259065654,-0.16856293370360254,0.2138901515451656,-0.5218666206773235,0.0738430500345222,-0.06537732393302653,0.0370805909277954,0.13683086828606958,0.3766322994150924,0.47689506708742935,0.12519191761936363,0.03098260593344274,-0.24242280651677614,0.34085498333591463,-0.9457789032316863,-0.13078230008425876,0.39644186493129047,0.05648940679808035,0.12717386519129653,0.36529345070517677,-0.03817725646924162,-0.13699870103942197,-0.1851478635992848,0.5441199595602721,-0.5094134760814449,-0.012162773378486471,0.4859184841303913,-0.5225183073080836,-0.09381390124218701,0.06115058481734544,-0.11946197480740872,-0.1489756145256734,0.2033728897463158,0.4164113604384467,0.09102243567552791,-0.2576822599850516,-0.10731220815219719,-0.7144248987088858,0.17511066515365756,0.03885545364521694,0.0691278579319033,0.06833930505434083,-0.04220439735499414,0.08064835417443728,-0.19263039774914756,-0.2305230467279324,-0.4301765288447885,0.3576396751611755],\"type\":\"histogram\",\"xaxis\":\"x\",\"yaxis\":\"y\"},{\"hovertemplate\":\"\\u003cb\\u003eSubjectivity:\\u003c\\u002fb\\u003e %{x:.2f}\\u003cbr\\u003e\\u003cb\\u003ePolarity:\\u003c\\u002fb\\u003e %{y:.2f}\\u003cbr\\u003e\\u003cb\\u003eText:\\u003c\\u002fb\\u003e %{text}\\u003cextra\\u003e\\u003c\\u002fextra\\u003e\",\"marker\":{\"color\":[-0.43699968333186745,0.31409685712143526,-0.6867104910025777,0.32340306551881376,-0.3355114509423263,-0.1582603932873612,-0.23206255809797138,0.03607652550508366,-0.19390000746054298,0.12602674090605448,0.34894341881444463,-0.1837279747133831,-0.2933783784034788,0.036047800356935174,0.014410478902858301,-0.24430351122049654,0.4850080113285751,0.15652581831221613,0.16116520913546625,0.8039381556970414,-0.34080330238923495,0.0781498222864523,0.07948706990136972,-0.02329203749633933,0.09670661628154392,0.291406563496757,0.1857187870101316,0.158611644447625,0.24353788759825262,-0.647936342981678,-0.13320544612530308,0.2772987062671241,0.3613097379014549,0.5149606600401013,-0.6277990732963645,0.42292549421950465,0.10425262921804686,-0.06832648346927556,0.21513040611802733,0.03799850876199789,-0.12698015064130863,-0.11943251913282443,-0.8069307905781218,-0.2614491165129323,-0.10674903913073529,0.5117615267334842,-0.30999979525832794,-0.2744710701269322,0.2575860165572743,-0.09359181974681993,0.35583177033501473,0.4112671821385449,0.2799666147898861,-0.1799928124992866,0.007138856239111862,-0.5672137759615777,-0.29185738000926936,0.0747421669326831,-0.20953476341992808,-0.10033638914811623,-0.20564695089571727,0.07892039711959739,-0.25752471307542646,0.06555238829856386,0.3522774557824722,-0.5006256201976059,-0.18440402815319243,0.08497594691372409,-0.5434171601776471,-0.13493467983892143,0.5207468517807557,0.2916174156697049,0.43441271565880996,-0.36064624815573215,0.05466891421860389,-0.16722431829335052,-0.00642237094719534,-0.05634015708290416,0.22495431115555395,-0.26160739146743606,0.014215164132959483,-0.054681838215967636,-0.19829070504202703,-0.3431051228156916,0.0865423684233546,0.12632829553377722,0.07536970632065165,-0.44565904293765807,0.010435102637662385,-0.481813659749704,-0.21612510970431817,-0.23225550708260073,-0.0930755417864939,-0.21713181517424604,0.3627729212419621,-0.15506869505484516,-0.5990832479431819,0.08636279114558952,0.2437958400162894,0.028771132349758012,-0.24147937543527476,-0.2812687457462314,-0.17412988758692646,0.010339471807294167,0.24988371203867613,-0.4874003670581352,-0.1433377264551546,0.1783569450249534,0.09010579123349283,0.57424980817299,0.10318006209963389,0.19824630113698177,0.2066273926927664,0.10662550697977287,-0.1318944034123109,-0.2923270808274672,0.3317814431727019,0.293992980913738,-0.39063802994774105,-0.30035928260267586,0.1365730940496174,-0.34648175980426815,-0.7085131658241257,-0.22994370364521033,-0.16341149644635328,-0.15435468335284058,-0.31738604052928776,-0.5742221132411673,0.25081538879209375,0.00034423302536554825,-0.31705399569774934,0.2613287955471986,0.32314167586296577,0.25005501908485434,-0.01615429106963941,-0.16386645904521224,0.3073115779374977,-0.4118065442155605,0.17411565763712142,-0.048699847244463704,0.08237898694025787,-0.13230532506620882,-0.6051469215957963,-0.32512973883955437,-0.046908067199127546,0.4707649097608466,0.04118688616520003,0.08036740840401521,0.4151193813292234,-0.12167405629458954,-0.2031657273516663,0.1657647666328532,-0.1487362963674202,-0.004469990860194763,-0.09242961351539768,-0.39463301563789355,0.419628892546561,-0.6049926924689094,-0.021114430097439362,0.14324478353731834,0.5112351317656533,-0.1826938686013681,-0.030440463981228977,-0.01558109526716191,-0.019462683179847923,0.10794892629894703,0.19050834381975204,0.10163591125483315,0.028935233779132465,0.11060646431112305,-0.13202790597773675,-0.1561019172905613,0.021109807468779652,0.19969535140207437,-0.5234974401431565,-0.036253560757426924,0.5487482113636895,0.1916090761467065,-0.2562404574000873,-0.2053747087270794,0.3248235783072699,0.29157014155618327,-0.08866627895919911,-0.11674131732878205,-0.27918691195171186,0.07491799776209689,0.12146384376361766,-0.23931439317805872,0.04613910402525684,-0.22647173348091842,-0.1559404949315242,-0.08566159196169962,0.3566400376748589,0.10551478211317662,-0.06117489678772679,0.6525592185745895,0.6010468228301589,-0.3792243060172502,-0.027677795294245553,0.06155575664937745,-0.0005824322491983577,0.2719477618801038,-0.27180721195978275,-0.3286015584929966,0.22642671635715655,0.3360937202559223,0.19352586508763311,-0.04758315019409635,-0.14783475945442132,0.25929806470204086,-0.1030719000165078,-0.024230674935280094,-0.24719469871754376,-0.2805523724399417,0.05229591150030715,0.34253686652262144,0.689473456874031,-0.4598501024167303,-0.07681736617362143,0.018605612074058687,-0.16904180325593796,0.10339104775538369,0.05980337576214631,0.3367098409578976,-0.2685455200711207,-0.2314940586197687,-0.8254047124312448,-0.15792102864323662,-0.03646889725732192,0.1934413931300884,0.4786654054760531,0.5674645831545204,0.413828585903156,-0.02910983336016005,0.05235515272671048,0.11936812826882809,-0.09643774476404135,0.2183937514708688,-0.006970498531729904,0.5733803745437889,-0.005593465127767426,-0.28459873692259463,0.2623111771014992,0.15157317662921968,0.42361014670203256,-0.11238215550895683,0.005717546751879414,0.02165135636318441,0.06739123501889924,-0.019306478166218288,0.1524312461937931,0.13309841268221376,0.10451663311495679,-0.13762657339485285,-0.3542113256669653,0.25636983624945675,0.5013682645601454,-0.12704412594386738,0.41654232163050164,-0.1725322389492167,-0.08763295548024926,-0.38382731426800837,-0.012066713652919581,-0.023821283710088657,-0.1700350342444072,0.293514908449168,-0.1506716342918573,0.24972410105725681,-0.48124504261303735,-0.3010085074017113,-0.23009749923409356,-0.06684736374964553,-0.33835515560769824,-0.15560302040639215,-0.29254979425251804,-0.0002355208887201665,-0.07677883836499284,-0.12652964631640337,0.18129907922775756,0.04241219614809296,0.02875979466660283,-0.3652189575629761,-0.01944620539440498,0.2485945648124528,0.1865486309316455,-0.27743424398860816,-0.6711948299906593,-0.02739115002926263,0.09281418407534249,0.04580214806028697,0.11687089452941488,0.04336350937308268,0.38218644283277664,0.20696574287663522,-0.03407591263722127,0.0208936101751239,-0.0313144232571524,0.046917682794730006,0.06659328196926112,0.13798180086604478,0.24018793282375817,-0.14148242833018404,0.018039634890055944,0.037325502778322486,-0.2425558598791155,-0.07796861644232596,-0.37660919512542973,-0.26034842031320454,-0.41516530710018756,-0.012179050436625602,0.4232416475634225,-0.4527497204642775,0.09903328995580739,0.06519501045693847,0.08776080322376067,0.3037903806579014,-0.32149432610166423,0.09179231481916125,-0.3429435469146997,-0.028699622542909156,-0.07239287839939204,-0.2578756582963144,-0.1722580527192212,-0.3695086634006162,-0.012253950406088746,-0.24051597459768687,0.060359817228932605,0.16408599997265522,-0.18479431606374017,-0.477858758785823,0.012935727814550362,-0.32955826930591103,-0.22033657430774317,0.1750692935142533,0.24887858845052463,-0.08481826745383392,0.20360319914396047,0.21422245179987653,-0.14389077957265115,0.18466665139807603,-0.04324402683690026,0.17846968351247294,-0.2855889433370871,-0.1729004574670954,0.18011809435448697,0.22582629477648697,-0.03788836229780578,-0.3073210920970179,-0.3285660323800663,0.29233405210479385,-0.03956001660665729,0.2520229374416649,-0.40188950534261686,0.4669135830939306,0.13050792750544354,-0.3229031633158884,-0.2991510337938342,-0.04515025071129008,-0.1744618744919382,0.1663193508880577,0.32663232622527905,-0.13800801231450865,-0.26527197737378,-0.14715121625336153,0.27724978328297695,0.2532590413459781,-0.16598557621244012,-0.530545044338753,-0.19277865939064545,-0.37902464840186184,-0.5480927503099343,-0.12073618451226129,0.17245185469119229,0.24599090797725187,0.022017768884977293,0.20198659870842203,0.24888908746430988,-0.30760168003703875,0.49634968626804493,-0.13111952303341662,0.2671298986059118,0.11045150046777902,0.4295614499412242,-0.19076892632327955,-0.42392808253862724,0.14439970511882935,0.2683352140841755,-0.27235023516812995,0.34551788584463394,-0.29512677904998585,-0.1579792394263847,0.4223678605465247,-0.7241126944494144,0.21974562507278378,-0.17961614968234865,0.6399509886190934,-0.13436418126150654,0.09902602097455351,-0.3276025852297118,0.2543644247772783,-0.23643435502393786,-0.42520145036885443,0.10411166191542431,-0.12134767073130562,-0.3038664998511414,-0.4352939213665013,-0.25681227604333884,-0.5156312254757683,0.2074848085457236,-0.202490391978683,0.3900026585714362,-0.25504620628405195,0.4992564512350961,0.09245994071551841,-0.09879039874985905,0.005886584961593913,-0.22085492646986501,-0.26986089798145185,-0.23303865393595272,0.3104175469170913,0.08707863176905692,-0.12748755187528102,-0.2957648176867359,0.4838253382792776,0.3344801804842579,0.43373885371942894,-0.38423516669999674,-0.19390720625454055,0.10036807392405019,-0.5661594703294636,-0.31501568126943935,0.17601794908030308,0.06279318880809259,0.37813544071994676,-0.4365899988161922,0.023106732500665857,0.007370115177905546,0.0842502028267802,0.6401033900931159,-0.13939172570055322,0.15406680532495565,-0.23717062781598092,-0.22484669470890942,-0.03847092067542356,0.5064064360757653,-0.29719187926191576,-0.403005390749894,-0.3593472924668419,0.37188341622931304,0.27034620423818917,0.11039350525625259,0.6245322117232701,-0.2533172259065654,-0.16856293370360254,0.2138901515451656,-0.5218666206773235,0.0738430500345222,-0.06537732393302653,0.0370805909277954,0.13683086828606958,0.3766322994150924,0.47689506708742935,0.12519191761936363,0.03098260593344274,-0.24242280651677614,0.34085498333591463,-0.9457789032316863,-0.13078230008425876,0.39644186493129047,0.05648940679808035,0.12717386519129653,0.36529345070517677,-0.03817725646924162,-0.13699870103942197,-0.1851478635992848,0.5441199595602721,-0.5094134760814449,-0.012162773378486471,0.4859184841303913,-0.5225183073080836,-0.09381390124218701,0.06115058481734544,-0.11946197480740872,-0.1489756145256734,0.2033728897463158,0.4164113604384467,0.09102243567552791,-0.2576822599850516,-0.10731220815219719,-0.7144248987088858,0.17511066515365756,0.03885545364521694,0.0691278579319033,0.06833930505434083,-0.04220439735499414,0.08064835417443728,-0.19263039774914756,-0.2305230467279324,-0.4301765288447885,0.3576396751611755],\"colorscale\":[[0.0,\"rgb(165,0,38)\"],[0.1,\"rgb(215,48,39)\"],[0.2,\"rgb(244,109,67)\"],[0.3,\"rgb(253,174,97)\"],[0.4,\"rgb(254,224,144)\"],[0.5,\"rgb(255,255,191)\"],[0.6,\"rgb(224,243,248)\"],[0.7,\"rgb(171,217,233)\"],[0.8,\"rgb(116,173,209)\"],[0.9,\"rgb(69,117,180)\"],[1.0,\"rgb(49,54,149)\"]],\"opacity\":0.6,\"size\":5},\"mode\":\"markers\",\"name\":\"Tweets\",\"text\":[\"Having a great day today!...\",\"Feeling a bit down lately...\",\"Just another normal Monday...\",\"So excited for the weekend!...\",\"Work is really stressing me out...\",\"Grateful for my family and friends...\",\"Weather is perfect today...\",\"This week has been challenging...\",\"Looking forward to vacation...\",\"Love spending time with loved ones...\",\"Having a great day today!...\",\"Feeling a bit down lately...\",\"Just another normal Monday...\",\"So excited for the weekend!...\",\"Work is really stressing me out...\",\"Grateful for my family and friends...\",\"Weather is perfect today...\",\"This week has been challenging...\",\"Looking forward to vacation...\",\"Love spending time with loved ones...\",\"Having a great day today!...\",\"Feeling a bit down lately...\",\"Just another normal Monday...\",\"So excited for the weekend!...\",\"Work is really stressing me out...\",\"Grateful for my family and friends...\",\"Weather is perfect today...\",\"This week has been challenging...\",\"Looking forward to vacation...\",\"Love spending time with loved ones...\",\"Having a great day today!...\",\"Feeling a bit down lately...\",\"Just another normal Monday...\",\"So excited for the weekend!...\",\"Work is really stressing me out...\",\"Grateful for my family and friends...\",\"Weather is perfect today...\",\"This week has been challenging...\",\"Looking forward to vacation...\",\"Love spending time with loved ones...\",\"Having a great day today!...\",\"Feeling a bit down lately...\",\"Just another normal Monday...\",\"So excited for the weekend!...\",\"Work is really stressing me out...\",\"Grateful for my family and friends...\",\"Weather is perfect today...\",\"This week has been challenging...\",\"Looking forward to vacation...\",\"Love spending time with loved ones...\",\"Having a great day today!...\",\"Feeling a bit down lately...\",\"Just another normal Monday...\",\"So excited for the weekend!...\",\"Work is really stressing me out...\",\"Grateful for my family and friends...\",\"Weather is perfect today...\",\"This week has been challenging...\",\"Looking forward to vacation...\",\"Love spending time with loved ones...\",\"Having a great day today!...\",\"Feeling a bit down lately...\",\"Just another normal Monday...\",\"So excited for the weekend!...\",\"Work is really stressing me out...\",\"Grateful for my family and friends...\",\"Weather is perfect today...\",\"This week has been challenging...\",\"Looking forward to vacation...\",\"Love spending time with loved ones...\",\"Having a great day today!...\",\"Feeling a bit down lately...\",\"Just another normal Monday...\",\"So excited for the weekend!...\",\"Work is really stressing me out...\",\"Grateful for my family and friends...\",\"Weather is perfect today...\",\"This week has been challenging...\",\"Looking forward to vacation...\",\"Love spending time with loved ones...\",\"Having a great day today!...\",\"Feeling a bit down lately...\",\"Just another normal Monday...\",\"So excited for the weekend!...\",\"Work is really stressing me out...\",\"Grateful for my family and friends...\",\"Weather is perfect today...\",\"This week has been challenging...\",\"Looking forward to vacation...\",\"Love spending time with loved ones...\",\"Having a great day today!...\",\"Feeling a bit down lately...\",\"Just another normal Monday...\",\"So excited for the weekend!...\",\"Work is really stressing me out...\",\"Grateful for my family and friends...\",\"Weather is perfect today...\",\"This week has been challenging...\",\"Looking forward to vacation...\",\"Love spending time with loved ones...\",\"Having a great day today!...\",\"Feeling a bit down lately...\",\"Just another normal Monday...\",\"So excited for the weekend!...\",\"Work is really stressing me out...\",\"Grateful for my family and friends...\",\"Weather is perfect today...\",\"This week has been challenging...\",\"Looking forward to vacation...\",\"Love spending time with loved ones...\",\"Having a great day today!...\",\"Feeling a bit down lately...\",\"Just another normal Monday...\",\"So excited for the weekend!...\",\"Work is really stressing me out...\",\"Grateful for my family and friends...\",\"Weather is perfect today...\",\"This week has been challenging...\",\"Looking forward to vacation...\",\"Love spending time with loved ones...\",\"Having a great day today!...\",\"Feeling a bit down lately...\",\"Just another normal Monday...\",\"So excited for the weekend!...\",\"Work is really stressing me out...\",\"Grateful for my family and friends...\",\"Weather is perfect today...\",\"This week has been challenging...\",\"Looking forward to vacation...\",\"Love spending time with loved ones...\",\"Having a great day today!...\",\"Feeling a bit down lately...\",\"Just another normal Monday...\",\"So excited for the weekend!...\",\"Work is really stressing me out...\",\"Grateful for my family and friends...\",\"Weather is perfect today...\",\"This week has been challenging...\",\"Looking forward to vacation...\",\"Love spending time with loved ones...\",\"Having a great day today!...\",\"Feeling a bit down lately...\",\"Just another normal Monday...\",\"So excited for the weekend!...\",\"Work is really stressing me out...\",\"Grateful for my family and friends...\",\"Weather is perfect today...\",\"This week has been challenging...\",\"Looking forward to vacation...\",\"Love spending time with loved ones...\",\"Having a great day today!...\",\"Feeling a bit down lately...\",\"Just another normal Monday...\",\"So excited for the weekend!...\",\"Work is really stressing me out...\",\"Grateful for my family and friends...\",\"Weather is perfect today...\",\"This week has been challenging...\",\"Looking forward to vacation...\",\"Love spending time with loved ones...\",\"Having a great day today!...\",\"Feeling a bit down lately...\",\"Just another normal Monday...\",\"So excited for the weekend!...\",\"Work is really stressing me out...\",\"Grateful for my family and friends...\",\"Weather is perfect today...\",\"This week has been challenging...\",\"Looking forward to vacation...\",\"Love spending time with loved ones...\",\"Having a great day today!...\",\"Feeling a bit down lately...\",\"Just another normal Monday...\",\"So excited for the weekend!...\",\"Work is really stressing me out...\",\"Grateful for my family and friends...\",\"Weather is perfect today...\",\"This week has been challenging...\",\"Looking forward to vacation...\",\"Love spending time with loved ones...\",\"Having a great day today!...\",\"Feeling a bit down lately...\",\"Just another normal Monday...\",\"So excited for the weekend!...\",\"Work is really stressing me out...\",\"Grateful for my family and friends...\",\"Weather is perfect today...\",\"This week has been challenging...\",\"Looking forward to vacation...\",\"Love spending time with loved ones...\",\"Having a great day today!...\",\"Feeling a bit down lately...\",\"Just another normal Monday...\",\"So excited for the weekend!...\",\"Work is really stressing me out...\",\"Grateful for my family and friends...\",\"Weather is perfect today...\",\"This week has been challenging...\",\"Looking forward to vacation...\",\"Love spending time with loved ones...\",\"Having a great day today!...\",\"Feeling a bit down lately...\",\"Just another normal Monday...\",\"So excited for the weekend!...\",\"Work is really stressing me out...\",\"Grateful for my family and friends...\",\"Weather is perfect today...\",\"This week has been challenging...\",\"Looking forward to vacation...\",\"Love spending time with loved ones...\",\"Having a great day today!...\",\"Feeling a bit down lately...\",\"Just another normal Monday...\",\"So excited for the weekend!...\",\"Work is really stressing me out...\",\"Grateful for my family and friends...\",\"Weather is perfect today...\",\"This week has been challenging...\",\"Looking forward to vacation...\",\"Love spending time with loved ones...\",\"Having a great day today!...\",\"Feeling a bit down lately...\",\"Just another normal Monday...\",\"So excited for the weekend!...\",\"Work is really stressing me out...\",\"Grateful for my family and friends...\",\"Weather is perfect today...\",\"This week has been challenging...\",\"Looking forward to vacation...\",\"Love spending time with loved ones...\",\"Having a great day today!...\",\"Feeling a bit down lately...\",\"Just another normal Monday...\",\"So excited for the weekend!...\",\"Work is really stressing me out...\",\"Grateful for my family and friends...\",\"Weather is perfect today...\",\"This week has been challenging...\",\"Looking forward to vacation...\",\"Love spending time with loved ones...\",\"Having a great day today!...\",\"Feeling a bit down lately...\",\"Just another normal Monday...\",\"So excited for the weekend!...\",\"Work is really stressing me out...\",\"Grateful for my family and friends...\",\"Weather is perfect today...\",\"This week has been challenging...\",\"Looking forward to vacation...\",\"Love spending time with loved ones...\",\"Having a great day today!...\",\"Feeling a bit down lately...\",\"Just another normal Monday...\",\"So excited for the weekend!...\",\"Work is really stressing me out...\",\"Grateful for my family and friends...\",\"Weather is perfect today...\",\"This week has been challenging...\",\"Looking forward to vacation...\",\"Love spending time with loved ones...\",\"Having a great day today!...\",\"Feeling a bit down lately...\",\"Just another normal Monday...\",\"So excited for the weekend!...\",\"Work is really stressing me out...\",\"Grateful for my family and friends...\",\"Weather is perfect today...\",\"This week has been challenging...\",\"Looking forward to vacation...\",\"Love spending time with loved ones...\",\"Having a great day today!...\",\"Feeling a bit down lately...\",\"Just another normal Monday...\",\"So excited for the weekend!...\",\"Work is really stressing me out...\",\"Grateful for my family and friends...\",\"Weather is perfect today...\",\"This week has been challenging...\",\"Looking forward to vacation...\",\"Love spending time with loved ones...\",\"Having a great day today!...\",\"Feeling a bit down lately...\",\"Just another normal Monday...\",\"So excited for the weekend!...\",\"Work is really stressing me out...\",\"Grateful for my family and friends...\",\"Weather is perfect today...\",\"This week has been challenging...\",\"Looking forward to vacation...\",\"Love spending time with loved ones...\",\"Having a great day today!...\",\"Feeling a bit down lately...\",\"Just another normal Monday...\",\"So excited for the weekend!...\",\"Work is really stressing me out...\",\"Grateful for my family and friends...\",\"Weather is perfect today...\",\"This week has been challenging...\",\"Looking forward to vacation...\",\"Love spending time with loved ones...\",\"Having a great day today!...\",\"Feeling a bit down lately...\",\"Just another normal Monday...\",\"So excited for the weekend!...\",\"Work is really stressing me out...\",\"Grateful for my family and friends...\",\"Weather is perfect today...\",\"This week has been challenging...\",\"Looking forward to vacation...\",\"Love spending time with loved ones...\",\"Having a great day today!...\",\"Feeling a bit down lately...\",\"Just another normal Monday...\",\"So excited for the weekend!...\",\"Work is really stressing me out...\",\"Grateful for my family and friends...\",\"Weather is perfect today...\",\"This week has been challenging...\",\"Looking forward to vacation...\",\"Love spending time with loved ones...\",\"Having a great day today!...\",\"Feeling a bit down lately...\",\"Just another normal Monday...\",\"So excited for the weekend!...\",\"Work is really stressing me out...\",\"Grateful for my family and friends...\",\"Weather is perfect today...\",\"This week has been challenging...\",\"Looking forward to vacation...\",\"Love spending time with loved ones...\",\"Having a great day today!...\",\"Feeling a bit down lately...\",\"Just another normal Monday...\",\"So excited for the weekend!...\",\"Work is really stressing me out...\",\"Grateful for my family and friends...\",\"Weather is perfect today...\",\"This week has been challenging...\",\"Looking forward to vacation...\",\"Love spending time with loved ones...\",\"Having a great day today!...\",\"Feeling a bit down lately...\",\"Just another normal Monday...\",\"So excited for the weekend!...\",\"Work is really stressing me out...\",\"Grateful for my family and friends...\",\"Weather is perfect today...\",\"This week has been challenging...\",\"Looking forward to vacation...\",\"Love spending time with loved ones...\",\"Having a great day today!...\",\"Feeling a bit down lately...\",\"Just another normal Monday...\",\"So excited for the weekend!...\",\"Work is really stressing me out...\",\"Grateful for my family and friends...\",\"Weather is perfect today...\",\"This week has been challenging...\",\"Looking forward to vacation...\",\"Love spending time with loved ones...\",\"Having a great day today!...\",\"Feeling a bit down lately...\",\"Just another normal Monday...\",\"So excited for the weekend!...\",\"Work is really stressing me out...\",\"Grateful for my family and friends...\",\"Weather is perfect today...\",\"This week has been challenging...\",\"Looking forward to vacation...\",\"Love spending time with loved ones...\",\"Having a great day today!...\",\"Feeling a bit down lately...\",\"Just another normal Monday...\",\"So excited for the weekend!...\",\"Work is really stressing me out...\",\"Grateful for my family and friends...\",\"Weather is perfect today...\",\"This week has been challenging...\",\"Looking forward to vacation...\",\"Love spending time with loved ones...\",\"Having a great day today!...\",\"Feeling a bit down lately...\",\"Just another normal Monday...\",\"So excited for the weekend!...\",\"Work is really stressing me out...\",\"Grateful for my family and friends...\",\"Weather is perfect today...\",\"This week has been challenging...\",\"Looking forward to vacation...\",\"Love spending time with loved ones...\",\"Having a great day today!...\",\"Feeling a bit down lately...\",\"Just another normal Monday...\",\"So excited for the weekend!...\",\"Work is really stressing me out...\",\"Grateful for my family and friends...\",\"Weather is perfect today...\",\"This week has been challenging...\",\"Looking forward to vacation...\",\"Love spending time with loved ones...\",\"Having a great day today!...\",\"Feeling a bit down lately...\",\"Just another normal Monday...\",\"So excited for the weekend!...\",\"Work is really stressing me out...\",\"Grateful for my family and friends...\",\"Weather is perfect today...\",\"This week has been challenging...\",\"Looking forward to vacation...\",\"Love spending time with loved ones...\",\"Having a great day today!...\",\"Feeling a bit down lately...\",\"Just another normal Monday...\",\"So excited for the weekend!...\",\"Work is really stressing me out...\",\"Grateful for my family and friends...\",\"Weather is perfect today...\",\"This week has been challenging...\",\"Looking forward to vacation...\",\"Love spending time with loved ones...\",\"Having a great day today!...\",\"Feeling a bit down lately...\",\"Just another normal Monday...\",\"So excited for the weekend!...\",\"Work is really stressing me out...\",\"Grateful for my family and friends...\",\"Weather is perfect today...\",\"This week has been challenging...\",\"Looking forward to vacation...\",\"Love spending time with loved ones...\",\"Having a great day today!...\",\"Feeling a bit down lately...\",\"Just another normal Monday...\",\"So excited for the weekend!...\",\"Work is really stressing me out...\",\"Grateful for my family and friends...\",\"Weather is perfect today...\",\"This week has been challenging...\",\"Looking forward to vacation...\",\"Love spending time with loved ones...\",\"Having a great day today!...\",\"Feeling a bit down lately...\",\"Just another normal Monday...\",\"So excited for the weekend!...\",\"Work is really stressing me out...\",\"Grateful for my family and friends...\",\"Weather is perfect today...\",\"This week has been challenging...\",\"Looking forward to vacation...\",\"Love spending time with loved ones...\",\"Having a great day today!...\",\"Feeling a bit down lately...\",\"Just another normal Monday...\",\"So excited for the weekend!...\",\"Work is really stressing me out...\",\"Grateful for my family and friends...\",\"Weather is perfect today...\",\"This week has been challenging...\",\"Looking forward to vacation...\",\"Love spending time with loved ones...\",\"Having a great day today!...\",\"Feeling a bit down lately...\",\"Just another normal Monday...\",\"So excited for the weekend!...\",\"Work is really stressing me out...\",\"Grateful for my family and friends...\",\"Weather is perfect today...\",\"This week has been challenging...\",\"Looking forward to vacation...\",\"Love spending time with loved ones...\",\"Having a great day today!...\",\"Feeling a bit down lately...\",\"Just another normal Monday...\",\"So excited for the weekend!...\",\"Work is really stressing me out...\",\"Grateful for my family and friends...\",\"Weather is perfect today...\",\"This week has been challenging...\",\"Looking forward to vacation...\",\"Love spending time with loved ones...\",\"Having a great day today!...\",\"Feeling a bit down lately...\",\"Just another normal Monday...\",\"So excited for the weekend!...\",\"Work is really stressing me out...\",\"Grateful for my family and friends...\",\"Weather is perfect today...\",\"This week has been challenging...\",\"Looking forward to vacation...\",\"Love spending time with loved ones...\",\"Having a great day today!...\",\"Feeling a bit down lately...\",\"Just another normal Monday...\",\"So excited for the weekend!...\",\"Work is really stressing me out...\",\"Grateful for my family and friends...\",\"Weather is perfect today...\",\"This week has been challenging...\",\"Looking forward to vacation...\",\"Love spending time with loved ones...\"],\"x\":[0.8876119224662268,0.10403164425769651,0.9920600272232898,0.04679916762194469,0.4505268946153165,0.9050144853657962,0.44978709578533793,0.9059079954655174,0.40427058733108134,0.8762038784055969,0.9476751282630604,0.5989454766151894,0.6941847074156005,0.1779258336649383,0.21163430495129054,0.07658800290599754,0.25645507357327135,0.7935026857179783,0.10078418499346453,0.5275444123487367,0.22354959060615076,0.6385313627270989,0.05706101921503015,0.38769675383239566,0.04472163260155759,0.11480088129631105,0.9892676884682565,0.7076949477057283,0.3968529063331262,0.9244595915470393,0.9384966949343633,0.12110821910477787,0.8940009397564135,0.4514131871681981,0.1598826750627368,0.40831950165722564,0.14760808590753716,0.29699703114153675,0.9667321695645446,0.24355087772634432,0.13593833309513192,0.482211149103416,0.0023279840785047634,0.49557882439414136,0.5969595356613321,0.7633474942809803,0.023129573502602918,0.5188989530178489,0.969188063073057,0.5726320277390512,0.034292847410780536,0.04603456294863517,0.3967938400548835,0.9932823913308932,0.756942366873704,0.25265304077508044,0.47291363302939493,0.33518764637027765,0.7892911188868346,0.6358585426347317,0.9577897414881597,0.4825210641919092,0.04435927554486807,0.7202557175984593,0.6370689817977235,0.7167368796363821,0.8851071450810977,0.18463749217568937,0.18591074773481875,0.7786488560247574,0.8057416245031395,0.5368228911805524,0.3377265009974443,0.2593010797043953,0.714921753068082,0.365829710038856,0.25124788908878004,0.19174002117904954,0.08684292181617459,0.3548679173561755,0.34965844870339713,0.8450659187091557,0.1923293625890239,0.3593470319219795,0.9728960607698056,0.12993901120941453,0.11246972682699996,0.08629062495287887,0.2958391457328805,0.17210538242343898,0.802166779007701,0.5612828861852782,0.9130782649928195,0.4959397672971544,0.26494171301325276,0.500614808319831,0.4056454605190345,0.20969691933128065,0.6079222883684884,0.07604318722536496,0.6904370342930339,0.5622503192682464,0.4838901452251466,0.5404257119883048,0.3187947588366047,0.9153376485502581,0.31155837749511983,0.5258298115267637,0.3505137256881651,0.4134641016952372,0.15867248846304882,0.437799329492103,0.7840444148096026,0.5564753765024785,0.8062953184469436,0.841228974074861,0.5106603275138168,0.6791401028286839,0.4168688842814843,0.33480148268284804,0.7053335219561374,0.3120548306053772,0.3390402245601727,0.8651930638654279,0.07791029344804712,0.343090212765775,0.3689328476168433,0.47240870967310744,0.06453274274652177,0.40103041768499803,0.38540509429109837,0.03248601020517439,0.23281148300892318,0.8805896648039214,0.8359769098298058,0.11296505018352576,0.7635915853268012,0.20839148231883053,0.37599862699995323,0.5020242523486356,0.8011426883187666,0.703669257702248,0.0020544969692686266,0.9251120827503742,0.7057603696033584,0.2475506403360368,0.7501741527509344,0.8093014627771161,0.27749235737727784,0.5446192290160399,0.8031588956650354,0.47953592178353777,0.42201079417859355,0.6574976094091834,0.28970932288148954,0.6257848821935555,0.4843555377102198,0.39938500663692433,0.7947298696338077,0.14593413206741845,0.3584311935160873,0.5238695085284387,0.2534273011723601,0.6166548504364789,0.4022131045140309,0.14371322745297066,0.27479560417197424,0.6696118324809603,0.45788560226938724,0.7124728362918161,0.7818641375988856,0.4752514304333051,0.911197350670276,0.7126439904761238,0.19943111156394766,0.5037452765182829,0.05278626458692515,0.7275609647542057,0.9372700542432041,0.3181001878491363,0.7644817282224827,0.37932233189939735,0.6666102225077818,0.5450910071683392,0.8625631845464377,0.8244754710664548,0.8301789983323258,0.941336994454681,0.7568458021487268,0.43645926491859066,0.8891135624340845,0.651475630738007,0.3665156147457461,0.621592106209043,0.5680493091270945,0.8325078812873312,0.7919008705183876,0.7495593649928762,0.7775204085695709,0.5359190499628592,0.49581181689448695,0.48332838331858796,0.6790885161885948,0.9531963103289589,0.7285750373594152,0.46882871951451444,0.46664539403487526,0.6482786219830495,0.3198841644658994,0.6642791361227073,0.5222060804967443,0.37892162651200545,0.13368484844245565,0.5868524805497297,0.5164451635589082,0.6793800957660072,0.06635742631823915,0.11243570780782874,0.13669693605911848,0.4448020894201703,0.8532190387598187,0.43260130682118236,0.3628301494561159,0.6446740058589855,0.12389397215263553,0.18657687753405394,0.8370140870168913,0.07809268505903622,0.9513079384232269,0.155465861476637,0.9745098834022207,0.8917744920532517,0.465151386578194,0.08211816736765276,0.33845774060871214,0.5164896497825106,0.07829351236669724,0.3502823884369738,0.9683188675098539,0.08846411871634319,0.8601740749458529,0.8516761760604253,0.04255499191206613,0.9240709880397234,0.4279100162431926,0.5612940242436658,0.3206706035657527,0.04497206903188944,0.8027569587798224,0.5080292163154346,0.2735043214746964,0.7706698551633342,0.4803739554264458,0.5295279126244038,0.38337641833632163,0.9543385230848781,0.6619182898611317,0.5943384288470067,0.026119142502255333,0.2668760491724971,0.8446642390444467,0.5104099812586685,0.6573557425000374,0.21523431325369546,0.6997039915995974,0.29845660748407976,0.2879735580830385,0.2103939830523588,0.2749997800687074,0.7595070897069613,0.3312502056332348,0.9739061364637409,0.6421404650950987,0.8674293527423557,0.15839143438438896,0.1844114184005573,0.03539780980029095,0.4367675094405089,0.4696707880547055,0.6419873336123166,0.1910526457573164,0.42645431525405064,0.8963060896648974,0.06374671847999924,0.2819086862807565,0.86524349453472,0.7169692488755562,0.5626292619726876,0.4589182778131563,0.35089517396847814,0.7354607639022183,0.2765320621355911,0.41635821510343907,0.06264938247881258,0.7581008805923778,0.7305846232335412,0.19993832939344935,0.18426876169333728,0.27746165085409824,0.4329620522245705,0.29339364678794855,0.8866383578550981,0.6231657181881438,0.029391654580307347,0.0561022894476334,0.7375001051397665,0.5542805165492617,0.3862162334213879,0.8606917787226817,0.0000510053358439011,0.7608165067372733,0.4582523646668035,0.35694185329336214,0.5447492549348347,0.8842069973356467,0.026066223506611474,0.23588783278762437,0.910807002254501,0.8295474977048403,0.5048718796058133,0.8929618309791275,0.11126346272484955,0.13574910241270732,0.5075369665145754,0.6753359967517591,0.1587514800167329,0.8421493060599416,0.29624066266722604,0.3008170518402219,0.10409009358154464,0.5604750182112167,0.5016949961985496,0.3869315896088311,0.8814408849421529,0.35755295808986054,0.07608029607556421,0.7070926207464296,0.24267313698818793,0.6053090276074634,0.181153428739651,0.647139546306117,0.3675669114344492,0.0793484845254111,0.51430868649591,0.13752766146838535,0.4832390952688168,0.19907373464954348,0.6020528292291965,0.39322777492266237,0.24634826058588144,0.5666935146292138,0.6020357334758951,0.45942281736219415,0.9122851713137083,0.2584641226201456,0.3940425007327496,0.3052130957969681,0.29268710299884215,0.47411484295532913,0.5759516061852262,0.6459852140008243,0.8555199229254977,0.039401953423409464,0.12380291743143046,0.9393566560378666,0.8282014548397272,0.7642110502514448,0.5534199160135411,0.1142967064297199,0.6434166745997769,0.9279597472934372,0.8673334549835646,0.650203629485606,0.42264133155297456,0.7882842609775372,0.6797029597127641,0.6790336172565935,0.15815869147988104,0.7688517884081894,0.9152176169012712,0.6029754706679324,0.9262224184997182,0.30201079018844323,0.24554950098035522,0.522362830965224,0.26963389198154863,0.486688819483458,0.2537039030026297,0.9088197586076838,0.9591419236205507,0.04068448739564845,0.6022314373688554,0.9546753246826039,0.007486029904319125,0.3075222363214779,0.8594318402834871,0.9860124683810135,0.7699016945409952,0.4421026919641964,0.4034203006424516,0.7790316024406829,0.24456924114645073,0.7101142264651636,0.2628344333286309,0.05592571823552672,0.9645812714031952,0.5678352520545952,0.5470051277640017,0.5856629214177124,0.9182817342686073,0.3594617876923146,0.31332936542243783,0.04127618777254716,0.5875197620938052,0.5331885058932087,0.05058878797985833,0.861271013247529,0.5261428499516154,0.8313014850079761,0.7492328561104336,0.5934669137712296,0.23054845487399955,0.004044212169449057,0.2086634260252067,0.21000286111355249,0.9094308360658101,0.19618625062987805,0.06785346304630435,0.24389501718666218,0.0495071324529921,0.7816134968272863,0.2744163986303414,0.7002736793077883,0.47306128304088735,0.1760465554682371,0.5655915512329605,0.04549775281870572,0.5219843760343468,0.8679641053170004,0.6067504404776675,0.7401168425695211,0.16284749389553632,0.0838502149487147,0.29049507255210916,0.31892546705915437,0.8483827585733521,0.3268442420404055,0.22676296413158514,0.6076976721579851,0.9067764434220847,0.6941519913563207,0.7734009581005606,0.20578995018354396,0.8228191527706036,0.6194931400739279,0.9056580221502992,0.39267021065478724,0.4861678431717792,0.015134495859617014,0.04908323089867661,0.4715256031912467,0.8718337846901193,0.8844551284881139,0.4160570400335041,0.005761468122330915,0.3406160614782696,0.9632440539812865,0.23016729155680715,0.16973583809288462,0.0551624305893641,0.8861645550563397,0.5354701626765462,0.8623060548040489,0.6285310759461585,0.3434109999532452,0.5912118200749147,0.6173612058529775,0.6014175315689195,0.37672477609634814,0.5995283611236284,0.7502597370303331,0.7690347101643956,0.8756271420956446,0.4410250438840212,0.10643556323714576,0.5600411266004467,0.4235990903264468,0.045869448540561075,0.14870688656163733,0.6863817395255614,0.0820837194542049,0.8579553632349217,0.057002167673538384,0.8712803200518545,0.4633615970187901,0.4018884773960899,0.3859255410078055,0.37118897740610746,0.3046809360281757,0.6580273811092056],\"y\":[-0.43699968333186745,0.31409685712143526,-0.6867104910025777,0.32340306551881376,-0.3355114509423263,-0.1582603932873612,-0.23206255809797138,0.03607652550508366,-0.19390000746054298,0.12602674090605448,0.34894341881444463,-0.1837279747133831,-0.2933783784034788,0.036047800356935174,0.014410478902858301,-0.24430351122049654,0.4850080113285751,0.15652581831221613,0.16116520913546625,0.8039381556970414,-0.34080330238923495,0.0781498222864523,0.07948706990136972,-0.02329203749633933,0.09670661628154392,0.291406563496757,0.1857187870101316,0.158611644447625,0.24353788759825262,-0.647936342981678,-0.13320544612530308,0.2772987062671241,0.3613097379014549,0.5149606600401013,-0.6277990732963645,0.42292549421950465,0.10425262921804686,-0.06832648346927556,0.21513040611802733,0.03799850876199789,-0.12698015064130863,-0.11943251913282443,-0.8069307905781218,-0.2614491165129323,-0.10674903913073529,0.5117615267334842,-0.30999979525832794,-0.2744710701269322,0.2575860165572743,-0.09359181974681993,0.35583177033501473,0.4112671821385449,0.2799666147898861,-0.1799928124992866,0.007138856239111862,-0.5672137759615777,-0.29185738000926936,0.0747421669326831,-0.20953476341992808,-0.10033638914811623,-0.20564695089571727,0.07892039711959739,-0.25752471307542646,0.06555238829856386,0.3522774557824722,-0.5006256201976059,-0.18440402815319243,0.08497594691372409,-0.5434171601776471,-0.13493467983892143,0.5207468517807557,0.2916174156697049,0.43441271565880996,-0.36064624815573215,0.05466891421860389,-0.16722431829335052,-0.00642237094719534,-0.05634015708290416,0.22495431115555395,-0.26160739146743606,0.014215164132959483,-0.054681838215967636,-0.19829070504202703,-0.3431051228156916,0.0865423684233546,0.12632829553377722,0.07536970632065165,-0.44565904293765807,0.010435102637662385,-0.481813659749704,-0.21612510970431817,-0.23225550708260073,-0.0930755417864939,-0.21713181517424604,0.3627729212419621,-0.15506869505484516,-0.5990832479431819,0.08636279114558952,0.2437958400162894,0.028771132349758012,-0.24147937543527476,-0.2812687457462314,-0.17412988758692646,0.010339471807294167,0.24988371203867613,-0.4874003670581352,-0.1433377264551546,0.1783569450249534,0.09010579123349283,0.57424980817299,0.10318006209963389,0.19824630113698177,0.2066273926927664,0.10662550697977287,-0.1318944034123109,-0.2923270808274672,0.3317814431727019,0.293992980913738,-0.39063802994774105,-0.30035928260267586,0.1365730940496174,-0.34648175980426815,-0.7085131658241257,-0.22994370364521033,-0.16341149644635328,-0.15435468335284058,-0.31738604052928776,-0.5742221132411673,0.25081538879209375,0.00034423302536554825,-0.31705399569774934,0.2613287955471986,0.32314167586296577,0.25005501908485434,-0.01615429106963941,-0.16386645904521224,0.3073115779374977,-0.4118065442155605,0.17411565763712142,-0.048699847244463704,0.08237898694025787,-0.13230532506620882,-0.6051469215957963,-0.32512973883955437,-0.046908067199127546,0.4707649097608466,0.04118688616520003,0.08036740840401521,0.4151193813292234,-0.12167405629458954,-0.2031657273516663,0.1657647666328532,-0.1487362963674202,-0.004469990860194763,-0.09242961351539768,-0.39463301563789355,0.419628892546561,-0.6049926924689094,-0.021114430097439362,0.14324478353731834,0.5112351317656533,-0.1826938686013681,-0.030440463981228977,-0.01558109526716191,-0.019462683179847923,0.10794892629894703,0.19050834381975204,0.10163591125483315,0.028935233779132465,0.11060646431112305,-0.13202790597773675,-0.1561019172905613,0.021109807468779652,0.19969535140207437,-0.5234974401431565,-0.036253560757426924,0.5487482113636895,0.1916090761467065,-0.2562404574000873,-0.2053747087270794,0.3248235783072699,0.29157014155618327,-0.08866627895919911,-0.11674131732878205,-0.27918691195171186,0.07491799776209689,0.12146384376361766,-0.23931439317805872,0.04613910402525684,-0.22647173348091842,-0.1559404949315242,-0.08566159196169962,0.3566400376748589,0.10551478211317662,-0.06117489678772679,0.6525592185745895,0.6010468228301589,-0.3792243060172502,-0.027677795294245553,0.06155575664937745,-0.0005824322491983577,0.2719477618801038,-0.27180721195978275,-0.3286015584929966,0.22642671635715655,0.3360937202559223,0.19352586508763311,-0.04758315019409635,-0.14783475945442132,0.25929806470204086,-0.1030719000165078,-0.024230674935280094,-0.24719469871754376,-0.2805523724399417,0.05229591150030715,0.34253686652262144,0.689473456874031,-0.4598501024167303,-0.07681736617362143,0.018605612074058687,-0.16904180325593796,0.10339104775538369,0.05980337576214631,0.3367098409578976,-0.2685455200711207,-0.2314940586197687,-0.8254047124312448,-0.15792102864323662,-0.03646889725732192,0.1934413931300884,0.4786654054760531,0.5674645831545204,0.413828585903156,-0.02910983336016005,0.05235515272671048,0.11936812826882809,-0.09643774476404135,0.2183937514708688,-0.006970498531729904,0.5733803745437889,-0.005593465127767426,-0.28459873692259463,0.2623111771014992,0.15157317662921968,0.42361014670203256,-0.11238215550895683,0.005717546751879414,0.02165135636318441,0.06739123501889924,-0.019306478166218288,0.1524312461937931,0.13309841268221376,0.10451663311495679,-0.13762657339485285,-0.3542113256669653,0.25636983624945675,0.5013682645601454,-0.12704412594386738,0.41654232163050164,-0.1725322389492167,-0.08763295548024926,-0.38382731426800837,-0.012066713652919581,-0.023821283710088657,-0.1700350342444072,0.293514908449168,-0.1506716342918573,0.24972410105725681,-0.48124504261303735,-0.3010085074017113,-0.23009749923409356,-0.06684736374964553,-0.33835515560769824,-0.15560302040639215,-0.29254979425251804,-0.0002355208887201665,-0.07677883836499284,-0.12652964631640337,0.18129907922775756,0.04241219614809296,0.02875979466660283,-0.3652189575629761,-0.01944620539440498,0.2485945648124528,0.1865486309316455,-0.27743424398860816,-0.6711948299906593,-0.02739115002926263,0.09281418407534249,0.04580214806028697,0.11687089452941488,0.04336350937308268,0.38218644283277664,0.20696574287663522,-0.03407591263722127,0.0208936101751239,-0.0313144232571524,0.046917682794730006,0.06659328196926112,0.13798180086604478,0.24018793282375817,-0.14148242833018404,0.018039634890055944,0.037325502778322486,-0.2425558598791155,-0.07796861644232596,-0.37660919512542973,-0.26034842031320454,-0.41516530710018756,-0.012179050436625602,0.4232416475634225,-0.4527497204642775,0.09903328995580739,0.06519501045693847,0.08776080322376067,0.3037903806579014,-0.32149432610166423,0.09179231481916125,-0.3429435469146997,-0.028699622542909156,-0.07239287839939204,-0.2578756582963144,-0.1722580527192212,-0.3695086634006162,-0.012253950406088746,-0.24051597459768687,0.060359817228932605,0.16408599997265522,-0.18479431606374017,-0.477858758785823,0.012935727814550362,-0.32955826930591103,-0.22033657430774317,0.1750692935142533,0.24887858845052463,-0.08481826745383392,0.20360319914396047,0.21422245179987653,-0.14389077957265115,0.18466665139807603,-0.04324402683690026,0.17846968351247294,-0.2855889433370871,-0.1729004574670954,0.18011809435448697,0.22582629477648697,-0.03788836229780578,-0.3073210920970179,-0.3285660323800663,0.29233405210479385,-0.03956001660665729,0.2520229374416649,-0.40188950534261686,0.4669135830939306,0.13050792750544354,-0.3229031633158884,-0.2991510337938342,-0.04515025071129008,-0.1744618744919382,0.1663193508880577,0.32663232622527905,-0.13800801231450865,-0.26527197737378,-0.14715121625336153,0.27724978328297695,0.2532590413459781,-0.16598557621244012,-0.530545044338753,-0.19277865939064545,-0.37902464840186184,-0.5480927503099343,-0.12073618451226129,0.17245185469119229,0.24599090797725187,0.022017768884977293,0.20198659870842203,0.24888908746430988,-0.30760168003703875,0.49634968626804493,-0.13111952303341662,0.2671298986059118,0.11045150046777902,0.4295614499412242,-0.19076892632327955,-0.42392808253862724,0.14439970511882935,0.2683352140841755,-0.27235023516812995,0.34551788584463394,-0.29512677904998585,-0.1579792394263847,0.4223678605465247,-0.7241126944494144,0.21974562507278378,-0.17961614968234865,0.6399509886190934,-0.13436418126150654,0.09902602097455351,-0.3276025852297118,0.2543644247772783,-0.23643435502393786,-0.42520145036885443,0.10411166191542431,-0.12134767073130562,-0.3038664998511414,-0.4352939213665013,-0.25681227604333884,-0.5156312254757683,0.2074848085457236,-0.202490391978683,0.3900026585714362,-0.25504620628405195,0.4992564512350961,0.09245994071551841,-0.09879039874985905,0.005886584961593913,-0.22085492646986501,-0.26986089798145185,-0.23303865393595272,0.3104175469170913,0.08707863176905692,-0.12748755187528102,-0.2957648176867359,0.4838253382792776,0.3344801804842579,0.43373885371942894,-0.38423516669999674,-0.19390720625454055,0.10036807392405019,-0.5661594703294636,-0.31501568126943935,0.17601794908030308,0.06279318880809259,0.37813544071994676,-0.4365899988161922,0.023106732500665857,0.007370115177905546,0.0842502028267802,0.6401033900931159,-0.13939172570055322,0.15406680532495565,-0.23717062781598092,-0.22484669470890942,-0.03847092067542356,0.5064064360757653,-0.29719187926191576,-0.403005390749894,-0.3593472924668419,0.37188341622931304,0.27034620423818917,0.11039350525625259,0.6245322117232701,-0.2533172259065654,-0.16856293370360254,0.2138901515451656,-0.5218666206773235,0.0738430500345222,-0.06537732393302653,0.0370805909277954,0.13683086828606958,0.3766322994150924,0.47689506708742935,0.12519191761936363,0.03098260593344274,-0.24242280651677614,0.34085498333591463,-0.9457789032316863,-0.13078230008425876,0.39644186493129047,0.05648940679808035,0.12717386519129653,0.36529345070517677,-0.03817725646924162,-0.13699870103942197,-0.1851478635992848,0.5441199595602721,-0.5094134760814449,-0.012162773378486471,0.4859184841303913,-0.5225183073080836,-0.09381390124218701,0.06115058481734544,-0.11946197480740872,-0.1489756145256734,0.2033728897463158,0.4164113604384467,0.09102243567552791,-0.2576822599850516,-0.10731220815219719,-0.7144248987088858,0.17511066515365756,0.03885545364521694,0.0691278579319033,0.06833930505434083,-0.04220439735499414,0.08064835417443728,-0.19263039774914756,-0.2305230467279324,-0.4301765288447885,0.3576396751611755],\"type\":\"scatter\",\"xaxis\":\"x2\",\"yaxis\":\"y2\"},{\"line\":{\"width\":2},\"mode\":\"lines+markers\",\"name\":\"Positive Tweets\",\"x\":[0,1,2,3,4,5,6,7,8,9,10,11,12,13,14,15,16,17,18,19,20,21,22,23],\"y\":[9,8,8,9,8,9,8,8,9,8,9,8,8,9,8,9,8,8,9,8,8,8,8,8],\"type\":\"scatter\",\"xaxis\":\"x3\",\"yaxis\":\"y3\"},{\"line\":{\"width\":2},\"mode\":\"lines+markers\",\"name\":\"Negative Tweets\",\"x\":[0,1,2,3,4,5,6,7,8,9,10,11,12,13,14,15,16,17,18,19,20,21,22,23],\"y\":[8,9,8,8,9,8,9,8,8,9,8,9,8,8,9,8,9,8,8,9,8,8,8,8],\"type\":\"scatter\",\"xaxis\":\"x3\",\"yaxis\":\"y3\"},{\"line\":{\"width\":2},\"mode\":\"lines+markers\",\"name\":\"Neutral Tweets\",\"x\":[0,1,2,3,4,5,6,7,8,9,10,11,12,13,14,15,16,17,18,19,20,21,22,23],\"y\":[4,4,5,4,4,4,4,5,4,4,4,4,5,4,4,4,4,5,4,4,4,4,4,4],\"type\":\"scatter\",\"xaxis\":\"x3\",\"yaxis\":\"y3\"}],                        {\"template\":{\"data\":{\"barpolar\":[{\"marker\":{\"line\":{\"color\":\"white\",\"width\":0.5},\"pattern\":{\"fillmode\":\"overlay\",\"size\":10,\"solidity\":0.2}},\"type\":\"barpolar\"}],\"bar\":[{\"error_x\":{\"color\":\"#2a3f5f\"},\"error_y\":{\"color\":\"#2a3f5f\"},\"marker\":{\"line\":{\"color\":\"white\",\"width\":0.5},\"pattern\":{\"fillmode\":\"overlay\",\"size\":10,\"solidity\":0.2}},\"type\":\"bar\"}],\"carpet\":[{\"aaxis\":{\"endlinecolor\":\"#2a3f5f\",\"gridcolor\":\"#C8D4E3\",\"linecolor\":\"#C8D4E3\",\"minorgridcolor\":\"#C8D4E3\",\"startlinecolor\":\"#2a3f5f\"},\"baxis\":{\"endlinecolor\":\"#2a3f5f\",\"gridcolor\":\"#C8D4E3\",\"linecolor\":\"#C8D4E3\",\"minorgridcolor\":\"#C8D4E3\",\"startlinecolor\":\"#2a3f5f\"},\"type\":\"carpet\"}],\"choropleth\":[{\"colorbar\":{\"outlinewidth\":0,\"ticks\":\"\"},\"type\":\"choropleth\"}],\"contourcarpet\":[{\"colorbar\":{\"outlinewidth\":0,\"ticks\":\"\"},\"type\":\"contourcarpet\"}],\"contour\":[{\"colorbar\":{\"outlinewidth\":0,\"ticks\":\"\"},\"colorscale\":[[0.0,\"#0d0887\"],[0.1111111111111111,\"#46039f\"],[0.2222222222222222,\"#7201a8\"],[0.3333333333333333,\"#9c179e\"],[0.4444444444444444,\"#bd3786\"],[0.5555555555555556,\"#d8576b\"],[0.6666666666666666,\"#ed7953\"],[0.7777777777777778,\"#fb9f3a\"],[0.8888888888888888,\"#fdca26\"],[1.0,\"#f0f921\"]],\"type\":\"contour\"}],\"heatmapgl\":[{\"colorbar\":{\"outlinewidth\":0,\"ticks\":\"\"},\"colorscale\":[[0.0,\"#0d0887\"],[0.1111111111111111,\"#46039f\"],[0.2222222222222222,\"#7201a8\"],[0.3333333333333333,\"#9c179e\"],[0.4444444444444444,\"#bd3786\"],[0.5555555555555556,\"#d8576b\"],[0.6666666666666666,\"#ed7953\"],[0.7777777777777778,\"#fb9f3a\"],[0.8888888888888888,\"#fdca26\"],[1.0,\"#f0f921\"]],\"type\":\"heatmapgl\"}],\"heatmap\":[{\"colorbar\":{\"outlinewidth\":0,\"ticks\":\"\"},\"colorscale\":[[0.0,\"#0d0887\"],[0.1111111111111111,\"#46039f\"],[0.2222222222222222,\"#7201a8\"],[0.3333333333333333,\"#9c179e\"],[0.4444444444444444,\"#bd3786\"],[0.5555555555555556,\"#d8576b\"],[0.6666666666666666,\"#ed7953\"],[0.7777777777777778,\"#fb9f3a\"],[0.8888888888888888,\"#fdca26\"],[1.0,\"#f0f921\"]],\"type\":\"heatmap\"}],\"histogram2dcontour\":[{\"colorbar\":{\"outlinewidth\":0,\"ticks\":\"\"},\"colorscale\":[[0.0,\"#0d0887\"],[0.1111111111111111,\"#46039f\"],[0.2222222222222222,\"#7201a8\"],[0.3333333333333333,\"#9c179e\"],[0.4444444444444444,\"#bd3786\"],[0.5555555555555556,\"#d8576b\"],[0.6666666666666666,\"#ed7953\"],[0.7777777777777778,\"#fb9f3a\"],[0.8888888888888888,\"#fdca26\"],[1.0,\"#f0f921\"]],\"type\":\"histogram2dcontour\"}],\"histogram2d\":[{\"colorbar\":{\"outlinewidth\":0,\"ticks\":\"\"},\"colorscale\":[[0.0,\"#0d0887\"],[0.1111111111111111,\"#46039f\"],[0.2222222222222222,\"#7201a8\"],[0.3333333333333333,\"#9c179e\"],[0.4444444444444444,\"#bd3786\"],[0.5555555555555556,\"#d8576b\"],[0.6666666666666666,\"#ed7953\"],[0.7777777777777778,\"#fb9f3a\"],[0.8888888888888888,\"#fdca26\"],[1.0,\"#f0f921\"]],\"type\":\"histogram2d\"}],\"histogram\":[{\"marker\":{\"pattern\":{\"fillmode\":\"overlay\",\"size\":10,\"solidity\":0.2}},\"type\":\"histogram\"}],\"mesh3d\":[{\"colorbar\":{\"outlinewidth\":0,\"ticks\":\"\"},\"type\":\"mesh3d\"}],\"parcoords\":[{\"line\":{\"colorbar\":{\"outlinewidth\":0,\"ticks\":\"\"}},\"type\":\"parcoords\"}],\"pie\":[{\"automargin\":true,\"type\":\"pie\"}],\"scatter3d\":[{\"line\":{\"colorbar\":{\"outlinewidth\":0,\"ticks\":\"\"}},\"marker\":{\"colorbar\":{\"outlinewidth\":0,\"ticks\":\"\"}},\"type\":\"scatter3d\"}],\"scattercarpet\":[{\"marker\":{\"colorbar\":{\"outlinewidth\":0,\"ticks\":\"\"}},\"type\":\"scattercarpet\"}],\"scattergeo\":[{\"marker\":{\"colorbar\":{\"outlinewidth\":0,\"ticks\":\"\"}},\"type\":\"scattergeo\"}],\"scattergl\":[{\"marker\":{\"colorbar\":{\"outlinewidth\":0,\"ticks\":\"\"}},\"type\":\"scattergl\"}],\"scattermapbox\":[{\"marker\":{\"colorbar\":{\"outlinewidth\":0,\"ticks\":\"\"}},\"type\":\"scattermapbox\"}],\"scatterpolargl\":[{\"marker\":{\"colorbar\":{\"outlinewidth\":0,\"ticks\":\"\"}},\"type\":\"scatterpolargl\"}],\"scatterpolar\":[{\"marker\":{\"colorbar\":{\"outlinewidth\":0,\"ticks\":\"\"}},\"type\":\"scatterpolar\"}],\"scatter\":[{\"fillpattern\":{\"fillmode\":\"overlay\",\"size\":10,\"solidity\":0.2},\"type\":\"scatter\"}],\"scatterternary\":[{\"marker\":{\"colorbar\":{\"outlinewidth\":0,\"ticks\":\"\"}},\"type\":\"scatterternary\"}],\"surface\":[{\"colorbar\":{\"outlinewidth\":0,\"ticks\":\"\"},\"colorscale\":[[0.0,\"#0d0887\"],[0.1111111111111111,\"#46039f\"],[0.2222222222222222,\"#7201a8\"],[0.3333333333333333,\"#9c179e\"],[0.4444444444444444,\"#bd3786\"],[0.5555555555555556,\"#d8576b\"],[0.6666666666666666,\"#ed7953\"],[0.7777777777777778,\"#fb9f3a\"],[0.8888888888888888,\"#fdca26\"],[1.0,\"#f0f921\"]],\"type\":\"surface\"}],\"table\":[{\"cells\":{\"fill\":{\"color\":\"#EBF0F8\"},\"line\":{\"color\":\"white\"}},\"header\":{\"fill\":{\"color\":\"#C8D4E3\"},\"line\":{\"color\":\"white\"}},\"type\":\"table\"}]},\"layout\":{\"annotationdefaults\":{\"arrowcolor\":\"#2a3f5f\",\"arrowhead\":0,\"arrowwidth\":1},\"autotypenumbers\":\"strict\",\"coloraxis\":{\"colorbar\":{\"outlinewidth\":0,\"ticks\":\"\"}},\"colorscale\":{\"diverging\":[[0,\"#8e0152\"],[0.1,\"#c51b7d\"],[0.2,\"#de77ae\"],[0.3,\"#f1b6da\"],[0.4,\"#fde0ef\"],[0.5,\"#f7f7f7\"],[0.6,\"#e6f5d0\"],[0.7,\"#b8e186\"],[0.8,\"#7fbc41\"],[0.9,\"#4d9221\"],[1,\"#276419\"]],\"sequential\":[[0.0,\"#0d0887\"],[0.1111111111111111,\"#46039f\"],[0.2222222222222222,\"#7201a8\"],[0.3333333333333333,\"#9c179e\"],[0.4444444444444444,\"#bd3786\"],[0.5555555555555556,\"#d8576b\"],[0.6666666666666666,\"#ed7953\"],[0.7777777777777778,\"#fb9f3a\"],[0.8888888888888888,\"#fdca26\"],[1.0,\"#f0f921\"]],\"sequentialminus\":[[0.0,\"#0d0887\"],[0.1111111111111111,\"#46039f\"],[0.2222222222222222,\"#7201a8\"],[0.3333333333333333,\"#9c179e\"],[0.4444444444444444,\"#bd3786\"],[0.5555555555555556,\"#d8576b\"],[0.6666666666666666,\"#ed7953\"],[0.7777777777777778,\"#fb9f3a\"],[0.8888888888888888,\"#fdca26\"],[1.0,\"#f0f921\"]]},\"colorway\":[\"#636efa\",\"#EF553B\",\"#00cc96\",\"#ab63fa\",\"#FFA15A\",\"#19d3f3\",\"#FF6692\",\"#B6E880\",\"#FF97FF\",\"#FECB52\"],\"font\":{\"color\":\"#2a3f5f\"},\"geo\":{\"bgcolor\":\"white\",\"lakecolor\":\"white\",\"landcolor\":\"white\",\"showlakes\":true,\"showland\":true,\"subunitcolor\":\"#C8D4E3\"},\"hoverlabel\":{\"align\":\"left\"},\"hovermode\":\"closest\",\"mapbox\":{\"style\":\"light\"},\"paper_bgcolor\":\"white\",\"plot_bgcolor\":\"white\",\"polar\":{\"angularaxis\":{\"gridcolor\":\"#EBF0F8\",\"linecolor\":\"#EBF0F8\",\"ticks\":\"\"},\"bgcolor\":\"white\",\"radialaxis\":{\"gridcolor\":\"#EBF0F8\",\"linecolor\":\"#EBF0F8\",\"ticks\":\"\"}},\"scene\":{\"xaxis\":{\"backgroundcolor\":\"white\",\"gridcolor\":\"#DFE8F3\",\"gridwidth\":2,\"linecolor\":\"#EBF0F8\",\"showbackground\":true,\"ticks\":\"\",\"zerolinecolor\":\"#EBF0F8\"},\"yaxis\":{\"backgroundcolor\":\"white\",\"gridcolor\":\"#DFE8F3\",\"gridwidth\":2,\"linecolor\":\"#EBF0F8\",\"showbackground\":true,\"ticks\":\"\",\"zerolinecolor\":\"#EBF0F8\"},\"zaxis\":{\"backgroundcolor\":\"white\",\"gridcolor\":\"#DFE8F3\",\"gridwidth\":2,\"linecolor\":\"#EBF0F8\",\"showbackground\":true,\"ticks\":\"\",\"zerolinecolor\":\"#EBF0F8\"}},\"shapedefaults\":{\"line\":{\"color\":\"#2a3f5f\"}},\"ternary\":{\"aaxis\":{\"gridcolor\":\"#DFE8F3\",\"linecolor\":\"#A2B1C6\",\"ticks\":\"\"},\"baxis\":{\"gridcolor\":\"#DFE8F3\",\"linecolor\":\"#A2B1C6\",\"ticks\":\"\"},\"bgcolor\":\"white\",\"caxis\":{\"gridcolor\":\"#DFE8F3\",\"linecolor\":\"#A2B1C6\",\"ticks\":\"\"}},\"title\":{\"x\":0.05},\"xaxis\":{\"automargin\":true,\"gridcolor\":\"#EBF0F8\",\"linecolor\":\"#EBF0F8\",\"ticks\":\"\",\"title\":{\"standoff\":15},\"zerolinecolor\":\"#EBF0F8\",\"zerolinewidth\":2},\"yaxis\":{\"automargin\":true,\"gridcolor\":\"#EBF0F8\",\"linecolor\":\"#EBF0F8\",\"ticks\":\"\",\"title\":{\"standoff\":15},\"zerolinecolor\":\"#EBF0F8\",\"zerolinewidth\":2}}},\"xaxis\":{\"anchor\":\"y\",\"domain\":[0.55,1.0]},\"yaxis\":{\"anchor\":\"x\",\"domain\":[0.625,1.0]},\"xaxis2\":{\"anchor\":\"y2\",\"domain\":[0.0,0.45]},\"yaxis2\":{\"anchor\":\"x2\",\"domain\":[0.0,0.375]},\"xaxis3\":{\"anchor\":\"y3\",\"domain\":[0.55,1.0]},\"yaxis3\":{\"anchor\":\"x3\",\"domain\":[0.0,0.375]},\"annotations\":[{\"font\":{\"size\":16},\"showarrow\":false,\"text\":\"Sentiment Distribution\",\"x\":0.225,\"xanchor\":\"center\",\"xref\":\"paper\",\"y\":1.0,\"yanchor\":\"bottom\",\"yref\":\"paper\"},{\"font\":{\"size\":16},\"showarrow\":false,\"text\":\"Polarity Distribution\",\"x\":0.775,\"xanchor\":\"center\",\"xref\":\"paper\",\"y\":1.0,\"yanchor\":\"bottom\",\"yref\":\"paper\"},{\"font\":{\"size\":16},\"showarrow\":false,\"text\":\"Subjectivity vs Polarity\",\"x\":0.225,\"xanchor\":\"center\",\"xref\":\"paper\",\"y\":0.375,\"yanchor\":\"bottom\",\"yref\":\"paper\"},{\"font\":{\"size\":16},\"showarrow\":false,\"text\":\"Sentiment Over Time\",\"x\":0.775,\"xanchor\":\"center\",\"xref\":\"paper\",\"y\":0.375,\"yanchor\":\"bottom\",\"yref\":\"paper\"}],\"title\":{\"text\":\"🌍 Global Mood Analysis Dashboard\",\"x\":0.5},\"height\":800,\"showlegend\":true},                        {\"responsive\": true}                    ).then(function(){\n",
              "                            \n",
              "var gd = document.getElementById('9b40b753-ecbc-40e5-b2c4-1fed7997c35b');\n",
              "var x = new MutationObserver(function (mutations, observer) {{\n",
              "        var display = window.getComputedStyle(gd).display;\n",
              "        if (!display || display === 'none') {{\n",
              "            console.log([gd, 'removed!']);\n",
              "            Plotly.purge(gd);\n",
              "            observer.disconnect();\n",
              "        }}\n",
              "}});\n",
              "\n",
              "// Listen for the removal of the full notebook cells\n",
              "var notebookContainer = gd.closest('#notebook-container');\n",
              "if (notebookContainer) {{\n",
              "    x.observe(notebookContainer, {childList: true});\n",
              "}}\n",
              "\n",
              "// Listen for the clearing of the current output cell\n",
              "var outputEl = gd.closest('.output');\n",
              "if (outputEl) {{\n",
              "    x.observe(outputEl, {childList: true});\n",
              "}}\n",
              "\n",
              "                        })                };                });            </script>        </div>"
            ]
          },
          "metadata": {}
        },
        {
          "output_type": "display_data",
          "data": {
            "application/vnd.plotly.v1+json": {
              "data": [
                {
                  "colorscale": [
                    [
                      0,
                      "rgb(247,252,245)"
                    ],
                    [
                      0.125,
                      "rgb(229,245,224)"
                    ],
                    [
                      0.25,
                      "rgb(199,233,192)"
                    ],
                    [
                      0.375,
                      "rgb(161,217,155)"
                    ],
                    [
                      0.5,
                      "rgb(116,196,118)"
                    ],
                    [
                      0.625,
                      "rgb(65,171,93)"
                    ],
                    [
                      0.75,
                      "rgb(35,139,69)"
                    ],
                    [
                      0.875,
                      "rgb(0,109,44)"
                    ],
                    [
                      1,
                      "rgb(0,68,27)"
                    ]
                  ],
                  "hovertemplate": "<b>Hour:</b> %{x}<br><b>Positive:</b> %{z:.1f}%<extra></extra>",
                  "name": "Positive",
                  "visible": true,
                  "x": [
                    0,
                    1,
                    2,
                    3,
                    4,
                    5,
                    6,
                    7,
                    8,
                    9,
                    10,
                    11,
                    12,
                    13,
                    14,
                    15,
                    16,
                    17,
                    18,
                    19,
                    20,
                    21,
                    22,
                    23
                  ],
                  "y": [
                    "Positive"
                  ],
                  "z": [
                    [
                      42.857142857142854,
                      38.095238095238095,
                      38.095238095238095,
                      42.857142857142854,
                      38.095238095238095,
                      42.857142857142854,
                      38.095238095238095,
                      38.095238095238095,
                      42.857142857142854,
                      38.095238095238095,
                      42.857142857142854,
                      38.095238095238095,
                      38.095238095238095,
                      42.857142857142854,
                      38.095238095238095,
                      42.857142857142854,
                      38.095238095238095,
                      38.095238095238095,
                      42.857142857142854,
                      38.095238095238095,
                      40,
                      40,
                      40,
                      40
                    ]
                  ],
                  "type": "heatmap"
                },
                {
                  "colorscale": [
                    [
                      0,
                      "rgb(255,255,255)"
                    ],
                    [
                      0.125,
                      "rgb(240,240,240)"
                    ],
                    [
                      0.25,
                      "rgb(217,217,217)"
                    ],
                    [
                      0.375,
                      "rgb(189,189,189)"
                    ],
                    [
                      0.5,
                      "rgb(150,150,150)"
                    ],
                    [
                      0.625,
                      "rgb(115,115,115)"
                    ],
                    [
                      0.75,
                      "rgb(82,82,82)"
                    ],
                    [
                      0.875,
                      "rgb(37,37,37)"
                    ],
                    [
                      1,
                      "rgb(0,0,0)"
                    ]
                  ],
                  "hovertemplate": "<b>Hour:</b> %{x}<br><b>Neutral:</b> %{z:.1f}%<extra></extra>",
                  "name": "Neutral",
                  "visible": false,
                  "x": [
                    0,
                    1,
                    2,
                    3,
                    4,
                    5,
                    6,
                    7,
                    8,
                    9,
                    10,
                    11,
                    12,
                    13,
                    14,
                    15,
                    16,
                    17,
                    18,
                    19,
                    20,
                    21,
                    22,
                    23
                  ],
                  "y": [
                    "Neutral"
                  ],
                  "z": [
                    [
                      19.047619047619047,
                      19.047619047619047,
                      23.809523809523807,
                      19.047619047619047,
                      19.047619047619047,
                      19.047619047619047,
                      19.047619047619047,
                      23.809523809523807,
                      19.047619047619047,
                      19.047619047619047,
                      19.047619047619047,
                      19.047619047619047,
                      23.809523809523807,
                      19.047619047619047,
                      19.047619047619047,
                      19.047619047619047,
                      19.047619047619047,
                      23.809523809523807,
                      19.047619047619047,
                      19.047619047619047,
                      20,
                      20,
                      20,
                      20
                    ]
                  ],
                  "type": "heatmap"
                },
                {
                  "colorscale": [
                    [
                      0,
                      "rgb(255,245,240)"
                    ],
                    [
                      0.125,
                      "rgb(254,224,210)"
                    ],
                    [
                      0.25,
                      "rgb(252,187,161)"
                    ],
                    [
                      0.375,
                      "rgb(252,146,114)"
                    ],
                    [
                      0.5,
                      "rgb(251,106,74)"
                    ],
                    [
                      0.625,
                      "rgb(239,59,44)"
                    ],
                    [
                      0.75,
                      "rgb(203,24,29)"
                    ],
                    [
                      0.875,
                      "rgb(165,15,21)"
                    ],
                    [
                      1,
                      "rgb(103,0,13)"
                    ]
                  ],
                  "hovertemplate": "<b>Hour:</b> %{x}<br><b>Negative:</b> %{z:.1f}%<extra></extra>",
                  "name": "Negative",
                  "visible": false,
                  "x": [
                    0,
                    1,
                    2,
                    3,
                    4,
                    5,
                    6,
                    7,
                    8,
                    9,
                    10,
                    11,
                    12,
                    13,
                    14,
                    15,
                    16,
                    17,
                    18,
                    19,
                    20,
                    21,
                    22,
                    23
                  ],
                  "y": [
                    "Negative"
                  ],
                  "z": [
                    [
                      38.095238095238095,
                      42.857142857142854,
                      38.095238095238095,
                      38.095238095238095,
                      42.857142857142854,
                      38.095238095238095,
                      42.857142857142854,
                      38.095238095238095,
                      38.095238095238095,
                      42.857142857142854,
                      38.095238095238095,
                      42.857142857142854,
                      38.095238095238095,
                      38.095238095238095,
                      42.857142857142854,
                      38.095238095238095,
                      42.857142857142854,
                      38.095238095238095,
                      38.095238095238095,
                      42.857142857142854,
                      40,
                      40,
                      40,
                      40
                    ]
                  ],
                  "type": "heatmap"
                }
              ],
              "layout": {
                "template": {
                  "data": {
                    "barpolar": [
                      {
                        "marker": {
                          "line": {
                            "color": "white",
                            "width": 0.5
                          },
                          "pattern": {
                            "fillmode": "overlay",
                            "size": 10,
                            "solidity": 0.2
                          }
                        },
                        "type": "barpolar"
                      }
                    ],
                    "bar": [
                      {
                        "error_x": {
                          "color": "#2a3f5f"
                        },
                        "error_y": {
                          "color": "#2a3f5f"
                        },
                        "marker": {
                          "line": {
                            "color": "white",
                            "width": 0.5
                          },
                          "pattern": {
                            "fillmode": "overlay",
                            "size": 10,
                            "solidity": 0.2
                          }
                        },
                        "type": "bar"
                      }
                    ],
                    "carpet": [
                      {
                        "aaxis": {
                          "endlinecolor": "#2a3f5f",
                          "gridcolor": "#C8D4E3",
                          "linecolor": "#C8D4E3",
                          "minorgridcolor": "#C8D4E3",
                          "startlinecolor": "#2a3f5f"
                        },
                        "baxis": {
                          "endlinecolor": "#2a3f5f",
                          "gridcolor": "#C8D4E3",
                          "linecolor": "#C8D4E3",
                          "minorgridcolor": "#C8D4E3",
                          "startlinecolor": "#2a3f5f"
                        },
                        "type": "carpet"
                      }
                    ],
                    "choropleth": [
                      {
                        "colorbar": {
                          "outlinewidth": 0,
                          "ticks": ""
                        },
                        "type": "choropleth"
                      }
                    ],
                    "contourcarpet": [
                      {
                        "colorbar": {
                          "outlinewidth": 0,
                          "ticks": ""
                        },
                        "type": "contourcarpet"
                      }
                    ],
                    "contour": [
                      {
                        "colorbar": {
                          "outlinewidth": 0,
                          "ticks": ""
                        },
                        "colorscale": [
                          [
                            0,
                            "#0d0887"
                          ],
                          [
                            0.1111111111111111,
                            "#46039f"
                          ],
                          [
                            0.2222222222222222,
                            "#7201a8"
                          ],
                          [
                            0.3333333333333333,
                            "#9c179e"
                          ],
                          [
                            0.4444444444444444,
                            "#bd3786"
                          ],
                          [
                            0.5555555555555556,
                            "#d8576b"
                          ],
                          [
                            0.6666666666666666,
                            "#ed7953"
                          ],
                          [
                            0.7777777777777778,
                            "#fb9f3a"
                          ],
                          [
                            0.8888888888888888,
                            "#fdca26"
                          ],
                          [
                            1,
                            "#f0f921"
                          ]
                        ],
                        "type": "contour"
                      }
                    ],
                    "heatmapgl": [
                      {
                        "colorbar": {
                          "outlinewidth": 0,
                          "ticks": ""
                        },
                        "colorscale": [
                          [
                            0,
                            "#0d0887"
                          ],
                          [
                            0.1111111111111111,
                            "#46039f"
                          ],
                          [
                            0.2222222222222222,
                            "#7201a8"
                          ],
                          [
                            0.3333333333333333,
                            "#9c179e"
                          ],
                          [
                            0.4444444444444444,
                            "#bd3786"
                          ],
                          [
                            0.5555555555555556,
                            "#d8576b"
                          ],
                          [
                            0.6666666666666666,
                            "#ed7953"
                          ],
                          [
                            0.7777777777777778,
                            "#fb9f3a"
                          ],
                          [
                            0.8888888888888888,
                            "#fdca26"
                          ],
                          [
                            1,
                            "#f0f921"
                          ]
                        ],
                        "type": "heatmapgl"
                      }
                    ],
                    "heatmap": [
                      {
                        "colorbar": {
                          "outlinewidth": 0,
                          "ticks": ""
                        },
                        "colorscale": [
                          [
                            0,
                            "#0d0887"
                          ],
                          [
                            0.1111111111111111,
                            "#46039f"
                          ],
                          [
                            0.2222222222222222,
                            "#7201a8"
                          ],
                          [
                            0.3333333333333333,
                            "#9c179e"
                          ],
                          [
                            0.4444444444444444,
                            "#bd3786"
                          ],
                          [
                            0.5555555555555556,
                            "#d8576b"
                          ],
                          [
                            0.6666666666666666,
                            "#ed7953"
                          ],
                          [
                            0.7777777777777778,
                            "#fb9f3a"
                          ],
                          [
                            0.8888888888888888,
                            "#fdca26"
                          ],
                          [
                            1,
                            "#f0f921"
                          ]
                        ],
                        "type": "heatmap"
                      }
                    ],
                    "histogram2dcontour": [
                      {
                        "colorbar": {
                          "outlinewidth": 0,
                          "ticks": ""
                        },
                        "colorscale": [
                          [
                            0,
                            "#0d0887"
                          ],
                          [
                            0.1111111111111111,
                            "#46039f"
                          ],
                          [
                            0.2222222222222222,
                            "#7201a8"
                          ],
                          [
                            0.3333333333333333,
                            "#9c179e"
                          ],
                          [
                            0.4444444444444444,
                            "#bd3786"
                          ],
                          [
                            0.5555555555555556,
                            "#d8576b"
                          ],
                          [
                            0.6666666666666666,
                            "#ed7953"
                          ],
                          [
                            0.7777777777777778,
                            "#fb9f3a"
                          ],
                          [
                            0.8888888888888888,
                            "#fdca26"
                          ],
                          [
                            1,
                            "#f0f921"
                          ]
                        ],
                        "type": "histogram2dcontour"
                      }
                    ],
                    "histogram2d": [
                      {
                        "colorbar": {
                          "outlinewidth": 0,
                          "ticks": ""
                        },
                        "colorscale": [
                          [
                            0,
                            "#0d0887"
                          ],
                          [
                            0.1111111111111111,
                            "#46039f"
                          ],
                          [
                            0.2222222222222222,
                            "#7201a8"
                          ],
                          [
                            0.3333333333333333,
                            "#9c179e"
                          ],
                          [
                            0.4444444444444444,
                            "#bd3786"
                          ],
                          [
                            0.5555555555555556,
                            "#d8576b"
                          ],
                          [
                            0.6666666666666666,
                            "#ed7953"
                          ],
                          [
                            0.7777777777777778,
                            "#fb9f3a"
                          ],
                          [
                            0.8888888888888888,
                            "#fdca26"
                          ],
                          [
                            1,
                            "#f0f921"
                          ]
                        ],
                        "type": "histogram2d"
                      }
                    ],
                    "histogram": [
                      {
                        "marker": {
                          "pattern": {
                            "fillmode": "overlay",
                            "size": 10,
                            "solidity": 0.2
                          }
                        },
                        "type": "histogram"
                      }
                    ],
                    "mesh3d": [
                      {
                        "colorbar": {
                          "outlinewidth": 0,
                          "ticks": ""
                        },
                        "type": "mesh3d"
                      }
                    ],
                    "parcoords": [
                      {
                        "line": {
                          "colorbar": {
                            "outlinewidth": 0,
                            "ticks": ""
                          }
                        },
                        "type": "parcoords"
                      }
                    ],
                    "pie": [
                      {
                        "automargin": true,
                        "type": "pie"
                      }
                    ],
                    "scatter3d": [
                      {
                        "line": {
                          "colorbar": {
                            "outlinewidth": 0,
                            "ticks": ""
                          }
                        },
                        "marker": {
                          "colorbar": {
                            "outlinewidth": 0,
                            "ticks": ""
                          }
                        },
                        "type": "scatter3d"
                      }
                    ],
                    "scattercarpet": [
                      {
                        "marker": {
                          "colorbar": {
                            "outlinewidth": 0,
                            "ticks": ""
                          }
                        },
                        "type": "scattercarpet"
                      }
                    ],
                    "scattergeo": [
                      {
                        "marker": {
                          "colorbar": {
                            "outlinewidth": 0,
                            "ticks": ""
                          }
                        },
                        "type": "scattergeo"
                      }
                    ],
                    "scattergl": [
                      {
                        "marker": {
                          "colorbar": {
                            "outlinewidth": 0,
                            "ticks": ""
                          }
                        },
                        "type": "scattergl"
                      }
                    ],
                    "scattermapbox": [
                      {
                        "marker": {
                          "colorbar": {
                            "outlinewidth": 0,
                            "ticks": ""
                          }
                        },
                        "type": "scattermapbox"
                      }
                    ],
                    "scatterpolargl": [
                      {
                        "marker": {
                          "colorbar": {
                            "outlinewidth": 0,
                            "ticks": ""
                          }
                        },
                        "type": "scatterpolargl"
                      }
                    ],
                    "scatterpolar": [
                      {
                        "marker": {
                          "colorbar": {
                            "outlinewidth": 0,
                            "ticks": ""
                          }
                        },
                        "type": "scatterpolar"
                      }
                    ],
                    "scatter": [
                      {
                        "fillpattern": {
                          "fillmode": "overlay",
                          "size": 10,
                          "solidity": 0.2
                        },
                        "type": "scatter"
                      }
                    ],
                    "scatterternary": [
                      {
                        "marker": {
                          "colorbar": {
                            "outlinewidth": 0,
                            "ticks": ""
                          }
                        },
                        "type": "scatterternary"
                      }
                    ],
                    "surface": [
                      {
                        "colorbar": {
                          "outlinewidth": 0,
                          "ticks": ""
                        },
                        "colorscale": [
                          [
                            0,
                            "#0d0887"
                          ],
                          [
                            0.1111111111111111,
                            "#46039f"
                          ],
                          [
                            0.2222222222222222,
                            "#7201a8"
                          ],
                          [
                            0.3333333333333333,
                            "#9c179e"
                          ],
                          [
                            0.4444444444444444,
                            "#bd3786"
                          ],
                          [
                            0.5555555555555556,
                            "#d8576b"
                          ],
                          [
                            0.6666666666666666,
                            "#ed7953"
                          ],
                          [
                            0.7777777777777778,
                            "#fb9f3a"
                          ],
                          [
                            0.8888888888888888,
                            "#fdca26"
                          ],
                          [
                            1,
                            "#f0f921"
                          ]
                        ],
                        "type": "surface"
                      }
                    ],
                    "table": [
                      {
                        "cells": {
                          "fill": {
                            "color": "#EBF0F8"
                          },
                          "line": {
                            "color": "white"
                          }
                        },
                        "header": {
                          "fill": {
                            "color": "#C8D4E3"
                          },
                          "line": {
                            "color": "white"
                          }
                        },
                        "type": "table"
                      }
                    ]
                  },
                  "layout": {
                    "annotationdefaults": {
                      "arrowcolor": "#2a3f5f",
                      "arrowhead": 0,
                      "arrowwidth": 1
                    },
                    "autotypenumbers": "strict",
                    "coloraxis": {
                      "colorbar": {
                        "outlinewidth": 0,
                        "ticks": ""
                      }
                    },
                    "colorscale": {
                      "diverging": [
                        [
                          0,
                          "#8e0152"
                        ],
                        [
                          0.1,
                          "#c51b7d"
                        ],
                        [
                          0.2,
                          "#de77ae"
                        ],
                        [
                          0.3,
                          "#f1b6da"
                        ],
                        [
                          0.4,
                          "#fde0ef"
                        ],
                        [
                          0.5,
                          "#f7f7f7"
                        ],
                        [
                          0.6,
                          "#e6f5d0"
                        ],
                        [
                          0.7,
                          "#b8e186"
                        ],
                        [
                          0.8,
                          "#7fbc41"
                        ],
                        [
                          0.9,
                          "#4d9221"
                        ],
                        [
                          1,
                          "#276419"
                        ]
                      ],
                      "sequential": [
                        [
                          0,
                          "#0d0887"
                        ],
                        [
                          0.1111111111111111,
                          "#46039f"
                        ],
                        [
                          0.2222222222222222,
                          "#7201a8"
                        ],
                        [
                          0.3333333333333333,
                          "#9c179e"
                        ],
                        [
                          0.4444444444444444,
                          "#bd3786"
                        ],
                        [
                          0.5555555555555556,
                          "#d8576b"
                        ],
                        [
                          0.6666666666666666,
                          "#ed7953"
                        ],
                        [
                          0.7777777777777778,
                          "#fb9f3a"
                        ],
                        [
                          0.8888888888888888,
                          "#fdca26"
                        ],
                        [
                          1,
                          "#f0f921"
                        ]
                      ],
                      "sequentialminus": [
                        [
                          0,
                          "#0d0887"
                        ],
                        [
                          0.1111111111111111,
                          "#46039f"
                        ],
                        [
                          0.2222222222222222,
                          "#7201a8"
                        ],
                        [
                          0.3333333333333333,
                          "#9c179e"
                        ],
                        [
                          0.4444444444444444,
                          "#bd3786"
                        ],
                        [
                          0.5555555555555556,
                          "#d8576b"
                        ],
                        [
                          0.6666666666666666,
                          "#ed7953"
                        ],
                        [
                          0.7777777777777778,
                          "#fb9f3a"
                        ],
                        [
                          0.8888888888888888,
                          "#fdca26"
                        ],
                        [
                          1,
                          "#f0f921"
                        ]
                      ]
                    },
                    "colorway": [
                      "#636efa",
                      "#EF553B",
                      "#00cc96",
                      "#ab63fa",
                      "#FFA15A",
                      "#19d3f3",
                      "#FF6692",
                      "#B6E880",
                      "#FF97FF",
                      "#FECB52"
                    ],
                    "font": {
                      "color": "#2a3f5f"
                    },
                    "geo": {
                      "bgcolor": "white",
                      "lakecolor": "white",
                      "landcolor": "white",
                      "showlakes": true,
                      "showland": true,
                      "subunitcolor": "#C8D4E3"
                    },
                    "hoverlabel": {
                      "align": "left"
                    },
                    "hovermode": "closest",
                    "mapbox": {
                      "style": "light"
                    },
                    "paper_bgcolor": "white",
                    "plot_bgcolor": "white",
                    "polar": {
                      "angularaxis": {
                        "gridcolor": "#EBF0F8",
                        "linecolor": "#EBF0F8",
                        "ticks": ""
                      },
                      "bgcolor": "white",
                      "radialaxis": {
                        "gridcolor": "#EBF0F8",
                        "linecolor": "#EBF0F8",
                        "ticks": ""
                      }
                    },
                    "scene": {
                      "xaxis": {
                        "backgroundcolor": "white",
                        "gridcolor": "#DFE8F3",
                        "gridwidth": 2,
                        "linecolor": "#EBF0F8",
                        "showbackground": true,
                        "ticks": "",
                        "zerolinecolor": "#EBF0F8"
                      },
                      "yaxis": {
                        "backgroundcolor": "white",
                        "gridcolor": "#DFE8F3",
                        "gridwidth": 2,
                        "linecolor": "#EBF0F8",
                        "showbackground": true,
                        "ticks": "",
                        "zerolinecolor": "#EBF0F8"
                      },
                      "zaxis": {
                        "backgroundcolor": "white",
                        "gridcolor": "#DFE8F3",
                        "gridwidth": 2,
                        "linecolor": "#EBF0F8",
                        "showbackground": true,
                        "ticks": "",
                        "zerolinecolor": "#EBF0F8"
                      }
                    },
                    "shapedefaults": {
                      "line": {
                        "color": "#2a3f5f"
                      }
                    },
                    "ternary": {
                      "aaxis": {
                        "gridcolor": "#DFE8F3",
                        "linecolor": "#A2B1C6",
                        "ticks": ""
                      },
                      "baxis": {
                        "gridcolor": "#DFE8F3",
                        "linecolor": "#A2B1C6",
                        "ticks": ""
                      },
                      "bgcolor": "white",
                      "caxis": {
                        "gridcolor": "#DFE8F3",
                        "linecolor": "#A2B1C6",
                        "ticks": ""
                      }
                    },
                    "title": {
                      "x": 0.05
                    },
                    "xaxis": {
                      "automargin": true,
                      "gridcolor": "#EBF0F8",
                      "linecolor": "#EBF0F8",
                      "ticks": "",
                      "title": {
                        "standoff": 15
                      },
                      "zerolinecolor": "#EBF0F8",
                      "zerolinewidth": 2
                    },
                    "yaxis": {
                      "automargin": true,
                      "gridcolor": "#EBF0F8",
                      "linecolor": "#EBF0F8",
                      "ticks": "",
                      "title": {
                        "standoff": 15
                      },
                      "zerolinecolor": "#EBF0F8",
                      "zerolinewidth": 2
                    }
                  }
                },
                "title": {
                  "text": "📅 Hourly Sentiment Distribution"
                },
                "xaxis": {
                  "title": {
                    "text": "Hour of Day"
                  }
                },
                "updatemenus": [
                  {
                    "buttons": [
                      {
                        "args": [
                          {
                            "visible": [
                              true,
                              false,
                              false
                            ]
                          }
                        ],
                        "label": "Positive",
                        "method": "update"
                      },
                      {
                        "args": [
                          {
                            "visible": [
                              false,
                              true,
                              false
                            ]
                          }
                        ],
                        "label": "Neutral",
                        "method": "update"
                      },
                      {
                        "args": [
                          {
                            "visible": [
                              false,
                              false,
                              true
                            ]
                          }
                        ],
                        "label": "Negative",
                        "method": "update"
                      }
                    ],
                    "direction": "right",
                    "type": "buttons",
                    "x": 0.7,
                    "y": 1.15
                  }
                ],
                "height": 400
              },
              "config": {
                "plotlyServerURL": "https://plot.ly"
              }
            },
            "text/html": [
              "<div>                            <div id=\"d26c9e0b-9e0f-469f-a22e-afc5eb1e4834\" class=\"plotly-graph-div\" style=\"height:400px; width:100%;\"></div>            <script type=\"text/javascript\">                require([\"plotly\"], function(Plotly) {                    window.PLOTLYENV=window.PLOTLYENV || {};                                    if (document.getElementById(\"d26c9e0b-9e0f-469f-a22e-afc5eb1e4834\")) {                    Plotly.newPlot(                        \"d26c9e0b-9e0f-469f-a22e-afc5eb1e4834\",                        [{\"colorscale\":[[0.0,\"rgb(247,252,245)\"],[0.125,\"rgb(229,245,224)\"],[0.25,\"rgb(199,233,192)\"],[0.375,\"rgb(161,217,155)\"],[0.5,\"rgb(116,196,118)\"],[0.625,\"rgb(65,171,93)\"],[0.75,\"rgb(35,139,69)\"],[0.875,\"rgb(0,109,44)\"],[1.0,\"rgb(0,68,27)\"]],\"hovertemplate\":\"\\u003cb\\u003eHour:\\u003c\\u002fb\\u003e %{x}\\u003cbr\\u003e\\u003cb\\u003ePositive:\\u003c\\u002fb\\u003e %{z:.1f}%\\u003cextra\\u003e\\u003c\\u002fextra\\u003e\",\"name\":\"Positive\",\"visible\":true,\"x\":[0,1,2,3,4,5,6,7,8,9,10,11,12,13,14,15,16,17,18,19,20,21,22,23],\"y\":[\"Positive\"],\"z\":[[42.857142857142854,38.095238095238095,38.095238095238095,42.857142857142854,38.095238095238095,42.857142857142854,38.095238095238095,38.095238095238095,42.857142857142854,38.095238095238095,42.857142857142854,38.095238095238095,38.095238095238095,42.857142857142854,38.095238095238095,42.857142857142854,38.095238095238095,38.095238095238095,42.857142857142854,38.095238095238095,40.0,40.0,40.0,40.0]],\"type\":\"heatmap\"},{\"colorscale\":[[0.0,\"rgb(255,255,255)\"],[0.125,\"rgb(240,240,240)\"],[0.25,\"rgb(217,217,217)\"],[0.375,\"rgb(189,189,189)\"],[0.5,\"rgb(150,150,150)\"],[0.625,\"rgb(115,115,115)\"],[0.75,\"rgb(82,82,82)\"],[0.875,\"rgb(37,37,37)\"],[1.0,\"rgb(0,0,0)\"]],\"hovertemplate\":\"\\u003cb\\u003eHour:\\u003c\\u002fb\\u003e %{x}\\u003cbr\\u003e\\u003cb\\u003eNeutral:\\u003c\\u002fb\\u003e %{z:.1f}%\\u003cextra\\u003e\\u003c\\u002fextra\\u003e\",\"name\":\"Neutral\",\"visible\":false,\"x\":[0,1,2,3,4,5,6,7,8,9,10,11,12,13,14,15,16,17,18,19,20,21,22,23],\"y\":[\"Neutral\"],\"z\":[[19.047619047619047,19.047619047619047,23.809523809523807,19.047619047619047,19.047619047619047,19.047619047619047,19.047619047619047,23.809523809523807,19.047619047619047,19.047619047619047,19.047619047619047,19.047619047619047,23.809523809523807,19.047619047619047,19.047619047619047,19.047619047619047,19.047619047619047,23.809523809523807,19.047619047619047,19.047619047619047,20.0,20.0,20.0,20.0]],\"type\":\"heatmap\"},{\"colorscale\":[[0.0,\"rgb(255,245,240)\"],[0.125,\"rgb(254,224,210)\"],[0.25,\"rgb(252,187,161)\"],[0.375,\"rgb(252,146,114)\"],[0.5,\"rgb(251,106,74)\"],[0.625,\"rgb(239,59,44)\"],[0.75,\"rgb(203,24,29)\"],[0.875,\"rgb(165,15,21)\"],[1.0,\"rgb(103,0,13)\"]],\"hovertemplate\":\"\\u003cb\\u003eHour:\\u003c\\u002fb\\u003e %{x}\\u003cbr\\u003e\\u003cb\\u003eNegative:\\u003c\\u002fb\\u003e %{z:.1f}%\\u003cextra\\u003e\\u003c\\u002fextra\\u003e\",\"name\":\"Negative\",\"visible\":false,\"x\":[0,1,2,3,4,5,6,7,8,9,10,11,12,13,14,15,16,17,18,19,20,21,22,23],\"y\":[\"Negative\"],\"z\":[[38.095238095238095,42.857142857142854,38.095238095238095,38.095238095238095,42.857142857142854,38.095238095238095,42.857142857142854,38.095238095238095,38.095238095238095,42.857142857142854,38.095238095238095,42.857142857142854,38.095238095238095,38.095238095238095,42.857142857142854,38.095238095238095,42.857142857142854,38.095238095238095,38.095238095238095,42.857142857142854,40.0,40.0,40.0,40.0]],\"type\":\"heatmap\"}],                        {\"template\":{\"data\":{\"barpolar\":[{\"marker\":{\"line\":{\"color\":\"white\",\"width\":0.5},\"pattern\":{\"fillmode\":\"overlay\",\"size\":10,\"solidity\":0.2}},\"type\":\"barpolar\"}],\"bar\":[{\"error_x\":{\"color\":\"#2a3f5f\"},\"error_y\":{\"color\":\"#2a3f5f\"},\"marker\":{\"line\":{\"color\":\"white\",\"width\":0.5},\"pattern\":{\"fillmode\":\"overlay\",\"size\":10,\"solidity\":0.2}},\"type\":\"bar\"}],\"carpet\":[{\"aaxis\":{\"endlinecolor\":\"#2a3f5f\",\"gridcolor\":\"#C8D4E3\",\"linecolor\":\"#C8D4E3\",\"minorgridcolor\":\"#C8D4E3\",\"startlinecolor\":\"#2a3f5f\"},\"baxis\":{\"endlinecolor\":\"#2a3f5f\",\"gridcolor\":\"#C8D4E3\",\"linecolor\":\"#C8D4E3\",\"minorgridcolor\":\"#C8D4E3\",\"startlinecolor\":\"#2a3f5f\"},\"type\":\"carpet\"}],\"choropleth\":[{\"colorbar\":{\"outlinewidth\":0,\"ticks\":\"\"},\"type\":\"choropleth\"}],\"contourcarpet\":[{\"colorbar\":{\"outlinewidth\":0,\"ticks\":\"\"},\"type\":\"contourcarpet\"}],\"contour\":[{\"colorbar\":{\"outlinewidth\":0,\"ticks\":\"\"},\"colorscale\":[[0.0,\"#0d0887\"],[0.1111111111111111,\"#46039f\"],[0.2222222222222222,\"#7201a8\"],[0.3333333333333333,\"#9c179e\"],[0.4444444444444444,\"#bd3786\"],[0.5555555555555556,\"#d8576b\"],[0.6666666666666666,\"#ed7953\"],[0.7777777777777778,\"#fb9f3a\"],[0.8888888888888888,\"#fdca26\"],[1.0,\"#f0f921\"]],\"type\":\"contour\"}],\"heatmapgl\":[{\"colorbar\":{\"outlinewidth\":0,\"ticks\":\"\"},\"colorscale\":[[0.0,\"#0d0887\"],[0.1111111111111111,\"#46039f\"],[0.2222222222222222,\"#7201a8\"],[0.3333333333333333,\"#9c179e\"],[0.4444444444444444,\"#bd3786\"],[0.5555555555555556,\"#d8576b\"],[0.6666666666666666,\"#ed7953\"],[0.7777777777777778,\"#fb9f3a\"],[0.8888888888888888,\"#fdca26\"],[1.0,\"#f0f921\"]],\"type\":\"heatmapgl\"}],\"heatmap\":[{\"colorbar\":{\"outlinewidth\":0,\"ticks\":\"\"},\"colorscale\":[[0.0,\"#0d0887\"],[0.1111111111111111,\"#46039f\"],[0.2222222222222222,\"#7201a8\"],[0.3333333333333333,\"#9c179e\"],[0.4444444444444444,\"#bd3786\"],[0.5555555555555556,\"#d8576b\"],[0.6666666666666666,\"#ed7953\"],[0.7777777777777778,\"#fb9f3a\"],[0.8888888888888888,\"#fdca26\"],[1.0,\"#f0f921\"]],\"type\":\"heatmap\"}],\"histogram2dcontour\":[{\"colorbar\":{\"outlinewidth\":0,\"ticks\":\"\"},\"colorscale\":[[0.0,\"#0d0887\"],[0.1111111111111111,\"#46039f\"],[0.2222222222222222,\"#7201a8\"],[0.3333333333333333,\"#9c179e\"],[0.4444444444444444,\"#bd3786\"],[0.5555555555555556,\"#d8576b\"],[0.6666666666666666,\"#ed7953\"],[0.7777777777777778,\"#fb9f3a\"],[0.8888888888888888,\"#fdca26\"],[1.0,\"#f0f921\"]],\"type\":\"histogram2dcontour\"}],\"histogram2d\":[{\"colorbar\":{\"outlinewidth\":0,\"ticks\":\"\"},\"colorscale\":[[0.0,\"#0d0887\"],[0.1111111111111111,\"#46039f\"],[0.2222222222222222,\"#7201a8\"],[0.3333333333333333,\"#9c179e\"],[0.4444444444444444,\"#bd3786\"],[0.5555555555555556,\"#d8576b\"],[0.6666666666666666,\"#ed7953\"],[0.7777777777777778,\"#fb9f3a\"],[0.8888888888888888,\"#fdca26\"],[1.0,\"#f0f921\"]],\"type\":\"histogram2d\"}],\"histogram\":[{\"marker\":{\"pattern\":{\"fillmode\":\"overlay\",\"size\":10,\"solidity\":0.2}},\"type\":\"histogram\"}],\"mesh3d\":[{\"colorbar\":{\"outlinewidth\":0,\"ticks\":\"\"},\"type\":\"mesh3d\"}],\"parcoords\":[{\"line\":{\"colorbar\":{\"outlinewidth\":0,\"ticks\":\"\"}},\"type\":\"parcoords\"}],\"pie\":[{\"automargin\":true,\"type\":\"pie\"}],\"scatter3d\":[{\"line\":{\"colorbar\":{\"outlinewidth\":0,\"ticks\":\"\"}},\"marker\":{\"colorbar\":{\"outlinewidth\":0,\"ticks\":\"\"}},\"type\":\"scatter3d\"}],\"scattercarpet\":[{\"marker\":{\"colorbar\":{\"outlinewidth\":0,\"ticks\":\"\"}},\"type\":\"scattercarpet\"}],\"scattergeo\":[{\"marker\":{\"colorbar\":{\"outlinewidth\":0,\"ticks\":\"\"}},\"type\":\"scattergeo\"}],\"scattergl\":[{\"marker\":{\"colorbar\":{\"outlinewidth\":0,\"ticks\":\"\"}},\"type\":\"scattergl\"}],\"scattermapbox\":[{\"marker\":{\"colorbar\":{\"outlinewidth\":0,\"ticks\":\"\"}},\"type\":\"scattermapbox\"}],\"scatterpolargl\":[{\"marker\":{\"colorbar\":{\"outlinewidth\":0,\"ticks\":\"\"}},\"type\":\"scatterpolargl\"}],\"scatterpolar\":[{\"marker\":{\"colorbar\":{\"outlinewidth\":0,\"ticks\":\"\"}},\"type\":\"scatterpolar\"}],\"scatter\":[{\"fillpattern\":{\"fillmode\":\"overlay\",\"size\":10,\"solidity\":0.2},\"type\":\"scatter\"}],\"scatterternary\":[{\"marker\":{\"colorbar\":{\"outlinewidth\":0,\"ticks\":\"\"}},\"type\":\"scatterternary\"}],\"surface\":[{\"colorbar\":{\"outlinewidth\":0,\"ticks\":\"\"},\"colorscale\":[[0.0,\"#0d0887\"],[0.1111111111111111,\"#46039f\"],[0.2222222222222222,\"#7201a8\"],[0.3333333333333333,\"#9c179e\"],[0.4444444444444444,\"#bd3786\"],[0.5555555555555556,\"#d8576b\"],[0.6666666666666666,\"#ed7953\"],[0.7777777777777778,\"#fb9f3a\"],[0.8888888888888888,\"#fdca26\"],[1.0,\"#f0f921\"]],\"type\":\"surface\"}],\"table\":[{\"cells\":{\"fill\":{\"color\":\"#EBF0F8\"},\"line\":{\"color\":\"white\"}},\"header\":{\"fill\":{\"color\":\"#C8D4E3\"},\"line\":{\"color\":\"white\"}},\"type\":\"table\"}]},\"layout\":{\"annotationdefaults\":{\"arrowcolor\":\"#2a3f5f\",\"arrowhead\":0,\"arrowwidth\":1},\"autotypenumbers\":\"strict\",\"coloraxis\":{\"colorbar\":{\"outlinewidth\":0,\"ticks\":\"\"}},\"colorscale\":{\"diverging\":[[0,\"#8e0152\"],[0.1,\"#c51b7d\"],[0.2,\"#de77ae\"],[0.3,\"#f1b6da\"],[0.4,\"#fde0ef\"],[0.5,\"#f7f7f7\"],[0.6,\"#e6f5d0\"],[0.7,\"#b8e186\"],[0.8,\"#7fbc41\"],[0.9,\"#4d9221\"],[1,\"#276419\"]],\"sequential\":[[0.0,\"#0d0887\"],[0.1111111111111111,\"#46039f\"],[0.2222222222222222,\"#7201a8\"],[0.3333333333333333,\"#9c179e\"],[0.4444444444444444,\"#bd3786\"],[0.5555555555555556,\"#d8576b\"],[0.6666666666666666,\"#ed7953\"],[0.7777777777777778,\"#fb9f3a\"],[0.8888888888888888,\"#fdca26\"],[1.0,\"#f0f921\"]],\"sequentialminus\":[[0.0,\"#0d0887\"],[0.1111111111111111,\"#46039f\"],[0.2222222222222222,\"#7201a8\"],[0.3333333333333333,\"#9c179e\"],[0.4444444444444444,\"#bd3786\"],[0.5555555555555556,\"#d8576b\"],[0.6666666666666666,\"#ed7953\"],[0.7777777777777778,\"#fb9f3a\"],[0.8888888888888888,\"#fdca26\"],[1.0,\"#f0f921\"]]},\"colorway\":[\"#636efa\",\"#EF553B\",\"#00cc96\",\"#ab63fa\",\"#FFA15A\",\"#19d3f3\",\"#FF6692\",\"#B6E880\",\"#FF97FF\",\"#FECB52\"],\"font\":{\"color\":\"#2a3f5f\"},\"geo\":{\"bgcolor\":\"white\",\"lakecolor\":\"white\",\"landcolor\":\"white\",\"showlakes\":true,\"showland\":true,\"subunitcolor\":\"#C8D4E3\"},\"hoverlabel\":{\"align\":\"left\"},\"hovermode\":\"closest\",\"mapbox\":{\"style\":\"light\"},\"paper_bgcolor\":\"white\",\"plot_bgcolor\":\"white\",\"polar\":{\"angularaxis\":{\"gridcolor\":\"#EBF0F8\",\"linecolor\":\"#EBF0F8\",\"ticks\":\"\"},\"bgcolor\":\"white\",\"radialaxis\":{\"gridcolor\":\"#EBF0F8\",\"linecolor\":\"#EBF0F8\",\"ticks\":\"\"}},\"scene\":{\"xaxis\":{\"backgroundcolor\":\"white\",\"gridcolor\":\"#DFE8F3\",\"gridwidth\":2,\"linecolor\":\"#EBF0F8\",\"showbackground\":true,\"ticks\":\"\",\"zerolinecolor\":\"#EBF0F8\"},\"yaxis\":{\"backgroundcolor\":\"white\",\"gridcolor\":\"#DFE8F3\",\"gridwidth\":2,\"linecolor\":\"#EBF0F8\",\"showbackground\":true,\"ticks\":\"\",\"zerolinecolor\":\"#EBF0F8\"},\"zaxis\":{\"backgroundcolor\":\"white\",\"gridcolor\":\"#DFE8F3\",\"gridwidth\":2,\"linecolor\":\"#EBF0F8\",\"showbackground\":true,\"ticks\":\"\",\"zerolinecolor\":\"#EBF0F8\"}},\"shapedefaults\":{\"line\":{\"color\":\"#2a3f5f\"}},\"ternary\":{\"aaxis\":{\"gridcolor\":\"#DFE8F3\",\"linecolor\":\"#A2B1C6\",\"ticks\":\"\"},\"baxis\":{\"gridcolor\":\"#DFE8F3\",\"linecolor\":\"#A2B1C6\",\"ticks\":\"\"},\"bgcolor\":\"white\",\"caxis\":{\"gridcolor\":\"#DFE8F3\",\"linecolor\":\"#A2B1C6\",\"ticks\":\"\"}},\"title\":{\"x\":0.05},\"xaxis\":{\"automargin\":true,\"gridcolor\":\"#EBF0F8\",\"linecolor\":\"#EBF0F8\",\"ticks\":\"\",\"title\":{\"standoff\":15},\"zerolinecolor\":\"#EBF0F8\",\"zerolinewidth\":2},\"yaxis\":{\"automargin\":true,\"gridcolor\":\"#EBF0F8\",\"linecolor\":\"#EBF0F8\",\"ticks\":\"\",\"title\":{\"standoff\":15},\"zerolinecolor\":\"#EBF0F8\",\"zerolinewidth\":2}}},\"title\":{\"text\":\"📅 Hourly Sentiment Distribution\"},\"xaxis\":{\"title\":{\"text\":\"Hour of Day\"}},\"updatemenus\":[{\"buttons\":[{\"args\":[{\"visible\":[true,false,false]}],\"label\":\"Positive\",\"method\":\"update\"},{\"args\":[{\"visible\":[false,true,false]}],\"label\":\"Neutral\",\"method\":\"update\"},{\"args\":[{\"visible\":[false,false,true]}],\"label\":\"Negative\",\"method\":\"update\"}],\"direction\":\"right\",\"type\":\"buttons\",\"x\":0.7,\"y\":1.15}],\"height\":400},                        {\"responsive\": true}                    ).then(function(){\n",
              "                            \n",
              "var gd = document.getElementById('d26c9e0b-9e0f-469f-a22e-afc5eb1e4834');\n",
              "var x = new MutationObserver(function (mutations, observer) {{\n",
              "        var display = window.getComputedStyle(gd).display;\n",
              "        if (!display || display === 'none') {{\n",
              "            console.log([gd, 'removed!']);\n",
              "            Plotly.purge(gd);\n",
              "            observer.disconnect();\n",
              "        }}\n",
              "}});\n",
              "\n",
              "// Listen for the removal of the full notebook cells\n",
              "var notebookContainer = gd.closest('#notebook-container');\n",
              "if (notebookContainer) {{\n",
              "    x.observe(notebookContainer, {childList: true});\n",
              "}}\n",
              "\n",
              "// Listen for the clearing of the current output cell\n",
              "var outputEl = gd.closest('.output');\n",
              "if (outputEl) {{\n",
              "    x.observe(outputEl, {childList: true});\n",
              "}}\n",
              "\n",
              "                        })                };                });            </script>        </div>"
            ]
          },
          "metadata": {}
        },
        {
          "output_type": "display_data",
          "data": {
            "application/vnd.plotly.v1+json": {
              "data": [
                {
                  "delta": {
                    "reference": 50
                  },
                  "domain": {
                    "x": [
                      0,
                      1
                    ],
                    "y": [
                      0,
                      1
                    ]
                  },
                  "gauge": {
                    "axis": {
                      "range": [
                        null,
                        100
                      ]
                    },
                    "bar": {
                      "color": "darkblue"
                    },
                    "steps": [
                      {
                        "color": "lightgray",
                        "range": [
                          0,
                          25
                        ]
                      },
                      {
                        "color": "gray",
                        "range": [
                          25,
                          50
                        ]
                      },
                      {
                        "color": "lightgreen",
                        "range": [
                          50,
                          75
                        ]
                      },
                      {
                        "color": "green",
                        "range": [
                          75,
                          100
                        ]
                      }
                    ],
                    "threshold": {
                      "line": {
                        "color": "red",
                        "width": 4
                      },
                      "thickness": 0.75,
                      "value": 90
                    }
                  },
                  "mode": "gauge+number+delta",
                  "title": {
                    "text": "🌍 World Mood Score"
                  },
                  "value": 49.16777480899481,
                  "type": "indicator"
                }
              ],
              "layout": {
                "template": {
                  "data": {
                    "barpolar": [
                      {
                        "marker": {
                          "line": {
                            "color": "white",
                            "width": 0.5
                          },
                          "pattern": {
                            "fillmode": "overlay",
                            "size": 10,
                            "solidity": 0.2
                          }
                        },
                        "type": "barpolar"
                      }
                    ],
                    "bar": [
                      {
                        "error_x": {
                          "color": "#2a3f5f"
                        },
                        "error_y": {
                          "color": "#2a3f5f"
                        },
                        "marker": {
                          "line": {
                            "color": "white",
                            "width": 0.5
                          },
                          "pattern": {
                            "fillmode": "overlay",
                            "size": 10,
                            "solidity": 0.2
                          }
                        },
                        "type": "bar"
                      }
                    ],
                    "carpet": [
                      {
                        "aaxis": {
                          "endlinecolor": "#2a3f5f",
                          "gridcolor": "#C8D4E3",
                          "linecolor": "#C8D4E3",
                          "minorgridcolor": "#C8D4E3",
                          "startlinecolor": "#2a3f5f"
                        },
                        "baxis": {
                          "endlinecolor": "#2a3f5f",
                          "gridcolor": "#C8D4E3",
                          "linecolor": "#C8D4E3",
                          "minorgridcolor": "#C8D4E3",
                          "startlinecolor": "#2a3f5f"
                        },
                        "type": "carpet"
                      }
                    ],
                    "choropleth": [
                      {
                        "colorbar": {
                          "outlinewidth": 0,
                          "ticks": ""
                        },
                        "type": "choropleth"
                      }
                    ],
                    "contourcarpet": [
                      {
                        "colorbar": {
                          "outlinewidth": 0,
                          "ticks": ""
                        },
                        "type": "contourcarpet"
                      }
                    ],
                    "contour": [
                      {
                        "colorbar": {
                          "outlinewidth": 0,
                          "ticks": ""
                        },
                        "colorscale": [
                          [
                            0,
                            "#0d0887"
                          ],
                          [
                            0.1111111111111111,
                            "#46039f"
                          ],
                          [
                            0.2222222222222222,
                            "#7201a8"
                          ],
                          [
                            0.3333333333333333,
                            "#9c179e"
                          ],
                          [
                            0.4444444444444444,
                            "#bd3786"
                          ],
                          [
                            0.5555555555555556,
                            "#d8576b"
                          ],
                          [
                            0.6666666666666666,
                            "#ed7953"
                          ],
                          [
                            0.7777777777777778,
                            "#fb9f3a"
                          ],
                          [
                            0.8888888888888888,
                            "#fdca26"
                          ],
                          [
                            1,
                            "#f0f921"
                          ]
                        ],
                        "type": "contour"
                      }
                    ],
                    "heatmapgl": [
                      {
                        "colorbar": {
                          "outlinewidth": 0,
                          "ticks": ""
                        },
                        "colorscale": [
                          [
                            0,
                            "#0d0887"
                          ],
                          [
                            0.1111111111111111,
                            "#46039f"
                          ],
                          [
                            0.2222222222222222,
                            "#7201a8"
                          ],
                          [
                            0.3333333333333333,
                            "#9c179e"
                          ],
                          [
                            0.4444444444444444,
                            "#bd3786"
                          ],
                          [
                            0.5555555555555556,
                            "#d8576b"
                          ],
                          [
                            0.6666666666666666,
                            "#ed7953"
                          ],
                          [
                            0.7777777777777778,
                            "#fb9f3a"
                          ],
                          [
                            0.8888888888888888,
                            "#fdca26"
                          ],
                          [
                            1,
                            "#f0f921"
                          ]
                        ],
                        "type": "heatmapgl"
                      }
                    ],
                    "heatmap": [
                      {
                        "colorbar": {
                          "outlinewidth": 0,
                          "ticks": ""
                        },
                        "colorscale": [
                          [
                            0,
                            "#0d0887"
                          ],
                          [
                            0.1111111111111111,
                            "#46039f"
                          ],
                          [
                            0.2222222222222222,
                            "#7201a8"
                          ],
                          [
                            0.3333333333333333,
                            "#9c179e"
                          ],
                          [
                            0.4444444444444444,
                            "#bd3786"
                          ],
                          [
                            0.5555555555555556,
                            "#d8576b"
                          ],
                          [
                            0.6666666666666666,
                            "#ed7953"
                          ],
                          [
                            0.7777777777777778,
                            "#fb9f3a"
                          ],
                          [
                            0.8888888888888888,
                            "#fdca26"
                          ],
                          [
                            1,
                            "#f0f921"
                          ]
                        ],
                        "type": "heatmap"
                      }
                    ],
                    "histogram2dcontour": [
                      {
                        "colorbar": {
                          "outlinewidth": 0,
                          "ticks": ""
                        },
                        "colorscale": [
                          [
                            0,
                            "#0d0887"
                          ],
                          [
                            0.1111111111111111,
                            "#46039f"
                          ],
                          [
                            0.2222222222222222,
                            "#7201a8"
                          ],
                          [
                            0.3333333333333333,
                            "#9c179e"
                          ],
                          [
                            0.4444444444444444,
                            "#bd3786"
                          ],
                          [
                            0.5555555555555556,
                            "#d8576b"
                          ],
                          [
                            0.6666666666666666,
                            "#ed7953"
                          ],
                          [
                            0.7777777777777778,
                            "#fb9f3a"
                          ],
                          [
                            0.8888888888888888,
                            "#fdca26"
                          ],
                          [
                            1,
                            "#f0f921"
                          ]
                        ],
                        "type": "histogram2dcontour"
                      }
                    ],
                    "histogram2d": [
                      {
                        "colorbar": {
                          "outlinewidth": 0,
                          "ticks": ""
                        },
                        "colorscale": [
                          [
                            0,
                            "#0d0887"
                          ],
                          [
                            0.1111111111111111,
                            "#46039f"
                          ],
                          [
                            0.2222222222222222,
                            "#7201a8"
                          ],
                          [
                            0.3333333333333333,
                            "#9c179e"
                          ],
                          [
                            0.4444444444444444,
                            "#bd3786"
                          ],
                          [
                            0.5555555555555556,
                            "#d8576b"
                          ],
                          [
                            0.6666666666666666,
                            "#ed7953"
                          ],
                          [
                            0.7777777777777778,
                            "#fb9f3a"
                          ],
                          [
                            0.8888888888888888,
                            "#fdca26"
                          ],
                          [
                            1,
                            "#f0f921"
                          ]
                        ],
                        "type": "histogram2d"
                      }
                    ],
                    "histogram": [
                      {
                        "marker": {
                          "pattern": {
                            "fillmode": "overlay",
                            "size": 10,
                            "solidity": 0.2
                          }
                        },
                        "type": "histogram"
                      }
                    ],
                    "mesh3d": [
                      {
                        "colorbar": {
                          "outlinewidth": 0,
                          "ticks": ""
                        },
                        "type": "mesh3d"
                      }
                    ],
                    "parcoords": [
                      {
                        "line": {
                          "colorbar": {
                            "outlinewidth": 0,
                            "ticks": ""
                          }
                        },
                        "type": "parcoords"
                      }
                    ],
                    "pie": [
                      {
                        "automargin": true,
                        "type": "pie"
                      }
                    ],
                    "scatter3d": [
                      {
                        "line": {
                          "colorbar": {
                            "outlinewidth": 0,
                            "ticks": ""
                          }
                        },
                        "marker": {
                          "colorbar": {
                            "outlinewidth": 0,
                            "ticks": ""
                          }
                        },
                        "type": "scatter3d"
                      }
                    ],
                    "scattercarpet": [
                      {
                        "marker": {
                          "colorbar": {
                            "outlinewidth": 0,
                            "ticks": ""
                          }
                        },
                        "type": "scattercarpet"
                      }
                    ],
                    "scattergeo": [
                      {
                        "marker": {
                          "colorbar": {
                            "outlinewidth": 0,
                            "ticks": ""
                          }
                        },
                        "type": "scattergeo"
                      }
                    ],
                    "scattergl": [
                      {
                        "marker": {
                          "colorbar": {
                            "outlinewidth": 0,
                            "ticks": ""
                          }
                        },
                        "type": "scattergl"
                      }
                    ],
                    "scattermapbox": [
                      {
                        "marker": {
                          "colorbar": {
                            "outlinewidth": 0,
                            "ticks": ""
                          }
                        },
                        "type": "scattermapbox"
                      }
                    ],
                    "scatterpolargl": [
                      {
                        "marker": {
                          "colorbar": {
                            "outlinewidth": 0,
                            "ticks": ""
                          }
                        },
                        "type": "scatterpolargl"
                      }
                    ],
                    "scatterpolar": [
                      {
                        "marker": {
                          "colorbar": {
                            "outlinewidth": 0,
                            "ticks": ""
                          }
                        },
                        "type": "scatterpolar"
                      }
                    ],
                    "scatter": [
                      {
                        "fillpattern": {
                          "fillmode": "overlay",
                          "size": 10,
                          "solidity": 0.2
                        },
                        "type": "scatter"
                      }
                    ],
                    "scatterternary": [
                      {
                        "marker": {
                          "colorbar": {
                            "outlinewidth": 0,
                            "ticks": ""
                          }
                        },
                        "type": "scatterternary"
                      }
                    ],
                    "surface": [
                      {
                        "colorbar": {
                          "outlinewidth": 0,
                          "ticks": ""
                        },
                        "colorscale": [
                          [
                            0,
                            "#0d0887"
                          ],
                          [
                            0.1111111111111111,
                            "#46039f"
                          ],
                          [
                            0.2222222222222222,
                            "#7201a8"
                          ],
                          [
                            0.3333333333333333,
                            "#9c179e"
                          ],
                          [
                            0.4444444444444444,
                            "#bd3786"
                          ],
                          [
                            0.5555555555555556,
                            "#d8576b"
                          ],
                          [
                            0.6666666666666666,
                            "#ed7953"
                          ],
                          [
                            0.7777777777777778,
                            "#fb9f3a"
                          ],
                          [
                            0.8888888888888888,
                            "#fdca26"
                          ],
                          [
                            1,
                            "#f0f921"
                          ]
                        ],
                        "type": "surface"
                      }
                    ],
                    "table": [
                      {
                        "cells": {
                          "fill": {
                            "color": "#EBF0F8"
                          },
                          "line": {
                            "color": "white"
                          }
                        },
                        "header": {
                          "fill": {
                            "color": "#C8D4E3"
                          },
                          "line": {
                            "color": "white"
                          }
                        },
                        "type": "table"
                      }
                    ]
                  },
                  "layout": {
                    "annotationdefaults": {
                      "arrowcolor": "#2a3f5f",
                      "arrowhead": 0,
                      "arrowwidth": 1
                    },
                    "autotypenumbers": "strict",
                    "coloraxis": {
                      "colorbar": {
                        "outlinewidth": 0,
                        "ticks": ""
                      }
                    },
                    "colorscale": {
                      "diverging": [
                        [
                          0,
                          "#8e0152"
                        ],
                        [
                          0.1,
                          "#c51b7d"
                        ],
                        [
                          0.2,
                          "#de77ae"
                        ],
                        [
                          0.3,
                          "#f1b6da"
                        ],
                        [
                          0.4,
                          "#fde0ef"
                        ],
                        [
                          0.5,
                          "#f7f7f7"
                        ],
                        [
                          0.6,
                          "#e6f5d0"
                        ],
                        [
                          0.7,
                          "#b8e186"
                        ],
                        [
                          0.8,
                          "#7fbc41"
                        ],
                        [
                          0.9,
                          "#4d9221"
                        ],
                        [
                          1,
                          "#276419"
                        ]
                      ],
                      "sequential": [
                        [
                          0,
                          "#0d0887"
                        ],
                        [
                          0.1111111111111111,
                          "#46039f"
                        ],
                        [
                          0.2222222222222222,
                          "#7201a8"
                        ],
                        [
                          0.3333333333333333,
                          "#9c179e"
                        ],
                        [
                          0.4444444444444444,
                          "#bd3786"
                        ],
                        [
                          0.5555555555555556,
                          "#d8576b"
                        ],
                        [
                          0.6666666666666666,
                          "#ed7953"
                        ],
                        [
                          0.7777777777777778,
                          "#fb9f3a"
                        ],
                        [
                          0.8888888888888888,
                          "#fdca26"
                        ],
                        [
                          1,
                          "#f0f921"
                        ]
                      ],
                      "sequentialminus": [
                        [
                          0,
                          "#0d0887"
                        ],
                        [
                          0.1111111111111111,
                          "#46039f"
                        ],
                        [
                          0.2222222222222222,
                          "#7201a8"
                        ],
                        [
                          0.3333333333333333,
                          "#9c179e"
                        ],
                        [
                          0.4444444444444444,
                          "#bd3786"
                        ],
                        [
                          0.5555555555555556,
                          "#d8576b"
                        ],
                        [
                          0.6666666666666666,
                          "#ed7953"
                        ],
                        [
                          0.7777777777777778,
                          "#fb9f3a"
                        ],
                        [
                          0.8888888888888888,
                          "#fdca26"
                        ],
                        [
                          1,
                          "#f0f921"
                        ]
                      ]
                    },
                    "colorway": [
                      "#636efa",
                      "#EF553B",
                      "#00cc96",
                      "#ab63fa",
                      "#FFA15A",
                      "#19d3f3",
                      "#FF6692",
                      "#B6E880",
                      "#FF97FF",
                      "#FECB52"
                    ],
                    "font": {
                      "color": "#2a3f5f"
                    },
                    "geo": {
                      "bgcolor": "white",
                      "lakecolor": "white",
                      "landcolor": "white",
                      "showlakes": true,
                      "showland": true,
                      "subunitcolor": "#C8D4E3"
                    },
                    "hoverlabel": {
                      "align": "left"
                    },
                    "hovermode": "closest",
                    "mapbox": {
                      "style": "light"
                    },
                    "paper_bgcolor": "white",
                    "plot_bgcolor": "white",
                    "polar": {
                      "angularaxis": {
                        "gridcolor": "#EBF0F8",
                        "linecolor": "#EBF0F8",
                        "ticks": ""
                      },
                      "bgcolor": "white",
                      "radialaxis": {
                        "gridcolor": "#EBF0F8",
                        "linecolor": "#EBF0F8",
                        "ticks": ""
                      }
                    },
                    "scene": {
                      "xaxis": {
                        "backgroundcolor": "white",
                        "gridcolor": "#DFE8F3",
                        "gridwidth": 2,
                        "linecolor": "#EBF0F8",
                        "showbackground": true,
                        "ticks": "",
                        "zerolinecolor": "#EBF0F8"
                      },
                      "yaxis": {
                        "backgroundcolor": "white",
                        "gridcolor": "#DFE8F3",
                        "gridwidth": 2,
                        "linecolor": "#EBF0F8",
                        "showbackground": true,
                        "ticks": "",
                        "zerolinecolor": "#EBF0F8"
                      },
                      "zaxis": {
                        "backgroundcolor": "white",
                        "gridcolor": "#DFE8F3",
                        "gridwidth": 2,
                        "linecolor": "#EBF0F8",
                        "showbackground": true,
                        "ticks": "",
                        "zerolinecolor": "#EBF0F8"
                      }
                    },
                    "shapedefaults": {
                      "line": {
                        "color": "#2a3f5f"
                      }
                    },
                    "ternary": {
                      "aaxis": {
                        "gridcolor": "#DFE8F3",
                        "linecolor": "#A2B1C6",
                        "ticks": ""
                      },
                      "baxis": {
                        "gridcolor": "#DFE8F3",
                        "linecolor": "#A2B1C6",
                        "ticks": ""
                      },
                      "bgcolor": "white",
                      "caxis": {
                        "gridcolor": "#DFE8F3",
                        "linecolor": "#A2B1C6",
                        "ticks": ""
                      }
                    },
                    "title": {
                      "x": 0.05
                    },
                    "xaxis": {
                      "automargin": true,
                      "gridcolor": "#EBF0F8",
                      "linecolor": "#EBF0F8",
                      "ticks": "",
                      "title": {
                        "standoff": 15
                      },
                      "zerolinecolor": "#EBF0F8",
                      "zerolinewidth": 2
                    },
                    "yaxis": {
                      "automargin": true,
                      "gridcolor": "#EBF0F8",
                      "linecolor": "#EBF0F8",
                      "ticks": "",
                      "title": {
                        "standoff": 15
                      },
                      "zerolinecolor": "#EBF0F8",
                      "zerolinewidth": 2
                    }
                  }
                },
                "height": 400,
                "annotations": [
                  {
                    "font": {
                      "size": 12
                    },
                    "showarrow": false,
                    "text": "Based on 500 tweets<br>Avg Polarity: -0.017",
                    "x": 0.5,
                    "y": 0.1
                  }
                ]
              },
              "config": {
                "plotlyServerURL": "https://plot.ly"
              }
            },
            "text/html": [
              "<div>                            <div id=\"5a021fe1-7d33-4392-924a-726b70570fa4\" class=\"plotly-graph-div\" style=\"height:400px; width:100%;\"></div>            <script type=\"text/javascript\">                require([\"plotly\"], function(Plotly) {                    window.PLOTLYENV=window.PLOTLYENV || {};                                    if (document.getElementById(\"5a021fe1-7d33-4392-924a-726b70570fa4\")) {                    Plotly.newPlot(                        \"5a021fe1-7d33-4392-924a-726b70570fa4\",                        [{\"delta\":{\"reference\":50},\"domain\":{\"x\":[0,1],\"y\":[0,1]},\"gauge\":{\"axis\":{\"range\":[null,100]},\"bar\":{\"color\":\"darkblue\"},\"steps\":[{\"color\":\"lightgray\",\"range\":[0,25]},{\"color\":\"gray\",\"range\":[25,50]},{\"color\":\"lightgreen\",\"range\":[50,75]},{\"color\":\"green\",\"range\":[75,100]}],\"threshold\":{\"line\":{\"color\":\"red\",\"width\":4},\"thickness\":0.75,\"value\":90}},\"mode\":\"gauge+number+delta\",\"title\":{\"text\":\"🌍 World Mood Score\"},\"value\":49.16777480899481,\"type\":\"indicator\"}],                        {\"template\":{\"data\":{\"barpolar\":[{\"marker\":{\"line\":{\"color\":\"white\",\"width\":0.5},\"pattern\":{\"fillmode\":\"overlay\",\"size\":10,\"solidity\":0.2}},\"type\":\"barpolar\"}],\"bar\":[{\"error_x\":{\"color\":\"#2a3f5f\"},\"error_y\":{\"color\":\"#2a3f5f\"},\"marker\":{\"line\":{\"color\":\"white\",\"width\":0.5},\"pattern\":{\"fillmode\":\"overlay\",\"size\":10,\"solidity\":0.2}},\"type\":\"bar\"}],\"carpet\":[{\"aaxis\":{\"endlinecolor\":\"#2a3f5f\",\"gridcolor\":\"#C8D4E3\",\"linecolor\":\"#C8D4E3\",\"minorgridcolor\":\"#C8D4E3\",\"startlinecolor\":\"#2a3f5f\"},\"baxis\":{\"endlinecolor\":\"#2a3f5f\",\"gridcolor\":\"#C8D4E3\",\"linecolor\":\"#C8D4E3\",\"minorgridcolor\":\"#C8D4E3\",\"startlinecolor\":\"#2a3f5f\"},\"type\":\"carpet\"}],\"choropleth\":[{\"colorbar\":{\"outlinewidth\":0,\"ticks\":\"\"},\"type\":\"choropleth\"}],\"contourcarpet\":[{\"colorbar\":{\"outlinewidth\":0,\"ticks\":\"\"},\"type\":\"contourcarpet\"}],\"contour\":[{\"colorbar\":{\"outlinewidth\":0,\"ticks\":\"\"},\"colorscale\":[[0.0,\"#0d0887\"],[0.1111111111111111,\"#46039f\"],[0.2222222222222222,\"#7201a8\"],[0.3333333333333333,\"#9c179e\"],[0.4444444444444444,\"#bd3786\"],[0.5555555555555556,\"#d8576b\"],[0.6666666666666666,\"#ed7953\"],[0.7777777777777778,\"#fb9f3a\"],[0.8888888888888888,\"#fdca26\"],[1.0,\"#f0f921\"]],\"type\":\"contour\"}],\"heatmapgl\":[{\"colorbar\":{\"outlinewidth\":0,\"ticks\":\"\"},\"colorscale\":[[0.0,\"#0d0887\"],[0.1111111111111111,\"#46039f\"],[0.2222222222222222,\"#7201a8\"],[0.3333333333333333,\"#9c179e\"],[0.4444444444444444,\"#bd3786\"],[0.5555555555555556,\"#d8576b\"],[0.6666666666666666,\"#ed7953\"],[0.7777777777777778,\"#fb9f3a\"],[0.8888888888888888,\"#fdca26\"],[1.0,\"#f0f921\"]],\"type\":\"heatmapgl\"}],\"heatmap\":[{\"colorbar\":{\"outlinewidth\":0,\"ticks\":\"\"},\"colorscale\":[[0.0,\"#0d0887\"],[0.1111111111111111,\"#46039f\"],[0.2222222222222222,\"#7201a8\"],[0.3333333333333333,\"#9c179e\"],[0.4444444444444444,\"#bd3786\"],[0.5555555555555556,\"#d8576b\"],[0.6666666666666666,\"#ed7953\"],[0.7777777777777778,\"#fb9f3a\"],[0.8888888888888888,\"#fdca26\"],[1.0,\"#f0f921\"]],\"type\":\"heatmap\"}],\"histogram2dcontour\":[{\"colorbar\":{\"outlinewidth\":0,\"ticks\":\"\"},\"colorscale\":[[0.0,\"#0d0887\"],[0.1111111111111111,\"#46039f\"],[0.2222222222222222,\"#7201a8\"],[0.3333333333333333,\"#9c179e\"],[0.4444444444444444,\"#bd3786\"],[0.5555555555555556,\"#d8576b\"],[0.6666666666666666,\"#ed7953\"],[0.7777777777777778,\"#fb9f3a\"],[0.8888888888888888,\"#fdca26\"],[1.0,\"#f0f921\"]],\"type\":\"histogram2dcontour\"}],\"histogram2d\":[{\"colorbar\":{\"outlinewidth\":0,\"ticks\":\"\"},\"colorscale\":[[0.0,\"#0d0887\"],[0.1111111111111111,\"#46039f\"],[0.2222222222222222,\"#7201a8\"],[0.3333333333333333,\"#9c179e\"],[0.4444444444444444,\"#bd3786\"],[0.5555555555555556,\"#d8576b\"],[0.6666666666666666,\"#ed7953\"],[0.7777777777777778,\"#fb9f3a\"],[0.8888888888888888,\"#fdca26\"],[1.0,\"#f0f921\"]],\"type\":\"histogram2d\"}],\"histogram\":[{\"marker\":{\"pattern\":{\"fillmode\":\"overlay\",\"size\":10,\"solidity\":0.2}},\"type\":\"histogram\"}],\"mesh3d\":[{\"colorbar\":{\"outlinewidth\":0,\"ticks\":\"\"},\"type\":\"mesh3d\"}],\"parcoords\":[{\"line\":{\"colorbar\":{\"outlinewidth\":0,\"ticks\":\"\"}},\"type\":\"parcoords\"}],\"pie\":[{\"automargin\":true,\"type\":\"pie\"}],\"scatter3d\":[{\"line\":{\"colorbar\":{\"outlinewidth\":0,\"ticks\":\"\"}},\"marker\":{\"colorbar\":{\"outlinewidth\":0,\"ticks\":\"\"}},\"type\":\"scatter3d\"}],\"scattercarpet\":[{\"marker\":{\"colorbar\":{\"outlinewidth\":0,\"ticks\":\"\"}},\"type\":\"scattercarpet\"}],\"scattergeo\":[{\"marker\":{\"colorbar\":{\"outlinewidth\":0,\"ticks\":\"\"}},\"type\":\"scattergeo\"}],\"scattergl\":[{\"marker\":{\"colorbar\":{\"outlinewidth\":0,\"ticks\":\"\"}},\"type\":\"scattergl\"}],\"scattermapbox\":[{\"marker\":{\"colorbar\":{\"outlinewidth\":0,\"ticks\":\"\"}},\"type\":\"scattermapbox\"}],\"scatterpolargl\":[{\"marker\":{\"colorbar\":{\"outlinewidth\":0,\"ticks\":\"\"}},\"type\":\"scatterpolargl\"}],\"scatterpolar\":[{\"marker\":{\"colorbar\":{\"outlinewidth\":0,\"ticks\":\"\"}},\"type\":\"scatterpolar\"}],\"scatter\":[{\"fillpattern\":{\"fillmode\":\"overlay\",\"size\":10,\"solidity\":0.2},\"type\":\"scatter\"}],\"scatterternary\":[{\"marker\":{\"colorbar\":{\"outlinewidth\":0,\"ticks\":\"\"}},\"type\":\"scatterternary\"}],\"surface\":[{\"colorbar\":{\"outlinewidth\":0,\"ticks\":\"\"},\"colorscale\":[[0.0,\"#0d0887\"],[0.1111111111111111,\"#46039f\"],[0.2222222222222222,\"#7201a8\"],[0.3333333333333333,\"#9c179e\"],[0.4444444444444444,\"#bd3786\"],[0.5555555555555556,\"#d8576b\"],[0.6666666666666666,\"#ed7953\"],[0.7777777777777778,\"#fb9f3a\"],[0.8888888888888888,\"#fdca26\"],[1.0,\"#f0f921\"]],\"type\":\"surface\"}],\"table\":[{\"cells\":{\"fill\":{\"color\":\"#EBF0F8\"},\"line\":{\"color\":\"white\"}},\"header\":{\"fill\":{\"color\":\"#C8D4E3\"},\"line\":{\"color\":\"white\"}},\"type\":\"table\"}]},\"layout\":{\"annotationdefaults\":{\"arrowcolor\":\"#2a3f5f\",\"arrowhead\":0,\"arrowwidth\":1},\"autotypenumbers\":\"strict\",\"coloraxis\":{\"colorbar\":{\"outlinewidth\":0,\"ticks\":\"\"}},\"colorscale\":{\"diverging\":[[0,\"#8e0152\"],[0.1,\"#c51b7d\"],[0.2,\"#de77ae\"],[0.3,\"#f1b6da\"],[0.4,\"#fde0ef\"],[0.5,\"#f7f7f7\"],[0.6,\"#e6f5d0\"],[0.7,\"#b8e186\"],[0.8,\"#7fbc41\"],[0.9,\"#4d9221\"],[1,\"#276419\"]],\"sequential\":[[0.0,\"#0d0887\"],[0.1111111111111111,\"#46039f\"],[0.2222222222222222,\"#7201a8\"],[0.3333333333333333,\"#9c179e\"],[0.4444444444444444,\"#bd3786\"],[0.5555555555555556,\"#d8576b\"],[0.6666666666666666,\"#ed7953\"],[0.7777777777777778,\"#fb9f3a\"],[0.8888888888888888,\"#fdca26\"],[1.0,\"#f0f921\"]],\"sequentialminus\":[[0.0,\"#0d0887\"],[0.1111111111111111,\"#46039f\"],[0.2222222222222222,\"#7201a8\"],[0.3333333333333333,\"#9c179e\"],[0.4444444444444444,\"#bd3786\"],[0.5555555555555556,\"#d8576b\"],[0.6666666666666666,\"#ed7953\"],[0.7777777777777778,\"#fb9f3a\"],[0.8888888888888888,\"#fdca26\"],[1.0,\"#f0f921\"]]},\"colorway\":[\"#636efa\",\"#EF553B\",\"#00cc96\",\"#ab63fa\",\"#FFA15A\",\"#19d3f3\",\"#FF6692\",\"#B6E880\",\"#FF97FF\",\"#FECB52\"],\"font\":{\"color\":\"#2a3f5f\"},\"geo\":{\"bgcolor\":\"white\",\"lakecolor\":\"white\",\"landcolor\":\"white\",\"showlakes\":true,\"showland\":true,\"subunitcolor\":\"#C8D4E3\"},\"hoverlabel\":{\"align\":\"left\"},\"hovermode\":\"closest\",\"mapbox\":{\"style\":\"light\"},\"paper_bgcolor\":\"white\",\"plot_bgcolor\":\"white\",\"polar\":{\"angularaxis\":{\"gridcolor\":\"#EBF0F8\",\"linecolor\":\"#EBF0F8\",\"ticks\":\"\"},\"bgcolor\":\"white\",\"radialaxis\":{\"gridcolor\":\"#EBF0F8\",\"linecolor\":\"#EBF0F8\",\"ticks\":\"\"}},\"scene\":{\"xaxis\":{\"backgroundcolor\":\"white\",\"gridcolor\":\"#DFE8F3\",\"gridwidth\":2,\"linecolor\":\"#EBF0F8\",\"showbackground\":true,\"ticks\":\"\",\"zerolinecolor\":\"#EBF0F8\"},\"yaxis\":{\"backgroundcolor\":\"white\",\"gridcolor\":\"#DFE8F3\",\"gridwidth\":2,\"linecolor\":\"#EBF0F8\",\"showbackground\":true,\"ticks\":\"\",\"zerolinecolor\":\"#EBF0F8\"},\"zaxis\":{\"backgroundcolor\":\"white\",\"gridcolor\":\"#DFE8F3\",\"gridwidth\":2,\"linecolor\":\"#EBF0F8\",\"showbackground\":true,\"ticks\":\"\",\"zerolinecolor\":\"#EBF0F8\"}},\"shapedefaults\":{\"line\":{\"color\":\"#2a3f5f\"}},\"ternary\":{\"aaxis\":{\"gridcolor\":\"#DFE8F3\",\"linecolor\":\"#A2B1C6\",\"ticks\":\"\"},\"baxis\":{\"gridcolor\":\"#DFE8F3\",\"linecolor\":\"#A2B1C6\",\"ticks\":\"\"},\"bgcolor\":\"white\",\"caxis\":{\"gridcolor\":\"#DFE8F3\",\"linecolor\":\"#A2B1C6\",\"ticks\":\"\"}},\"title\":{\"x\":0.05},\"xaxis\":{\"automargin\":true,\"gridcolor\":\"#EBF0F8\",\"linecolor\":\"#EBF0F8\",\"ticks\":\"\",\"title\":{\"standoff\":15},\"zerolinecolor\":\"#EBF0F8\",\"zerolinewidth\":2},\"yaxis\":{\"automargin\":true,\"gridcolor\":\"#EBF0F8\",\"linecolor\":\"#EBF0F8\",\"ticks\":\"\",\"title\":{\"standoff\":15},\"zerolinecolor\":\"#EBF0F8\",\"zerolinewidth\":2}}},\"height\":400,\"annotations\":[{\"font\":{\"size\":12},\"showarrow\":false,\"text\":\"Based on 500 tweets\\u003cbr\\u003eAvg Polarity: -0.017\",\"x\":0.5,\"y\":0.1}]},                        {\"responsive\": true}                    ).then(function(){\n",
              "                            \n",
              "var gd = document.getElementById('5a021fe1-7d33-4392-924a-726b70570fa4');\n",
              "var x = new MutationObserver(function (mutations, observer) {{\n",
              "        var display = window.getComputedStyle(gd).display;\n",
              "        if (!display || display === 'none') {{\n",
              "            console.log([gd, 'removed!']);\n",
              "            Plotly.purge(gd);\n",
              "            observer.disconnect();\n",
              "        }}\n",
              "}});\n",
              "\n",
              "// Listen for the removal of the full notebook cells\n",
              "var notebookContainer = gd.closest('#notebook-container');\n",
              "if (notebookContainer) {{\n",
              "    x.observe(notebookContainer, {childList: true});\n",
              "}}\n",
              "\n",
              "// Listen for the clearing of the current output cell\n",
              "var outputEl = gd.closest('.output');\n",
              "if (outputEl) {{\n",
              "    x.observe(outputEl, {childList: true});\n",
              "}}\n",
              "\n",
              "                        })                };                });            </script>        </div>"
            ]
          },
          "metadata": {}
        },
        {
          "output_type": "display_data",
          "data": {
            "application/vnd.plotly.v1+json": {
              "data": [
                {
                  "alignmentgroup": "True",
                  "hovertemplate": "variable=Positive<br>Keywords=%{x}<br>Number of Tweets=%{y}<extra></extra>",
                  "legendgroup": "Positive",
                  "marker": {
                    "color": "#2E86AB",
                    "pattern": {
                      "shape": ""
                    }
                  },
                  "name": "Positive",
                  "offsetgroup": "Positive",
                  "orientation": "v",
                  "showlegend": true,
                  "textposition": "auto",
                  "x": [
                    "feeling",
                    "happy",
                    "mood",
                    "today",
                    "work"
                  ],
                  "xaxis": "x",
                  "y": [
                    45,
                    37,
                    35,
                    41,
                    42
                  ],
                  "yaxis": "y",
                  "type": "bar"
                },
                {
                  "alignmentgroup": "True",
                  "hovertemplate": "variable=Neutral<br>Keywords=%{x}<br>Number of Tweets=%{y}<extra></extra>",
                  "legendgroup": "Neutral",
                  "marker": {
                    "color": "#A23B72",
                    "pattern": {
                      "shape": ""
                    }
                  },
                  "name": "Neutral",
                  "offsetgroup": "Neutral",
                  "orientation": "v",
                  "showlegend": true,
                  "textposition": "auto",
                  "x": [
                    "feeling",
                    "happy",
                    "mood",
                    "today",
                    "work"
                  ],
                  "xaxis": "x",
                  "y": [
                    20,
                    18,
                    26,
                    15,
                    21
                  ],
                  "yaxis": "y",
                  "type": "bar"
                },
                {
                  "alignmentgroup": "True",
                  "hovertemplate": "variable=Negative<br>Keywords=%{x}<br>Number of Tweets=%{y}<extra></extra>",
                  "legendgroup": "Negative",
                  "marker": {
                    "color": "#F18F01",
                    "pattern": {
                      "shape": ""
                    }
                  },
                  "name": "Negative",
                  "offsetgroup": "Negative",
                  "orientation": "v",
                  "showlegend": true,
                  "textposition": "auto",
                  "x": [
                    "feeling",
                    "happy",
                    "mood",
                    "today",
                    "work"
                  ],
                  "xaxis": "x",
                  "y": [
                    31,
                    47,
                    42,
                    36,
                    44
                  ],
                  "yaxis": "y",
                  "type": "bar"
                }
              ],
              "layout": {
                "template": {
                  "data": {
                    "barpolar": [
                      {
                        "marker": {
                          "line": {
                            "color": "white",
                            "width": 0.5
                          },
                          "pattern": {
                            "fillmode": "overlay",
                            "size": 10,
                            "solidity": 0.2
                          }
                        },
                        "type": "barpolar"
                      }
                    ],
                    "bar": [
                      {
                        "error_x": {
                          "color": "#2a3f5f"
                        },
                        "error_y": {
                          "color": "#2a3f5f"
                        },
                        "marker": {
                          "line": {
                            "color": "white",
                            "width": 0.5
                          },
                          "pattern": {
                            "fillmode": "overlay",
                            "size": 10,
                            "solidity": 0.2
                          }
                        },
                        "type": "bar"
                      }
                    ],
                    "carpet": [
                      {
                        "aaxis": {
                          "endlinecolor": "#2a3f5f",
                          "gridcolor": "#C8D4E3",
                          "linecolor": "#C8D4E3",
                          "minorgridcolor": "#C8D4E3",
                          "startlinecolor": "#2a3f5f"
                        },
                        "baxis": {
                          "endlinecolor": "#2a3f5f",
                          "gridcolor": "#C8D4E3",
                          "linecolor": "#C8D4E3",
                          "minorgridcolor": "#C8D4E3",
                          "startlinecolor": "#2a3f5f"
                        },
                        "type": "carpet"
                      }
                    ],
                    "choropleth": [
                      {
                        "colorbar": {
                          "outlinewidth": 0,
                          "ticks": ""
                        },
                        "type": "choropleth"
                      }
                    ],
                    "contourcarpet": [
                      {
                        "colorbar": {
                          "outlinewidth": 0,
                          "ticks": ""
                        },
                        "type": "contourcarpet"
                      }
                    ],
                    "contour": [
                      {
                        "colorbar": {
                          "outlinewidth": 0,
                          "ticks": ""
                        },
                        "colorscale": [
                          [
                            0,
                            "#0d0887"
                          ],
                          [
                            0.1111111111111111,
                            "#46039f"
                          ],
                          [
                            0.2222222222222222,
                            "#7201a8"
                          ],
                          [
                            0.3333333333333333,
                            "#9c179e"
                          ],
                          [
                            0.4444444444444444,
                            "#bd3786"
                          ],
                          [
                            0.5555555555555556,
                            "#d8576b"
                          ],
                          [
                            0.6666666666666666,
                            "#ed7953"
                          ],
                          [
                            0.7777777777777778,
                            "#fb9f3a"
                          ],
                          [
                            0.8888888888888888,
                            "#fdca26"
                          ],
                          [
                            1,
                            "#f0f921"
                          ]
                        ],
                        "type": "contour"
                      }
                    ],
                    "heatmapgl": [
                      {
                        "colorbar": {
                          "outlinewidth": 0,
                          "ticks": ""
                        },
                        "colorscale": [
                          [
                            0,
                            "#0d0887"
                          ],
                          [
                            0.1111111111111111,
                            "#46039f"
                          ],
                          [
                            0.2222222222222222,
                            "#7201a8"
                          ],
                          [
                            0.3333333333333333,
                            "#9c179e"
                          ],
                          [
                            0.4444444444444444,
                            "#bd3786"
                          ],
                          [
                            0.5555555555555556,
                            "#d8576b"
                          ],
                          [
                            0.6666666666666666,
                            "#ed7953"
                          ],
                          [
                            0.7777777777777778,
                            "#fb9f3a"
                          ],
                          [
                            0.8888888888888888,
                            "#fdca26"
                          ],
                          [
                            1,
                            "#f0f921"
                          ]
                        ],
                        "type": "heatmapgl"
                      }
                    ],
                    "heatmap": [
                      {
                        "colorbar": {
                          "outlinewidth": 0,
                          "ticks": ""
                        },
                        "colorscale": [
                          [
                            0,
                            "#0d0887"
                          ],
                          [
                            0.1111111111111111,
                            "#46039f"
                          ],
                          [
                            0.2222222222222222,
                            "#7201a8"
                          ],
                          [
                            0.3333333333333333,
                            "#9c179e"
                          ],
                          [
                            0.4444444444444444,
                            "#bd3786"
                          ],
                          [
                            0.5555555555555556,
                            "#d8576b"
                          ],
                          [
                            0.6666666666666666,
                            "#ed7953"
                          ],
                          [
                            0.7777777777777778,
                            "#fb9f3a"
                          ],
                          [
                            0.8888888888888888,
                            "#fdca26"
                          ],
                          [
                            1,
                            "#f0f921"
                          ]
                        ],
                        "type": "heatmap"
                      }
                    ],
                    "histogram2dcontour": [
                      {
                        "colorbar": {
                          "outlinewidth": 0,
                          "ticks": ""
                        },
                        "colorscale": [
                          [
                            0,
                            "#0d0887"
                          ],
                          [
                            0.1111111111111111,
                            "#46039f"
                          ],
                          [
                            0.2222222222222222,
                            "#7201a8"
                          ],
                          [
                            0.3333333333333333,
                            "#9c179e"
                          ],
                          [
                            0.4444444444444444,
                            "#bd3786"
                          ],
                          [
                            0.5555555555555556,
                            "#d8576b"
                          ],
                          [
                            0.6666666666666666,
                            "#ed7953"
                          ],
                          [
                            0.7777777777777778,
                            "#fb9f3a"
                          ],
                          [
                            0.8888888888888888,
                            "#fdca26"
                          ],
                          [
                            1,
                            "#f0f921"
                          ]
                        ],
                        "type": "histogram2dcontour"
                      }
                    ],
                    "histogram2d": [
                      {
                        "colorbar": {
                          "outlinewidth": 0,
                          "ticks": ""
                        },
                        "colorscale": [
                          [
                            0,
                            "#0d0887"
                          ],
                          [
                            0.1111111111111111,
                            "#46039f"
                          ],
                          [
                            0.2222222222222222,
                            "#7201a8"
                          ],
                          [
                            0.3333333333333333,
                            "#9c179e"
                          ],
                          [
                            0.4444444444444444,
                            "#bd3786"
                          ],
                          [
                            0.5555555555555556,
                            "#d8576b"
                          ],
                          [
                            0.6666666666666666,
                            "#ed7953"
                          ],
                          [
                            0.7777777777777778,
                            "#fb9f3a"
                          ],
                          [
                            0.8888888888888888,
                            "#fdca26"
                          ],
                          [
                            1,
                            "#f0f921"
                          ]
                        ],
                        "type": "histogram2d"
                      }
                    ],
                    "histogram": [
                      {
                        "marker": {
                          "pattern": {
                            "fillmode": "overlay",
                            "size": 10,
                            "solidity": 0.2
                          }
                        },
                        "type": "histogram"
                      }
                    ],
                    "mesh3d": [
                      {
                        "colorbar": {
                          "outlinewidth": 0,
                          "ticks": ""
                        },
                        "type": "mesh3d"
                      }
                    ],
                    "parcoords": [
                      {
                        "line": {
                          "colorbar": {
                            "outlinewidth": 0,
                            "ticks": ""
                          }
                        },
                        "type": "parcoords"
                      }
                    ],
                    "pie": [
                      {
                        "automargin": true,
                        "type": "pie"
                      }
                    ],
                    "scatter3d": [
                      {
                        "line": {
                          "colorbar": {
                            "outlinewidth": 0,
                            "ticks": ""
                          }
                        },
                        "marker": {
                          "colorbar": {
                            "outlinewidth": 0,
                            "ticks": ""
                          }
                        },
                        "type": "scatter3d"
                      }
                    ],
                    "scattercarpet": [
                      {
                        "marker": {
                          "colorbar": {
                            "outlinewidth": 0,
                            "ticks": ""
                          }
                        },
                        "type": "scattercarpet"
                      }
                    ],
                    "scattergeo": [
                      {
                        "marker": {
                          "colorbar": {
                            "outlinewidth": 0,
                            "ticks": ""
                          }
                        },
                        "type": "scattergeo"
                      }
                    ],
                    "scattergl": [
                      {
                        "marker": {
                          "colorbar": {
                            "outlinewidth": 0,
                            "ticks": ""
                          }
                        },
                        "type": "scattergl"
                      }
                    ],
                    "scattermapbox": [
                      {
                        "marker": {
                          "colorbar": {
                            "outlinewidth": 0,
                            "ticks": ""
                          }
                        },
                        "type": "scattermapbox"
                      }
                    ],
                    "scatterpolargl": [
                      {
                        "marker": {
                          "colorbar": {
                            "outlinewidth": 0,
                            "ticks": ""
                          }
                        },
                        "type": "scatterpolargl"
                      }
                    ],
                    "scatterpolar": [
                      {
                        "marker": {
                          "colorbar": {
                            "outlinewidth": 0,
                            "ticks": ""
                          }
                        },
                        "type": "scatterpolar"
                      }
                    ],
                    "scatter": [
                      {
                        "fillpattern": {
                          "fillmode": "overlay",
                          "size": 10,
                          "solidity": 0.2
                        },
                        "type": "scatter"
                      }
                    ],
                    "scatterternary": [
                      {
                        "marker": {
                          "colorbar": {
                            "outlinewidth": 0,
                            "ticks": ""
                          }
                        },
                        "type": "scatterternary"
                      }
                    ],
                    "surface": [
                      {
                        "colorbar": {
                          "outlinewidth": 0,
                          "ticks": ""
                        },
                        "colorscale": [
                          [
                            0,
                            "#0d0887"
                          ],
                          [
                            0.1111111111111111,
                            "#46039f"
                          ],
                          [
                            0.2222222222222222,
                            "#7201a8"
                          ],
                          [
                            0.3333333333333333,
                            "#9c179e"
                          ],
                          [
                            0.4444444444444444,
                            "#bd3786"
                          ],
                          [
                            0.5555555555555556,
                            "#d8576b"
                          ],
                          [
                            0.6666666666666666,
                            "#ed7953"
                          ],
                          [
                            0.7777777777777778,
                            "#fb9f3a"
                          ],
                          [
                            0.8888888888888888,
                            "#fdca26"
                          ],
                          [
                            1,
                            "#f0f921"
                          ]
                        ],
                        "type": "surface"
                      }
                    ],
                    "table": [
                      {
                        "cells": {
                          "fill": {
                            "color": "#EBF0F8"
                          },
                          "line": {
                            "color": "white"
                          }
                        },
                        "header": {
                          "fill": {
                            "color": "#C8D4E3"
                          },
                          "line": {
                            "color": "white"
                          }
                        },
                        "type": "table"
                      }
                    ]
                  },
                  "layout": {
                    "annotationdefaults": {
                      "arrowcolor": "#2a3f5f",
                      "arrowhead": 0,
                      "arrowwidth": 1
                    },
                    "autotypenumbers": "strict",
                    "coloraxis": {
                      "colorbar": {
                        "outlinewidth": 0,
                        "ticks": ""
                      }
                    },
                    "colorscale": {
                      "diverging": [
                        [
                          0,
                          "#8e0152"
                        ],
                        [
                          0.1,
                          "#c51b7d"
                        ],
                        [
                          0.2,
                          "#de77ae"
                        ],
                        [
                          0.3,
                          "#f1b6da"
                        ],
                        [
                          0.4,
                          "#fde0ef"
                        ],
                        [
                          0.5,
                          "#f7f7f7"
                        ],
                        [
                          0.6,
                          "#e6f5d0"
                        ],
                        [
                          0.7,
                          "#b8e186"
                        ],
                        [
                          0.8,
                          "#7fbc41"
                        ],
                        [
                          0.9,
                          "#4d9221"
                        ],
                        [
                          1,
                          "#276419"
                        ]
                      ],
                      "sequential": [
                        [
                          0,
                          "#0d0887"
                        ],
                        [
                          0.1111111111111111,
                          "#46039f"
                        ],
                        [
                          0.2222222222222222,
                          "#7201a8"
                        ],
                        [
                          0.3333333333333333,
                          "#9c179e"
                        ],
                        [
                          0.4444444444444444,
                          "#bd3786"
                        ],
                        [
                          0.5555555555555556,
                          "#d8576b"
                        ],
                        [
                          0.6666666666666666,
                          "#ed7953"
                        ],
                        [
                          0.7777777777777778,
                          "#fb9f3a"
                        ],
                        [
                          0.8888888888888888,
                          "#fdca26"
                        ],
                        [
                          1,
                          "#f0f921"
                        ]
                      ],
                      "sequentialminus": [
                        [
                          0,
                          "#0d0887"
                        ],
                        [
                          0.1111111111111111,
                          "#46039f"
                        ],
                        [
                          0.2222222222222222,
                          "#7201a8"
                        ],
                        [
                          0.3333333333333333,
                          "#9c179e"
                        ],
                        [
                          0.4444444444444444,
                          "#bd3786"
                        ],
                        [
                          0.5555555555555556,
                          "#d8576b"
                        ],
                        [
                          0.6666666666666666,
                          "#ed7953"
                        ],
                        [
                          0.7777777777777778,
                          "#fb9f3a"
                        ],
                        [
                          0.8888888888888888,
                          "#fdca26"
                        ],
                        [
                          1,
                          "#f0f921"
                        ]
                      ]
                    },
                    "colorway": [
                      "#636efa",
                      "#EF553B",
                      "#00cc96",
                      "#ab63fa",
                      "#FFA15A",
                      "#19d3f3",
                      "#FF6692",
                      "#B6E880",
                      "#FF97FF",
                      "#FECB52"
                    ],
                    "font": {
                      "color": "#2a3f5f"
                    },
                    "geo": {
                      "bgcolor": "white",
                      "lakecolor": "white",
                      "landcolor": "white",
                      "showlakes": true,
                      "showland": true,
                      "subunitcolor": "#C8D4E3"
                    },
                    "hoverlabel": {
                      "align": "left"
                    },
                    "hovermode": "closest",
                    "mapbox": {
                      "style": "light"
                    },
                    "paper_bgcolor": "white",
                    "plot_bgcolor": "white",
                    "polar": {
                      "angularaxis": {
                        "gridcolor": "#EBF0F8",
                        "linecolor": "#EBF0F8",
                        "ticks": ""
                      },
                      "bgcolor": "white",
                      "radialaxis": {
                        "gridcolor": "#EBF0F8",
                        "linecolor": "#EBF0F8",
                        "ticks": ""
                      }
                    },
                    "scene": {
                      "xaxis": {
                        "backgroundcolor": "white",
                        "gridcolor": "#DFE8F3",
                        "gridwidth": 2,
                        "linecolor": "#EBF0F8",
                        "showbackground": true,
                        "ticks": "",
                        "zerolinecolor": "#EBF0F8"
                      },
                      "yaxis": {
                        "backgroundcolor": "white",
                        "gridcolor": "#DFE8F3",
                        "gridwidth": 2,
                        "linecolor": "#EBF0F8",
                        "showbackground": true,
                        "ticks": "",
                        "zerolinecolor": "#EBF0F8"
                      },
                      "zaxis": {
                        "backgroundcolor": "white",
                        "gridcolor": "#DFE8F3",
                        "gridwidth": 2,
                        "linecolor": "#EBF0F8",
                        "showbackground": true,
                        "ticks": "",
                        "zerolinecolor": "#EBF0F8"
                      }
                    },
                    "shapedefaults": {
                      "line": {
                        "color": "#2a3f5f"
                      }
                    },
                    "ternary": {
                      "aaxis": {
                        "gridcolor": "#DFE8F3",
                        "linecolor": "#A2B1C6",
                        "ticks": ""
                      },
                      "baxis": {
                        "gridcolor": "#DFE8F3",
                        "linecolor": "#A2B1C6",
                        "ticks": ""
                      },
                      "bgcolor": "white",
                      "caxis": {
                        "gridcolor": "#DFE8F3",
                        "linecolor": "#A2B1C6",
                        "ticks": ""
                      }
                    },
                    "title": {
                      "x": 0.05
                    },
                    "xaxis": {
                      "automargin": true,
                      "gridcolor": "#EBF0F8",
                      "linecolor": "#EBF0F8",
                      "ticks": "",
                      "title": {
                        "standoff": 15
                      },
                      "zerolinecolor": "#EBF0F8",
                      "zerolinewidth": 2
                    },
                    "yaxis": {
                      "automargin": true,
                      "gridcolor": "#EBF0F8",
                      "linecolor": "#EBF0F8",
                      "ticks": "",
                      "title": {
                        "standoff": 15
                      },
                      "zerolinecolor": "#EBF0F8",
                      "zerolinewidth": 2
                    }
                  }
                },
                "xaxis": {
                  "anchor": "y",
                  "domain": [
                    0,
                    1
                  ],
                  "title": {
                    "text": "Keywords"
                  },
                  "tickangle": -45
                },
                "yaxis": {
                  "anchor": "x",
                  "domain": [
                    0,
                    1
                  ],
                  "title": {
                    "text": "Number of Tweets"
                  }
                },
                "legend": {
                  "title": {
                    "text": "variable"
                  },
                  "tracegroupgap": 0
                },
                "title": {
                  "text": "📝 Sentiment by Keyword"
                },
                "barmode": "relative",
                "height": 500
              },
              "config": {
                "plotlyServerURL": "https://plot.ly"
              }
            },
            "text/html": [
              "<div>                            <div id=\"639fb578-6915-4500-9e40-99b5ca639f7f\" class=\"plotly-graph-div\" style=\"height:500px; width:100%;\"></div>            <script type=\"text/javascript\">                require([\"plotly\"], function(Plotly) {                    window.PLOTLYENV=window.PLOTLYENV || {};                                    if (document.getElementById(\"639fb578-6915-4500-9e40-99b5ca639f7f\")) {                    Plotly.newPlot(                        \"639fb578-6915-4500-9e40-99b5ca639f7f\",                        [{\"alignmentgroup\":\"True\",\"hovertemplate\":\"variable=Positive\\u003cbr\\u003eKeywords=%{x}\\u003cbr\\u003eNumber of Tweets=%{y}\\u003cextra\\u003e\\u003c\\u002fextra\\u003e\",\"legendgroup\":\"Positive\",\"marker\":{\"color\":\"#2E86AB\",\"pattern\":{\"shape\":\"\"}},\"name\":\"Positive\",\"offsetgroup\":\"Positive\",\"orientation\":\"v\",\"showlegend\":true,\"textposition\":\"auto\",\"x\":[\"feeling\",\"happy\",\"mood\",\"today\",\"work\"],\"xaxis\":\"x\",\"y\":[45,37,35,41,42],\"yaxis\":\"y\",\"type\":\"bar\"},{\"alignmentgroup\":\"True\",\"hovertemplate\":\"variable=Neutral\\u003cbr\\u003eKeywords=%{x}\\u003cbr\\u003eNumber of Tweets=%{y}\\u003cextra\\u003e\\u003c\\u002fextra\\u003e\",\"legendgroup\":\"Neutral\",\"marker\":{\"color\":\"#A23B72\",\"pattern\":{\"shape\":\"\"}},\"name\":\"Neutral\",\"offsetgroup\":\"Neutral\",\"orientation\":\"v\",\"showlegend\":true,\"textposition\":\"auto\",\"x\":[\"feeling\",\"happy\",\"mood\",\"today\",\"work\"],\"xaxis\":\"x\",\"y\":[20,18,26,15,21],\"yaxis\":\"y\",\"type\":\"bar\"},{\"alignmentgroup\":\"True\",\"hovertemplate\":\"variable=Negative\\u003cbr\\u003eKeywords=%{x}\\u003cbr\\u003eNumber of Tweets=%{y}\\u003cextra\\u003e\\u003c\\u002fextra\\u003e\",\"legendgroup\":\"Negative\",\"marker\":{\"color\":\"#F18F01\",\"pattern\":{\"shape\":\"\"}},\"name\":\"Negative\",\"offsetgroup\":\"Negative\",\"orientation\":\"v\",\"showlegend\":true,\"textposition\":\"auto\",\"x\":[\"feeling\",\"happy\",\"mood\",\"today\",\"work\"],\"xaxis\":\"x\",\"y\":[31,47,42,36,44],\"yaxis\":\"y\",\"type\":\"bar\"}],                        {\"template\":{\"data\":{\"barpolar\":[{\"marker\":{\"line\":{\"color\":\"white\",\"width\":0.5},\"pattern\":{\"fillmode\":\"overlay\",\"size\":10,\"solidity\":0.2}},\"type\":\"barpolar\"}],\"bar\":[{\"error_x\":{\"color\":\"#2a3f5f\"},\"error_y\":{\"color\":\"#2a3f5f\"},\"marker\":{\"line\":{\"color\":\"white\",\"width\":0.5},\"pattern\":{\"fillmode\":\"overlay\",\"size\":10,\"solidity\":0.2}},\"type\":\"bar\"}],\"carpet\":[{\"aaxis\":{\"endlinecolor\":\"#2a3f5f\",\"gridcolor\":\"#C8D4E3\",\"linecolor\":\"#C8D4E3\",\"minorgridcolor\":\"#C8D4E3\",\"startlinecolor\":\"#2a3f5f\"},\"baxis\":{\"endlinecolor\":\"#2a3f5f\",\"gridcolor\":\"#C8D4E3\",\"linecolor\":\"#C8D4E3\",\"minorgridcolor\":\"#C8D4E3\",\"startlinecolor\":\"#2a3f5f\"},\"type\":\"carpet\"}],\"choropleth\":[{\"colorbar\":{\"outlinewidth\":0,\"ticks\":\"\"},\"type\":\"choropleth\"}],\"contourcarpet\":[{\"colorbar\":{\"outlinewidth\":0,\"ticks\":\"\"},\"type\":\"contourcarpet\"}],\"contour\":[{\"colorbar\":{\"outlinewidth\":0,\"ticks\":\"\"},\"colorscale\":[[0.0,\"#0d0887\"],[0.1111111111111111,\"#46039f\"],[0.2222222222222222,\"#7201a8\"],[0.3333333333333333,\"#9c179e\"],[0.4444444444444444,\"#bd3786\"],[0.5555555555555556,\"#d8576b\"],[0.6666666666666666,\"#ed7953\"],[0.7777777777777778,\"#fb9f3a\"],[0.8888888888888888,\"#fdca26\"],[1.0,\"#f0f921\"]],\"type\":\"contour\"}],\"heatmapgl\":[{\"colorbar\":{\"outlinewidth\":0,\"ticks\":\"\"},\"colorscale\":[[0.0,\"#0d0887\"],[0.1111111111111111,\"#46039f\"],[0.2222222222222222,\"#7201a8\"],[0.3333333333333333,\"#9c179e\"],[0.4444444444444444,\"#bd3786\"],[0.5555555555555556,\"#d8576b\"],[0.6666666666666666,\"#ed7953\"],[0.7777777777777778,\"#fb9f3a\"],[0.8888888888888888,\"#fdca26\"],[1.0,\"#f0f921\"]],\"type\":\"heatmapgl\"}],\"heatmap\":[{\"colorbar\":{\"outlinewidth\":0,\"ticks\":\"\"},\"colorscale\":[[0.0,\"#0d0887\"],[0.1111111111111111,\"#46039f\"],[0.2222222222222222,\"#7201a8\"],[0.3333333333333333,\"#9c179e\"],[0.4444444444444444,\"#bd3786\"],[0.5555555555555556,\"#d8576b\"],[0.6666666666666666,\"#ed7953\"],[0.7777777777777778,\"#fb9f3a\"],[0.8888888888888888,\"#fdca26\"],[1.0,\"#f0f921\"]],\"type\":\"heatmap\"}],\"histogram2dcontour\":[{\"colorbar\":{\"outlinewidth\":0,\"ticks\":\"\"},\"colorscale\":[[0.0,\"#0d0887\"],[0.1111111111111111,\"#46039f\"],[0.2222222222222222,\"#7201a8\"],[0.3333333333333333,\"#9c179e\"],[0.4444444444444444,\"#bd3786\"],[0.5555555555555556,\"#d8576b\"],[0.6666666666666666,\"#ed7953\"],[0.7777777777777778,\"#fb9f3a\"],[0.8888888888888888,\"#fdca26\"],[1.0,\"#f0f921\"]],\"type\":\"histogram2dcontour\"}],\"histogram2d\":[{\"colorbar\":{\"outlinewidth\":0,\"ticks\":\"\"},\"colorscale\":[[0.0,\"#0d0887\"],[0.1111111111111111,\"#46039f\"],[0.2222222222222222,\"#7201a8\"],[0.3333333333333333,\"#9c179e\"],[0.4444444444444444,\"#bd3786\"],[0.5555555555555556,\"#d8576b\"],[0.6666666666666666,\"#ed7953\"],[0.7777777777777778,\"#fb9f3a\"],[0.8888888888888888,\"#fdca26\"],[1.0,\"#f0f921\"]],\"type\":\"histogram2d\"}],\"histogram\":[{\"marker\":{\"pattern\":{\"fillmode\":\"overlay\",\"size\":10,\"solidity\":0.2}},\"type\":\"histogram\"}],\"mesh3d\":[{\"colorbar\":{\"outlinewidth\":0,\"ticks\":\"\"},\"type\":\"mesh3d\"}],\"parcoords\":[{\"line\":{\"colorbar\":{\"outlinewidth\":0,\"ticks\":\"\"}},\"type\":\"parcoords\"}],\"pie\":[{\"automargin\":true,\"type\":\"pie\"}],\"scatter3d\":[{\"line\":{\"colorbar\":{\"outlinewidth\":0,\"ticks\":\"\"}},\"marker\":{\"colorbar\":{\"outlinewidth\":0,\"ticks\":\"\"}},\"type\":\"scatter3d\"}],\"scattercarpet\":[{\"marker\":{\"colorbar\":{\"outlinewidth\":0,\"ticks\":\"\"}},\"type\":\"scattercarpet\"}],\"scattergeo\":[{\"marker\":{\"colorbar\":{\"outlinewidth\":0,\"ticks\":\"\"}},\"type\":\"scattergeo\"}],\"scattergl\":[{\"marker\":{\"colorbar\":{\"outlinewidth\":0,\"ticks\":\"\"}},\"type\":\"scattergl\"}],\"scattermapbox\":[{\"marker\":{\"colorbar\":{\"outlinewidth\":0,\"ticks\":\"\"}},\"type\":\"scattermapbox\"}],\"scatterpolargl\":[{\"marker\":{\"colorbar\":{\"outlinewidth\":0,\"ticks\":\"\"}},\"type\":\"scatterpolargl\"}],\"scatterpolar\":[{\"marker\":{\"colorbar\":{\"outlinewidth\":0,\"ticks\":\"\"}},\"type\":\"scatterpolar\"}],\"scatter\":[{\"fillpattern\":{\"fillmode\":\"overlay\",\"size\":10,\"solidity\":0.2},\"type\":\"scatter\"}],\"scatterternary\":[{\"marker\":{\"colorbar\":{\"outlinewidth\":0,\"ticks\":\"\"}},\"type\":\"scatterternary\"}],\"surface\":[{\"colorbar\":{\"outlinewidth\":0,\"ticks\":\"\"},\"colorscale\":[[0.0,\"#0d0887\"],[0.1111111111111111,\"#46039f\"],[0.2222222222222222,\"#7201a8\"],[0.3333333333333333,\"#9c179e\"],[0.4444444444444444,\"#bd3786\"],[0.5555555555555556,\"#d8576b\"],[0.6666666666666666,\"#ed7953\"],[0.7777777777777778,\"#fb9f3a\"],[0.8888888888888888,\"#fdca26\"],[1.0,\"#f0f921\"]],\"type\":\"surface\"}],\"table\":[{\"cells\":{\"fill\":{\"color\":\"#EBF0F8\"},\"line\":{\"color\":\"white\"}},\"header\":{\"fill\":{\"color\":\"#C8D4E3\"},\"line\":{\"color\":\"white\"}},\"type\":\"table\"}]},\"layout\":{\"annotationdefaults\":{\"arrowcolor\":\"#2a3f5f\",\"arrowhead\":0,\"arrowwidth\":1},\"autotypenumbers\":\"strict\",\"coloraxis\":{\"colorbar\":{\"outlinewidth\":0,\"ticks\":\"\"}},\"colorscale\":{\"diverging\":[[0,\"#8e0152\"],[0.1,\"#c51b7d\"],[0.2,\"#de77ae\"],[0.3,\"#f1b6da\"],[0.4,\"#fde0ef\"],[0.5,\"#f7f7f7\"],[0.6,\"#e6f5d0\"],[0.7,\"#b8e186\"],[0.8,\"#7fbc41\"],[0.9,\"#4d9221\"],[1,\"#276419\"]],\"sequential\":[[0.0,\"#0d0887\"],[0.1111111111111111,\"#46039f\"],[0.2222222222222222,\"#7201a8\"],[0.3333333333333333,\"#9c179e\"],[0.4444444444444444,\"#bd3786\"],[0.5555555555555556,\"#d8576b\"],[0.6666666666666666,\"#ed7953\"],[0.7777777777777778,\"#fb9f3a\"],[0.8888888888888888,\"#fdca26\"],[1.0,\"#f0f921\"]],\"sequentialminus\":[[0.0,\"#0d0887\"],[0.1111111111111111,\"#46039f\"],[0.2222222222222222,\"#7201a8\"],[0.3333333333333333,\"#9c179e\"],[0.4444444444444444,\"#bd3786\"],[0.5555555555555556,\"#d8576b\"],[0.6666666666666666,\"#ed7953\"],[0.7777777777777778,\"#fb9f3a\"],[0.8888888888888888,\"#fdca26\"],[1.0,\"#f0f921\"]]},\"colorway\":[\"#636efa\",\"#EF553B\",\"#00cc96\",\"#ab63fa\",\"#FFA15A\",\"#19d3f3\",\"#FF6692\",\"#B6E880\",\"#FF97FF\",\"#FECB52\"],\"font\":{\"color\":\"#2a3f5f\"},\"geo\":{\"bgcolor\":\"white\",\"lakecolor\":\"white\",\"landcolor\":\"white\",\"showlakes\":true,\"showland\":true,\"subunitcolor\":\"#C8D4E3\"},\"hoverlabel\":{\"align\":\"left\"},\"hovermode\":\"closest\",\"mapbox\":{\"style\":\"light\"},\"paper_bgcolor\":\"white\",\"plot_bgcolor\":\"white\",\"polar\":{\"angularaxis\":{\"gridcolor\":\"#EBF0F8\",\"linecolor\":\"#EBF0F8\",\"ticks\":\"\"},\"bgcolor\":\"white\",\"radialaxis\":{\"gridcolor\":\"#EBF0F8\",\"linecolor\":\"#EBF0F8\",\"ticks\":\"\"}},\"scene\":{\"xaxis\":{\"backgroundcolor\":\"white\",\"gridcolor\":\"#DFE8F3\",\"gridwidth\":2,\"linecolor\":\"#EBF0F8\",\"showbackground\":true,\"ticks\":\"\",\"zerolinecolor\":\"#EBF0F8\"},\"yaxis\":{\"backgroundcolor\":\"white\",\"gridcolor\":\"#DFE8F3\",\"gridwidth\":2,\"linecolor\":\"#EBF0F8\",\"showbackground\":true,\"ticks\":\"\",\"zerolinecolor\":\"#EBF0F8\"},\"zaxis\":{\"backgroundcolor\":\"white\",\"gridcolor\":\"#DFE8F3\",\"gridwidth\":2,\"linecolor\":\"#EBF0F8\",\"showbackground\":true,\"ticks\":\"\",\"zerolinecolor\":\"#EBF0F8\"}},\"shapedefaults\":{\"line\":{\"color\":\"#2a3f5f\"}},\"ternary\":{\"aaxis\":{\"gridcolor\":\"#DFE8F3\",\"linecolor\":\"#A2B1C6\",\"ticks\":\"\"},\"baxis\":{\"gridcolor\":\"#DFE8F3\",\"linecolor\":\"#A2B1C6\",\"ticks\":\"\"},\"bgcolor\":\"white\",\"caxis\":{\"gridcolor\":\"#DFE8F3\",\"linecolor\":\"#A2B1C6\",\"ticks\":\"\"}},\"title\":{\"x\":0.05},\"xaxis\":{\"automargin\":true,\"gridcolor\":\"#EBF0F8\",\"linecolor\":\"#EBF0F8\",\"ticks\":\"\",\"title\":{\"standoff\":15},\"zerolinecolor\":\"#EBF0F8\",\"zerolinewidth\":2},\"yaxis\":{\"automargin\":true,\"gridcolor\":\"#EBF0F8\",\"linecolor\":\"#EBF0F8\",\"ticks\":\"\",\"title\":{\"standoff\":15},\"zerolinecolor\":\"#EBF0F8\",\"zerolinewidth\":2}}},\"xaxis\":{\"anchor\":\"y\",\"domain\":[0.0,1.0],\"title\":{\"text\":\"Keywords\"},\"tickangle\":-45},\"yaxis\":{\"anchor\":\"x\",\"domain\":[0.0,1.0],\"title\":{\"text\":\"Number of Tweets\"}},\"legend\":{\"title\":{\"text\":\"variable\"},\"tracegroupgap\":0},\"title\":{\"text\":\"📝 Sentiment by Keyword\"},\"barmode\":\"relative\",\"height\":500},                        {\"responsive\": true}                    ).then(function(){\n",
              "                            \n",
              "var gd = document.getElementById('639fb578-6915-4500-9e40-99b5ca639f7f');\n",
              "var x = new MutationObserver(function (mutations, observer) {{\n",
              "        var display = window.getComputedStyle(gd).display;\n",
              "        if (!display || display === 'none') {{\n",
              "            console.log([gd, 'removed!']);\n",
              "            Plotly.purge(gd);\n",
              "            observer.disconnect();\n",
              "        }}\n",
              "}});\n",
              "\n",
              "// Listen for the removal of the full notebook cells\n",
              "var notebookContainer = gd.closest('#notebook-container');\n",
              "if (notebookContainer) {{\n",
              "    x.observe(notebookContainer, {childList: true});\n",
              "}}\n",
              "\n",
              "// Listen for the clearing of the current output cell\n",
              "var outputEl = gd.closest('.output');\n",
              "if (outputEl) {{\n",
              "    x.observe(outputEl, {childList: true});\n",
              "}}\n",
              "\n",
              "                        })                };                });            </script>        </div>"
            ]
          },
          "metadata": {}
        }
      ],
      "source": [
        "class SentimentVisualizer:\n",
        "    def __init__(self, df, analyzer):\n",
        "        self.df = df\n",
        "        self.analyzer = analyzer\n",
        "\n",
        "    def create_sentiment_overview(self):\n",
        "        \"\"\"Create overview dashboard\"\"\"\n",
        "        summary = self.analyzer.get_sentiment_summary()\n",
        "\n",
        "        # Create subplots\n",
        "        fig = make_subplots(\n",
        "            rows=2, cols=2,\n",
        "            subplot_titles=('Sentiment Distribution', 'Polarity Distribution',\n",
        "                          'Subjectivity vs Polarity', 'Sentiment Over Time'),\n",
        "            specs=[[{\"type\": \"pie\"}, {\"type\": \"histogram\"}],\n",
        "                   [{\"type\": \"scatter\"}, {\"type\": \"scatter\"}]]\n",
        "        )\n",
        "\n",
        "        # Sentiment pie chart\n",
        "        sentiment_counts = self.df['sentiment'].value_counts()\n",
        "        colors = ['#2E86AB', '#A23B72', '#F18F01']\n",
        "        fig.add_trace(\n",
        "            go.Pie(labels=sentiment_counts.index, values=sentiment_counts.values,\n",
        "                   marker_colors=colors, name=\"Sentiment\"),\n",
        "            row=1, col=1\n",
        "        )\n",
        "\n",
        "        # Polarity histogram\n",
        "        fig.add_trace(\n",
        "            go.Histogram(x=self.df['polarity'], nbinsx=30, name=\"Polarity\",\n",
        "                        marker_color='#2E86AB', opacity=0.7),\n",
        "            row=1, col=2\n",
        "        )\n",
        "\n",
        "        # Subjectivity vs Polarity scatter\n",
        "        fig.add_trace(\n",
        "            go.Scatter(x=self.df['subjectivity'], y=self.df['polarity'],\n",
        "                      mode='markers', name=\"Tweets\",\n",
        "                      marker=dict(color=self.df['polarity'], colorscale='RdYlBu',\n",
        "                                size=5, opacity=0.6),\n",
        "                      text=self.df['text'].str[:100] + '...',\n",
        "                      hovertemplate='<b>Subjectivity:</b> %{x:.2f}<br>' +\n",
        "                                  '<b>Polarity:</b> %{y:.2f}<br>' +\n",
        "                                  '<b>Text:</b> %{text}<extra></extra>'),\n",
        "            row=2, col=1\n",
        "        )\n",
        "\n",
        "        # Sentiment over time (if date available)\n",
        "        if 'created_at' in self.df.columns:\n",
        "            hourly_data = self.df.groupby([self.df['created_at'].dt.hour, 'sentiment']).size().unstack(fill_value=0)\n",
        "\n",
        "            for sentiment in ['Positive', 'Negative', 'Neutral']:\n",
        "                if sentiment in hourly_data.columns:\n",
        "                    fig.add_trace(\n",
        "                        go.Scatter(x=hourly_data.index, y=hourly_data[sentiment],\n",
        "                                 mode='lines+markers', name=f\"{sentiment} Tweets\",\n",
        "                                 line=dict(width=2)),\n",
        "                        row=2, col=2\n",
        "                    )\n",
        "\n",
        "        fig.update_layout(\n",
        "            title_text=\"🌍 Global Mood Analysis Dashboard\",\n",
        "            title_x=0.5,\n",
        "            height=800,\n",
        "            showlegend=True,\n",
        "            template=\"plotly_white\"\n",
        "        )\n",
        "\n",
        "        return fig\n",
        "\n",
        "    def create_hourly_heatmap(self):\n",
        "        \"\"\"Create hourly sentiment heatmap\"\"\"\n",
        "        hourly_sentiment, hourly_polarity = self.analyzer.get_hourly_sentiment()\n",
        "\n",
        "        # Calculate percentages\n",
        "        hourly_pct = hourly_sentiment.div(hourly_sentiment.sum(axis=1), axis=0) * 100\n",
        "\n",
        "        fig = go.Figure()\n",
        "\n",
        "        # Add heatmap for each sentiment\n",
        "        sentiments = ['Positive', 'Neutral', 'Negative']\n",
        "        colors = ['Greens', 'Greys', 'Reds']\n",
        "\n",
        "        for i, (sentiment, colorscale) in enumerate(zip(sentiments, colors)):\n",
        "            if sentiment in hourly_pct.columns:\n",
        "                visible = True if i == 0 else False\n",
        "                fig.add_trace(\n",
        "                    go.Heatmap(\n",
        "                        z=[hourly_pct[sentiment].values],\n",
        "                        x=hourly_pct.index,\n",
        "                        y=[sentiment],\n",
        "                        colorscale=colorscale,\n",
        "                        name=sentiment,\n",
        "                        visible=visible,\n",
        "                        hovertemplate=f'<b>Hour:</b> %{{x}}<br><b>{sentiment}:</b> %{{z:.1f}}%<extra></extra>'\n",
        "                    )\n",
        "                )\n",
        "\n",
        "        # Add buttons for different sentiments\n",
        "        buttons = []\n",
        "        for i, sentiment in enumerate(sentiments):\n",
        "            if sentiment in hourly_pct.columns:\n",
        "                visibility = [False] * len(sentiments)\n",
        "                visibility[i] = True\n",
        "                buttons.append(\n",
        "                    dict(\n",
        "                        method=\"update\",\n",
        "                        args=[{\"visible\": visibility}],\n",
        "                        label=sentiment\n",
        "                    )\n",
        "                )\n",
        "\n",
        "        fig.update_layout(\n",
        "            title=\"📅 Hourly Sentiment Distribution\",\n",
        "            xaxis_title=\"Hour of Day\",\n",
        "            updatemenus=[\n",
        "                dict(\n",
        "                    type=\"buttons\",\n",
        "                    direction=\"right\",\n",
        "                    x=0.7,\n",
        "                    y=1.15,\n",
        "                    buttons=buttons\n",
        "                )\n",
        "            ],\n",
        "            height=400,\n",
        "            template=\"plotly_white\"\n",
        "        )\n",
        "\n",
        "        return fig\n",
        "\n",
        "    def create_world_mood_gauge(self):\n",
        "        \"\"\"Create a mood gauge for the world\"\"\"\n",
        "        summary = self.analyzer.get_sentiment_summary()\n",
        "        avg_polarity = summary['avg_polarity']\n",
        "\n",
        "        # Convert polarity to 0-100 scale\n",
        "        mood_score = ((avg_polarity + 1) / 2) * 100\n",
        "\n",
        "        fig = go.Figure(go.Indicator(\n",
        "            mode = \"gauge+number+delta\",\n",
        "            value = mood_score,\n",
        "            domain = {'x': [0, 1], 'y': [0, 1]},\n",
        "            title = {'text': \"🌍 World Mood Score\"},\n",
        "            delta = {'reference': 50},\n",
        "            gauge = {\n",
        "                'axis': {'range': [None, 100]},\n",
        "                'bar': {'color': \"darkblue\"},\n",
        "                'steps': [\n",
        "                    {'range': [0, 25], 'color': \"lightgray\"},\n",
        "                    {'range': [25, 50], 'color': \"gray\"},\n",
        "                    {'range': [50, 75], 'color': \"lightgreen\"},\n",
        "                    {'range': [75, 100], 'color': \"green\"}\n",
        "                ],\n",
        "                'threshold': {\n",
        "                    'line': {'color': \"red\", 'width': 4},\n",
        "                    'thickness': 0.75,\n",
        "                    'value': 90\n",
        "                }\n",
        "            }\n",
        "        ))\n",
        "\n",
        "        fig.update_layout(\n",
        "            height=400,\n",
        "            template=\"plotly_white\",\n",
        "            annotations=[\n",
        "                dict(\n",
        "                    x=0.5, y=0.1,\n",
        "                    text=f\"Based on {summary['total_tweets']:,} tweets<br>\" +\n",
        "                         f\"Avg Polarity: {avg_polarity:.3f}\",\n",
        "                    showarrow=False,\n",
        "                    font=dict(size=12)\n",
        "                )\n",
        "            ]\n",
        "        )\n",
        "\n",
        "        return fig\n",
        "\n",
        "    def create_keyword_sentiment_chart(self):\n",
        "        \"\"\"Create keyword sentiment analysis\"\"\"\n",
        "        keyword_sentiment, keyword_polarity = self.analyzer.get_keyword_sentiment()\n",
        "\n",
        "        if keyword_sentiment is not None:\n",
        "            fig = px.bar(\n",
        "                keyword_sentiment.reset_index(),\n",
        "                x='keyword',\n",
        "                y=['Positive', 'Neutral', 'Negative'],\n",
        "                title=\"📝 Sentiment by Keyword\",\n",
        "                labels={'value': 'Number of Tweets', 'keyword': 'Keywords'},\n",
        "                color_discrete_map={\n",
        "                    'Positive': '#2E86AB',\n",
        "                    'Neutral': '#A23B72',\n",
        "                    'Negative': '#F18F01'\n",
        "                }\n",
        "            )\n",
        "\n",
        "            fig.update_layout(\n",
        "                height=500,\n",
        "                template=\"plotly_white\",\n",
        "                xaxis_tickangle=-45\n",
        "            )\n",
        "\n",
        "            return fig\n",
        "        return None\n",
        "\n",
        "# Create visualizations\n",
        "visualizer = SentimentVisualizer(df_tweets, analyzer)\n",
        "print(\"Interactive Visualizations\")\n",
        "\n",
        "# Overview Dashboard\n",
        "overview_fig = visualizer.create_sentiment_overview()\n",
        "overview_fig.show()\n",
        "\n",
        "# Hourly Heatmap\n",
        "hourly_fig = visualizer.create_hourly_heatmap()\n",
        "hourly_fig.show()\n",
        "\n",
        "# World Mood Gauge\n",
        "gauge_fig = visualizer.create_world_mood_gauge()\n",
        "gauge_fig.show()\n",
        "\n",
        "# Keyword Sentiment Analysis\n",
        "keyword_fig = visualizer.create_keyword_sentiment_chart()\n",
        "if keyword_fig:\n",
        "    keyword_fig.show()"
      ]
    },
    {
      "cell_type": "markdown",
      "metadata": {
        "id": "EHDGcH3wnhG3"
      },
      "source": [
        "# Word Cloud Generation"
      ]
    },
    {
      "cell_type": "code",
      "execution_count": 8,
      "metadata": {
        "id": "3bJ370Z6oyv-",
        "colab": {
          "base_uri": "https://localhost:8080/",
          "height": 450
        },
        "outputId": "2102d570-a766-44f1-e9d1-b699819dc4c0"
      },
      "outputs": [
        {
          "output_type": "display_data",
          "data": {
            "text/plain": [
              "<Figure size 1800x600 with 3 Axes>"
            ],
            "image/png": "[encoded data removed]"
          },
          "metadata": {}
        }
      ],
      "source": [
        "def create_sentiment_wordclouds(df):\n",
        "    \"\"\"Create word clouds for different sentiments\"\"\"\n",
        "    fig, axes = plt.subplots(1, 3, figsize=(18, 6))\n",
        "\n",
        "    sentiments = ['Positive', 'Negative', 'Neutral']\n",
        "    colors = ['Greens', 'Reds', 'Blues']\n",
        "\n",
        "    for i, (sentiment, colormap) in enumerate(zip(sentiments, colors)):\n",
        "        sentiment_tweets = df[df['sentiment'] == sentiment]['text']\n",
        "\n",
        "        if len(sentiment_tweets) > 0:\n",
        "            text = ' '.join(sentiment_tweets.astype(str))\n",
        "\n",
        "            wordcloud = WordCloud(\n",
        "                width=400, height=300,\n",
        "                background_color='white',\n",
        "                colormap=colormap,\n",
        "                max_words=100,\n",
        "                relative_scaling=0.5,\n",
        "                random_state=42\n",
        "            ).generate(text)\n",
        "\n",
        "            axes[i].imshow(wordcloud, interpolation='bilinear')\n",
        "            axes[i].set_title(f'{sentiment} Tweets', fontsize=16, fontweight='bold')\n",
        "            axes[i].axis('off')\n",
        "        else:\n",
        "            axes[i].text(0.5, 0.5, f'No {sentiment} tweets',\n",
        "                        ha='center', va='center', transform=axes[i].transAxes)\n",
        "            axes[i].set_title(f'{sentiment} Tweets', fontsize=16, fontweight='bold')\n",
        "            axes[i].axis('off')\n",
        "\n",
        "    plt.tight_layout()\n",
        "    plt.suptitle('☁️ Word Clouds by Sentiment', fontsize=20, fontweight='bold', y=1.02)\n",
        "    plt.show()\n",
        "\n",
        "# Generate word clouds\n",
        "create_sentiment_wordclouds(df_tweets)"
      ]
    },
    {
      "cell_type": "markdown",
      "metadata": {
        "id": "ZakKBanko4se"
      },
      "source": [
        "# Advanced Time Series Analysis"
      ]
    },
    {
      "cell_type": "code",
      "execution_count": 9,
      "metadata": {
        "id": "O8k8U6Bgo41m"
      },
      "outputs": [],
      "source": [
        "def create_time_series_analysis(df):\n",
        "    \"\"\"Create detailed time series analysis\"\"\"\n",
        "    if 'created_at' not in df.columns:\n",
        "        print(\"No timestamp data available\")\n",
        "        return\n",
        "    df_hourly = df.set_index('created_at').resample('H').agg({\n",
        "        'polarity': ['mean', 'std', 'count'],\n",
        "        'subjectivity': 'mean'\n",
        "    }).round(3)\n",
        "\n",
        "    df_hourly.columns = ['polarity_mean', 'polarity_std', 'tweet_count', 'subjectivity_mean']\n",
        "    df_hourly = df_hourly.dropna()\n",
        "\n",
        "    if len(df_hourly) > 0:\n",
        "        fig = make_subplots(\n",
        "            rows=3, cols=1,\n",
        "            subplot_titles=('Average Polarity Over Time', 'Tweet Volume', 'Subjectivity Levels'),\n",
        "            vertical_spacing=0.08\n",
        "        )\n",
        "\n",
        "        fig.add_trace(\n",
        "            go.Scatter(\n",
        "                x=df_hourly.index,\n",
        "                y=df_hourly['polarity_mean'],\n",
        "                mode='lines+markers',\n",
        "                name='Avg Polarity',\n",
        "                line=dict(color='#2E86AB', width=2),\n",
        "                fill='tonexty'\n",
        "            ),\n",
        "            row=1, col=1\n",
        "        )\n",
        "\n",
        "        fig.add_trace(\n",
        "            go.Bar(\n",
        "                x=df_hourly.index,\n",
        "                y=df_hourly['tweet_count'],\n",
        "                name='Tweet Count',\n",
        "                marker_color='#A23B72',\n",
        "                opacity=0.7\n",
        "            ),\n",
        "            row=2, col=1\n",
        "        )\n",
        "\n",
        "        fig.add_trace(\n",
        "            go.Scatter(\n",
        "                x=df_hourly.index,\n",
        "                y=df_hourly['subjectivity_mean'],\n",
        "                mode='lines+markers',\n",
        "                name='Avg Subjectivity',\n",
        "                line=dict(color='#F18F01', width=2)\n",
        "            ),\n",
        "            row=3, col=1\n",
        "        )\n",
        "\n",
        "        fig.update_layout(\n",
        "            title_text=\"📈 Advanced Time Series Analysis\",\n",
        "            height=900,\n",
        "            showlegend=False,\n",
        "            template=\"plotly_white\"\n",
        "        )\n",
        "\n",
        "        fig.show()\n",
        "\n",
        "create_time_series_analysis(df_tweets)"
      ]
    },
    {
      "cell_type": "markdown",
      "metadata": {
        "id": "r3kj7dMLpK_h"
      },
      "source": [
        "# Export Results and Text Report"
      ]
    },
    {
      "cell_type": "code",
      "execution_count": 10,
      "metadata": {
        "id": "89hRH5ignhNv",
        "colab": {
          "base_uri": "https://localhost:8080/"
        },
        "outputId": "898bf8f8-9411-4ebf-a164-3b8d2086f8ca"
      },
      "outputs": [
        {
          "output_type": "stream",
          "name": "stdout",
          "text": [
            "Dataset exported: global_sentiment_data_20250706_013159.csv\n",
            "Summary exported: sentiment_summary_20250706_013159.json\n",
            "Report exported: mood_report_20250706_013159.txt\n",
            "\n",
            "Mood of the World ANALYSIS REPORT\n",
            "Generated: 2025-07-06 01:32:00\n",
            "==================================================\n",
            "\n",
            "OVERVIEW\n",
            "Total Tweets Analyzed: 500\n",
            "Analysis Period: 2024-01-01 00:00:00 to 2024-01-21 19:00:00\n",
            "\n",
            "SENTIMENT BREAKDOWN\n",
            "Positive: 40.0%\n",
            "Negative: 40.0%\n",
            "Neutral: 20.0%\n",
            "\n",
            "EMOTIONAL METRICS\n",
            "Average Polarity: -0.017 (Range: -1 to +1)\n",
            "Average Subjectivity: 0.491 (Range: 0 to 1)\n",
            "\n",
            "WORLD MOOD TEMPERATURE\n",
            "49.2/100\n",
            "\n",
            "INSIGHTS\n",
            "- The world is feeling more negative overall\n",
            "- Emotional expression is moderately subjective\n",
            "- Most common sentiment: Negative\n",
            "    \n"
          ]
        }
      ],
      "source": [
        "def export_results(df, summary):\n",
        "    \"\"\"Export analysis results\"\"\"\n",
        "    timestamp = datetime.now().strftime(\"%Y%m%d_%H%M%S\")\n",
        "\n",
        "    filename_data = f\"global_sentiment_data_{timestamp}.csv\"\n",
        "    df.to_csv(filename_data, index=False)\n",
        "    print(f\"Dataset exported: {filename_data}\")\n",
        "\n",
        "    filename_summary = f\"sentiment_summary_{timestamp}.json\"\n",
        "    with open(filename_summary, 'w') as f:\n",
        "        json.dump(summary, f, indent=2, default=str)\n",
        "    print(f\"Summary exported: {filename_summary}\")\n",
        "\n",
        "    report = f\"\"\"\n",
        "Mood of the World ANALYSIS REPORT\n",
        "Generated: {datetime.now().strftime(\"%Y-%m-%d %H:%M:%S\")}\n",
        "{'='*50}\n",
        "\n",
        "OVERVIEW\n",
        "Total Tweets Analyzed: {summary['total_tweets']:,}\n",
        "Analysis Period: {df['created_at'].min()} to {df['created_at'].max()}\n",
        "\n",
        "SENTIMENT BREAKDOWN\n",
        "Positive: {summary['positive_pct']:.1f}%\n",
        "Negative: {summary['negative_pct']:.1f}%\n",
        "Neutral: {summary['neutral_pct']:.1f}%\n",
        "\n",
        "EMOTIONAL METRICS\n",
        "Average Polarity: {summary['avg_polarity']:.3f} (Range: -1 to +1)\n",
        "Average Subjectivity: {summary['avg_subjectivity']:.3f} (Range: 0 to 1)\n",
        "\n",
        "WORLD MOOD TEMPERATURE\n",
        "{((summary['avg_polarity'] + 1) / 2) * 100:.1f}/100\n",
        "\n",
        "INSIGHTS\n",
        "- The world is feeling {'more positive' if summary['avg_polarity'] > 0 else 'more negative' if summary['avg_polarity'] < 0 else 'neutral'} overall\n",
        "- Emotional expression is {'highly subjective' if summary['avg_subjectivity'] > 0.6 else 'moderately subjective' if summary['avg_subjectivity'] > 0.3 else 'relatively objective'}\n",
        "- Most common sentiment: {df['sentiment'].mode().iloc[0]}\n",
        "    \"\"\"\n",
        "\n",
        "    filename_report = f\"mood_report_{timestamp}.txt\"\n",
        "    with open(filename_report, 'w') as f:\n",
        "        f.write(report)\n",
        "    print(f\"Report exported: {filename_report}\")\n",
        "\n",
        "    print(report)\n",
        "\n",
        "export_results(df_tweets, summary)"
      ]
    },
    {
      "cell_type": "markdown",
      "metadata": {
        "id": "ynO9mra2zuNK"
      },
      "source": [
        "# In this version the data fetching is working properly but due rate limit the data collection is stoped in middle\n",
        "## Step to solve this error\n",
        "* use paid API for the result\n",
        "* as the data collection is interupted , there is no proper sample data that's why graph is not displaying properly\n",
        "* a proper Mood of the world with the free API will be built on upcoming commit { code2.ipynb }"
      ]
    }
  ],
  "metadata": {
    "colab": {
      "provenance": []
    },
    "kernelspec": {
      "display_name": "Python 3",
      "name": "python3"
    },
    "language_info": {
      "name": "python"
    }
  },
  "nbformat": 4,
  "nbformat_minor": 0
}